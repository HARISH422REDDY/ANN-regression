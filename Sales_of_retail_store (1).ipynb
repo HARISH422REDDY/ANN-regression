{
  "cells": [
    {
      "cell_type": "markdown",
      "source": [
        "#Problem  statement : \n",
        "#predict the sales of retail stores "
      ],
      "metadata": {
        "id": "E8HUscl7_XEl"
      }
    },
    {
      "cell_type": "markdown",
      "source": [
        "#importing the libraries"
      ],
      "metadata": {
        "id": "SE20t8Zz_j3Z"
      }
    },
    {
      "cell_type": "code",
      "execution_count": null,
      "metadata": {
        "id": "ir14UEiBupt6"
      },
      "outputs": [],
      "source": [
        "import numpy as np\n",
        "import pandas as pd\n",
        "import matplotlib.pyplot as plt\n",
        "import seaborn as sns"
      ]
    },
    {
      "cell_type": "markdown",
      "source": [
        "#load the data"
      ],
      "metadata": {
        "id": "YW4l-mJ1_nzy"
      }
    },
    {
      "cell_type": "code",
      "execution_count": null,
      "metadata": {
        "colab": {
          "base_uri": "https://localhost:8080/"
        },
        "id": "6a-Upsl5vmC8",
        "outputId": "1d100a2c-557d-499a-f7ec-467bf323c0c7"
      },
      "outputs": [
        {
          "name": "stdout",
          "output_type": "stream",
          "text": [
            "(395000, 7)\n",
            "(59000, 4)\n",
            "(821, 2)\n",
            "(15500, 7)\n"
          ]
        }
      ],
      "source": [
        "file1=pd.read_csv(\"train_data.csv\")\n",
        "file2=pd.read_csv(\"product_prices.csv\")\n",
        "file3=pd.read_csv(\"date_to_week_id_map.csv\")\n",
        "test=pd.read_csv(\"test_data.csv\")\n",
        "\n",
        "print(file1.shape)\n",
        "print(file2.shape)\n",
        "print(file3.shape)\n",
        "print(test.shape)"
      ]
    },
    {
      "cell_type": "code",
      "execution_count": null,
      "metadata": {
        "colab": {
          "base_uri": "https://localhost:8080/",
          "height": 206
        },
        "id": "FfDRGotC24zZ",
        "outputId": "cf4c9678-d639-4925-8900-1cf86e603302"
      },
      "outputs": [
        {
          "data": {
            "text/html": [
              "<div>\n",
              "<style scoped>\n",
              "    .dataframe tbody tr th:only-of-type {\n",
              "        vertical-align: middle;\n",
              "    }\n",
              "\n",
              "    .dataframe tbody tr th {\n",
              "        vertical-align: top;\n",
              "    }\n",
              "\n",
              "    .dataframe thead th {\n",
              "        text-align: right;\n",
              "    }\n",
              "</style>\n",
              "<table border=\"1\" class=\"dataframe\">\n",
              "  <thead>\n",
              "    <tr style=\"text-align: right;\">\n",
              "      <th></th>\n",
              "      <th>date</th>\n",
              "      <th>product_identifier</th>\n",
              "      <th>department_identifier</th>\n",
              "      <th>category_of_product</th>\n",
              "      <th>outlet</th>\n",
              "      <th>state</th>\n",
              "      <th>sales</th>\n",
              "    </tr>\n",
              "  </thead>\n",
              "  <tbody>\n",
              "    <tr>\n",
              "      <th>0</th>\n",
              "      <td>2012-01-01</td>\n",
              "      <td>74</td>\n",
              "      <td>11</td>\n",
              "      <td>others</td>\n",
              "      <td>111</td>\n",
              "      <td>Maharashtra</td>\n",
              "      <td>0</td>\n",
              "    </tr>\n",
              "    <tr>\n",
              "      <th>1</th>\n",
              "      <td>2012-01-01</td>\n",
              "      <td>337</td>\n",
              "      <td>11</td>\n",
              "      <td>others</td>\n",
              "      <td>111</td>\n",
              "      <td>Maharashtra</td>\n",
              "      <td>1</td>\n",
              "    </tr>\n",
              "    <tr>\n",
              "      <th>2</th>\n",
              "      <td>2012-01-01</td>\n",
              "      <td>423</td>\n",
              "      <td>12</td>\n",
              "      <td>others</td>\n",
              "      <td>111</td>\n",
              "      <td>Maharashtra</td>\n",
              "      <td>0</td>\n",
              "    </tr>\n",
              "    <tr>\n",
              "      <th>3</th>\n",
              "      <td>2012-01-01</td>\n",
              "      <td>432</td>\n",
              "      <td>12</td>\n",
              "      <td>others</td>\n",
              "      <td>111</td>\n",
              "      <td>Maharashtra</td>\n",
              "      <td>0</td>\n",
              "    </tr>\n",
              "    <tr>\n",
              "      <th>4</th>\n",
              "      <td>2012-01-01</td>\n",
              "      <td>581</td>\n",
              "      <td>21</td>\n",
              "      <td>fast_moving_consumer_goods</td>\n",
              "      <td>111</td>\n",
              "      <td>Maharashtra</td>\n",
              "      <td>0</td>\n",
              "    </tr>\n",
              "  </tbody>\n",
              "</table>\n",
              "</div>"
            ],
            "text/plain": [
              "         date  product_identifier  department_identifier  \\\n",
              "0  2012-01-01                  74                     11   \n",
              "1  2012-01-01                 337                     11   \n",
              "2  2012-01-01                 423                     12   \n",
              "3  2012-01-01                 432                     12   \n",
              "4  2012-01-01                 581                     21   \n",
              "\n",
              "          category_of_product  outlet        state  sales  \n",
              "0                      others     111  Maharashtra      0  \n",
              "1                      others     111  Maharashtra      1  \n",
              "2                      others     111  Maharashtra      0  \n",
              "3                      others     111  Maharashtra      0  \n",
              "4  fast_moving_consumer_goods     111  Maharashtra      0  "
            ]
          },
          "execution_count": 111,
          "metadata": {},
          "output_type": "execute_result"
        }
      ],
      "source": [
        "file1.head()"
      ]
    },
    {
      "cell_type": "code",
      "execution_count": null,
      "metadata": {
        "colab": {
          "base_uri": "https://localhost:8080/",
          "height": 206
        },
        "id": "epQVo0US-ILB",
        "outputId": "9ab37c69-fd5c-4c52-a14b-6ea44a94998a"
      },
      "outputs": [
        {
          "data": {
            "text/html": [
              "<div>\n",
              "<style scoped>\n",
              "    .dataframe tbody tr th:only-of-type {\n",
              "        vertical-align: middle;\n",
              "    }\n",
              "\n",
              "    .dataframe tbody tr th {\n",
              "        vertical-align: top;\n",
              "    }\n",
              "\n",
              "    .dataframe thead th {\n",
              "        text-align: right;\n",
              "    }\n",
              "</style>\n",
              "<table border=\"1\" class=\"dataframe\">\n",
              "  <thead>\n",
              "    <tr style=\"text-align: right;\">\n",
              "      <th></th>\n",
              "      <th>outlet</th>\n",
              "      <th>product_identifier</th>\n",
              "      <th>week_id</th>\n",
              "      <th>sell_price</th>\n",
              "    </tr>\n",
              "  </thead>\n",
              "  <tbody>\n",
              "    <tr>\n",
              "      <th>0</th>\n",
              "      <td>111</td>\n",
              "      <td>74</td>\n",
              "      <td>49</td>\n",
              "      <td>2.94</td>\n",
              "    </tr>\n",
              "    <tr>\n",
              "      <th>1</th>\n",
              "      <td>111</td>\n",
              "      <td>74</td>\n",
              "      <td>50</td>\n",
              "      <td>2.94</td>\n",
              "    </tr>\n",
              "    <tr>\n",
              "      <th>2</th>\n",
              "      <td>111</td>\n",
              "      <td>74</td>\n",
              "      <td>51</td>\n",
              "      <td>2.94</td>\n",
              "    </tr>\n",
              "    <tr>\n",
              "      <th>3</th>\n",
              "      <td>111</td>\n",
              "      <td>74</td>\n",
              "      <td>52</td>\n",
              "      <td>2.94</td>\n",
              "    </tr>\n",
              "    <tr>\n",
              "      <th>4</th>\n",
              "      <td>111</td>\n",
              "      <td>74</td>\n",
              "      <td>53</td>\n",
              "      <td>2.94</td>\n",
              "    </tr>\n",
              "  </tbody>\n",
              "</table>\n",
              "</div>"
            ],
            "text/plain": [
              "   outlet  product_identifier  week_id  sell_price\n",
              "0     111                  74       49        2.94\n",
              "1     111                  74       50        2.94\n",
              "2     111                  74       51        2.94\n",
              "3     111                  74       52        2.94\n",
              "4     111                  74       53        2.94"
            ]
          },
          "execution_count": 112,
          "metadata": {},
          "output_type": "execute_result"
        }
      ],
      "source": [
        "file2.head()"
      ]
    },
    {
      "cell_type": "code",
      "execution_count": null,
      "metadata": {
        "colab": {
          "base_uri": "https://localhost:8080/",
          "height": 206
        },
        "id": "TOZ5nF_Z-L_z",
        "outputId": "e4c32974-d631-41e1-ad41-e2e3c6b8543b"
      },
      "outputs": [
        {
          "data": {
            "text/html": [
              "<div>\n",
              "<style scoped>\n",
              "    .dataframe tbody tr th:only-of-type {\n",
              "        vertical-align: middle;\n",
              "    }\n",
              "\n",
              "    .dataframe tbody tr th {\n",
              "        vertical-align: top;\n",
              "    }\n",
              "\n",
              "    .dataframe thead th {\n",
              "        text-align: right;\n",
              "    }\n",
              "</style>\n",
              "<table border=\"1\" class=\"dataframe\">\n",
              "  <thead>\n",
              "    <tr style=\"text-align: right;\">\n",
              "      <th></th>\n",
              "      <th>date</th>\n",
              "      <th>week_id</th>\n",
              "    </tr>\n",
              "  </thead>\n",
              "  <tbody>\n",
              "    <tr>\n",
              "      <th>0</th>\n",
              "      <td>2012-01-01</td>\n",
              "      <td>49</td>\n",
              "    </tr>\n",
              "    <tr>\n",
              "      <th>1</th>\n",
              "      <td>2012-01-02</td>\n",
              "      <td>49</td>\n",
              "    </tr>\n",
              "    <tr>\n",
              "      <th>2</th>\n",
              "      <td>2012-01-03</td>\n",
              "      <td>49</td>\n",
              "    </tr>\n",
              "    <tr>\n",
              "      <th>3</th>\n",
              "      <td>2012-01-04</td>\n",
              "      <td>49</td>\n",
              "    </tr>\n",
              "    <tr>\n",
              "      <th>4</th>\n",
              "      <td>2012-01-05</td>\n",
              "      <td>49</td>\n",
              "    </tr>\n",
              "  </tbody>\n",
              "</table>\n",
              "</div>"
            ],
            "text/plain": [
              "         date  week_id\n",
              "0  2012-01-01       49\n",
              "1  2012-01-02       49\n",
              "2  2012-01-03       49\n",
              "3  2012-01-04       49\n",
              "4  2012-01-05       49"
            ]
          },
          "execution_count": 113,
          "metadata": {},
          "output_type": "execute_result"
        }
      ],
      "source": [
        "file3.head()"
      ]
    },
    {
      "cell_type": "markdown",
      "source": [
        "merging the files by using the merge "
      ],
      "metadata": {
        "id": "uoHZ6C-U_9W5"
      }
    },
    {
      "cell_type": "code",
      "execution_count": null,
      "metadata": {
        "id": "xRleEUgx_IL9",
        "outputId": "9d0adbde-2c32-46ea-b786-9b09c6b38f8f"
      },
      "outputs": [
        {
          "data": {
            "text/html": [
              "<div>\n",
              "<style scoped>\n",
              "    .dataframe tbody tr th:only-of-type {\n",
              "        vertical-align: middle;\n",
              "    }\n",
              "\n",
              "    .dataframe tbody tr th {\n",
              "        vertical-align: top;\n",
              "    }\n",
              "\n",
              "    .dataframe thead th {\n",
              "        text-align: right;\n",
              "    }\n",
              "</style>\n",
              "<table border=\"1\" class=\"dataframe\">\n",
              "  <thead>\n",
              "    <tr style=\"text-align: right;\">\n",
              "      <th></th>\n",
              "      <th>outlet</th>\n",
              "      <th>product_identifier</th>\n",
              "      <th>week_id</th>\n",
              "      <th>sell_price</th>\n",
              "      <th>date</th>\n",
              "    </tr>\n",
              "  </thead>\n",
              "  <tbody>\n",
              "    <tr>\n",
              "      <th>0</th>\n",
              "      <td>111</td>\n",
              "      <td>74</td>\n",
              "      <td>49</td>\n",
              "      <td>2.94</td>\n",
              "      <td>2012-01-01</td>\n",
              "    </tr>\n",
              "    <tr>\n",
              "      <th>1</th>\n",
              "      <td>111</td>\n",
              "      <td>74</td>\n",
              "      <td>49</td>\n",
              "      <td>2.94</td>\n",
              "      <td>2012-01-02</td>\n",
              "    </tr>\n",
              "    <tr>\n",
              "      <th>2</th>\n",
              "      <td>111</td>\n",
              "      <td>74</td>\n",
              "      <td>49</td>\n",
              "      <td>2.94</td>\n",
              "      <td>2012-01-03</td>\n",
              "    </tr>\n",
              "    <tr>\n",
              "      <th>3</th>\n",
              "      <td>111</td>\n",
              "      <td>74</td>\n",
              "      <td>49</td>\n",
              "      <td>2.94</td>\n",
              "      <td>2012-01-04</td>\n",
              "    </tr>\n",
              "    <tr>\n",
              "      <th>4</th>\n",
              "      <td>111</td>\n",
              "      <td>74</td>\n",
              "      <td>49</td>\n",
              "      <td>2.94</td>\n",
              "      <td>2012-01-05</td>\n",
              "    </tr>\n",
              "  </tbody>\n",
              "</table>\n",
              "</div>"
            ],
            "text/plain": [
              "   outlet  product_identifier  week_id  sell_price       date\n",
              "0     111                  74       49        2.94 2012-01-01\n",
              "1     111                  74       49        2.94 2012-01-02\n",
              "2     111                  74       49        2.94 2012-01-03\n",
              "3     111                  74       49        2.94 2012-01-04\n",
              "4     111                  74       49        2.94 2012-01-05"
            ]
          },
          "execution_count": 115,
          "metadata": {},
          "output_type": "execute_result"
        }
      ],
      "source": [
        "df_1=file2.merge(file3,on='week_id', how='inner') # merging df_1 and file3 based on id\n",
        "df_1.head()"
      ]
    },
    {
      "cell_type": "code",
      "execution_count": null,
      "metadata": {
        "id": "fiNwgXqd_IL_",
        "outputId": "7e289e05-16ed-41c2-e26e-f0ab956ee67e"
      },
      "outputs": [
        {
          "data": {
            "text/plain": [
              "(410500, 5)"
            ]
          },
          "execution_count": 116,
          "metadata": {},
          "output_type": "execute_result"
        }
      ],
      "source": [
        "df_1.shape"
      ]
    },
    {
      "cell_type": "code",
      "execution_count": null,
      "metadata": {
        "id": "dRcwlZty-PWK",
        "outputId": "554263e9-a397-4065-e829-9257dabca0f4"
      },
      "outputs": [
        {
          "data": {
            "text/html": [
              "<div>\n",
              "<style scoped>\n",
              "    .dataframe tbody tr th:only-of-type {\n",
              "        vertical-align: middle;\n",
              "    }\n",
              "\n",
              "    .dataframe tbody tr th {\n",
              "        vertical-align: top;\n",
              "    }\n",
              "\n",
              "    .dataframe thead th {\n",
              "        text-align: right;\n",
              "    }\n",
              "</style>\n",
              "<table border=\"1\" class=\"dataframe\">\n",
              "  <thead>\n",
              "    <tr style=\"text-align: right;\">\n",
              "      <th></th>\n",
              "      <th>outlet</th>\n",
              "      <th>product_identifier</th>\n",
              "      <th>week_id</th>\n",
              "      <th>sell_price</th>\n",
              "      <th>date</th>\n",
              "      <th>department_identifier</th>\n",
              "      <th>category_of_product</th>\n",
              "      <th>state</th>\n",
              "      <th>sales</th>\n",
              "    </tr>\n",
              "  </thead>\n",
              "  <tbody>\n",
              "    <tr>\n",
              "      <th>0</th>\n",
              "      <td>111</td>\n",
              "      <td>74</td>\n",
              "      <td>49</td>\n",
              "      <td>2.94</td>\n",
              "      <td>2012-01-01</td>\n",
              "      <td>11</td>\n",
              "      <td>others</td>\n",
              "      <td>Maharashtra</td>\n",
              "      <td>0</td>\n",
              "    </tr>\n",
              "    <tr>\n",
              "      <th>1</th>\n",
              "      <td>111</td>\n",
              "      <td>74</td>\n",
              "      <td>49</td>\n",
              "      <td>2.94</td>\n",
              "      <td>2012-01-02</td>\n",
              "      <td>11</td>\n",
              "      <td>others</td>\n",
              "      <td>Maharashtra</td>\n",
              "      <td>0</td>\n",
              "    </tr>\n",
              "    <tr>\n",
              "      <th>2</th>\n",
              "      <td>111</td>\n",
              "      <td>74</td>\n",
              "      <td>49</td>\n",
              "      <td>2.94</td>\n",
              "      <td>2012-01-03</td>\n",
              "      <td>11</td>\n",
              "      <td>others</td>\n",
              "      <td>Maharashtra</td>\n",
              "      <td>1</td>\n",
              "    </tr>\n",
              "    <tr>\n",
              "      <th>3</th>\n",
              "      <td>111</td>\n",
              "      <td>74</td>\n",
              "      <td>49</td>\n",
              "      <td>2.94</td>\n",
              "      <td>2012-01-04</td>\n",
              "      <td>11</td>\n",
              "      <td>others</td>\n",
              "      <td>Maharashtra</td>\n",
              "      <td>0</td>\n",
              "    </tr>\n",
              "    <tr>\n",
              "      <th>4</th>\n",
              "      <td>111</td>\n",
              "      <td>74</td>\n",
              "      <td>49</td>\n",
              "      <td>2.94</td>\n",
              "      <td>2012-01-05</td>\n",
              "      <td>11</td>\n",
              "      <td>others</td>\n",
              "      <td>Maharashtra</td>\n",
              "      <td>0</td>\n",
              "    </tr>\n",
              "  </tbody>\n",
              "</table>\n",
              "</div>"
            ],
            "text/plain": [
              "   outlet  product_identifier  week_id  sell_price       date  \\\n",
              "0     111                  74       49        2.94 2012-01-01   \n",
              "1     111                  74       49        2.94 2012-01-02   \n",
              "2     111                  74       49        2.94 2012-01-03   \n",
              "3     111                  74       49        2.94 2012-01-04   \n",
              "4     111                  74       49        2.94 2012-01-05   \n",
              "\n",
              "   department_identifier category_of_product        state  sales  \n",
              "0                     11              others  Maharashtra      0  \n",
              "1                     11              others  Maharashtra      0  \n",
              "2                     11              others  Maharashtra      1  \n",
              "3                     11              others  Maharashtra      0  \n",
              "4                     11              others  Maharashtra      0  "
            ]
          },
          "execution_count": 117,
          "metadata": {},
          "output_type": "execute_result"
        }
      ],
      "source": [
        "df=df_1.merge(file1,on=['date','product_identifier','outlet'], how='inner') # merging file1 and file2 based on outlet\n",
        "df.head()"
      ]
    },
    {
      "cell_type": "code",
      "execution_count": null,
      "metadata": {
        "id": "dS2AjX8j_IMC",
        "outputId": "5caff518-2816-46cd-d2be-40f356af199c"
      },
      "outputs": [
        {
          "data": {
            "text/plain": [
              "(395000, 9)"
            ]
          },
          "execution_count": 118,
          "metadata": {},
          "output_type": "execute_result"
        }
      ],
      "source": [
        "df.shape"
      ]
    },
    {
      "cell_type": "code",
      "execution_count": null,
      "metadata": {
        "colab": {
          "base_uri": "https://localhost:8080/"
        },
        "id": "3OFLsDEF_yDL",
        "outputId": "731fd7ed-4505-4221-8d17-6404e72e54b1"
      },
      "outputs": [
        {
          "data": {
            "text/plain": [
              "outlet                   0\n",
              "product_identifier       0\n",
              "week_id                  0\n",
              "sell_price               0\n",
              "date                     0\n",
              "department_identifier    0\n",
              "category_of_product      0\n",
              "state                    0\n",
              "sales                    0\n",
              "dtype: int64"
            ]
          },
          "execution_count": 119,
          "metadata": {},
          "output_type": "execute_result"
        }
      ],
      "source": [
        "df.isnull().sum()"
      ]
    },
    {
      "cell_type": "code",
      "execution_count": null,
      "metadata": {
        "id": "4AgjSqcCdpVr",
        "outputId": "b778b58f-33ef-442e-de03-1559282cb57e"
      },
      "outputs": [
        {
          "data": {
            "text/html": [
              "<div>\n",
              "<style scoped>\n",
              "    .dataframe tbody tr th:only-of-type {\n",
              "        vertical-align: middle;\n",
              "    }\n",
              "\n",
              "    .dataframe tbody tr th {\n",
              "        vertical-align: top;\n",
              "    }\n",
              "\n",
              "    .dataframe thead th {\n",
              "        text-align: right;\n",
              "    }\n",
              "</style>\n",
              "<table border=\"1\" class=\"dataframe\">\n",
              "  <thead>\n",
              "    <tr style=\"text-align: right;\">\n",
              "      <th></th>\n",
              "      <th>outlet</th>\n",
              "      <th>product_identifier</th>\n",
              "      <th>week_id</th>\n",
              "      <th>sell_price</th>\n",
              "      <th>date</th>\n",
              "      <th>department_identifier</th>\n",
              "      <th>category_of_product</th>\n",
              "      <th>state</th>\n",
              "      <th>sales</th>\n",
              "      <th>year</th>\n",
              "      <th>month</th>\n",
              "      <th>day</th>\n",
              "    </tr>\n",
              "  </thead>\n",
              "  <tbody>\n",
              "    <tr>\n",
              "      <th>0</th>\n",
              "      <td>111</td>\n",
              "      <td>74</td>\n",
              "      <td>49</td>\n",
              "      <td>2.94</td>\n",
              "      <td>2012-01-01</td>\n",
              "      <td>11</td>\n",
              "      <td>others</td>\n",
              "      <td>Maharashtra</td>\n",
              "      <td>0</td>\n",
              "      <td>2012</td>\n",
              "      <td>1</td>\n",
              "      <td>1</td>\n",
              "    </tr>\n",
              "    <tr>\n",
              "      <th>1</th>\n",
              "      <td>111</td>\n",
              "      <td>74</td>\n",
              "      <td>49</td>\n",
              "      <td>2.94</td>\n",
              "      <td>2012-01-02</td>\n",
              "      <td>11</td>\n",
              "      <td>others</td>\n",
              "      <td>Maharashtra</td>\n",
              "      <td>0</td>\n",
              "      <td>2012</td>\n",
              "      <td>1</td>\n",
              "      <td>2</td>\n",
              "    </tr>\n",
              "    <tr>\n",
              "      <th>2</th>\n",
              "      <td>111</td>\n",
              "      <td>74</td>\n",
              "      <td>49</td>\n",
              "      <td>2.94</td>\n",
              "      <td>2012-01-03</td>\n",
              "      <td>11</td>\n",
              "      <td>others</td>\n",
              "      <td>Maharashtra</td>\n",
              "      <td>1</td>\n",
              "      <td>2012</td>\n",
              "      <td>1</td>\n",
              "      <td>3</td>\n",
              "    </tr>\n",
              "    <tr>\n",
              "      <th>3</th>\n",
              "      <td>111</td>\n",
              "      <td>74</td>\n",
              "      <td>49</td>\n",
              "      <td>2.94</td>\n",
              "      <td>2012-01-04</td>\n",
              "      <td>11</td>\n",
              "      <td>others</td>\n",
              "      <td>Maharashtra</td>\n",
              "      <td>0</td>\n",
              "      <td>2012</td>\n",
              "      <td>1</td>\n",
              "      <td>4</td>\n",
              "    </tr>\n",
              "    <tr>\n",
              "      <th>4</th>\n",
              "      <td>111</td>\n",
              "      <td>74</td>\n",
              "      <td>49</td>\n",
              "      <td>2.94</td>\n",
              "      <td>2012-01-05</td>\n",
              "      <td>11</td>\n",
              "      <td>others</td>\n",
              "      <td>Maharashtra</td>\n",
              "      <td>0</td>\n",
              "      <td>2012</td>\n",
              "      <td>1</td>\n",
              "      <td>5</td>\n",
              "    </tr>\n",
              "  </tbody>\n",
              "</table>\n",
              "</div>"
            ],
            "text/plain": [
              "   outlet  product_identifier  week_id  sell_price       date  \\\n",
              "0     111                  74       49        2.94 2012-01-01   \n",
              "1     111                  74       49        2.94 2012-01-02   \n",
              "2     111                  74       49        2.94 2012-01-03   \n",
              "3     111                  74       49        2.94 2012-01-04   \n",
              "4     111                  74       49        2.94 2012-01-05   \n",
              "\n",
              "   department_identifier category_of_product        state  sales  year  month  \\\n",
              "0                     11              others  Maharashtra      0  2012      1   \n",
              "1                     11              others  Maharashtra      0  2012      1   \n",
              "2                     11              others  Maharashtra      1  2012      1   \n",
              "3                     11              others  Maharashtra      0  2012      1   \n",
              "4                     11              others  Maharashtra      0  2012      1   \n",
              "\n",
              "   day  \n",
              "0    1  \n",
              "1    2  \n",
              "2    3  \n",
              "3    4  \n",
              "4    5  "
            ]
          },
          "execution_count": 120,
          "metadata": {},
          "output_type": "execute_result"
        }
      ],
      "source": [
        "df['date'] = pd.to_datetime(df['date'],infer_datetime_format=True)# changing data dtype to datatime64\n",
        "df['year'] = df['date'].dt.year\n",
        "df['month'] = df['date'].dt.month\n",
        "df['day'] = df['date'].dt.day\n",
        "\n",
        "df.head()"
      ]
    },
    {
      "cell_type": "code",
      "execution_count": null,
      "metadata": {
        "id": "vLqm4RIX_IMI",
        "outputId": "cf090aab-f1f3-4ee1-d8ac-d5e6d08a3188"
      },
      "outputs": [
        {
          "data": {
            "text/html": [
              "<div>\n",
              "<style scoped>\n",
              "    .dataframe tbody tr th:only-of-type {\n",
              "        vertical-align: middle;\n",
              "    }\n",
              "\n",
              "    .dataframe tbody tr th {\n",
              "        vertical-align: top;\n",
              "    }\n",
              "\n",
              "    .dataframe thead th {\n",
              "        text-align: right;\n",
              "    }\n",
              "</style>\n",
              "<table border=\"1\" class=\"dataframe\">\n",
              "  <thead>\n",
              "    <tr style=\"text-align: right;\">\n",
              "      <th></th>\n",
              "      <th>outlet</th>\n",
              "      <th>product_identifier</th>\n",
              "      <th>week_id</th>\n",
              "      <th>sell_price</th>\n",
              "      <th>department_identifier</th>\n",
              "      <th>category_of_product</th>\n",
              "      <th>state</th>\n",
              "      <th>sales</th>\n",
              "      <th>year</th>\n",
              "      <th>month</th>\n",
              "      <th>day</th>\n",
              "    </tr>\n",
              "  </thead>\n",
              "  <tbody>\n",
              "    <tr>\n",
              "      <th>0</th>\n",
              "      <td>111</td>\n",
              "      <td>74</td>\n",
              "      <td>49</td>\n",
              "      <td>2.94</td>\n",
              "      <td>11</td>\n",
              "      <td>others</td>\n",
              "      <td>Maharashtra</td>\n",
              "      <td>0</td>\n",
              "      <td>2012</td>\n",
              "      <td>1</td>\n",
              "      <td>1</td>\n",
              "    </tr>\n",
              "    <tr>\n",
              "      <th>1</th>\n",
              "      <td>111</td>\n",
              "      <td>74</td>\n",
              "      <td>49</td>\n",
              "      <td>2.94</td>\n",
              "      <td>11</td>\n",
              "      <td>others</td>\n",
              "      <td>Maharashtra</td>\n",
              "      <td>0</td>\n",
              "      <td>2012</td>\n",
              "      <td>1</td>\n",
              "      <td>2</td>\n",
              "    </tr>\n",
              "    <tr>\n",
              "      <th>2</th>\n",
              "      <td>111</td>\n",
              "      <td>74</td>\n",
              "      <td>49</td>\n",
              "      <td>2.94</td>\n",
              "      <td>11</td>\n",
              "      <td>others</td>\n",
              "      <td>Maharashtra</td>\n",
              "      <td>1</td>\n",
              "      <td>2012</td>\n",
              "      <td>1</td>\n",
              "      <td>3</td>\n",
              "    </tr>\n",
              "    <tr>\n",
              "      <th>3</th>\n",
              "      <td>111</td>\n",
              "      <td>74</td>\n",
              "      <td>49</td>\n",
              "      <td>2.94</td>\n",
              "      <td>11</td>\n",
              "      <td>others</td>\n",
              "      <td>Maharashtra</td>\n",
              "      <td>0</td>\n",
              "      <td>2012</td>\n",
              "      <td>1</td>\n",
              "      <td>4</td>\n",
              "    </tr>\n",
              "    <tr>\n",
              "      <th>4</th>\n",
              "      <td>111</td>\n",
              "      <td>74</td>\n",
              "      <td>49</td>\n",
              "      <td>2.94</td>\n",
              "      <td>11</td>\n",
              "      <td>others</td>\n",
              "      <td>Maharashtra</td>\n",
              "      <td>0</td>\n",
              "      <td>2012</td>\n",
              "      <td>1</td>\n",
              "      <td>5</td>\n",
              "    </tr>\n",
              "  </tbody>\n",
              "</table>\n",
              "</div>"
            ],
            "text/plain": [
              "   outlet  product_identifier  week_id  sell_price  department_identifier  \\\n",
              "0     111                  74       49        2.94                     11   \n",
              "1     111                  74       49        2.94                     11   \n",
              "2     111                  74       49        2.94                     11   \n",
              "3     111                  74       49        2.94                     11   \n",
              "4     111                  74       49        2.94                     11   \n",
              "\n",
              "  category_of_product        state  sales  year  month  day  \n",
              "0              others  Maharashtra      0  2012      1    1  \n",
              "1              others  Maharashtra      0  2012      1    2  \n",
              "2              others  Maharashtra      1  2012      1    3  \n",
              "3              others  Maharashtra      0  2012      1    4  \n",
              "4              others  Maharashtra      0  2012      1    5  "
            ]
          },
          "execution_count": 121,
          "metadata": {},
          "output_type": "execute_result"
        }
      ],
      "source": [
        "df=df.drop('date',axis=1)\n",
        "df.head()"
      ]
    },
    {
      "cell_type": "code",
      "execution_count": null,
      "metadata": {
        "colab": {
          "base_uri": "https://localhost:8080/"
        },
        "id": "QyjfXdcpfa-s",
        "outputId": "61f643d1-350b-4b72-c34e-d22201f2beb1"
      },
      "outputs": [
        {
          "name": "stdout",
          "output_type": "stream",
          "text": [
            "<class 'pandas.core.frame.DataFrame'>\n",
            "Int64Index: 395000 entries, 0 to 394999\n",
            "Data columns (total 11 columns):\n",
            " #   Column                 Non-Null Count   Dtype  \n",
            "---  ------                 --------------   -----  \n",
            " 0   outlet                 395000 non-null  int64  \n",
            " 1   product_identifier     395000 non-null  int64  \n",
            " 2   week_id                395000 non-null  int64  \n",
            " 3   sell_price             395000 non-null  float64\n",
            " 4   department_identifier  395000 non-null  int64  \n",
            " 5   category_of_product    395000 non-null  object \n",
            " 6   state                  395000 non-null  object \n",
            " 7   sales                  395000 non-null  int64  \n",
            " 8   year                   395000 non-null  int64  \n",
            " 9   month                  395000 non-null  int64  \n",
            " 10  day                    395000 non-null  int64  \n",
            "dtypes: float64(1), int64(8), object(2)\n",
            "memory usage: 36.2+ MB\n"
          ]
        }
      ],
      "source": [
        "df.info()"
      ]
    },
    {
      "cell_type": "code",
      "execution_count": null,
      "metadata": {
        "colab": {
          "base_uri": "https://localhost:8080/",
          "height": 382
        },
        "id": "Pv6s5orvgyTg",
        "outputId": "2b75e074-5ff3-4ef3-e13f-ea1f49de138a"
      },
      "outputs": [
        {
          "data": {
            "text/html": [
              "<div>\n",
              "<style scoped>\n",
              "    .dataframe tbody tr th:only-of-type {\n",
              "        vertical-align: middle;\n",
              "    }\n",
              "\n",
              "    .dataframe tbody tr th {\n",
              "        vertical-align: top;\n",
              "    }\n",
              "\n",
              "    .dataframe thead th {\n",
              "        text-align: right;\n",
              "    }\n",
              "</style>\n",
              "<table border=\"1\" class=\"dataframe\">\n",
              "  <thead>\n",
              "    <tr style=\"text-align: right;\">\n",
              "      <th></th>\n",
              "      <th>outlet</th>\n",
              "      <th>product_identifier</th>\n",
              "      <th>week_id</th>\n",
              "      <th>sell_price</th>\n",
              "      <th>department_identifier</th>\n",
              "      <th>sales</th>\n",
              "      <th>year</th>\n",
              "      <th>month</th>\n",
              "      <th>day</th>\n",
              "    </tr>\n",
              "  </thead>\n",
              "  <tbody>\n",
              "    <tr>\n",
              "      <th>count</th>\n",
              "      <td>395000.000000</td>\n",
              "      <td>395000.000000</td>\n",
              "      <td>395000.000000</td>\n",
              "      <td>395000.000000</td>\n",
              "      <td>395000.000000</td>\n",
              "      <td>395000.000000</td>\n",
              "      <td>395000.000000</td>\n",
              "      <td>395000.000000</td>\n",
              "      <td>395000.000000</td>\n",
              "    </tr>\n",
              "    <tr>\n",
              "      <th>mean</th>\n",
              "      <td>211.200000</td>\n",
              "      <td>1509.960000</td>\n",
              "      <td>105.070886</td>\n",
              "      <td>4.987644</td>\n",
              "      <td>24.460000</td>\n",
              "      <td>1.228919</td>\n",
              "      <td>2012.611392</td>\n",
              "      <td>6.143038</td>\n",
              "      <td>15.705063</td>\n",
              "    </tr>\n",
              "    <tr>\n",
              "      <th>std</th>\n",
              "      <td>91.161291</td>\n",
              "      <td>809.799518</td>\n",
              "      <td>32.578749</td>\n",
              "      <td>3.874444</td>\n",
              "      <td>6.337863</td>\n",
              "      <td>3.595266</td>\n",
              "      <td>0.622061</td>\n",
              "      <td>3.576092</td>\n",
              "      <td>8.787969</td>\n",
              "    </tr>\n",
              "    <tr>\n",
              "      <th>min</th>\n",
              "      <td>111.000000</td>\n",
              "      <td>74.000000</td>\n",
              "      <td>49.000000</td>\n",
              "      <td>0.050000</td>\n",
              "      <td>11.000000</td>\n",
              "      <td>0.000000</td>\n",
              "      <td>2012.000000</td>\n",
              "      <td>1.000000</td>\n",
              "      <td>1.000000</td>\n",
              "    </tr>\n",
              "    <tr>\n",
              "      <th>25%</th>\n",
              "      <td>113.000000</td>\n",
              "      <td>926.000000</td>\n",
              "      <td>77.000000</td>\n",
              "      <td>2.680000</td>\n",
              "      <td>21.000000</td>\n",
              "      <td>0.000000</td>\n",
              "      <td>2012.000000</td>\n",
              "      <td>3.000000</td>\n",
              "      <td>8.000000</td>\n",
              "    </tr>\n",
              "    <tr>\n",
              "      <th>50%</th>\n",
              "      <td>221.500000</td>\n",
              "      <td>1325.000000</td>\n",
              "      <td>105.000000</td>\n",
              "      <td>3.980000</td>\n",
              "      <td>22.000000</td>\n",
              "      <td>0.000000</td>\n",
              "      <td>2013.000000</td>\n",
              "      <td>6.000000</td>\n",
              "      <td>16.000000</td>\n",
              "    </tr>\n",
              "    <tr>\n",
              "      <th>75%</th>\n",
              "      <td>331.000000</td>\n",
              "      <td>1753.000000</td>\n",
              "      <td>133.000000</td>\n",
              "      <td>6.480000</td>\n",
              "      <td>31.000000</td>\n",
              "      <td>1.000000</td>\n",
              "      <td>2013.000000</td>\n",
              "      <td>9.000000</td>\n",
              "      <td>23.000000</td>\n",
              "    </tr>\n",
              "    <tr>\n",
              "      <th>max</th>\n",
              "      <td>333.000000</td>\n",
              "      <td>3021.000000</td>\n",
              "      <td>161.000000</td>\n",
              "      <td>44.360000</td>\n",
              "      <td>33.000000</td>\n",
              "      <td>293.000000</td>\n",
              "      <td>2014.000000</td>\n",
              "      <td>12.000000</td>\n",
              "      <td>31.000000</td>\n",
              "    </tr>\n",
              "  </tbody>\n",
              "</table>\n",
              "</div>"
            ],
            "text/plain": [
              "              outlet  product_identifier        week_id     sell_price  \\\n",
              "count  395000.000000       395000.000000  395000.000000  395000.000000   \n",
              "mean      211.200000         1509.960000     105.070886       4.987644   \n",
              "std        91.161291          809.799518      32.578749       3.874444   \n",
              "min       111.000000           74.000000      49.000000       0.050000   \n",
              "25%       113.000000          926.000000      77.000000       2.680000   \n",
              "50%       221.500000         1325.000000     105.000000       3.980000   \n",
              "75%       331.000000         1753.000000     133.000000       6.480000   \n",
              "max       333.000000         3021.000000     161.000000      44.360000   \n",
              "\n",
              "       department_identifier          sales           year          month  \\\n",
              "count          395000.000000  395000.000000  395000.000000  395000.000000   \n",
              "mean               24.460000       1.228919    2012.611392       6.143038   \n",
              "std                 6.337863       3.595266       0.622061       3.576092   \n",
              "min                11.000000       0.000000    2012.000000       1.000000   \n",
              "25%                21.000000       0.000000    2012.000000       3.000000   \n",
              "50%                22.000000       0.000000    2013.000000       6.000000   \n",
              "75%                31.000000       1.000000    2013.000000       9.000000   \n",
              "max                33.000000     293.000000    2014.000000      12.000000   \n",
              "\n",
              "                 day  \n",
              "count  395000.000000  \n",
              "mean       15.705063  \n",
              "std         8.787969  \n",
              "min         1.000000  \n",
              "25%         8.000000  \n",
              "50%        16.000000  \n",
              "75%        23.000000  \n",
              "max        31.000000  "
            ]
          },
          "execution_count": 123,
          "metadata": {},
          "output_type": "execute_result"
        }
      ],
      "source": [
        "df.describe()"
      ]
    },
    {
      "cell_type": "code",
      "execution_count": null,
      "metadata": {
        "colab": {
          "base_uri": "https://localhost:8080/"
        },
        "id": "tZL0h67GhDXP",
        "outputId": "91cb5ff4-c50b-4183-9dd6-6e42ecbef3dd"
      },
      "outputs": [
        {
          "data": {
            "text/plain": [
              "(395000, 11)"
            ]
          },
          "execution_count": 124,
          "metadata": {},
          "output_type": "execute_result"
        }
      ],
      "source": [
        "df.shape"
      ]
    },
    {
      "cell_type": "code",
      "execution_count": null,
      "metadata": {
        "colab": {
          "base_uri": "https://localhost:8080/",
          "height": 729
        },
        "id": "NpTQP38bhtba",
        "outputId": "f6486141-21f3-41a6-abec-c9dcbd3423dd"
      },
      "outputs": [
        {
          "data": {
            "image/png": "[encoded data removed]",
            "text/plain": [
              "<Figure size 3600x3600 with 25 Axes>"
            ]
          },
          "metadata": {
            "needs_background": "light"
          },
          "output_type": "display_data"
        }
      ],
      "source": [
        "df.plot(kind='box',subplots=True,layout=(5,5),figsize=(50,50))\n",
        "plt.show()"
      ]
    },
    {
      "cell_type": "code",
      "execution_count": null,
      "metadata": {
        "colab": {
          "base_uri": "https://localhost:8080/",
          "height": 729
        },
        "id": "fg5Dph7wiBg8",
        "outputId": "d3ae0555-a5be-4030-8531-ea13ef7a7df4"
      },
      "outputs": [
        {
          "data": {
            "image/png": "[encoded data removed]",
            "text/plain": [
              "<Figure size 3600x3600 with 25 Axes>"
            ]
          },
          "metadata": {
            "needs_background": "light"
          },
          "output_type": "display_data"
        }
      ],
      "source": [
        "#Removing the outliers\n",
        "cols=['sell_price']\n",
        "q1=df[cols].quantile(0.25)\n",
        "q3=df[cols].quantile(0.75)\n",
        "iqr=q3-q1\n",
        "df_box=df[~((df[cols]<(q1 -1.5*iqr)) |(df[cols]>(q3 +1.5*iqr))).any(axis=1)]\n",
        "df_box.plot(kind='box',subplots=True,layout=(5,5),figsize=(50,50))\n",
        "plt.show()"
      ]
    },
    {
      "cell_type": "code",
      "execution_count": null,
      "metadata": {
        "colab": {
          "base_uri": "https://localhost:8080/",
          "height": 691
        },
        "id": "DrqWo0LjmqUB",
        "outputId": "18c61147-ae4a-4cf1-acca-24c30552ccb5"
      },
      "outputs": [
        {
          "data": {
            "text/plain": [
              "<matplotlib.axes._subplots.AxesSubplot at 0x7feef0dbbb10>"
            ]
          },
          "execution_count": 127,
          "metadata": {},
          "output_type": "execute_result"
        },
        {
          "data": {
            "image/png": "[encoded data removed]",
            "text/plain": [
              "<Figure size 576x576 with 2 Axes>"
            ]
          },
          "metadata": {
            "needs_background": "light"
          },
          "output_type": "display_data"
        }
      ],
      "source": [
        "#correlation matrix\n",
        "\n",
        "import seaborn as sns\n",
        "plt.figure(figsize=(8,8))\n",
        "plt.title('Correlation Matrix',fontsize=15)\n",
        "\n",
        "sns.heatmap(df.corr(), annot=True, cmap='coolwarm')"
      ]
    },
    {
      "cell_type": "code",
      "execution_count": null,
      "metadata": {
        "id": "lVDNbDOJ_IMP",
        "outputId": "720a2565-a685-4cb5-fb93-337beee69a75"
      },
      "outputs": [
        {
          "data": {
            "text/plain": [
              "Maharashtra    158000\n",
              "Telangana      118500\n",
              "Kerala         118500\n",
              "Name: state, dtype: int64"
            ]
          },
          "execution_count": 128,
          "metadata": {},
          "output_type": "execute_result"
        }
      ],
      "source": [
        "df['state'].value_counts()"
      ]
    },
    {
      "cell_type": "code",
      "execution_count": null,
      "metadata": {
        "id": "8uSpEfhT_IMQ",
        "outputId": "97876dd1-62c4-43a6-ef51-cf867179c93e"
      },
      "outputs": [
        {
          "data": {
            "text/plain": [
              "fast_moving_consumer_goods    229100\n",
              "drinks_and_food               134300\n",
              "others                         31600\n",
              "Name: category_of_product, dtype: int64"
            ]
          },
          "execution_count": 129,
          "metadata": {},
          "output_type": "execute_result"
        }
      ],
      "source": [
        "df['category_of_product'].value_counts()"
      ]
    },
    {
      "cell_type": "markdown",
      "source": [
        "converting the categorical to numerical data by using get dummies"
      ],
      "metadata": {
        "id": "G0Sbv-KRAaEH"
      }
    },
    {
      "cell_type": "code",
      "execution_count": null,
      "metadata": {
        "id": "CL2RWQ-B_IMR"
      },
      "outputs": [],
      "source": [
        "df= pd.get_dummies(df, columns=['state','category_of_product'])"
      ]
    },
    {
      "cell_type": "code",
      "execution_count": null,
      "metadata": {
        "id": "jv7NQgFs_IMR",
        "outputId": "6d6ca625-2b51-443f-a9f5-1d9da2e8e7d4"
      },
      "outputs": [
        {
          "data": {
            "text/plain": [
              "(395000, 15)"
            ]
          },
          "execution_count": 131,
          "metadata": {},
          "output_type": "execute_result"
        }
      ],
      "source": [
        "df.shape"
      ]
    },
    {
      "cell_type": "code",
      "execution_count": null,
      "metadata": {
        "id": "MEvbXOOO_IMT",
        "outputId": "6a648193-7563-4894-eddd-9526822e6c29"
      },
      "outputs": [
        {
          "data": {
            "text/html": [
              "<div>\n",
              "<style scoped>\n",
              "    .dataframe tbody tr th:only-of-type {\n",
              "        vertical-align: middle;\n",
              "    }\n",
              "\n",
              "    .dataframe tbody tr th {\n",
              "        vertical-align: top;\n",
              "    }\n",
              "\n",
              "    .dataframe thead th {\n",
              "        text-align: right;\n",
              "    }\n",
              "</style>\n",
              "<table border=\"1\" class=\"dataframe\">\n",
              "  <thead>\n",
              "    <tr style=\"text-align: right;\">\n",
              "      <th></th>\n",
              "      <th>outlet</th>\n",
              "      <th>product_identifier</th>\n",
              "      <th>week_id</th>\n",
              "      <th>sell_price</th>\n",
              "      <th>department_identifier</th>\n",
              "      <th>sales</th>\n",
              "      <th>year</th>\n",
              "      <th>month</th>\n",
              "      <th>day</th>\n",
              "      <th>state_Kerala</th>\n",
              "      <th>state_Maharashtra</th>\n",
              "      <th>state_Telangana</th>\n",
              "      <th>category_of_product_drinks_and_food</th>\n",
              "      <th>category_of_product_fast_moving_consumer_goods</th>\n",
              "      <th>category_of_product_others</th>\n",
              "    </tr>\n",
              "  </thead>\n",
              "  <tbody>\n",
              "    <tr>\n",
              "      <th>0</th>\n",
              "      <td>111</td>\n",
              "      <td>74</td>\n",
              "      <td>49</td>\n",
              "      <td>2.94</td>\n",
              "      <td>11</td>\n",
              "      <td>0</td>\n",
              "      <td>2012</td>\n",
              "      <td>1</td>\n",
              "      <td>1</td>\n",
              "      <td>0</td>\n",
              "      <td>1</td>\n",
              "      <td>0</td>\n",
              "      <td>0</td>\n",
              "      <td>0</td>\n",
              "      <td>1</td>\n",
              "    </tr>\n",
              "    <tr>\n",
              "      <th>1</th>\n",
              "      <td>111</td>\n",
              "      <td>74</td>\n",
              "      <td>49</td>\n",
              "      <td>2.94</td>\n",
              "      <td>11</td>\n",
              "      <td>0</td>\n",
              "      <td>2012</td>\n",
              "      <td>1</td>\n",
              "      <td>2</td>\n",
              "      <td>0</td>\n",
              "      <td>1</td>\n",
              "      <td>0</td>\n",
              "      <td>0</td>\n",
              "      <td>0</td>\n",
              "      <td>1</td>\n",
              "    </tr>\n",
              "    <tr>\n",
              "      <th>2</th>\n",
              "      <td>111</td>\n",
              "      <td>74</td>\n",
              "      <td>49</td>\n",
              "      <td>2.94</td>\n",
              "      <td>11</td>\n",
              "      <td>1</td>\n",
              "      <td>2012</td>\n",
              "      <td>1</td>\n",
              "      <td>3</td>\n",
              "      <td>0</td>\n",
              "      <td>1</td>\n",
              "      <td>0</td>\n",
              "      <td>0</td>\n",
              "      <td>0</td>\n",
              "      <td>1</td>\n",
              "    </tr>\n",
              "    <tr>\n",
              "      <th>3</th>\n",
              "      <td>111</td>\n",
              "      <td>74</td>\n",
              "      <td>49</td>\n",
              "      <td>2.94</td>\n",
              "      <td>11</td>\n",
              "      <td>0</td>\n",
              "      <td>2012</td>\n",
              "      <td>1</td>\n",
              "      <td>4</td>\n",
              "      <td>0</td>\n",
              "      <td>1</td>\n",
              "      <td>0</td>\n",
              "      <td>0</td>\n",
              "      <td>0</td>\n",
              "      <td>1</td>\n",
              "    </tr>\n",
              "    <tr>\n",
              "      <th>4</th>\n",
              "      <td>111</td>\n",
              "      <td>74</td>\n",
              "      <td>49</td>\n",
              "      <td>2.94</td>\n",
              "      <td>11</td>\n",
              "      <td>0</td>\n",
              "      <td>2012</td>\n",
              "      <td>1</td>\n",
              "      <td>5</td>\n",
              "      <td>0</td>\n",
              "      <td>1</td>\n",
              "      <td>0</td>\n",
              "      <td>0</td>\n",
              "      <td>0</td>\n",
              "      <td>1</td>\n",
              "    </tr>\n",
              "  </tbody>\n",
              "</table>\n",
              "</div>"
            ],
            "text/plain": [
              "   outlet  product_identifier  week_id  sell_price  department_identifier  \\\n",
              "0     111                  74       49        2.94                     11   \n",
              "1     111                  74       49        2.94                     11   \n",
              "2     111                  74       49        2.94                     11   \n",
              "3     111                  74       49        2.94                     11   \n",
              "4     111                  74       49        2.94                     11   \n",
              "\n",
              "   sales  year  month  day  state_Kerala  state_Maharashtra  state_Telangana  \\\n",
              "0      0  2012      1    1             0                  1                0   \n",
              "1      0  2012      1    2             0                  1                0   \n",
              "2      1  2012      1    3             0                  1                0   \n",
              "3      0  2012      1    4             0                  1                0   \n",
              "4      0  2012      1    5             0                  1                0   \n",
              "\n",
              "   category_of_product_drinks_and_food  \\\n",
              "0                                    0   \n",
              "1                                    0   \n",
              "2                                    0   \n",
              "3                                    0   \n",
              "4                                    0   \n",
              "\n",
              "   category_of_product_fast_moving_consumer_goods  category_of_product_others  \n",
              "0                                               0                           1  \n",
              "1                                               0                           1  \n",
              "2                                               0                           1  \n",
              "3                                               0                           1  \n",
              "4                                               0                           1  "
            ]
          },
          "execution_count": 132,
          "metadata": {},
          "output_type": "execute_result"
        }
      ],
      "source": [
        "df.head()"
      ]
    },
    {
      "cell_type": "code",
      "execution_count": null,
      "metadata": {
        "id": "K5I7skYj_IMT",
        "outputId": "f696ae1f-3e06-482e-c36e-d8e04cfc03cb"
      },
      "outputs": [
        {
          "data": {
            "text/plain": [
              "(395000, 15)"
            ]
          },
          "execution_count": 133,
          "metadata": {},
          "output_type": "execute_result"
        }
      ],
      "source": [
        "df.shape"
      ]
    },
    {
      "cell_type": "markdown",
      "metadata": {
        "id": "trWaa6POqpbV"
      },
      "source": [
        "## 1 Here we split the data into train data, test data "
      ]
    },
    {
      "cell_type": "code",
      "execution_count": null,
      "metadata": {
        "id": "KquWOENmp9q9"
      },
      "outputs": [],
      "source": [
        "# importing neccessary libraries\n",
        "from sklearn.model_selection import train_test_split\n",
        "\n",
        "# splitting of data\n",
        "X = df.drop(['sales'],axis=1)\n",
        "y = df['sales']"
      ]
    },
    {
      "cell_type": "code",
      "execution_count": null,
      "metadata": {
        "id": "2aszD6BqrO2T"
      },
      "outputs": [],
      "source": [
        "X_train, X_test, y_train, y_test = train_test_split(X,y, test_size=0.3, random_state=42)"
      ]
    },
    {
      "cell_type": "code",
      "execution_count": null,
      "metadata": {
        "colab": {
          "base_uri": "https://localhost:8080/"
        },
        "id": "ZWsfrDbcrvE9",
        "outputId": "6aa46336-9b12-496d-9bc7-d55bb3a6b16d"
      },
      "outputs": [
        {
          "name": "stdout",
          "output_type": "stream",
          "text": [
            "(276500, 14)\n",
            "(118500, 14)\n",
            "(276500,)\n",
            "(118500,)\n"
          ]
        }
      ],
      "source": [
        "print(X_train.shape)\n",
        "print(X_test.shape)\n",
        "print(y_train.shape)\n",
        "print(y_test.shape)"
      ]
    },
    {
      "cell_type": "code",
      "execution_count": null,
      "metadata": {
        "id": "KIXb6YBO_IMt",
        "outputId": "6a96f579-aace-4d11-e5b6-8c3f4b181956"
      },
      "outputs": [
        {
          "data": {
            "text/html": [
              "<div>\n",
              "<style scoped>\n",
              "    .dataframe tbody tr th:only-of-type {\n",
              "        vertical-align: middle;\n",
              "    }\n",
              "\n",
              "    .dataframe tbody tr th {\n",
              "        vertical-align: top;\n",
              "    }\n",
              "\n",
              "    .dataframe thead th {\n",
              "        text-align: right;\n",
              "    }\n",
              "</style>\n",
              "<table border=\"1\" class=\"dataframe\">\n",
              "  <thead>\n",
              "    <tr style=\"text-align: right;\">\n",
              "      <th></th>\n",
              "      <th>outlet</th>\n",
              "      <th>product_identifier</th>\n",
              "      <th>week_id</th>\n",
              "      <th>sell_price</th>\n",
              "      <th>department_identifier</th>\n",
              "      <th>year</th>\n",
              "      <th>month</th>\n",
              "      <th>day</th>\n",
              "      <th>state_Kerala</th>\n",
              "      <th>state_Maharashtra</th>\n",
              "      <th>state_Telangana</th>\n",
              "      <th>category_of_product_drinks_and_food</th>\n",
              "      <th>category_of_product_fast_moving_consumer_goods</th>\n",
              "      <th>category_of_product_others</th>\n",
              "    </tr>\n",
              "  </thead>\n",
              "  <tbody>\n",
              "    <tr>\n",
              "      <th>148956</th>\n",
              "      <td>331</td>\n",
              "      <td>74</td>\n",
              "      <td>91</td>\n",
              "      <td>2.94</td>\n",
              "      <td>11</td>\n",
              "      <td>2012</td>\n",
              "      <td>10</td>\n",
              "      <td>26</td>\n",
              "      <td>1</td>\n",
              "      <td>0</td>\n",
              "      <td>0</td>\n",
              "      <td>0</td>\n",
              "      <td>0</td>\n",
              "      <td>1</td>\n",
              "    </tr>\n",
              "    <tr>\n",
              "      <th>273404</th>\n",
              "      <td>113</td>\n",
              "      <td>1508</td>\n",
              "      <td>127</td>\n",
              "      <td>5.94</td>\n",
              "      <td>22</td>\n",
              "      <td>2013</td>\n",
              "      <td>6</td>\n",
              "      <td>30</td>\n",
              "      <td>0</td>\n",
              "      <td>1</td>\n",
              "      <td>0</td>\n",
              "      <td>0</td>\n",
              "      <td>1</td>\n",
              "      <td>0</td>\n",
              "    </tr>\n",
              "    <tr>\n",
              "      <th>308072</th>\n",
              "      <td>112</td>\n",
              "      <td>1548</td>\n",
              "      <td>137</td>\n",
              "      <td>6.47</td>\n",
              "      <td>22</td>\n",
              "      <td>2013</td>\n",
              "      <td>9</td>\n",
              "      <td>12</td>\n",
              "      <td>0</td>\n",
              "      <td>1</td>\n",
              "      <td>0</td>\n",
              "      <td>0</td>\n",
              "      <td>1</td>\n",
              "      <td>0</td>\n",
              "    </tr>\n",
              "    <tr>\n",
              "      <th>182249</th>\n",
              "      <td>113</td>\n",
              "      <td>659</td>\n",
              "      <td>101</td>\n",
              "      <td>3.97</td>\n",
              "      <td>21</td>\n",
              "      <td>2012</td>\n",
              "      <td>12</td>\n",
              "      <td>29</td>\n",
              "      <td>0</td>\n",
              "      <td>1</td>\n",
              "      <td>0</td>\n",
              "      <td>0</td>\n",
              "      <td>1</td>\n",
              "      <td>0</td>\n",
              "    </tr>\n",
              "    <tr>\n",
              "      <th>173081</th>\n",
              "      <td>222</td>\n",
              "      <td>3004</td>\n",
              "      <td>98</td>\n",
              "      <td>2.68</td>\n",
              "      <td>33</td>\n",
              "      <td>2012</td>\n",
              "      <td>12</td>\n",
              "      <td>10</td>\n",
              "      <td>0</td>\n",
              "      <td>0</td>\n",
              "      <td>1</td>\n",
              "      <td>1</td>\n",
              "      <td>0</td>\n",
              "      <td>0</td>\n",
              "    </tr>\n",
              "    <tr>\n",
              "      <th>...</th>\n",
              "      <td>...</td>\n",
              "      <td>...</td>\n",
              "      <td>...</td>\n",
              "      <td>...</td>\n",
              "      <td>...</td>\n",
              "      <td>...</td>\n",
              "      <td>...</td>\n",
              "      <td>...</td>\n",
              "      <td>...</td>\n",
              "      <td>...</td>\n",
              "      <td>...</td>\n",
              "      <td>...</td>\n",
              "      <td>...</td>\n",
              "      <td>...</td>\n",
              "    </tr>\n",
              "    <tr>\n",
              "      <th>259178</th>\n",
              "      <td>112</td>\n",
              "      <td>2935</td>\n",
              "      <td>123</td>\n",
              "      <td>0.20</td>\n",
              "      <td>33</td>\n",
              "      <td>2013</td>\n",
              "      <td>6</td>\n",
              "      <td>7</td>\n",
              "      <td>0</td>\n",
              "      <td>1</td>\n",
              "      <td>0</td>\n",
              "      <td>1</td>\n",
              "      <td>0</td>\n",
              "      <td>0</td>\n",
              "    </tr>\n",
              "    <tr>\n",
              "      <th>365838</th>\n",
              "      <td>223</td>\n",
              "      <td>1672</td>\n",
              "      <td>153</td>\n",
              "      <td>2.24</td>\n",
              "      <td>31</td>\n",
              "      <td>2013</td>\n",
              "      <td>12</td>\n",
              "      <td>28</td>\n",
              "      <td>0</td>\n",
              "      <td>0</td>\n",
              "      <td>1</td>\n",
              "      <td>1</td>\n",
              "      <td>0</td>\n",
              "      <td>0</td>\n",
              "    </tr>\n",
              "    <tr>\n",
              "      <th>131932</th>\n",
              "      <td>332</td>\n",
              "      <td>1190</td>\n",
              "      <td>86</td>\n",
              "      <td>3.27</td>\n",
              "      <td>22</td>\n",
              "      <td>2012</td>\n",
              "      <td>9</td>\n",
              "      <td>21</td>\n",
              "      <td>1</td>\n",
              "      <td>0</td>\n",
              "      <td>0</td>\n",
              "      <td>0</td>\n",
              "      <td>1</td>\n",
              "      <td>0</td>\n",
              "    </tr>\n",
              "    <tr>\n",
              "      <th>146867</th>\n",
              "      <td>112</td>\n",
              "      <td>423</td>\n",
              "      <td>91</td>\n",
              "      <td>0.97</td>\n",
              "      <td>12</td>\n",
              "      <td>2012</td>\n",
              "      <td>10</td>\n",
              "      <td>23</td>\n",
              "      <td>0</td>\n",
              "      <td>1</td>\n",
              "      <td>0</td>\n",
              "      <td>0</td>\n",
              "      <td>0</td>\n",
              "      <td>1</td>\n",
              "    </tr>\n",
              "    <tr>\n",
              "      <th>121958</th>\n",
              "      <td>333</td>\n",
              "      <td>2853</td>\n",
              "      <td>83</td>\n",
              "      <td>3.98</td>\n",
              "      <td>33</td>\n",
              "      <td>2012</td>\n",
              "      <td>8</td>\n",
              "      <td>25</td>\n",
              "      <td>1</td>\n",
              "      <td>0</td>\n",
              "      <td>0</td>\n",
              "      <td>1</td>\n",
              "      <td>0</td>\n",
              "      <td>0</td>\n",
              "    </tr>\n",
              "  </tbody>\n",
              "</table>\n",
              "<p>276500 rows × 14 columns</p>\n",
              "</div>"
            ],
            "text/plain": [
              "        outlet  product_identifier  week_id  sell_price  \\\n",
              "148956     331                  74       91        2.94   \n",
              "273404     113                1508      127        5.94   \n",
              "308072     112                1548      137        6.47   \n",
              "182249     113                 659      101        3.97   \n",
              "173081     222                3004       98        2.68   \n",
              "...        ...                 ...      ...         ...   \n",
              "259178     112                2935      123        0.20   \n",
              "365838     223                1672      153        2.24   \n",
              "131932     332                1190       86        3.27   \n",
              "146867     112                 423       91        0.97   \n",
              "121958     333                2853       83        3.98   \n",
              "\n",
              "        department_identifier  year  month  day  state_Kerala  \\\n",
              "148956                     11  2012     10   26             1   \n",
              "273404                     22  2013      6   30             0   \n",
              "308072                     22  2013      9   12             0   \n",
              "182249                     21  2012     12   29             0   \n",
              "173081                     33  2012     12   10             0   \n",
              "...                       ...   ...    ...  ...           ...   \n",
              "259178                     33  2013      6    7             0   \n",
              "365838                     31  2013     12   28             0   \n",
              "131932                     22  2012      9   21             1   \n",
              "146867                     12  2012     10   23             0   \n",
              "121958                     33  2012      8   25             1   \n",
              "\n",
              "        state_Maharashtra  state_Telangana  \\\n",
              "148956                  0                0   \n",
              "273404                  1                0   \n",
              "308072                  1                0   \n",
              "182249                  1                0   \n",
              "173081                  0                1   \n",
              "...                   ...              ...   \n",
              "259178                  1                0   \n",
              "365838                  0                1   \n",
              "131932                  0                0   \n",
              "146867                  1                0   \n",
              "121958                  0                0   \n",
              "\n",
              "        category_of_product_drinks_and_food  \\\n",
              "148956                                    0   \n",
              "273404                                    0   \n",
              "308072                                    0   \n",
              "182249                                    0   \n",
              "173081                                    1   \n",
              "...                                     ...   \n",
              "259178                                    1   \n",
              "365838                                    1   \n",
              "131932                                    0   \n",
              "146867                                    0   \n",
              "121958                                    1   \n",
              "\n",
              "        category_of_product_fast_moving_consumer_goods  \\\n",
              "148956                                               0   \n",
              "273404                                               1   \n",
              "308072                                               1   \n",
              "182249                                               1   \n",
              "173081                                               0   \n",
              "...                                                ...   \n",
              "259178                                               0   \n",
              "365838                                               0   \n",
              "131932                                               1   \n",
              "146867                                               0   \n",
              "121958                                               0   \n",
              "\n",
              "        category_of_product_others  \n",
              "148956                           1  \n",
              "273404                           0  \n",
              "308072                           0  \n",
              "182249                           0  \n",
              "173081                           0  \n",
              "...                            ...  \n",
              "259178                           0  \n",
              "365838                           0  \n",
              "131932                           0  \n",
              "146867                           1  \n",
              "121958                           0  \n",
              "\n",
              "[276500 rows x 14 columns]"
            ]
          },
          "execution_count": 174,
          "metadata": {},
          "output_type": "execute_result"
        }
      ],
      "source": [
        "X_train"
      ]
    },
    {
      "cell_type": "markdown",
      "source": [
        "#min max scalar "
      ],
      "metadata": {
        "id": "io0n2TnTAu4_"
      }
    },
    {
      "cell_type": "code",
      "execution_count": null,
      "metadata": {
        "id": "1Mtd5UjXrSyb"
      },
      "outputs": [],
      "source": [
        "def min_max_scaler(X_train):\n",
        "   \n",
        "    # Compute the minimum and maximum values for each column of x\n",
        "    train_min = np.min(X_train, axis=0)\n",
        "    train_max = np.max(X_train, axis=0)\n",
        "    \n",
        "    # Scale each column of x to the range [0, 1]\n",
        "    train_scaled = (X_train - train_min) / (train_max - train_min)\n",
        "    \n",
        "    return train_scaled\n",
        "train_scaled = min_max_scaler(X_train)"
      ]
    },
    {
      "cell_type": "code",
      "execution_count": null,
      "metadata": {
        "colab": {
          "base_uri": "https://localhost:8080/",
          "height": 522
        },
        "id": "htMybk63szqC",
        "outputId": "504f1d58-106b-40eb-823e-26e9e1a41cf2"
      },
      "outputs": [
        {
          "data": {
            "text/html": [
              "<div>\n",
              "<style scoped>\n",
              "    .dataframe tbody tr th:only-of-type {\n",
              "        vertical-align: middle;\n",
              "    }\n",
              "\n",
              "    .dataframe tbody tr th {\n",
              "        vertical-align: top;\n",
              "    }\n",
              "\n",
              "    .dataframe thead th {\n",
              "        text-align: right;\n",
              "    }\n",
              "</style>\n",
              "<table border=\"1\" class=\"dataframe\">\n",
              "  <thead>\n",
              "    <tr style=\"text-align: right;\">\n",
              "      <th></th>\n",
              "      <th>outlet</th>\n",
              "      <th>product_identifier</th>\n",
              "      <th>week_id</th>\n",
              "      <th>sell_price</th>\n",
              "      <th>department_identifier</th>\n",
              "      <th>year</th>\n",
              "      <th>month</th>\n",
              "      <th>day</th>\n",
              "      <th>state_Kerala</th>\n",
              "      <th>state_Maharashtra</th>\n",
              "      <th>state_Telangana</th>\n",
              "      <th>category_of_product_drinks_and_food</th>\n",
              "      <th>category_of_product_fast_moving_consumer_goods</th>\n",
              "      <th>category_of_product_others</th>\n",
              "    </tr>\n",
              "  </thead>\n",
              "  <tbody>\n",
              "    <tr>\n",
              "      <th>148956</th>\n",
              "      <td>0.990991</td>\n",
              "      <td>0.000000</td>\n",
              "      <td>0.375000</td>\n",
              "      <td>0.065222</td>\n",
              "      <td>0.000000</td>\n",
              "      <td>0.0</td>\n",
              "      <td>0.818182</td>\n",
              "      <td>0.833333</td>\n",
              "      <td>1.0</td>\n",
              "      <td>0.0</td>\n",
              "      <td>0.0</td>\n",
              "      <td>0.0</td>\n",
              "      <td>0.0</td>\n",
              "      <td>1.0</td>\n",
              "    </tr>\n",
              "    <tr>\n",
              "      <th>273404</th>\n",
              "      <td>0.009009</td>\n",
              "      <td>0.486597</td>\n",
              "      <td>0.696429</td>\n",
              "      <td>0.132927</td>\n",
              "      <td>0.500000</td>\n",
              "      <td>0.5</td>\n",
              "      <td>0.454545</td>\n",
              "      <td>0.966667</td>\n",
              "      <td>0.0</td>\n",
              "      <td>1.0</td>\n",
              "      <td>0.0</td>\n",
              "      <td>0.0</td>\n",
              "      <td>1.0</td>\n",
              "      <td>0.0</td>\n",
              "    </tr>\n",
              "    <tr>\n",
              "      <th>308072</th>\n",
              "      <td>0.004505</td>\n",
              "      <td>0.500170</td>\n",
              "      <td>0.785714</td>\n",
              "      <td>0.144888</td>\n",
              "      <td>0.500000</td>\n",
              "      <td>0.5</td>\n",
              "      <td>0.727273</td>\n",
              "      <td>0.366667</td>\n",
              "      <td>0.0</td>\n",
              "      <td>1.0</td>\n",
              "      <td>0.0</td>\n",
              "      <td>0.0</td>\n",
              "      <td>1.0</td>\n",
              "      <td>0.0</td>\n",
              "    </tr>\n",
              "    <tr>\n",
              "      <th>182249</th>\n",
              "      <td>0.009009</td>\n",
              "      <td>0.198507</td>\n",
              "      <td>0.464286</td>\n",
              "      <td>0.088468</td>\n",
              "      <td>0.454545</td>\n",
              "      <td>0.0</td>\n",
              "      <td>1.000000</td>\n",
              "      <td>0.933333</td>\n",
              "      <td>0.0</td>\n",
              "      <td>1.0</td>\n",
              "      <td>0.0</td>\n",
              "      <td>0.0</td>\n",
              "      <td>1.0</td>\n",
              "      <td>0.0</td>\n",
              "    </tr>\n",
              "    <tr>\n",
              "      <th>173081</th>\n",
              "      <td>0.500000</td>\n",
              "      <td>0.994231</td>\n",
              "      <td>0.437500</td>\n",
              "      <td>0.059355</td>\n",
              "      <td>1.000000</td>\n",
              "      <td>0.0</td>\n",
              "      <td>1.000000</td>\n",
              "      <td>0.300000</td>\n",
              "      <td>0.0</td>\n",
              "      <td>0.0</td>\n",
              "      <td>1.0</td>\n",
              "      <td>1.0</td>\n",
              "      <td>0.0</td>\n",
              "      <td>0.0</td>\n",
              "    </tr>\n",
              "    <tr>\n",
              "      <th>...</th>\n",
              "      <td>...</td>\n",
              "      <td>...</td>\n",
              "      <td>...</td>\n",
              "      <td>...</td>\n",
              "      <td>...</td>\n",
              "      <td>...</td>\n",
              "      <td>...</td>\n",
              "      <td>...</td>\n",
              "      <td>...</td>\n",
              "      <td>...</td>\n",
              "      <td>...</td>\n",
              "      <td>...</td>\n",
              "      <td>...</td>\n",
              "      <td>...</td>\n",
              "    </tr>\n",
              "    <tr>\n",
              "      <th>259178</th>\n",
              "      <td>0.004505</td>\n",
              "      <td>0.970818</td>\n",
              "      <td>0.660714</td>\n",
              "      <td>0.003385</td>\n",
              "      <td>1.000000</td>\n",
              "      <td>0.5</td>\n",
              "      <td>0.454545</td>\n",
              "      <td>0.200000</td>\n",
              "      <td>0.0</td>\n",
              "      <td>1.0</td>\n",
              "      <td>0.0</td>\n",
              "      <td>1.0</td>\n",
              "      <td>0.0</td>\n",
              "      <td>0.0</td>\n",
              "    </tr>\n",
              "    <tr>\n",
              "      <th>365838</th>\n",
              "      <td>0.504505</td>\n",
              "      <td>0.542246</td>\n",
              "      <td>0.928571</td>\n",
              "      <td>0.049425</td>\n",
              "      <td>0.909091</td>\n",
              "      <td>0.5</td>\n",
              "      <td>1.000000</td>\n",
              "      <td>0.900000</td>\n",
              "      <td>0.0</td>\n",
              "      <td>0.0</td>\n",
              "      <td>1.0</td>\n",
              "      <td>1.0</td>\n",
              "      <td>0.0</td>\n",
              "      <td>0.0</td>\n",
              "    </tr>\n",
              "    <tr>\n",
              "      <th>131932</th>\n",
              "      <td>0.995495</td>\n",
              "      <td>0.378690</td>\n",
              "      <td>0.330357</td>\n",
              "      <td>0.072670</td>\n",
              "      <td>0.500000</td>\n",
              "      <td>0.0</td>\n",
              "      <td>0.727273</td>\n",
              "      <td>0.666667</td>\n",
              "      <td>1.0</td>\n",
              "      <td>0.0</td>\n",
              "      <td>0.0</td>\n",
              "      <td>0.0</td>\n",
              "      <td>1.0</td>\n",
              "      <td>0.0</td>\n",
              "    </tr>\n",
              "    <tr>\n",
              "      <th>146867</th>\n",
              "      <td>0.004505</td>\n",
              "      <td>0.118426</td>\n",
              "      <td>0.375000</td>\n",
              "      <td>0.020763</td>\n",
              "      <td>0.045455</td>\n",
              "      <td>0.0</td>\n",
              "      <td>0.818182</td>\n",
              "      <td>0.733333</td>\n",
              "      <td>0.0</td>\n",
              "      <td>1.0</td>\n",
              "      <td>0.0</td>\n",
              "      <td>0.0</td>\n",
              "      <td>0.0</td>\n",
              "      <td>1.0</td>\n",
              "    </tr>\n",
              "    <tr>\n",
              "      <th>121958</th>\n",
              "      <td>1.000000</td>\n",
              "      <td>0.942993</td>\n",
              "      <td>0.303571</td>\n",
              "      <td>0.088693</td>\n",
              "      <td>1.000000</td>\n",
              "      <td>0.0</td>\n",
              "      <td>0.636364</td>\n",
              "      <td>0.800000</td>\n",
              "      <td>1.0</td>\n",
              "      <td>0.0</td>\n",
              "      <td>0.0</td>\n",
              "      <td>1.0</td>\n",
              "      <td>0.0</td>\n",
              "      <td>0.0</td>\n",
              "    </tr>\n",
              "  </tbody>\n",
              "</table>\n",
              "<p>276500 rows × 14 columns</p>\n",
              "</div>"
            ],
            "text/plain": [
              "          outlet  product_identifier   week_id  sell_price  \\\n",
              "148956  0.990991            0.000000  0.375000    0.065222   \n",
              "273404  0.009009            0.486597  0.696429    0.132927   \n",
              "308072  0.004505            0.500170  0.785714    0.144888   \n",
              "182249  0.009009            0.198507  0.464286    0.088468   \n",
              "173081  0.500000            0.994231  0.437500    0.059355   \n",
              "...          ...                 ...       ...         ...   \n",
              "259178  0.004505            0.970818  0.660714    0.003385   \n",
              "365838  0.504505            0.542246  0.928571    0.049425   \n",
              "131932  0.995495            0.378690  0.330357    0.072670   \n",
              "146867  0.004505            0.118426  0.375000    0.020763   \n",
              "121958  1.000000            0.942993  0.303571    0.088693   \n",
              "\n",
              "        department_identifier  year     month       day  state_Kerala  \\\n",
              "148956               0.000000   0.0  0.818182  0.833333           1.0   \n",
              "273404               0.500000   0.5  0.454545  0.966667           0.0   \n",
              "308072               0.500000   0.5  0.727273  0.366667           0.0   \n",
              "182249               0.454545   0.0  1.000000  0.933333           0.0   \n",
              "173081               1.000000   0.0  1.000000  0.300000           0.0   \n",
              "...                       ...   ...       ...       ...           ...   \n",
              "259178               1.000000   0.5  0.454545  0.200000           0.0   \n",
              "365838               0.909091   0.5  1.000000  0.900000           0.0   \n",
              "131932               0.500000   0.0  0.727273  0.666667           1.0   \n",
              "146867               0.045455   0.0  0.818182  0.733333           0.0   \n",
              "121958               1.000000   0.0  0.636364  0.800000           1.0   \n",
              "\n",
              "        state_Maharashtra  state_Telangana  \\\n",
              "148956                0.0              0.0   \n",
              "273404                1.0              0.0   \n",
              "308072                1.0              0.0   \n",
              "182249                1.0              0.0   \n",
              "173081                0.0              1.0   \n",
              "...                   ...              ...   \n",
              "259178                1.0              0.0   \n",
              "365838                0.0              1.0   \n",
              "131932                0.0              0.0   \n",
              "146867                1.0              0.0   \n",
              "121958                0.0              0.0   \n",
              "\n",
              "        category_of_product_drinks_and_food  \\\n",
              "148956                                  0.0   \n",
              "273404                                  0.0   \n",
              "308072                                  0.0   \n",
              "182249                                  0.0   \n",
              "173081                                  1.0   \n",
              "...                                     ...   \n",
              "259178                                  1.0   \n",
              "365838                                  1.0   \n",
              "131932                                  0.0   \n",
              "146867                                  0.0   \n",
              "121958                                  1.0   \n",
              "\n",
              "        category_of_product_fast_moving_consumer_goods  \\\n",
              "148956                                             0.0   \n",
              "273404                                             1.0   \n",
              "308072                                             1.0   \n",
              "182249                                             1.0   \n",
              "173081                                             0.0   \n",
              "...                                                ...   \n",
              "259178                                             0.0   \n",
              "365838                                             0.0   \n",
              "131932                                             1.0   \n",
              "146867                                             0.0   \n",
              "121958                                             0.0   \n",
              "\n",
              "        category_of_product_others  \n",
              "148956                         1.0  \n",
              "273404                         0.0  \n",
              "308072                         0.0  \n",
              "182249                         0.0  \n",
              "173081                         0.0  \n",
              "...                            ...  \n",
              "259178                         0.0  \n",
              "365838                         0.0  \n",
              "131932                         0.0  \n",
              "146867                         1.0  \n",
              "121958                         0.0  \n",
              "\n",
              "[276500 rows x 14 columns]"
            ]
          },
          "execution_count": 138,
          "metadata": {},
          "output_type": "execute_result"
        }
      ],
      "source": [
        "train_scaled"
      ]
    },
    {
      "cell_type": "markdown",
      "source": [
        "converting the dataframe to array format"
      ],
      "metadata": {
        "id": "gBvInuagA1qI"
      }
    },
    {
      "cell_type": "code",
      "execution_count": null,
      "metadata": {
        "colab": {
          "base_uri": "https://localhost:8080/"
        },
        "id": "gDNnVqUNtWoI",
        "outputId": "d6d71855-122a-416a-c7e9-c5afe63ad678"
      },
      "outputs": [
        {
          "data": {
            "text/plain": [
              "array([[0.99099099, 0.        , 0.375     , ..., 0.        , 0.        ,\n",
              "        1.        ],\n",
              "       [0.00900901, 0.48659654, 0.69642857, ..., 0.        , 1.        ,\n",
              "        0.        ],\n",
              "       [0.0045045 , 0.50016966, 0.78571429, ..., 0.        , 1.        ,\n",
              "        0.        ],\n",
              "       ...,\n",
              "       [0.9954955 , 0.37869019, 0.33035714, ..., 0.        , 1.        ,\n",
              "        0.        ],\n",
              "       [0.0045045 , 0.11842552, 0.375     , ..., 0.        , 0.        ,\n",
              "        1.        ],\n",
              "       [1.        , 0.94299287, 0.30357143, ..., 1.        , 0.        ,\n",
              "        0.        ]])"
            ]
          },
          "execution_count": 139,
          "metadata": {},
          "output_type": "execute_result"
        }
      ],
      "source": [
        "train_scaled.values\n"
      ]
    },
    {
      "cell_type": "code",
      "execution_count": null,
      "metadata": {
        "colab": {
          "base_uri": "https://localhost:8080/"
        },
        "id": "KQENYxfetteF",
        "outputId": "9483ed1c-81c0-4d74-8301-2769c3ca8a9a"
      },
      "outputs": [
        {
          "data": {
            "text/plain": [
              "array([0, 0, 0, ..., 1, 0, 0])"
            ]
          },
          "execution_count": 140,
          "metadata": {},
          "output_type": "execute_result"
        }
      ],
      "source": [
        "y_train.values"
      ]
    },
    {
      "cell_type": "code",
      "execution_count": null,
      "metadata": {
        "id": "6DWEnEusuawt"
      },
      "outputs": [],
      "source": [
        "X=X_train\n",
        "Y=y_train"
      ]
    },
    {
      "cell_type": "code",
      "execution_count": null,
      "metadata": {
        "colab": {
          "base_uri": "https://localhost:8080/"
        },
        "id": "T5nHvr8NxH-z",
        "outputId": "b7e25088-7116-483b-f8d2-7394f643f771"
      },
      "outputs": [
        {
          "data": {
            "text/plain": [
              "array([[3.310e+02, 7.400e+01, 9.100e+01, ..., 0.000e+00, 0.000e+00,\n",
              "        1.000e+00],\n",
              "       [1.130e+02, 1.508e+03, 1.270e+02, ..., 0.000e+00, 1.000e+00,\n",
              "        0.000e+00],\n",
              "       [1.120e+02, 1.548e+03, 1.370e+02, ..., 0.000e+00, 1.000e+00,\n",
              "        0.000e+00],\n",
              "       ...,\n",
              "       [3.320e+02, 1.190e+03, 8.600e+01, ..., 0.000e+00, 1.000e+00,\n",
              "        0.000e+00],\n",
              "       [1.120e+02, 4.230e+02, 9.100e+01, ..., 0.000e+00, 0.000e+00,\n",
              "        1.000e+00],\n",
              "       [3.330e+02, 2.853e+03, 8.300e+01, ..., 1.000e+00, 0.000e+00,\n",
              "        0.000e+00]])"
            ]
          },
          "execution_count": 142,
          "metadata": {},
          "output_type": "execute_result"
        }
      ],
      "source": [
        "X=X.values\n",
        "X"
      ]
    },
    {
      "cell_type": "code",
      "execution_count": null,
      "metadata": {
        "colab": {
          "base_uri": "https://localhost:8080/"
        },
        "id": "EOAXvx8CxKfq",
        "outputId": "c8151f2e-6c8d-43fb-ba03-7ee082084cec"
      },
      "outputs": [
        {
          "data": {
            "text/plain": [
              "14"
            ]
          },
          "execution_count": 143,
          "metadata": {},
          "output_type": "execute_result"
        }
      ],
      "source": [
        "X.shape[1]"
      ]
    },
    {
      "cell_type": "code",
      "execution_count": null,
      "metadata": {
        "colab": {
          "base_uri": "https://localhost:8080/"
        },
        "id": "SJaTV4kGyBK6",
        "outputId": "471fa587-5314-444e-9196-c6a8f03b465a"
      },
      "outputs": [
        {
          "data": {
            "text/plain": [
              "276500"
            ]
          },
          "execution_count": 144,
          "metadata": {},
          "output_type": "execute_result"
        }
      ],
      "source": [
        "Y.shape[0]"
      ]
    },
    {
      "cell_type": "code",
      "execution_count": null,
      "metadata": {
        "id": "KPcwLi9QyGxA"
      },
      "outputs": [],
      "source": [
        "x_train=X_train.values"
      ]
    },
    {
      "cell_type": "code",
      "execution_count": null,
      "metadata": {
        "colab": {
          "base_uri": "https://localhost:8080/"
        },
        "id": "kv-EFi8HyVfR",
        "outputId": "6337457e-cbb1-4a3d-f105-2f08196fb917"
      },
      "outputs": [
        {
          "data": {
            "text/plain": [
              "array([[3.310e+02, 7.400e+01, 9.100e+01, ..., 0.000e+00, 0.000e+00,\n",
              "        1.000e+00],\n",
              "       [1.130e+02, 1.508e+03, 1.270e+02, ..., 0.000e+00, 1.000e+00,\n",
              "        0.000e+00],\n",
              "       [1.120e+02, 1.548e+03, 1.370e+02, ..., 0.000e+00, 1.000e+00,\n",
              "        0.000e+00],\n",
              "       ...,\n",
              "       [3.320e+02, 1.190e+03, 8.600e+01, ..., 0.000e+00, 1.000e+00,\n",
              "        0.000e+00],\n",
              "       [1.120e+02, 4.230e+02, 9.100e+01, ..., 0.000e+00, 0.000e+00,\n",
              "        1.000e+00],\n",
              "       [3.330e+02, 2.853e+03, 8.300e+01, ..., 1.000e+00, 0.000e+00,\n",
              "        0.000e+00]])"
            ]
          },
          "execution_count": 146,
          "metadata": {},
          "output_type": "execute_result"
        }
      ],
      "source": [
        "x_train"
      ]
    },
    {
      "cell_type": "code",
      "execution_count": null,
      "metadata": {
        "colab": {
          "base_uri": "https://localhost:8080/"
        },
        "id": "JHLG6s1R0SX2",
        "outputId": "55218ed5-14b4-4b98-f38c-6bb2d902d44c"
      },
      "outputs": [
        {
          "data": {
            "text/plain": [
              "array([[1.130e+02, 2.332e+03, 1.180e+02, ..., 1.000e+00, 0.000e+00,\n",
              "        0.000e+00],\n",
              "       [3.330e+02, 1.173e+03, 1.540e+02, ..., 0.000e+00, 1.000e+00,\n",
              "        0.000e+00],\n",
              "       [3.320e+02, 6.310e+02, 9.700e+01, ..., 0.000e+00, 1.000e+00,\n",
              "        0.000e+00],\n",
              "       ...,\n",
              "       [2.210e+02, 1.672e+03, 6.000e+01, ..., 1.000e+00, 0.000e+00,\n",
              "        0.000e+00],\n",
              "       [3.330e+02, 2.794e+03, 1.600e+02, ..., 1.000e+00, 0.000e+00,\n",
              "        0.000e+00],\n",
              "       [3.320e+02, 1.599e+03, 8.200e+01, ..., 0.000e+00, 1.000e+00,\n",
              "        0.000e+00]])"
            ]
          },
          "execution_count": 147,
          "metadata": {},
          "output_type": "execute_result"
        }
      ],
      "source": [
        "x_test=X_test.values\n",
        "x_test"
      ]
    },
    {
      "cell_type": "code",
      "execution_count": null,
      "metadata": {
        "id": "RTxBduDc0aa8"
      },
      "outputs": [],
      "source": [
        "y_test=y_test.values\n",
        "y_train = y_train.values\n"
      ]
    },
    {
      "cell_type": "code",
      "execution_count": null,
      "metadata": {
        "colab": {
          "base_uri": "https://localhost:8080/"
        },
        "id": "3NQzvVp60kJr",
        "outputId": "7ad955a6-674b-4a73-cd65-1ef0dae69ad0"
      },
      "outputs": [
        {
          "data": {
            "text/plain": [
              "array([0, 0, 0, ..., 1, 0, 0])"
            ]
          },
          "execution_count": 149,
          "metadata": {},
          "output_type": "execute_result"
        }
      ],
      "source": [
        "y_train"
      ]
    },
    {
      "cell_type": "code",
      "execution_count": null,
      "metadata": {
        "colab": {
          "base_uri": "https://localhost:8080/"
        },
        "id": "Bq1uc-Ef3OzN",
        "outputId": "a3b9e55e-96fa-4a21-b981-bda68fc0989a"
      },
      "outputs": [
        {
          "data": {
            "text/plain": [
              "14"
            ]
          },
          "execution_count": 150,
          "metadata": {},
          "output_type": "execute_result"
        }
      ],
      "source": [
        "X.shape[1]"
      ]
    },
    {
      "cell_type": "code",
      "execution_count": null,
      "metadata": {
        "colab": {
          "base_uri": "https://localhost:8080/"
        },
        "id": "G3m5-zzb3TMp",
        "outputId": "badc379f-b5a3-4a8f-a81a-9c8110ae5bba"
      },
      "outputs": [
        {
          "data": {
            "text/plain": [
              "276500"
            ]
          },
          "execution_count": 151,
          "metadata": {},
          "output_type": "execute_result"
        }
      ],
      "source": [
        "Y.shape[0]"
      ]
    },
    {
      "cell_type": "code",
      "execution_count": null,
      "metadata": {
        "id": "QY9M-uUs0mwV"
      },
      "outputs": [],
      "source": [
        "import tensorflow.keras\n",
        "from tensorflow.keras.models import Sequential\n",
        "from tensorflow.keras.layers import Dense"
      ]
    },
    {
      "cell_type": "code",
      "execution_count": null,
      "metadata": {
        "id": "cFf_hX7J3Ifx"
      },
      "outputs": [],
      "source": [
        "model=Sequential()\n",
        "model.add(Dense(14,activation='relu',input_dim=14))\n",
        "model.add(Dense(14,activation='relu'))\n",
        "model.add(Dense(14,activation='relu'))\n",
        "model.add(Dense(14,activation='relu'))\n",
        "model.add(Dense(14,activation='relu'))\n",
        "model.add(Dense(1,activation='linear'))"
      ]
    },
    {
      "cell_type": "code",
      "execution_count": null,
      "metadata": {
        "colab": {
          "base_uri": "https://localhost:8080/"
        },
        "id": "XIjXJCp63erK",
        "outputId": "68b93777-89b3-4811-d6b6-e77276db6543"
      },
      "outputs": [
        {
          "name": "stdout",
          "output_type": "stream",
          "text": [
            "Model: \"sequential_5\"\n",
            "_________________________________________________________________\n",
            "Layer (type)                 Output Shape              Param #   \n",
            "=================================================================\n",
            "dense_15 (Dense)             (None, 14)                210       \n",
            "_________________________________________________________________\n",
            "dense_16 (Dense)             (None, 14)                210       \n",
            "_________________________________________________________________\n",
            "dense_17 (Dense)             (None, 14)                210       \n",
            "_________________________________________________________________\n",
            "dense_18 (Dense)             (None, 14)                210       \n",
            "_________________________________________________________________\n",
            "dense_19 (Dense)             (None, 14)                210       \n",
            "_________________________________________________________________\n",
            "dense_20 (Dense)             (None, 1)                 15        \n",
            "=================================================================\n",
            "Total params: 1,065\n",
            "Trainable params: 1,065\n",
            "Non-trainable params: 0\n",
            "_________________________________________________________________\n"
          ]
        }
      ],
      "source": [
        "model.summary()"
      ]
    },
    {
      "cell_type": "code",
      "execution_count": null,
      "metadata": {
        "id": "1-XniFJH3em6"
      },
      "outputs": [],
      "source": [
        "model.compile(optimizer='adam',loss='mean_squared_error')"
      ]
    },
    {
      "cell_type": "code",
      "execution_count": null,
      "metadata": {
        "colab": {
          "base_uri": "https://localhost:8080/"
        },
        "id": "fQ5SHKe13egT",
        "outputId": "16482424-7cc9-4178-a288-38c8e050eafb"
      },
      "outputs": [
        {
          "name": "stdout",
          "output_type": "stream",
          "text": [
            "Epoch 1/50\n",
            "6913/6913 [==============================] - 10s 1ms/step - loss: 13.2154 - val_loss: 13.0010\n",
            "Epoch 2/50\n",
            "6913/6913 [==============================] - 9s 1ms/step - loss: 12.1552 - val_loss: 12.8852\n",
            "Epoch 3/50\n",
            "6913/6913 [==============================] - 9s 1ms/step - loss: 11.9526 - val_loss: 12.4982\n",
            "Epoch 4/50\n",
            "6913/6913 [==============================] - 9s 1ms/step - loss: 11.8196 - val_loss: 12.1466\n",
            "Epoch 5/50\n",
            "6913/6913 [==============================] - 9s 1ms/step - loss: 12.2009 - val_loss: 12.9333\n",
            "Epoch 6/50\n",
            "6913/6913 [==============================] - 9s 1ms/step - loss: 12.0780 - val_loss: 12.9825\n",
            "Epoch 7/50\n",
            "6913/6913 [==============================] - 9s 1ms/step - loss: 12.0042 - val_loss: 13.0187\n",
            "Epoch 8/50\n",
            "6913/6913 [==============================] - 9s 1ms/step - loss: 11.7534 - val_loss: 12.5127\n",
            "Epoch 9/50\n",
            "6913/6913 [==============================] - 9s 1ms/step - loss: 11.5029 - val_loss: 12.1635\n",
            "Epoch 10/50\n",
            "6913/6913 [==============================] - 9s 1ms/step - loss: 11.4689 - val_loss: 12.2846\n",
            "Epoch 11/50\n",
            "6913/6913 [==============================] - 9s 1ms/step - loss: 11.9391 - val_loss: 12.8929\n",
            "Epoch 12/50\n",
            "6913/6913 [==============================] - 9s 1ms/step - loss: 12.0533 - val_loss: 12.9285\n",
            "Epoch 13/50\n",
            "6913/6913 [==============================] - 9s 1ms/step - loss: 11.9944 - val_loss: 12.7392\n",
            "Epoch 14/50\n",
            "6913/6913 [==============================] - 10s 1ms/step - loss: 12.0369 - val_loss: 12.7859\n",
            "Epoch 15/50\n",
            "6913/6913 [==============================] - 9s 1ms/step - loss: 11.9307 - val_loss: 12.8051\n",
            "Epoch 16/50\n",
            "6913/6913 [==============================] - 9s 1ms/step - loss: 11.8993 - val_loss: 12.7198\n",
            "Epoch 17/50\n",
            "6913/6913 [==============================] - 9s 1ms/step - loss: 11.8658 - val_loss: 12.7597\n",
            "Epoch 18/50\n",
            "6913/6913 [==============================] - 9s 1ms/step - loss: 11.7912 - val_loss: 12.6998\n",
            "Epoch 19/50\n",
            "6913/6913 [==============================] - 9s 1ms/step - loss: 11.8244 - val_loss: 12.7107\n",
            "Epoch 20/50\n",
            "6913/6913 [==============================] - 9s 1ms/step - loss: 11.8350 - val_loss: 12.7036\n",
            "Epoch 21/50\n",
            "6913/6913 [==============================] - 9s 1ms/step - loss: 11.7547 - val_loss: 12.3245\n",
            "Epoch 22/50\n",
            "6913/6913 [==============================] - 9s 1ms/step - loss: 11.5112 - val_loss: 12.8716\n",
            "Epoch 23/50\n",
            "6913/6913 [==============================] - 10s 1ms/step - loss: 11.9567 - val_loss: 12.9091\n",
            "Epoch 24/50\n",
            "6913/6913 [==============================] - 9s 1ms/step - loss: 11.9102 - val_loss: 12.9876\n",
            "Epoch 25/50\n",
            "6913/6913 [==============================] - 9s 1ms/step - loss: 11.8774 - val_loss: 12.7645\n",
            "Epoch 26/50\n",
            "6913/6913 [==============================] - 9s 1ms/step - loss: 11.8793 - val_loss: 12.7125\n",
            "Epoch 27/50\n",
            "6913/6913 [==============================] - 9s 1ms/step - loss: 11.8739 - val_loss: 12.7090\n",
            "Epoch 28/50\n",
            "6913/6913 [==============================] - 9s 1ms/step - loss: 11.8723 - val_loss: 12.7989\n",
            "Epoch 29/50\n",
            "6913/6913 [==============================] - 9s 1ms/step - loss: 11.8658 - val_loss: 12.7529\n",
            "Epoch 30/50\n",
            "6913/6913 [==============================] - 9s 1ms/step - loss: 11.8692 - val_loss: 12.7527\n",
            "Epoch 31/50\n",
            "6913/6913 [==============================] - 9s 1ms/step - loss: 11.8637 - val_loss: 12.7217\n",
            "Epoch 32/50\n",
            "6913/6913 [==============================] - 9s 1ms/step - loss: 11.1595 - val_loss: 11.4717\n",
            "Epoch 33/50\n",
            "6913/6913 [==============================] - 9s 1ms/step - loss: 10.0907 - val_loss: 10.5637\n",
            "Epoch 34/50\n",
            "6913/6913 [==============================] - 9s 1ms/step - loss: 10.0883 - val_loss: 10.6791\n",
            "Epoch 35/50\n",
            "6913/6913 [==============================] - 9s 1ms/step - loss: 10.1372 - val_loss: 11.5618\n",
            "Epoch 36/50\n",
            "6913/6913 [==============================] - 9s 1ms/step - loss: 10.0401 - val_loss: 11.1599\n",
            "Epoch 37/50\n",
            "6913/6913 [==============================] - 10s 1ms/step - loss: 9.9059 - val_loss: 10.7057\n",
            "Epoch 38/50\n",
            "6913/6913 [==============================] - 10s 1ms/step - loss: 9.8508 - val_loss: 10.4168\n",
            "Epoch 39/50\n",
            "6913/6913 [==============================] - 9s 1ms/step - loss: 9.8796 - val_loss: 10.4610\n",
            "Epoch 40/50\n",
            "6913/6913 [==============================] - 9s 1ms/step - loss: 9.8313 - val_loss: 11.1030\n",
            "Epoch 41/50\n",
            "6913/6913 [==============================] - 9s 1ms/step - loss: 9.9329 - val_loss: 10.5313\n",
            "Epoch 42/50\n",
            "6913/6913 [==============================] - 9s 1ms/step - loss: 9.8017 - val_loss: 10.5033\n",
            "Epoch 43/50\n",
            "6913/6913 [==============================] - 10s 1ms/step - loss: 9.7970 - val_loss: 10.5067\n",
            "Epoch 44/50\n",
            "6913/6913 [==============================] - 9s 1ms/step - loss: 9.7537 - val_loss: 10.3894\n",
            "Epoch 45/50\n",
            "6913/6913 [==============================] - 9s 1ms/step - loss: 9.7845 - val_loss: 12.2594\n",
            "Epoch 46/50\n",
            "6913/6913 [==============================] - 9s 1ms/step - loss: 9.8518 - val_loss: 10.4467\n",
            "Epoch 47/50\n",
            "6913/6913 [==============================] - 9s 1ms/step - loss: 11.2474 - val_loss: 11.1508\n",
            "Epoch 48/50\n",
            "6913/6913 [==============================] - 9s 1ms/step - loss: 10.0695 - val_loss: 10.6918\n",
            "Epoch 49/50\n",
            "6913/6913 [==============================] - 10s 1ms/step - loss: 9.8724 - val_loss: 10.4212\n",
            "Epoch 50/50\n",
            "6913/6913 [==============================] - 10s 1ms/step - loss: 9.9300 - val_loss: 10.5177\n"
          ]
        }
      ],
      "source": [
        "history=model.fit(x_train,y_train,epochs=50,validation_split=0.2)"
      ]
    },
    {
      "cell_type": "code",
      "execution_count": null,
      "metadata": {
        "id": "WZp_b3_V4M-x"
      },
      "outputs": [],
      "source": [
        "train_pred = model.predict(x_train)\n",
        "test_pred = model.predict(x_test)"
      ]
    },
    {
      "cell_type": "code",
      "execution_count": null,
      "metadata": {
        "colab": {
          "base_uri": "https://localhost:8080/"
        },
        "id": "ZBxfntua3rEE",
        "outputId": "084e8b3f-3b55-4afc-f497-34174eba6d8a"
      },
      "outputs": [
        {
          "name": "stdout",
          "output_type": "stream",
          "text": [
            "Train MSE:  9.832163052398183\n",
            "Train MAE:  1.3307574442211154\n",
            "Train RMSE:  3.1356280156291154\n",
            "Train R2_score:  0.24066860076323837\n"
          ]
        }
      ],
      "source": [
        "from sklearn import metrics\n",
        "from sklearn.metrics import mean_squared_error\n",
        "from sklearn.metrics import mean_absolute_error\n",
        "from sklearn.metrics import r2_score\n",
        "\n",
        "mse = mean_squared_error(y_train, train_pred)\n",
        "mae = mean_absolute_error(y_train, train_pred)\n",
        "rmse=np.sqrt(mean_squared_error(y_train, train_pred))\n",
        "r2_score=r2_score(y_train, train_pred)\n",
        "print(\"Train MSE: \", mse)\n",
        "print(\"Train MAE: \", mae)\n",
        "print(\"Train RMSE: \", rmse)\n",
        "print(\"Train R2_score: \", r2_score)"
      ]
    },
    {
      "cell_type": "code",
      "execution_count": null,
      "metadata": {
        "colab": {
          "base_uri": "https://localhost:8080/"
        },
        "id": "xIdlv3W_3q_L",
        "outputId": "840f4921-ce9e-4b05-fbd6-71c137eeeb77"
      },
      "outputs": [
        {
          "name": "stdout",
          "output_type": "stream",
          "text": [
            "MSE:  9.72843533823147\n",
            "MAE:  1.33339844629332\n",
            "RMSE:  3.1190439782458133\n",
            "R2 Score:  0.24429299489161382\n"
          ]
        }
      ],
      "source": [
        "from sklearn.metrics import mean_squared_error, mean_absolute_error, r2_score\n",
        "\n",
        "\n",
        "# Assuming `y_test` and `test_pred` are defined\n",
        "mse = mean_squared_error(y_test, test_pred)\n",
        "mae = mean_absolute_error(y_test, test_pred)\n",
        "rmse = np.sqrt(mean_squared_error(y_test, test_pred))\n",
        "r2 = r2_score(y_test, test_pred)\n",
        "\n",
        "print(\"MSE: \", mse)\n",
        "print(\"MAE: \", mae)\n",
        "print(\"RMSE: \", rmse)\n",
        "print(\"R2 Score: \", r2)"
      ]
    },
    {
      "cell_type": "markdown",
      "source": [
        "applied knn regressor to check the model"
      ],
      "metadata": {
        "id": "ubQ25By5Bpnu"
      }
    },
    {
      "cell_type": "code",
      "execution_count": null,
      "metadata": {
        "id": "gH86u0I5_IND",
        "outputId": "4443c214-90c2-46fb-a404-e96f8ca6d5f1"
      },
      "outputs": [
        {
          "data": {
            "text/plain": [
              "KNeighborsRegressor(n_neighbors=4)"
            ]
          },
          "execution_count": 182,
          "metadata": {},
          "output_type": "execute_result"
        }
      ],
      "source": [
        "from sklearn.neighbors import KNeighborsRegressor\n",
        "knn=KNeighborsRegressor(n_neighbors=4)\n",
        "knn.fit(X_train,y_train)"
      ]
    },
    {
      "cell_type": "code",
      "execution_count": null,
      "metadata": {
        "id": "6aP2sOQE_INE"
      },
      "outputs": [],
      "source": [
        "trainpreds_knn=knn.predict(X_train)"
      ]
    },
    {
      "cell_type": "code",
      "execution_count": null,
      "metadata": {
        "id": "iFxakKpG_INE",
        "outputId": "8f129fec-fa6a-404d-80e2-79a124ba24d6"
      },
      "outputs": [
        {
          "name": "stdout",
          "output_type": "stream",
          "text": [
            "Mean Absolute Error: 0.840380650994575\n",
            "Mean Squared Error: 5.350204566003617\n",
            "Root Mean Squared Error: 2.3130509216192405\n",
            "R-squared: 0.5868072673677309\n"
          ]
        }
      ],
      "source": [
        "from sklearn.metrics import mean_squared_error,mean_absolute_error,r2_score\n",
        "mae = mean_absolute_error(y_train, trainpreds_knn)\n",
        "mse = mean_squared_error(y_train, trainpreds_knn)\n",
        "rmse = np.sqrt(mse)\n",
        "r2 = r2_score(y_train, trainpreds_knn)\n",
        "print(\"Mean Absolute Error:\",mae)\n",
        "print(\"Mean Squared Error:\", mse)\n",
        "print(\"Root Mean Squared Error:\", rmse)\n",
        "print(\"R-squared:\", r2)"
      ]
    },
    {
      "cell_type": "code",
      "execution_count": null,
      "metadata": {
        "id": "p-zg9ZdQ_INF",
        "outputId": "a77a81ae-4ffe-4eac-89f5-239933bb2e2b"
      },
      "outputs": [
        {
          "data": {
            "text/plain": [
              "KNeighborsRegressor(n_neighbors=4)"
            ]
          },
          "execution_count": 185,
          "metadata": {},
          "output_type": "execute_result"
        }
      ],
      "source": [
        "from sklearn.neighbors import KNeighborsRegressor\n",
        "knn=KNeighborsRegressor(n_neighbors=4)\n",
        "knn.fit(X_test,y_test)"
      ]
    },
    {
      "cell_type": "code",
      "execution_count": null,
      "metadata": {
        "id": "oF8nT10r_INF"
      },
      "outputs": [],
      "source": [
        "testpreds_knn=knn.predict(X_test)"
      ]
    },
    {
      "cell_type": "code",
      "execution_count": null,
      "metadata": {
        "id": "fL8-QSg__ING",
        "outputId": "1cd19ee7-ea97-4fd2-a192-03b1334aabd8"
      },
      "outputs": [
        {
          "name": "stdout",
          "output_type": "stream",
          "text": [
            "Mean Absolute Error: 0.88407805907173\n",
            "Mean Squared Error: 5.755403481012658\n",
            "Root Mean Squared Error: 2.3990422007569308\n",
            "R-squared: 0.5529189868041892\n"
          ]
        }
      ],
      "source": [
        "# Error Metrics\n",
        "from sklearn.metrics import mean_squared_error,mean_absolute_error,r2_score\n",
        "mae = mean_absolute_error(y_test, testpreds_knn)\n",
        "mse = mean_squared_error(y_test, testpreds_knn)\n",
        "rmse = np.sqrt(mse)\n",
        "r2 = r2_score(y_test, testpreds_knn)\n",
        "print(\"Mean Absolute Error:\",mae)\n",
        "print(\"Mean Squared Error:\", mse)\n",
        "print(\"Root Mean Squared Error:\", rmse)\n",
        "print(\"R-squared:\", r2)"
      ]
    },
    {
      "cell_type": "markdown",
      "source": [
        "#hyperparameter tunning by using the grid search"
      ],
      "metadata": {
        "id": "MJOxjlZxBaMZ"
      }
    },
    {
      "cell_type": "code",
      "execution_count": null,
      "metadata": {
        "id": "NhLeIqOepr1y"
      },
      "outputs": [],
      "source": [
        "import itertools\n",
        "import random\n",
        "\n",
        "def grid_search(param_grid, X_train, y_train, X_test, y_test):\n",
        "    \"\"\"\n",
        "    Performs a grid search over a specified hyperparameter grid.\n",
        "    \n",
        "    Parameters:\n",
        "        param_grid (dict): A dictionary of hyperparameters to search over. The keys should be \n",
        "            strings indicating the hyperparameter names, and the values should be lists \n",
        "            of possible values for each hyperparameter.\n",
        "        X_train (ndarray): An array of training data.\n",
        "        y_train (ndarray): An array of training labels.\n",
        "        X_val (ndarray): An array of validation data.\n",
        "        y_val (ndarray): An array of validation labels.\n",
        "    \n",
        "    Returns:\n",
        "        best_params (dict): A dictionary of the hyperparameters that achieved the highest validation accuracy.\n",
        "        best_acc (float): The validation accuracy achieved by the best set of hyperparameters.\n",
        "    \"\"\"\n",
        "    param_grid = {'hidden_layer_sizes': [(64,),(128)],\n",
        "                  'activation': ['relu', 'tanh'],\n",
        "                  'learning_rate_init': [0.001, 0.01, 0.1],\n",
        "                  'max_iter': [100, 300, 500]}\n",
        "         \n",
        "    # Generate all possible combinations of hyperparameters\n",
        "    hyperparam_values = list(itertools.product(*param_grid.values()))\n",
        "    hyperparam_keys = list(param_grid.keys())\n",
        "\n",
        "    # Initialize variables to keep track of best hyperparameters and validation accuracy\n",
        "    best_params = None\n",
        "    best_acc = 0.0\n",
        "    best_r2_score = 0.70\n",
        "\n",
        "    # Iterate over all hyperparameter combinations\n",
        "    for hyperparams in hyperparam_values:\n",
        "        # Create a dictionary of hyperparameters\n",
        "        hyperparam_dict = dict(zip(hyperparam_keys, hyperparams))\n",
        "\n",
        "        # Train a model with the current hyperparameters\n",
        "        # (this is where you would train your model, e.g. by calling a function)\n",
        "        # Here, we just print the hyperparameters being tested\n",
        "        print('Testing hyperparameters:', hyperparam_dict)\n",
        "\n",
        "        # Compute the validation accuracy\n",
        "        # (this is where you would compute the accuracy of your model on the validation set)\n",
        "        # Here, we just set the accuracy to a random value between 0 and 1\n",
        "        r2_score = random.uniform(0, 1)\n",
        "\n",
        "        # Update best hyperparameters and validation accuracy\n",
        "        if r2_score > best_r2_score:\n",
        "          best_r2_score = r2_score\n",
        "          best_params = hyperparam_dict\n",
        "\n",
        "    return best_params, best_r2_score\n"
      ]
    },
    {
      "cell_type": "code",
      "execution_count": null,
      "metadata": {
        "id": "jgIc5OKMYTsw"
      },
      "outputs": [],
      "source": [
        "param_grid = {'hidden_layer_sizes': [(64,),(128)],\n",
        "                  'activation': ['relu', 'tanh'],\n",
        "                  'learning_rate_init': [0.001, 0.01, 0.1],\n",
        "                  'max_iter': [100, 300, 500]}"
      ]
    },
    {
      "cell_type": "code",
      "execution_count": null,
      "metadata": {
        "id": "zVUbPRpU1R1m"
      },
      "outputs": [],
      "source": [
        "grid_search(param_grid, x_train, y_train, x_test, y_test)"
      ]
    },
    {
      "cell_type": "code",
      "execution_count": null,
      "metadata": {
        "id": "o9WmBtK65eba"
      },
      "outputs": [],
      "source": [
        "from sklearn.model_selection import GridSearchCV\n",
        "from sklearn.neural_network import MLPRegressor\n",
        "from sklearn.datasets import make_regression"
      ]
    },
    {
      "cell_type": "code",
      "execution_count": null,
      "metadata": {
        "id": "CvgD5OTc5Ay4"
      },
      "outputs": [],
      "source": [
        "besthp=MLPRegressor(hidden_layer_sizes=(128,), activation='relu', learning_rate_init=0.001, max_iter=300, random_state=2341)"
      ]
    },
    {
      "cell_type": "code",
      "execution_count": null,
      "metadata": {
        "id": "efL6rw7A5Ap6"
      },
      "outputs": [],
      "source": [
        "besthp.fit(x_train,y_train.ravel())"
      ]
    },
    {
      "cell_type": "code",
      "execution_count": null,
      "metadata": {
        "id": "dGPuynIK5AlL"
      },
      "outputs": [],
      "source": [
        "train_pred_bhp = besthp.predict(x_train)\n",
        "test_pred_bhp = besthp.predict(x_test)"
      ]
    },
    {
      "cell_type": "code",
      "execution_count": null,
      "metadata": {
        "id": "jgmu25kr5Agq"
      },
      "outputs": [],
      "source": [
        "from sklearn import metrics\n",
        "from sklearn.metrics import mean_squared_error\n",
        "from sklearn.metrics import mean_absolute_error\n",
        "from sklearn.metrics import r2_score"
      ]
    },
    {
      "cell_type": "code",
      "execution_count": null,
      "metadata": {
        "id": "jgjxlGeV5Acr"
      },
      "outputs": [],
      "source": [
        "mse = mean_squared_error(y_train, train_pred_bhp)\n",
        "mae = mean_absolute_error(y_train, train_pred_bhp)\n",
        "rmse=np.sqrt(mean_squared_error(y_train, train_pred_bhp))\n",
        "r2_score=r2_score(y_train, train_pred_bhp)\n",
        "print(\"Train MSE: \", mse)\n",
        "print(\"Train MAE: \", mae)\n",
        "print(\"Train RMSE: \", rmse)\n",
        "print(\"Train r2_score: \", r2_score)"
      ]
    },
    {
      "cell_type": "code",
      "execution_count": null,
      "metadata": {
        "id": "TwKHr1cs5ANm"
      },
      "outputs": [],
      "source": [
        "from sklearn.metrics import mean_squared_error, mean_absolute_error, r2_score\n",
        "mse = mean_squared_error(y_test, test_pred_bhp)\n",
        "mae = mean_absolute_error(y_test, test_pred_bhp)\n",
        "rmse = np.sqrt(mean_squared_error(y_test, test_pred_bhp))\n",
        "r2 = r2_score(y_test, test_pred_bhp)\n",
        "\n",
        "print(\"MSE: \", mse)\n",
        "print(\"MAE: \", mae)\n",
        "print(\"RMSE: \", rmse)\n",
        "print(\"R2 Score: \", r2)"
      ]
    },
    {
      "cell_type": "code",
      "execution_count": null,
      "metadata": {
        "id": "SckaXdia66cU"
      },
      "outputs": [],
      "source": []
    },
    {
      "cell_type": "code",
      "execution_count": null,
      "metadata": {
        "id": "U8rwt25A66Q1"
      },
      "outputs": [],
      "source": []
    },
    {
      "cell_type": "markdown",
      "metadata": {
        "id": "Do1Vr0YkwFYy"
      },
      "source": [
        "# 2 Implementing a Activation Function\n",
        "We will use relu activation function because it outputs the values from  0 to 1 so its a good choice for a regression problem"
      ]
    },
    {
      "cell_type": "code",
      "execution_count": null,
      "metadata": {
        "id": "srZoxiyS93ox"
      },
      "outputs": [],
      "source": [
        "def relu(z):\n",
        "    return np.maximum(0, z)"
      ]
    },
    {
      "cell_type": "markdown",
      "metadata": {
        "id": "QjQeIDoCpy-_"
      },
      "source": [
        "**3 Define Neural Network Architecture\n",
        "Create a model with three layers - Input, Hidden, Output.**"
      ]
    },
    {
      "cell_type": "code",
      "execution_count": null,
      "metadata": {
        "id": "dyub7p1Upxhf"
      },
      "outputs": [],
      "source": [
        "def network_architecture(X, Y):\n",
        "    # nodes in input layer\n",
        "    n_x = X.shape[1]\n",
        "    # nodes in hidden layer\n",
        "    n_h = 12          \n",
        "    # nodes in output layer\n",
        "    n_y = 1\n",
        "    return (n_x, n_h, n_y)"
      ]
    },
    {
      "cell_type": "code",
      "execution_count": null,
      "metadata": {
        "id": "qCxVrJze09BB"
      },
      "outputs": [],
      "source": [
        "network_architecture(X, Y)"
      ]
    },
    {
      "cell_type": "markdown",
      "metadata": {
        "id": "KAbxPf_Btghw"
      },
      "source": [
        "# 4 Define Neural Network Parameters\n",
        "Neural Network parameters are weights and bias which we need to initialze with zero values. The first layer only contains inputs so there are no weights and bias, but the hidden layer and the output layer have a weight and bias term. (W1, b1 and W2, b2)"
      ]
    },
    {
      "cell_type": "code",
      "execution_count": null,
      "metadata": {
        "id": "0sroTA7_tZKz"
      },
      "outputs": [],
      "source": [
        "def define_network_parameters(n_x, n_h, n_y):\n",
        "    W1 = np.random.randn(n_h,n_x) * 0.01 # random initialization\n",
        "    b1 = np.zeros((n_h, 1)) # zero initialization\n",
        "    W2 = np.random.randn(n_y,n_h) * 0.01 \n",
        "    b2 = np.zeros((n_y, 1)) \n",
        "    return {\"W1\": W1, \"b1\": b1, \"W2\": W2, \"b2\": b2}"
      ]
    },
    {
      "cell_type": "code",
      "execution_count": null,
      "metadata": {
        "id": "lqVGaYU_0t8g"
      },
      "outputs": [],
      "source": [
        "# q=define_network_parameters(n_x, n_h, n_y)"
      ]
    },
    {
      "cell_type": "markdown",
      "metadata": {
        "id": "9yAUq07qvbG1"
      },
      "source": [
        "# 5 Implement Forward Propagation\n",
        "The hidden layer and output layer will compute the activations using sigmoid activation function and will pass it in the forward direction. While computing this activation, the input is multiplied with weight and added with bias before passing it to the function."
      ]
    },
    {
      "cell_type": "code",
      "execution_count": null,
      "metadata": {
        "id": "efA98ZvvveGU"
      },
      "outputs": [],
      "source": [
        "def forward_propagation(X, params):\n",
        "    Z1 = np.dot(params['W1'], X)+params['b1']\n",
        "    A1 = relu(Z1)\n",
        "\n",
        "    Z2 = np.dot(params['W2'], A1)+params['b2']\n",
        "    A2 = relu(Z2)\n",
        "    return {\"Z1\": Z1, \"A1\": A1, \"Z2\": Z2, \"A2\": A2}   \n",
        "    "
      ]
    },
    {
      "cell_type": "markdown",
      "metadata": {
        "id": "Z1yRgE0IxSlT"
      },
      "source": [
        "# 6 Compute the Network Error\n",
        "To compute the cost, one straight forward approach is to compute the absolute error among prediction and actual value. \n",
        "\n",
        "\n",
        "**Mean Absolute Error** (MAE) is the mean of the absolute value of the errors:\n",
        "\n",
        "$$\\frac 1n\\sum_{i=1}^n|y_i-\\hat{y}_i|$$"
      ]
    },
    {
      "cell_type": "code",
      "execution_count": null,
      "metadata": {
        "id": "f0ErEl7ex1Ug"
      },
      "outputs": [],
      "source": [
        "def mean_absolute_error(Y, A2):\n",
        "                    return np.mean(np.abs(Y - A2))"
      ]
    },
    {
      "cell_type": "markdown",
      "metadata": {
        "id": "odDKOgPaz64T"
      },
      "source": [
        "# 7 Implement Backward Propagation\n",
        "In backward propagation function, the error is passed backward to previous layers and the derivatives of weights and bias are computed. The weights and bias are then updated using the derivatives."
      ]
    },
    {
      "cell_type": "code",
      "execution_count": null,
      "metadata": {
        "id": "tmo1IOFpx1IL"
      },
      "outputs": [],
      "source": [
        "def backward_propagation(params, activations, X, Y):\n",
        "    m = X.shape[1]\n",
        "    \n",
        "    # output layer\n",
        "    dZ2 = activations['A2'] - Y # compute the error derivative \n",
        "    dW2 = np.dot(dZ2, activations['A1'].T) / m # compute the weight derivative \n",
        "    db2 = np.sum(dZ2, axis=1, keepdims=True)/m # compute the bias derivative\n",
        "    \n",
        "    # hidden layer\n",
        "    dZ1 = np.dot(params['W2'].T, dZ2)*(1-np.power(activations['A1'], 2))\n",
        "    dW1 = np.dot(dZ1, X.T)/m\n",
        "    db1 = np.sum(dZ1, axis=1,keepdims=True)/m\n",
        "    \n",
        "    return {\"dW1\": dW1, \"db1\": db1, \"dW2\": dW2, \"db2\": db2}\n",
        "\n",
        "def update_parameters(params, derivatives, alpha = 1.2):\n",
        "    # alpha is the model's learning rate \n",
        "    \n",
        "    params['W1'] = params['W1'] - alpha * derivatives['dW1']\n",
        "    params['b1'] = params['b1'] - alpha * derivatives['db1']\n",
        "    params['W2'] = params['W2'] - alpha * derivatives['dW2']\n",
        "    params['b2'] = params['b2'] - alpha * derivatives['db2']\n",
        "    return params"
      ]
    },
    {
      "cell_type": "markdown",
      "metadata": {
        "id": "fcePZpZ80xkS"
      },
      "source": [
        "# 8 Compile and Train the Model\n",
        "Create a function which compiles all the key functions and creates a neural network model."
      ]
    },
    {
      "cell_type": "code",
      "execution_count": null,
      "metadata": {
        "id": "RYtxOcMv0p1t"
      },
      "outputs": [],
      "source": [
        "def neural_network(X, Y, n_h, num_iterations=100):\n",
        "    n_x = network_architecture(X, Y)[0]\n",
        "    n_y = network_architecture(X, Y)[2]\n",
        "    \n",
        "    params = define_network_parameters(n_x, n_h, n_y)\n",
        "    for i in range(0, num_iterations):\n",
        "        results = forward_propagation(X, params)\n",
        "        error = mean_absolute_error(results['A2'], Y)\n",
        "        print(error)\n",
        "        derivatives = backward_propagation(params, results, X, Y) \n",
        "        params = update_parameters(params, derivatives, alpha=1.2) \n",
        "        #print(params)\n",
        "    return params"
      ]
    },
    {
      "cell_type": "code",
      "execution_count": null,
      "metadata": {
        "id": "y9lNevzh0jPj"
      },
      "outputs": [],
      "source": [
        "x = X.reshape(X.shape[1], X.shape[0])\n",
        "y = Y.values.reshape(Y.shape[0],1)"
      ]
    },
    {
      "cell_type": "code",
      "execution_count": null,
      "metadata": {
        "id": "ozGGflqa8l2h"
      },
      "outputs": [],
      "source": [
        "X.shape[1]"
      ]
    },
    {
      "cell_type": "code",
      "execution_count": null,
      "metadata": {
        "id": "blvjIIy78qM5"
      },
      "outputs": [],
      "source": [
        "X.shape[0]"
      ]
    },
    {
      "cell_type": "code",
      "execution_count": null,
      "metadata": {
        "id": "1JevKkdtE8Ln"
      },
      "outputs": [],
      "source": [
        "x.shape"
      ]
    },
    {
      "cell_type": "code",
      "execution_count": null,
      "metadata": {
        "id": "9F6E4UDW2rpw"
      },
      "outputs": [],
      "source": [
        "y.shape"
      ]
    },
    {
      "cell_type": "code",
      "execution_count": null,
      "metadata": {
        "id": "cVJlKFtLFDIk"
      },
      "outputs": [],
      "source": [
        " model = neural_network(x, y, n_h=1, num_iterations=5)"
      ]
    },
    {
      "cell_type": "code",
      "execution_count": null,
      "metadata": {
        "id": "y-xI6_c593pE"
      },
      "outputs": [],
      "source": [
        "def predict(parameters, X):\n",
        "    results = forward_propagation(X, parameters)\n",
        "    print (results['A2'][0])\n",
        "    predictions = np.around(results['A2'])\n",
        "    print(predictions)\n",
        "    return predictions\n"
      ]
    },
    {
      "cell_type": "code",
      "execution_count": null,
      "metadata": {
        "id": "SZOWCO2-93pE"
      },
      "outputs": [],
      "source": [
        "X.shape"
      ]
    },
    {
      "cell_type": "code",
      "execution_count": null,
      "metadata": {
        "id": "RL6oFpYP93pH"
      },
      "outputs": [],
      "source": [
        "  predictions = predict(model, X.T)\n",
        "r_squared_score = (np.dot(X.T, predictions) + np.dot(1-X.T, 1-predictions)) / float(y.size) * 100\n"
      ]
    },
    {
      "cell_type": "code",
      "execution_count": null,
      "metadata": {
        "id": "eWj-tPbZ93pJ"
      },
      "outputs": [],
      "source": [
        "# print('R^2_score:' , r_squared_score)"
      ]
    },
    {
      "cell_type": "code",
      "execution_count": null,
      "metadata": {
        "id": "iimiz8uW93pK"
      },
      "outputs": [],
      "source": [
        "# te=test.reshape(test.shape[0],test.shape[1])\n",
        "# te.shape\n",
        "                  "
      ]
    },
    {
      "cell_type": "code",
      "execution_count": null,
      "metadata": {
        "id": "xHbXkx7v93pL"
      },
      "outputs": [],
      "source": [
        "# predictions = predict(model, te.T)\n",
        "#  r_squared_score = (np.dot(y.T, predictions) + np.dot(1-y.T, 1-predictions)) / float(y.size) * 100\n"
      ]
    },
    {
      "cell_type": "code",
      "execution_count": null,
      "metadata": {
        "id": "9zvpaUzl93pL"
      },
      "outputs": [],
      "source": [
        "# print('R^2_score:' , r_squared_score)"
      ]
    },
    {
      "cell_type": "code",
      "execution_count": null,
      "metadata": {
        "id": "yaHL6l8b93pO"
      },
      "outputs": [],
      "source": [
        "train_pred_bhp = besthp.predict(x_train)\n",
        "test_pred_bhp = besthp.predict(x_test) "
      ]
    },
    {
      "cell_type": "code",
      "execution_count": null,
      "metadata": {
        "id": "Lyi_PccECF7T"
      },
      "outputs": [],
      "source": [
        "from sklearn import metrics\n",
        "from sklearn.metrics import mean_squared_error\n",
        "from sklearn.metrics import mean_absolute_error\n",
        "from sklearn.metrics import r2_score"
      ]
    },
    {
      "cell_type": "code",
      "execution_count": null,
      "metadata": {
        "id": "ix_EHd0qCfSP"
      },
      "outputs": [],
      "source": [
        "mse = mean_squared_error(y_train, train_pred_bhp)\n",
        "mae = mean_absolute_error(y_train, train_pred_bhp)\n",
        "rmse=np.sqrt(mean_squared_error(y_train, train_pred_bhp))\n",
        "r2_score=r2_score(y_train, train_pred_bhp)\n",
        "print(\"Train MSE: \", mse)\n",
        "print(\"Train MAE: \", mae)\n",
        "print(\"Train RMSE: \", rmse)\n",
        "print(\"Train r2_score: \", r2_score)"
      ]
    },
    {
      "cell_type": "code",
      "execution_count": null,
      "metadata": {
        "id": "ETCJCDvyCiNd"
      },
      "outputs": [],
      "source": [
        "from sklearn.metrics import mean_squared_error, mean_absolute_error, r2_score\n",
        "mse = mean_squared_error(y_test, test_pred_bhp)\n",
        "mae = mean_absolute_error(y_test, test_pred_bhp)\n",
        "rmse = np.sqrt(mean_squared_error(y_test, test_pred_bhp))\n",
        "r2 = r2_score(y_test, test_pred_bhp)\n",
        "\n",
        "print(\"MSE: \", mse)\n",
        "print(\"MAE: \", mae)\n",
        "print(\"RMSE: \", rmse)\n",
        "print(\"R2 Score: \", r2)"
      ]
    },
    {
      "cell_type": "code",
      "execution_count": null,
      "metadata": {
        "id": "TpMmp7zzCmYJ"
      },
      "outputs": [],
      "source": []
    }
  ],
  "metadata": {
    "colab": {
      "provenance": []
    },
    "kernelspec": {
      "display_name": "Python 3",
      "language": "python",
      "name": "python3"
    },
    "language_info": {
      "codemirror_mode": {
        "name": "ipython",
        "version": 3
      },
      "file_extension": ".py",
      "mimetype": "text/x-python",
      "name": "python",
      "nbconvert_exporter": "python",
      "pygments_lexer": "ipython3",
      "version": "3.7.6"
    }
  },
  "nbformat": 4,
  "nbformat_minor": 0
}