{
  "cells": [
    {
      "cell_type": "markdown",
      "metadata": {
        "id": "OGi1uztgSxEq"
      },
      "source": [
        "<hr/>\n",
        "\n",
        " **Traffic Volume Prediction** ( Artificial Neural Network)\n",
        "\n",
        "<hr/>\n",
        "\n",
        "### Table of Contents\n",
        "1. [Overview](#ch1)\n",
        "1. [Dataset](#ch2)\n",
        "1. [Exploratory Data Analysis](#ch3)\n",
        "1. [Working with Feature Data](#ch4)\n",
        "1. [Feature Engineering](#ch5)\n",
        "1. [Scaling and Train Test Split](#ch6)\n",
        "1. [Creating a Model](#ch7)\n",
        "1. [Training the Model](#ch8)\n",
        "1. [Evaluation on Test Data](#ch9)\n",
        "1. [Predicting the traffic volume](#ch10)"
      ]
    },
    {
      "cell_type": "markdown",
      "metadata": {
        "id": "BYAf5vdaTHRk"
      },
      "source": [
        "<a id=\"ch1\"></a>\n",
        "## Overview \n",
        "<hr/>\n",
        "\n",
        "One of the objectives of this notebook is to **show step-by-step how analyzing the dataset to predict future home prices.** Moreover, we are going to explain most of the concepts used so that you understand why we are using them.\n",
        "\n",
        "\n",
        "\n",
        "\n",
        "\n",
        "\n",
        "The following questions will be answered throughout the Kernel:\n",
        "* ***Which features are available in the dataset?***\n",
        "* ***Which features are categorical?***\n",
        "* ***Which features are numerical?***\n",
        "* ***Which features contain blank, null or empty values?***\n",
        "* ***What are the data types for various features?***\n",
        "* ***What is the distribution of numerical feature values across the samples?***\n",
        "* ***Which features are more correlated to the price?***"
      ]
    },
    {
      "cell_type": "markdown",
      "metadata": {
        "id": "gKGmn_n--031"
      },
      "source": [
        "<a id=\"ch2\"></a>\n",
        "## Dataset\n",
        "<hr/>\n",
        "\n",
        "**Traffic Volume Prediction**\n",
        "Give some attributes we have to predict the traffic volume.\n",
        "\n",
        "There are 9 attributes which represents the following -\n",
        "\n",
        "date_time - DateTime Hour of the data collected in local CST time\n",
        "\n",
        "\n",
        "\n",
        "\n",
        "* holiday - Categorical US National holidays plus regional \n",
        "* holiday, Minnesota State Fair\n",
        "* temp - Numeric Average temp in kelvin\n",
        "* rain_1h - Numeric Amount in mm of rain that occurred in the hour\n",
        "* snow_1h - Numeric Amount in mm of snow that occurred in the hour\n",
        "* clouds_all - Numeric Percentage of cloud cover\n",
        "* weather_main - Categorical Short textual description of the current weather\n",
        "* weather_description - Categorical Longer textual description of the current weather\n",
        "* traffic_volume - Numeric Hourly I-94 ATR 301 reported westbound \n",
        "traffic volume (Target)\n",
        "\n",
        "\n",
        "\n",
        "\n",
        "\n",
        "\n"
      ]
    },
    {
      "cell_type": "code",
      "execution_count": null,
      "metadata": {
        "id": "25GEZEsH_H8m"
      },
      "outputs": [],
      "source": []
    },
    {
      "cell_type": "markdown",
      "metadata": {
        "id": "GKnKtw5r_dLn"
      },
      "source": []
    },
    {
      "cell_type": "code",
      "execution_count": 5,
      "metadata": {
        "_cell_guid": "b1076dfc-b9ad-4769-8c92-a6c4dae69d19",
        "_uuid": "8f2839f25d086af736a60e9eeb907d3b93b6e0e5",
        "id": "1ygiv8oMuKoM"
      },
      "outputs": [],
      "source": [
        "import numpy as np\n",
        "import pandas as pd\n",
        "import matplotlib.pyplot as plt\n",
        "import math\n",
        "\n",
        "from sklearn import tree\n",
        "from sklearn import svm\n",
        "from sklearn.metrics import mean_squared_error\n",
        "from sklearn.preprocessing import OneHotEncoder\n",
        "from sklearn.model_selection import train_test_split\n",
        "from sklearn.model_selection import cross_val_score\n",
        "\n",
        "# import os\n",
        "# for dirname, _, filenames in os.walk('/kaggle/input'):\n",
        "#     for filename in filenames:\n",
        "#         print(os.path.join(dirname, filename))"
      ]
    },
    {
      "cell_type": "markdown",
      "metadata": {
        "id": "wNXBnlYqTl7t"
      },
      "source": [
        "### Acquire data\n",
        "The Python Pandas packages helps us work with our datasets. We start by acquiring the datasets into Pandas DataFrames"
      ]
    },
    {
      "cell_type": "code",
      "execution_count": 1,
      "metadata": {
        "colab": {
          "base_uri": "https://localhost:8080/"
        },
        "id": "CBHYHDCfuwzi",
        "outputId": "1e86c1d4-7792-49d8-aad6-2f17d894f92f"
      },
      "outputs": [
        {
          "output_type": "stream",
          "name": "stdout",
          "text": [
            "Mounted at /content/drive\n"
          ]
        }
      ],
      "source": [
        " from google.colab import drive\n",
        " drive.mount('/content/drive')"
      ]
    },
    {
      "cell_type": "markdown",
      "metadata": {
        "id": "xJhwRDy2uKoQ"
      },
      "source": [
        "**Load Data**"
      ]
    },
    {
      "cell_type": "code",
      "execution_count": 6,
      "metadata": {
        "id": "h0LuDG38uKoi"
      },
      "outputs": [],
      "source": [
        "test_set = pd.read_csv(\"/content/drive/MyDrive/Internship/Test.csv\")\n",
        "train_set = pd.read_csv(\"/content/drive/MyDrive/Internship/Train.csv\")"
      ]
    },
    {
      "cell_type": "code",
      "execution_count": 7,
      "metadata": {
        "colab": {
          "base_uri": "https://localhost:8080/",
          "height": 443
        },
        "id": "tV20GHjhuKoj",
        "outputId": "f213163f-5392-4a2d-d7d1-7ce8d7c3ddf5"
      },
      "outputs": [
        {
          "output_type": "execute_result",
          "data": {
            "text/plain": [
              "             date_time is_holiday  air_pollution_index  humidity  wind_speed  \\\n",
              "0  2012-10-02 09:00:00       None                  121        89           2   \n",
              "1  2012-10-02 10:00:00       None                  178        67           3   \n",
              "2  2012-10-02 11:00:00       None                  113        66           3   \n",
              "3  2012-10-02 12:00:00       None                   20        66           3   \n",
              "4  2012-10-02 13:00:00       None                  281        65           3   \n",
              "\n",
              "   wind_direction  visibility_in_miles  dew_point  temperature  rain_p_h  \\\n",
              "0             329                    1          1       288.28       0.0   \n",
              "1             330                    1          1       289.36       0.0   \n",
              "2             329                    2          2       289.58       0.0   \n",
              "3             329                    5          5       290.13       0.0   \n",
              "4             329                    7          7       291.14       0.0   \n",
              "\n",
              "   snow_p_h  clouds_all weather_type weather_description  traffic_volume  \n",
              "0       0.0          40       Clouds    scattered clouds            5545  \n",
              "1       0.0          75       Clouds       broken clouds            4516  \n",
              "2       0.0          90       Clouds     overcast clouds            4767  \n",
              "3       0.0          90       Clouds     overcast clouds            5026  \n",
              "4       0.0          75       Clouds       broken clouds            4918  "
            ],
            "text/html": [
              "\n",
              "  <div id=\"df-be4240cb-053b-4c11-ae9e-c76b8afc4b77\">\n",
              "    <div class=\"colab-df-container\">\n",
              "      <div>\n",
              "<style scoped>\n",
              "    .dataframe tbody tr th:only-of-type {\n",
              "        vertical-align: middle;\n",
              "    }\n",
              "\n",
              "    .dataframe tbody tr th {\n",
              "        vertical-align: top;\n",
              "    }\n",
              "\n",
              "    .dataframe thead th {\n",
              "        text-align: right;\n",
              "    }\n",
              "</style>\n",
              "<table border=\"1\" class=\"dataframe\">\n",
              "  <thead>\n",
              "    <tr style=\"text-align: right;\">\n",
              "      <th></th>\n",
              "      <th>date_time</th>\n",
              "      <th>is_holiday</th>\n",
              "      <th>air_pollution_index</th>\n",
              "      <th>humidity</th>\n",
              "      <th>wind_speed</th>\n",
              "      <th>wind_direction</th>\n",
              "      <th>visibility_in_miles</th>\n",
              "      <th>dew_point</th>\n",
              "      <th>temperature</th>\n",
              "      <th>rain_p_h</th>\n",
              "      <th>snow_p_h</th>\n",
              "      <th>clouds_all</th>\n",
              "      <th>weather_type</th>\n",
              "      <th>weather_description</th>\n",
              "      <th>traffic_volume</th>\n",
              "    </tr>\n",
              "  </thead>\n",
              "  <tbody>\n",
              "    <tr>\n",
              "      <th>0</th>\n",
              "      <td>2012-10-02 09:00:00</td>\n",
              "      <td>None</td>\n",
              "      <td>121</td>\n",
              "      <td>89</td>\n",
              "      <td>2</td>\n",
              "      <td>329</td>\n",
              "      <td>1</td>\n",
              "      <td>1</td>\n",
              "      <td>288.28</td>\n",
              "      <td>0.0</td>\n",
              "      <td>0.0</td>\n",
              "      <td>40</td>\n",
              "      <td>Clouds</td>\n",
              "      <td>scattered clouds</td>\n",
              "      <td>5545</td>\n",
              "    </tr>\n",
              "    <tr>\n",
              "      <th>1</th>\n",
              "      <td>2012-10-02 10:00:00</td>\n",
              "      <td>None</td>\n",
              "      <td>178</td>\n",
              "      <td>67</td>\n",
              "      <td>3</td>\n",
              "      <td>330</td>\n",
              "      <td>1</td>\n",
              "      <td>1</td>\n",
              "      <td>289.36</td>\n",
              "      <td>0.0</td>\n",
              "      <td>0.0</td>\n",
              "      <td>75</td>\n",
              "      <td>Clouds</td>\n",
              "      <td>broken clouds</td>\n",
              "      <td>4516</td>\n",
              "    </tr>\n",
              "    <tr>\n",
              "      <th>2</th>\n",
              "      <td>2012-10-02 11:00:00</td>\n",
              "      <td>None</td>\n",
              "      <td>113</td>\n",
              "      <td>66</td>\n",
              "      <td>3</td>\n",
              "      <td>329</td>\n",
              "      <td>2</td>\n",
              "      <td>2</td>\n",
              "      <td>289.58</td>\n",
              "      <td>0.0</td>\n",
              "      <td>0.0</td>\n",
              "      <td>90</td>\n",
              "      <td>Clouds</td>\n",
              "      <td>overcast clouds</td>\n",
              "      <td>4767</td>\n",
              "    </tr>\n",
              "    <tr>\n",
              "      <th>3</th>\n",
              "      <td>2012-10-02 12:00:00</td>\n",
              "      <td>None</td>\n",
              "      <td>20</td>\n",
              "      <td>66</td>\n",
              "      <td>3</td>\n",
              "      <td>329</td>\n",
              "      <td>5</td>\n",
              "      <td>5</td>\n",
              "      <td>290.13</td>\n",
              "      <td>0.0</td>\n",
              "      <td>0.0</td>\n",
              "      <td>90</td>\n",
              "      <td>Clouds</td>\n",
              "      <td>overcast clouds</td>\n",
              "      <td>5026</td>\n",
              "    </tr>\n",
              "    <tr>\n",
              "      <th>4</th>\n",
              "      <td>2012-10-02 13:00:00</td>\n",
              "      <td>None</td>\n",
              "      <td>281</td>\n",
              "      <td>65</td>\n",
              "      <td>3</td>\n",
              "      <td>329</td>\n",
              "      <td>7</td>\n",
              "      <td>7</td>\n",
              "      <td>291.14</td>\n",
              "      <td>0.0</td>\n",
              "      <td>0.0</td>\n",
              "      <td>75</td>\n",
              "      <td>Clouds</td>\n",
              "      <td>broken clouds</td>\n",
              "      <td>4918</td>\n",
              "    </tr>\n",
              "  </tbody>\n",
              "</table>\n",
              "</div>\n",
              "      <button class=\"colab-df-convert\" onclick=\"convertToInteractive('df-be4240cb-053b-4c11-ae9e-c76b8afc4b77')\"\n",
              "              title=\"Convert this dataframe to an interactive table.\"\n",
              "              style=\"display:none;\">\n",
              "        \n",
              "  <svg xmlns=\"http://www.w3.org/2000/svg\" height=\"24px\"viewBox=\"0 0 24 24\"\n",
              "       width=\"24px\">\n",
              "    <path d=\"M0 0h24v24H0V0z\" fill=\"none\"/>\n",
              "    <path d=\"M18.56 5.44l.94 2.06.94-2.06 2.06-.94-2.06-.94-.94-2.06-.94 2.06-2.06.94zm-11 1L8.5 8.5l.94-2.06 2.06-.94-2.06-.94L8.5 2.5l-.94 2.06-2.06.94zm10 10l.94 2.06.94-2.06 2.06-.94-2.06-.94-.94-2.06-.94 2.06-2.06.94z\"/><path d=\"M17.41 7.96l-1.37-1.37c-.4-.4-.92-.59-1.43-.59-.52 0-1.04.2-1.43.59L10.3 9.45l-7.72 7.72c-.78.78-.78 2.05 0 2.83L4 21.41c.39.39.9.59 1.41.59.51 0 1.02-.2 1.41-.59l7.78-7.78 2.81-2.81c.8-.78.8-2.07 0-2.86zM5.41 20L4 18.59l7.72-7.72 1.47 1.35L5.41 20z\"/>\n",
              "  </svg>\n",
              "      </button>\n",
              "      \n",
              "  <style>\n",
              "    .colab-df-container {\n",
              "      display:flex;\n",
              "      flex-wrap:wrap;\n",
              "      gap: 12px;\n",
              "    }\n",
              "\n",
              "    .colab-df-convert {\n",
              "      background-color: #E8F0FE;\n",
              "      border: none;\n",
              "      border-radius: 50%;\n",
              "      cursor: pointer;\n",
              "      display: none;\n",
              "      fill: #1967D2;\n",
              "      height: 32px;\n",
              "      padding: 0 0 0 0;\n",
              "      width: 32px;\n",
              "    }\n",
              "\n",
              "    .colab-df-convert:hover {\n",
              "      background-color: #E2EBFA;\n",
              "      box-shadow: 0px 1px 2px rgba(60, 64, 67, 0.3), 0px 1px 3px 1px rgba(60, 64, 67, 0.15);\n",
              "      fill: #174EA6;\n",
              "    }\n",
              "\n",
              "    [theme=dark] .colab-df-convert {\n",
              "      background-color: #3B4455;\n",
              "      fill: #D2E3FC;\n",
              "    }\n",
              "\n",
              "    [theme=dark] .colab-df-convert:hover {\n",
              "      background-color: #434B5C;\n",
              "      box-shadow: 0px 1px 3px 1px rgba(0, 0, 0, 0.15);\n",
              "      filter: drop-shadow(0px 1px 2px rgba(0, 0, 0, 0.3));\n",
              "      fill: #FFFFFF;\n",
              "    }\n",
              "  </style>\n",
              "\n",
              "      <script>\n",
              "        const buttonEl =\n",
              "          document.querySelector('#df-be4240cb-053b-4c11-ae9e-c76b8afc4b77 button.colab-df-convert');\n",
              "        buttonEl.style.display =\n",
              "          google.colab.kernel.accessAllowed ? 'block' : 'none';\n",
              "\n",
              "        async function convertToInteractive(key) {\n",
              "          const element = document.querySelector('#df-be4240cb-053b-4c11-ae9e-c76b8afc4b77');\n",
              "          const dataTable =\n",
              "            await google.colab.kernel.invokeFunction('convertToInteractive',\n",
              "                                                     [key], {});\n",
              "          if (!dataTable) return;\n",
              "\n",
              "          const docLinkHtml = 'Like what you see? Visit the ' +\n",
              "            '<a target=\"_blank\" href=https://colab.research.google.com/notebooks/data_table.ipynb>data table notebook</a>'\n",
              "            + ' to learn more about interactive tables.';\n",
              "          element.innerHTML = '';\n",
              "          dataTable['output_type'] = 'display_data';\n",
              "          await google.colab.output.renderOutput(dataTable, element);\n",
              "          const docLink = document.createElement('div');\n",
              "          docLink.innerHTML = docLinkHtml;\n",
              "          element.appendChild(docLink);\n",
              "        }\n",
              "      </script>\n",
              "    </div>\n",
              "  </div>\n",
              "  "
            ]
          },
          "metadata": {},
          "execution_count": 7
        }
      ],
      "source": [
        "train_set.head()"
      ]
    },
    {
      "cell_type": "code",
      "execution_count": 8,
      "metadata": {
        "colab": {
          "base_uri": "https://localhost:8080/"
        },
        "id": "XMQyGLz9wm0A",
        "outputId": "1632bac7-35c7-4f7a-dfdb-cc3282026944"
      },
      "outputs": [
        {
          "output_type": "execute_result",
          "data": {
            "text/plain": [
              "(33750, 15)"
            ]
          },
          "metadata": {},
          "execution_count": 8
        }
      ],
      "source": [
        "train_set.shape"
      ]
    },
    {
      "cell_type": "markdown",
      "metadata": {
        "id": "RCk2wcTET9gl"
      },
      "source": [
        "### Analyze by describing data\n",
        "Pandas also helps describe the datasets answering following questions early in our project.\n",
        "\n",
        "***Which features are available in the dataset?***"
      ]
    },
    {
      "cell_type": "code",
      "execution_count": 9,
      "metadata": {
        "colab": {
          "base_uri": "https://localhost:8080/"
        },
        "id": "uUQOdTZ0T_zT",
        "outputId": "997bb64c-8171-4399-f6d5-9ae4008ec3e6"
      },
      "outputs": [
        {
          "output_type": "stream",
          "name": "stdout",
          "text": [
            "['date_time' 'is_holiday' 'air_pollution_index' 'humidity' 'wind_speed'\n",
            " 'wind_direction' 'visibility_in_miles' 'dew_point' 'temperature'\n",
            " 'rain_p_h' 'snow_p_h' 'clouds_all' 'weather_type' 'weather_description'\n",
            " 'traffic_volume']\n"
          ]
        }
      ],
      "source": [
        "print(train_set.columns.values)"
      ]
    },
    {
      "cell_type": "markdown",
      "metadata": {
        "id": "b8IzQQLmUWEA"
      },
      "source": [
        "***Which features are categorical?***\n",
        "\n",
        "These values classify the samples into sets of similar samples. Within categorical features are the values nominal, ordinal, ratio, or interval based? Among other things this helps us select the appropriate plots for visualization.\n",
        "\n",
        "* Categorical: is_holiday,'weather_type', 'weather_description'\n",
        "\n",
        "***Which features are numerical?***\n",
        "\n",
        "Which features are numerical? These values change from sample to sample. Within numerical features are the values discrete, continuous, or timeseries based? Among other things this helps us select the appropriate plots for visualization.\n",
        "\n",
        "* numerical:'date_time'  'air_pollution_index' 'humidity' 'wind_speed'\n",
        " 'wind_direction' 'visibility_in_miles' 'dew_point' 'temperature'\n",
        " 'rain_p_h' 'snow_p_h' 'clouds_all' 'traffic_volume'"
      ]
    },
    {
      "cell_type": "code",
      "execution_count": 10,
      "metadata": {
        "colab": {
          "base_uri": "https://localhost:8080/",
          "height": 443
        },
        "id": "Ghy4yj1aVZpW",
        "outputId": "002e968c-c50f-47a3-a574-a20fc5d20a4b"
      },
      "outputs": [
        {
          "output_type": "execute_result",
          "data": {
            "text/plain": [
              "                 date_time is_holiday  air_pollution_index  humidity  \\\n",
              "33745  2017-05-17 21:00:00       None                   74        85   \n",
              "33746  2017-05-17 22:00:00       None                   81        70   \n",
              "33747  2017-05-17 22:00:00       None                  138        70   \n",
              "33748  2017-05-17 23:00:00       None                  229        66   \n",
              "33749  2017-05-17 23:00:00       None                  140        63   \n",
              "\n",
              "       wind_speed  wind_direction  visibility_in_miles  dew_point  \\\n",
              "33745           1             328                    7          7   \n",
              "33746           1              24                    2          2   \n",
              "33747           1              24                    1          1   \n",
              "33748           1              42                    6          6   \n",
              "33749           1              27                    8          8   \n",
              "\n",
              "       temperature  rain_p_h  snow_p_h  clouds_all weather_type  \\\n",
              "33745       287.88       0.0       0.0          90         Mist   \n",
              "33746       286.95       0.0       0.0          90         Rain   \n",
              "33747       286.95       0.0       0.0          90         Mist   \n",
              "33748       285.75       0.0       0.0          90         Rain   \n",
              "33749       285.75       0.0       0.0          90         Mist   \n",
              "\n",
              "        weather_description  traffic_volume  \n",
              "33745                  mist            2348  \n",
              "33746  heavy intensity rain            2194  \n",
              "33747                  mist            2194  \n",
              "33748  heavy intensity rain            1328  \n",
              "33749                  mist            1328  "
            ],
            "text/html": [
              "\n",
              "  <div id=\"df-a4cba07e-f6fb-4cc4-a67f-aac2816a4a6f\">\n",
              "    <div class=\"colab-df-container\">\n",
              "      <div>\n",
              "<style scoped>\n",
              "    .dataframe tbody tr th:only-of-type {\n",
              "        vertical-align: middle;\n",
              "    }\n",
              "\n",
              "    .dataframe tbody tr th {\n",
              "        vertical-align: top;\n",
              "    }\n",
              "\n",
              "    .dataframe thead th {\n",
              "        text-align: right;\n",
              "    }\n",
              "</style>\n",
              "<table border=\"1\" class=\"dataframe\">\n",
              "  <thead>\n",
              "    <tr style=\"text-align: right;\">\n",
              "      <th></th>\n",
              "      <th>date_time</th>\n",
              "      <th>is_holiday</th>\n",
              "      <th>air_pollution_index</th>\n",
              "      <th>humidity</th>\n",
              "      <th>wind_speed</th>\n",
              "      <th>wind_direction</th>\n",
              "      <th>visibility_in_miles</th>\n",
              "      <th>dew_point</th>\n",
              "      <th>temperature</th>\n",
              "      <th>rain_p_h</th>\n",
              "      <th>snow_p_h</th>\n",
              "      <th>clouds_all</th>\n",
              "      <th>weather_type</th>\n",
              "      <th>weather_description</th>\n",
              "      <th>traffic_volume</th>\n",
              "    </tr>\n",
              "  </thead>\n",
              "  <tbody>\n",
              "    <tr>\n",
              "      <th>33745</th>\n",
              "      <td>2017-05-17 21:00:00</td>\n",
              "      <td>None</td>\n",
              "      <td>74</td>\n",
              "      <td>85</td>\n",
              "      <td>1</td>\n",
              "      <td>328</td>\n",
              "      <td>7</td>\n",
              "      <td>7</td>\n",
              "      <td>287.88</td>\n",
              "      <td>0.0</td>\n",
              "      <td>0.0</td>\n",
              "      <td>90</td>\n",
              "      <td>Mist</td>\n",
              "      <td>mist</td>\n",
              "      <td>2348</td>\n",
              "    </tr>\n",
              "    <tr>\n",
              "      <th>33746</th>\n",
              "      <td>2017-05-17 22:00:00</td>\n",
              "      <td>None</td>\n",
              "      <td>81</td>\n",
              "      <td>70</td>\n",
              "      <td>1</td>\n",
              "      <td>24</td>\n",
              "      <td>2</td>\n",
              "      <td>2</td>\n",
              "      <td>286.95</td>\n",
              "      <td>0.0</td>\n",
              "      <td>0.0</td>\n",
              "      <td>90</td>\n",
              "      <td>Rain</td>\n",
              "      <td>heavy intensity rain</td>\n",
              "      <td>2194</td>\n",
              "    </tr>\n",
              "    <tr>\n",
              "      <th>33747</th>\n",
              "      <td>2017-05-17 22:00:00</td>\n",
              "      <td>None</td>\n",
              "      <td>138</td>\n",
              "      <td>70</td>\n",
              "      <td>1</td>\n",
              "      <td>24</td>\n",
              "      <td>1</td>\n",
              "      <td>1</td>\n",
              "      <td>286.95</td>\n",
              "      <td>0.0</td>\n",
              "      <td>0.0</td>\n",
              "      <td>90</td>\n",
              "      <td>Mist</td>\n",
              "      <td>mist</td>\n",
              "      <td>2194</td>\n",
              "    </tr>\n",
              "    <tr>\n",
              "      <th>33748</th>\n",
              "      <td>2017-05-17 23:00:00</td>\n",
              "      <td>None</td>\n",
              "      <td>229</td>\n",
              "      <td>66</td>\n",
              "      <td>1</td>\n",
              "      <td>42</td>\n",
              "      <td>6</td>\n",
              "      <td>6</td>\n",
              "      <td>285.75</td>\n",
              "      <td>0.0</td>\n",
              "      <td>0.0</td>\n",
              "      <td>90</td>\n",
              "      <td>Rain</td>\n",
              "      <td>heavy intensity rain</td>\n",
              "      <td>1328</td>\n",
              "    </tr>\n",
              "    <tr>\n",
              "      <th>33749</th>\n",
              "      <td>2017-05-17 23:00:00</td>\n",
              "      <td>None</td>\n",
              "      <td>140</td>\n",
              "      <td>63</td>\n",
              "      <td>1</td>\n",
              "      <td>27</td>\n",
              "      <td>8</td>\n",
              "      <td>8</td>\n",
              "      <td>285.75</td>\n",
              "      <td>0.0</td>\n",
              "      <td>0.0</td>\n",
              "      <td>90</td>\n",
              "      <td>Mist</td>\n",
              "      <td>mist</td>\n",
              "      <td>1328</td>\n",
              "    </tr>\n",
              "  </tbody>\n",
              "</table>\n",
              "</div>\n",
              "      <button class=\"colab-df-convert\" onclick=\"convertToInteractive('df-a4cba07e-f6fb-4cc4-a67f-aac2816a4a6f')\"\n",
              "              title=\"Convert this dataframe to an interactive table.\"\n",
              "              style=\"display:none;\">\n",
              "        \n",
              "  <svg xmlns=\"http://www.w3.org/2000/svg\" height=\"24px\"viewBox=\"0 0 24 24\"\n",
              "       width=\"24px\">\n",
              "    <path d=\"M0 0h24v24H0V0z\" fill=\"none\"/>\n",
              "    <path d=\"M18.56 5.44l.94 2.06.94-2.06 2.06-.94-2.06-.94-.94-2.06-.94 2.06-2.06.94zm-11 1L8.5 8.5l.94-2.06 2.06-.94-2.06-.94L8.5 2.5l-.94 2.06-2.06.94zm10 10l.94 2.06.94-2.06 2.06-.94-2.06-.94-.94-2.06-.94 2.06-2.06.94z\"/><path d=\"M17.41 7.96l-1.37-1.37c-.4-.4-.92-.59-1.43-.59-.52 0-1.04.2-1.43.59L10.3 9.45l-7.72 7.72c-.78.78-.78 2.05 0 2.83L4 21.41c.39.39.9.59 1.41.59.51 0 1.02-.2 1.41-.59l7.78-7.78 2.81-2.81c.8-.78.8-2.07 0-2.86zM5.41 20L4 18.59l7.72-7.72 1.47 1.35L5.41 20z\"/>\n",
              "  </svg>\n",
              "      </button>\n",
              "      \n",
              "  <style>\n",
              "    .colab-df-container {\n",
              "      display:flex;\n",
              "      flex-wrap:wrap;\n",
              "      gap: 12px;\n",
              "    }\n",
              "\n",
              "    .colab-df-convert {\n",
              "      background-color: #E8F0FE;\n",
              "      border: none;\n",
              "      border-radius: 50%;\n",
              "      cursor: pointer;\n",
              "      display: none;\n",
              "      fill: #1967D2;\n",
              "      height: 32px;\n",
              "      padding: 0 0 0 0;\n",
              "      width: 32px;\n",
              "    }\n",
              "\n",
              "    .colab-df-convert:hover {\n",
              "      background-color: #E2EBFA;\n",
              "      box-shadow: 0px 1px 2px rgba(60, 64, 67, 0.3), 0px 1px 3px 1px rgba(60, 64, 67, 0.15);\n",
              "      fill: #174EA6;\n",
              "    }\n",
              "\n",
              "    [theme=dark] .colab-df-convert {\n",
              "      background-color: #3B4455;\n",
              "      fill: #D2E3FC;\n",
              "    }\n",
              "\n",
              "    [theme=dark] .colab-df-convert:hover {\n",
              "      background-color: #434B5C;\n",
              "      box-shadow: 0px 1px 3px 1px rgba(0, 0, 0, 0.15);\n",
              "      filter: drop-shadow(0px 1px 2px rgba(0, 0, 0, 0.3));\n",
              "      fill: #FFFFFF;\n",
              "    }\n",
              "  </style>\n",
              "\n",
              "      <script>\n",
              "        const buttonEl =\n",
              "          document.querySelector('#df-a4cba07e-f6fb-4cc4-a67f-aac2816a4a6f button.colab-df-convert');\n",
              "        buttonEl.style.display =\n",
              "          google.colab.kernel.accessAllowed ? 'block' : 'none';\n",
              "\n",
              "        async function convertToInteractive(key) {\n",
              "          const element = document.querySelector('#df-a4cba07e-f6fb-4cc4-a67f-aac2816a4a6f');\n",
              "          const dataTable =\n",
              "            await google.colab.kernel.invokeFunction('convertToInteractive',\n",
              "                                                     [key], {});\n",
              "          if (!dataTable) return;\n",
              "\n",
              "          const docLinkHtml = 'Like what you see? Visit the ' +\n",
              "            '<a target=\"_blank\" href=https://colab.research.google.com/notebooks/data_table.ipynb>data table notebook</a>'\n",
              "            + ' to learn more about interactive tables.';\n",
              "          element.innerHTML = '';\n",
              "          dataTable['output_type'] = 'display_data';\n",
              "          await google.colab.output.renderOutput(dataTable, element);\n",
              "          const docLink = document.createElement('div');\n",
              "          docLink.innerHTML = docLinkHtml;\n",
              "          element.appendChild(docLink);\n",
              "        }\n",
              "      </script>\n",
              "    </div>\n",
              "  </div>\n",
              "  "
            ]
          },
          "metadata": {},
          "execution_count": 10
        }
      ],
      "source": [
        "train_set.tail()"
      ]
    },
    {
      "cell_type": "markdown",
      "metadata": {
        "id": "BNlMcHAwViHK"
      },
      "source": [
        "***Which features contain blank, null or empty values?***\n",
        "\n",
        "We can check for missing values with pandas isnull(). This indicates whether values are missing or not. Then we can sum all the values to check every column. "
      ]
    },
    {
      "cell_type": "code",
      "execution_count": 11,
      "metadata": {
        "colab": {
          "base_uri": "https://localhost:8080/"
        },
        "id": "uem2rkpoVjw4",
        "outputId": "705a853c-375a-4d8e-8155-29ac66efb5d3"
      },
      "outputs": [
        {
          "output_type": "execute_result",
          "data": {
            "text/plain": [
              "date_time              0\n",
              "is_holiday             0\n",
              "air_pollution_index    0\n",
              "humidity               0\n",
              "wind_speed             0\n",
              "wind_direction         0\n",
              "visibility_in_miles    0\n",
              "dew_point              0\n",
              "temperature            0\n",
              "rain_p_h               0\n",
              "snow_p_h               0\n",
              "clouds_all             0\n",
              "weather_type           0\n",
              "weather_description    0\n",
              "traffic_volume         0\n",
              "dtype: int64"
            ]
          },
          "metadata": {},
          "execution_count": 11
        }
      ],
      "source": [
        "train_set.isnull().sum()"
      ]
    },
    {
      "cell_type": "code",
      "execution_count": 12,
      "metadata": {
        "colab": {
          "base_uri": "https://localhost:8080/"
        },
        "id": "I2nbdK_i93oO",
        "outputId": "503ff19e-0dce-47bf-d4ad-24a577ae59a2"
      },
      "outputs": [
        {
          "output_type": "execute_result",
          "data": {
            "text/plain": [
              "0"
            ]
          },
          "metadata": {},
          "execution_count": 12
        }
      ],
      "source": [
        "train_set.isnull().sum().sum()"
      ]
    },
    {
      "cell_type": "markdown",
      "metadata": {
        "id": "mU5E0ztuVsFR"
      },
      "source": [
        "***What are the data types for various features?***\n",
        "\n",
        "Three features are floats, eight are integers and four objects."
      ]
    },
    {
      "cell_type": "code",
      "execution_count": 13,
      "metadata": {
        "colab": {
          "base_uri": "https://localhost:8080/"
        },
        "id": "exzEYRtMVxO_",
        "outputId": "6164aeeb-159e-4e42-a4c2-fe8fe613b517"
      },
      "outputs": [
        {
          "output_type": "stream",
          "name": "stdout",
          "text": [
            "<class 'pandas.core.frame.DataFrame'>\n",
            "RangeIndex: 33750 entries, 0 to 33749\n",
            "Data columns (total 15 columns):\n",
            " #   Column               Non-Null Count  Dtype  \n",
            "---  ------               --------------  -----  \n",
            " 0   date_time            33750 non-null  object \n",
            " 1   is_holiday           33750 non-null  object \n",
            " 2   air_pollution_index  33750 non-null  int64  \n",
            " 3   humidity             33750 non-null  int64  \n",
            " 4   wind_speed           33750 non-null  int64  \n",
            " 5   wind_direction       33750 non-null  int64  \n",
            " 6   visibility_in_miles  33750 non-null  int64  \n",
            " 7   dew_point            33750 non-null  int64  \n",
            " 8   temperature          33750 non-null  float64\n",
            " 9   rain_p_h             33750 non-null  float64\n",
            " 10  snow_p_h             33750 non-null  float64\n",
            " 11  clouds_all           33750 non-null  int64  \n",
            " 12  weather_type         33750 non-null  object \n",
            " 13  weather_description  33750 non-null  object \n",
            " 14  traffic_volume       33750 non-null  int64  \n",
            "dtypes: float64(3), int64(8), object(4)\n",
            "memory usage: 3.9+ MB\n"
          ]
        }
      ],
      "source": [
        "train_set.info()"
      ]
    },
    {
      "cell_type": "markdown",
      "metadata": {
        "id": "9QMRE5BiV_rz"
      },
      "source": [
        "***What is the distribution of numerical feature values across the samples?***"
      ]
    },
    {
      "cell_type": "code",
      "execution_count": 14,
      "metadata": {
        "colab": {
          "base_uri": "https://localhost:8080/",
          "height": 364
        },
        "id": "Oz9ShVMVWFDw",
        "outputId": "39bd582b-07f5-4bdc-e7c9-8269a2307ff2"
      },
      "outputs": [
        {
          "output_type": "execute_result",
          "data": {
            "text/plain": [
              "       air_pollution_index      humidity    wind_speed  wind_direction  \\\n",
              "count         33750.000000  33750.000000  33750.000000    33750.000000   \n",
              "mean            154.841422     71.209007      3.378193      199.471852   \n",
              "std              83.735515     16.852248      2.055792       99.841088   \n",
              "min              10.000000     13.000000      0.000000        0.000000   \n",
              "25%              83.000000     60.000000      2.000000      130.000000   \n",
              "50%             155.000000     72.000000      3.000000      200.000000   \n",
              "75%             228.000000     85.000000      5.000000      290.000000   \n",
              "max             299.000000    100.000000     16.000000      360.000000   \n",
              "\n",
              "       visibility_in_miles     dew_point   temperature      rain_p_h  \\\n",
              "count         33750.000000  33750.000000  33750.000000  33750.000000   \n",
              "mean              4.989748      4.989748    280.069587      0.448739   \n",
              "std               2.570021      2.570021     13.415256     53.526500   \n",
              "min               1.000000      1.000000      0.000000      0.000000   \n",
              "25%               3.000000      3.000000    271.720000      0.000000   \n",
              "50%               5.000000      5.000000    280.150000      0.000000   \n",
              "75%               7.000000      7.000000    290.620000      0.000000   \n",
              "max               9.000000      9.000000    308.240000   9831.300000   \n",
              "\n",
              "           snow_p_h    clouds_all  traffic_volume  \n",
              "count  33750.000000  33750.000000    33750.000000  \n",
              "mean       0.000318     50.458785     3240.118163  \n",
              "std        0.009760     38.871734     1991.487289  \n",
              "min        0.000000      0.000000        0.000000  \n",
              "25%        0.000000      1.000000     1165.250000  \n",
              "50%        0.000000     64.000000     3335.000000  \n",
              "75%        0.000000     90.000000     4926.000000  \n",
              "max        0.510000    100.000000     7280.000000  "
            ],
            "text/html": [
              "\n",
              "  <div id=\"df-6c85b06e-eb4a-4c37-8934-3b5cf4c93b91\">\n",
              "    <div class=\"colab-df-container\">\n",
              "      <div>\n",
              "<style scoped>\n",
              "    .dataframe tbody tr th:only-of-type {\n",
              "        vertical-align: middle;\n",
              "    }\n",
              "\n",
              "    .dataframe tbody tr th {\n",
              "        vertical-align: top;\n",
              "    }\n",
              "\n",
              "    .dataframe thead th {\n",
              "        text-align: right;\n",
              "    }\n",
              "</style>\n",
              "<table border=\"1\" class=\"dataframe\">\n",
              "  <thead>\n",
              "    <tr style=\"text-align: right;\">\n",
              "      <th></th>\n",
              "      <th>air_pollution_index</th>\n",
              "      <th>humidity</th>\n",
              "      <th>wind_speed</th>\n",
              "      <th>wind_direction</th>\n",
              "      <th>visibility_in_miles</th>\n",
              "      <th>dew_point</th>\n",
              "      <th>temperature</th>\n",
              "      <th>rain_p_h</th>\n",
              "      <th>snow_p_h</th>\n",
              "      <th>clouds_all</th>\n",
              "      <th>traffic_volume</th>\n",
              "    </tr>\n",
              "  </thead>\n",
              "  <tbody>\n",
              "    <tr>\n",
              "      <th>count</th>\n",
              "      <td>33750.000000</td>\n",
              "      <td>33750.000000</td>\n",
              "      <td>33750.000000</td>\n",
              "      <td>33750.000000</td>\n",
              "      <td>33750.000000</td>\n",
              "      <td>33750.000000</td>\n",
              "      <td>33750.000000</td>\n",
              "      <td>33750.000000</td>\n",
              "      <td>33750.000000</td>\n",
              "      <td>33750.000000</td>\n",
              "      <td>33750.000000</td>\n",
              "    </tr>\n",
              "    <tr>\n",
              "      <th>mean</th>\n",
              "      <td>154.841422</td>\n",
              "      <td>71.209007</td>\n",
              "      <td>3.378193</td>\n",
              "      <td>199.471852</td>\n",
              "      <td>4.989748</td>\n",
              "      <td>4.989748</td>\n",
              "      <td>280.069587</td>\n",
              "      <td>0.448739</td>\n",
              "      <td>0.000318</td>\n",
              "      <td>50.458785</td>\n",
              "      <td>3240.118163</td>\n",
              "    </tr>\n",
              "    <tr>\n",
              "      <th>std</th>\n",
              "      <td>83.735515</td>\n",
              "      <td>16.852248</td>\n",
              "      <td>2.055792</td>\n",
              "      <td>99.841088</td>\n",
              "      <td>2.570021</td>\n",
              "      <td>2.570021</td>\n",
              "      <td>13.415256</td>\n",
              "      <td>53.526500</td>\n",
              "      <td>0.009760</td>\n",
              "      <td>38.871734</td>\n",
              "      <td>1991.487289</td>\n",
              "    </tr>\n",
              "    <tr>\n",
              "      <th>min</th>\n",
              "      <td>10.000000</td>\n",
              "      <td>13.000000</td>\n",
              "      <td>0.000000</td>\n",
              "      <td>0.000000</td>\n",
              "      <td>1.000000</td>\n",
              "      <td>1.000000</td>\n",
              "      <td>0.000000</td>\n",
              "      <td>0.000000</td>\n",
              "      <td>0.000000</td>\n",
              "      <td>0.000000</td>\n",
              "      <td>0.000000</td>\n",
              "    </tr>\n",
              "    <tr>\n",
              "      <th>25%</th>\n",
              "      <td>83.000000</td>\n",
              "      <td>60.000000</td>\n",
              "      <td>2.000000</td>\n",
              "      <td>130.000000</td>\n",
              "      <td>3.000000</td>\n",
              "      <td>3.000000</td>\n",
              "      <td>271.720000</td>\n",
              "      <td>0.000000</td>\n",
              "      <td>0.000000</td>\n",
              "      <td>1.000000</td>\n",
              "      <td>1165.250000</td>\n",
              "    </tr>\n",
              "    <tr>\n",
              "      <th>50%</th>\n",
              "      <td>155.000000</td>\n",
              "      <td>72.000000</td>\n",
              "      <td>3.000000</td>\n",
              "      <td>200.000000</td>\n",
              "      <td>5.000000</td>\n",
              "      <td>5.000000</td>\n",
              "      <td>280.150000</td>\n",
              "      <td>0.000000</td>\n",
              "      <td>0.000000</td>\n",
              "      <td>64.000000</td>\n",
              "      <td>3335.000000</td>\n",
              "    </tr>\n",
              "    <tr>\n",
              "      <th>75%</th>\n",
              "      <td>228.000000</td>\n",
              "      <td>85.000000</td>\n",
              "      <td>5.000000</td>\n",
              "      <td>290.000000</td>\n",
              "      <td>7.000000</td>\n",
              "      <td>7.000000</td>\n",
              "      <td>290.620000</td>\n",
              "      <td>0.000000</td>\n",
              "      <td>0.000000</td>\n",
              "      <td>90.000000</td>\n",
              "      <td>4926.000000</td>\n",
              "    </tr>\n",
              "    <tr>\n",
              "      <th>max</th>\n",
              "      <td>299.000000</td>\n",
              "      <td>100.000000</td>\n",
              "      <td>16.000000</td>\n",
              "      <td>360.000000</td>\n",
              "      <td>9.000000</td>\n",
              "      <td>9.000000</td>\n",
              "      <td>308.240000</td>\n",
              "      <td>9831.300000</td>\n",
              "      <td>0.510000</td>\n",
              "      <td>100.000000</td>\n",
              "      <td>7280.000000</td>\n",
              "    </tr>\n",
              "  </tbody>\n",
              "</table>\n",
              "</div>\n",
              "      <button class=\"colab-df-convert\" onclick=\"convertToInteractive('df-6c85b06e-eb4a-4c37-8934-3b5cf4c93b91')\"\n",
              "              title=\"Convert this dataframe to an interactive table.\"\n",
              "              style=\"display:none;\">\n",
              "        \n",
              "  <svg xmlns=\"http://www.w3.org/2000/svg\" height=\"24px\"viewBox=\"0 0 24 24\"\n",
              "       width=\"24px\">\n",
              "    <path d=\"M0 0h24v24H0V0z\" fill=\"none\"/>\n",
              "    <path d=\"M18.56 5.44l.94 2.06.94-2.06 2.06-.94-2.06-.94-.94-2.06-.94 2.06-2.06.94zm-11 1L8.5 8.5l.94-2.06 2.06-.94-2.06-.94L8.5 2.5l-.94 2.06-2.06.94zm10 10l.94 2.06.94-2.06 2.06-.94-2.06-.94-.94-2.06-.94 2.06-2.06.94z\"/><path d=\"M17.41 7.96l-1.37-1.37c-.4-.4-.92-.59-1.43-.59-.52 0-1.04.2-1.43.59L10.3 9.45l-7.72 7.72c-.78.78-.78 2.05 0 2.83L4 21.41c.39.39.9.59 1.41.59.51 0 1.02-.2 1.41-.59l7.78-7.78 2.81-2.81c.8-.78.8-2.07 0-2.86zM5.41 20L4 18.59l7.72-7.72 1.47 1.35L5.41 20z\"/>\n",
              "  </svg>\n",
              "      </button>\n",
              "      \n",
              "  <style>\n",
              "    .colab-df-container {\n",
              "      display:flex;\n",
              "      flex-wrap:wrap;\n",
              "      gap: 12px;\n",
              "    }\n",
              "\n",
              "    .colab-df-convert {\n",
              "      background-color: #E8F0FE;\n",
              "      border: none;\n",
              "      border-radius: 50%;\n",
              "      cursor: pointer;\n",
              "      display: none;\n",
              "      fill: #1967D2;\n",
              "      height: 32px;\n",
              "      padding: 0 0 0 0;\n",
              "      width: 32px;\n",
              "    }\n",
              "\n",
              "    .colab-df-convert:hover {\n",
              "      background-color: #E2EBFA;\n",
              "      box-shadow: 0px 1px 2px rgba(60, 64, 67, 0.3), 0px 1px 3px 1px rgba(60, 64, 67, 0.15);\n",
              "      fill: #174EA6;\n",
              "    }\n",
              "\n",
              "    [theme=dark] .colab-df-convert {\n",
              "      background-color: #3B4455;\n",
              "      fill: #D2E3FC;\n",
              "    }\n",
              "\n",
              "    [theme=dark] .colab-df-convert:hover {\n",
              "      background-color: #434B5C;\n",
              "      box-shadow: 0px 1px 3px 1px rgba(0, 0, 0, 0.15);\n",
              "      filter: drop-shadow(0px 1px 2px rgba(0, 0, 0, 0.3));\n",
              "      fill: #FFFFFF;\n",
              "    }\n",
              "  </style>\n",
              "\n",
              "      <script>\n",
              "        const buttonEl =\n",
              "          document.querySelector('#df-6c85b06e-eb4a-4c37-8934-3b5cf4c93b91 button.colab-df-convert');\n",
              "        buttonEl.style.display =\n",
              "          google.colab.kernel.accessAllowed ? 'block' : 'none';\n",
              "\n",
              "        async function convertToInteractive(key) {\n",
              "          const element = document.querySelector('#df-6c85b06e-eb4a-4c37-8934-3b5cf4c93b91');\n",
              "          const dataTable =\n",
              "            await google.colab.kernel.invokeFunction('convertToInteractive',\n",
              "                                                     [key], {});\n",
              "          if (!dataTable) return;\n",
              "\n",
              "          const docLinkHtml = 'Like what you see? Visit the ' +\n",
              "            '<a target=\"_blank\" href=https://colab.research.google.com/notebooks/data_table.ipynb>data table notebook</a>'\n",
              "            + ' to learn more about interactive tables.';\n",
              "          element.innerHTML = '';\n",
              "          dataTable['output_type'] = 'display_data';\n",
              "          await google.colab.output.renderOutput(dataTable, element);\n",
              "          const docLink = document.createElement('div');\n",
              "          docLink.innerHTML = docLinkHtml;\n",
              "          element.appendChild(docLink);\n",
              "        }\n",
              "      </script>\n",
              "    </div>\n",
              "  </div>\n",
              "  "
            ]
          },
          "metadata": {},
          "execution_count": 14
        }
      ],
      "source": [
        "train_set.describe()"
      ]
    },
    {
      "cell_type": "markdown",
      "metadata": {
        "id": "drR3lb6zaEBu"
      },
      "source": []
    },
    {
      "cell_type": "code",
      "execution_count": 15,
      "metadata": {
        "id": "CDNgT36WaFLr"
      },
      "outputs": [],
      "source": [
        "train_set=train_set.drop(['dew_point'],axis=1)"
      ]
    },
    {
      "cell_type": "markdown",
      "metadata": {
        "id": "k8-TcH1aWK65"
      },
      "source": [
        "<a id=\"ch3\"></a>\n",
        "## Exploratory Data Analysis\n",
        "<hr/>\n",
        "\n",
        "### Analyze by visualizing data\n",
        "Now we can continue confirming some of our assumptions using visualizations for analyzing the data."
      ]
    },
    {
      "cell_type": "code",
      "execution_count": 16,
      "metadata": {
        "colab": {
          "base_uri": "https://localhost:8080/",
          "height": 712
        },
        "id": "ZYOkE5KuWR33",
        "outputId": "141e80ea-b83c-48ec-9559-9feed5a76ac7"
      },
      "outputs": [
        {
          "output_type": "execute_result",
          "data": {
            "text/plain": [
              "<AxesSubplot:title={'center':'Correlation Matrix'}>"
            ]
          },
          "metadata": {},
          "execution_count": 16
        },
        {
          "output_type": "display_data",
          "data": {
            "text/plain": [
              "<Figure size 720x720 with 2 Axes>"
            ],
            "image/png": "[encoded data removed]"
          },
          "metadata": {
            "needs_background": "light"
          }
        }
      ],
      "source": [
        "import seaborn as sns\n",
        "plt.figure(figsize=(10,10))\n",
        "plt.title('Correlation Matrix',fontsize=15)\n",
        "\n",
        "sns.heatmap(train_set.corr(), annot=True, cmap='coolwarm')"
      ]
    },
    {
      "cell_type": "code",
      "execution_count": 17,
      "metadata": {
        "colab": {
          "base_uri": "https://localhost:8080/",
          "height": 442
        },
        "id": "lVsnE0Dg93oW",
        "outputId": "3962ba29-fde6-451e-f369-417b89a55516"
      },
      "outputs": [
        {
          "output_type": "display_data",
          "data": {
            "text/plain": [
              "<Figure size 2160x2160 with 25 Axes>"
            ],
            "image/png": "[encoded data removed]"
          },
          "metadata": {
            "needs_background": "light"
          }
        }
      ],
      "source": [
        "import matplotlib.pyplot as plt\n",
        "train_set.plot(kind='box',subplots=True,layout=(5,5),figsize=(30,30))\n",
        "plt.show()"
      ]
    },
    {
      "cell_type": "code",
      "execution_count": 18,
      "metadata": {
        "colab": {
          "base_uri": "https://localhost:8080/",
          "height": 442
        },
        "id": "ckD8v5LB93oX",
        "outputId": "84c46451-68c9-4479-c82f-fa7ed7b36832"
      },
      "outputs": [
        {
          "output_type": "display_data",
          "data": {
            "text/plain": [
              "<Figure size 2160x2160 with 25 Axes>"
            ],
            "image/png": "[encoded data removed]"
          },
          "metadata": {
            "needs_background": "light"
          }
        }
      ],
      "source": [
        "cols = ['wind_speed', 'snow_p_h','humidity']\n",
        "\n",
        "Q1 = train_set[cols].quantile(0.25)\n",
        "Q3 = train_set[cols].quantile(0.75)\n",
        "\n",
        "IQR = Q3 - Q1\n",
        "\n",
        "train_set = train_set[~((train_set[cols] < (Q1 - 1.5 * IQR)) |(train_set[cols] > (Q3 + 1.5 * IQR))).any(axis=1)]\n",
        "train_set.plot(kind='box',subplots=True,layout=(5,5),figsize=(30,30))\n",
        "plt.show()"
      ]
    },
    {
      "cell_type": "markdown",
      "metadata": {
        "id": "-vy6OuvsdTcS"
      },
      "source": [
        "***Which features are more correlated to the price?***"
      ]
    },
    {
      "cell_type": "markdown",
      "metadata": {
        "id": "HsUHNQNJuKok"
      },
      "source": [
        "**Prepare Train Data**"
      ]
    },
    {
      "cell_type": "markdown",
      "metadata": {
        "id": "yeZxY69zdiMw"
      },
      "source": [
        "<a id=\"ch5\"></a>\n",
        "## Feature engineering\n",
        "<hr/>\n",
        "\n",
        "We want to engineer the date feature to make a year,month,day and hour column. The feature date is as a string. With pd.to_datetime we can convert an argument to datetime."
      ]
    },
    {
      "cell_type": "code",
      "execution_count": 19,
      "metadata": {
        "id": "nupoz-rnuKok"
      },
      "outputs": [],
      "source": [
        "train_set['date_time'] = pd.to_datetime(train_set.date_time)"
      ]
    },
    {
      "cell_type": "code",
      "execution_count": 20,
      "metadata": {
        "id": "37maSFOQuKol"
      },
      "outputs": [],
      "source": [
        "train_set['year'] = train_set.date_time.dt.year\n",
        "train_set['month'] = train_set.date_time.dt.month\n",
        "train_set['day'] = train_set.date_time.dt.day\n",
        "train_set['hour'] = train_set.date_time.dt.hour"
      ]
    },
    {
      "cell_type": "code",
      "execution_count": 21,
      "metadata": {
        "colab": {
          "base_uri": "https://localhost:8080/",
          "height": 270
        },
        "id": "io3GcHn6uKol",
        "outputId": "bebdeaf1-768f-4ea9-f51a-df951e13227c"
      },
      "outputs": [
        {
          "output_type": "execute_result",
          "data": {
            "text/plain": [
              "  is_holiday  air_pollution_index  humidity  wind_speed  wind_direction  \\\n",
              "0       None                  121        89           2             329   \n",
              "1       None                  178        67           3             330   \n",
              "2       None                  113        66           3             329   \n",
              "3       None                   20        66           3             329   \n",
              "4       None                  281        65           3             329   \n",
              "\n",
              "   visibility_in_miles  temperature  rain_p_h  snow_p_h  clouds_all  \\\n",
              "0                    1       288.28       0.0       0.0          40   \n",
              "1                    1       289.36       0.0       0.0          75   \n",
              "2                    2       289.58       0.0       0.0          90   \n",
              "3                    5       290.13       0.0       0.0          90   \n",
              "4                    7       291.14       0.0       0.0          75   \n",
              "\n",
              "  weather_type weather_description  traffic_volume  year  month  day  hour  \n",
              "0       Clouds    scattered clouds            5545  2012     10    2     9  \n",
              "1       Clouds       broken clouds            4516  2012     10    2    10  \n",
              "2       Clouds     overcast clouds            4767  2012     10    2    11  \n",
              "3       Clouds     overcast clouds            5026  2012     10    2    12  \n",
              "4       Clouds       broken clouds            4918  2012     10    2    13  "
            ],
            "text/html": [
              "\n",
              "  <div id=\"df-6f202cf5-aaa6-42b7-a167-5d73db074806\">\n",
              "    <div class=\"colab-df-container\">\n",
              "      <div>\n",
              "<style scoped>\n",
              "    .dataframe tbody tr th:only-of-type {\n",
              "        vertical-align: middle;\n",
              "    }\n",
              "\n",
              "    .dataframe tbody tr th {\n",
              "        vertical-align: top;\n",
              "    }\n",
              "\n",
              "    .dataframe thead th {\n",
              "        text-align: right;\n",
              "    }\n",
              "</style>\n",
              "<table border=\"1\" class=\"dataframe\">\n",
              "  <thead>\n",
              "    <tr style=\"text-align: right;\">\n",
              "      <th></th>\n",
              "      <th>is_holiday</th>\n",
              "      <th>air_pollution_index</th>\n",
              "      <th>humidity</th>\n",
              "      <th>wind_speed</th>\n",
              "      <th>wind_direction</th>\n",
              "      <th>visibility_in_miles</th>\n",
              "      <th>temperature</th>\n",
              "      <th>rain_p_h</th>\n",
              "      <th>snow_p_h</th>\n",
              "      <th>clouds_all</th>\n",
              "      <th>weather_type</th>\n",
              "      <th>weather_description</th>\n",
              "      <th>traffic_volume</th>\n",
              "      <th>year</th>\n",
              "      <th>month</th>\n",
              "      <th>day</th>\n",
              "      <th>hour</th>\n",
              "    </tr>\n",
              "  </thead>\n",
              "  <tbody>\n",
              "    <tr>\n",
              "      <th>0</th>\n",
              "      <td>None</td>\n",
              "      <td>121</td>\n",
              "      <td>89</td>\n",
              "      <td>2</td>\n",
              "      <td>329</td>\n",
              "      <td>1</td>\n",
              "      <td>288.28</td>\n",
              "      <td>0.0</td>\n",
              "      <td>0.0</td>\n",
              "      <td>40</td>\n",
              "      <td>Clouds</td>\n",
              "      <td>scattered clouds</td>\n",
              "      <td>5545</td>\n",
              "      <td>2012</td>\n",
              "      <td>10</td>\n",
              "      <td>2</td>\n",
              "      <td>9</td>\n",
              "    </tr>\n",
              "    <tr>\n",
              "      <th>1</th>\n",
              "      <td>None</td>\n",
              "      <td>178</td>\n",
              "      <td>67</td>\n",
              "      <td>3</td>\n",
              "      <td>330</td>\n",
              "      <td>1</td>\n",
              "      <td>289.36</td>\n",
              "      <td>0.0</td>\n",
              "      <td>0.0</td>\n",
              "      <td>75</td>\n",
              "      <td>Clouds</td>\n",
              "      <td>broken clouds</td>\n",
              "      <td>4516</td>\n",
              "      <td>2012</td>\n",
              "      <td>10</td>\n",
              "      <td>2</td>\n",
              "      <td>10</td>\n",
              "    </tr>\n",
              "    <tr>\n",
              "      <th>2</th>\n",
              "      <td>None</td>\n",
              "      <td>113</td>\n",
              "      <td>66</td>\n",
              "      <td>3</td>\n",
              "      <td>329</td>\n",
              "      <td>2</td>\n",
              "      <td>289.58</td>\n",
              "      <td>0.0</td>\n",
              "      <td>0.0</td>\n",
              "      <td>90</td>\n",
              "      <td>Clouds</td>\n",
              "      <td>overcast clouds</td>\n",
              "      <td>4767</td>\n",
              "      <td>2012</td>\n",
              "      <td>10</td>\n",
              "      <td>2</td>\n",
              "      <td>11</td>\n",
              "    </tr>\n",
              "    <tr>\n",
              "      <th>3</th>\n",
              "      <td>None</td>\n",
              "      <td>20</td>\n",
              "      <td>66</td>\n",
              "      <td>3</td>\n",
              "      <td>329</td>\n",
              "      <td>5</td>\n",
              "      <td>290.13</td>\n",
              "      <td>0.0</td>\n",
              "      <td>0.0</td>\n",
              "      <td>90</td>\n",
              "      <td>Clouds</td>\n",
              "      <td>overcast clouds</td>\n",
              "      <td>5026</td>\n",
              "      <td>2012</td>\n",
              "      <td>10</td>\n",
              "      <td>2</td>\n",
              "      <td>12</td>\n",
              "    </tr>\n",
              "    <tr>\n",
              "      <th>4</th>\n",
              "      <td>None</td>\n",
              "      <td>281</td>\n",
              "      <td>65</td>\n",
              "      <td>3</td>\n",
              "      <td>329</td>\n",
              "      <td>7</td>\n",
              "      <td>291.14</td>\n",
              "      <td>0.0</td>\n",
              "      <td>0.0</td>\n",
              "      <td>75</td>\n",
              "      <td>Clouds</td>\n",
              "      <td>broken clouds</td>\n",
              "      <td>4918</td>\n",
              "      <td>2012</td>\n",
              "      <td>10</td>\n",
              "      <td>2</td>\n",
              "      <td>13</td>\n",
              "    </tr>\n",
              "  </tbody>\n",
              "</table>\n",
              "</div>\n",
              "      <button class=\"colab-df-convert\" onclick=\"convertToInteractive('df-6f202cf5-aaa6-42b7-a167-5d73db074806')\"\n",
              "              title=\"Convert this dataframe to an interactive table.\"\n",
              "              style=\"display:none;\">\n",
              "        \n",
              "  <svg xmlns=\"http://www.w3.org/2000/svg\" height=\"24px\"viewBox=\"0 0 24 24\"\n",
              "       width=\"24px\">\n",
              "    <path d=\"M0 0h24v24H0V0z\" fill=\"none\"/>\n",
              "    <path d=\"M18.56 5.44l.94 2.06.94-2.06 2.06-.94-2.06-.94-.94-2.06-.94 2.06-2.06.94zm-11 1L8.5 8.5l.94-2.06 2.06-.94-2.06-.94L8.5 2.5l-.94 2.06-2.06.94zm10 10l.94 2.06.94-2.06 2.06-.94-2.06-.94-.94-2.06-.94 2.06-2.06.94z\"/><path d=\"M17.41 7.96l-1.37-1.37c-.4-.4-.92-.59-1.43-.59-.52 0-1.04.2-1.43.59L10.3 9.45l-7.72 7.72c-.78.78-.78 2.05 0 2.83L4 21.41c.39.39.9.59 1.41.59.51 0 1.02-.2 1.41-.59l7.78-7.78 2.81-2.81c.8-.78.8-2.07 0-2.86zM5.41 20L4 18.59l7.72-7.72 1.47 1.35L5.41 20z\"/>\n",
              "  </svg>\n",
              "      </button>\n",
              "      \n",
              "  <style>\n",
              "    .colab-df-container {\n",
              "      display:flex;\n",
              "      flex-wrap:wrap;\n",
              "      gap: 12px;\n",
              "    }\n",
              "\n",
              "    .colab-df-convert {\n",
              "      background-color: #E8F0FE;\n",
              "      border: none;\n",
              "      border-radius: 50%;\n",
              "      cursor: pointer;\n",
              "      display: none;\n",
              "      fill: #1967D2;\n",
              "      height: 32px;\n",
              "      padding: 0 0 0 0;\n",
              "      width: 32px;\n",
              "    }\n",
              "\n",
              "    .colab-df-convert:hover {\n",
              "      background-color: #E2EBFA;\n",
              "      box-shadow: 0px 1px 2px rgba(60, 64, 67, 0.3), 0px 1px 3px 1px rgba(60, 64, 67, 0.15);\n",
              "      fill: #174EA6;\n",
              "    }\n",
              "\n",
              "    [theme=dark] .colab-df-convert {\n",
              "      background-color: #3B4455;\n",
              "      fill: #D2E3FC;\n",
              "    }\n",
              "\n",
              "    [theme=dark] .colab-df-convert:hover {\n",
              "      background-color: #434B5C;\n",
              "      box-shadow: 0px 1px 3px 1px rgba(0, 0, 0, 0.15);\n",
              "      filter: drop-shadow(0px 1px 2px rgba(0, 0, 0, 0.3));\n",
              "      fill: #FFFFFF;\n",
              "    }\n",
              "  </style>\n",
              "\n",
              "      <script>\n",
              "        const buttonEl =\n",
              "          document.querySelector('#df-6f202cf5-aaa6-42b7-a167-5d73db074806 button.colab-df-convert');\n",
              "        buttonEl.style.display =\n",
              "          google.colab.kernel.accessAllowed ? 'block' : 'none';\n",
              "\n",
              "        async function convertToInteractive(key) {\n",
              "          const element = document.querySelector('#df-6f202cf5-aaa6-42b7-a167-5d73db074806');\n",
              "          const dataTable =\n",
              "            await google.colab.kernel.invokeFunction('convertToInteractive',\n",
              "                                                     [key], {});\n",
              "          if (!dataTable) return;\n",
              "\n",
              "          const docLinkHtml = 'Like what you see? Visit the ' +\n",
              "            '<a target=\"_blank\" href=https://colab.research.google.com/notebooks/data_table.ipynb>data table notebook</a>'\n",
              "            + ' to learn more about interactive tables.';\n",
              "          element.innerHTML = '';\n",
              "          dataTable['output_type'] = 'display_data';\n",
              "          await google.colab.output.renderOutput(dataTable, element);\n",
              "          const docLink = document.createElement('div');\n",
              "          docLink.innerHTML = docLinkHtml;\n",
              "          element.appendChild(docLink);\n",
              "        }\n",
              "      </script>\n",
              "    </div>\n",
              "  </div>\n",
              "  "
            ]
          },
          "metadata": {},
          "execution_count": 21
        }
      ],
      "source": [
        "train_copy = train_set.drop(['date_time'], axis=1)\n",
        "train_copy.head()"
      ]
    },
    {
      "cell_type": "code",
      "execution_count": 22,
      "metadata": {
        "colab": {
          "base_uri": "https://localhost:8080/"
        },
        "id": "vtMTgxIWhma1",
        "outputId": "e7f8ed28-0d57-41b9-9349-ae8d9131325c"
      },
      "outputs": [
        {
          "output_type": "execute_result",
          "data": {
            "text/plain": [
              "(33380, 17)"
            ]
          },
          "metadata": {},
          "execution_count": 22
        }
      ],
      "source": [
        "train_copy.shape"
      ]
    },
    {
      "cell_type": "code",
      "execution_count": 23,
      "metadata": {
        "id": "YCS_DnEiuKor"
      },
      "outputs": [],
      "source": [
        "\n",
        "train = pd.get_dummies(train_copy, columns=['is_holiday', 'weather_type', 'weather_description']) \n",
        "                              "
      ]
    },
    {
      "cell_type": "code",
      "execution_count": 24,
      "metadata": {
        "id": "TyQ-EXayjwQH"
      },
      "outputs": [],
      "source": [
        "train=train.drop(['weather_type_Squall','weather_description_SQUALLS','weather_description_freezing rain','weather_description_light rain and snow','weather_description_shower snow','weather_description_thunderstorm with drizzle','weather_description_very heavy rain'],axis=1)"
      ]
    },
    {
      "cell_type": "code",
      "execution_count": 25,
      "metadata": {
        "colab": {
          "base_uri": "https://localhost:8080/",
          "height": 317
        },
        "id": "H7hXdj5buKor",
        "outputId": "81a05faf-b868-48d1-d8ef-3f4ad821aa0c"
      },
      "outputs": [
        {
          "output_type": "execute_result",
          "data": {
            "text/plain": [
              "   air_pollution_index  humidity  wind_speed  wind_direction  \\\n",
              "0                  121        89           2             329   \n",
              "1                  178        67           3             330   \n",
              "2                  113        66           3             329   \n",
              "3                   20        66           3             329   \n",
              "4                  281        65           3             329   \n",
              "\n",
              "   visibility_in_miles  temperature  rain_p_h  snow_p_h  clouds_all  \\\n",
              "0                    1       288.28       0.0       0.0          40   \n",
              "1                    1       289.36       0.0       0.0          75   \n",
              "2                    2       289.58       0.0       0.0          90   \n",
              "3                    5       290.13       0.0       0.0          90   \n",
              "4                    7       291.14       0.0       0.0          75   \n",
              "\n",
              "   traffic_volume  ...  weather_description_shower drizzle  \\\n",
              "0            5545  ...                                   0   \n",
              "1            4516  ...                                   0   \n",
              "2            4767  ...                                   0   \n",
              "3            5026  ...                                   0   \n",
              "4            4918  ...                                   0   \n",
              "\n",
              "   weather_description_sky is clear  weather_description_sleet  \\\n",
              "0                                 0                          0   \n",
              "1                                 0                          0   \n",
              "2                                 0                          0   \n",
              "3                                 0                          0   \n",
              "4                                 0                          0   \n",
              "\n",
              "   weather_description_smoke  weather_description_snow  \\\n",
              "0                          0                         0   \n",
              "1                          0                         0   \n",
              "2                          0                         0   \n",
              "3                          0                         0   \n",
              "4                          0                         0   \n",
              "\n",
              "   weather_description_thunderstorm  \\\n",
              "0                                 0   \n",
              "1                                 0   \n",
              "2                                 0   \n",
              "3                                 0   \n",
              "4                                 0   \n",
              "\n",
              "   weather_description_thunderstorm with heavy rain  \\\n",
              "0                                                 0   \n",
              "1                                                 0   \n",
              "2                                                 0   \n",
              "3                                                 0   \n",
              "4                                                 0   \n",
              "\n",
              "   weather_description_thunderstorm with light drizzle  \\\n",
              "0                                                  0     \n",
              "1                                                  0     \n",
              "2                                                  0     \n",
              "3                                                  0     \n",
              "4                                                  0     \n",
              "\n",
              "   weather_description_thunderstorm with light rain  \\\n",
              "0                                                 0   \n",
              "1                                                 0   \n",
              "2                                                 0   \n",
              "3                                                 0   \n",
              "4                                                 0   \n",
              "\n",
              "   weather_description_thunderstorm with rain  \n",
              "0                                           0  \n",
              "1                                           0  \n",
              "2                                           0  \n",
              "3                                           0  \n",
              "4                                           0  \n",
              "\n",
              "[5 rows x 68 columns]"
            ],
            "text/html": [
              "\n",
              "  <div id=\"df-6c0d6d30-675f-47a7-b07c-e3833308359a\">\n",
              "    <div class=\"colab-df-container\">\n",
              "      <div>\n",
              "<style scoped>\n",
              "    .dataframe tbody tr th:only-of-type {\n",
              "        vertical-align: middle;\n",
              "    }\n",
              "\n",
              "    .dataframe tbody tr th {\n",
              "        vertical-align: top;\n",
              "    }\n",
              "\n",
              "    .dataframe thead th {\n",
              "        text-align: right;\n",
              "    }\n",
              "</style>\n",
              "<table border=\"1\" class=\"dataframe\">\n",
              "  <thead>\n",
              "    <tr style=\"text-align: right;\">\n",
              "      <th></th>\n",
              "      <th>air_pollution_index</th>\n",
              "      <th>humidity</th>\n",
              "      <th>wind_speed</th>\n",
              "      <th>wind_direction</th>\n",
              "      <th>visibility_in_miles</th>\n",
              "      <th>temperature</th>\n",
              "      <th>rain_p_h</th>\n",
              "      <th>snow_p_h</th>\n",
              "      <th>clouds_all</th>\n",
              "      <th>traffic_volume</th>\n",
              "      <th>...</th>\n",
              "      <th>weather_description_shower drizzle</th>\n",
              "      <th>weather_description_sky is clear</th>\n",
              "      <th>weather_description_sleet</th>\n",
              "      <th>weather_description_smoke</th>\n",
              "      <th>weather_description_snow</th>\n",
              "      <th>weather_description_thunderstorm</th>\n",
              "      <th>weather_description_thunderstorm with heavy rain</th>\n",
              "      <th>weather_description_thunderstorm with light drizzle</th>\n",
              "      <th>weather_description_thunderstorm with light rain</th>\n",
              "      <th>weather_description_thunderstorm with rain</th>\n",
              "    </tr>\n",
              "  </thead>\n",
              "  <tbody>\n",
              "    <tr>\n",
              "      <th>0</th>\n",
              "      <td>121</td>\n",
              "      <td>89</td>\n",
              "      <td>2</td>\n",
              "      <td>329</td>\n",
              "      <td>1</td>\n",
              "      <td>288.28</td>\n",
              "      <td>0.0</td>\n",
              "      <td>0.0</td>\n",
              "      <td>40</td>\n",
              "      <td>5545</td>\n",
              "      <td>...</td>\n",
              "      <td>0</td>\n",
              "      <td>0</td>\n",
              "      <td>0</td>\n",
              "      <td>0</td>\n",
              "      <td>0</td>\n",
              "      <td>0</td>\n",
              "      <td>0</td>\n",
              "      <td>0</td>\n",
              "      <td>0</td>\n",
              "      <td>0</td>\n",
              "    </tr>\n",
              "    <tr>\n",
              "      <th>1</th>\n",
              "      <td>178</td>\n",
              "      <td>67</td>\n",
              "      <td>3</td>\n",
              "      <td>330</td>\n",
              "      <td>1</td>\n",
              "      <td>289.36</td>\n",
              "      <td>0.0</td>\n",
              "      <td>0.0</td>\n",
              "      <td>75</td>\n",
              "      <td>4516</td>\n",
              "      <td>...</td>\n",
              "      <td>0</td>\n",
              "      <td>0</td>\n",
              "      <td>0</td>\n",
              "      <td>0</td>\n",
              "      <td>0</td>\n",
              "      <td>0</td>\n",
              "      <td>0</td>\n",
              "      <td>0</td>\n",
              "      <td>0</td>\n",
              "      <td>0</td>\n",
              "    </tr>\n",
              "    <tr>\n",
              "      <th>2</th>\n",
              "      <td>113</td>\n",
              "      <td>66</td>\n",
              "      <td>3</td>\n",
              "      <td>329</td>\n",
              "      <td>2</td>\n",
              "      <td>289.58</td>\n",
              "      <td>0.0</td>\n",
              "      <td>0.0</td>\n",
              "      <td>90</td>\n",
              "      <td>4767</td>\n",
              "      <td>...</td>\n",
              "      <td>0</td>\n",
              "      <td>0</td>\n",
              "      <td>0</td>\n",
              "      <td>0</td>\n",
              "      <td>0</td>\n",
              "      <td>0</td>\n",
              "      <td>0</td>\n",
              "      <td>0</td>\n",
              "      <td>0</td>\n",
              "      <td>0</td>\n",
              "    </tr>\n",
              "    <tr>\n",
              "      <th>3</th>\n",
              "      <td>20</td>\n",
              "      <td>66</td>\n",
              "      <td>3</td>\n",
              "      <td>329</td>\n",
              "      <td>5</td>\n",
              "      <td>290.13</td>\n",
              "      <td>0.0</td>\n",
              "      <td>0.0</td>\n",
              "      <td>90</td>\n",
              "      <td>5026</td>\n",
              "      <td>...</td>\n",
              "      <td>0</td>\n",
              "      <td>0</td>\n",
              "      <td>0</td>\n",
              "      <td>0</td>\n",
              "      <td>0</td>\n",
              "      <td>0</td>\n",
              "      <td>0</td>\n",
              "      <td>0</td>\n",
              "      <td>0</td>\n",
              "      <td>0</td>\n",
              "    </tr>\n",
              "    <tr>\n",
              "      <th>4</th>\n",
              "      <td>281</td>\n",
              "      <td>65</td>\n",
              "      <td>3</td>\n",
              "      <td>329</td>\n",
              "      <td>7</td>\n",
              "      <td>291.14</td>\n",
              "      <td>0.0</td>\n",
              "      <td>0.0</td>\n",
              "      <td>75</td>\n",
              "      <td>4918</td>\n",
              "      <td>...</td>\n",
              "      <td>0</td>\n",
              "      <td>0</td>\n",
              "      <td>0</td>\n",
              "      <td>0</td>\n",
              "      <td>0</td>\n",
              "      <td>0</td>\n",
              "      <td>0</td>\n",
              "      <td>0</td>\n",
              "      <td>0</td>\n",
              "      <td>0</td>\n",
              "    </tr>\n",
              "  </tbody>\n",
              "</table>\n",
              "<p>5 rows × 68 columns</p>\n",
              "</div>\n",
              "      <button class=\"colab-df-convert\" onclick=\"convertToInteractive('df-6c0d6d30-675f-47a7-b07c-e3833308359a')\"\n",
              "              title=\"Convert this dataframe to an interactive table.\"\n",
              "              style=\"display:none;\">\n",
              "        \n",
              "  <svg xmlns=\"http://www.w3.org/2000/svg\" height=\"24px\"viewBox=\"0 0 24 24\"\n",
              "       width=\"24px\">\n",
              "    <path d=\"M0 0h24v24H0V0z\" fill=\"none\"/>\n",
              "    <path d=\"M18.56 5.44l.94 2.06.94-2.06 2.06-.94-2.06-.94-.94-2.06-.94 2.06-2.06.94zm-11 1L8.5 8.5l.94-2.06 2.06-.94-2.06-.94L8.5 2.5l-.94 2.06-2.06.94zm10 10l.94 2.06.94-2.06 2.06-.94-2.06-.94-.94-2.06-.94 2.06-2.06.94z\"/><path d=\"M17.41 7.96l-1.37-1.37c-.4-.4-.92-.59-1.43-.59-.52 0-1.04.2-1.43.59L10.3 9.45l-7.72 7.72c-.78.78-.78 2.05 0 2.83L4 21.41c.39.39.9.59 1.41.59.51 0 1.02-.2 1.41-.59l7.78-7.78 2.81-2.81c.8-.78.8-2.07 0-2.86zM5.41 20L4 18.59l7.72-7.72 1.47 1.35L5.41 20z\"/>\n",
              "  </svg>\n",
              "      </button>\n",
              "      \n",
              "  <style>\n",
              "    .colab-df-container {\n",
              "      display:flex;\n",
              "      flex-wrap:wrap;\n",
              "      gap: 12px;\n",
              "    }\n",
              "\n",
              "    .colab-df-convert {\n",
              "      background-color: #E8F0FE;\n",
              "      border: none;\n",
              "      border-radius: 50%;\n",
              "      cursor: pointer;\n",
              "      display: none;\n",
              "      fill: #1967D2;\n",
              "      height: 32px;\n",
              "      padding: 0 0 0 0;\n",
              "      width: 32px;\n",
              "    }\n",
              "\n",
              "    .colab-df-convert:hover {\n",
              "      background-color: #E2EBFA;\n",
              "      box-shadow: 0px 1px 2px rgba(60, 64, 67, 0.3), 0px 1px 3px 1px rgba(60, 64, 67, 0.15);\n",
              "      fill: #174EA6;\n",
              "    }\n",
              "\n",
              "    [theme=dark] .colab-df-convert {\n",
              "      background-color: #3B4455;\n",
              "      fill: #D2E3FC;\n",
              "    }\n",
              "\n",
              "    [theme=dark] .colab-df-convert:hover {\n",
              "      background-color: #434B5C;\n",
              "      box-shadow: 0px 1px 3px 1px rgba(0, 0, 0, 0.15);\n",
              "      filter: drop-shadow(0px 1px 2px rgba(0, 0, 0, 0.3));\n",
              "      fill: #FFFFFF;\n",
              "    }\n",
              "  </style>\n",
              "\n",
              "      <script>\n",
              "        const buttonEl =\n",
              "          document.querySelector('#df-6c0d6d30-675f-47a7-b07c-e3833308359a button.colab-df-convert');\n",
              "        buttonEl.style.display =\n",
              "          google.colab.kernel.accessAllowed ? 'block' : 'none';\n",
              "\n",
              "        async function convertToInteractive(key) {\n",
              "          const element = document.querySelector('#df-6c0d6d30-675f-47a7-b07c-e3833308359a');\n",
              "          const dataTable =\n",
              "            await google.colab.kernel.invokeFunction('convertToInteractive',\n",
              "                                                     [key], {});\n",
              "          if (!dataTable) return;\n",
              "\n",
              "          const docLinkHtml = 'Like what you see? Visit the ' +\n",
              "            '<a target=\"_blank\" href=https://colab.research.google.com/notebooks/data_table.ipynb>data table notebook</a>'\n",
              "            + ' to learn more about interactive tables.';\n",
              "          element.innerHTML = '';\n",
              "          dataTable['output_type'] = 'display_data';\n",
              "          await google.colab.output.renderOutput(dataTable, element);\n",
              "          const docLink = document.createElement('div');\n",
              "          docLink.innerHTML = docLinkHtml;\n",
              "          element.appendChild(docLink);\n",
              "        }\n",
              "      </script>\n",
              "    </div>\n",
              "  </div>\n",
              "  "
            ]
          },
          "metadata": {},
          "execution_count": 25
        }
      ],
      "source": [
        "\n",
        "train.head()"
      ]
    },
    {
      "cell_type": "markdown",
      "metadata": {
        "id": "Q_SC72EEuKos"
      },
      "source": [
        "**Preparing the Test data**"
      ]
    },
    {
      "cell_type": "code",
      "execution_count": 26,
      "metadata": {
        "colab": {
          "base_uri": "https://localhost:8080/",
          "height": 443
        },
        "id": "-243jxhsAYKL",
        "outputId": "28eaeebf-251e-4859-d266-d7c501deb35a"
      },
      "outputs": [
        {
          "output_type": "execute_result",
          "data": {
            "text/plain": [
              "             date_time is_holiday  air_pollution_index  humidity  wind_speed  \\\n",
              "0  2017-05-18 00:00:00       None                   73        63           1   \n",
              "1  2017-05-18 00:00:00       None                  251        63           1   \n",
              "2  2017-05-18 00:00:00       None                   75        56           1   \n",
              "3  2017-05-18 01:00:00       None                   98        56           1   \n",
              "4  2017-05-18 01:00:00       None                  283        56           1   \n",
              "\n",
              "   wind_direction  visibility_in_miles  dew_point  temperature  rain_p_h  \\\n",
              "0              27                    4          4       285.15       0.0   \n",
              "1              27                    4          4       285.15       0.0   \n",
              "2               0                    1          1       285.15       0.0   \n",
              "3             351                    2          2       284.79       0.0   \n",
              "4             351                    1          1       284.79       0.0   \n",
              "\n",
              "   snow_p_h  clouds_all weather_type      weather_description  \n",
              "0         0          90         Rain            moderate rain  \n",
              "1         0          90         Mist                     mist  \n",
              "2         0          90      Drizzle  light intensity drizzle  \n",
              "3         0          90         Rain     heavy intensity rain  \n",
              "4         0          90         Mist                     mist  "
            ],
            "text/html": [
              "\n",
              "  <div id=\"df-a569a176-6ff2-463e-9864-fdff72160260\">\n",
              "    <div class=\"colab-df-container\">\n",
              "      <div>\n",
              "<style scoped>\n",
              "    .dataframe tbody tr th:only-of-type {\n",
              "        vertical-align: middle;\n",
              "    }\n",
              "\n",
              "    .dataframe tbody tr th {\n",
              "        vertical-align: top;\n",
              "    }\n",
              "\n",
              "    .dataframe thead th {\n",
              "        text-align: right;\n",
              "    }\n",
              "</style>\n",
              "<table border=\"1\" class=\"dataframe\">\n",
              "  <thead>\n",
              "    <tr style=\"text-align: right;\">\n",
              "      <th></th>\n",
              "      <th>date_time</th>\n",
              "      <th>is_holiday</th>\n",
              "      <th>air_pollution_index</th>\n",
              "      <th>humidity</th>\n",
              "      <th>wind_speed</th>\n",
              "      <th>wind_direction</th>\n",
              "      <th>visibility_in_miles</th>\n",
              "      <th>dew_point</th>\n",
              "      <th>temperature</th>\n",
              "      <th>rain_p_h</th>\n",
              "      <th>snow_p_h</th>\n",
              "      <th>clouds_all</th>\n",
              "      <th>weather_type</th>\n",
              "      <th>weather_description</th>\n",
              "    </tr>\n",
              "  </thead>\n",
              "  <tbody>\n",
              "    <tr>\n",
              "      <th>0</th>\n",
              "      <td>2017-05-18 00:00:00</td>\n",
              "      <td>None</td>\n",
              "      <td>73</td>\n",
              "      <td>63</td>\n",
              "      <td>1</td>\n",
              "      <td>27</td>\n",
              "      <td>4</td>\n",
              "      <td>4</td>\n",
              "      <td>285.15</td>\n",
              "      <td>0.0</td>\n",
              "      <td>0</td>\n",
              "      <td>90</td>\n",
              "      <td>Rain</td>\n",
              "      <td>moderate rain</td>\n",
              "    </tr>\n",
              "    <tr>\n",
              "      <th>1</th>\n",
              "      <td>2017-05-18 00:00:00</td>\n",
              "      <td>None</td>\n",
              "      <td>251</td>\n",
              "      <td>63</td>\n",
              "      <td>1</td>\n",
              "      <td>27</td>\n",
              "      <td>4</td>\n",
              "      <td>4</td>\n",
              "      <td>285.15</td>\n",
              "      <td>0.0</td>\n",
              "      <td>0</td>\n",
              "      <td>90</td>\n",
              "      <td>Mist</td>\n",
              "      <td>mist</td>\n",
              "    </tr>\n",
              "    <tr>\n",
              "      <th>2</th>\n",
              "      <td>2017-05-18 00:00:00</td>\n",
              "      <td>None</td>\n",
              "      <td>75</td>\n",
              "      <td>56</td>\n",
              "      <td>1</td>\n",
              "      <td>0</td>\n",
              "      <td>1</td>\n",
              "      <td>1</td>\n",
              "      <td>285.15</td>\n",
              "      <td>0.0</td>\n",
              "      <td>0</td>\n",
              "      <td>90</td>\n",
              "      <td>Drizzle</td>\n",
              "      <td>light intensity drizzle</td>\n",
              "    </tr>\n",
              "    <tr>\n",
              "      <th>3</th>\n",
              "      <td>2017-05-18 01:00:00</td>\n",
              "      <td>None</td>\n",
              "      <td>98</td>\n",
              "      <td>56</td>\n",
              "      <td>1</td>\n",
              "      <td>351</td>\n",
              "      <td>2</td>\n",
              "      <td>2</td>\n",
              "      <td>284.79</td>\n",
              "      <td>0.0</td>\n",
              "      <td>0</td>\n",
              "      <td>90</td>\n",
              "      <td>Rain</td>\n",
              "      <td>heavy intensity rain</td>\n",
              "    </tr>\n",
              "    <tr>\n",
              "      <th>4</th>\n",
              "      <td>2017-05-18 01:00:00</td>\n",
              "      <td>None</td>\n",
              "      <td>283</td>\n",
              "      <td>56</td>\n",
              "      <td>1</td>\n",
              "      <td>351</td>\n",
              "      <td>1</td>\n",
              "      <td>1</td>\n",
              "      <td>284.79</td>\n",
              "      <td>0.0</td>\n",
              "      <td>0</td>\n",
              "      <td>90</td>\n",
              "      <td>Mist</td>\n",
              "      <td>mist</td>\n",
              "    </tr>\n",
              "  </tbody>\n",
              "</table>\n",
              "</div>\n",
              "      <button class=\"colab-df-convert\" onclick=\"convertToInteractive('df-a569a176-6ff2-463e-9864-fdff72160260')\"\n",
              "              title=\"Convert this dataframe to an interactive table.\"\n",
              "              style=\"display:none;\">\n",
              "        \n",
              "  <svg xmlns=\"http://www.w3.org/2000/svg\" height=\"24px\"viewBox=\"0 0 24 24\"\n",
              "       width=\"24px\">\n",
              "    <path d=\"M0 0h24v24H0V0z\" fill=\"none\"/>\n",
              "    <path d=\"M18.56 5.44l.94 2.06.94-2.06 2.06-.94-2.06-.94-.94-2.06-.94 2.06-2.06.94zm-11 1L8.5 8.5l.94-2.06 2.06-.94-2.06-.94L8.5 2.5l-.94 2.06-2.06.94zm10 10l.94 2.06.94-2.06 2.06-.94-2.06-.94-.94-2.06-.94 2.06-2.06.94z\"/><path d=\"M17.41 7.96l-1.37-1.37c-.4-.4-.92-.59-1.43-.59-.52 0-1.04.2-1.43.59L10.3 9.45l-7.72 7.72c-.78.78-.78 2.05 0 2.83L4 21.41c.39.39.9.59 1.41.59.51 0 1.02-.2 1.41-.59l7.78-7.78 2.81-2.81c.8-.78.8-2.07 0-2.86zM5.41 20L4 18.59l7.72-7.72 1.47 1.35L5.41 20z\"/>\n",
              "  </svg>\n",
              "      </button>\n",
              "      \n",
              "  <style>\n",
              "    .colab-df-container {\n",
              "      display:flex;\n",
              "      flex-wrap:wrap;\n",
              "      gap: 12px;\n",
              "    }\n",
              "\n",
              "    .colab-df-convert {\n",
              "      background-color: #E8F0FE;\n",
              "      border: none;\n",
              "      border-radius: 50%;\n",
              "      cursor: pointer;\n",
              "      display: none;\n",
              "      fill: #1967D2;\n",
              "      height: 32px;\n",
              "      padding: 0 0 0 0;\n",
              "      width: 32px;\n",
              "    }\n",
              "\n",
              "    .colab-df-convert:hover {\n",
              "      background-color: #E2EBFA;\n",
              "      box-shadow: 0px 1px 2px rgba(60, 64, 67, 0.3), 0px 1px 3px 1px rgba(60, 64, 67, 0.15);\n",
              "      fill: #174EA6;\n",
              "    }\n",
              "\n",
              "    [theme=dark] .colab-df-convert {\n",
              "      background-color: #3B4455;\n",
              "      fill: #D2E3FC;\n",
              "    }\n",
              "\n",
              "    [theme=dark] .colab-df-convert:hover {\n",
              "      background-color: #434B5C;\n",
              "      box-shadow: 0px 1px 3px 1px rgba(0, 0, 0, 0.15);\n",
              "      filter: drop-shadow(0px 1px 2px rgba(0, 0, 0, 0.3));\n",
              "      fill: #FFFFFF;\n",
              "    }\n",
              "  </style>\n",
              "\n",
              "      <script>\n",
              "        const buttonEl =\n",
              "          document.querySelector('#df-a569a176-6ff2-463e-9864-fdff72160260 button.colab-df-convert');\n",
              "        buttonEl.style.display =\n",
              "          google.colab.kernel.accessAllowed ? 'block' : 'none';\n",
              "\n",
              "        async function convertToInteractive(key) {\n",
              "          const element = document.querySelector('#df-a569a176-6ff2-463e-9864-fdff72160260');\n",
              "          const dataTable =\n",
              "            await google.colab.kernel.invokeFunction('convertToInteractive',\n",
              "                                                     [key], {});\n",
              "          if (!dataTable) return;\n",
              "\n",
              "          const docLinkHtml = 'Like what you see? Visit the ' +\n",
              "            '<a target=\"_blank\" href=https://colab.research.google.com/notebooks/data_table.ipynb>data table notebook</a>'\n",
              "            + ' to learn more about interactive tables.';\n",
              "          element.innerHTML = '';\n",
              "          dataTable['output_type'] = 'display_data';\n",
              "          await google.colab.output.renderOutput(dataTable, element);\n",
              "          const docLink = document.createElement('div');\n",
              "          docLink.innerHTML = docLinkHtml;\n",
              "          element.appendChild(docLink);\n",
              "        }\n",
              "      </script>\n",
              "    </div>\n",
              "  </div>\n",
              "  "
            ]
          },
          "metadata": {},
          "execution_count": 26
        }
      ],
      "source": [
        "test_set.head()"
      ]
    },
    {
      "cell_type": "code",
      "execution_count": 27,
      "metadata": {
        "colab": {
          "base_uri": "https://localhost:8080/"
        },
        "id": "GeNbKpYYEUx9",
        "outputId": "d3aab044-046c-44a3-f965-956ab21002d3"
      },
      "outputs": [
        {
          "output_type": "execute_result",
          "data": {
            "text/plain": [
              "(14454, 14)"
            ]
          },
          "metadata": {},
          "execution_count": 27
        }
      ],
      "source": [
        "test_set.shape"
      ]
    },
    {
      "cell_type": "code",
      "execution_count": 28,
      "metadata": {
        "colab": {
          "base_uri": "https://localhost:8080/"
        },
        "id": "KVFQn38vE0HI",
        "outputId": "55ce6c06-cc8e-48b2-e956-06392f52c44c"
      },
      "outputs": [
        {
          "output_type": "execute_result",
          "data": {
            "text/plain": [
              "Index(['date_time', 'is_holiday', 'air_pollution_index', 'humidity',\n",
              "       'wind_speed', 'wind_direction', 'visibility_in_miles', 'dew_point',\n",
              "       'temperature', 'rain_p_h', 'snow_p_h', 'clouds_all', 'weather_type',\n",
              "       'weather_description'],\n",
              "      dtype='object')"
            ]
          },
          "metadata": {},
          "execution_count": 28
        }
      ],
      "source": [
        "test_set.columns"
      ]
    },
    {
      "cell_type": "code",
      "execution_count": 29,
      "metadata": {
        "id": "MNnLLKWaE3fO"
      },
      "outputs": [],
      "source": [
        "test_set=test_set.drop(['dew_point'],axis=1)"
      ]
    },
    {
      "cell_type": "code",
      "execution_count": 30,
      "metadata": {
        "colab": {
          "base_uri": "https://localhost:8080/",
          "height": 442
        },
        "id": "-T3Im0GM93oe",
        "outputId": "320cc679-44d0-4bef-dccc-b17aa6d79c14"
      },
      "outputs": [
        {
          "output_type": "display_data",
          "data": {
            "text/plain": [
              "<Figure size 2160x2160 with 25 Axes>"
            ],
            "image/png": "[encoded data removed]"
          },
          "metadata": {
            "needs_background": "light"
          }
        }
      ],
      "source": [
        "import matplotlib.pyplot as plt\n",
        "test_set.plot(kind='box',subplots=True,layout=(5,5),figsize=(30,30))\n",
        "plt.show()"
      ]
    },
    {
      "cell_type": "code",
      "execution_count": 31,
      "metadata": {
        "colab": {
          "base_uri": "https://localhost:8080/",
          "height": 442
        },
        "id": "ap_WRDJS93oe",
        "outputId": "daad72d9-f5d5-493e-cae7-c443f49fc268"
      },
      "outputs": [
        {
          "output_type": "display_data",
          "data": {
            "text/plain": [
              "<Figure size 2160x2160 with 25 Axes>"
            ],
            "image/png": "[encoded data removed]"
          },
          "metadata": {
            "needs_background": "light"
          }
        }
      ],
      "source": [
        "cols = ['wind_speed', 'rain_p_h']\n",
        "\n",
        "Q1 = test_set[cols].quantile(0.25)\n",
        "Q3 = test_set[cols].quantile(0.75)\n",
        "\n",
        "IQR = Q3 - Q1\n",
        "\n",
        "test_set = test_set[~((test_set[cols] < (Q1 - 1.5 * IQR)) |(test_set[cols] > (Q3 + 1.5 * IQR))).any(axis=1)]\n",
        "test_set.plot(kind='box',subplots=True,layout=(5,5),figsize=(30,30))\n",
        "plt.show()"
      ]
    },
    {
      "cell_type": "code",
      "execution_count": 32,
      "metadata": {
        "id": "VD5I6uMxuKot"
      },
      "outputs": [],
      "source": [
        "test_set['date_time'] = pd.to_datetime(test_set.date_time)"
      ]
    },
    {
      "cell_type": "code",
      "execution_count": 33,
      "metadata": {
        "id": "jv29MbnVuKou"
      },
      "outputs": [],
      "source": [
        "test_set['year'] = test_set.date_time.dt.year\n",
        "test_set['month'] = test_set.date_time.dt.month\n",
        "test_set['day'] = test_set.date_time.dt.day\n",
        "test_set['hour'] = test_set.date_time.dt.hour"
      ]
    },
    {
      "cell_type": "code",
      "execution_count": 34,
      "metadata": {
        "id": "BurHkQIPuKov"
      },
      "outputs": [],
      "source": [
        "test_copy = test_set.drop(['date_time'], axis=1)"
      ]
    },
    {
      "cell_type": "code",
      "execution_count": 35,
      "metadata": {
        "id": "EyTisMGvuKow"
      },
      "outputs": [],
      "source": [
        "\n",
        "test = pd.get_dummies(test_copy, columns=['is_holiday', 'weather_type', 'weather_description']) \n",
        "                              "
      ]
    },
    {
      "cell_type": "code",
      "execution_count": 36,
      "metadata": {
        "colab": {
          "base_uri": "https://localhost:8080/",
          "height": 317
        },
        "id": "RprsDFxHAh_A",
        "outputId": "81954207-24c0-4ac8-f751-d296695e8723"
      },
      "outputs": [
        {
          "output_type": "execute_result",
          "data": {
            "text/plain": [
              "   air_pollution_index  humidity  wind_speed  wind_direction  \\\n",
              "0                   73        63           1              27   \n",
              "1                  251        63           1              27   \n",
              "2                   75        56           1               0   \n",
              "3                   98        56           1             351   \n",
              "4                  283        56           1             351   \n",
              "\n",
              "   visibility_in_miles  temperature  rain_p_h  snow_p_h  clouds_all  year  \\\n",
              "0                    4       285.15       0.0         0          90  2017   \n",
              "1                    4       285.15       0.0         0          90  2017   \n",
              "2                    1       285.15       0.0         0          90  2017   \n",
              "3                    2       284.79       0.0         0          90  2017   \n",
              "4                    1       284.79       0.0         0          90  2017   \n",
              "\n",
              "   ...  weather_description_shower drizzle  weather_description_sky is clear  \\\n",
              "0  ...                                   0                                 0   \n",
              "1  ...                                   0                                 0   \n",
              "2  ...                                   0                                 0   \n",
              "3  ...                                   0                                 0   \n",
              "4  ...                                   0                                 0   \n",
              "\n",
              "   weather_description_sleet  weather_description_smoke  \\\n",
              "0                          0                          0   \n",
              "1                          0                          0   \n",
              "2                          0                          0   \n",
              "3                          0                          0   \n",
              "4                          0                          0   \n",
              "\n",
              "   weather_description_snow  weather_description_thunderstorm  \\\n",
              "0                         0                                 0   \n",
              "1                         0                                 0   \n",
              "2                         0                                 0   \n",
              "3                         0                                 0   \n",
              "4                         0                                 0   \n",
              "\n",
              "   weather_description_thunderstorm with heavy rain  \\\n",
              "0                                                 0   \n",
              "1                                                 0   \n",
              "2                                                 0   \n",
              "3                                                 0   \n",
              "4                                                 0   \n",
              "\n",
              "   weather_description_thunderstorm with light drizzle  \\\n",
              "0                                                  0     \n",
              "1                                                  0     \n",
              "2                                                  0     \n",
              "3                                                  0     \n",
              "4                                                  0     \n",
              "\n",
              "   weather_description_thunderstorm with light rain  \\\n",
              "0                                                 0   \n",
              "1                                                 0   \n",
              "2                                                 0   \n",
              "3                                                 0   \n",
              "4                                                 0   \n",
              "\n",
              "   weather_description_thunderstorm with rain  \n",
              "0                                           0  \n",
              "1                                           0  \n",
              "2                                           0  \n",
              "3                                           0  \n",
              "4                                           0  \n",
              "\n",
              "[5 rows x 67 columns]"
            ],
            "text/html": [
              "\n",
              "  <div id=\"df-a66ccb5c-66cc-4e3c-8642-3865d907ef7e\">\n",
              "    <div class=\"colab-df-container\">\n",
              "      <div>\n",
              "<style scoped>\n",
              "    .dataframe tbody tr th:only-of-type {\n",
              "        vertical-align: middle;\n",
              "    }\n",
              "\n",
              "    .dataframe tbody tr th {\n",
              "        vertical-align: top;\n",
              "    }\n",
              "\n",
              "    .dataframe thead th {\n",
              "        text-align: right;\n",
              "    }\n",
              "</style>\n",
              "<table border=\"1\" class=\"dataframe\">\n",
              "  <thead>\n",
              "    <tr style=\"text-align: right;\">\n",
              "      <th></th>\n",
              "      <th>air_pollution_index</th>\n",
              "      <th>humidity</th>\n",
              "      <th>wind_speed</th>\n",
              "      <th>wind_direction</th>\n",
              "      <th>visibility_in_miles</th>\n",
              "      <th>temperature</th>\n",
              "      <th>rain_p_h</th>\n",
              "      <th>snow_p_h</th>\n",
              "      <th>clouds_all</th>\n",
              "      <th>year</th>\n",
              "      <th>...</th>\n",
              "      <th>weather_description_shower drizzle</th>\n",
              "      <th>weather_description_sky is clear</th>\n",
              "      <th>weather_description_sleet</th>\n",
              "      <th>weather_description_smoke</th>\n",
              "      <th>weather_description_snow</th>\n",
              "      <th>weather_description_thunderstorm</th>\n",
              "      <th>weather_description_thunderstorm with heavy rain</th>\n",
              "      <th>weather_description_thunderstorm with light drizzle</th>\n",
              "      <th>weather_description_thunderstorm with light rain</th>\n",
              "      <th>weather_description_thunderstorm with rain</th>\n",
              "    </tr>\n",
              "  </thead>\n",
              "  <tbody>\n",
              "    <tr>\n",
              "      <th>0</th>\n",
              "      <td>73</td>\n",
              "      <td>63</td>\n",
              "      <td>1</td>\n",
              "      <td>27</td>\n",
              "      <td>4</td>\n",
              "      <td>285.15</td>\n",
              "      <td>0.0</td>\n",
              "      <td>0</td>\n",
              "      <td>90</td>\n",
              "      <td>2017</td>\n",
              "      <td>...</td>\n",
              "      <td>0</td>\n",
              "      <td>0</td>\n",
              "      <td>0</td>\n",
              "      <td>0</td>\n",
              "      <td>0</td>\n",
              "      <td>0</td>\n",
              "      <td>0</td>\n",
              "      <td>0</td>\n",
              "      <td>0</td>\n",
              "      <td>0</td>\n",
              "    </tr>\n",
              "    <tr>\n",
              "      <th>1</th>\n",
              "      <td>251</td>\n",
              "      <td>63</td>\n",
              "      <td>1</td>\n",
              "      <td>27</td>\n",
              "      <td>4</td>\n",
              "      <td>285.15</td>\n",
              "      <td>0.0</td>\n",
              "      <td>0</td>\n",
              "      <td>90</td>\n",
              "      <td>2017</td>\n",
              "      <td>...</td>\n",
              "      <td>0</td>\n",
              "      <td>0</td>\n",
              "      <td>0</td>\n",
              "      <td>0</td>\n",
              "      <td>0</td>\n",
              "      <td>0</td>\n",
              "      <td>0</td>\n",
              "      <td>0</td>\n",
              "      <td>0</td>\n",
              "      <td>0</td>\n",
              "    </tr>\n",
              "    <tr>\n",
              "      <th>2</th>\n",
              "      <td>75</td>\n",
              "      <td>56</td>\n",
              "      <td>1</td>\n",
              "      <td>0</td>\n",
              "      <td>1</td>\n",
              "      <td>285.15</td>\n",
              "      <td>0.0</td>\n",
              "      <td>0</td>\n",
              "      <td>90</td>\n",
              "      <td>2017</td>\n",
              "      <td>...</td>\n",
              "      <td>0</td>\n",
              "      <td>0</td>\n",
              "      <td>0</td>\n",
              "      <td>0</td>\n",
              "      <td>0</td>\n",
              "      <td>0</td>\n",
              "      <td>0</td>\n",
              "      <td>0</td>\n",
              "      <td>0</td>\n",
              "      <td>0</td>\n",
              "    </tr>\n",
              "    <tr>\n",
              "      <th>3</th>\n",
              "      <td>98</td>\n",
              "      <td>56</td>\n",
              "      <td>1</td>\n",
              "      <td>351</td>\n",
              "      <td>2</td>\n",
              "      <td>284.79</td>\n",
              "      <td>0.0</td>\n",
              "      <td>0</td>\n",
              "      <td>90</td>\n",
              "      <td>2017</td>\n",
              "      <td>...</td>\n",
              "      <td>0</td>\n",
              "      <td>0</td>\n",
              "      <td>0</td>\n",
              "      <td>0</td>\n",
              "      <td>0</td>\n",
              "      <td>0</td>\n",
              "      <td>0</td>\n",
              "      <td>0</td>\n",
              "      <td>0</td>\n",
              "      <td>0</td>\n",
              "    </tr>\n",
              "    <tr>\n",
              "      <th>4</th>\n",
              "      <td>283</td>\n",
              "      <td>56</td>\n",
              "      <td>1</td>\n",
              "      <td>351</td>\n",
              "      <td>1</td>\n",
              "      <td>284.79</td>\n",
              "      <td>0.0</td>\n",
              "      <td>0</td>\n",
              "      <td>90</td>\n",
              "      <td>2017</td>\n",
              "      <td>...</td>\n",
              "      <td>0</td>\n",
              "      <td>0</td>\n",
              "      <td>0</td>\n",
              "      <td>0</td>\n",
              "      <td>0</td>\n",
              "      <td>0</td>\n",
              "      <td>0</td>\n",
              "      <td>0</td>\n",
              "      <td>0</td>\n",
              "      <td>0</td>\n",
              "    </tr>\n",
              "  </tbody>\n",
              "</table>\n",
              "<p>5 rows × 67 columns</p>\n",
              "</div>\n",
              "      <button class=\"colab-df-convert\" onclick=\"convertToInteractive('df-a66ccb5c-66cc-4e3c-8642-3865d907ef7e')\"\n",
              "              title=\"Convert this dataframe to an interactive table.\"\n",
              "              style=\"display:none;\">\n",
              "        \n",
              "  <svg xmlns=\"http://www.w3.org/2000/svg\" height=\"24px\"viewBox=\"0 0 24 24\"\n",
              "       width=\"24px\">\n",
              "    <path d=\"M0 0h24v24H0V0z\" fill=\"none\"/>\n",
              "    <path d=\"M18.56 5.44l.94 2.06.94-2.06 2.06-.94-2.06-.94-.94-2.06-.94 2.06-2.06.94zm-11 1L8.5 8.5l.94-2.06 2.06-.94-2.06-.94L8.5 2.5l-.94 2.06-2.06.94zm10 10l.94 2.06.94-2.06 2.06-.94-2.06-.94-.94-2.06-.94 2.06-2.06.94z\"/><path d=\"M17.41 7.96l-1.37-1.37c-.4-.4-.92-.59-1.43-.59-.52 0-1.04.2-1.43.59L10.3 9.45l-7.72 7.72c-.78.78-.78 2.05 0 2.83L4 21.41c.39.39.9.59 1.41.59.51 0 1.02-.2 1.41-.59l7.78-7.78 2.81-2.81c.8-.78.8-2.07 0-2.86zM5.41 20L4 18.59l7.72-7.72 1.47 1.35L5.41 20z\"/>\n",
              "  </svg>\n",
              "      </button>\n",
              "      \n",
              "  <style>\n",
              "    .colab-df-container {\n",
              "      display:flex;\n",
              "      flex-wrap:wrap;\n",
              "      gap: 12px;\n",
              "    }\n",
              "\n",
              "    .colab-df-convert {\n",
              "      background-color: #E8F0FE;\n",
              "      border: none;\n",
              "      border-radius: 50%;\n",
              "      cursor: pointer;\n",
              "      display: none;\n",
              "      fill: #1967D2;\n",
              "      height: 32px;\n",
              "      padding: 0 0 0 0;\n",
              "      width: 32px;\n",
              "    }\n",
              "\n",
              "    .colab-df-convert:hover {\n",
              "      background-color: #E2EBFA;\n",
              "      box-shadow: 0px 1px 2px rgba(60, 64, 67, 0.3), 0px 1px 3px 1px rgba(60, 64, 67, 0.15);\n",
              "      fill: #174EA6;\n",
              "    }\n",
              "\n",
              "    [theme=dark] .colab-df-convert {\n",
              "      background-color: #3B4455;\n",
              "      fill: #D2E3FC;\n",
              "    }\n",
              "\n",
              "    [theme=dark] .colab-df-convert:hover {\n",
              "      background-color: #434B5C;\n",
              "      box-shadow: 0px 1px 3px 1px rgba(0, 0, 0, 0.15);\n",
              "      filter: drop-shadow(0px 1px 2px rgba(0, 0, 0, 0.3));\n",
              "      fill: #FFFFFF;\n",
              "    }\n",
              "  </style>\n",
              "\n",
              "      <script>\n",
              "        const buttonEl =\n",
              "          document.querySelector('#df-a66ccb5c-66cc-4e3c-8642-3865d907ef7e button.colab-df-convert');\n",
              "        buttonEl.style.display =\n",
              "          google.colab.kernel.accessAllowed ? 'block' : 'none';\n",
              "\n",
              "        async function convertToInteractive(key) {\n",
              "          const element = document.querySelector('#df-a66ccb5c-66cc-4e3c-8642-3865d907ef7e');\n",
              "          const dataTable =\n",
              "            await google.colab.kernel.invokeFunction('convertToInteractive',\n",
              "                                                     [key], {});\n",
              "          if (!dataTable) return;\n",
              "\n",
              "          const docLinkHtml = 'Like what you see? Visit the ' +\n",
              "            '<a target=\"_blank\" href=https://colab.research.google.com/notebooks/data_table.ipynb>data table notebook</a>'\n",
              "            + ' to learn more about interactive tables.';\n",
              "          element.innerHTML = '';\n",
              "          dataTable['output_type'] = 'display_data';\n",
              "          await google.colab.output.renderOutput(dataTable, element);\n",
              "          const docLink = document.createElement('div');\n",
              "          docLink.innerHTML = docLinkHtml;\n",
              "          element.appendChild(docLink);\n",
              "        }\n",
              "      </script>\n",
              "    </div>\n",
              "  </div>\n",
              "  "
            ]
          },
          "metadata": {},
          "execution_count": 36
        }
      ],
      "source": [
        "test.head()"
      ]
    },
    {
      "cell_type": "code",
      "execution_count": 37,
      "metadata": {
        "colab": {
          "base_uri": "https://localhost:8080/"
        },
        "id": "V7l-qUveuKox",
        "outputId": "9a8fb9b3-81f5-4cd4-f752-b95cbbbc995c"
      },
      "outputs": [
        {
          "output_type": "stream",
          "name": "stdout",
          "text": [
            "68\n",
            "33380\n"
          ]
        }
      ],
      "source": [
        "print(len(train.columns))\n",
        "print(len(train))"
      ]
    },
    {
      "cell_type": "code",
      "execution_count": 38,
      "metadata": {
        "colab": {
          "base_uri": "https://localhost:8080/"
        },
        "id": "IuwGX7N8uKoy",
        "outputId": "bf1b802b-7fb0-476e-eada-19afc4ca1700"
      },
      "outputs": [
        {
          "output_type": "stream",
          "name": "stdout",
          "text": [
            "67\n",
            "13666\n"
          ]
        }
      ],
      "source": [
        "print(len(test.columns))\n",
        "print(len(test))"
      ]
    },
    {
      "cell_type": "code",
      "execution_count": 39,
      "metadata": {
        "colab": {
          "base_uri": "https://localhost:8080/",
          "height": 317
        },
        "id": "alZlmKK6uKo2",
        "outputId": "f34df146-2d7f-4306-8f3c-7a94977238c4"
      },
      "outputs": [
        {
          "output_type": "execute_result",
          "data": {
            "text/plain": [
              "   air_pollution_index  humidity  wind_speed  wind_direction  \\\n",
              "0                   73        63           1              27   \n",
              "1                  251        63           1              27   \n",
              "2                   75        56           1               0   \n",
              "3                   98        56           1             351   \n",
              "4                  283        56           1             351   \n",
              "\n",
              "   visibility_in_miles  temperature  rain_p_h  snow_p_h  clouds_all  year  \\\n",
              "0                    4       285.15       0.0         0          90  2017   \n",
              "1                    4       285.15       0.0         0          90  2017   \n",
              "2                    1       285.15       0.0         0          90  2017   \n",
              "3                    2       284.79       0.0         0          90  2017   \n",
              "4                    1       284.79       0.0         0          90  2017   \n",
              "\n",
              "   ...  weather_description_shower drizzle  weather_description_sky is clear  \\\n",
              "0  ...                                   0                                 0   \n",
              "1  ...                                   0                                 0   \n",
              "2  ...                                   0                                 0   \n",
              "3  ...                                   0                                 0   \n",
              "4  ...                                   0                                 0   \n",
              "\n",
              "   weather_description_sleet  weather_description_smoke  \\\n",
              "0                          0                          0   \n",
              "1                          0                          0   \n",
              "2                          0                          0   \n",
              "3                          0                          0   \n",
              "4                          0                          0   \n",
              "\n",
              "   weather_description_snow  weather_description_thunderstorm  \\\n",
              "0                         0                                 0   \n",
              "1                         0                                 0   \n",
              "2                         0                                 0   \n",
              "3                         0                                 0   \n",
              "4                         0                                 0   \n",
              "\n",
              "   weather_description_thunderstorm with heavy rain  \\\n",
              "0                                                 0   \n",
              "1                                                 0   \n",
              "2                                                 0   \n",
              "3                                                 0   \n",
              "4                                                 0   \n",
              "\n",
              "   weather_description_thunderstorm with light drizzle  \\\n",
              "0                                                  0     \n",
              "1                                                  0     \n",
              "2                                                  0     \n",
              "3                                                  0     \n",
              "4                                                  0     \n",
              "\n",
              "   weather_description_thunderstorm with light rain  \\\n",
              "0                                                 0   \n",
              "1                                                 0   \n",
              "2                                                 0   \n",
              "3                                                 0   \n",
              "4                                                 0   \n",
              "\n",
              "   weather_description_thunderstorm with rain  \n",
              "0                                           0  \n",
              "1                                           0  \n",
              "2                                           0  \n",
              "3                                           0  \n",
              "4                                           0  \n",
              "\n",
              "[5 rows x 67 columns]"
            ],
            "text/html": [
              "\n",
              "  <div id=\"df-2b65699c-a45d-401f-97a4-8ec862791039\">\n",
              "    <div class=\"colab-df-container\">\n",
              "      <div>\n",
              "<style scoped>\n",
              "    .dataframe tbody tr th:only-of-type {\n",
              "        vertical-align: middle;\n",
              "    }\n",
              "\n",
              "    .dataframe tbody tr th {\n",
              "        vertical-align: top;\n",
              "    }\n",
              "\n",
              "    .dataframe thead th {\n",
              "        text-align: right;\n",
              "    }\n",
              "</style>\n",
              "<table border=\"1\" class=\"dataframe\">\n",
              "  <thead>\n",
              "    <tr style=\"text-align: right;\">\n",
              "      <th></th>\n",
              "      <th>air_pollution_index</th>\n",
              "      <th>humidity</th>\n",
              "      <th>wind_speed</th>\n",
              "      <th>wind_direction</th>\n",
              "      <th>visibility_in_miles</th>\n",
              "      <th>temperature</th>\n",
              "      <th>rain_p_h</th>\n",
              "      <th>snow_p_h</th>\n",
              "      <th>clouds_all</th>\n",
              "      <th>year</th>\n",
              "      <th>...</th>\n",
              "      <th>weather_description_shower drizzle</th>\n",
              "      <th>weather_description_sky is clear</th>\n",
              "      <th>weather_description_sleet</th>\n",
              "      <th>weather_description_smoke</th>\n",
              "      <th>weather_description_snow</th>\n",
              "      <th>weather_description_thunderstorm</th>\n",
              "      <th>weather_description_thunderstorm with heavy rain</th>\n",
              "      <th>weather_description_thunderstorm with light drizzle</th>\n",
              "      <th>weather_description_thunderstorm with light rain</th>\n",
              "      <th>weather_description_thunderstorm with rain</th>\n",
              "    </tr>\n",
              "  </thead>\n",
              "  <tbody>\n",
              "    <tr>\n",
              "      <th>0</th>\n",
              "      <td>73</td>\n",
              "      <td>63</td>\n",
              "      <td>1</td>\n",
              "      <td>27</td>\n",
              "      <td>4</td>\n",
              "      <td>285.15</td>\n",
              "      <td>0.0</td>\n",
              "      <td>0</td>\n",
              "      <td>90</td>\n",
              "      <td>2017</td>\n",
              "      <td>...</td>\n",
              "      <td>0</td>\n",
              "      <td>0</td>\n",
              "      <td>0</td>\n",
              "      <td>0</td>\n",
              "      <td>0</td>\n",
              "      <td>0</td>\n",
              "      <td>0</td>\n",
              "      <td>0</td>\n",
              "      <td>0</td>\n",
              "      <td>0</td>\n",
              "    </tr>\n",
              "    <tr>\n",
              "      <th>1</th>\n",
              "      <td>251</td>\n",
              "      <td>63</td>\n",
              "      <td>1</td>\n",
              "      <td>27</td>\n",
              "      <td>4</td>\n",
              "      <td>285.15</td>\n",
              "      <td>0.0</td>\n",
              "      <td>0</td>\n",
              "      <td>90</td>\n",
              "      <td>2017</td>\n",
              "      <td>...</td>\n",
              "      <td>0</td>\n",
              "      <td>0</td>\n",
              "      <td>0</td>\n",
              "      <td>0</td>\n",
              "      <td>0</td>\n",
              "      <td>0</td>\n",
              "      <td>0</td>\n",
              "      <td>0</td>\n",
              "      <td>0</td>\n",
              "      <td>0</td>\n",
              "    </tr>\n",
              "    <tr>\n",
              "      <th>2</th>\n",
              "      <td>75</td>\n",
              "      <td>56</td>\n",
              "      <td>1</td>\n",
              "      <td>0</td>\n",
              "      <td>1</td>\n",
              "      <td>285.15</td>\n",
              "      <td>0.0</td>\n",
              "      <td>0</td>\n",
              "      <td>90</td>\n",
              "      <td>2017</td>\n",
              "      <td>...</td>\n",
              "      <td>0</td>\n",
              "      <td>0</td>\n",
              "      <td>0</td>\n",
              "      <td>0</td>\n",
              "      <td>0</td>\n",
              "      <td>0</td>\n",
              "      <td>0</td>\n",
              "      <td>0</td>\n",
              "      <td>0</td>\n",
              "      <td>0</td>\n",
              "    </tr>\n",
              "    <tr>\n",
              "      <th>3</th>\n",
              "      <td>98</td>\n",
              "      <td>56</td>\n",
              "      <td>1</td>\n",
              "      <td>351</td>\n",
              "      <td>2</td>\n",
              "      <td>284.79</td>\n",
              "      <td>0.0</td>\n",
              "      <td>0</td>\n",
              "      <td>90</td>\n",
              "      <td>2017</td>\n",
              "      <td>...</td>\n",
              "      <td>0</td>\n",
              "      <td>0</td>\n",
              "      <td>0</td>\n",
              "      <td>0</td>\n",
              "      <td>0</td>\n",
              "      <td>0</td>\n",
              "      <td>0</td>\n",
              "      <td>0</td>\n",
              "      <td>0</td>\n",
              "      <td>0</td>\n",
              "    </tr>\n",
              "    <tr>\n",
              "      <th>4</th>\n",
              "      <td>283</td>\n",
              "      <td>56</td>\n",
              "      <td>1</td>\n",
              "      <td>351</td>\n",
              "      <td>1</td>\n",
              "      <td>284.79</td>\n",
              "      <td>0.0</td>\n",
              "      <td>0</td>\n",
              "      <td>90</td>\n",
              "      <td>2017</td>\n",
              "      <td>...</td>\n",
              "      <td>0</td>\n",
              "      <td>0</td>\n",
              "      <td>0</td>\n",
              "      <td>0</td>\n",
              "      <td>0</td>\n",
              "      <td>0</td>\n",
              "      <td>0</td>\n",
              "      <td>0</td>\n",
              "      <td>0</td>\n",
              "      <td>0</td>\n",
              "    </tr>\n",
              "  </tbody>\n",
              "</table>\n",
              "<p>5 rows × 67 columns</p>\n",
              "</div>\n",
              "      <button class=\"colab-df-convert\" onclick=\"convertToInteractive('df-2b65699c-a45d-401f-97a4-8ec862791039')\"\n",
              "              title=\"Convert this dataframe to an interactive table.\"\n",
              "              style=\"display:none;\">\n",
              "        \n",
              "  <svg xmlns=\"http://www.w3.org/2000/svg\" height=\"24px\"viewBox=\"0 0 24 24\"\n",
              "       width=\"24px\">\n",
              "    <path d=\"M0 0h24v24H0V0z\" fill=\"none\"/>\n",
              "    <path d=\"M18.56 5.44l.94 2.06.94-2.06 2.06-.94-2.06-.94-.94-2.06-.94 2.06-2.06.94zm-11 1L8.5 8.5l.94-2.06 2.06-.94-2.06-.94L8.5 2.5l-.94 2.06-2.06.94zm10 10l.94 2.06.94-2.06 2.06-.94-2.06-.94-.94-2.06-.94 2.06-2.06.94z\"/><path d=\"M17.41 7.96l-1.37-1.37c-.4-.4-.92-.59-1.43-.59-.52 0-1.04.2-1.43.59L10.3 9.45l-7.72 7.72c-.78.78-.78 2.05 0 2.83L4 21.41c.39.39.9.59 1.41.59.51 0 1.02-.2 1.41-.59l7.78-7.78 2.81-2.81c.8-.78.8-2.07 0-2.86zM5.41 20L4 18.59l7.72-7.72 1.47 1.35L5.41 20z\"/>\n",
              "  </svg>\n",
              "      </button>\n",
              "      \n",
              "  <style>\n",
              "    .colab-df-container {\n",
              "      display:flex;\n",
              "      flex-wrap:wrap;\n",
              "      gap: 12px;\n",
              "    }\n",
              "\n",
              "    .colab-df-convert {\n",
              "      background-color: #E8F0FE;\n",
              "      border: none;\n",
              "      border-radius: 50%;\n",
              "      cursor: pointer;\n",
              "      display: none;\n",
              "      fill: #1967D2;\n",
              "      height: 32px;\n",
              "      padding: 0 0 0 0;\n",
              "      width: 32px;\n",
              "    }\n",
              "\n",
              "    .colab-df-convert:hover {\n",
              "      background-color: #E2EBFA;\n",
              "      box-shadow: 0px 1px 2px rgba(60, 64, 67, 0.3), 0px 1px 3px 1px rgba(60, 64, 67, 0.15);\n",
              "      fill: #174EA6;\n",
              "    }\n",
              "\n",
              "    [theme=dark] .colab-df-convert {\n",
              "      background-color: #3B4455;\n",
              "      fill: #D2E3FC;\n",
              "    }\n",
              "\n",
              "    [theme=dark] .colab-df-convert:hover {\n",
              "      background-color: #434B5C;\n",
              "      box-shadow: 0px 1px 3px 1px rgba(0, 0, 0, 0.15);\n",
              "      filter: drop-shadow(0px 1px 2px rgba(0, 0, 0, 0.3));\n",
              "      fill: #FFFFFF;\n",
              "    }\n",
              "  </style>\n",
              "\n",
              "      <script>\n",
              "        const buttonEl =\n",
              "          document.querySelector('#df-2b65699c-a45d-401f-97a4-8ec862791039 button.colab-df-convert');\n",
              "        buttonEl.style.display =\n",
              "          google.colab.kernel.accessAllowed ? 'block' : 'none';\n",
              "\n",
              "        async function convertToInteractive(key) {\n",
              "          const element = document.querySelector('#df-2b65699c-a45d-401f-97a4-8ec862791039');\n",
              "          const dataTable =\n",
              "            await google.colab.kernel.invokeFunction('convertToInteractive',\n",
              "                                                     [key], {});\n",
              "          if (!dataTable) return;\n",
              "\n",
              "          const docLinkHtml = 'Like what you see? Visit the ' +\n",
              "            '<a target=\"_blank\" href=https://colab.research.google.com/notebooks/data_table.ipynb>data table notebook</a>'\n",
              "            + ' to learn more about interactive tables.';\n",
              "          element.innerHTML = '';\n",
              "          dataTable['output_type'] = 'display_data';\n",
              "          await google.colab.output.renderOutput(dataTable, element);\n",
              "          const docLink = document.createElement('div');\n",
              "          docLink.innerHTML = docLinkHtml;\n",
              "          element.appendChild(docLink);\n",
              "        }\n",
              "      </script>\n",
              "    </div>\n",
              "  </div>\n",
              "  "
            ]
          },
          "metadata": {},
          "execution_count": 39
        }
      ],
      "source": [
        "\n",
        "test.head()"
      ]
    },
    {
      "cell_type": "markdown",
      "source": [
        "### Normalizing / scaling the data\n",
        "We scale the feature data. To prevent data leakage from the test set, we only fit our scaler to the training set.\n",
        "# Min Max Scalar"
      ],
      "metadata": {
        "id": "oJqIeB5FA9NF"
      }
    },
    {
      "cell_type": "code",
      "execution_count": null,
      "metadata": {
        "id": "DqINuKbh93oi"
      },
      "outputs": [],
      "source": [
        "# from sklearn.preprocessing import MinMaxScaler\n",
        "# scaler=MinMaxScaler()\n",
        "# pred_test=scaler.fit_transform(test)"
      ]
    },
    {
      "cell_type": "code",
      "execution_count": 40,
      "metadata": {
        "id": "A3nRZMNG93oj"
      },
      "outputs": [],
      "source": [
        "def min_max_scaler(test):\n",
        "   \n",
        "    # Compute the minimum and maximum values for each column of x\n",
        "    test_min = np.min(test, axis=0)\n",
        "    test_max = np.max(test, axis=0)\n",
        "    \n",
        "    # Scale each column of x to the range [0, 1]\n",
        "    test_scaled = (test - test_min) / (test_max - test_min)\n",
        "    \n",
        "    return test_scaled\n",
        "test_scaled = min_max_scaler(test)"
      ]
    },
    {
      "cell_type": "code",
      "source": [
        "test_scaled"
      ],
      "metadata": {
        "colab": {
          "base_uri": "https://localhost:8080/",
          "height": 505
        },
        "id": "JRc_OWo5BUpo",
        "outputId": "64f549c3-9c44-43a5-8862-b3ce580a1c7f"
      },
      "execution_count": 41,
      "outputs": [
        {
          "output_type": "execute_result",
          "data": {
            "text/plain": [
              "       air_pollution_index  humidity  wind_speed  wind_direction  \\\n",
              "0                 0.217993  0.588889    0.111111        0.075000   \n",
              "1                 0.833910  0.588889    0.111111        0.075000   \n",
              "2                 0.224913  0.511111    0.111111        0.000000   \n",
              "3                 0.304498  0.511111    0.111111        0.975000   \n",
              "4                 0.944637  0.511111    0.111111        0.975000   \n",
              "...                    ...       ...         ...             ...   \n",
              "14449             0.574394  0.122222    0.444444        0.958333   \n",
              "14450             0.705882  0.944444    0.888889        0.777778   \n",
              "14451             0.564014  0.588889    0.444444        0.661111   \n",
              "14452             0.038062  0.522222    0.888889        0.744444   \n",
              "14453             0.366782  0.666667    0.888889        0.911111   \n",
              "\n",
              "       visibility_in_miles  temperature  rain_p_h  snow_p_h  clouds_all  year  \\\n",
              "0                    0.375     0.610138       NaN       NaN    0.978261   0.0   \n",
              "1                    0.375     0.610138       NaN       NaN    0.978261   0.0   \n",
              "2                    0.000     0.610138       NaN       NaN    0.978261   0.0   \n",
              "3                    0.125     0.604506       NaN       NaN    0.978261   0.0   \n",
              "4                    0.000     0.604506       NaN       NaN    0.978261   0.0   \n",
              "...                    ...          ...       ...       ...         ...   ...   \n",
              "14449                0.375     0.583542       NaN       NaN    0.815217   1.0   \n",
              "14450                0.625     0.572747       NaN       NaN    0.978261   1.0   \n",
              "14451                0.000     0.572278       NaN       NaN    0.978261   1.0   \n",
              "14452                0.750     0.562265       NaN       NaN    0.978261   1.0   \n",
              "14453                0.625     0.562735       NaN       NaN    0.978261   1.0   \n",
              "\n",
              "       ...  weather_description_shower drizzle  \\\n",
              "0      ...                                 0.0   \n",
              "1      ...                                 0.0   \n",
              "2      ...                                 0.0   \n",
              "3      ...                                 0.0   \n",
              "4      ...                                 0.0   \n",
              "...    ...                                 ...   \n",
              "14449  ...                                 0.0   \n",
              "14450  ...                                 0.0   \n",
              "14451  ...                                 0.0   \n",
              "14452  ...                                 0.0   \n",
              "14453  ...                                 0.0   \n",
              "\n",
              "       weather_description_sky is clear  weather_description_sleet  \\\n",
              "0                                   0.0                        0.0   \n",
              "1                                   0.0                        0.0   \n",
              "2                                   0.0                        0.0   \n",
              "3                                   0.0                        0.0   \n",
              "4                                   0.0                        0.0   \n",
              "...                                 ...                        ...   \n",
              "14449                               0.0                        0.0   \n",
              "14450                               0.0                        0.0   \n",
              "14451                               0.0                        0.0   \n",
              "14452                               0.0                        0.0   \n",
              "14453                               0.0                        0.0   \n",
              "\n",
              "       weather_description_smoke  weather_description_snow  \\\n",
              "0                            0.0                       0.0   \n",
              "1                            0.0                       0.0   \n",
              "2                            0.0                       0.0   \n",
              "3                            0.0                       0.0   \n",
              "4                            0.0                       0.0   \n",
              "...                          ...                       ...   \n",
              "14449                        0.0                       0.0   \n",
              "14450                        0.0                       0.0   \n",
              "14451                        0.0                       0.0   \n",
              "14452                        0.0                       0.0   \n",
              "14453                        0.0                       0.0   \n",
              "\n",
              "       weather_description_thunderstorm  \\\n",
              "0                                   0.0   \n",
              "1                                   0.0   \n",
              "2                                   0.0   \n",
              "3                                   0.0   \n",
              "4                                   0.0   \n",
              "...                                 ...   \n",
              "14449                               0.0   \n",
              "14450                               0.0   \n",
              "14451                               0.0   \n",
              "14452                               0.0   \n",
              "14453                               0.0   \n",
              "\n",
              "       weather_description_thunderstorm with heavy rain  \\\n",
              "0                                                   0.0   \n",
              "1                                                   0.0   \n",
              "2                                                   0.0   \n",
              "3                                                   0.0   \n",
              "4                                                   0.0   \n",
              "...                                                 ...   \n",
              "14449                                               0.0   \n",
              "14450                                               0.0   \n",
              "14451                                               0.0   \n",
              "14452                                               0.0   \n",
              "14453                                               0.0   \n",
              "\n",
              "       weather_description_thunderstorm with light drizzle  \\\n",
              "0                                                    0.0     \n",
              "1                                                    0.0     \n",
              "2                                                    0.0     \n",
              "3                                                    0.0     \n",
              "4                                                    0.0     \n",
              "...                                                  ...     \n",
              "14449                                                0.0     \n",
              "14450                                                0.0     \n",
              "14451                                                0.0     \n",
              "14452                                                0.0     \n",
              "14453                                                0.0     \n",
              "\n",
              "       weather_description_thunderstorm with light rain  \\\n",
              "0                                                   0.0   \n",
              "1                                                   0.0   \n",
              "2                                                   0.0   \n",
              "3                                                   0.0   \n",
              "4                                                   0.0   \n",
              "...                                                 ...   \n",
              "14449                                               0.0   \n",
              "14450                                               0.0   \n",
              "14451                                               0.0   \n",
              "14452                                               0.0   \n",
              "14453                                               0.0   \n",
              "\n",
              "       weather_description_thunderstorm with rain  \n",
              "0                                             0.0  \n",
              "1                                             0.0  \n",
              "2                                             0.0  \n",
              "3                                             0.0  \n",
              "4                                             0.0  \n",
              "...                                           ...  \n",
              "14449                                         0.0  \n",
              "14450                                         0.0  \n",
              "14451                                         0.0  \n",
              "14452                                         0.0  \n",
              "14453                                         0.0  \n",
              "\n",
              "[13666 rows x 67 columns]"
            ],
            "text/html": [
              "\n",
              "  <div id=\"df-7f72c8c7-b098-4300-90da-206c57a56571\">\n",
              "    <div class=\"colab-df-container\">\n",
              "      <div>\n",
              "<style scoped>\n",
              "    .dataframe tbody tr th:only-of-type {\n",
              "        vertical-align: middle;\n",
              "    }\n",
              "\n",
              "    .dataframe tbody tr th {\n",
              "        vertical-align: top;\n",
              "    }\n",
              "\n",
              "    .dataframe thead th {\n",
              "        text-align: right;\n",
              "    }\n",
              "</style>\n",
              "<table border=\"1\" class=\"dataframe\">\n",
              "  <thead>\n",
              "    <tr style=\"text-align: right;\">\n",
              "      <th></th>\n",
              "      <th>air_pollution_index</th>\n",
              "      <th>humidity</th>\n",
              "      <th>wind_speed</th>\n",
              "      <th>wind_direction</th>\n",
              "      <th>visibility_in_miles</th>\n",
              "      <th>temperature</th>\n",
              "      <th>rain_p_h</th>\n",
              "      <th>snow_p_h</th>\n",
              "      <th>clouds_all</th>\n",
              "      <th>year</th>\n",
              "      <th>...</th>\n",
              "      <th>weather_description_shower drizzle</th>\n",
              "      <th>weather_description_sky is clear</th>\n",
              "      <th>weather_description_sleet</th>\n",
              "      <th>weather_description_smoke</th>\n",
              "      <th>weather_description_snow</th>\n",
              "      <th>weather_description_thunderstorm</th>\n",
              "      <th>weather_description_thunderstorm with heavy rain</th>\n",
              "      <th>weather_description_thunderstorm with light drizzle</th>\n",
              "      <th>weather_description_thunderstorm with light rain</th>\n",
              "      <th>weather_description_thunderstorm with rain</th>\n",
              "    </tr>\n",
              "  </thead>\n",
              "  <tbody>\n",
              "    <tr>\n",
              "      <th>0</th>\n",
              "      <td>0.217993</td>\n",
              "      <td>0.588889</td>\n",
              "      <td>0.111111</td>\n",
              "      <td>0.075000</td>\n",
              "      <td>0.375</td>\n",
              "      <td>0.610138</td>\n",
              "      <td>NaN</td>\n",
              "      <td>NaN</td>\n",
              "      <td>0.978261</td>\n",
              "      <td>0.0</td>\n",
              "      <td>...</td>\n",
              "      <td>0.0</td>\n",
              "      <td>0.0</td>\n",
              "      <td>0.0</td>\n",
              "      <td>0.0</td>\n",
              "      <td>0.0</td>\n",
              "      <td>0.0</td>\n",
              "      <td>0.0</td>\n",
              "      <td>0.0</td>\n",
              "      <td>0.0</td>\n",
              "      <td>0.0</td>\n",
              "    </tr>\n",
              "    <tr>\n",
              "      <th>1</th>\n",
              "      <td>0.833910</td>\n",
              "      <td>0.588889</td>\n",
              "      <td>0.111111</td>\n",
              "      <td>0.075000</td>\n",
              "      <td>0.375</td>\n",
              "      <td>0.610138</td>\n",
              "      <td>NaN</td>\n",
              "      <td>NaN</td>\n",
              "      <td>0.978261</td>\n",
              "      <td>0.0</td>\n",
              "      <td>...</td>\n",
              "      <td>0.0</td>\n",
              "      <td>0.0</td>\n",
              "      <td>0.0</td>\n",
              "      <td>0.0</td>\n",
              "      <td>0.0</td>\n",
              "      <td>0.0</td>\n",
              "      <td>0.0</td>\n",
              "      <td>0.0</td>\n",
              "      <td>0.0</td>\n",
              "      <td>0.0</td>\n",
              "    </tr>\n",
              "    <tr>\n",
              "      <th>2</th>\n",
              "      <td>0.224913</td>\n",
              "      <td>0.511111</td>\n",
              "      <td>0.111111</td>\n",
              "      <td>0.000000</td>\n",
              "      <td>0.000</td>\n",
              "      <td>0.610138</td>\n",
              "      <td>NaN</td>\n",
              "      <td>NaN</td>\n",
              "      <td>0.978261</td>\n",
              "      <td>0.0</td>\n",
              "      <td>...</td>\n",
              "      <td>0.0</td>\n",
              "      <td>0.0</td>\n",
              "      <td>0.0</td>\n",
              "      <td>0.0</td>\n",
              "      <td>0.0</td>\n",
              "      <td>0.0</td>\n",
              "      <td>0.0</td>\n",
              "      <td>0.0</td>\n",
              "      <td>0.0</td>\n",
              "      <td>0.0</td>\n",
              "    </tr>\n",
              "    <tr>\n",
              "      <th>3</th>\n",
              "      <td>0.304498</td>\n",
              "      <td>0.511111</td>\n",
              "      <td>0.111111</td>\n",
              "      <td>0.975000</td>\n",
              "      <td>0.125</td>\n",
              "      <td>0.604506</td>\n",
              "      <td>NaN</td>\n",
              "      <td>NaN</td>\n",
              "      <td>0.978261</td>\n",
              "      <td>0.0</td>\n",
              "      <td>...</td>\n",
              "      <td>0.0</td>\n",
              "      <td>0.0</td>\n",
              "      <td>0.0</td>\n",
              "      <td>0.0</td>\n",
              "      <td>0.0</td>\n",
              "      <td>0.0</td>\n",
              "      <td>0.0</td>\n",
              "      <td>0.0</td>\n",
              "      <td>0.0</td>\n",
              "      <td>0.0</td>\n",
              "    </tr>\n",
              "    <tr>\n",
              "      <th>4</th>\n",
              "      <td>0.944637</td>\n",
              "      <td>0.511111</td>\n",
              "      <td>0.111111</td>\n",
              "      <td>0.975000</td>\n",
              "      <td>0.000</td>\n",
              "      <td>0.604506</td>\n",
              "      <td>NaN</td>\n",
              "      <td>NaN</td>\n",
              "      <td>0.978261</td>\n",
              "      <td>0.0</td>\n",
              "      <td>...</td>\n",
              "      <td>0.0</td>\n",
              "      <td>0.0</td>\n",
              "      <td>0.0</td>\n",
              "      <td>0.0</td>\n",
              "      <td>0.0</td>\n",
              "      <td>0.0</td>\n",
              "      <td>0.0</td>\n",
              "      <td>0.0</td>\n",
              "      <td>0.0</td>\n",
              "      <td>0.0</td>\n",
              "    </tr>\n",
              "    <tr>\n",
              "      <th>...</th>\n",
              "      <td>...</td>\n",
              "      <td>...</td>\n",
              "      <td>...</td>\n",
              "      <td>...</td>\n",
              "      <td>...</td>\n",
              "      <td>...</td>\n",
              "      <td>...</td>\n",
              "      <td>...</td>\n",
              "      <td>...</td>\n",
              "      <td>...</td>\n",
              "      <td>...</td>\n",
              "      <td>...</td>\n",
              "      <td>...</td>\n",
              "      <td>...</td>\n",
              "      <td>...</td>\n",
              "      <td>...</td>\n",
              "      <td>...</td>\n",
              "      <td>...</td>\n",
              "      <td>...</td>\n",
              "      <td>...</td>\n",
              "      <td>...</td>\n",
              "    </tr>\n",
              "    <tr>\n",
              "      <th>14449</th>\n",
              "      <td>0.574394</td>\n",
              "      <td>0.122222</td>\n",
              "      <td>0.444444</td>\n",
              "      <td>0.958333</td>\n",
              "      <td>0.375</td>\n",
              "      <td>0.583542</td>\n",
              "      <td>NaN</td>\n",
              "      <td>NaN</td>\n",
              "      <td>0.815217</td>\n",
              "      <td>1.0</td>\n",
              "      <td>...</td>\n",
              "      <td>0.0</td>\n",
              "      <td>0.0</td>\n",
              "      <td>0.0</td>\n",
              "      <td>0.0</td>\n",
              "      <td>0.0</td>\n",
              "      <td>0.0</td>\n",
              "      <td>0.0</td>\n",
              "      <td>0.0</td>\n",
              "      <td>0.0</td>\n",
              "      <td>0.0</td>\n",
              "    </tr>\n",
              "    <tr>\n",
              "      <th>14450</th>\n",
              "      <td>0.705882</td>\n",
              "      <td>0.944444</td>\n",
              "      <td>0.888889</td>\n",
              "      <td>0.777778</td>\n",
              "      <td>0.625</td>\n",
              "      <td>0.572747</td>\n",
              "      <td>NaN</td>\n",
              "      <td>NaN</td>\n",
              "      <td>0.978261</td>\n",
              "      <td>1.0</td>\n",
              "      <td>...</td>\n",
              "      <td>0.0</td>\n",
              "      <td>0.0</td>\n",
              "      <td>0.0</td>\n",
              "      <td>0.0</td>\n",
              "      <td>0.0</td>\n",
              "      <td>0.0</td>\n",
              "      <td>0.0</td>\n",
              "      <td>0.0</td>\n",
              "      <td>0.0</td>\n",
              "      <td>0.0</td>\n",
              "    </tr>\n",
              "    <tr>\n",
              "      <th>14451</th>\n",
              "      <td>0.564014</td>\n",
              "      <td>0.588889</td>\n",
              "      <td>0.444444</td>\n",
              "      <td>0.661111</td>\n",
              "      <td>0.000</td>\n",
              "      <td>0.572278</td>\n",
              "      <td>NaN</td>\n",
              "      <td>NaN</td>\n",
              "      <td>0.978261</td>\n",
              "      <td>1.0</td>\n",
              "      <td>...</td>\n",
              "      <td>0.0</td>\n",
              "      <td>0.0</td>\n",
              "      <td>0.0</td>\n",
              "      <td>0.0</td>\n",
              "      <td>0.0</td>\n",
              "      <td>0.0</td>\n",
              "      <td>0.0</td>\n",
              "      <td>0.0</td>\n",
              "      <td>0.0</td>\n",
              "      <td>0.0</td>\n",
              "    </tr>\n",
              "    <tr>\n",
              "      <th>14452</th>\n",
              "      <td>0.038062</td>\n",
              "      <td>0.522222</td>\n",
              "      <td>0.888889</td>\n",
              "      <td>0.744444</td>\n",
              "      <td>0.750</td>\n",
              "      <td>0.562265</td>\n",
              "      <td>NaN</td>\n",
              "      <td>NaN</td>\n",
              "      <td>0.978261</td>\n",
              "      <td>1.0</td>\n",
              "      <td>...</td>\n",
              "      <td>0.0</td>\n",
              "      <td>0.0</td>\n",
              "      <td>0.0</td>\n",
              "      <td>0.0</td>\n",
              "      <td>0.0</td>\n",
              "      <td>0.0</td>\n",
              "      <td>0.0</td>\n",
              "      <td>0.0</td>\n",
              "      <td>0.0</td>\n",
              "      <td>0.0</td>\n",
              "    </tr>\n",
              "    <tr>\n",
              "      <th>14453</th>\n",
              "      <td>0.366782</td>\n",
              "      <td>0.666667</td>\n",
              "      <td>0.888889</td>\n",
              "      <td>0.911111</td>\n",
              "      <td>0.625</td>\n",
              "      <td>0.562735</td>\n",
              "      <td>NaN</td>\n",
              "      <td>NaN</td>\n",
              "      <td>0.978261</td>\n",
              "      <td>1.0</td>\n",
              "      <td>...</td>\n",
              "      <td>0.0</td>\n",
              "      <td>0.0</td>\n",
              "      <td>0.0</td>\n",
              "      <td>0.0</td>\n",
              "      <td>0.0</td>\n",
              "      <td>0.0</td>\n",
              "      <td>0.0</td>\n",
              "      <td>0.0</td>\n",
              "      <td>0.0</td>\n",
              "      <td>0.0</td>\n",
              "    </tr>\n",
              "  </tbody>\n",
              "</table>\n",
              "<p>13666 rows × 67 columns</p>\n",
              "</div>\n",
              "      <button class=\"colab-df-convert\" onclick=\"convertToInteractive('df-7f72c8c7-b098-4300-90da-206c57a56571')\"\n",
              "              title=\"Convert this dataframe to an interactive table.\"\n",
              "              style=\"display:none;\">\n",
              "        \n",
              "  <svg xmlns=\"http://www.w3.org/2000/svg\" height=\"24px\"viewBox=\"0 0 24 24\"\n",
              "       width=\"24px\">\n",
              "    <path d=\"M0 0h24v24H0V0z\" fill=\"none\"/>\n",
              "    <path d=\"M18.56 5.44l.94 2.06.94-2.06 2.06-.94-2.06-.94-.94-2.06-.94 2.06-2.06.94zm-11 1L8.5 8.5l.94-2.06 2.06-.94-2.06-.94L8.5 2.5l-.94 2.06-2.06.94zm10 10l.94 2.06.94-2.06 2.06-.94-2.06-.94-.94-2.06-.94 2.06-2.06.94z\"/><path d=\"M17.41 7.96l-1.37-1.37c-.4-.4-.92-.59-1.43-.59-.52 0-1.04.2-1.43.59L10.3 9.45l-7.72 7.72c-.78.78-.78 2.05 0 2.83L4 21.41c.39.39.9.59 1.41.59.51 0 1.02-.2 1.41-.59l7.78-7.78 2.81-2.81c.8-.78.8-2.07 0-2.86zM5.41 20L4 18.59l7.72-7.72 1.47 1.35L5.41 20z\"/>\n",
              "  </svg>\n",
              "      </button>\n",
              "      \n",
              "  <style>\n",
              "    .colab-df-container {\n",
              "      display:flex;\n",
              "      flex-wrap:wrap;\n",
              "      gap: 12px;\n",
              "    }\n",
              "\n",
              "    .colab-df-convert {\n",
              "      background-color: #E8F0FE;\n",
              "      border: none;\n",
              "      border-radius: 50%;\n",
              "      cursor: pointer;\n",
              "      display: none;\n",
              "      fill: #1967D2;\n",
              "      height: 32px;\n",
              "      padding: 0 0 0 0;\n",
              "      width: 32px;\n",
              "    }\n",
              "\n",
              "    .colab-df-convert:hover {\n",
              "      background-color: #E2EBFA;\n",
              "      box-shadow: 0px 1px 2px rgba(60, 64, 67, 0.3), 0px 1px 3px 1px rgba(60, 64, 67, 0.15);\n",
              "      fill: #174EA6;\n",
              "    }\n",
              "\n",
              "    [theme=dark] .colab-df-convert {\n",
              "      background-color: #3B4455;\n",
              "      fill: #D2E3FC;\n",
              "    }\n",
              "\n",
              "    [theme=dark] .colab-df-convert:hover {\n",
              "      background-color: #434B5C;\n",
              "      box-shadow: 0px 1px 3px 1px rgba(0, 0, 0, 0.15);\n",
              "      filter: drop-shadow(0px 1px 2px rgba(0, 0, 0, 0.3));\n",
              "      fill: #FFFFFF;\n",
              "    }\n",
              "  </style>\n",
              "\n",
              "      <script>\n",
              "        const buttonEl =\n",
              "          document.querySelector('#df-7f72c8c7-b098-4300-90da-206c57a56571 button.colab-df-convert');\n",
              "        buttonEl.style.display =\n",
              "          google.colab.kernel.accessAllowed ? 'block' : 'none';\n",
              "\n",
              "        async function convertToInteractive(key) {\n",
              "          const element = document.querySelector('#df-7f72c8c7-b098-4300-90da-206c57a56571');\n",
              "          const dataTable =\n",
              "            await google.colab.kernel.invokeFunction('convertToInteractive',\n",
              "                                                     [key], {});\n",
              "          if (!dataTable) return;\n",
              "\n",
              "          const docLinkHtml = 'Like what you see? Visit the ' +\n",
              "            '<a target=\"_blank\" href=https://colab.research.google.com/notebooks/data_table.ipynb>data table notebook</a>'\n",
              "            + ' to learn more about interactive tables.';\n",
              "          element.innerHTML = '';\n",
              "          dataTable['output_type'] = 'display_data';\n",
              "          await google.colab.output.renderOutput(dataTable, element);\n",
              "          const docLink = document.createElement('div');\n",
              "          docLink.innerHTML = docLinkHtml;\n",
              "          element.appendChild(docLink);\n",
              "        }\n",
              "      </script>\n",
              "    </div>\n",
              "  </div>\n",
              "  "
            ]
          },
          "metadata": {},
          "execution_count": 41
        }
      ]
    },
    {
      "cell_type": "code",
      "execution_count": 42,
      "metadata": {
        "colab": {
          "base_uri": "https://localhost:8080/"
        },
        "id": "5kwnW1Kr93ol",
        "outputId": "b35472dd-f863-42ec-e8eb-726d5ffca93f"
      },
      "outputs": [
        {
          "output_type": "execute_result",
          "data": {
            "text/plain": [
              "array([[0.21799308, 0.58888889, 0.11111111, ..., 0.        , 0.        ,\n",
              "        0.        ],\n",
              "       [0.83391003, 0.58888889, 0.11111111, ..., 0.        , 0.        ,\n",
              "        0.        ],\n",
              "       [0.22491349, 0.51111111, 0.11111111, ..., 0.        , 0.        ,\n",
              "        0.        ],\n",
              "       ...,\n",
              "       [0.56401384, 0.58888889, 0.44444444, ..., 0.        , 0.        ,\n",
              "        0.        ],\n",
              "       [0.03806228, 0.52222222, 0.88888889, ..., 0.        , 0.        ,\n",
              "        0.        ],\n",
              "       [0.36678201, 0.66666667, 0.88888889, ..., 0.        , 0.        ,\n",
              "        0.        ]])"
            ]
          },
          "metadata": {},
          "execution_count": 42
        }
      ],
      "source": [
        "pred_test=test_scaled.values\n",
        "pred_test"
      ]
    },
    {
      "cell_type": "markdown",
      "metadata": {
        "id": "EK6UgStzuKo2"
      },
      "source": [
        "**Train and Test data**"
      ]
    },
    {
      "cell_type": "markdown",
      "metadata": {
        "id": "BzAX5aA4gA7o"
      },
      "source": [
        "<a id=\"ch6\"></a>\n",
        "## Scaling and train test split\n",
        "<hr/>\n",
        "Now we are ready to train a model and predict the required solution. There are 60+ predictive modelling algorithms to choose from. We must understand the type of problem and solution requirement to narrow down to a select few models which we can evaluate. Our problem is a mean squared error regression problem. We are also performing a category of machine learning which is called supervised learning as we are training our model with a given dataset.\n",
        "\n",
        "## 1 Here we split the data into train data, test data "
      ]
    },
    {
      "cell_type": "code",
      "execution_count": 43,
      "metadata": {
        "id": "dhANbEDuuKo4"
      },
      "outputs": [],
      "source": [
        "y = train['traffic_volume']\n",
        "x = train.drop(['traffic_volume'], axis=1)"
      ]
    },
    {
      "cell_type": "markdown",
      "metadata": {
        "id": "dxzpLYZGgSpr"
      },
      "source": [
        "### Normalizing / scaling the data\n",
        "We scale the feature data. To prevent data leakage from the test set, we only fit our scaler to the training set."
      ]
    },
    {
      "cell_type": "code",
      "execution_count": null,
      "metadata": {
        "id": "C-lE4JZN9fOV"
      },
      "outputs": [],
      "source": [
        "# from sklearn.preprocessing import MinMaxScaler\n",
        "# scaler=MinMaxScaler()\n",
        "# x=scaler.fit_transform(x)\n"
      ]
    },
    {
      "cell_type": "code",
      "execution_count": 44,
      "metadata": {
        "id": "xSaYMsIi93ot"
      },
      "outputs": [],
      "source": [
        "def min_max_scaler(x):\n",
        "   \n",
        "    # Compute the minimum and maximum values for each column of x\n",
        "    x_min = np.min(x, axis=0)\n",
        "    x_max = np.max(x, axis=0)\n",
        "    \n",
        "    # Scale each column of x to the range [0, 1]\n",
        "    x_scaled = (x - x_min) / (x_max - x_min)\n",
        "    \n",
        "    return x_scaled"
      ]
    },
    {
      "cell_type": "code",
      "execution_count": 45,
      "metadata": {
        "id": "NquIo5Ao93ot"
      },
      "outputs": [],
      "source": [
        "x_scaled = min_max_scaler(x)"
      ]
    },
    {
      "cell_type": "code",
      "source": [
        "x_scaled"
      ],
      "metadata": {
        "colab": {
          "base_uri": "https://localhost:8080/",
          "height": 505
        },
        "id": "PIZvcEPEBedH",
        "outputId": "dfa6a56b-c82f-4bb7-b855-2be965f11c98"
      },
      "execution_count": 46,
      "outputs": [
        {
          "output_type": "execute_result",
          "data": {
            "text/plain": [
              "       air_pollution_index  humidity  wind_speed  wind_direction  \\\n",
              "0                 0.384083  0.857143    0.222222        0.913889   \n",
              "1                 0.581315  0.571429    0.333333        0.916667   \n",
              "2                 0.356401  0.558442    0.333333        0.913889   \n",
              "3                 0.034602  0.558442    0.333333        0.913889   \n",
              "4                 0.937716  0.545455    0.333333        0.913889   \n",
              "...                    ...       ...         ...             ...   \n",
              "33745             0.221453  0.805195    0.111111        0.911111   \n",
              "33746             0.245675  0.610390    0.111111        0.066667   \n",
              "33747             0.442907  0.610390    0.111111        0.066667   \n",
              "33748             0.757785  0.558442    0.111111        0.116667   \n",
              "33749             0.449827  0.519481    0.111111        0.075000   \n",
              "\n",
              "       visibility_in_miles  temperature  rain_p_h  snow_p_h  clouds_all  year  \\\n",
              "0                    0.000     0.935245       0.0       NaN        0.40   0.0   \n",
              "1                    0.000     0.938749       0.0       NaN        0.75   0.0   \n",
              "2                    0.125     0.939463       0.0       NaN        0.90   0.0   \n",
              "3                    0.500     0.941247       0.0       NaN        0.90   0.0   \n",
              "4                    0.750     0.944524       0.0       NaN        0.75   0.0   \n",
              "...                    ...          ...       ...       ...         ...   ...   \n",
              "33745                0.750     0.933948       0.0       NaN        0.90   1.0   \n",
              "33746                0.125     0.930930       0.0       NaN        0.90   1.0   \n",
              "33747                0.000     0.930930       0.0       NaN        0.90   1.0   \n",
              "33748                0.625     0.927037       0.0       NaN        0.90   1.0   \n",
              "33749                0.875     0.927037       0.0       NaN        0.90   1.0   \n",
              "\n",
              "       ...  weather_description_shower drizzle  \\\n",
              "0      ...                                 0.0   \n",
              "1      ...                                 0.0   \n",
              "2      ...                                 0.0   \n",
              "3      ...                                 0.0   \n",
              "4      ...                                 0.0   \n",
              "...    ...                                 ...   \n",
              "33745  ...                                 0.0   \n",
              "33746  ...                                 0.0   \n",
              "33747  ...                                 0.0   \n",
              "33748  ...                                 0.0   \n",
              "33749  ...                                 0.0   \n",
              "\n",
              "       weather_description_sky is clear  weather_description_sleet  \\\n",
              "0                                   0.0                        0.0   \n",
              "1                                   0.0                        0.0   \n",
              "2                                   0.0                        0.0   \n",
              "3                                   0.0                        0.0   \n",
              "4                                   0.0                        0.0   \n",
              "...                                 ...                        ...   \n",
              "33745                               0.0                        0.0   \n",
              "33746                               0.0                        0.0   \n",
              "33747                               0.0                        0.0   \n",
              "33748                               0.0                        0.0   \n",
              "33749                               0.0                        0.0   \n",
              "\n",
              "       weather_description_smoke  weather_description_snow  \\\n",
              "0                            0.0                       0.0   \n",
              "1                            0.0                       0.0   \n",
              "2                            0.0                       0.0   \n",
              "3                            0.0                       0.0   \n",
              "4                            0.0                       0.0   \n",
              "...                          ...                       ...   \n",
              "33745                        0.0                       0.0   \n",
              "33746                        0.0                       0.0   \n",
              "33747                        0.0                       0.0   \n",
              "33748                        0.0                       0.0   \n",
              "33749                        0.0                       0.0   \n",
              "\n",
              "       weather_description_thunderstorm  \\\n",
              "0                                   0.0   \n",
              "1                                   0.0   \n",
              "2                                   0.0   \n",
              "3                                   0.0   \n",
              "4                                   0.0   \n",
              "...                                 ...   \n",
              "33745                               0.0   \n",
              "33746                               0.0   \n",
              "33747                               0.0   \n",
              "33748                               0.0   \n",
              "33749                               0.0   \n",
              "\n",
              "       weather_description_thunderstorm with heavy rain  \\\n",
              "0                                                   0.0   \n",
              "1                                                   0.0   \n",
              "2                                                   0.0   \n",
              "3                                                   0.0   \n",
              "4                                                   0.0   \n",
              "...                                                 ...   \n",
              "33745                                               0.0   \n",
              "33746                                               0.0   \n",
              "33747                                               0.0   \n",
              "33748                                               0.0   \n",
              "33749                                               0.0   \n",
              "\n",
              "       weather_description_thunderstorm with light drizzle  \\\n",
              "0                                                    0.0     \n",
              "1                                                    0.0     \n",
              "2                                                    0.0     \n",
              "3                                                    0.0     \n",
              "4                                                    0.0     \n",
              "...                                                  ...     \n",
              "33745                                                0.0     \n",
              "33746                                                0.0     \n",
              "33747                                                0.0     \n",
              "33748                                                0.0     \n",
              "33749                                                0.0     \n",
              "\n",
              "       weather_description_thunderstorm with light rain  \\\n",
              "0                                                   0.0   \n",
              "1                                                   0.0   \n",
              "2                                                   0.0   \n",
              "3                                                   0.0   \n",
              "4                                                   0.0   \n",
              "...                                                 ...   \n",
              "33745                                               0.0   \n",
              "33746                                               0.0   \n",
              "33747                                               0.0   \n",
              "33748                                               0.0   \n",
              "33749                                               0.0   \n",
              "\n",
              "       weather_description_thunderstorm with rain  \n",
              "0                                             0.0  \n",
              "1                                             0.0  \n",
              "2                                             0.0  \n",
              "3                                             0.0  \n",
              "4                                             0.0  \n",
              "...                                           ...  \n",
              "33745                                         0.0  \n",
              "33746                                         0.0  \n",
              "33747                                         0.0  \n",
              "33748                                         0.0  \n",
              "33749                                         0.0  \n",
              "\n",
              "[33380 rows x 67 columns]"
            ],
            "text/html": [
              "\n",
              "  <div id=\"df-84ed0b7f-e8bf-41fd-b2c0-04ee092588f9\">\n",
              "    <div class=\"colab-df-container\">\n",
              "      <div>\n",
              "<style scoped>\n",
              "    .dataframe tbody tr th:only-of-type {\n",
              "        vertical-align: middle;\n",
              "    }\n",
              "\n",
              "    .dataframe tbody tr th {\n",
              "        vertical-align: top;\n",
              "    }\n",
              "\n",
              "    .dataframe thead th {\n",
              "        text-align: right;\n",
              "    }\n",
              "</style>\n",
              "<table border=\"1\" class=\"dataframe\">\n",
              "  <thead>\n",
              "    <tr style=\"text-align: right;\">\n",
              "      <th></th>\n",
              "      <th>air_pollution_index</th>\n",
              "      <th>humidity</th>\n",
              "      <th>wind_speed</th>\n",
              "      <th>wind_direction</th>\n",
              "      <th>visibility_in_miles</th>\n",
              "      <th>temperature</th>\n",
              "      <th>rain_p_h</th>\n",
              "      <th>snow_p_h</th>\n",
              "      <th>clouds_all</th>\n",
              "      <th>year</th>\n",
              "      <th>...</th>\n",
              "      <th>weather_description_shower drizzle</th>\n",
              "      <th>weather_description_sky is clear</th>\n",
              "      <th>weather_description_sleet</th>\n",
              "      <th>weather_description_smoke</th>\n",
              "      <th>weather_description_snow</th>\n",
              "      <th>weather_description_thunderstorm</th>\n",
              "      <th>weather_description_thunderstorm with heavy rain</th>\n",
              "      <th>weather_description_thunderstorm with light drizzle</th>\n",
              "      <th>weather_description_thunderstorm with light rain</th>\n",
              "      <th>weather_description_thunderstorm with rain</th>\n",
              "    </tr>\n",
              "  </thead>\n",
              "  <tbody>\n",
              "    <tr>\n",
              "      <th>0</th>\n",
              "      <td>0.384083</td>\n",
              "      <td>0.857143</td>\n",
              "      <td>0.222222</td>\n",
              "      <td>0.913889</td>\n",
              "      <td>0.000</td>\n",
              "      <td>0.935245</td>\n",
              "      <td>0.0</td>\n",
              "      <td>NaN</td>\n",
              "      <td>0.40</td>\n",
              "      <td>0.0</td>\n",
              "      <td>...</td>\n",
              "      <td>0.0</td>\n",
              "      <td>0.0</td>\n",
              "      <td>0.0</td>\n",
              "      <td>0.0</td>\n",
              "      <td>0.0</td>\n",
              "      <td>0.0</td>\n",
              "      <td>0.0</td>\n",
              "      <td>0.0</td>\n",
              "      <td>0.0</td>\n",
              "      <td>0.0</td>\n",
              "    </tr>\n",
              "    <tr>\n",
              "      <th>1</th>\n",
              "      <td>0.581315</td>\n",
              "      <td>0.571429</td>\n",
              "      <td>0.333333</td>\n",
              "      <td>0.916667</td>\n",
              "      <td>0.000</td>\n",
              "      <td>0.938749</td>\n",
              "      <td>0.0</td>\n",
              "      <td>NaN</td>\n",
              "      <td>0.75</td>\n",
              "      <td>0.0</td>\n",
              "      <td>...</td>\n",
              "      <td>0.0</td>\n",
              "      <td>0.0</td>\n",
              "      <td>0.0</td>\n",
              "      <td>0.0</td>\n",
              "      <td>0.0</td>\n",
              "      <td>0.0</td>\n",
              "      <td>0.0</td>\n",
              "      <td>0.0</td>\n",
              "      <td>0.0</td>\n",
              "      <td>0.0</td>\n",
              "    </tr>\n",
              "    <tr>\n",
              "      <th>2</th>\n",
              "      <td>0.356401</td>\n",
              "      <td>0.558442</td>\n",
              "      <td>0.333333</td>\n",
              "      <td>0.913889</td>\n",
              "      <td>0.125</td>\n",
              "      <td>0.939463</td>\n",
              "      <td>0.0</td>\n",
              "      <td>NaN</td>\n",
              "      <td>0.90</td>\n",
              "      <td>0.0</td>\n",
              "      <td>...</td>\n",
              "      <td>0.0</td>\n",
              "      <td>0.0</td>\n",
              "      <td>0.0</td>\n",
              "      <td>0.0</td>\n",
              "      <td>0.0</td>\n",
              "      <td>0.0</td>\n",
              "      <td>0.0</td>\n",
              "      <td>0.0</td>\n",
              "      <td>0.0</td>\n",
              "      <td>0.0</td>\n",
              "    </tr>\n",
              "    <tr>\n",
              "      <th>3</th>\n",
              "      <td>0.034602</td>\n",
              "      <td>0.558442</td>\n",
              "      <td>0.333333</td>\n",
              "      <td>0.913889</td>\n",
              "      <td>0.500</td>\n",
              "      <td>0.941247</td>\n",
              "      <td>0.0</td>\n",
              "      <td>NaN</td>\n",
              "      <td>0.90</td>\n",
              "      <td>0.0</td>\n",
              "      <td>...</td>\n",
              "      <td>0.0</td>\n",
              "      <td>0.0</td>\n",
              "      <td>0.0</td>\n",
              "      <td>0.0</td>\n",
              "      <td>0.0</td>\n",
              "      <td>0.0</td>\n",
              "      <td>0.0</td>\n",
              "      <td>0.0</td>\n",
              "      <td>0.0</td>\n",
              "      <td>0.0</td>\n",
              "    </tr>\n",
              "    <tr>\n",
              "      <th>4</th>\n",
              "      <td>0.937716</td>\n",
              "      <td>0.545455</td>\n",
              "      <td>0.333333</td>\n",
              "      <td>0.913889</td>\n",
              "      <td>0.750</td>\n",
              "      <td>0.944524</td>\n",
              "      <td>0.0</td>\n",
              "      <td>NaN</td>\n",
              "      <td>0.75</td>\n",
              "      <td>0.0</td>\n",
              "      <td>...</td>\n",
              "      <td>0.0</td>\n",
              "      <td>0.0</td>\n",
              "      <td>0.0</td>\n",
              "      <td>0.0</td>\n",
              "      <td>0.0</td>\n",
              "      <td>0.0</td>\n",
              "      <td>0.0</td>\n",
              "      <td>0.0</td>\n",
              "      <td>0.0</td>\n",
              "      <td>0.0</td>\n",
              "    </tr>\n",
              "    <tr>\n",
              "      <th>...</th>\n",
              "      <td>...</td>\n",
              "      <td>...</td>\n",
              "      <td>...</td>\n",
              "      <td>...</td>\n",
              "      <td>...</td>\n",
              "      <td>...</td>\n",
              "      <td>...</td>\n",
              "      <td>...</td>\n",
              "      <td>...</td>\n",
              "      <td>...</td>\n",
              "      <td>...</td>\n",
              "      <td>...</td>\n",
              "      <td>...</td>\n",
              "      <td>...</td>\n",
              "      <td>...</td>\n",
              "      <td>...</td>\n",
              "      <td>...</td>\n",
              "      <td>...</td>\n",
              "      <td>...</td>\n",
              "      <td>...</td>\n",
              "      <td>...</td>\n",
              "    </tr>\n",
              "    <tr>\n",
              "      <th>33745</th>\n",
              "      <td>0.221453</td>\n",
              "      <td>0.805195</td>\n",
              "      <td>0.111111</td>\n",
              "      <td>0.911111</td>\n",
              "      <td>0.750</td>\n",
              "      <td>0.933948</td>\n",
              "      <td>0.0</td>\n",
              "      <td>NaN</td>\n",
              "      <td>0.90</td>\n",
              "      <td>1.0</td>\n",
              "      <td>...</td>\n",
              "      <td>0.0</td>\n",
              "      <td>0.0</td>\n",
              "      <td>0.0</td>\n",
              "      <td>0.0</td>\n",
              "      <td>0.0</td>\n",
              "      <td>0.0</td>\n",
              "      <td>0.0</td>\n",
              "      <td>0.0</td>\n",
              "      <td>0.0</td>\n",
              "      <td>0.0</td>\n",
              "    </tr>\n",
              "    <tr>\n",
              "      <th>33746</th>\n",
              "      <td>0.245675</td>\n",
              "      <td>0.610390</td>\n",
              "      <td>0.111111</td>\n",
              "      <td>0.066667</td>\n",
              "      <td>0.125</td>\n",
              "      <td>0.930930</td>\n",
              "      <td>0.0</td>\n",
              "      <td>NaN</td>\n",
              "      <td>0.90</td>\n",
              "      <td>1.0</td>\n",
              "      <td>...</td>\n",
              "      <td>0.0</td>\n",
              "      <td>0.0</td>\n",
              "      <td>0.0</td>\n",
              "      <td>0.0</td>\n",
              "      <td>0.0</td>\n",
              "      <td>0.0</td>\n",
              "      <td>0.0</td>\n",
              "      <td>0.0</td>\n",
              "      <td>0.0</td>\n",
              "      <td>0.0</td>\n",
              "    </tr>\n",
              "    <tr>\n",
              "      <th>33747</th>\n",
              "      <td>0.442907</td>\n",
              "      <td>0.610390</td>\n",
              "      <td>0.111111</td>\n",
              "      <td>0.066667</td>\n",
              "      <td>0.000</td>\n",
              "      <td>0.930930</td>\n",
              "      <td>0.0</td>\n",
              "      <td>NaN</td>\n",
              "      <td>0.90</td>\n",
              "      <td>1.0</td>\n",
              "      <td>...</td>\n",
              "      <td>0.0</td>\n",
              "      <td>0.0</td>\n",
              "      <td>0.0</td>\n",
              "      <td>0.0</td>\n",
              "      <td>0.0</td>\n",
              "      <td>0.0</td>\n",
              "      <td>0.0</td>\n",
              "      <td>0.0</td>\n",
              "      <td>0.0</td>\n",
              "      <td>0.0</td>\n",
              "    </tr>\n",
              "    <tr>\n",
              "      <th>33748</th>\n",
              "      <td>0.757785</td>\n",
              "      <td>0.558442</td>\n",
              "      <td>0.111111</td>\n",
              "      <td>0.116667</td>\n",
              "      <td>0.625</td>\n",
              "      <td>0.927037</td>\n",
              "      <td>0.0</td>\n",
              "      <td>NaN</td>\n",
              "      <td>0.90</td>\n",
              "      <td>1.0</td>\n",
              "      <td>...</td>\n",
              "      <td>0.0</td>\n",
              "      <td>0.0</td>\n",
              "      <td>0.0</td>\n",
              "      <td>0.0</td>\n",
              "      <td>0.0</td>\n",
              "      <td>0.0</td>\n",
              "      <td>0.0</td>\n",
              "      <td>0.0</td>\n",
              "      <td>0.0</td>\n",
              "      <td>0.0</td>\n",
              "    </tr>\n",
              "    <tr>\n",
              "      <th>33749</th>\n",
              "      <td>0.449827</td>\n",
              "      <td>0.519481</td>\n",
              "      <td>0.111111</td>\n",
              "      <td>0.075000</td>\n",
              "      <td>0.875</td>\n",
              "      <td>0.927037</td>\n",
              "      <td>0.0</td>\n",
              "      <td>NaN</td>\n",
              "      <td>0.90</td>\n",
              "      <td>1.0</td>\n",
              "      <td>...</td>\n",
              "      <td>0.0</td>\n",
              "      <td>0.0</td>\n",
              "      <td>0.0</td>\n",
              "      <td>0.0</td>\n",
              "      <td>0.0</td>\n",
              "      <td>0.0</td>\n",
              "      <td>0.0</td>\n",
              "      <td>0.0</td>\n",
              "      <td>0.0</td>\n",
              "      <td>0.0</td>\n",
              "    </tr>\n",
              "  </tbody>\n",
              "</table>\n",
              "<p>33380 rows × 67 columns</p>\n",
              "</div>\n",
              "      <button class=\"colab-df-convert\" onclick=\"convertToInteractive('df-84ed0b7f-e8bf-41fd-b2c0-04ee092588f9')\"\n",
              "              title=\"Convert this dataframe to an interactive table.\"\n",
              "              style=\"display:none;\">\n",
              "        \n",
              "  <svg xmlns=\"http://www.w3.org/2000/svg\" height=\"24px\"viewBox=\"0 0 24 24\"\n",
              "       width=\"24px\">\n",
              "    <path d=\"M0 0h24v24H0V0z\" fill=\"none\"/>\n",
              "    <path d=\"M18.56 5.44l.94 2.06.94-2.06 2.06-.94-2.06-.94-.94-2.06-.94 2.06-2.06.94zm-11 1L8.5 8.5l.94-2.06 2.06-.94-2.06-.94L8.5 2.5l-.94 2.06-2.06.94zm10 10l.94 2.06.94-2.06 2.06-.94-2.06-.94-.94-2.06-.94 2.06-2.06.94z\"/><path d=\"M17.41 7.96l-1.37-1.37c-.4-.4-.92-.59-1.43-.59-.52 0-1.04.2-1.43.59L10.3 9.45l-7.72 7.72c-.78.78-.78 2.05 0 2.83L4 21.41c.39.39.9.59 1.41.59.51 0 1.02-.2 1.41-.59l7.78-7.78 2.81-2.81c.8-.78.8-2.07 0-2.86zM5.41 20L4 18.59l7.72-7.72 1.47 1.35L5.41 20z\"/>\n",
              "  </svg>\n",
              "      </button>\n",
              "      \n",
              "  <style>\n",
              "    .colab-df-container {\n",
              "      display:flex;\n",
              "      flex-wrap:wrap;\n",
              "      gap: 12px;\n",
              "    }\n",
              "\n",
              "    .colab-df-convert {\n",
              "      background-color: #E8F0FE;\n",
              "      border: none;\n",
              "      border-radius: 50%;\n",
              "      cursor: pointer;\n",
              "      display: none;\n",
              "      fill: #1967D2;\n",
              "      height: 32px;\n",
              "      padding: 0 0 0 0;\n",
              "      width: 32px;\n",
              "    }\n",
              "\n",
              "    .colab-df-convert:hover {\n",
              "      background-color: #E2EBFA;\n",
              "      box-shadow: 0px 1px 2px rgba(60, 64, 67, 0.3), 0px 1px 3px 1px rgba(60, 64, 67, 0.15);\n",
              "      fill: #174EA6;\n",
              "    }\n",
              "\n",
              "    [theme=dark] .colab-df-convert {\n",
              "      background-color: #3B4455;\n",
              "      fill: #D2E3FC;\n",
              "    }\n",
              "\n",
              "    [theme=dark] .colab-df-convert:hover {\n",
              "      background-color: #434B5C;\n",
              "      box-shadow: 0px 1px 3px 1px rgba(0, 0, 0, 0.15);\n",
              "      filter: drop-shadow(0px 1px 2px rgba(0, 0, 0, 0.3));\n",
              "      fill: #FFFFFF;\n",
              "    }\n",
              "  </style>\n",
              "\n",
              "      <script>\n",
              "        const buttonEl =\n",
              "          document.querySelector('#df-84ed0b7f-e8bf-41fd-b2c0-04ee092588f9 button.colab-df-convert');\n",
              "        buttonEl.style.display =\n",
              "          google.colab.kernel.accessAllowed ? 'block' : 'none';\n",
              "\n",
              "        async function convertToInteractive(key) {\n",
              "          const element = document.querySelector('#df-84ed0b7f-e8bf-41fd-b2c0-04ee092588f9');\n",
              "          const dataTable =\n",
              "            await google.colab.kernel.invokeFunction('convertToInteractive',\n",
              "                                                     [key], {});\n",
              "          if (!dataTable) return;\n",
              "\n",
              "          const docLinkHtml = 'Like what you see? Visit the ' +\n",
              "            '<a target=\"_blank\" href=https://colab.research.google.com/notebooks/data_table.ipynb>data table notebook</a>'\n",
              "            + ' to learn more about interactive tables.';\n",
              "          element.innerHTML = '';\n",
              "          dataTable['output_type'] = 'display_data';\n",
              "          await google.colab.output.renderOutput(dataTable, element);\n",
              "          const docLink = document.createElement('div');\n",
              "          docLink.innerHTML = docLinkHtml;\n",
              "          element.appendChild(docLink);\n",
              "        }\n",
              "      </script>\n",
              "    </div>\n",
              "  </div>\n",
              "  "
            ]
          },
          "metadata": {},
          "execution_count": 46
        }
      ]
    },
    {
      "cell_type": "code",
      "execution_count": null,
      "metadata": {
        "id": "g7nHkG1w93ou",
        "outputId": "bb8cfe3e-978e-41e5-eb18-5ad8a9916f70"
      },
      "outputs": [
        {
          "data": {
            "text/plain": [
              "array([[0.38408304, 0.85714286, 0.22222222, ..., 0.        , 0.        ,\n",
              "        0.        ],\n",
              "       [0.58131488, 0.57142857, 0.33333333, ..., 0.        , 0.        ,\n",
              "        0.        ],\n",
              "       [0.35640138, 0.55844156, 0.33333333, ..., 0.        , 0.        ,\n",
              "        0.        ],\n",
              "       ...,\n",
              "       [0.44290657, 0.61038961, 0.11111111, ..., 0.        , 0.        ,\n",
              "        0.        ],\n",
              "       [0.75778547, 0.55844156, 0.11111111, ..., 0.        , 0.        ,\n",
              "        0.        ],\n",
              "       [0.44982699, 0.51948052, 0.11111111, ..., 0.        , 0.        ,\n",
              "        0.        ]])"
            ]
          },
          "execution_count": 429,
          "metadata": {},
          "output_type": "execute_result"
        }
      ],
      "source": [
        "x_scaled.values"
      ]
    },
    {
      "cell_type": "code",
      "execution_count": null,
      "metadata": {
        "id": "OpJ16qomzsjE"
      },
      "outputs": [],
      "source": [
        "from sklearn.model_selection import train_test_split\n",
        "x_train, x_test, y_train, y_test = train_test_split(x_scaled.values, y, test_size = 0.3, random_state=2323)"
      ]
    },
    {
      "cell_type": "code",
      "execution_count": null,
      "metadata": {
        "id": "2nl-VXt16YRF"
      },
      "outputs": [],
      "source": [
        "X=x_train\n",
        "Y=y_train\n"
      ]
    },
    {
      "cell_type": "code",
      "execution_count": null,
      "metadata": {
        "id": "cdKqaI1_93ov",
        "outputId": "a1b3a437-0fb6-4e2f-d969-301bbe80bc64"
      },
      "outputs": [
        {
          "data": {
            "text/plain": [
              "array([[0.23183391, 0.44827586, 0.3125    , ..., 0.        , 0.        ,\n",
              "        0.        ],\n",
              "       [0.4567474 , 0.14942529, 0.1875    , ..., 0.        , 0.        ,\n",
              "        0.        ],\n",
              "       [0.95847751, 1.        , 0.        , ..., 0.        , 0.        ,\n",
              "        0.        ],\n",
              "       ...,\n",
              "       [0.16955017, 0.35632184, 0.1875    , ..., 0.        , 0.        ,\n",
              "        0.        ],\n",
              "       [0.77508651, 0.44827586, 0.25      , ..., 0.        , 0.        ,\n",
              "        0.        ],\n",
              "       [0.38408304, 0.74712644, 0.25      , ..., 0.        , 0.        ,\n",
              "        0.        ]])"
            ]
          },
          "execution_count": 158,
          "metadata": {},
          "output_type": "execute_result"
        }
      ],
      "source": [
        "X"
      ]
    },
    {
      "cell_type": "code",
      "execution_count": null,
      "metadata": {
        "colab": {
          "base_uri": "https://localhost:8080/"
        },
        "id": "eiRzls9XzzKv",
        "outputId": "93a8e10d-755f-4a34-d8a4-0f5cb4c36652"
      },
      "outputs": [
        {
          "name": "stdout",
          "output_type": "stream",
          "text": [
            "(23625, 67)\n",
            "(10125, 67)\n",
            "(23625,)\n",
            "(10125,)\n"
          ]
        }
      ],
      "source": [
        "print(x_train.shape)\n",
        "print(x_test.shape)\n",
        "print(y_train.shape)\n",
        "print(y_test.shape)"
      ]
    },
    {
      "cell_type": "code",
      "execution_count": null,
      "metadata": {
        "colab": {
          "base_uri": "https://localhost:8080/"
        },
        "id": "-Y64hNO0rOGu",
        "outputId": "fb40f197-3151-46a3-81f8-eaf1eface71c"
      },
      "outputs": [
        {
          "data": {
            "text/plain": [
              "67"
            ]
          },
          "execution_count": 43,
          "metadata": {},
          "output_type": "execute_result"
        }
      ],
      "source": [
        "X.shape[1]"
      ]
    },
    {
      "cell_type": "code",
      "execution_count": null,
      "metadata": {
        "colab": {
          "base_uri": "https://localhost:8080/"
        },
        "id": "V0HQxnzVrmZt",
        "outputId": "23f84e7e-f3a9-4f93-d344-d5e901a97250"
      },
      "outputs": [
        {
          "data": {
            "text/plain": [
              "23625"
            ]
          },
          "execution_count": 45,
          "metadata": {},
          "output_type": "execute_result"
        }
      ],
      "source": [
        "Y.shape[0]"
      ]
    },
    {
      "cell_type": "markdown",
      "metadata": {
        "id": "Do1Vr0YkwFYy"
      },
      "source": [
        "# 2 Implementing a Activation Function\n",
        "We will use relu activation function because it outputs the values from  0 to 1 so its a good choice for a regression problem"
      ]
    },
    {
      "cell_type": "code",
      "execution_count": null,
      "metadata": {
        "id": "srZoxiyS93ox"
      },
      "outputs": [],
      "source": [
        "def relu(z):\n",
        "    return np.maximum(0, z)"
      ]
    },
    {
      "cell_type": "markdown",
      "metadata": {
        "id": "QjQeIDoCpy-_"
      },
      "source": [
        "**3 Define Neural Network Architecture\n",
        "Create a model with three layers - Input, Hidden, Output.**"
      ]
    },
    {
      "cell_type": "code",
      "execution_count": null,
      "metadata": {
        "id": "dyub7p1Upxhf"
      },
      "outputs": [],
      "source": [
        "def network_architecture(X, Y):\n",
        "    # nodes in input layer\n",
        "    n_x = X.shape[1]\n",
        "    # nodes in hidden layer\n",
        "    n_h = 67          \n",
        "    # nodes in output layer\n",
        "    n_y = 1\n",
        "    return (n_x, n_h, n_y)"
      ]
    },
    {
      "cell_type": "markdown",
      "metadata": {
        "id": "KAbxPf_Btghw"
      },
      "source": [
        "# 4 Define Neural Network Parameters\n",
        "Neural Network parameters are weights and bias which we need to initialze with zero values. The first layer only contains inputs so there are no weights and bias, but the hidden layer and the output layer have a weight and bias term. (W1, b1 and W2, b2)"
      ]
    },
    {
      "cell_type": "code",
      "execution_count": null,
      "metadata": {
        "id": "0sroTA7_tZKz"
      },
      "outputs": [],
      "source": [
        "def define_network_parameters(n_x, n_h, n_y):\n",
        "    W1 = np.random.randn(n_h,n_x) * 0.01 # random initialization\n",
        "    b1 = np.zeros((n_h, 1)) # zero initialization\n",
        "    W2 = np.random.randn(n_y,n_h) * 0.01 \n",
        "    b2 = np.zeros((n_y, 1)) \n",
        "    return {\"W1\": W1, \"b1\": b1, \"W2\": W2, \"b2\": b2}"
      ]
    },
    {
      "cell_type": "markdown",
      "metadata": {
        "id": "9yAUq07qvbG1"
      },
      "source": [
        "# 5 Implement Forward Propagation\n",
        "The hidden layer and output layer will compute the activations using sigmoid activation function and will pass it in the forward direction. While computing this activation, the input is multiplied with weight and added with bias before passing it to the function."
      ]
    },
    {
      "cell_type": "code",
      "execution_count": null,
      "metadata": {
        "id": "efA98ZvvveGU"
      },
      "outputs": [],
      "source": [
        "def forward_propagation(X, params):\n",
        "    Z1 = np.dot(params['W1'], X)+params['b1']\n",
        "    A1 = relu(Z1)\n",
        "\n",
        "    Z2 = np.dot(params['W2'], A1)+params['b2']\n",
        "    A2 = relu(Z2)\n",
        "    return {\"Z1\": Z1, \"A1\": A1, \"Z2\": Z2, \"A2\": A2}   \n",
        "    "
      ]
    },
    {
      "cell_type": "markdown",
      "metadata": {
        "id": "Z1yRgE0IxSlT"
      },
      "source": [
        "# 6 Compute the Network Error\n",
        "To compute the cost, one straight forward approach is to compute the absolute error among prediction and actual value. \n",
        "\n",
        "\n",
        "**Mean Absolute Error** (MAE) is the mean of the absolute value of the errors:\n",
        "\n",
        "$$\\frac 1n\\sum_{i=1}^n|y_i-\\hat{y}_i|$$"
      ]
    },
    {
      "cell_type": "code",
      "execution_count": null,
      "metadata": {
        "id": "f0ErEl7ex1Ug"
      },
      "outputs": [],
      "source": [
        "def mean_absolute_error(Y, A2):\n",
        "                    return np.mean(np.abs(Y - A2))"
      ]
    },
    {
      "cell_type": "markdown",
      "metadata": {
        "id": "odDKOgPaz64T"
      },
      "source": [
        "# 7 Implement Backward Propagation\n",
        "In backward propagation function, the error is passed backward to previous layers and the derivatives of weights and bias are computed. The weights and bias are then updated using the derivatives."
      ]
    },
    {
      "cell_type": "code",
      "execution_count": null,
      "metadata": {
        "id": "tmo1IOFpx1IL"
      },
      "outputs": [],
      "source": [
        "def backward_propagation(params, activations, X, Y):\n",
        "    m = X.shape[1]\n",
        "    \n",
        "    # output layer\n",
        "    dZ2 = activations['A2'] - Y # compute the error derivative \n",
        "    dW2 = np.dot(dZ2, activations['A1'].T) / m # compute the weight derivative \n",
        "    db2 = np.sum(dZ2, axis=1, keepdims=True)/m # compute the bias derivative\n",
        "    \n",
        "    # hidden layer\n",
        "    dZ1 = np.dot(params['W2'].T, dZ2)*(1-np.power(activations['A1'], 2))\n",
        "    dW1 = np.dot(dZ1, X.T)/m\n",
        "    db1 = np.sum(dZ1, axis=1,keepdims=True)/m\n",
        "    \n",
        "    return {\"dW1\": dW1, \"db1\": db1, \"dW2\": dW2, \"db2\": db2}\n",
        "\n",
        "def update_parameters(params, derivatives, alpha = 1.2):\n",
        "    # alpha is the model's learning rate \n",
        "    \n",
        "    params['W1'] = params['W1'] - alpha * derivatives['dW1']\n",
        "    params['b1'] = params['b1'] - alpha * derivatives['db1']\n",
        "    params['W2'] = params['W2'] - alpha * derivatives['dW2']\n",
        "    params['b2'] = params['b2'] - alpha * derivatives['db2']\n",
        "    return params"
      ]
    },
    {
      "cell_type": "markdown",
      "metadata": {
        "id": "fcePZpZ80xkS"
      },
      "source": [
        "# 8 Compile and Train the Model\n",
        "Create a function which compiles all the key functions and creates a neural network model."
      ]
    },
    {
      "cell_type": "code",
      "execution_count": null,
      "metadata": {
        "id": "RYtxOcMv0p1t"
      },
      "outputs": [],
      "source": [
        "def neural_network(X, Y, n_h, num_iterations=100):\n",
        "    n_x = network_architecture(X, Y)[0]\n",
        "    n_y = network_architecture(X, Y)[2]\n",
        "    \n",
        "    params = define_network_parameters(n_x, n_h, n_y)\n",
        "    for i in range(0, num_iterations):\n",
        "        results = forward_propagation(X, params)\n",
        "        error = mean_absolute_error(results['A2'], Y)\n",
        "        print(error)\n",
        "        derivatives = backward_propagation(params, results, X, Y) \n",
        "        params = update_parameters(params, derivatives, alpha=1.2) \n",
        "        #print(params)\n",
        "    return params"
      ]
    },
    {
      "cell_type": "code",
      "execution_count": null,
      "metadata": {
        "id": "2RU4jRsL1VEM"
      },
      "outputs": [],
      "source": [
        "x = X.reshape(X.shape[1], X.shape[0])\n",
        "y = Y.values.reshape(Y.shape[0],1)\n"
      ]
    },
    {
      "cell_type": "code",
      "execution_count": null,
      "metadata": {
        "id": "1JevKkdtE8Ln",
        "outputId": "143d0209-1a6f-400e-84b0-42b840e3d9aa"
      },
      "outputs": [
        {
          "data": {
            "text/plain": [
              "(67, 23625)"
            ]
          },
          "execution_count": 221,
          "metadata": {},
          "output_type": "execute_result"
        }
      ],
      "source": [
        "x.shape"
      ]
    },
    {
      "cell_type": "code",
      "execution_count": null,
      "metadata": {
        "id": "dfJL2rLHE_4D",
        "outputId": "cdb414ab-cffd-4254-eb39-56c0b78da128"
      },
      "outputs": [
        {
          "data": {
            "text/plain": [
              "(23625, 1)"
            ]
          },
          "execution_count": 222,
          "metadata": {},
          "output_type": "execute_result"
        }
      ],
      "source": [
        "y.shape"
      ]
    },
    {
      "cell_type": "code",
      "execution_count": null,
      "metadata": {
        "id": "cVJlKFtLFDIk",
        "outputId": "99042a5c-6d92-4d96-f547-dee877d4e279"
      },
      "outputs": [
        {
          "name": "stdout",
          "output_type": "stream",
          "text": [
            "3233.3359020800353\n",
            "646.6671248240813\n",
            "129.3334249648105\n",
            "25.866684992962757\n",
            "5.173336998592448\n"
          ]
        }
      ],
      "source": [
        "model = neural_network(x, y, n_h=1, num_iterations=5)"
      ]
    },
    {
      "cell_type": "code",
      "execution_count": null,
      "metadata": {
        "id": "y-xI6_c593pE"
      },
      "outputs": [],
      "source": [
        "def predict(parameters, X):\n",
        "    results = forward_propagation(X, parameters)\n",
        "    print (results['A2'][0])\n",
        "    predictions = np.around(results['A2'])\n",
        "    print(predictions)\n",
        "    return predictions\n"
      ]
    },
    {
      "cell_type": "code",
      "execution_count": null,
      "metadata": {
        "id": "SZOWCO2-93pE",
        "outputId": "733ddca3-a167-4d89-ba24-f40cbbdd67da"
      },
      "outputs": [
        {
          "data": {
            "text/plain": [
              "(23625, 67)"
            ]
          },
          "execution_count": 281,
          "metadata": {},
          "output_type": "execute_result"
        }
      ],
      "source": [
        "X.shape"
      ]
    },
    {
      "cell_type": "code",
      "execution_count": null,
      "metadata": {
        "id": "RL6oFpYP93pH",
        "outputId": "2f36d163-ba13-41f7-be2c-6542605c12ab"
      },
      "outputs": [
        {
          "name": "stdout",
          "output_type": "stream",
          "text": [
            "[6093.94943945 6093.94943945 6093.94943945 ... 6093.94943945 6093.94943945\n",
            " 6093.94943945]\n",
            "[[6094. 6094. 6094. ... 6094. 6094. 6094.]\n",
            " [1166. 1166. 1166. ... 1166. 1166. 1166.]\n",
            " [6430. 6430. 6430. ... 6430. 6430. 6430.]\n",
            " ...\n",
            " [ 356.  356.  356. ...  356.  356.  356.]\n",
            " [2784. 2784. 2784. ... 2784. 2784. 2784.]\n",
            " [6001. 6001. 6001. ... 6001. 6001. 6001.]]\n"
          ]
        }
      ],
      "source": [
        " predictions = predict(model, X.T)\n",
        "r_squared_score = (np.dot(X.T, predictions) + np.dot(1-X.T, 1-predictions)) / float(y.size) * 100\n"
      ]
    },
    {
      "cell_type": "code",
      "execution_count": null,
      "metadata": {
        "id": "eWj-tPbZ93pJ",
        "outputId": "b274d314-caee-4977-c4ae-38195e219004"
      },
      "outputs": [
        {
          "name": "stdout",
          "output_type": "stream",
          "text": [
            "R^2_score: [[ 2.01493726e+02  2.01493726e+02  2.01493726e+02 ...  2.01493726e+02\n",
            "   2.01493726e+02  2.01493726e+02]\n",
            " [ 1.09810114e+05  1.09810114e+05  1.09810114e+05 ...  1.09810114e+05\n",
            "   1.09810114e+05  1.09810114e+05]\n",
            " [-1.85873953e+05 -1.85873953e+05 -1.85873953e+05 ... -1.85873953e+05\n",
            "  -1.85873953e+05 -1.85873953e+05]\n",
            " ...\n",
            " [-3.23280787e+05 -3.23280787e+05 -3.23280787e+05 ... -3.23280787e+05\n",
            "  -3.23280787e+05 -3.23280787e+05]\n",
            " [-3.22722523e+05 -3.22722523e+05 -3.22722523e+05 ... -3.22722523e+05\n",
            "  -3.22722523e+05 -3.22722523e+05]\n",
            " [-3.22817977e+05 -3.22817977e+05 -3.22817977e+05 ... -3.22817977e+05\n",
            "  -3.22817977e+05 -3.22817977e+05]]\n"
          ]
        }
      ],
      "source": [
        "print('R^2_score:' , r_squared_score)"
      ]
    },
    {
      "cell_type": "code",
      "execution_count": null,
      "metadata": {
        "id": "iimiz8uW93pK",
        "outputId": "03313098-74fe-4382-fe9e-e924e2148042"
      },
      "outputs": [
        {
          "data": {
            "text/plain": [
              "(14454, 67)"
            ]
          },
          "execution_count": 254,
          "metadata": {},
          "output_type": "execute_result"
        }
      ],
      "source": [
        "te=test.reshape(test.shape[0],test.shape[1])\n",
        "te.shape\n",
        "                  "
      ]
    },
    {
      "cell_type": "code",
      "execution_count": null,
      "metadata": {
        "id": "xHbXkx7v93pL",
        "outputId": "1707ea50-de04-46fa-d60e-5ec659e61a8d"
      },
      "outputs": [
        {
          "name": "stdout",
          "output_type": "stream",
          "text": [
            "[6093.94943945 6093.94943945 6093.94943945 ... 6093.94943945 6093.94943945\n",
            " 6093.94943945]\n",
            "[[6094. 6094. 6094. ... 6094. 6094. 6094.]\n",
            " [1166. 1166. 1166. ... 1166. 1166. 1166.]\n",
            " [6430. 6430. 6430. ... 6430. 6430. 6430.]\n",
            " ...\n",
            " [ 356.  356.  356. ...  356.  356.  356.]\n",
            " [2784. 2784. 2784. ... 2784. 2784. 2784.]\n",
            " [6001. 6001. 6001. ... 6001. 6001. 6001.]]\n"
          ]
        }
      ],
      "source": [
        " predictions = predict(model, te.T)\n",
        " r_squared_score = (np.dot(y.T, predictions) + np.dot(1-y.T, 1-predictions)) / float(y.size) * 100\n"
      ]
    },
    {
      "cell_type": "code",
      "execution_count": null,
      "metadata": {
        "id": "9zvpaUzl93pL",
        "outputId": "672b85c0-d842-40a3-f79b-c7ea77b0889d"
      },
      "outputs": [
        {
          "name": "stdout",
          "output_type": "stream",
          "text": [
            "R^2_score: [[2.88267568e+09 2.88267568e+09 2.88267568e+09 ... 2.88267568e+09\n",
            "  2.88267568e+09 2.88267568e+09]]\n"
          ]
        }
      ],
      "source": [
        "print('R^2_score:' , r_squared_score)"
      ]
    },
    {
      "cell_type": "code",
      "execution_count": null,
      "metadata": {
        "id": "Ns5DgA7W93pM"
      },
      "outputs": [],
      "source": [
        "from sklearn.model_selection import GridSearchCV\n",
        "from sklearn.neural_network import MLPRegressor\n",
        "from sklearn.datasets import make_regression"
      ]
    },
    {
      "cell_type": "code",
      "execution_count": null,
      "metadata": {
        "id": "Rcyd6ZVD93pN",
        "outputId": "d6afc5b8-5ef2-49fa-e2c1-cea3f84a518d"
      },
      "outputs": [
        {
          "name": "stdout",
          "output_type": "stream",
          "text": [
            "Best hyperparameters:  {'activation': 'tanh', 'hidden_layer_sizes': 128, 'learning_rate_init': 0.01, 'max_iter': 500}\n"
          ]
        },
        {
          "name": "stderr",
          "output_type": "stream",
          "text": [
            "/usr/share/anaconda3/lib/python3.7/site-packages/sklearn/neural_network/_multilayer_perceptron.py:617: ConvergenceWarning: Stochastic Optimizer: Maximum iterations (500) reached and the optimization hasn't converged yet.\n",
            "  % self.max_iter, ConvergenceWarning)\n"
          ]
        }
      ],
      "source": [
        "\n",
        "param_grid = {'hidden_layer_sizes': [(64,),(128)],\n",
        "              'activation': ['relu', 'tanh'],\n",
        "              'learning_rate_init': [0.001, 0.01, 0.1],\n",
        "              'max_iter': [100, 300, 500]}\n",
        "reg = MLPRegressor(random_state=0)\n",
        "grid_search = GridSearchCV(reg, param_grid=param_grid, cv=5, n_jobs=-1)\n",
        "grid_search.fit(x_train, y_train.ravel())\n",
        "print(\"Best hyperparameters: \", grid_search.best_params_)"
      ]
    },
    {
      "cell_type": "code",
      "execution_count": null,
      "metadata": {
        "id": "HxfzIbBh93pN"
      },
      "outputs": [],
      "source": [
        "besthp=MLPRegressor(hidden_layer_sizes=(128,), activation='tanh', learning_rate_init=0.01, max_iter=500, random_state=123)"
      ]
    },
    {
      "cell_type": "code",
      "execution_count": null,
      "metadata": {
        "id": "EKi5oCPl93pN",
        "outputId": "f479b087-f06d-48ee-a5ce-85acb5e5085a"
      },
      "outputs": [
        {
          "name": "stderr",
          "output_type": "stream",
          "text": [
            "/usr/share/anaconda3/lib/python3.7/site-packages/sklearn/neural_network/_multilayer_perceptron.py:617: ConvergenceWarning: Stochastic Optimizer: Maximum iterations (500) reached and the optimization hasn't converged yet.\n",
            "  % self.max_iter, ConvergenceWarning)\n"
          ]
        },
        {
          "data": {
            "text/plain": [
              "MLPRegressor(activation='tanh', hidden_layer_sizes=(128,),\n",
              "             learning_rate_init=0.01, max_iter=500, random_state=123)"
            ]
          },
          "execution_count": 417,
          "metadata": {},
          "output_type": "execute_result"
        }
      ],
      "source": [
        "besthp.fit(x_train,y_train.ravel())"
      ]
    },
    {
      "cell_type": "code",
      "execution_count": null,
      "metadata": {
        "id": "yaHL6l8b93pO"
      },
      "outputs": [],
      "source": [
        "train_pred_bhp = besthp.predict(x_train)\n",
        "test_pred_bhp = besthp.predict(x_test)"
      ]
    },
    {
      "cell_type": "code",
      "execution_count": null,
      "metadata": {
        "id": "KW1jn9gB93pP"
      },
      "outputs": [],
      "source": [
        "from sklearn import metrics\n",
        "from sklearn.metrics import mean_squared_error\n",
        "from sklearn.metrics import mean_absolute_error\n",
        "from sklearn.metrics import r2_score"
      ]
    },
    {
      "cell_type": "code",
      "execution_count": null,
      "metadata": {
        "id": "dZopyQdh93pP",
        "outputId": "6126762f-dc60-4de2-85d1-d88bc18d526d"
      },
      "outputs": [
        {
          "name": "stdout",
          "output_type": "stream",
          "text": [
            "Train MSE:  819931.0850215629\n",
            "Train MAE:  619.5269155483966\n",
            "Train RMSE:  905.5004610830206\n",
            "Train r2_score:  0.7927976006192392\n"
          ]
        }
      ],
      "source": [
        "mse = mean_squared_error(y_train, train_pred_bhp)\n",
        "mae = mean_absolute_error(y_train, train_pred_bhp)\n",
        "rmse=np.sqrt(mean_squared_error(y_train, train_pred_bhp))\n",
        "r2_score=r2_score(y_train, train_pred_bhp)\n",
        "print(\"Train MSE: \", mse)\n",
        "print(\"Train MAE: \", mae)\n",
        "print(\"Train RMSE: \", rmse)\n",
        "print(\"Train r2_score: \", r2_score)"
      ]
    },
    {
      "cell_type": "code",
      "execution_count": null,
      "metadata": {
        "id": "_g0TUijk93pP",
        "outputId": "0c7262a8-e466-4223-bdb5-04eed8024cfa"
      },
      "outputs": [
        {
          "name": "stdout",
          "output_type": "stream",
          "text": [
            "MSE:  878040.228396131\n",
            "MAE:  643.793435788665\n",
            "RMSE:  937.0380079784015\n",
            "R2 Score:  0.7796421966481196\n"
          ]
        }
      ],
      "source": [
        "from sklearn.metrics import mean_squared_error, mean_absolute_error, r2_score\n",
        "mse = mean_squared_error(y_test, test_pred_bhp)\n",
        "mae = mean_absolute_error(y_test, test_pred_bhp)\n",
        "rmse = np.sqrt(mean_squared_error(y_test, test_pred_bhp))\n",
        "r2 = r2_score(y_test, test_pred_bhp)\n",
        "\n",
        "print(\"MSE: \", mse)\n",
        "print(\"MAE: \", mae)\n",
        "print(\"RMSE: \", rmse)\n",
        "print(\"R2 Score: \", r2)"
      ]
    },
    {
      "cell_type": "markdown",
      "metadata": {
        "id": "2UcvHBQC93pQ"
      },
      "source": [
        "validation "
      ]
    },
    {
      "cell_type": "code",
      "execution_count": null,
      "metadata": {
        "id": "JgI9HIGW93pQ"
      },
      "outputs": [],
      "source": [
        "test_predictions=besthp.predict(pred_test)"
      ]
    },
    {
      "cell_type": "code",
      "execution_count": null,
      "metadata": {
        "id": "BTjscf8k93pQ",
        "outputId": "3c553b54-8864-4389-8cb7-e44013565c8e"
      },
      "outputs": [
        {
          "data": {
            "text/plain": [
              "array([ 238.1897322 ,  573.42075525,  448.03432664, ..., 1960.07889991,\n",
              "       1300.79101365, 1048.85382455])"
            ]
          },
          "execution_count": 423,
          "metadata": {},
          "output_type": "execute_result"
        }
      ],
      "source": [
        "test_predictions"
      ]
    },
    {
      "cell_type": "code",
      "execution_count": null,
      "metadata": {
        "id": "kJugyEGg93pR",
        "outputId": "0961e3f9-cfa0-4a7c-b2b6-685bdfd2ce04"
      },
      "outputs": [
        {
          "data": {
            "text/html": [
              "<div>\n",
              "<style scoped>\n",
              "    .dataframe tbody tr th:only-of-type {\n",
              "        vertical-align: middle;\n",
              "    }\n",
              "\n",
              "    .dataframe tbody tr th {\n",
              "        vertical-align: top;\n",
              "    }\n",
              "\n",
              "    .dataframe thead th {\n",
              "        text-align: right;\n",
              "    }\n",
              "</style>\n",
              "<table border=\"1\" class=\"dataframe\">\n",
              "  <thead>\n",
              "    <tr style=\"text-align: right;\">\n",
              "      <th></th>\n",
              "      <th>0</th>\n",
              "    </tr>\n",
              "  </thead>\n",
              "  <tbody>\n",
              "    <tr>\n",
              "      <th>0</th>\n",
              "      <td>238.189732</td>\n",
              "    </tr>\n",
              "    <tr>\n",
              "      <th>1</th>\n",
              "      <td>573.420755</td>\n",
              "    </tr>\n",
              "    <tr>\n",
              "      <th>2</th>\n",
              "      <td>448.034327</td>\n",
              "    </tr>\n",
              "    <tr>\n",
              "      <th>3</th>\n",
              "      <td>285.833395</td>\n",
              "    </tr>\n",
              "    <tr>\n",
              "      <th>4</th>\n",
              "      <td>422.101140</td>\n",
              "    </tr>\n",
              "    <tr>\n",
              "      <th>...</th>\n",
              "      <td>...</td>\n",
              "    </tr>\n",
              "    <tr>\n",
              "      <th>13661</th>\n",
              "      <td>2866.405230</td>\n",
              "    </tr>\n",
              "    <tr>\n",
              "      <th>13662</th>\n",
              "      <td>2426.105695</td>\n",
              "    </tr>\n",
              "    <tr>\n",
              "      <th>13663</th>\n",
              "      <td>1960.078900</td>\n",
              "    </tr>\n",
              "    <tr>\n",
              "      <th>13664</th>\n",
              "      <td>1300.791014</td>\n",
              "    </tr>\n",
              "    <tr>\n",
              "      <th>13665</th>\n",
              "      <td>1048.853825</td>\n",
              "    </tr>\n",
              "  </tbody>\n",
              "</table>\n",
              "<p>13666 rows × 1 columns</p>\n",
              "</div>"
            ],
            "text/plain": [
              "                 0\n",
              "0       238.189732\n",
              "1       573.420755\n",
              "2       448.034327\n",
              "3       285.833395\n",
              "4       422.101140\n",
              "...            ...\n",
              "13661  2866.405230\n",
              "13662  2426.105695\n",
              "13663  1960.078900\n",
              "13664  1300.791014\n",
              "13665  1048.853825\n",
              "\n",
              "[13666 rows x 1 columns]"
            ]
          },
          "execution_count": 424,
          "metadata": {},
          "output_type": "execute_result"
        }
      ],
      "source": [
        "pd.DataFrame(test_predictions)"
      ]
    },
    {
      "cell_type": "code",
      "execution_count": null,
      "metadata": {
        "id": "dl4fQ9he93pR"
      },
      "outputs": [],
      "source": []
    }
  ],
  "metadata": {
    "accelerator": "GPU",
    "colab": {
      "provenance": []
    },
    "gpuClass": "standard",
    "kernelspec": {
      "display_name": "Python 3",
      "language": "python",
      "name": "python3"
    },
    "language_info": {
      "codemirror_mode": {
        "name": "ipython",
        "version": 3
      },
      "file_extension": ".py",
      "mimetype": "text/x-python",
      "name": "python",
      "nbconvert_exporter": "python",
      "pygments_lexer": "ipython3",
      "version": "3.7.6"
    }
  },
  "nbformat": 4,
  "nbformat_minor": 0
}