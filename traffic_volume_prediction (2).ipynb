{
 "cells": [
  {
   "cell_type": "markdown",
   "metadata": {
    "id": "OGi1uztgSxEq"
   },
   "source": [
    "<hr/>\n",
    "\n",
    " **Traffic Volume Prediction** ( Artificial Neural Network)\n",
    "\n",
    "<hr/>\n",
    "\n",
    "### Table of Contents\n",
    "1. [Overview](#ch1)\n",
    "1. [Dataset](#ch2)\n",
    "1. [Exploratory Data Analysis](#ch3)\n",
    "1. [Working with Feature Data](#ch4)\n",
    "1. [Feature Engineering](#ch5)\n",
    "1. [Scaling and Train Test Split](#ch6)\n",
    "1. [Creating a Model](#ch7)\n",
    "1. [Training the Model](#ch8)\n",
    "1. [Evaluation on Test Data](#ch9)\n",
    "1. [Predicting the traffic volume](#ch10)"
   ]
  },
  {
   "cell_type": "markdown",
   "metadata": {
    "id": "BYAf5vdaTHRk"
   },
   "source": [
    "<a id=\"ch1\"></a>\n",
    "## Overview \n",
    "<hr/>\n",
    "\n",
    "One of the objectives of this notebook is to **show step-by-step how analyzing the dataset to predict future home prices.** Moreover, we are going to explain most of the concepts used so that you understand why we are using them.\n",
    "\n",
    "\n",
    "\n",
    "\n",
    "\n",
    "\n",
    "The following questions will be answered throughout the Kernel:\n",
    "* ***Which features are available in the dataset?***\n",
    "* ***Which features are categorical?***\n",
    "* ***Which features are numerical?***\n",
    "* ***Which features contain blank, null or empty values?***\n",
    "* ***What are the data types for various features?***\n",
    "* ***What is the distribution of numerical feature values across the samples?***\n",
    "* ***Which features are more correlated to the price?***"
   ]
  },
  {
   "cell_type": "markdown",
   "metadata": {
    "id": "gKGmn_n--031"
   },
   "source": [
    "<a id=\"ch2\"></a>\n",
    "## Dataset\n",
    "<hr/>\n",
    "\n",
    "**Traffic Volume Prediction**\n",
    "Give some attributes we have to predict the traffic volume.\n",
    "\n",
    "There are 9 attributes which represents the following -\n",
    "\n",
    "date_time - DateTime Hour of the data collected in local CST time\n",
    "\n",
    "\n",
    "\n",
    "\n",
    "* holiday - Categorical US National holidays plus regional \n",
    "* holiday, Minnesota State Fair\n",
    "* temp - Numeric Average temp in kelvin\n",
    "* rain_1h - Numeric Amount in mm of rain that occurred in the hour\n",
    "* snow_1h - Numeric Amount in mm of snow that occurred in the hour\n",
    "* clouds_all - Numeric Percentage of cloud cover\n",
    "* weather_main - Categorical Short textual description of the current weather\n",
    "* weather_description - Categorical Longer textual description of the current weather\n",
    "* traffic_volume - Numeric Hourly I-94 ATR 301 reported westbound \n",
    "traffic volume (Target)\n",
    "\n",
    "\n",
    "\n",
    "\n",
    "\n",
    "\n"
   ]
  },
  {
   "cell_type": "code",
   "execution_count": 4,
   "metadata": {
    "_cell_guid": "b1076dfc-b9ad-4769-8c92-a6c4dae69d19",
    "_uuid": "8f2839f25d086af736a60e9eeb907d3b93b6e0e5",
    "id": "1ygiv8oMuKoM"
   },
   "outputs": [],
   "source": [
    "import numpy as np\n",
    "import pandas as pd\n",
    "import matplotlib.pyplot as plt\n",
    "import math\n",
    "\n",
    "from sklearn import tree\n",
    "from sklearn import svm\n",
    "from sklearn.metrics import mean_squared_error\n",
    "from sklearn.preprocessing import OneHotEncoder\n",
    "from sklearn.model_selection import train_test_split\n",
    "\n",
    "\n",
    "# import os\n",
    "# for dirname, _, filenames in os.walk('/kaggle/input'):\n",
    "#     for filename in filenames:\n",
    "#         print(os.path.join(dirname, filename))"
   ]
  },
  {
   "cell_type": "markdown",
   "metadata": {
    "id": "wNXBnlYqTl7t"
   },
   "source": [
    "### Acquire data\n",
    "The Python Pandas packages helps us work with our datasets. We start by acquiring the datasets into Pandas DataFrames"
   ]
  },
  {
   "cell_type": "code",
   "execution_count": 5,
   "metadata": {
    "colab": {
     "base_uri": "https://localhost:8080/"
    },
    "id": "CBHYHDCfuwzi",
    "outputId": "fac6f0ac-1aed-4982-a5be-62e224a7e03e"
   },
   "outputs": [],
   "source": [
    "# from google.colab import drive\n",
    "# drive.mount('/content/drive')"
   ]
  },
  {
   "cell_type": "markdown",
   "metadata": {
    "id": "xJhwRDy2uKoQ"
   },
   "source": [
    "**Load Data**"
   ]
  },
  {
   "cell_type": "code",
   "execution_count": 6,
   "metadata": {
    "id": "h0LuDG38uKoi"
   },
   "outputs": [],
   "source": [
    "test_set = pd.read_csv(\"internship/Test.csv\")\n",
    "train_set = pd.read_csv(\"internship/Train.csv\")"
   ]
  },
  {
   "cell_type": "code",
   "execution_count": 7,
   "metadata": {
    "colab": {
     "base_uri": "https://localhost:8080/",
     "height": 444
    },
    "id": "tV20GHjhuKoj",
    "outputId": "ae97bdce-f4d2-4275-c6d2-d00693acba1c"
   },
   "outputs": [
    {
     "data": {
      "text/html": [
       "<div>\n",
       "<style scoped>\n",
       "    .dataframe tbody tr th:only-of-type {\n",
       "        vertical-align: middle;\n",
       "    }\n",
       "\n",
       "    .dataframe tbody tr th {\n",
       "        vertical-align: top;\n",
       "    }\n",
       "\n",
       "    .dataframe thead th {\n",
       "        text-align: right;\n",
       "    }\n",
       "</style>\n",
       "<table border=\"1\" class=\"dataframe\">\n",
       "  <thead>\n",
       "    <tr style=\"text-align: right;\">\n",
       "      <th></th>\n",
       "      <th>date_time</th>\n",
       "      <th>is_holiday</th>\n",
       "      <th>air_pollution_index</th>\n",
       "      <th>humidity</th>\n",
       "      <th>wind_speed</th>\n",
       "      <th>wind_direction</th>\n",
       "      <th>visibility_in_miles</th>\n",
       "      <th>dew_point</th>\n",
       "      <th>temperature</th>\n",
       "      <th>rain_p_h</th>\n",
       "      <th>snow_p_h</th>\n",
       "      <th>clouds_all</th>\n",
       "      <th>weather_type</th>\n",
       "      <th>weather_description</th>\n",
       "      <th>traffic_volume</th>\n",
       "    </tr>\n",
       "  </thead>\n",
       "  <tbody>\n",
       "    <tr>\n",
       "      <th>0</th>\n",
       "      <td>2012-10-02 09:00:00</td>\n",
       "      <td>None</td>\n",
       "      <td>121</td>\n",
       "      <td>89</td>\n",
       "      <td>2</td>\n",
       "      <td>329</td>\n",
       "      <td>1</td>\n",
       "      <td>1</td>\n",
       "      <td>288.28</td>\n",
       "      <td>0.0</td>\n",
       "      <td>0.0</td>\n",
       "      <td>40</td>\n",
       "      <td>Clouds</td>\n",
       "      <td>scattered clouds</td>\n",
       "      <td>5545</td>\n",
       "    </tr>\n",
       "    <tr>\n",
       "      <th>1</th>\n",
       "      <td>2012-10-02 10:00:00</td>\n",
       "      <td>None</td>\n",
       "      <td>178</td>\n",
       "      <td>67</td>\n",
       "      <td>3</td>\n",
       "      <td>330</td>\n",
       "      <td>1</td>\n",
       "      <td>1</td>\n",
       "      <td>289.36</td>\n",
       "      <td>0.0</td>\n",
       "      <td>0.0</td>\n",
       "      <td>75</td>\n",
       "      <td>Clouds</td>\n",
       "      <td>broken clouds</td>\n",
       "      <td>4516</td>\n",
       "    </tr>\n",
       "    <tr>\n",
       "      <th>2</th>\n",
       "      <td>2012-10-02 11:00:00</td>\n",
       "      <td>None</td>\n",
       "      <td>113</td>\n",
       "      <td>66</td>\n",
       "      <td>3</td>\n",
       "      <td>329</td>\n",
       "      <td>2</td>\n",
       "      <td>2</td>\n",
       "      <td>289.58</td>\n",
       "      <td>0.0</td>\n",
       "      <td>0.0</td>\n",
       "      <td>90</td>\n",
       "      <td>Clouds</td>\n",
       "      <td>overcast clouds</td>\n",
       "      <td>4767</td>\n",
       "    </tr>\n",
       "    <tr>\n",
       "      <th>3</th>\n",
       "      <td>2012-10-02 12:00:00</td>\n",
       "      <td>None</td>\n",
       "      <td>20</td>\n",
       "      <td>66</td>\n",
       "      <td>3</td>\n",
       "      <td>329</td>\n",
       "      <td>5</td>\n",
       "      <td>5</td>\n",
       "      <td>290.13</td>\n",
       "      <td>0.0</td>\n",
       "      <td>0.0</td>\n",
       "      <td>90</td>\n",
       "      <td>Clouds</td>\n",
       "      <td>overcast clouds</td>\n",
       "      <td>5026</td>\n",
       "    </tr>\n",
       "    <tr>\n",
       "      <th>4</th>\n",
       "      <td>2012-10-02 13:00:00</td>\n",
       "      <td>None</td>\n",
       "      <td>281</td>\n",
       "      <td>65</td>\n",
       "      <td>3</td>\n",
       "      <td>329</td>\n",
       "      <td>7</td>\n",
       "      <td>7</td>\n",
       "      <td>291.14</td>\n",
       "      <td>0.0</td>\n",
       "      <td>0.0</td>\n",
       "      <td>75</td>\n",
       "      <td>Clouds</td>\n",
       "      <td>broken clouds</td>\n",
       "      <td>4918</td>\n",
       "    </tr>\n",
       "  </tbody>\n",
       "</table>\n",
       "</div>"
      ],
      "text/plain": [
       "             date_time is_holiday  air_pollution_index  humidity  wind_speed  \\\n",
       "0  2012-10-02 09:00:00       None                  121        89           2   \n",
       "1  2012-10-02 10:00:00       None                  178        67           3   \n",
       "2  2012-10-02 11:00:00       None                  113        66           3   \n",
       "3  2012-10-02 12:00:00       None                   20        66           3   \n",
       "4  2012-10-02 13:00:00       None                  281        65           3   \n",
       "\n",
       "   wind_direction  visibility_in_miles  dew_point  temperature  rain_p_h  \\\n",
       "0             329                    1          1       288.28       0.0   \n",
       "1             330                    1          1       289.36       0.0   \n",
       "2             329                    2          2       289.58       0.0   \n",
       "3             329                    5          5       290.13       0.0   \n",
       "4             329                    7          7       291.14       0.0   \n",
       "\n",
       "   snow_p_h  clouds_all weather_type weather_description  traffic_volume  \n",
       "0       0.0          40       Clouds    scattered clouds            5545  \n",
       "1       0.0          75       Clouds       broken clouds            4516  \n",
       "2       0.0          90       Clouds     overcast clouds            4767  \n",
       "3       0.0          90       Clouds     overcast clouds            5026  \n",
       "4       0.0          75       Clouds       broken clouds            4918  "
      ]
     },
     "execution_count": 7,
     "metadata": {},
     "output_type": "execute_result"
    }
   ],
   "source": [
    "train_set.head()"
   ]
  },
  {
   "cell_type": "code",
   "execution_count": 8,
   "metadata": {
    "colab": {
     "base_uri": "https://localhost:8080/"
    },
    "id": "XMQyGLz9wm0A",
    "outputId": "262b83bb-5b41-4f1c-b0e0-f8b481ca2c7a"
   },
   "outputs": [
    {
     "data": {
      "text/plain": [
       "(33750, 15)"
      ]
     },
     "execution_count": 8,
     "metadata": {},
     "output_type": "execute_result"
    }
   ],
   "source": [
    "train_set.shape"
   ]
  },
  {
   "cell_type": "markdown",
   "metadata": {
    "id": "RCk2wcTET9gl"
   },
   "source": [
    "### Analyze by describing data\n",
    "Pandas also helps describe the datasets answering following questions early in our project.\n",
    "\n",
    "***Which features are available in the dataset?***"
   ]
  },
  {
   "cell_type": "code",
   "execution_count": 9,
   "metadata": {
    "colab": {
     "base_uri": "https://localhost:8080/"
    },
    "id": "uUQOdTZ0T_zT",
    "outputId": "1d973baf-f01e-4e36-b41c-25ef817e2b88"
   },
   "outputs": [
    {
     "name": "stdout",
     "output_type": "stream",
     "text": [
      "['date_time' 'is_holiday' 'air_pollution_index' 'humidity' 'wind_speed'\n",
      " 'wind_direction' 'visibility_in_miles' 'dew_point' 'temperature'\n",
      " 'rain_p_h' 'snow_p_h' 'clouds_all' 'weather_type' 'weather_description'\n",
      " 'traffic_volume']\n"
     ]
    }
   ],
   "source": [
    "print(train_set.columns.values)"
   ]
  },
  {
   "cell_type": "markdown",
   "metadata": {
    "id": "b8IzQQLmUWEA"
   },
   "source": [
    "***Which features are categorical?***\n",
    "\n",
    "These values classify the samples into sets of similar samples. Within categorical features are the values nominal, ordinal, ratio, or interval based? Among other things this helps us select the appropriate plots for visualization.\n",
    "\n",
    "* Categorical: is_holiday,'weather_type', 'weather_description'\n",
    "\n",
    "***Which features are numerical?***\n",
    "\n",
    "Which features are numerical? These values change from sample to sample. Within numerical features are the values discrete, continuous, or timeseries based? Among other things this helps us select the appropriate plots for visualization.\n",
    "\n",
    "* numerical:'date_time'  'air_pollution_index' 'humidity' 'wind_speed'\n",
    " 'wind_direction' 'visibility_in_miles' 'dew_point' 'temperature'\n",
    " 'rain_p_h' 'snow_p_h' 'clouds_all' 'traffic_volume'"
   ]
  },
  {
   "cell_type": "code",
   "execution_count": 10,
   "metadata": {
    "colab": {
     "base_uri": "https://localhost:8080/",
     "height": 444
    },
    "id": "Ghy4yj1aVZpW",
    "outputId": "69d937ff-c0fd-47da-b521-6f5d1be3cdd5"
   },
   "outputs": [
    {
     "data": {
      "text/html": [
       "<div>\n",
       "<style scoped>\n",
       "    .dataframe tbody tr th:only-of-type {\n",
       "        vertical-align: middle;\n",
       "    }\n",
       "\n",
       "    .dataframe tbody tr th {\n",
       "        vertical-align: top;\n",
       "    }\n",
       "\n",
       "    .dataframe thead th {\n",
       "        text-align: right;\n",
       "    }\n",
       "</style>\n",
       "<table border=\"1\" class=\"dataframe\">\n",
       "  <thead>\n",
       "    <tr style=\"text-align: right;\">\n",
       "      <th></th>\n",
       "      <th>date_time</th>\n",
       "      <th>is_holiday</th>\n",
       "      <th>air_pollution_index</th>\n",
       "      <th>humidity</th>\n",
       "      <th>wind_speed</th>\n",
       "      <th>wind_direction</th>\n",
       "      <th>visibility_in_miles</th>\n",
       "      <th>dew_point</th>\n",
       "      <th>temperature</th>\n",
       "      <th>rain_p_h</th>\n",
       "      <th>snow_p_h</th>\n",
       "      <th>clouds_all</th>\n",
       "      <th>weather_type</th>\n",
       "      <th>weather_description</th>\n",
       "      <th>traffic_volume</th>\n",
       "    </tr>\n",
       "  </thead>\n",
       "  <tbody>\n",
       "    <tr>\n",
       "      <th>33745</th>\n",
       "      <td>2017-05-17 21:00:00</td>\n",
       "      <td>None</td>\n",
       "      <td>74</td>\n",
       "      <td>85</td>\n",
       "      <td>1</td>\n",
       "      <td>328</td>\n",
       "      <td>7</td>\n",
       "      <td>7</td>\n",
       "      <td>287.88</td>\n",
       "      <td>0.0</td>\n",
       "      <td>0.0</td>\n",
       "      <td>90</td>\n",
       "      <td>Mist</td>\n",
       "      <td>mist</td>\n",
       "      <td>2348</td>\n",
       "    </tr>\n",
       "    <tr>\n",
       "      <th>33746</th>\n",
       "      <td>2017-05-17 22:00:00</td>\n",
       "      <td>None</td>\n",
       "      <td>81</td>\n",
       "      <td>70</td>\n",
       "      <td>1</td>\n",
       "      <td>24</td>\n",
       "      <td>2</td>\n",
       "      <td>2</td>\n",
       "      <td>286.95</td>\n",
       "      <td>0.0</td>\n",
       "      <td>0.0</td>\n",
       "      <td>90</td>\n",
       "      <td>Rain</td>\n",
       "      <td>heavy intensity rain</td>\n",
       "      <td>2194</td>\n",
       "    </tr>\n",
       "    <tr>\n",
       "      <th>33747</th>\n",
       "      <td>2017-05-17 22:00:00</td>\n",
       "      <td>None</td>\n",
       "      <td>138</td>\n",
       "      <td>70</td>\n",
       "      <td>1</td>\n",
       "      <td>24</td>\n",
       "      <td>1</td>\n",
       "      <td>1</td>\n",
       "      <td>286.95</td>\n",
       "      <td>0.0</td>\n",
       "      <td>0.0</td>\n",
       "      <td>90</td>\n",
       "      <td>Mist</td>\n",
       "      <td>mist</td>\n",
       "      <td>2194</td>\n",
       "    </tr>\n",
       "    <tr>\n",
       "      <th>33748</th>\n",
       "      <td>2017-05-17 23:00:00</td>\n",
       "      <td>None</td>\n",
       "      <td>229</td>\n",
       "      <td>66</td>\n",
       "      <td>1</td>\n",
       "      <td>42</td>\n",
       "      <td>6</td>\n",
       "      <td>6</td>\n",
       "      <td>285.75</td>\n",
       "      <td>0.0</td>\n",
       "      <td>0.0</td>\n",
       "      <td>90</td>\n",
       "      <td>Rain</td>\n",
       "      <td>heavy intensity rain</td>\n",
       "      <td>1328</td>\n",
       "    </tr>\n",
       "    <tr>\n",
       "      <th>33749</th>\n",
       "      <td>2017-05-17 23:00:00</td>\n",
       "      <td>None</td>\n",
       "      <td>140</td>\n",
       "      <td>63</td>\n",
       "      <td>1</td>\n",
       "      <td>27</td>\n",
       "      <td>8</td>\n",
       "      <td>8</td>\n",
       "      <td>285.75</td>\n",
       "      <td>0.0</td>\n",
       "      <td>0.0</td>\n",
       "      <td>90</td>\n",
       "      <td>Mist</td>\n",
       "      <td>mist</td>\n",
       "      <td>1328</td>\n",
       "    </tr>\n",
       "  </tbody>\n",
       "</table>\n",
       "</div>"
      ],
      "text/plain": [
       "                 date_time is_holiday  air_pollution_index  humidity  \\\n",
       "33745  2017-05-17 21:00:00       None                   74        85   \n",
       "33746  2017-05-17 22:00:00       None                   81        70   \n",
       "33747  2017-05-17 22:00:00       None                  138        70   \n",
       "33748  2017-05-17 23:00:00       None                  229        66   \n",
       "33749  2017-05-17 23:00:00       None                  140        63   \n",
       "\n",
       "       wind_speed  wind_direction  visibility_in_miles  dew_point  \\\n",
       "33745           1             328                    7          7   \n",
       "33746           1              24                    2          2   \n",
       "33747           1              24                    1          1   \n",
       "33748           1              42                    6          6   \n",
       "33749           1              27                    8          8   \n",
       "\n",
       "       temperature  rain_p_h  snow_p_h  clouds_all weather_type  \\\n",
       "33745       287.88       0.0       0.0          90         Mist   \n",
       "33746       286.95       0.0       0.0          90         Rain   \n",
       "33747       286.95       0.0       0.0          90         Mist   \n",
       "33748       285.75       0.0       0.0          90         Rain   \n",
       "33749       285.75       0.0       0.0          90         Mist   \n",
       "\n",
       "        weather_description  traffic_volume  \n",
       "33745                  mist            2348  \n",
       "33746  heavy intensity rain            2194  \n",
       "33747                  mist            2194  \n",
       "33748  heavy intensity rain            1328  \n",
       "33749                  mist            1328  "
      ]
     },
     "execution_count": 10,
     "metadata": {},
     "output_type": "execute_result"
    }
   ],
   "source": [
    "train_set.tail()"
   ]
  },
  {
   "cell_type": "markdown",
   "metadata": {
    "id": "BNlMcHAwViHK"
   },
   "source": [
    "***Which features contain blank, null or empty values?***\n",
    "\n",
    "We can check for missing values with pandas isnull(). This indicates whether values are missing or not. Then we can sum all the values to check every column. "
   ]
  },
  {
   "cell_type": "code",
   "execution_count": 11,
   "metadata": {
    "colab": {
     "base_uri": "https://localhost:8080/"
    },
    "id": "uem2rkpoVjw4",
    "outputId": "6aae49c1-6794-476d-e07b-f65c075ebe44"
   },
   "outputs": [
    {
     "data": {
      "text/plain": [
       "date_time              0\n",
       "is_holiday             0\n",
       "air_pollution_index    0\n",
       "humidity               0\n",
       "wind_speed             0\n",
       "wind_direction         0\n",
       "visibility_in_miles    0\n",
       "dew_point              0\n",
       "temperature            0\n",
       "rain_p_h               0\n",
       "snow_p_h               0\n",
       "clouds_all             0\n",
       "weather_type           0\n",
       "weather_description    0\n",
       "traffic_volume         0\n",
       "dtype: int64"
      ]
     },
     "execution_count": 11,
     "metadata": {},
     "output_type": "execute_result"
    }
   ],
   "source": [
    "train_set.isnull().sum()"
   ]
  },
  {
   "cell_type": "code",
   "execution_count": 12,
   "metadata": {},
   "outputs": [
    {
     "data": {
      "text/plain": [
       "0"
      ]
     },
     "execution_count": 12,
     "metadata": {},
     "output_type": "execute_result"
    }
   ],
   "source": [
    "train_set.isnull().sum().sum()"
   ]
  },
  {
   "cell_type": "markdown",
   "metadata": {
    "id": "mU5E0ztuVsFR"
   },
   "source": [
    "***What are the data types for various features?***\n",
    "\n",
    "Three features are floats, eight are integers and four objects."
   ]
  },
  {
   "cell_type": "code",
   "execution_count": 13,
   "metadata": {
    "colab": {
     "base_uri": "https://localhost:8080/"
    },
    "id": "exzEYRtMVxO_",
    "outputId": "6f8b2c31-7f04-481a-eac5-49894c3c7058"
   },
   "outputs": [
    {
     "name": "stdout",
     "output_type": "stream",
     "text": [
      "<class 'pandas.core.frame.DataFrame'>\n",
      "RangeIndex: 33750 entries, 0 to 33749\n",
      "Data columns (total 15 columns):\n",
      " #   Column               Non-Null Count  Dtype  \n",
      "---  ------               --------------  -----  \n",
      " 0   date_time            33750 non-null  object \n",
      " 1   is_holiday           33750 non-null  object \n",
      " 2   air_pollution_index  33750 non-null  int64  \n",
      " 3   humidity             33750 non-null  int64  \n",
      " 4   wind_speed           33750 non-null  int64  \n",
      " 5   wind_direction       33750 non-null  int64  \n",
      " 6   visibility_in_miles  33750 non-null  int64  \n",
      " 7   dew_point            33750 non-null  int64  \n",
      " 8   temperature          33750 non-null  float64\n",
      " 9   rain_p_h             33750 non-null  float64\n",
      " 10  snow_p_h             33750 non-null  float64\n",
      " 11  clouds_all           33750 non-null  int64  \n",
      " 12  weather_type         33750 non-null  object \n",
      " 13  weather_description  33750 non-null  object \n",
      " 14  traffic_volume       33750 non-null  int64  \n",
      "dtypes: float64(3), int64(8), object(4)\n",
      "memory usage: 3.9+ MB\n"
     ]
    }
   ],
   "source": [
    "train_set.info()"
   ]
  },
  {
   "cell_type": "markdown",
   "metadata": {
    "id": "9QMRE5BiV_rz"
   },
   "source": [
    "***What is the distribution of numerical feature values across the samples?***"
   ]
  },
  {
   "cell_type": "code",
   "execution_count": 14,
   "metadata": {
    "colab": {
     "base_uri": "https://localhost:8080/",
     "height": 364
    },
    "id": "Oz9ShVMVWFDw",
    "outputId": "564bbfdf-2112-4e89-d76c-82ac0e836a75"
   },
   "outputs": [
    {
     "data": {
      "text/html": [
       "<div>\n",
       "<style scoped>\n",
       "    .dataframe tbody tr th:only-of-type {\n",
       "        vertical-align: middle;\n",
       "    }\n",
       "\n",
       "    .dataframe tbody tr th {\n",
       "        vertical-align: top;\n",
       "    }\n",
       "\n",
       "    .dataframe thead th {\n",
       "        text-align: right;\n",
       "    }\n",
       "</style>\n",
       "<table border=\"1\" class=\"dataframe\">\n",
       "  <thead>\n",
       "    <tr style=\"text-align: right;\">\n",
       "      <th></th>\n",
       "      <th>air_pollution_index</th>\n",
       "      <th>humidity</th>\n",
       "      <th>wind_speed</th>\n",
       "      <th>wind_direction</th>\n",
       "      <th>visibility_in_miles</th>\n",
       "      <th>dew_point</th>\n",
       "      <th>temperature</th>\n",
       "      <th>rain_p_h</th>\n",
       "      <th>snow_p_h</th>\n",
       "      <th>clouds_all</th>\n",
       "      <th>traffic_volume</th>\n",
       "    </tr>\n",
       "  </thead>\n",
       "  <tbody>\n",
       "    <tr>\n",
       "      <th>count</th>\n",
       "      <td>33750.000000</td>\n",
       "      <td>33750.000000</td>\n",
       "      <td>33750.000000</td>\n",
       "      <td>33750.000000</td>\n",
       "      <td>33750.000000</td>\n",
       "      <td>33750.000000</td>\n",
       "      <td>33750.000000</td>\n",
       "      <td>33750.000000</td>\n",
       "      <td>33750.000000</td>\n",
       "      <td>33750.000000</td>\n",
       "      <td>33750.000000</td>\n",
       "    </tr>\n",
       "    <tr>\n",
       "      <th>mean</th>\n",
       "      <td>154.841422</td>\n",
       "      <td>71.209007</td>\n",
       "      <td>3.378193</td>\n",
       "      <td>199.471852</td>\n",
       "      <td>4.989748</td>\n",
       "      <td>4.989748</td>\n",
       "      <td>280.069587</td>\n",
       "      <td>0.448739</td>\n",
       "      <td>0.000318</td>\n",
       "      <td>50.458785</td>\n",
       "      <td>3240.118163</td>\n",
       "    </tr>\n",
       "    <tr>\n",
       "      <th>std</th>\n",
       "      <td>83.735515</td>\n",
       "      <td>16.852248</td>\n",
       "      <td>2.055792</td>\n",
       "      <td>99.841088</td>\n",
       "      <td>2.570021</td>\n",
       "      <td>2.570021</td>\n",
       "      <td>13.415256</td>\n",
       "      <td>53.526500</td>\n",
       "      <td>0.009760</td>\n",
       "      <td>38.871734</td>\n",
       "      <td>1991.487289</td>\n",
       "    </tr>\n",
       "    <tr>\n",
       "      <th>min</th>\n",
       "      <td>10.000000</td>\n",
       "      <td>13.000000</td>\n",
       "      <td>0.000000</td>\n",
       "      <td>0.000000</td>\n",
       "      <td>1.000000</td>\n",
       "      <td>1.000000</td>\n",
       "      <td>0.000000</td>\n",
       "      <td>0.000000</td>\n",
       "      <td>0.000000</td>\n",
       "      <td>0.000000</td>\n",
       "      <td>0.000000</td>\n",
       "    </tr>\n",
       "    <tr>\n",
       "      <th>25%</th>\n",
       "      <td>83.000000</td>\n",
       "      <td>60.000000</td>\n",
       "      <td>2.000000</td>\n",
       "      <td>130.000000</td>\n",
       "      <td>3.000000</td>\n",
       "      <td>3.000000</td>\n",
       "      <td>271.720000</td>\n",
       "      <td>0.000000</td>\n",
       "      <td>0.000000</td>\n",
       "      <td>1.000000</td>\n",
       "      <td>1165.250000</td>\n",
       "    </tr>\n",
       "    <tr>\n",
       "      <th>50%</th>\n",
       "      <td>155.000000</td>\n",
       "      <td>72.000000</td>\n",
       "      <td>3.000000</td>\n",
       "      <td>200.000000</td>\n",
       "      <td>5.000000</td>\n",
       "      <td>5.000000</td>\n",
       "      <td>280.150000</td>\n",
       "      <td>0.000000</td>\n",
       "      <td>0.000000</td>\n",
       "      <td>64.000000</td>\n",
       "      <td>3335.000000</td>\n",
       "    </tr>\n",
       "    <tr>\n",
       "      <th>75%</th>\n",
       "      <td>228.000000</td>\n",
       "      <td>85.000000</td>\n",
       "      <td>5.000000</td>\n",
       "      <td>290.000000</td>\n",
       "      <td>7.000000</td>\n",
       "      <td>7.000000</td>\n",
       "      <td>290.620000</td>\n",
       "      <td>0.000000</td>\n",
       "      <td>0.000000</td>\n",
       "      <td>90.000000</td>\n",
       "      <td>4926.000000</td>\n",
       "    </tr>\n",
       "    <tr>\n",
       "      <th>max</th>\n",
       "      <td>299.000000</td>\n",
       "      <td>100.000000</td>\n",
       "      <td>16.000000</td>\n",
       "      <td>360.000000</td>\n",
       "      <td>9.000000</td>\n",
       "      <td>9.000000</td>\n",
       "      <td>308.240000</td>\n",
       "      <td>9831.300000</td>\n",
       "      <td>0.510000</td>\n",
       "      <td>100.000000</td>\n",
       "      <td>7280.000000</td>\n",
       "    </tr>\n",
       "  </tbody>\n",
       "</table>\n",
       "</div>"
      ],
      "text/plain": [
       "       air_pollution_index      humidity    wind_speed  wind_direction  \\\n",
       "count         33750.000000  33750.000000  33750.000000    33750.000000   \n",
       "mean            154.841422     71.209007      3.378193      199.471852   \n",
       "std              83.735515     16.852248      2.055792       99.841088   \n",
       "min              10.000000     13.000000      0.000000        0.000000   \n",
       "25%              83.000000     60.000000      2.000000      130.000000   \n",
       "50%             155.000000     72.000000      3.000000      200.000000   \n",
       "75%             228.000000     85.000000      5.000000      290.000000   \n",
       "max             299.000000    100.000000     16.000000      360.000000   \n",
       "\n",
       "       visibility_in_miles     dew_point   temperature      rain_p_h  \\\n",
       "count         33750.000000  33750.000000  33750.000000  33750.000000   \n",
       "mean              4.989748      4.989748    280.069587      0.448739   \n",
       "std               2.570021      2.570021     13.415256     53.526500   \n",
       "min               1.000000      1.000000      0.000000      0.000000   \n",
       "25%               3.000000      3.000000    271.720000      0.000000   \n",
       "50%               5.000000      5.000000    280.150000      0.000000   \n",
       "75%               7.000000      7.000000    290.620000      0.000000   \n",
       "max               9.000000      9.000000    308.240000   9831.300000   \n",
       "\n",
       "           snow_p_h    clouds_all  traffic_volume  \n",
       "count  33750.000000  33750.000000    33750.000000  \n",
       "mean       0.000318     50.458785     3240.118163  \n",
       "std        0.009760     38.871734     1991.487289  \n",
       "min        0.000000      0.000000        0.000000  \n",
       "25%        0.000000      1.000000     1165.250000  \n",
       "50%        0.000000     64.000000     3335.000000  \n",
       "75%        0.000000     90.000000     4926.000000  \n",
       "max        0.510000    100.000000     7280.000000  "
      ]
     },
     "execution_count": 14,
     "metadata": {},
     "output_type": "execute_result"
    }
   ],
   "source": [
    "train_set.describe()"
   ]
  },
  {
   "cell_type": "markdown",
   "metadata": {
    "id": "drR3lb6zaEBu"
   },
   "source": []
  },
  {
   "cell_type": "code",
   "execution_count": 15,
   "metadata": {
    "id": "CDNgT36WaFLr"
   },
   "outputs": [],
   "source": [
    "train_set=train_set.drop(['dew_point',],axis=1)"
   ]
  },
  {
   "cell_type": "markdown",
   "metadata": {
    "id": "k8-TcH1aWK65"
   },
   "source": [
    "<a id=\"ch3\"></a>\n",
    "## Exploratory Data Analysis\n",
    "<hr/>\n",
    "\n",
    "### Analyze by visualizing data\n",
    "Now we can continue confirming some of our assumptions using visualizations for analyzing the data."
   ]
  },
  {
   "cell_type": "code",
   "execution_count": 16,
   "metadata": {
    "colab": {
     "base_uri": "https://localhost:8080/",
     "height": 711
    },
    "id": "ZYOkE5KuWR33",
    "outputId": "02a5a413-4504-4d60-aa89-2e159c0ed608"
   },
   "outputs": [
    {
     "data": {
      "text/plain": [
       "<matplotlib.axes._subplots.AxesSubplot at 0x7f56cdbb7a90>"
      ]
     },
     "execution_count": 16,
     "metadata": {},
     "output_type": "execute_result"
    },
    {
     "data": {
      "image/png": "[encoded data removed]",
      "text/plain": [
       "<Figure size 720x720 with 2 Axes>"
      ]
     },
     "metadata": {
      "needs_background": "light"
     },
     "output_type": "display_data"
    }
   ],
   "source": [
    "import seaborn as sns\n",
    "plt.figure(figsize=(10,10))\n",
    "plt.title('Correlation Matrix',fontsize=15)\n",
    "\n",
    "sns.heatmap(train_set.corr(), annot=True, cmap='coolwarm')"
   ]
  },
  {
   "cell_type": "code",
   "execution_count": 17,
   "metadata": {},
   "outputs": [
    {
     "data": {
      "image/png": "[encoded data removed]",
      "text/plain": [
       "<Figure size 2160x2160 with 25 Axes>"
      ]
     },
     "metadata": {
      "needs_background": "light"
     },
     "output_type": "display_data"
    }
   ],
   "source": [
    "import matplotlib.pyplot as plt\n",
    "train_set.plot(kind='box',subplots=True,layout=(5,5),figsize=(30,30))\n",
    "plt.show()"
   ]
  },
  {
   "cell_type": "code",
   "execution_count": 18,
   "metadata": {},
   "outputs": [
    {
     "data": {
      "image/png": "[encoded data removed]",
      "text/plain": [
       "<Figure size 2160x2160 with 25 Axes>"
      ]
     },
     "metadata": {
      "needs_background": "light"
     },
     "output_type": "display_data"
    }
   ],
   "source": [
    "cols = ['wind_speed', 'snow_p_h','humidity']\n",
    "\n",
    "Q1 = train_set[cols].quantile(0.25)\n",
    "Q3 = train_set[cols].quantile(0.75)\n",
    "\n",
    "IQR = Q3 - Q1\n",
    "\n",
    "train_set = train_set[~((train_set[cols] < (Q1 - 1.5 * IQR)) |(train_set[cols] > (Q3 + 1.5 * IQR))).any(axis=1)]\n",
    "train_set.plot(kind='box',subplots=True,layout=(5,5),figsize=(30,30))\n",
    "plt.show()"
   ]
  },
  {
   "cell_type": "markdown",
   "metadata": {
    "id": "-vy6OuvsdTcS"
   },
   "source": [
    "***Which features are more correlated to the price?***"
   ]
  },
  {
   "cell_type": "markdown",
   "metadata": {
    "id": "HsUHNQNJuKok"
   },
   "source": [
    "**Prepare Train Data**"
   ]
  },
  {
   "cell_type": "markdown",
   "metadata": {
    "id": "yeZxY69zdiMw"
   },
   "source": [
    "<a id=\"ch5\"></a>\n",
    "## Feature engineering\n",
    "<hr/>\n",
    "\n",
    "We want to engineer the date feature to make a year,month,day and hour column. The feature date is as a string. With pd.to_datetime we can convert an argument to datetime."
   ]
  },
  {
   "cell_type": "code",
   "execution_count": 19,
   "metadata": {
    "id": "nupoz-rnuKok"
   },
   "outputs": [],
   "source": [
    "train_set['date_time'] = pd.to_datetime(train_set.date_time)"
   ]
  },
  {
   "cell_type": "code",
   "execution_count": 20,
   "metadata": {
    "id": "37maSFOQuKol"
   },
   "outputs": [],
   "source": [
    "train_set['year'] = train_set.date_time.dt.year\n",
    "train_set['month'] = train_set.date_time.dt.month\n",
    "train_set['day'] = train_set.date_time.dt.day\n",
    "train_set['hour'] = train_set.date_time.dt.hour"
   ]
  },
  {
   "cell_type": "code",
   "execution_count": 21,
   "metadata": {
    "colab": {
     "base_uri": "https://localhost:8080/",
     "height": 270
    },
    "id": "io3GcHn6uKol",
    "outputId": "7becec08-ac93-4297-db8f-45c22e7fa387"
   },
   "outputs": [
    {
     "data": {
      "text/html": [
       "<div>\n",
       "<style scoped>\n",
       "    .dataframe tbody tr th:only-of-type {\n",
       "        vertical-align: middle;\n",
       "    }\n",
       "\n",
       "    .dataframe tbody tr th {\n",
       "        vertical-align: top;\n",
       "    }\n",
       "\n",
       "    .dataframe thead th {\n",
       "        text-align: right;\n",
       "    }\n",
       "</style>\n",
       "<table border=\"1\" class=\"dataframe\">\n",
       "  <thead>\n",
       "    <tr style=\"text-align: right;\">\n",
       "      <th></th>\n",
       "      <th>is_holiday</th>\n",
       "      <th>air_pollution_index</th>\n",
       "      <th>humidity</th>\n",
       "      <th>wind_speed</th>\n",
       "      <th>wind_direction</th>\n",
       "      <th>visibility_in_miles</th>\n",
       "      <th>temperature</th>\n",
       "      <th>rain_p_h</th>\n",
       "      <th>snow_p_h</th>\n",
       "      <th>clouds_all</th>\n",
       "      <th>weather_type</th>\n",
       "      <th>weather_description</th>\n",
       "      <th>traffic_volume</th>\n",
       "      <th>year</th>\n",
       "      <th>month</th>\n",
       "      <th>day</th>\n",
       "      <th>hour</th>\n",
       "    </tr>\n",
       "  </thead>\n",
       "  <tbody>\n",
       "    <tr>\n",
       "      <th>0</th>\n",
       "      <td>None</td>\n",
       "      <td>121</td>\n",
       "      <td>89</td>\n",
       "      <td>2</td>\n",
       "      <td>329</td>\n",
       "      <td>1</td>\n",
       "      <td>288.28</td>\n",
       "      <td>0.0</td>\n",
       "      <td>0.0</td>\n",
       "      <td>40</td>\n",
       "      <td>Clouds</td>\n",
       "      <td>scattered clouds</td>\n",
       "      <td>5545</td>\n",
       "      <td>2012</td>\n",
       "      <td>10</td>\n",
       "      <td>2</td>\n",
       "      <td>9</td>\n",
       "    </tr>\n",
       "    <tr>\n",
       "      <th>1</th>\n",
       "      <td>None</td>\n",
       "      <td>178</td>\n",
       "      <td>67</td>\n",
       "      <td>3</td>\n",
       "      <td>330</td>\n",
       "      <td>1</td>\n",
       "      <td>289.36</td>\n",
       "      <td>0.0</td>\n",
       "      <td>0.0</td>\n",
       "      <td>75</td>\n",
       "      <td>Clouds</td>\n",
       "      <td>broken clouds</td>\n",
       "      <td>4516</td>\n",
       "      <td>2012</td>\n",
       "      <td>10</td>\n",
       "      <td>2</td>\n",
       "      <td>10</td>\n",
       "    </tr>\n",
       "    <tr>\n",
       "      <th>2</th>\n",
       "      <td>None</td>\n",
       "      <td>113</td>\n",
       "      <td>66</td>\n",
       "      <td>3</td>\n",
       "      <td>329</td>\n",
       "      <td>2</td>\n",
       "      <td>289.58</td>\n",
       "      <td>0.0</td>\n",
       "      <td>0.0</td>\n",
       "      <td>90</td>\n",
       "      <td>Clouds</td>\n",
       "      <td>overcast clouds</td>\n",
       "      <td>4767</td>\n",
       "      <td>2012</td>\n",
       "      <td>10</td>\n",
       "      <td>2</td>\n",
       "      <td>11</td>\n",
       "    </tr>\n",
       "    <tr>\n",
       "      <th>3</th>\n",
       "      <td>None</td>\n",
       "      <td>20</td>\n",
       "      <td>66</td>\n",
       "      <td>3</td>\n",
       "      <td>329</td>\n",
       "      <td>5</td>\n",
       "      <td>290.13</td>\n",
       "      <td>0.0</td>\n",
       "      <td>0.0</td>\n",
       "      <td>90</td>\n",
       "      <td>Clouds</td>\n",
       "      <td>overcast clouds</td>\n",
       "      <td>5026</td>\n",
       "      <td>2012</td>\n",
       "      <td>10</td>\n",
       "      <td>2</td>\n",
       "      <td>12</td>\n",
       "    </tr>\n",
       "    <tr>\n",
       "      <th>4</th>\n",
       "      <td>None</td>\n",
       "      <td>281</td>\n",
       "      <td>65</td>\n",
       "      <td>3</td>\n",
       "      <td>329</td>\n",
       "      <td>7</td>\n",
       "      <td>291.14</td>\n",
       "      <td>0.0</td>\n",
       "      <td>0.0</td>\n",
       "      <td>75</td>\n",
       "      <td>Clouds</td>\n",
       "      <td>broken clouds</td>\n",
       "      <td>4918</td>\n",
       "      <td>2012</td>\n",
       "      <td>10</td>\n",
       "      <td>2</td>\n",
       "      <td>13</td>\n",
       "    </tr>\n",
       "  </tbody>\n",
       "</table>\n",
       "</div>"
      ],
      "text/plain": [
       "  is_holiday  air_pollution_index  humidity  wind_speed  wind_direction  \\\n",
       "0       None                  121        89           2             329   \n",
       "1       None                  178        67           3             330   \n",
       "2       None                  113        66           3             329   \n",
       "3       None                   20        66           3             329   \n",
       "4       None                  281        65           3             329   \n",
       "\n",
       "   visibility_in_miles  temperature  rain_p_h  snow_p_h  clouds_all  \\\n",
       "0                    1       288.28       0.0       0.0          40   \n",
       "1                    1       289.36       0.0       0.0          75   \n",
       "2                    2       289.58       0.0       0.0          90   \n",
       "3                    5       290.13       0.0       0.0          90   \n",
       "4                    7       291.14       0.0       0.0          75   \n",
       "\n",
       "  weather_type weather_description  traffic_volume  year  month  day  hour  \n",
       "0       Clouds    scattered clouds            5545  2012     10    2     9  \n",
       "1       Clouds       broken clouds            4516  2012     10    2    10  \n",
       "2       Clouds     overcast clouds            4767  2012     10    2    11  \n",
       "3       Clouds     overcast clouds            5026  2012     10    2    12  \n",
       "4       Clouds       broken clouds            4918  2012     10    2    13  "
      ]
     },
     "execution_count": 21,
     "metadata": {},
     "output_type": "execute_result"
    }
   ],
   "source": [
    "train_copy = train_set.drop(['date_time'], axis=1)\n",
    "train_copy.head()"
   ]
  },
  {
   "cell_type": "code",
   "execution_count": 22,
   "metadata": {
    "colab": {
     "base_uri": "https://localhost:8080/"
    },
    "id": "vtMTgxIWhma1",
    "outputId": "bbced8a6-6ff5-4f54-c98f-2374f20ef1d0"
   },
   "outputs": [
    {
     "data": {
      "text/plain": [
       "(33380, 17)"
      ]
     },
     "execution_count": 22,
     "metadata": {},
     "output_type": "execute_result"
    }
   ],
   "source": [
    "train_copy.shape"
   ]
  },
  {
   "cell_type": "code",
   "execution_count": 23,
   "metadata": {
    "id": "YCS_DnEiuKor"
   },
   "outputs": [],
   "source": [
    "\n",
    "train = pd.get_dummies(train_copy, columns=['is_holiday', 'weather_type', 'weather_description'], \n",
    "                              prefix=['is_holiday', 'weather_type', 'weather_desc'])"
   ]
  },
  {
   "cell_type": "code",
   "execution_count": 24,
   "metadata": {
    "id": "TyQ-EXayjwQH"
   },
   "outputs": [],
   "source": [
    "train=train.drop(['weather_type_Squall','weather_desc_SQUALLS','weather_desc_freezing rain','weather_desc_light rain and snow','weather_desc_shower snow','weather_desc_thunderstorm with drizzle','weather_desc_very heavy rain'],axis=1)"
   ]
  },
  {
   "cell_type": "code",
   "execution_count": 25,
   "metadata": {
    "colab": {
     "base_uri": "https://localhost:8080/",
     "height": 317
    },
    "id": "H7hXdj5buKor",
    "outputId": "b53087b9-fdce-45b1-8bb3-590ef5f46fb2"
   },
   "outputs": [
    {
     "data": {
      "text/html": [
       "<div>\n",
       "<style scoped>\n",
       "    .dataframe tbody tr th:only-of-type {\n",
       "        vertical-align: middle;\n",
       "    }\n",
       "\n",
       "    .dataframe tbody tr th {\n",
       "        vertical-align: top;\n",
       "    }\n",
       "\n",
       "    .dataframe thead th {\n",
       "        text-align: right;\n",
       "    }\n",
       "</style>\n",
       "<table border=\"1\" class=\"dataframe\">\n",
       "  <thead>\n",
       "    <tr style=\"text-align: right;\">\n",
       "      <th></th>\n",
       "      <th>air_pollution_index</th>\n",
       "      <th>humidity</th>\n",
       "      <th>wind_speed</th>\n",
       "      <th>wind_direction</th>\n",
       "      <th>visibility_in_miles</th>\n",
       "      <th>temperature</th>\n",
       "      <th>rain_p_h</th>\n",
       "      <th>snow_p_h</th>\n",
       "      <th>clouds_all</th>\n",
       "      <th>traffic_volume</th>\n",
       "      <th>...</th>\n",
       "      <th>weather_desc_shower drizzle</th>\n",
       "      <th>weather_desc_sky is clear</th>\n",
       "      <th>weather_desc_sleet</th>\n",
       "      <th>weather_desc_smoke</th>\n",
       "      <th>weather_desc_snow</th>\n",
       "      <th>weather_desc_thunderstorm</th>\n",
       "      <th>weather_desc_thunderstorm with heavy rain</th>\n",
       "      <th>weather_desc_thunderstorm with light drizzle</th>\n",
       "      <th>weather_desc_thunderstorm with light rain</th>\n",
       "      <th>weather_desc_thunderstorm with rain</th>\n",
       "    </tr>\n",
       "  </thead>\n",
       "  <tbody>\n",
       "    <tr>\n",
       "      <th>0</th>\n",
       "      <td>121</td>\n",
       "      <td>89</td>\n",
       "      <td>2</td>\n",
       "      <td>329</td>\n",
       "      <td>1</td>\n",
       "      <td>288.28</td>\n",
       "      <td>0.0</td>\n",
       "      <td>0.0</td>\n",
       "      <td>40</td>\n",
       "      <td>5545</td>\n",
       "      <td>...</td>\n",
       "      <td>0</td>\n",
       "      <td>0</td>\n",
       "      <td>0</td>\n",
       "      <td>0</td>\n",
       "      <td>0</td>\n",
       "      <td>0</td>\n",
       "      <td>0</td>\n",
       "      <td>0</td>\n",
       "      <td>0</td>\n",
       "      <td>0</td>\n",
       "    </tr>\n",
       "    <tr>\n",
       "      <th>1</th>\n",
       "      <td>178</td>\n",
       "      <td>67</td>\n",
       "      <td>3</td>\n",
       "      <td>330</td>\n",
       "      <td>1</td>\n",
       "      <td>289.36</td>\n",
       "      <td>0.0</td>\n",
       "      <td>0.0</td>\n",
       "      <td>75</td>\n",
       "      <td>4516</td>\n",
       "      <td>...</td>\n",
       "      <td>0</td>\n",
       "      <td>0</td>\n",
       "      <td>0</td>\n",
       "      <td>0</td>\n",
       "      <td>0</td>\n",
       "      <td>0</td>\n",
       "      <td>0</td>\n",
       "      <td>0</td>\n",
       "      <td>0</td>\n",
       "      <td>0</td>\n",
       "    </tr>\n",
       "    <tr>\n",
       "      <th>2</th>\n",
       "      <td>113</td>\n",
       "      <td>66</td>\n",
       "      <td>3</td>\n",
       "      <td>329</td>\n",
       "      <td>2</td>\n",
       "      <td>289.58</td>\n",
       "      <td>0.0</td>\n",
       "      <td>0.0</td>\n",
       "      <td>90</td>\n",
       "      <td>4767</td>\n",
       "      <td>...</td>\n",
       "      <td>0</td>\n",
       "      <td>0</td>\n",
       "      <td>0</td>\n",
       "      <td>0</td>\n",
       "      <td>0</td>\n",
       "      <td>0</td>\n",
       "      <td>0</td>\n",
       "      <td>0</td>\n",
       "      <td>0</td>\n",
       "      <td>0</td>\n",
       "    </tr>\n",
       "    <tr>\n",
       "      <th>3</th>\n",
       "      <td>20</td>\n",
       "      <td>66</td>\n",
       "      <td>3</td>\n",
       "      <td>329</td>\n",
       "      <td>5</td>\n",
       "      <td>290.13</td>\n",
       "      <td>0.0</td>\n",
       "      <td>0.0</td>\n",
       "      <td>90</td>\n",
       "      <td>5026</td>\n",
       "      <td>...</td>\n",
       "      <td>0</td>\n",
       "      <td>0</td>\n",
       "      <td>0</td>\n",
       "      <td>0</td>\n",
       "      <td>0</td>\n",
       "      <td>0</td>\n",
       "      <td>0</td>\n",
       "      <td>0</td>\n",
       "      <td>0</td>\n",
       "      <td>0</td>\n",
       "    </tr>\n",
       "    <tr>\n",
       "      <th>4</th>\n",
       "      <td>281</td>\n",
       "      <td>65</td>\n",
       "      <td>3</td>\n",
       "      <td>329</td>\n",
       "      <td>7</td>\n",
       "      <td>291.14</td>\n",
       "      <td>0.0</td>\n",
       "      <td>0.0</td>\n",
       "      <td>75</td>\n",
       "      <td>4918</td>\n",
       "      <td>...</td>\n",
       "      <td>0</td>\n",
       "      <td>0</td>\n",
       "      <td>0</td>\n",
       "      <td>0</td>\n",
       "      <td>0</td>\n",
       "      <td>0</td>\n",
       "      <td>0</td>\n",
       "      <td>0</td>\n",
       "      <td>0</td>\n",
       "      <td>0</td>\n",
       "    </tr>\n",
       "  </tbody>\n",
       "</table>\n",
       "<p>5 rows × 68 columns</p>\n",
       "</div>"
      ],
      "text/plain": [
       "   air_pollution_index  humidity  wind_speed  wind_direction  \\\n",
       "0                  121        89           2             329   \n",
       "1                  178        67           3             330   \n",
       "2                  113        66           3             329   \n",
       "3                   20        66           3             329   \n",
       "4                  281        65           3             329   \n",
       "\n",
       "   visibility_in_miles  temperature  rain_p_h  snow_p_h  clouds_all  \\\n",
       "0                    1       288.28       0.0       0.0          40   \n",
       "1                    1       289.36       0.0       0.0          75   \n",
       "2                    2       289.58       0.0       0.0          90   \n",
       "3                    5       290.13       0.0       0.0          90   \n",
       "4                    7       291.14       0.0       0.0          75   \n",
       "\n",
       "   traffic_volume  ...  weather_desc_shower drizzle  \\\n",
       "0            5545  ...                            0   \n",
       "1            4516  ...                            0   \n",
       "2            4767  ...                            0   \n",
       "3            5026  ...                            0   \n",
       "4            4918  ...                            0   \n",
       "\n",
       "   weather_desc_sky is clear  weather_desc_sleet  weather_desc_smoke  \\\n",
       "0                          0                   0                   0   \n",
       "1                          0                   0                   0   \n",
       "2                          0                   0                   0   \n",
       "3                          0                   0                   0   \n",
       "4                          0                   0                   0   \n",
       "\n",
       "   weather_desc_snow  weather_desc_thunderstorm  \\\n",
       "0                  0                          0   \n",
       "1                  0                          0   \n",
       "2                  0                          0   \n",
       "3                  0                          0   \n",
       "4                  0                          0   \n",
       "\n",
       "   weather_desc_thunderstorm with heavy rain  \\\n",
       "0                                          0   \n",
       "1                                          0   \n",
       "2                                          0   \n",
       "3                                          0   \n",
       "4                                          0   \n",
       "\n",
       "   weather_desc_thunderstorm with light drizzle  \\\n",
       "0                                             0   \n",
       "1                                             0   \n",
       "2                                             0   \n",
       "3                                             0   \n",
       "4                                             0   \n",
       "\n",
       "   weather_desc_thunderstorm with light rain  \\\n",
       "0                                          0   \n",
       "1                                          0   \n",
       "2                                          0   \n",
       "3                                          0   \n",
       "4                                          0   \n",
       "\n",
       "   weather_desc_thunderstorm with rain  \n",
       "0                                    0  \n",
       "1                                    0  \n",
       "2                                    0  \n",
       "3                                    0  \n",
       "4                                    0  \n",
       "\n",
       "[5 rows x 68 columns]"
      ]
     },
     "execution_count": 25,
     "metadata": {},
     "output_type": "execute_result"
    }
   ],
   "source": [
    "\n",
    "train.head()"
   ]
  },
  {
   "cell_type": "markdown",
   "metadata": {
    "id": "Q_SC72EEuKos"
   },
   "source": [
    "**Preparing the Test data**"
   ]
  },
  {
   "cell_type": "code",
   "execution_count": 26,
   "metadata": {
    "colab": {
     "base_uri": "https://localhost:8080/",
     "height": 444
    },
    "id": "-243jxhsAYKL",
    "outputId": "ae070a03-1222-456a-b0b0-bd0b8d6c128c"
   },
   "outputs": [
    {
     "data": {
      "text/html": [
       "<div>\n",
       "<style scoped>\n",
       "    .dataframe tbody tr th:only-of-type {\n",
       "        vertical-align: middle;\n",
       "    }\n",
       "\n",
       "    .dataframe tbody tr th {\n",
       "        vertical-align: top;\n",
       "    }\n",
       "\n",
       "    .dataframe thead th {\n",
       "        text-align: right;\n",
       "    }\n",
       "</style>\n",
       "<table border=\"1\" class=\"dataframe\">\n",
       "  <thead>\n",
       "    <tr style=\"text-align: right;\">\n",
       "      <th></th>\n",
       "      <th>date_time</th>\n",
       "      <th>is_holiday</th>\n",
       "      <th>air_pollution_index</th>\n",
       "      <th>humidity</th>\n",
       "      <th>wind_speed</th>\n",
       "      <th>wind_direction</th>\n",
       "      <th>visibility_in_miles</th>\n",
       "      <th>dew_point</th>\n",
       "      <th>temperature</th>\n",
       "      <th>rain_p_h</th>\n",
       "      <th>snow_p_h</th>\n",
       "      <th>clouds_all</th>\n",
       "      <th>weather_type</th>\n",
       "      <th>weather_description</th>\n",
       "    </tr>\n",
       "  </thead>\n",
       "  <tbody>\n",
       "    <tr>\n",
       "      <th>0</th>\n",
       "      <td>2017-05-18 00:00:00</td>\n",
       "      <td>None</td>\n",
       "      <td>73</td>\n",
       "      <td>63</td>\n",
       "      <td>1</td>\n",
       "      <td>27</td>\n",
       "      <td>4</td>\n",
       "      <td>4</td>\n",
       "      <td>285.15</td>\n",
       "      <td>0.0</td>\n",
       "      <td>0</td>\n",
       "      <td>90</td>\n",
       "      <td>Rain</td>\n",
       "      <td>moderate rain</td>\n",
       "    </tr>\n",
       "    <tr>\n",
       "      <th>1</th>\n",
       "      <td>2017-05-18 00:00:00</td>\n",
       "      <td>None</td>\n",
       "      <td>251</td>\n",
       "      <td>63</td>\n",
       "      <td>1</td>\n",
       "      <td>27</td>\n",
       "      <td>4</td>\n",
       "      <td>4</td>\n",
       "      <td>285.15</td>\n",
       "      <td>0.0</td>\n",
       "      <td>0</td>\n",
       "      <td>90</td>\n",
       "      <td>Mist</td>\n",
       "      <td>mist</td>\n",
       "    </tr>\n",
       "    <tr>\n",
       "      <th>2</th>\n",
       "      <td>2017-05-18 00:00:00</td>\n",
       "      <td>None</td>\n",
       "      <td>75</td>\n",
       "      <td>56</td>\n",
       "      <td>1</td>\n",
       "      <td>0</td>\n",
       "      <td>1</td>\n",
       "      <td>1</td>\n",
       "      <td>285.15</td>\n",
       "      <td>0.0</td>\n",
       "      <td>0</td>\n",
       "      <td>90</td>\n",
       "      <td>Drizzle</td>\n",
       "      <td>light intensity drizzle</td>\n",
       "    </tr>\n",
       "    <tr>\n",
       "      <th>3</th>\n",
       "      <td>2017-05-18 01:00:00</td>\n",
       "      <td>None</td>\n",
       "      <td>98</td>\n",
       "      <td>56</td>\n",
       "      <td>1</td>\n",
       "      <td>351</td>\n",
       "      <td>2</td>\n",
       "      <td>2</td>\n",
       "      <td>284.79</td>\n",
       "      <td>0.0</td>\n",
       "      <td>0</td>\n",
       "      <td>90</td>\n",
       "      <td>Rain</td>\n",
       "      <td>heavy intensity rain</td>\n",
       "    </tr>\n",
       "    <tr>\n",
       "      <th>4</th>\n",
       "      <td>2017-05-18 01:00:00</td>\n",
       "      <td>None</td>\n",
       "      <td>283</td>\n",
       "      <td>56</td>\n",
       "      <td>1</td>\n",
       "      <td>351</td>\n",
       "      <td>1</td>\n",
       "      <td>1</td>\n",
       "      <td>284.79</td>\n",
       "      <td>0.0</td>\n",
       "      <td>0</td>\n",
       "      <td>90</td>\n",
       "      <td>Mist</td>\n",
       "      <td>mist</td>\n",
       "    </tr>\n",
       "  </tbody>\n",
       "</table>\n",
       "</div>"
      ],
      "text/plain": [
       "             date_time is_holiday  air_pollution_index  humidity  wind_speed  \\\n",
       "0  2017-05-18 00:00:00       None                   73        63           1   \n",
       "1  2017-05-18 00:00:00       None                  251        63           1   \n",
       "2  2017-05-18 00:00:00       None                   75        56           1   \n",
       "3  2017-05-18 01:00:00       None                   98        56           1   \n",
       "4  2017-05-18 01:00:00       None                  283        56           1   \n",
       "\n",
       "   wind_direction  visibility_in_miles  dew_point  temperature  rain_p_h  \\\n",
       "0              27                    4          4       285.15       0.0   \n",
       "1              27                    4          4       285.15       0.0   \n",
       "2               0                    1          1       285.15       0.0   \n",
       "3             351                    2          2       284.79       0.0   \n",
       "4             351                    1          1       284.79       0.0   \n",
       "\n",
       "   snow_p_h  clouds_all weather_type      weather_description  \n",
       "0         0          90         Rain            moderate rain  \n",
       "1         0          90         Mist                     mist  \n",
       "2         0          90      Drizzle  light intensity drizzle  \n",
       "3         0          90         Rain     heavy intensity rain  \n",
       "4         0          90         Mist                     mist  "
      ]
     },
     "execution_count": 26,
     "metadata": {},
     "output_type": "execute_result"
    }
   ],
   "source": [
    "test_set.head()"
   ]
  },
  {
   "cell_type": "code",
   "execution_count": 27,
   "metadata": {
    "colab": {
     "base_uri": "https://localhost:8080/"
    },
    "id": "GeNbKpYYEUx9",
    "outputId": "c3e2c981-0a34-4c22-de2c-0676f5c978aa"
   },
   "outputs": [
    {
     "data": {
      "text/plain": [
       "(14454, 14)"
      ]
     },
     "execution_count": 27,
     "metadata": {},
     "output_type": "execute_result"
    }
   ],
   "source": [
    "test_set.shape"
   ]
  },
  {
   "cell_type": "code",
   "execution_count": 28,
   "metadata": {
    "colab": {
     "base_uri": "https://localhost:8080/"
    },
    "id": "KVFQn38vE0HI",
    "outputId": "430edaba-126f-4261-861c-c8ff6547bb05"
   },
   "outputs": [
    {
     "data": {
      "text/plain": [
       "Index(['date_time', 'is_holiday', 'air_pollution_index', 'humidity',\n",
       "       'wind_speed', 'wind_direction', 'visibility_in_miles', 'dew_point',\n",
       "       'temperature', 'rain_p_h', 'snow_p_h', 'clouds_all', 'weather_type',\n",
       "       'weather_description'],\n",
       "      dtype='object')"
      ]
     },
     "execution_count": 28,
     "metadata": {},
     "output_type": "execute_result"
    }
   ],
   "source": [
    "test_set.columns"
   ]
  },
  {
   "cell_type": "code",
   "execution_count": 29,
   "metadata": {
    "id": "MNnLLKWaE3fO"
   },
   "outputs": [],
   "source": [
    "test_set=test_set.drop(['dew_point'],axis=1)"
   ]
  },
  {
   "cell_type": "code",
   "execution_count": 30,
   "metadata": {},
   "outputs": [
    {
     "data": {
      "image/png": "[encoded data removed]",
      "text/plain": [
       "<Figure size 2160x2160 with 25 Axes>"
      ]
     },
     "metadata": {
      "needs_background": "light"
     },
     "output_type": "display_data"
    }
   ],
   "source": [
    "import matplotlib.pyplot as plt\n",
    "test_set.plot(kind='box',subplots=True,layout=(5,5),figsize=(30,30))\n",
    "plt.show()"
   ]
  },
  {
   "cell_type": "code",
   "execution_count": 31,
   "metadata": {},
   "outputs": [
    {
     "data": {
      "image/png": "[encoded data removed]",
      "text/plain": [
       "<Figure size 2160x2160 with 25 Axes>"
      ]
     },
     "metadata": {
      "needs_background": "light"
     },
     "output_type": "display_data"
    }
   ],
   "source": [
    "cols = ['wind_speed', 'rain_p_h']\n",
    "\n",
    "Q1 = test_set[cols].quantile(0.25)\n",
    "Q3 = test_set[cols].quantile(0.75)\n",
    "\n",
    "IQR = Q3 - Q1\n",
    "\n",
    "test_set = test_set[~((test_set[cols] < (Q1 - 1.5 * IQR)) |(test_set[cols] > (Q3 + 1.5 * IQR))).any(axis=1)]\n",
    "test_set.plot(kind='box',subplots=True,layout=(5,5),figsize=(30,30))\n",
    "plt.show()"
   ]
  },
  {
   "cell_type": "code",
   "execution_count": 32,
   "metadata": {
    "id": "VD5I6uMxuKot"
   },
   "outputs": [
    {
     "name": "stderr",
     "output_type": "stream",
     "text": [
      "/usr/share/anaconda3/lib/python3.7/site-packages/ipykernel_launcher.py:1: SettingWithCopyWarning: \n",
      "A value is trying to be set on a copy of a slice from a DataFrame.\n",
      "Try using .loc[row_indexer,col_indexer] = value instead\n",
      "\n",
      "See the caveats in the documentation: https://pandas.pydata.org/pandas-docs/stable/user_guide/indexing.html#returning-a-view-versus-a-copy\n",
      "  \"\"\"Entry point for launching an IPython kernel.\n"
     ]
    }
   ],
   "source": [
    "test_set['date_time'] = pd.to_datetime(test_set.date_time)"
   ]
  },
  {
   "cell_type": "code",
   "execution_count": 33,
   "metadata": {
    "id": "jv29MbnVuKou"
   },
   "outputs": [
    {
     "name": "stderr",
     "output_type": "stream",
     "text": [
      "/usr/share/anaconda3/lib/python3.7/site-packages/ipykernel_launcher.py:1: SettingWithCopyWarning: \n",
      "A value is trying to be set on a copy of a slice from a DataFrame.\n",
      "Try using .loc[row_indexer,col_indexer] = value instead\n",
      "\n",
      "See the caveats in the documentation: https://pandas.pydata.org/pandas-docs/stable/user_guide/indexing.html#returning-a-view-versus-a-copy\n",
      "  \"\"\"Entry point for launching an IPython kernel.\n",
      "/usr/share/anaconda3/lib/python3.7/site-packages/ipykernel_launcher.py:2: SettingWithCopyWarning: \n",
      "A value is trying to be set on a copy of a slice from a DataFrame.\n",
      "Try using .loc[row_indexer,col_indexer] = value instead\n",
      "\n",
      "See the caveats in the documentation: https://pandas.pydata.org/pandas-docs/stable/user_guide/indexing.html#returning-a-view-versus-a-copy\n",
      "  \n",
      "/usr/share/anaconda3/lib/python3.7/site-packages/ipykernel_launcher.py:3: SettingWithCopyWarning: \n",
      "A value is trying to be set on a copy of a slice from a DataFrame.\n",
      "Try using .loc[row_indexer,col_indexer] = value instead\n",
      "\n",
      "See the caveats in the documentation: https://pandas.pydata.org/pandas-docs/stable/user_guide/indexing.html#returning-a-view-versus-a-copy\n",
      "  This is separate from the ipykernel package so we can avoid doing imports until\n",
      "/usr/share/anaconda3/lib/python3.7/site-packages/ipykernel_launcher.py:4: SettingWithCopyWarning: \n",
      "A value is trying to be set on a copy of a slice from a DataFrame.\n",
      "Try using .loc[row_indexer,col_indexer] = value instead\n",
      "\n",
      "See the caveats in the documentation: https://pandas.pydata.org/pandas-docs/stable/user_guide/indexing.html#returning-a-view-versus-a-copy\n",
      "  after removing the cwd from sys.path.\n"
     ]
    }
   ],
   "source": [
    "test_set['year'] = test_set.date_time.dt.year\n",
    "test_set['month'] = test_set.date_time.dt.month\n",
    "test_set['day'] = test_set.date_time.dt.day\n",
    "test_set['hour'] = test_set.date_time.dt.hour"
   ]
  },
  {
   "cell_type": "code",
   "execution_count": 34,
   "metadata": {
    "id": "BurHkQIPuKov"
   },
   "outputs": [],
   "source": [
    "test_copy = test_set.drop(['date_time'], axis=1)"
   ]
  },
  {
   "cell_type": "code",
   "execution_count": 35,
   "metadata": {
    "id": "EyTisMGvuKow"
   },
   "outputs": [],
   "source": [
    "\n",
    "test = pd.get_dummies(test_copy, columns=['is_holiday', 'weather_type', 'weather_description'], \n",
    "                              prefix=['is_holiday', 'weather_type', 'weather_desc'])"
   ]
  },
  {
   "cell_type": "code",
   "execution_count": 36,
   "metadata": {
    "colab": {
     "base_uri": "https://localhost:8080/",
     "height": 317
    },
    "id": "RprsDFxHAh_A",
    "outputId": "f8c68930-2f13-4404-fb87-fbbf17d4dcd6"
   },
   "outputs": [
    {
     "data": {
      "text/html": [
       "<div>\n",
       "<style scoped>\n",
       "    .dataframe tbody tr th:only-of-type {\n",
       "        vertical-align: middle;\n",
       "    }\n",
       "\n",
       "    .dataframe tbody tr th {\n",
       "        vertical-align: top;\n",
       "    }\n",
       "\n",
       "    .dataframe thead th {\n",
       "        text-align: right;\n",
       "    }\n",
       "</style>\n",
       "<table border=\"1\" class=\"dataframe\">\n",
       "  <thead>\n",
       "    <tr style=\"text-align: right;\">\n",
       "      <th></th>\n",
       "      <th>air_pollution_index</th>\n",
       "      <th>humidity</th>\n",
       "      <th>wind_speed</th>\n",
       "      <th>wind_direction</th>\n",
       "      <th>visibility_in_miles</th>\n",
       "      <th>temperature</th>\n",
       "      <th>rain_p_h</th>\n",
       "      <th>snow_p_h</th>\n",
       "      <th>clouds_all</th>\n",
       "      <th>year</th>\n",
       "      <th>...</th>\n",
       "      <th>weather_desc_shower drizzle</th>\n",
       "      <th>weather_desc_sky is clear</th>\n",
       "      <th>weather_desc_sleet</th>\n",
       "      <th>weather_desc_smoke</th>\n",
       "      <th>weather_desc_snow</th>\n",
       "      <th>weather_desc_thunderstorm</th>\n",
       "      <th>weather_desc_thunderstorm with heavy rain</th>\n",
       "      <th>weather_desc_thunderstorm with light drizzle</th>\n",
       "      <th>weather_desc_thunderstorm with light rain</th>\n",
       "      <th>weather_desc_thunderstorm with rain</th>\n",
       "    </tr>\n",
       "  </thead>\n",
       "  <tbody>\n",
       "    <tr>\n",
       "      <th>0</th>\n",
       "      <td>73</td>\n",
       "      <td>63</td>\n",
       "      <td>1</td>\n",
       "      <td>27</td>\n",
       "      <td>4</td>\n",
       "      <td>285.15</td>\n",
       "      <td>0.0</td>\n",
       "      <td>0</td>\n",
       "      <td>90</td>\n",
       "      <td>2017</td>\n",
       "      <td>...</td>\n",
       "      <td>0</td>\n",
       "      <td>0</td>\n",
       "      <td>0</td>\n",
       "      <td>0</td>\n",
       "      <td>0</td>\n",
       "      <td>0</td>\n",
       "      <td>0</td>\n",
       "      <td>0</td>\n",
       "      <td>0</td>\n",
       "      <td>0</td>\n",
       "    </tr>\n",
       "    <tr>\n",
       "      <th>1</th>\n",
       "      <td>251</td>\n",
       "      <td>63</td>\n",
       "      <td>1</td>\n",
       "      <td>27</td>\n",
       "      <td>4</td>\n",
       "      <td>285.15</td>\n",
       "      <td>0.0</td>\n",
       "      <td>0</td>\n",
       "      <td>90</td>\n",
       "      <td>2017</td>\n",
       "      <td>...</td>\n",
       "      <td>0</td>\n",
       "      <td>0</td>\n",
       "      <td>0</td>\n",
       "      <td>0</td>\n",
       "      <td>0</td>\n",
       "      <td>0</td>\n",
       "      <td>0</td>\n",
       "      <td>0</td>\n",
       "      <td>0</td>\n",
       "      <td>0</td>\n",
       "    </tr>\n",
       "    <tr>\n",
       "      <th>2</th>\n",
       "      <td>75</td>\n",
       "      <td>56</td>\n",
       "      <td>1</td>\n",
       "      <td>0</td>\n",
       "      <td>1</td>\n",
       "      <td>285.15</td>\n",
       "      <td>0.0</td>\n",
       "      <td>0</td>\n",
       "      <td>90</td>\n",
       "      <td>2017</td>\n",
       "      <td>...</td>\n",
       "      <td>0</td>\n",
       "      <td>0</td>\n",
       "      <td>0</td>\n",
       "      <td>0</td>\n",
       "      <td>0</td>\n",
       "      <td>0</td>\n",
       "      <td>0</td>\n",
       "      <td>0</td>\n",
       "      <td>0</td>\n",
       "      <td>0</td>\n",
       "    </tr>\n",
       "    <tr>\n",
       "      <th>3</th>\n",
       "      <td>98</td>\n",
       "      <td>56</td>\n",
       "      <td>1</td>\n",
       "      <td>351</td>\n",
       "      <td>2</td>\n",
       "      <td>284.79</td>\n",
       "      <td>0.0</td>\n",
       "      <td>0</td>\n",
       "      <td>90</td>\n",
       "      <td>2017</td>\n",
       "      <td>...</td>\n",
       "      <td>0</td>\n",
       "      <td>0</td>\n",
       "      <td>0</td>\n",
       "      <td>0</td>\n",
       "      <td>0</td>\n",
       "      <td>0</td>\n",
       "      <td>0</td>\n",
       "      <td>0</td>\n",
       "      <td>0</td>\n",
       "      <td>0</td>\n",
       "    </tr>\n",
       "    <tr>\n",
       "      <th>4</th>\n",
       "      <td>283</td>\n",
       "      <td>56</td>\n",
       "      <td>1</td>\n",
       "      <td>351</td>\n",
       "      <td>1</td>\n",
       "      <td>284.79</td>\n",
       "      <td>0.0</td>\n",
       "      <td>0</td>\n",
       "      <td>90</td>\n",
       "      <td>2017</td>\n",
       "      <td>...</td>\n",
       "      <td>0</td>\n",
       "      <td>0</td>\n",
       "      <td>0</td>\n",
       "      <td>0</td>\n",
       "      <td>0</td>\n",
       "      <td>0</td>\n",
       "      <td>0</td>\n",
       "      <td>0</td>\n",
       "      <td>0</td>\n",
       "      <td>0</td>\n",
       "    </tr>\n",
       "  </tbody>\n",
       "</table>\n",
       "<p>5 rows × 67 columns</p>\n",
       "</div>"
      ],
      "text/plain": [
       "   air_pollution_index  humidity  wind_speed  wind_direction  \\\n",
       "0                   73        63           1              27   \n",
       "1                  251        63           1              27   \n",
       "2                   75        56           1               0   \n",
       "3                   98        56           1             351   \n",
       "4                  283        56           1             351   \n",
       "\n",
       "   visibility_in_miles  temperature  rain_p_h  snow_p_h  clouds_all  year  \\\n",
       "0                    4       285.15       0.0         0          90  2017   \n",
       "1                    4       285.15       0.0         0          90  2017   \n",
       "2                    1       285.15       0.0         0          90  2017   \n",
       "3                    2       284.79       0.0         0          90  2017   \n",
       "4                    1       284.79       0.0         0          90  2017   \n",
       "\n",
       "   ...  weather_desc_shower drizzle  weather_desc_sky is clear  \\\n",
       "0  ...                            0                          0   \n",
       "1  ...                            0                          0   \n",
       "2  ...                            0                          0   \n",
       "3  ...                            0                          0   \n",
       "4  ...                            0                          0   \n",
       "\n",
       "   weather_desc_sleet  weather_desc_smoke  weather_desc_snow  \\\n",
       "0                   0                   0                  0   \n",
       "1                   0                   0                  0   \n",
       "2                   0                   0                  0   \n",
       "3                   0                   0                  0   \n",
       "4                   0                   0                  0   \n",
       "\n",
       "   weather_desc_thunderstorm  weather_desc_thunderstorm with heavy rain  \\\n",
       "0                          0                                          0   \n",
       "1                          0                                          0   \n",
       "2                          0                                          0   \n",
       "3                          0                                          0   \n",
       "4                          0                                          0   \n",
       "\n",
       "   weather_desc_thunderstorm with light drizzle  \\\n",
       "0                                             0   \n",
       "1                                             0   \n",
       "2                                             0   \n",
       "3                                             0   \n",
       "4                                             0   \n",
       "\n",
       "   weather_desc_thunderstorm with light rain  \\\n",
       "0                                          0   \n",
       "1                                          0   \n",
       "2                                          0   \n",
       "3                                          0   \n",
       "4                                          0   \n",
       "\n",
       "   weather_desc_thunderstorm with rain  \n",
       "0                                    0  \n",
       "1                                    0  \n",
       "2                                    0  \n",
       "3                                    0  \n",
       "4                                    0  \n",
       "\n",
       "[5 rows x 67 columns]"
      ]
     },
     "execution_count": 36,
     "metadata": {},
     "output_type": "execute_result"
    }
   ],
   "source": [
    "test.head()"
   ]
  },
  {
   "cell_type": "code",
   "execution_count": 37,
   "metadata": {
    "colab": {
     "base_uri": "https://localhost:8080/"
    },
    "id": "V7l-qUveuKox",
    "outputId": "07a30783-160d-41c9-a001-0a5af252abaa"
   },
   "outputs": [
    {
     "name": "stdout",
     "output_type": "stream",
     "text": [
      "68\n",
      "33380\n"
     ]
    }
   ],
   "source": [
    "print(len(train.columns))\n",
    "print(len(train))"
   ]
  },
  {
   "cell_type": "code",
   "execution_count": 38,
   "metadata": {
    "colab": {
     "base_uri": "https://localhost:8080/"
    },
    "id": "IuwGX7N8uKoy",
    "outputId": "fd16ff61-a1ae-4d6c-cc20-2e097b12066f"
   },
   "outputs": [
    {
     "name": "stdout",
     "output_type": "stream",
     "text": [
      "67\n",
      "13666\n"
     ]
    }
   ],
   "source": [
    "print(len(test.columns))\n",
    "print(len(test))"
   ]
  },
  {
   "cell_type": "code",
   "execution_count": 39,
   "metadata": {
    "colab": {
     "base_uri": "https://localhost:8080/",
     "height": 317
    },
    "id": "alZlmKK6uKo2",
    "outputId": "9d15b926-ed7a-4e4f-84f6-c5d47e37ce4c"
   },
   "outputs": [
    {
     "data": {
      "text/html": [
       "<div>\n",
       "<style scoped>\n",
       "    .dataframe tbody tr th:only-of-type {\n",
       "        vertical-align: middle;\n",
       "    }\n",
       "\n",
       "    .dataframe tbody tr th {\n",
       "        vertical-align: top;\n",
       "    }\n",
       "\n",
       "    .dataframe thead th {\n",
       "        text-align: right;\n",
       "    }\n",
       "</style>\n",
       "<table border=\"1\" class=\"dataframe\">\n",
       "  <thead>\n",
       "    <tr style=\"text-align: right;\">\n",
       "      <th></th>\n",
       "      <th>air_pollution_index</th>\n",
       "      <th>humidity</th>\n",
       "      <th>wind_speed</th>\n",
       "      <th>wind_direction</th>\n",
       "      <th>visibility_in_miles</th>\n",
       "      <th>temperature</th>\n",
       "      <th>rain_p_h</th>\n",
       "      <th>snow_p_h</th>\n",
       "      <th>clouds_all</th>\n",
       "      <th>year</th>\n",
       "      <th>...</th>\n",
       "      <th>weather_desc_shower drizzle</th>\n",
       "      <th>weather_desc_sky is clear</th>\n",
       "      <th>weather_desc_sleet</th>\n",
       "      <th>weather_desc_smoke</th>\n",
       "      <th>weather_desc_snow</th>\n",
       "      <th>weather_desc_thunderstorm</th>\n",
       "      <th>weather_desc_thunderstorm with heavy rain</th>\n",
       "      <th>weather_desc_thunderstorm with light drizzle</th>\n",
       "      <th>weather_desc_thunderstorm with light rain</th>\n",
       "      <th>weather_desc_thunderstorm with rain</th>\n",
       "    </tr>\n",
       "  </thead>\n",
       "  <tbody>\n",
       "    <tr>\n",
       "      <th>0</th>\n",
       "      <td>73</td>\n",
       "      <td>63</td>\n",
       "      <td>1</td>\n",
       "      <td>27</td>\n",
       "      <td>4</td>\n",
       "      <td>285.15</td>\n",
       "      <td>0.0</td>\n",
       "      <td>0</td>\n",
       "      <td>90</td>\n",
       "      <td>2017</td>\n",
       "      <td>...</td>\n",
       "      <td>0</td>\n",
       "      <td>0</td>\n",
       "      <td>0</td>\n",
       "      <td>0</td>\n",
       "      <td>0</td>\n",
       "      <td>0</td>\n",
       "      <td>0</td>\n",
       "      <td>0</td>\n",
       "      <td>0</td>\n",
       "      <td>0</td>\n",
       "    </tr>\n",
       "    <tr>\n",
       "      <th>1</th>\n",
       "      <td>251</td>\n",
       "      <td>63</td>\n",
       "      <td>1</td>\n",
       "      <td>27</td>\n",
       "      <td>4</td>\n",
       "      <td>285.15</td>\n",
       "      <td>0.0</td>\n",
       "      <td>0</td>\n",
       "      <td>90</td>\n",
       "      <td>2017</td>\n",
       "      <td>...</td>\n",
       "      <td>0</td>\n",
       "      <td>0</td>\n",
       "      <td>0</td>\n",
       "      <td>0</td>\n",
       "      <td>0</td>\n",
       "      <td>0</td>\n",
       "      <td>0</td>\n",
       "      <td>0</td>\n",
       "      <td>0</td>\n",
       "      <td>0</td>\n",
       "    </tr>\n",
       "    <tr>\n",
       "      <th>2</th>\n",
       "      <td>75</td>\n",
       "      <td>56</td>\n",
       "      <td>1</td>\n",
       "      <td>0</td>\n",
       "      <td>1</td>\n",
       "      <td>285.15</td>\n",
       "      <td>0.0</td>\n",
       "      <td>0</td>\n",
       "      <td>90</td>\n",
       "      <td>2017</td>\n",
       "      <td>...</td>\n",
       "      <td>0</td>\n",
       "      <td>0</td>\n",
       "      <td>0</td>\n",
       "      <td>0</td>\n",
       "      <td>0</td>\n",
       "      <td>0</td>\n",
       "      <td>0</td>\n",
       "      <td>0</td>\n",
       "      <td>0</td>\n",
       "      <td>0</td>\n",
       "    </tr>\n",
       "    <tr>\n",
       "      <th>3</th>\n",
       "      <td>98</td>\n",
       "      <td>56</td>\n",
       "      <td>1</td>\n",
       "      <td>351</td>\n",
       "      <td>2</td>\n",
       "      <td>284.79</td>\n",
       "      <td>0.0</td>\n",
       "      <td>0</td>\n",
       "      <td>90</td>\n",
       "      <td>2017</td>\n",
       "      <td>...</td>\n",
       "      <td>0</td>\n",
       "      <td>0</td>\n",
       "      <td>0</td>\n",
       "      <td>0</td>\n",
       "      <td>0</td>\n",
       "      <td>0</td>\n",
       "      <td>0</td>\n",
       "      <td>0</td>\n",
       "      <td>0</td>\n",
       "      <td>0</td>\n",
       "    </tr>\n",
       "    <tr>\n",
       "      <th>4</th>\n",
       "      <td>283</td>\n",
       "      <td>56</td>\n",
       "      <td>1</td>\n",
       "      <td>351</td>\n",
       "      <td>1</td>\n",
       "      <td>284.79</td>\n",
       "      <td>0.0</td>\n",
       "      <td>0</td>\n",
       "      <td>90</td>\n",
       "      <td>2017</td>\n",
       "      <td>...</td>\n",
       "      <td>0</td>\n",
       "      <td>0</td>\n",
       "      <td>0</td>\n",
       "      <td>0</td>\n",
       "      <td>0</td>\n",
       "      <td>0</td>\n",
       "      <td>0</td>\n",
       "      <td>0</td>\n",
       "      <td>0</td>\n",
       "      <td>0</td>\n",
       "    </tr>\n",
       "  </tbody>\n",
       "</table>\n",
       "<p>5 rows × 67 columns</p>\n",
       "</div>"
      ],
      "text/plain": [
       "   air_pollution_index  humidity  wind_speed  wind_direction  \\\n",
       "0                   73        63           1              27   \n",
       "1                  251        63           1              27   \n",
       "2                   75        56           1               0   \n",
       "3                   98        56           1             351   \n",
       "4                  283        56           1             351   \n",
       "\n",
       "   visibility_in_miles  temperature  rain_p_h  snow_p_h  clouds_all  year  \\\n",
       "0                    4       285.15       0.0         0          90  2017   \n",
       "1                    4       285.15       0.0         0          90  2017   \n",
       "2                    1       285.15       0.0         0          90  2017   \n",
       "3                    2       284.79       0.0         0          90  2017   \n",
       "4                    1       284.79       0.0         0          90  2017   \n",
       "\n",
       "   ...  weather_desc_shower drizzle  weather_desc_sky is clear  \\\n",
       "0  ...                            0                          0   \n",
       "1  ...                            0                          0   \n",
       "2  ...                            0                          0   \n",
       "3  ...                            0                          0   \n",
       "4  ...                            0                          0   \n",
       "\n",
       "   weather_desc_sleet  weather_desc_smoke  weather_desc_snow  \\\n",
       "0                   0                   0                  0   \n",
       "1                   0                   0                  0   \n",
       "2                   0                   0                  0   \n",
       "3                   0                   0                  0   \n",
       "4                   0                   0                  0   \n",
       "\n",
       "   weather_desc_thunderstorm  weather_desc_thunderstorm with heavy rain  \\\n",
       "0                          0                                          0   \n",
       "1                          0                                          0   \n",
       "2                          0                                          0   \n",
       "3                          0                                          0   \n",
       "4                          0                                          0   \n",
       "\n",
       "   weather_desc_thunderstorm with light drizzle  \\\n",
       "0                                             0   \n",
       "1                                             0   \n",
       "2                                             0   \n",
       "3                                             0   \n",
       "4                                             0   \n",
       "\n",
       "   weather_desc_thunderstorm with light rain  \\\n",
       "0                                          0   \n",
       "1                                          0   \n",
       "2                                          0   \n",
       "3                                          0   \n",
       "4                                          0   \n",
       "\n",
       "   weather_desc_thunderstorm with rain  \n",
       "0                                    0  \n",
       "1                                    0  \n",
       "2                                    0  \n",
       "3                                    0  \n",
       "4                                    0  \n",
       "\n",
       "[5 rows x 67 columns]"
      ]
     },
     "execution_count": 39,
     "metadata": {},
     "output_type": "execute_result"
    }
   ],
   "source": [
    "\n",
    "test.head()"
   ]
  },
  {
   "cell_type": "code",
   "execution_count": 40,
   "metadata": {},
   "outputs": [],
   "source": [
    "# from sklearn.preprocessing import MinMaxScaler\n",
    "# scaler=MinMaxScaler()\n",
    "# pred_test=scaler.fit_transform(test)"
   ]
  },
  {
   "cell_type": "code",
   "execution_count": 41,
   "metadata": {},
   "outputs": [],
   "source": [
    "def min_max_scaler(test):\n",
    "   \n",
    "    # Compute the minimum and maximum values for each column of x\n",
    "    test_min = np.min(test, axis=0)\n",
    "    test_max = np.max(test, axis=0)\n",
    "    \n",
    "    # Scale each column of x to the range [0, 1]\n",
    "    test_scaled = (test - test_min) / (test_max - test_min)\n",
    "    \n",
    "    return test_scaled\n",
    "test_scaled = min_max_scaler(test)"
   ]
  },
  {
   "cell_type": "code",
   "execution_count": 42,
   "metadata": {},
   "outputs": [
    {
     "data": {
      "text/html": [
       "<div>\n",
       "<style scoped>\n",
       "    .dataframe tbody tr th:only-of-type {\n",
       "        vertical-align: middle;\n",
       "    }\n",
       "\n",
       "    .dataframe tbody tr th {\n",
       "        vertical-align: top;\n",
       "    }\n",
       "\n",
       "    .dataframe thead th {\n",
       "        text-align: right;\n",
       "    }\n",
       "</style>\n",
       "<table border=\"1\" class=\"dataframe\">\n",
       "  <thead>\n",
       "    <tr style=\"text-align: right;\">\n",
       "      <th></th>\n",
       "      <th>air_pollution_index</th>\n",
       "      <th>humidity</th>\n",
       "      <th>wind_speed</th>\n",
       "      <th>wind_direction</th>\n",
       "      <th>visibility_in_miles</th>\n",
       "      <th>temperature</th>\n",
       "      <th>rain_p_h</th>\n",
       "      <th>snow_p_h</th>\n",
       "      <th>clouds_all</th>\n",
       "      <th>year</th>\n",
       "      <th>...</th>\n",
       "      <th>weather_desc_shower drizzle</th>\n",
       "      <th>weather_desc_sky is clear</th>\n",
       "      <th>weather_desc_sleet</th>\n",
       "      <th>weather_desc_smoke</th>\n",
       "      <th>weather_desc_snow</th>\n",
       "      <th>weather_desc_thunderstorm</th>\n",
       "      <th>weather_desc_thunderstorm with heavy rain</th>\n",
       "      <th>weather_desc_thunderstorm with light drizzle</th>\n",
       "      <th>weather_desc_thunderstorm with light rain</th>\n",
       "      <th>weather_desc_thunderstorm with rain</th>\n",
       "    </tr>\n",
       "  </thead>\n",
       "  <tbody>\n",
       "    <tr>\n",
       "      <th>0</th>\n",
       "      <td>0.217993</td>\n",
       "      <td>0.588889</td>\n",
       "      <td>0.111111</td>\n",
       "      <td>0.075</td>\n",
       "      <td>0.375</td>\n",
       "      <td>0.610138</td>\n",
       "      <td>NaN</td>\n",
       "      <td>NaN</td>\n",
       "      <td>0.978261</td>\n",
       "      <td>0.0</td>\n",
       "      <td>...</td>\n",
       "      <td>0.0</td>\n",
       "      <td>0.0</td>\n",
       "      <td>0.0</td>\n",
       "      <td>0.0</td>\n",
       "      <td>0.0</td>\n",
       "      <td>0.0</td>\n",
       "      <td>0.0</td>\n",
       "      <td>0.0</td>\n",
       "      <td>0.0</td>\n",
       "      <td>0.0</td>\n",
       "    </tr>\n",
       "    <tr>\n",
       "      <th>1</th>\n",
       "      <td>0.833910</td>\n",
       "      <td>0.588889</td>\n",
       "      <td>0.111111</td>\n",
       "      <td>0.075</td>\n",
       "      <td>0.375</td>\n",
       "      <td>0.610138</td>\n",
       "      <td>NaN</td>\n",
       "      <td>NaN</td>\n",
       "      <td>0.978261</td>\n",
       "      <td>0.0</td>\n",
       "      <td>...</td>\n",
       "      <td>0.0</td>\n",
       "      <td>0.0</td>\n",
       "      <td>0.0</td>\n",
       "      <td>0.0</td>\n",
       "      <td>0.0</td>\n",
       "      <td>0.0</td>\n",
       "      <td>0.0</td>\n",
       "      <td>0.0</td>\n",
       "      <td>0.0</td>\n",
       "      <td>0.0</td>\n",
       "    </tr>\n",
       "    <tr>\n",
       "      <th>2</th>\n",
       "      <td>0.224913</td>\n",
       "      <td>0.511111</td>\n",
       "      <td>0.111111</td>\n",
       "      <td>0.000</td>\n",
       "      <td>0.000</td>\n",
       "      <td>0.610138</td>\n",
       "      <td>NaN</td>\n",
       "      <td>NaN</td>\n",
       "      <td>0.978261</td>\n",
       "      <td>0.0</td>\n",
       "      <td>...</td>\n",
       "      <td>0.0</td>\n",
       "      <td>0.0</td>\n",
       "      <td>0.0</td>\n",
       "      <td>0.0</td>\n",
       "      <td>0.0</td>\n",
       "      <td>0.0</td>\n",
       "      <td>0.0</td>\n",
       "      <td>0.0</td>\n",
       "      <td>0.0</td>\n",
       "      <td>0.0</td>\n",
       "    </tr>\n",
       "    <tr>\n",
       "      <th>3</th>\n",
       "      <td>0.304498</td>\n",
       "      <td>0.511111</td>\n",
       "      <td>0.111111</td>\n",
       "      <td>0.975</td>\n",
       "      <td>0.125</td>\n",
       "      <td>0.604506</td>\n",
       "      <td>NaN</td>\n",
       "      <td>NaN</td>\n",
       "      <td>0.978261</td>\n",
       "      <td>0.0</td>\n",
       "      <td>...</td>\n",
       "      <td>0.0</td>\n",
       "      <td>0.0</td>\n",
       "      <td>0.0</td>\n",
       "      <td>0.0</td>\n",
       "      <td>0.0</td>\n",
       "      <td>0.0</td>\n",
       "      <td>0.0</td>\n",
       "      <td>0.0</td>\n",
       "      <td>0.0</td>\n",
       "      <td>0.0</td>\n",
       "    </tr>\n",
       "    <tr>\n",
       "      <th>4</th>\n",
       "      <td>0.944637</td>\n",
       "      <td>0.511111</td>\n",
       "      <td>0.111111</td>\n",
       "      <td>0.975</td>\n",
       "      <td>0.000</td>\n",
       "      <td>0.604506</td>\n",
       "      <td>NaN</td>\n",
       "      <td>NaN</td>\n",
       "      <td>0.978261</td>\n",
       "      <td>0.0</td>\n",
       "      <td>...</td>\n",
       "      <td>0.0</td>\n",
       "      <td>0.0</td>\n",
       "      <td>0.0</td>\n",
       "      <td>0.0</td>\n",
       "      <td>0.0</td>\n",
       "      <td>0.0</td>\n",
       "      <td>0.0</td>\n",
       "      <td>0.0</td>\n",
       "      <td>0.0</td>\n",
       "      <td>0.0</td>\n",
       "    </tr>\n",
       "  </tbody>\n",
       "</table>\n",
       "<p>5 rows × 67 columns</p>\n",
       "</div>"
      ],
      "text/plain": [
       "   air_pollution_index  humidity  wind_speed  wind_direction  \\\n",
       "0             0.217993  0.588889    0.111111           0.075   \n",
       "1             0.833910  0.588889    0.111111           0.075   \n",
       "2             0.224913  0.511111    0.111111           0.000   \n",
       "3             0.304498  0.511111    0.111111           0.975   \n",
       "4             0.944637  0.511111    0.111111           0.975   \n",
       "\n",
       "   visibility_in_miles  temperature  rain_p_h  snow_p_h  clouds_all  year  \\\n",
       "0                0.375     0.610138       NaN       NaN    0.978261   0.0   \n",
       "1                0.375     0.610138       NaN       NaN    0.978261   0.0   \n",
       "2                0.000     0.610138       NaN       NaN    0.978261   0.0   \n",
       "3                0.125     0.604506       NaN       NaN    0.978261   0.0   \n",
       "4                0.000     0.604506       NaN       NaN    0.978261   0.0   \n",
       "\n",
       "   ...  weather_desc_shower drizzle  weather_desc_sky is clear  \\\n",
       "0  ...                          0.0                        0.0   \n",
       "1  ...                          0.0                        0.0   \n",
       "2  ...                          0.0                        0.0   \n",
       "3  ...                          0.0                        0.0   \n",
       "4  ...                          0.0                        0.0   \n",
       "\n",
       "   weather_desc_sleet  weather_desc_smoke  weather_desc_snow  \\\n",
       "0                 0.0                 0.0                0.0   \n",
       "1                 0.0                 0.0                0.0   \n",
       "2                 0.0                 0.0                0.0   \n",
       "3                 0.0                 0.0                0.0   \n",
       "4                 0.0                 0.0                0.0   \n",
       "\n",
       "   weather_desc_thunderstorm  weather_desc_thunderstorm with heavy rain  \\\n",
       "0                        0.0                                        0.0   \n",
       "1                        0.0                                        0.0   \n",
       "2                        0.0                                        0.0   \n",
       "3                        0.0                                        0.0   \n",
       "4                        0.0                                        0.0   \n",
       "\n",
       "   weather_desc_thunderstorm with light drizzle  \\\n",
       "0                                           0.0   \n",
       "1                                           0.0   \n",
       "2                                           0.0   \n",
       "3                                           0.0   \n",
       "4                                           0.0   \n",
       "\n",
       "   weather_desc_thunderstorm with light rain  \\\n",
       "0                                        0.0   \n",
       "1                                        0.0   \n",
       "2                                        0.0   \n",
       "3                                        0.0   \n",
       "4                                        0.0   \n",
       "\n",
       "   weather_desc_thunderstorm with rain  \n",
       "0                                  0.0  \n",
       "1                                  0.0  \n",
       "2                                  0.0  \n",
       "3                                  0.0  \n",
       "4                                  0.0  \n",
       "\n",
       "[5 rows x 67 columns]"
      ]
     },
     "execution_count": 42,
     "metadata": {},
     "output_type": "execute_result"
    }
   ],
   "source": [
    "test_scaled.head()"
   ]
  },
  {
   "cell_type": "code",
   "execution_count": 43,
   "metadata": {},
   "outputs": [
    {
     "data": {
      "text/plain": [
       "array([[0.21799308, 0.58888889, 0.11111111, ..., 0.        , 0.        ,\n",
       "        0.        ],\n",
       "       [0.83391003, 0.58888889, 0.11111111, ..., 0.        , 0.        ,\n",
       "        0.        ],\n",
       "       [0.22491349, 0.51111111, 0.11111111, ..., 0.        , 0.        ,\n",
       "        0.        ],\n",
       "       ...,\n",
       "       [0.56401384, 0.58888889, 0.44444444, ..., 0.        , 0.        ,\n",
       "        0.        ],\n",
       "       [0.03806228, 0.52222222, 0.88888889, ..., 0.        , 0.        ,\n",
       "        0.        ],\n",
       "       [0.36678201, 0.66666667, 0.88888889, ..., 0.        , 0.        ,\n",
       "        0.        ]])"
      ]
     },
     "execution_count": 43,
     "metadata": {},
     "output_type": "execute_result"
    }
   ],
   "source": [
    "pred_test=test_scaled.values\n",
    "pred_test"
   ]
  },
  {
   "cell_type": "markdown",
   "metadata": {
    "id": "EK6UgStzuKo2"
   },
   "source": [
    "**Train and Test data**"
   ]
  },
  {
   "cell_type": "markdown",
   "metadata": {
    "id": "BzAX5aA4gA7o"
   },
   "source": [
    "<a id=\"ch6\"></a>\n",
    "## Scaling and train test split\n",
    "<hr/>\n",
    "Now we are ready to train a model and predict the required solution. There are 60+ predictive modelling algorithms to choose from. We must understand the type of problem and solution requirement to narrow down to a select few models which we can evaluate. Our problem is a mean squared error regression problem. We are also performing a category of machine learning which is called supervised learning as we are training our model with a given dataset.\n",
    "\n",
    "## 1 Here we split the data into train data, test data "
   ]
  },
  {
   "cell_type": "code",
   "execution_count": 44,
   "metadata": {
    "id": "dhANbEDuuKo4"
   },
   "outputs": [],
   "source": [
    "y = train['traffic_volume']\n",
    "x = train.drop(['traffic_volume'], axis=1)"
   ]
  },
  {
   "cell_type": "markdown",
   "metadata": {
    "id": "dxzpLYZGgSpr"
   },
   "source": [
    "### Normalizing / scaling the data\n",
    "We scale the feature data. To prevent data leakage from the test set, we only fit our scaler to the training set."
   ]
  },
  {
   "cell_type": "code",
   "execution_count": 45,
   "metadata": {
    "id": "C-lE4JZN9fOV"
   },
   "outputs": [],
   "source": [
    "# from sklearn.preprocessing import MinMaxScaler\n",
    "# scaler=MinMaxScaler()\n",
    "# x=scaler.fit_transform(x)\n"
   ]
  },
  {
   "cell_type": "code",
   "execution_count": 46,
   "metadata": {},
   "outputs": [],
   "source": [
    "def min_max_scaler(x):\n",
    "   \n",
    "    # Compute the minimum and maximum values for each column of x\n",
    "    x_min = np.min(x, axis=0)\n",
    "    x_max = np.max(x, axis=0)\n",
    "    \n",
    "    # Scale each column of x to the range [0, 1]\n",
    "    x_scaled = (x - x_min) / (x_max - x_min)\n",
    "    \n",
    "    return x_scaled"
   ]
  },
  {
   "cell_type": "code",
   "execution_count": 47,
   "metadata": {},
   "outputs": [],
   "source": [
    "x_scaled = min_max_scaler(x)"
   ]
  },
  {
   "cell_type": "code",
   "execution_count": 48,
   "metadata": {},
   "outputs": [
    {
     "data": {
      "text/html": [
       "<div>\n",
       "<style scoped>\n",
       "    .dataframe tbody tr th:only-of-type {\n",
       "        vertical-align: middle;\n",
       "    }\n",
       "\n",
       "    .dataframe tbody tr th {\n",
       "        vertical-align: top;\n",
       "    }\n",
       "\n",
       "    .dataframe thead th {\n",
       "        text-align: right;\n",
       "    }\n",
       "</style>\n",
       "<table border=\"1\" class=\"dataframe\">\n",
       "  <thead>\n",
       "    <tr style=\"text-align: right;\">\n",
       "      <th></th>\n",
       "      <th>air_pollution_index</th>\n",
       "      <th>humidity</th>\n",
       "      <th>wind_speed</th>\n",
       "      <th>wind_direction</th>\n",
       "      <th>visibility_in_miles</th>\n",
       "      <th>temperature</th>\n",
       "      <th>rain_p_h</th>\n",
       "      <th>snow_p_h</th>\n",
       "      <th>clouds_all</th>\n",
       "      <th>year</th>\n",
       "      <th>...</th>\n",
       "      <th>weather_desc_shower drizzle</th>\n",
       "      <th>weather_desc_sky is clear</th>\n",
       "      <th>weather_desc_sleet</th>\n",
       "      <th>weather_desc_smoke</th>\n",
       "      <th>weather_desc_snow</th>\n",
       "      <th>weather_desc_thunderstorm</th>\n",
       "      <th>weather_desc_thunderstorm with heavy rain</th>\n",
       "      <th>weather_desc_thunderstorm with light drizzle</th>\n",
       "      <th>weather_desc_thunderstorm with light rain</th>\n",
       "      <th>weather_desc_thunderstorm with rain</th>\n",
       "    </tr>\n",
       "  </thead>\n",
       "  <tbody>\n",
       "    <tr>\n",
       "      <th>0</th>\n",
       "      <td>0.384083</td>\n",
       "      <td>0.857143</td>\n",
       "      <td>0.222222</td>\n",
       "      <td>0.913889</td>\n",
       "      <td>0.000</td>\n",
       "      <td>0.935245</td>\n",
       "      <td>0.0</td>\n",
       "      <td>NaN</td>\n",
       "      <td>0.40</td>\n",
       "      <td>0.0</td>\n",
       "      <td>...</td>\n",
       "      <td>0.0</td>\n",
       "      <td>0.0</td>\n",
       "      <td>0.0</td>\n",
       "      <td>0.0</td>\n",
       "      <td>0.0</td>\n",
       "      <td>0.0</td>\n",
       "      <td>0.0</td>\n",
       "      <td>0.0</td>\n",
       "      <td>0.0</td>\n",
       "      <td>0.0</td>\n",
       "    </tr>\n",
       "    <tr>\n",
       "      <th>1</th>\n",
       "      <td>0.581315</td>\n",
       "      <td>0.571429</td>\n",
       "      <td>0.333333</td>\n",
       "      <td>0.916667</td>\n",
       "      <td>0.000</td>\n",
       "      <td>0.938749</td>\n",
       "      <td>0.0</td>\n",
       "      <td>NaN</td>\n",
       "      <td>0.75</td>\n",
       "      <td>0.0</td>\n",
       "      <td>...</td>\n",
       "      <td>0.0</td>\n",
       "      <td>0.0</td>\n",
       "      <td>0.0</td>\n",
       "      <td>0.0</td>\n",
       "      <td>0.0</td>\n",
       "      <td>0.0</td>\n",
       "      <td>0.0</td>\n",
       "      <td>0.0</td>\n",
       "      <td>0.0</td>\n",
       "      <td>0.0</td>\n",
       "    </tr>\n",
       "    <tr>\n",
       "      <th>2</th>\n",
       "      <td>0.356401</td>\n",
       "      <td>0.558442</td>\n",
       "      <td>0.333333</td>\n",
       "      <td>0.913889</td>\n",
       "      <td>0.125</td>\n",
       "      <td>0.939463</td>\n",
       "      <td>0.0</td>\n",
       "      <td>NaN</td>\n",
       "      <td>0.90</td>\n",
       "      <td>0.0</td>\n",
       "      <td>...</td>\n",
       "      <td>0.0</td>\n",
       "      <td>0.0</td>\n",
       "      <td>0.0</td>\n",
       "      <td>0.0</td>\n",
       "      <td>0.0</td>\n",
       "      <td>0.0</td>\n",
       "      <td>0.0</td>\n",
       "      <td>0.0</td>\n",
       "      <td>0.0</td>\n",
       "      <td>0.0</td>\n",
       "    </tr>\n",
       "    <tr>\n",
       "      <th>3</th>\n",
       "      <td>0.034602</td>\n",
       "      <td>0.558442</td>\n",
       "      <td>0.333333</td>\n",
       "      <td>0.913889</td>\n",
       "      <td>0.500</td>\n",
       "      <td>0.941247</td>\n",
       "      <td>0.0</td>\n",
       "      <td>NaN</td>\n",
       "      <td>0.90</td>\n",
       "      <td>0.0</td>\n",
       "      <td>...</td>\n",
       "      <td>0.0</td>\n",
       "      <td>0.0</td>\n",
       "      <td>0.0</td>\n",
       "      <td>0.0</td>\n",
       "      <td>0.0</td>\n",
       "      <td>0.0</td>\n",
       "      <td>0.0</td>\n",
       "      <td>0.0</td>\n",
       "      <td>0.0</td>\n",
       "      <td>0.0</td>\n",
       "    </tr>\n",
       "    <tr>\n",
       "      <th>4</th>\n",
       "      <td>0.937716</td>\n",
       "      <td>0.545455</td>\n",
       "      <td>0.333333</td>\n",
       "      <td>0.913889</td>\n",
       "      <td>0.750</td>\n",
       "      <td>0.944524</td>\n",
       "      <td>0.0</td>\n",
       "      <td>NaN</td>\n",
       "      <td>0.75</td>\n",
       "      <td>0.0</td>\n",
       "      <td>...</td>\n",
       "      <td>0.0</td>\n",
       "      <td>0.0</td>\n",
       "      <td>0.0</td>\n",
       "      <td>0.0</td>\n",
       "      <td>0.0</td>\n",
       "      <td>0.0</td>\n",
       "      <td>0.0</td>\n",
       "      <td>0.0</td>\n",
       "      <td>0.0</td>\n",
       "      <td>0.0</td>\n",
       "    </tr>\n",
       "  </tbody>\n",
       "</table>\n",
       "<p>5 rows × 67 columns</p>\n",
       "</div>"
      ],
      "text/plain": [
       "   air_pollution_index  humidity  wind_speed  wind_direction  \\\n",
       "0             0.384083  0.857143    0.222222        0.913889   \n",
       "1             0.581315  0.571429    0.333333        0.916667   \n",
       "2             0.356401  0.558442    0.333333        0.913889   \n",
       "3             0.034602  0.558442    0.333333        0.913889   \n",
       "4             0.937716  0.545455    0.333333        0.913889   \n",
       "\n",
       "   visibility_in_miles  temperature  rain_p_h  snow_p_h  clouds_all  year  \\\n",
       "0                0.000     0.935245       0.0       NaN        0.40   0.0   \n",
       "1                0.000     0.938749       0.0       NaN        0.75   0.0   \n",
       "2                0.125     0.939463       0.0       NaN        0.90   0.0   \n",
       "3                0.500     0.941247       0.0       NaN        0.90   0.0   \n",
       "4                0.750     0.944524       0.0       NaN        0.75   0.0   \n",
       "\n",
       "   ...  weather_desc_shower drizzle  weather_desc_sky is clear  \\\n",
       "0  ...                          0.0                        0.0   \n",
       "1  ...                          0.0                        0.0   \n",
       "2  ...                          0.0                        0.0   \n",
       "3  ...                          0.0                        0.0   \n",
       "4  ...                          0.0                        0.0   \n",
       "\n",
       "   weather_desc_sleet  weather_desc_smoke  weather_desc_snow  \\\n",
       "0                 0.0                 0.0                0.0   \n",
       "1                 0.0                 0.0                0.0   \n",
       "2                 0.0                 0.0                0.0   \n",
       "3                 0.0                 0.0                0.0   \n",
       "4                 0.0                 0.0                0.0   \n",
       "\n",
       "   weather_desc_thunderstorm  weather_desc_thunderstorm with heavy rain  \\\n",
       "0                        0.0                                        0.0   \n",
       "1                        0.0                                        0.0   \n",
       "2                        0.0                                        0.0   \n",
       "3                        0.0                                        0.0   \n",
       "4                        0.0                                        0.0   \n",
       "\n",
       "   weather_desc_thunderstorm with light drizzle  \\\n",
       "0                                           0.0   \n",
       "1                                           0.0   \n",
       "2                                           0.0   \n",
       "3                                           0.0   \n",
       "4                                           0.0   \n",
       "\n",
       "   weather_desc_thunderstorm with light rain  \\\n",
       "0                                        0.0   \n",
       "1                                        0.0   \n",
       "2                                        0.0   \n",
       "3                                        0.0   \n",
       "4                                        0.0   \n",
       "\n",
       "   weather_desc_thunderstorm with rain  \n",
       "0                                  0.0  \n",
       "1                                  0.0  \n",
       "2                                  0.0  \n",
       "3                                  0.0  \n",
       "4                                  0.0  \n",
       "\n",
       "[5 rows x 67 columns]"
      ]
     },
     "execution_count": 48,
     "metadata": {},
     "output_type": "execute_result"
    }
   ],
   "source": [
    "x_scaled.head()"
   ]
  },
  {
   "cell_type": "code",
   "execution_count": 49,
   "metadata": {},
   "outputs": [
    {
     "data": {
      "text/plain": [
       "array([[0.38408304, 0.85714286, 0.22222222, ..., 0.        , 0.        ,\n",
       "        0.        ],\n",
       "       [0.58131488, 0.57142857, 0.33333333, ..., 0.        , 0.        ,\n",
       "        0.        ],\n",
       "       [0.35640138, 0.55844156, 0.33333333, ..., 0.        , 0.        ,\n",
       "        0.        ],\n",
       "       ...,\n",
       "       [0.44290657, 0.61038961, 0.11111111, ..., 0.        , 0.        ,\n",
       "        0.        ],\n",
       "       [0.75778547, 0.55844156, 0.11111111, ..., 0.        , 0.        ,\n",
       "        0.        ],\n",
       "       [0.44982699, 0.51948052, 0.11111111, ..., 0.        , 0.        ,\n",
       "        0.        ]])"
      ]
     },
     "execution_count": 49,
     "metadata": {},
     "output_type": "execute_result"
    }
   ],
   "source": [
    "x_scaled.values"
   ]
  },
  {
   "cell_type": "code",
   "execution_count": 50,
   "metadata": {
    "id": "OpJ16qomzsjE"
   },
   "outputs": [],
   "source": [
    "from sklearn.model_selection import train_test_split\n",
    "x_train, x_test, y_train, y_test = train_test_split(x_scaled.values, y, test_size = 0.3, random_state=2323)"
   ]
  },
  {
   "cell_type": "code",
   "execution_count": 51,
   "metadata": {
    "id": "2nl-VXt16YRF"
   },
   "outputs": [],
   "source": [
    "X=x_train\n",
    "Y=y_train\n"
   ]
  },
  {
   "cell_type": "code",
   "execution_count": 52,
   "metadata": {},
   "outputs": [
    {
     "data": {
      "text/plain": [
       "array([[0.14878893, 0.72727273, 0.44444444, ..., 0.        , 0.        ,\n",
       "        0.        ],\n",
       "       [0.92733564, 0.2987013 , 0.44444444, ..., 0.        , 0.        ,\n",
       "        0.        ],\n",
       "       [0.74048443, 0.76623377, 0.11111111, ..., 0.        , 0.        ,\n",
       "        0.        ],\n",
       "       ...,\n",
       "       [0.12802768, 0.50649351, 0.22222222, ..., 0.        , 0.        ,\n",
       "        0.        ],\n",
       "       [0.26297578, 0.12987013, 1.        , ..., 0.        , 0.        ,\n",
       "        0.        ],\n",
       "       [0.92041522, 0.80519481, 0.33333333, ..., 0.        , 0.        ,\n",
       "        0.        ]])"
      ]
     },
     "execution_count": 52,
     "metadata": {},
     "output_type": "execute_result"
    }
   ],
   "source": [
    "X"
   ]
  },
  {
   "cell_type": "code",
   "execution_count": 53,
   "metadata": {
    "colab": {
     "base_uri": "https://localhost:8080/"
    },
    "id": "eiRzls9XzzKv",
    "outputId": "93a8e10d-755f-4a34-d8a4-0f5cb4c36652"
   },
   "outputs": [
    {
     "name": "stdout",
     "output_type": "stream",
     "text": [
      "(23366, 67)\n",
      "(10014, 67)\n",
      "(23366,)\n",
      "(10014,)\n"
     ]
    }
   ],
   "source": [
    "print(x_train.shape)\n",
    "print(x_test.shape)\n",
    "print(y_train.shape)\n",
    "print(y_test.shape)"
   ]
  },
  {
   "cell_type": "code",
   "execution_count": 54,
   "metadata": {
    "colab": {
     "base_uri": "https://localhost:8080/"
    },
    "id": "-Y64hNO0rOGu",
    "outputId": "fb40f197-3151-46a3-81f8-eaf1eface71c"
   },
   "outputs": [
    {
     "data": {
      "text/plain": [
       "67"
      ]
     },
     "execution_count": 54,
     "metadata": {},
     "output_type": "execute_result"
    }
   ],
   "source": [
    "X.shape[1]"
   ]
  },
  {
   "cell_type": "code",
   "execution_count": 55,
   "metadata": {
    "colab": {
     "base_uri": "https://localhost:8080/"
    },
    "id": "V0HQxnzVrmZt",
    "outputId": "23f84e7e-f3a9-4f93-d344-d5e901a97250"
   },
   "outputs": [
    {
     "data": {
      "text/plain": [
       "23366"
      ]
     },
     "execution_count": 55,
     "metadata": {},
     "output_type": "execute_result"
    }
   ],
   "source": [
    "Y.shape[0]"
   ]
  },
  {
   "cell_type": "markdown",
   "metadata": {
    "id": "Do1Vr0YkwFYy"
   },
   "source": [
    "# 2 Implementing a Activation Function\n",
    "We will use relu activation function because it outputs the values from  0 to 1 so its a good choice for a regression problem"
   ]
  },
  {
   "cell_type": "code",
   "execution_count": null,
   "metadata": {},
   "outputs": [],
   "source": [
    "def relu(z):\n",
    "    return np.maximum(0, z)"
   ]
  },
  {
   "cell_type": "markdown",
   "metadata": {
    "id": "QjQeIDoCpy-_"
   },
   "source": [
    "**3 Define Neural Network Architecture\n",
    "Create a model with three layers - Input, Hidden, Output.**"
   ]
  },
  {
   "cell_type": "code",
   "execution_count": 132,
   "metadata": {
    "id": "dyub7p1Upxhf"
   },
   "outputs": [],
   "source": [
    "def network_architecture(X, Y):\n",
    "    # nodes in input layer\n",
    "    n_x = X.shape[1]\n",
    "    # nodes in hidden layer\n",
    "    n_h = 67          \n",
    "    # nodes in output layer\n",
    "    n_y = 1\n",
    "    return (n_x, n_h, n_y)"
   ]
  },
  {
   "cell_type": "markdown",
   "metadata": {
    "id": "KAbxPf_Btghw"
   },
   "source": [
    "# 4 Define Neural Network Parameters\n",
    "Neural Network parameters are weights and bias which we need to initialze with zero values. The first layer only contains inputs so there are no weights and bias, but the hidden layer and the output layer have a weight and bias term. (W1, b1 and W2, b2)"
   ]
  },
  {
   "cell_type": "code",
   "execution_count": 133,
   "metadata": {
    "id": "0sroTA7_tZKz"
   },
   "outputs": [],
   "source": [
    "def define_network_parameters(n_x, n_h, n_y):\n",
    "    W1 = np.random.randn(n_h,n_x) * 0.01 # random initialization\n",
    "    b1 = np.zeros((n_h, 1)) # zero initialization\n",
    "    W2 = np.random.randn(n_y,n_h) * 0.01 \n",
    "    b2 = np.zeros((n_y, 1)) \n",
    "    return {\"W1\": W1, \"b1\": b1, \"W2\": W2, \"b2\": b2}"
   ]
  },
  {
   "cell_type": "markdown",
   "metadata": {
    "id": "9yAUq07qvbG1"
   },
   "source": [
    "# 5 Implement Forward Propagation\n",
    "The hidden layer and output layer will compute the activations using sigmoid activation function and will pass it in the forward direction. While computing this activation, the input is multiplied with weight and added with bias before passing it to the function."
   ]
  },
  {
   "cell_type": "code",
   "execution_count": 134,
   "metadata": {
    "id": "efA98ZvvveGU"
   },
   "outputs": [],
   "source": [
    "def forward_propagation(X, params):\n",
    "    Z1 = np.dot(params['W1'], X)+params['b1']\n",
    "    A1 = relu(Z1)\n",
    "\n",
    "    Z2 = np.dot(params['W2'], A1)+params['b2']\n",
    "    A2 = relu(Z2)\n",
    "    return {\"Z1\": Z1, \"A1\": A1, \"Z2\": Z2, \"A2\": A2}   \n",
    "    "
   ]
  },
  {
   "cell_type": "markdown",
   "metadata": {
    "id": "Z1yRgE0IxSlT"
   },
   "source": [
    "# 6 Compute the Network Error\n",
    "To compute the cost, one straight forward approach is to compute the absolute error among prediction and actual value. \n",
    "\n",
    "\n",
    "**Mean Absolute Error** (MAE) is the mean of the absolute value of the errors:\n",
    "\n",
    "$$\\frac 1n\\sum_{i=1}^n|y_i-\\hat{y}_i|$$"
   ]
  },
  {
   "cell_type": "code",
   "execution_count": 135,
   "metadata": {
    "id": "f0ErEl7ex1Ug"
   },
   "outputs": [],
   "source": [
    "def mean_absolute_error(Y, A2):\n",
    "                    return np.mean(np.abs(Y - A2))"
   ]
  },
  {
   "cell_type": "markdown",
   "metadata": {
    "id": "odDKOgPaz64T"
   },
   "source": [
    "# 7 Implement Backward Propagation\n",
    "In backward propagation function, the error is passed backward to previous layers and the derivatives of weights and bias are computed. The weights and bias are then updated using the derivatives."
   ]
  },
  {
   "cell_type": "code",
   "execution_count": 136,
   "metadata": {
    "id": "tmo1IOFpx1IL"
   },
   "outputs": [],
   "source": [
    "def backward_propagation(params, activations, X, Y):\n",
    "    m = X.shape[1]\n",
    "    \n",
    "    # output layer\n",
    "    dZ2 = activations['A2'] - Y # compute the error derivative \n",
    "    dW2 = np.dot(dZ2, activations['A1'].T) / m # compute the weight derivative \n",
    "    db2 = np.sum(dZ2, axis=1, keepdims=True)/m # compute the bias derivative\n",
    "    \n",
    "    # hidden layer\n",
    "    dZ1 = np.dot(params['W2'].T, dZ2)*(1-np.power(activations['A1'], 2))\n",
    "    dW1 = np.dot(dZ1, X.T)/m\n",
    "    db1 = np.sum(dZ1, axis=1,keepdims=True)/m\n",
    "    \n",
    "    return {\"dW1\": dW1, \"db1\": db1, \"dW2\": dW2, \"db2\": db2}\n",
    "\n",
    "def update_parameters(params, derivatives, alpha = 1.2):\n",
    "    # alpha is the model's learning rate \n",
    "    \n",
    "    params['W1'] = params['W1'] - alpha * derivatives['dW1']\n",
    "    params['b1'] = params['b1'] - alpha * derivatives['db1']\n",
    "    params['W2'] = params['W2'] - alpha * derivatives['dW2']\n",
    "    params['b2'] = params['b2'] - alpha * derivatives['db2']\n",
    "    return params"
   ]
  },
  {
   "cell_type": "markdown",
   "metadata": {
    "id": "fcePZpZ80xkS"
   },
   "source": [
    "# 8 Compile and Train the Model\n",
    "Create a function which compiles all the key functions and creates a neural network model."
   ]
  },
  {
   "cell_type": "code",
   "execution_count": 229,
   "metadata": {
    "id": "RYtxOcMv0p1t"
   },
   "outputs": [],
   "source": [
    "def neural_network(X, Y, n_h, num_iterations=100):\n",
    "    n_x = network_architecture(X, Y)[0]\n",
    "    n_y = network_architecture(X, Y)[2]\n",
    "    \n",
    "    params = define_network_parameters(n_x, n_h, n_y)\n",
    "    for i in range(0, num_iterations):\n",
    "        results = forward_propagation(X, params)\n",
    "        error = mean_absolute_error(results['A2'], Y)\n",
    "        print(error)\n",
    "        derivatives = backward_propagation(params, results, X, Y) \n",
    "        params = update_parameters(params, derivatives, alpha=1.2) \n",
    "        #print(params)\n",
    "    return params"
   ]
  },
  {
   "cell_type": "code",
   "execution_count": 220,
   "metadata": {
    "id": "2RU4jRsL1VEM"
   },
   "outputs": [],
   "source": [
    "x = X.reshape(X.shape[1], X.shape[0])\n",
    "y = Y.values.reshape(Y.shape[0],1)\n"
   ]
  },
  {
   "cell_type": "code",
   "execution_count": 484,
   "metadata": {
    "id": "1JevKkdtE8Ln"
   },
   "outputs": [
    {
     "data": {
      "text/plain": [
       "(23366, 67)"
      ]
     },
     "execution_count": 484,
     "metadata": {},
     "output_type": "execute_result"
    }
   ],
   "source": [
    "X.shape"
   ]
  },
  {
   "cell_type": "code",
   "execution_count": 485,
   "metadata": {
    "id": "dfJL2rLHE_4D"
   },
   "outputs": [
    {
     "data": {
      "text/plain": [
       "(23366,)"
      ]
     },
     "execution_count": 485,
     "metadata": {},
     "output_type": "execute_result"
    }
   ],
   "source": [
    "Y.shape"
   ]
  },
  {
   "cell_type": "code",
   "execution_count": 231,
   "metadata": {
    "id": "cVJlKFtLFDIk"
   },
   "outputs": [
    {
     "name": "stdout",
     "output_type": "stream",
     "text": [
      "3233.3359020800353\n",
      "646.6671248240813\n",
      "129.3334249648105\n",
      "25.866684992962757\n",
      "5.173336998592448\n"
     ]
    }
   ],
   "source": [
    "model = neural_network(x, y, n_h=1, num_iterations=5)"
   ]
  },
  {
   "cell_type": "code",
   "execution_count": 274,
   "metadata": {},
   "outputs": [],
   "source": [
    "def predict(parameters, X):\n",
    "    results = forward_propagation(X, parameters)\n",
    "    print (results['A2'][0])\n",
    "    predictions = np.around(results['A2'])\n",
    "    print(predictions)\n",
    "    return predictions\n"
   ]
  },
  {
   "cell_type": "code",
   "execution_count": 486,
   "metadata": {},
   "outputs": [
    {
     "data": {
      "text/plain": [
       "(23366, 67)"
      ]
     },
     "execution_count": 486,
     "metadata": {},
     "output_type": "execute_result"
    }
   ],
   "source": [
    "X.shape"
   ]
  },
  {
   "cell_type": "code",
   "execution_count": 286,
   "metadata": {},
   "outputs": [
    {
     "name": "stdout",
     "output_type": "stream",
     "text": [
      "[6093.94943945 6093.94943945 6093.94943945 ... 6093.94943945 6093.94943945\n",
      " 6093.94943945]\n",
      "[[6094. 6094. 6094. ... 6094. 6094. 6094.]\n",
      " [1166. 1166. 1166. ... 1166. 1166. 1166.]\n",
      " [6430. 6430. 6430. ... 6430. 6430. 6430.]\n",
      " ...\n",
      " [ 356.  356.  356. ...  356.  356.  356.]\n",
      " [2784. 2784. 2784. ... 2784. 2784. 2784.]\n",
      " [6001. 6001. 6001. ... 6001. 6001. 6001.]]\n"
     ]
    }
   ],
   "source": [
    " predictions = predict(model, X.T)\n",
    "r_squared_score = (np.dot(X.T, predictions) + np.dot(1-X.T, 1-predictions)) / float(y.size) * 100\n"
   ]
  },
  {
   "cell_type": "code",
   "execution_count": 287,
   "metadata": {},
   "outputs": [
    {
     "name": "stdout",
     "output_type": "stream",
     "text": [
      "R^2_score: [[ 2.01493726e+02  2.01493726e+02  2.01493726e+02 ...  2.01493726e+02\n",
      "   2.01493726e+02  2.01493726e+02]\n",
      " [ 1.09810114e+05  1.09810114e+05  1.09810114e+05 ...  1.09810114e+05\n",
      "   1.09810114e+05  1.09810114e+05]\n",
      " [-1.85873953e+05 -1.85873953e+05 -1.85873953e+05 ... -1.85873953e+05\n",
      "  -1.85873953e+05 -1.85873953e+05]\n",
      " ...\n",
      " [-3.23280787e+05 -3.23280787e+05 -3.23280787e+05 ... -3.23280787e+05\n",
      "  -3.23280787e+05 -3.23280787e+05]\n",
      " [-3.22722523e+05 -3.22722523e+05 -3.22722523e+05 ... -3.22722523e+05\n",
      "  -3.22722523e+05 -3.22722523e+05]\n",
      " [-3.22817977e+05 -3.22817977e+05 -3.22817977e+05 ... -3.22817977e+05\n",
      "  -3.22817977e+05 -3.22817977e+05]]\n"
     ]
    }
   ],
   "source": [
    "print('R^2_score:' , r_squared_score)"
   ]
  },
  {
   "cell_type": "code",
   "execution_count": 487,
   "metadata": {},
   "outputs": [
    {
     "data": {
      "text/plain": [
       "(13666, 67)"
      ]
     },
     "execution_count": 487,
     "metadata": {},
     "output_type": "execute_result"
    }
   ],
   "source": [
    "te=test.reshape(test.shape[0],test.shape[1])\n",
    "te.shape"
   ]
  },
  {
   "cell_type": "code",
   "execution_count": 276,
   "metadata": {},
   "outputs": [
    {
     "name": "stdout",
     "output_type": "stream",
     "text": [
      "[6093.94943945 6093.94943945 6093.94943945 ... 6093.94943945 6093.94943945\n",
      " 6093.94943945]\n",
      "[[6094. 6094. 6094. ... 6094. 6094. 6094.]\n",
      " [1166. 1166. 1166. ... 1166. 1166. 1166.]\n",
      " [6430. 6430. 6430. ... 6430. 6430. 6430.]\n",
      " ...\n",
      " [ 356.  356.  356. ...  356.  356.  356.]\n",
      " [2784. 2784. 2784. ... 2784. 2784. 2784.]\n",
      " [6001. 6001. 6001. ... 6001. 6001. 6001.]]\n"
     ]
    }
   ],
   "source": [
    " predictions = predict(model, te.T)\n",
    " r_squared_score = (np.dot(y.T, predictions) + np.dot(1-y.T, 1-predictions)) / float(y.size) * 100\n"
   ]
  },
  {
   "cell_type": "code",
   "execution_count": 277,
   "metadata": {},
   "outputs": [
    {
     "name": "stdout",
     "output_type": "stream",
     "text": [
      "R^2_score: [[2.88267568e+09 2.88267568e+09 2.88267568e+09 ... 2.88267568e+09\n",
      "  2.88267568e+09 2.88267568e+09]]\n"
     ]
    }
   ],
   "source": [
    "print('R^2_score:' , r_squared_score)"
   ]
  },
  {
   "cell_type": "code",
   "execution_count": 288,
   "metadata": {},
   "outputs": [],
   "source": [
    "# from sklearn.model_selection import GridSearchCV\n",
    "# from sklearn.neural_network import MLPRegressor\n",
    "# from sklearn.datasets import make_regression"
   ]
  },
  {
   "cell_type": "code",
   "execution_count": 1,
   "metadata": {},
   "outputs": [],
   "source": [
    "\n",
    "# param_grid = {'hidden_layer_sizes': [(64,),(128)],\n",
    "#               'activation': ['relu', 'tanh'],\n",
    "#               'learning_rate_init': [0.001, 0.01, 0.1],\n",
    "#               'max_iter': [100, 300, 500]}\n",
    "# reg = MLPRegressor(random_state=0)\n",
    "# grid_search = GridSearchCV(reg, param_grid=param_grid, cv=5, n_jobs=-1)\n",
    "# grid_search.fit(x_train, y_train.ravel())\n",
    "# print(\"Best hyperparameters: \", grid_search.best_params_)"
   ]
  },
  {
   "cell_type": "code",
   "execution_count": 56,
   "metadata": {},
   "outputs": [
    {
     "data": {
      "text/plain": [
       "array([[0.14878893, 0.72727273, 0.44444444, ..., 0.        , 0.        ,\n",
       "        0.        ],\n",
       "       [0.92733564, 0.2987013 , 0.44444444, ..., 0.        , 0.        ,\n",
       "        0.        ],\n",
       "       [0.74048443, 0.76623377, 0.11111111, ..., 0.        , 0.        ,\n",
       "        0.        ],\n",
       "       ...,\n",
       "       [0.12802768, 0.50649351, 0.22222222, ..., 0.        , 0.        ,\n",
       "        0.        ],\n",
       "       [0.26297578, 0.12987013, 1.        , ..., 0.        , 0.        ,\n",
       "        0.        ],\n",
       "       [0.92041522, 0.80519481, 0.33333333, ..., 0.        , 0.        ,\n",
       "        0.        ]])"
      ]
     },
     "execution_count": 56,
     "metadata": {},
     "output_type": "execute_result"
    }
   ],
   "source": [
    "x_train"
   ]
  },
  {
   "cell_type": "code",
   "execution_count": 57,
   "metadata": {},
   "outputs": [
    {
     "data": {
      "text/plain": [
       "array([[0.48442907, 0.80519481, 0.44444444, ..., 0.        , 0.        ,\n",
       "        0.        ],\n",
       "       [0.64359862, 0.64935065, 0.11111111, ..., 0.        , 0.        ,\n",
       "        0.        ],\n",
       "       [0.0899654 , 0.38961039, 0.66666667, ..., 0.        , 0.        ,\n",
       "        0.        ],\n",
       "       ...,\n",
       "       [0.23183391, 0.71428571, 0.88888889, ..., 0.        , 0.        ,\n",
       "        0.        ],\n",
       "       [0.97577855, 0.83116883, 0.66666667, ..., 0.        , 0.        ,\n",
       "        0.        ],\n",
       "       [0.21453287, 0.88311688, 0.44444444, ..., 0.        , 0.        ,\n",
       "        0.        ]])"
      ]
     },
     "execution_count": 57,
     "metadata": {},
     "output_type": "execute_result"
    }
   ],
   "source": [
    "x_test"
   ]
  },
  {
   "cell_type": "code",
   "execution_count": 58,
   "metadata": {},
   "outputs": [
    {
     "data": {
      "text/plain": [
       "29163    2206\n",
       "29537    4380\n",
       "24312    2544\n",
       "29645    3974\n",
       "12564    4519\n",
       "         ... \n",
       "32592    2624\n",
       "26836    2571\n",
       "21236    2514\n",
       "21895    5490\n",
       "2294      651\n",
       "Name: traffic_volume, Length: 23366, dtype: int64"
      ]
     },
     "execution_count": 58,
     "metadata": {},
     "output_type": "execute_result"
    }
   ],
   "source": [
    "y_train"
   ]
  },
  {
   "cell_type": "code",
   "execution_count": 59,
   "metadata": {},
   "outputs": [
    {
     "data": {
      "text/plain": [
       "array([2206, 4380, 2544, ..., 2514, 5490,  651])"
      ]
     },
     "execution_count": 59,
     "metadata": {},
     "output_type": "execute_result"
    }
   ],
   "source": [
    "y_train=y_train.values\n",
    "y_train"
   ]
  },
  {
   "cell_type": "code",
   "execution_count": 60,
   "metadata": {},
   "outputs": [
    {
     "data": {
      "text/plain": [
       "30021    5686\n",
       "23115    4618\n",
       "9749      465\n",
       "8956      295\n",
       "24277    5388\n",
       "         ... \n",
       "9367      337\n",
       "8293     6474\n",
       "29283    5087\n",
       "20398    5532\n",
       "17472     341\n",
       "Name: traffic_volume, Length: 10014, dtype: int64"
      ]
     },
     "execution_count": 60,
     "metadata": {},
     "output_type": "execute_result"
    }
   ],
   "source": [
    "y_test"
   ]
  },
  {
   "cell_type": "code",
   "execution_count": 61,
   "metadata": {},
   "outputs": [
    {
     "data": {
      "text/plain": [
       "array([5686, 4618,  465, ..., 5087, 5532,  341])"
      ]
     },
     "execution_count": 61,
     "metadata": {},
     "output_type": "execute_result"
    }
   ],
   "source": [
    "y_test=y_test.values\n",
    "y_test"
   ]
  },
  {
   "cell_type": "code",
   "execution_count": 62,
   "metadata": {},
   "outputs": [],
   "source": [
    "import itertools\n",
    "import random\n",
    "\n",
    "def grid_search(param_grid, X_train, y_train, X_test, y_test):\n",
    "    \"\"\"\n",
    "    Performs a grid search over a specified hyperparameter grid.\n",
    "    \n",
    "    Parameters:\n",
    "        param_grid (dict): A dictionary of hyperparameters to search over. The keys should be \n",
    "            strings indicating the hyperparameter names, and the values should be lists \n",
    "            of possible values for each hyperparameter.\n",
    "        X_train (ndarray): An array of training data.\n",
    "        y_train (ndarray): An array of training labels.\n",
    "        X_val (ndarray): An array of validation data.\n",
    "        y_val (ndarray): An array of validation labels.\n",
    "    \n",
    "    Returns:\n",
    "        best_params (dict): A dictionary of the hyperparameters that achieved the highest validation accuracy.\n",
    "        best_acc (float): The validation accuracy achieved by the best set of hyperparameters.\n",
    "    \"\"\"\n",
    "    param_grid = {'hidden_layer_sizes': [(64,),(128)],\n",
    "                  'activation': ['relu', 'tanh'],\n",
    "                  'learning_rate_init': [0.001, 0.01, 0.1],\n",
    "                  'max_iter': [100, 300, 500]}\n",
    "         \n",
    "    # Generate all possible combinations of hyperparameters\n",
    "    hyperparam_values = list(itertools.product(*param_grid.values()))\n",
    "    hyperparam_keys = list(param_grid.keys())\n",
    "\n",
    "    # Initialize variables to keep track of best hyperparameters and validation accuracy\n",
    "    best_params = None\n",
    "    best_acc = 0.0\n",
    "    best_r2_score = 0.70\n",
    "\n",
    "    # Iterate over all hyperparameter combinations\n",
    "    for hyperparams in hyperparam_values:\n",
    "        # Create a dictionary of hyperparameters\n",
    "        hyperparam_dict = dict(zip(hyperparam_keys, hyperparams))\n",
    "\n",
    "        # Train a model with the current hyperparameters\n",
    "        # (this is where you would train your model, e.g. by calling a function)\n",
    "        # Here, we just print the hyperparameters being tested\n",
    "        print('Testing hyperparameters:', hyperparam_dict)\n",
    "\n",
    "        # Compute the validation accuracy\n",
    "        # (this is where you would compute the accuracy of your model on the validation set)\n",
    "        # Here, we just set the accuracy to a random value between 0 and 1\n",
    "        r2_score = random.uniform(0, 1)\n",
    "\n",
    "        # Update best hyperparameters and validation accuracy\n",
    "        if r2_score > best_r2_score:\n",
    "          best_r2_score = r2_score\n",
    "          best_params = hyperparam_dict\n",
    "\n",
    "    return best_params, best_r2_score\n"
   ]
  },
  {
   "cell_type": "code",
   "execution_count": 63,
   "metadata": {},
   "outputs": [],
   "source": [
    "param_grid = {'hidden_layer_sizes': [(64,),(128)],\n",
    "              'activation': ['relu', 'tanh'],\n",
    "              'learning_rate_init': [0.001, 0.01, 0.1],\n",
    "              'max_iter': [100, 300, 500]}\n"
   ]
  },
  {
   "cell_type": "code",
   "execution_count": 64,
   "metadata": {},
   "outputs": [
    {
     "name": "stdout",
     "output_type": "stream",
     "text": [
      "Testing hyperparameters: {'hidden_layer_sizes': (64,), 'activation': 'relu', 'learning_rate_init': 0.001, 'max_iter': 100}\n",
      "Testing hyperparameters: {'hidden_layer_sizes': (64,), 'activation': 'relu', 'learning_rate_init': 0.001, 'max_iter': 300}\n",
      "Testing hyperparameters: {'hidden_layer_sizes': (64,), 'activation': 'relu', 'learning_rate_init': 0.001, 'max_iter': 500}\n",
      "Testing hyperparameters: {'hidden_layer_sizes': (64,), 'activation': 'relu', 'learning_rate_init': 0.01, 'max_iter': 100}\n",
      "Testing hyperparameters: {'hidden_layer_sizes': (64,), 'activation': 'relu', 'learning_rate_init': 0.01, 'max_iter': 300}\n",
      "Testing hyperparameters: {'hidden_layer_sizes': (64,), 'activation': 'relu', 'learning_rate_init': 0.01, 'max_iter': 500}\n",
      "Testing hyperparameters: {'hidden_layer_sizes': (64,), 'activation': 'relu', 'learning_rate_init': 0.1, 'max_iter': 100}\n",
      "Testing hyperparameters: {'hidden_layer_sizes': (64,), 'activation': 'relu', 'learning_rate_init': 0.1, 'max_iter': 300}\n",
      "Testing hyperparameters: {'hidden_layer_sizes': (64,), 'activation': 'relu', 'learning_rate_init': 0.1, 'max_iter': 500}\n",
      "Testing hyperparameters: {'hidden_layer_sizes': (64,), 'activation': 'tanh', 'learning_rate_init': 0.001, 'max_iter': 100}\n",
      "Testing hyperparameters: {'hidden_layer_sizes': (64,), 'activation': 'tanh', 'learning_rate_init': 0.001, 'max_iter': 300}\n",
      "Testing hyperparameters: {'hidden_layer_sizes': (64,), 'activation': 'tanh', 'learning_rate_init': 0.001, 'max_iter': 500}\n",
      "Testing hyperparameters: {'hidden_layer_sizes': (64,), 'activation': 'tanh', 'learning_rate_init': 0.01, 'max_iter': 100}\n",
      "Testing hyperparameters: {'hidden_layer_sizes': (64,), 'activation': 'tanh', 'learning_rate_init': 0.01, 'max_iter': 300}\n",
      "Testing hyperparameters: {'hidden_layer_sizes': (64,), 'activation': 'tanh', 'learning_rate_init': 0.01, 'max_iter': 500}\n",
      "Testing hyperparameters: {'hidden_layer_sizes': (64,), 'activation': 'tanh', 'learning_rate_init': 0.1, 'max_iter': 100}\n",
      "Testing hyperparameters: {'hidden_layer_sizes': (64,), 'activation': 'tanh', 'learning_rate_init': 0.1, 'max_iter': 300}\n",
      "Testing hyperparameters: {'hidden_layer_sizes': (64,), 'activation': 'tanh', 'learning_rate_init': 0.1, 'max_iter': 500}\n",
      "Testing hyperparameters: {'hidden_layer_sizes': 128, 'activation': 'relu', 'learning_rate_init': 0.001, 'max_iter': 100}\n",
      "Testing hyperparameters: {'hidden_layer_sizes': 128, 'activation': 'relu', 'learning_rate_init': 0.001, 'max_iter': 300}\n",
      "Testing hyperparameters: {'hidden_layer_sizes': 128, 'activation': 'relu', 'learning_rate_init': 0.001, 'max_iter': 500}\n",
      "Testing hyperparameters: {'hidden_layer_sizes': 128, 'activation': 'relu', 'learning_rate_init': 0.01, 'max_iter': 100}\n",
      "Testing hyperparameters: {'hidden_layer_sizes': 128, 'activation': 'relu', 'learning_rate_init': 0.01, 'max_iter': 300}\n",
      "Testing hyperparameters: {'hidden_layer_sizes': 128, 'activation': 'relu', 'learning_rate_init': 0.01, 'max_iter': 500}\n",
      "Testing hyperparameters: {'hidden_layer_sizes': 128, 'activation': 'relu', 'learning_rate_init': 0.1, 'max_iter': 100}\n",
      "Testing hyperparameters: {'hidden_layer_sizes': 128, 'activation': 'relu', 'learning_rate_init': 0.1, 'max_iter': 300}\n",
      "Testing hyperparameters: {'hidden_layer_sizes': 128, 'activation': 'relu', 'learning_rate_init': 0.1, 'max_iter': 500}\n",
      "Testing hyperparameters: {'hidden_layer_sizes': 128, 'activation': 'tanh', 'learning_rate_init': 0.001, 'max_iter': 100}\n",
      "Testing hyperparameters: {'hidden_layer_sizes': 128, 'activation': 'tanh', 'learning_rate_init': 0.001, 'max_iter': 300}\n",
      "Testing hyperparameters: {'hidden_layer_sizes': 128, 'activation': 'tanh', 'learning_rate_init': 0.001, 'max_iter': 500}\n",
      "Testing hyperparameters: {'hidden_layer_sizes': 128, 'activation': 'tanh', 'learning_rate_init': 0.01, 'max_iter': 100}\n",
      "Testing hyperparameters: {'hidden_layer_sizes': 128, 'activation': 'tanh', 'learning_rate_init': 0.01, 'max_iter': 300}\n",
      "Testing hyperparameters: {'hidden_layer_sizes': 128, 'activation': 'tanh', 'learning_rate_init': 0.01, 'max_iter': 500}\n",
      "Testing hyperparameters: {'hidden_layer_sizes': 128, 'activation': 'tanh', 'learning_rate_init': 0.1, 'max_iter': 100}\n",
      "Testing hyperparameters: {'hidden_layer_sizes': 128, 'activation': 'tanh', 'learning_rate_init': 0.1, 'max_iter': 300}\n",
      "Testing hyperparameters: {'hidden_layer_sizes': 128, 'activation': 'tanh', 'learning_rate_init': 0.1, 'max_iter': 500}\n"
     ]
    },
    {
     "data": {
      "text/plain": [
       "({'hidden_layer_sizes': 128,\n",
       "  'activation': 'tanh',\n",
       "  'learning_rate_init': 0.001,\n",
       "  'max_iter': 100},\n",
       " 0.9816947621528622)"
      ]
     },
     "execution_count": 64,
     "metadata": {},
     "output_type": "execute_result"
    }
   ],
   "source": [
    "grid_search(param_grid, x_train, y_train, x_test, y_test)"
   ]
  },
  {
   "cell_type": "code",
   "execution_count": 76,
   "metadata": {},
   "outputs": [],
   "source": [
    "from sklearn.neural_network import MLPRegressor"
   ]
  },
  {
   "cell_type": "code",
   "execution_count": 77,
   "metadata": {},
   "outputs": [],
   "source": [
    "besthp=MLPRegressor(hidden_layer_sizes=128, activation='tanh', learning_rate_init=0.001, max_iter=500, random_state=123)"
   ]
  },
  {
   "cell_type": "code",
   "execution_count": 87,
   "metadata": {},
   "outputs": [
    {
     "data": {
      "text/plain": [
       "False"
      ]
     },
     "execution_count": 87,
     "metadata": {},
     "output_type": "execute_result"
    }
   ],
   "source": [
    "np.isnan(x_train).any() "
   ]
  },
  {
   "cell_type": "code",
   "execution_count": 88,
   "metadata": {},
   "outputs": [],
   "source": [
    "x_train = np.nan_to_num(x_train)"
   ]
  },
  {
   "cell_type": "code",
   "execution_count": 90,
   "metadata": {},
   "outputs": [
    {
     "data": {
      "text/plain": [
       "True"
      ]
     },
     "execution_count": 90,
     "metadata": {},
     "output_type": "execute_result"
    }
   ],
   "source": [
    "np.isnan(x_test).any()"
   ]
  },
  {
   "cell_type": "code",
   "execution_count": 91,
   "metadata": {},
   "outputs": [],
   "source": [
    "x_test = np.nan_to_num(x_test)"
   ]
  },
  {
   "cell_type": "code",
   "execution_count": 85,
   "metadata": {},
   "outputs": [
    {
     "name": "stderr",
     "output_type": "stream",
     "text": [
      "/usr/share/anaconda3/lib/python3.7/site-packages/sklearn/neural_network/_multilayer_perceptron.py:617: ConvergenceWarning: Stochastic Optimizer: Maximum iterations (500) reached and the optimization hasn't converged yet.\n",
      "  % self.max_iter, ConvergenceWarning)\n"
     ]
    },
    {
     "data": {
      "text/plain": [
       "MLPRegressor(activation='tanh', hidden_layer_sizes=128, max_iter=500,\n",
       "             random_state=123)"
      ]
     },
     "execution_count": 85,
     "metadata": {},
     "output_type": "execute_result"
    }
   ],
   "source": [
    "besthp.fit(x_train,y_train)"
   ]
  },
  {
   "cell_type": "code",
   "execution_count": 92,
   "metadata": {},
   "outputs": [],
   "source": [
    "train_pred_bhp = besthp.predict(x_train)\n",
    "test_pred_bhp = besthp.predict(x_test)"
   ]
  },
  {
   "cell_type": "code",
   "execution_count": 93,
   "metadata": {},
   "outputs": [],
   "source": [
    "from sklearn import metrics\n",
    "from sklearn.metrics import mean_squared_error\n",
    "from sklearn.metrics import mean_absolute_error\n",
    "from sklearn.metrics import r2_score"
   ]
  },
  {
   "cell_type": "code",
   "execution_count": 94,
   "metadata": {},
   "outputs": [
    {
     "name": "stdout",
     "output_type": "stream",
     "text": [
      "Train MSE:  1039312.2460455479\n",
      "Train MAE:  721.0690203700251\n",
      "Train RMSE:  1019.4666478338307\n",
      "Train r2_score:  0.737358425579411\n"
     ]
    }
   ],
   "source": [
    "mse = mean_squared_error(y_train, train_pred_bhp)\n",
    "mae = mean_absolute_error(y_train, train_pred_bhp)\n",
    "rmse=np.sqrt(mean_squared_error(y_train, train_pred_bhp))\n",
    "r2_score=r2_score(y_train, train_pred_bhp)\n",
    "print(\"Train MSE: \", mse)\n",
    "print(\"Train MAE: \", mae)\n",
    "print(\"Train RMSE: \", rmse)\n",
    "print(\"Train r2_score: \", r2_score)"
   ]
  },
  {
   "cell_type": "code",
   "execution_count": 95,
   "metadata": {},
   "outputs": [
    {
     "name": "stdout",
     "output_type": "stream",
     "text": [
      "MSE:  1036058.2113331482\n",
      "MAE:  722.4694804043005\n",
      "RMSE:  1017.8694470968014\n",
      "R2 Score:  0.7399851348370672\n"
     ]
    }
   ],
   "source": [
    "from sklearn.metrics import mean_squared_error, mean_absolute_error, r2_score\n",
    "mse = mean_squared_error(y_test, test_pred_bhp)\n",
    "mae = mean_absolute_error(y_test, test_pred_bhp)\n",
    "rmse = np.sqrt(mean_squared_error(y_test, test_pred_bhp))\n",
    "r2 = r2_score(y_test, test_pred_bhp)\n",
    "\n",
    "print(\"MSE: \", mse)\n",
    "print(\"MAE: \", mae)\n",
    "print(\"RMSE: \", rmse)\n",
    "print(\"R2 Score: \", r2)"
   ]
  },
  {
   "cell_type": "markdown",
   "metadata": {},
   "source": [
    "validation "
   ]
  },
  {
   "cell_type": "code",
   "execution_count": 98,
   "metadata": {},
   "outputs": [
    {
     "data": {
      "text/plain": [
       "True"
      ]
     },
     "execution_count": 98,
     "metadata": {},
     "output_type": "execute_result"
    }
   ],
   "source": [
    "np.isnan(pred_test).any() "
   ]
  },
  {
   "cell_type": "code",
   "execution_count": 99,
   "metadata": {},
   "outputs": [],
   "source": [
    "pred_test = np.nan_to_num(pred_test)"
   ]
  },
  {
   "cell_type": "code",
   "execution_count": 100,
   "metadata": {},
   "outputs": [],
   "source": [
    "test_predictions=besthp.predict(pred_test)"
   ]
  },
  {
   "cell_type": "code",
   "execution_count": 101,
   "metadata": {},
   "outputs": [
    {
     "data": {
      "text/plain": [
       "array([ 376.21120073,  371.16521557,  444.00709467, ..., 2083.09142218,\n",
       "       2153.45274662, 2127.79938041])"
      ]
     },
     "execution_count": 101,
     "metadata": {},
     "output_type": "execute_result"
    }
   ],
   "source": [
    "test_predictions"
   ]
  },
  {
   "cell_type": "code",
   "execution_count": 102,
   "metadata": {},
   "outputs": [
    {
     "data": {
      "text/html": [
       "<div>\n",
       "<style scoped>\n",
       "    .dataframe tbody tr th:only-of-type {\n",
       "        vertical-align: middle;\n",
       "    }\n",
       "\n",
       "    .dataframe tbody tr th {\n",
       "        vertical-align: top;\n",
       "    }\n",
       "\n",
       "    .dataframe thead th {\n",
       "        text-align: right;\n",
       "    }\n",
       "</style>\n",
       "<table border=\"1\" class=\"dataframe\">\n",
       "  <thead>\n",
       "    <tr style=\"text-align: right;\">\n",
       "      <th></th>\n",
       "      <th>0</th>\n",
       "    </tr>\n",
       "  </thead>\n",
       "  <tbody>\n",
       "    <tr>\n",
       "      <th>0</th>\n",
       "      <td>376.211201</td>\n",
       "    </tr>\n",
       "    <tr>\n",
       "      <th>1</th>\n",
       "      <td>371.165216</td>\n",
       "    </tr>\n",
       "    <tr>\n",
       "      <th>2</th>\n",
       "      <td>444.007095</td>\n",
       "    </tr>\n",
       "    <tr>\n",
       "      <th>3</th>\n",
       "      <td>369.501019</td>\n",
       "    </tr>\n",
       "    <tr>\n",
       "      <th>4</th>\n",
       "      <td>390.624214</td>\n",
       "    </tr>\n",
       "    <tr>\n",
       "      <th>...</th>\n",
       "      <td>...</td>\n",
       "    </tr>\n",
       "    <tr>\n",
       "      <th>13661</th>\n",
       "      <td>2531.516043</td>\n",
       "    </tr>\n",
       "    <tr>\n",
       "      <th>13662</th>\n",
       "      <td>2338.466308</td>\n",
       "    </tr>\n",
       "    <tr>\n",
       "      <th>13663</th>\n",
       "      <td>2083.091422</td>\n",
       "    </tr>\n",
       "    <tr>\n",
       "      <th>13664</th>\n",
       "      <td>2153.452747</td>\n",
       "    </tr>\n",
       "    <tr>\n",
       "      <th>13665</th>\n",
       "      <td>2127.799380</td>\n",
       "    </tr>\n",
       "  </tbody>\n",
       "</table>\n",
       "<p>13666 rows × 1 columns</p>\n",
       "</div>"
      ],
      "text/plain": [
       "                 0\n",
       "0       376.211201\n",
       "1       371.165216\n",
       "2       444.007095\n",
       "3       369.501019\n",
       "4       390.624214\n",
       "...            ...\n",
       "13661  2531.516043\n",
       "13662  2338.466308\n",
       "13663  2083.091422\n",
       "13664  2153.452747\n",
       "13665  2127.799380\n",
       "\n",
       "[13666 rows x 1 columns]"
      ]
     },
     "execution_count": 102,
     "metadata": {},
     "output_type": "execute_result"
    }
   ],
   "source": [
    "pd.DataFrame(test_predictions)"
   ]
  },
  {
   "cell_type": "code",
   "execution_count": null,
   "metadata": {},
   "outputs": [],
   "source": []
  }
 ],
 "metadata": {
  "accelerator": "GPU",
  "colab": {
   "provenance": []
  },
  "gpuClass": "standard",
  "kernelspec": {
   "display_name": "Python 3",
   "language": "python",
   "name": "python3"
  },
  "language_info": {
   "codemirror_mode": {
    "name": "ipython",
    "version": 3
   },
   "file_extension": ".py",
   "mimetype": "text/x-python",
   "name": "python",
   "nbconvert_exporter": "python",
   "pygments_lexer": "ipython3",
   "version": "3.7.6"
  }
 },
 "nbformat": 4,
 "nbformat_minor": 4
}
