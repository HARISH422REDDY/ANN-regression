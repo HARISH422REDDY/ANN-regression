{
  "cells": [
    {
      "cell_type": "markdown",
      "metadata": {
        "id": "ir14UEiBupt6"
      },
      "source": [
        "#problem statement\n",
        "DATASET\n",
        "Dataset contains information about flight booking options from the website Easemytrip for flight travel between India's top 6 metro cities. There are 300261 datapoints and 11 features in the cleaned dataset.\n",
        "FEATURES\n",
        "The various features of the cleaned dataset are explained below:\n",
        "1) Airline: The name of the airline company is stored in the airline column. It is a categorical feature having 6 different airlines.\n",
        "2) Flight: Flight stores information regarding the plane's flight code. It is a categorical feature.\n",
        "3) Source City: City from which the flight takes off. It is a categorical feature having 6 unique cities.\n",
        "4) Departure Time: This is a derived categorical feature obtained created by grouping time periods into bins. It stores information about the departure time and have 6 unique time labels.\n",
        "5) Stops: A categorical feature with 3 distinct values that stores the number of stops between the source and destination cities.\n",
        "6) Arrival Time: This is a derived categorical feature created by grouping time intervals into bins. It has six distinct time labels and keeps information about the arrival time.\n",
        "7) Destination City: City where the flight will land. It is a categorical feature having 6 unique cities.\n",
        "8) Class: A categorical feature that contains information on seat class; it has two distinct values: Business and Economy.\n",
        "9) Duration: A continuous feature that displays the overall amount of time it takes to travel between cities in hours.\n",
        "10)Days Left: This is a derived characteristic that is calculated by subtracting the trip date by the booking date.\n",
        "11) Price: Target variable stores information of the ticket price.\n",
        "\n"
      ]
    },
    {
      "cell_type": "markdown",
      "source": [
        "#importing the libraries"
      ],
      "metadata": {
        "id": "f5saJmqa8mR0"
      }
    },
    {
      "cell_type": "code",
      "execution_count": null,
      "metadata": {
        "id": "pRMjV8dP8cnJ"
      },
      "outputs": [],
      "source": [
        "import numpy as np\n",
        "import pandas as pd\n",
        "import matplotlib.pyplot as plt\n",
        "import seaborn as sn"
      ]
    },
    {
      "cell_type": "markdown",
      "source": [
        "#loading the data"
      ],
      "metadata": {
        "id": "TK9HLR8b8rQj"
      }
    },
    {
      "cell_type": "code",
      "execution_count": null,
      "metadata": {
        "colab": {
          "base_uri": "https://localhost:8080/"
        },
        "id": "6a-Upsl5vmC8",
        "outputId": "1d100a2c-557d-499a-f7ec-467bf323c0c7"
      },
      "outputs": [
        {
          "name": "stdout",
          "output_type": "stream",
          "text": [
            "(93487, 11)\n",
            "(206774, 11)\n"
          ]
        }
      ],
      "source": [
        "file1=pd.read_csv(\"business.csv\")\n",
        "file2=pd.read_csv(\"economy.csv\")\n",
        "\n",
        "\n",
        "print(file1.shape)\n",
        "print(file2.shape)\n"
      ]
    },
    {
      "cell_type": "code",
      "execution_count": null,
      "metadata": {
        "colab": {
          "base_uri": "https://localhost:8080/",
          "height": 206
        },
        "id": "FfDRGotC24zZ",
        "outputId": "cf4c9678-d639-4925-8900-1cf86e603302"
      },
      "outputs": [
        {
          "data": {
            "text/html": [
              "<div>\n",
              "<style scoped>\n",
              "    .dataframe tbody tr th:only-of-type {\n",
              "        vertical-align: middle;\n",
              "    }\n",
              "\n",
              "    .dataframe tbody tr th {\n",
              "        vertical-align: top;\n",
              "    }\n",
              "\n",
              "    .dataframe thead th {\n",
              "        text-align: right;\n",
              "    }\n",
              "</style>\n",
              "<table border=\"1\" class=\"dataframe\">\n",
              "  <thead>\n",
              "    <tr style=\"text-align: right;\">\n",
              "      <th></th>\n",
              "      <th>date</th>\n",
              "      <th>airline</th>\n",
              "      <th>ch_code</th>\n",
              "      <th>num_code</th>\n",
              "      <th>dep_time</th>\n",
              "      <th>from</th>\n",
              "      <th>time_taken</th>\n",
              "      <th>stop</th>\n",
              "      <th>arr_time</th>\n",
              "      <th>to</th>\n",
              "      <th>price</th>\n",
              "    </tr>\n",
              "  </thead>\n",
              "  <tbody>\n",
              "    <tr>\n",
              "      <th>0</th>\n",
              "      <td>11-02-2022</td>\n",
              "      <td>Air India</td>\n",
              "      <td>AI</td>\n",
              "      <td>868</td>\n",
              "      <td>18:00</td>\n",
              "      <td>Delhi</td>\n",
              "      <td>02h 00m</td>\n",
              "      <td>non-stop</td>\n",
              "      <td>20:00</td>\n",
              "      <td>Mumbai</td>\n",
              "      <td>25,612</td>\n",
              "    </tr>\n",
              "    <tr>\n",
              "      <th>1</th>\n",
              "      <td>11-02-2022</td>\n",
              "      <td>Air India</td>\n",
              "      <td>AI</td>\n",
              "      <td>624</td>\n",
              "      <td>19:00</td>\n",
              "      <td>Delhi</td>\n",
              "      <td>02h 15m</td>\n",
              "      <td>non-stop</td>\n",
              "      <td>21:15</td>\n",
              "      <td>Mumbai</td>\n",
              "      <td>25,612</td>\n",
              "    </tr>\n",
              "    <tr>\n",
              "      <th>2</th>\n",
              "      <td>11-02-2022</td>\n",
              "      <td>Air India</td>\n",
              "      <td>AI</td>\n",
              "      <td>531</td>\n",
              "      <td>20:00</td>\n",
              "      <td>Delhi</td>\n",
              "      <td>24h 45m</td>\n",
              "      <td>1-stop\\n\\t\\t\\t\\t\\t\\t\\t\\t\\t\\t\\t\\t\\n\\t\\t\\t\\t\\t\\t...</td>\n",
              "      <td>20:45</td>\n",
              "      <td>Mumbai</td>\n",
              "      <td>42,220</td>\n",
              "    </tr>\n",
              "    <tr>\n",
              "      <th>3</th>\n",
              "      <td>11-02-2022</td>\n",
              "      <td>Air India</td>\n",
              "      <td>AI</td>\n",
              "      <td>839</td>\n",
              "      <td>21:25</td>\n",
              "      <td>Delhi</td>\n",
              "      <td>26h 30m</td>\n",
              "      <td>1-stop\\n\\t\\t\\t\\t\\t\\t\\t\\t\\t\\t\\t\\t\\n\\t\\t\\t\\t\\t\\t...</td>\n",
              "      <td>23:55</td>\n",
              "      <td>Mumbai</td>\n",
              "      <td>44,450</td>\n",
              "    </tr>\n",
              "    <tr>\n",
              "      <th>4</th>\n",
              "      <td>11-02-2022</td>\n",
              "      <td>Air India</td>\n",
              "      <td>AI</td>\n",
              "      <td>544</td>\n",
              "      <td>17:15</td>\n",
              "      <td>Delhi</td>\n",
              "      <td>06h 40m</td>\n",
              "      <td>1-stop\\n\\t\\t\\t\\t\\t\\t\\t\\t\\t\\t\\t\\t\\n\\t\\t\\t\\t\\t\\t...</td>\n",
              "      <td>23:55</td>\n",
              "      <td>Mumbai</td>\n",
              "      <td>46,690</td>\n",
              "    </tr>\n",
              "  </tbody>\n",
              "</table>\n",
              "</div>"
            ],
            "text/plain": [
              "         date    airline ch_code  num_code dep_time   from time_taken  \\\n",
              "0  11-02-2022  Air India      AI       868    18:00  Delhi    02h 00m   \n",
              "1  11-02-2022  Air India      AI       624    19:00  Delhi    02h 15m   \n",
              "2  11-02-2022  Air India      AI       531    20:00  Delhi    24h 45m   \n",
              "3  11-02-2022  Air India      AI       839    21:25  Delhi    26h 30m   \n",
              "4  11-02-2022  Air India      AI       544    17:15  Delhi    06h 40m   \n",
              "\n",
              "                                                stop arr_time      to   price  \n",
              "0                                          non-stop     20:00  Mumbai  25,612  \n",
              "1                                          non-stop     21:15  Mumbai  25,612  \n",
              "2  1-stop\\n\\t\\t\\t\\t\\t\\t\\t\\t\\t\\t\\t\\t\\n\\t\\t\\t\\t\\t\\t...    20:45  Mumbai  42,220  \n",
              "3  1-stop\\n\\t\\t\\t\\t\\t\\t\\t\\t\\t\\t\\t\\t\\n\\t\\t\\t\\t\\t\\t...    23:55  Mumbai  44,450  \n",
              "4  1-stop\\n\\t\\t\\t\\t\\t\\t\\t\\t\\t\\t\\t\\t\\n\\t\\t\\t\\t\\t\\t...    23:55  Mumbai  46,690  "
            ]
          },
          "execution_count": 97,
          "metadata": {},
          "output_type": "execute_result"
        }
      ],
      "source": [
        "file1.head()"
      ]
    },
    {
      "cell_type": "code",
      "execution_count": null,
      "metadata": {
        "id": "1Yn6d4hL8cnU",
        "outputId": "307fa001-f27a-4c18-d8dc-9b6b54e9b163"
      },
      "outputs": [
        {
          "data": {
            "text/plain": [
              "<bound method IndexOpsMixin.nunique of 0        25,612\n",
              "1        25,612\n",
              "2        42,220\n",
              "3        44,450\n",
              "4        46,690\n",
              "          ...  \n",
              "93482    69,265\n",
              "93483    77,105\n",
              "93484    79,099\n",
              "93485    81,585\n",
              "93486    81,585\n",
              "Name: price, Length: 93487, dtype: object>"
            ]
          },
          "execution_count": 98,
          "metadata": {},
          "output_type": "execute_result"
        }
      ],
      "source": [
        "file1['price'].nunique"
      ]
    },
    {
      "cell_type": "code",
      "execution_count": null,
      "metadata": {
        "colab": {
          "base_uri": "https://localhost:8080/",
          "height": 206
        },
        "id": "epQVo0US-ILB",
        "outputId": "9ab37c69-fd5c-4c52-a14b-6ea44a94998a"
      },
      "outputs": [
        {
          "data": {
            "text/html": [
              "<div>\n",
              "<style scoped>\n",
              "    .dataframe tbody tr th:only-of-type {\n",
              "        vertical-align: middle;\n",
              "    }\n",
              "\n",
              "    .dataframe tbody tr th {\n",
              "        vertical-align: top;\n",
              "    }\n",
              "\n",
              "    .dataframe thead th {\n",
              "        text-align: right;\n",
              "    }\n",
              "</style>\n",
              "<table border=\"1\" class=\"dataframe\">\n",
              "  <thead>\n",
              "    <tr style=\"text-align: right;\">\n",
              "      <th></th>\n",
              "      <th>date</th>\n",
              "      <th>airline</th>\n",
              "      <th>ch_code</th>\n",
              "      <th>num_code</th>\n",
              "      <th>dep_time</th>\n",
              "      <th>from</th>\n",
              "      <th>time_taken</th>\n",
              "      <th>stop</th>\n",
              "      <th>arr_time</th>\n",
              "      <th>to</th>\n",
              "      <th>price</th>\n",
              "    </tr>\n",
              "  </thead>\n",
              "  <tbody>\n",
              "    <tr>\n",
              "      <th>0</th>\n",
              "      <td>11-02-2022</td>\n",
              "      <td>SpiceJet</td>\n",
              "      <td>SG</td>\n",
              "      <td>8709</td>\n",
              "      <td>18:55</td>\n",
              "      <td>Delhi</td>\n",
              "      <td>02h 10m</td>\n",
              "      <td>non-stop</td>\n",
              "      <td>21:05</td>\n",
              "      <td>Mumbai</td>\n",
              "      <td>5,953</td>\n",
              "    </tr>\n",
              "    <tr>\n",
              "      <th>1</th>\n",
              "      <td>11-02-2022</td>\n",
              "      <td>SpiceJet</td>\n",
              "      <td>SG</td>\n",
              "      <td>8157</td>\n",
              "      <td>06:20</td>\n",
              "      <td>Delhi</td>\n",
              "      <td>02h 20m</td>\n",
              "      <td>non-stop</td>\n",
              "      <td>08:40</td>\n",
              "      <td>Mumbai</td>\n",
              "      <td>5,953</td>\n",
              "    </tr>\n",
              "    <tr>\n",
              "      <th>2</th>\n",
              "      <td>11-02-2022</td>\n",
              "      <td>AirAsia</td>\n",
              "      <td>I5</td>\n",
              "      <td>764</td>\n",
              "      <td>04:25</td>\n",
              "      <td>Delhi</td>\n",
              "      <td>02h 10m</td>\n",
              "      <td>non-stop</td>\n",
              "      <td>06:35</td>\n",
              "      <td>Mumbai</td>\n",
              "      <td>5,956</td>\n",
              "    </tr>\n",
              "    <tr>\n",
              "      <th>3</th>\n",
              "      <td>11-02-2022</td>\n",
              "      <td>Vistara</td>\n",
              "      <td>UK</td>\n",
              "      <td>995</td>\n",
              "      <td>10:20</td>\n",
              "      <td>Delhi</td>\n",
              "      <td>02h 15m</td>\n",
              "      <td>non-stop</td>\n",
              "      <td>12:35</td>\n",
              "      <td>Mumbai</td>\n",
              "      <td>5,955</td>\n",
              "    </tr>\n",
              "    <tr>\n",
              "      <th>4</th>\n",
              "      <td>11-02-2022</td>\n",
              "      <td>Vistara</td>\n",
              "      <td>UK</td>\n",
              "      <td>963</td>\n",
              "      <td>08:50</td>\n",
              "      <td>Delhi</td>\n",
              "      <td>02h 20m</td>\n",
              "      <td>non-stop</td>\n",
              "      <td>11:10</td>\n",
              "      <td>Mumbai</td>\n",
              "      <td>5,955</td>\n",
              "    </tr>\n",
              "  </tbody>\n",
              "</table>\n",
              "</div>"
            ],
            "text/plain": [
              "         date   airline ch_code  num_code dep_time   from time_taken  \\\n",
              "0  11-02-2022  SpiceJet      SG      8709    18:55  Delhi    02h 10m   \n",
              "1  11-02-2022  SpiceJet      SG      8157    06:20  Delhi    02h 20m   \n",
              "2  11-02-2022   AirAsia      I5       764    04:25  Delhi    02h 10m   \n",
              "3  11-02-2022   Vistara      UK       995    10:20  Delhi    02h 15m   \n",
              "4  11-02-2022   Vistara      UK       963    08:50  Delhi    02h 20m   \n",
              "\n",
              "        stop arr_time      to  price  \n",
              "0  non-stop     21:05  Mumbai  5,953  \n",
              "1  non-stop     08:40  Mumbai  5,953  \n",
              "2  non-stop     06:35  Mumbai  5,956  \n",
              "3  non-stop     12:35  Mumbai  5,955  \n",
              "4  non-stop     11:10  Mumbai  5,955  "
            ]
          },
          "execution_count": 99,
          "metadata": {},
          "output_type": "execute_result"
        }
      ],
      "source": [
        "file2.head()"
      ]
    },
    {
      "cell_type": "code",
      "execution_count": null,
      "metadata": {
        "id": "V5pd6rBH8cnW",
        "outputId": "9f63d4db-11ea-4adc-f6c5-c8dd23a9fff0"
      },
      "outputs": [
        {
          "data": {
            "text/plain": [
              "<bound method IndexOpsMixin.nunique of 0         5,953\n",
              "1         5,953\n",
              "2         5,956\n",
              "3         5,955\n",
              "4         5,955\n",
              "          ...  \n",
              "206769    7,697\n",
              "206770    7,709\n",
              "206771    8,640\n",
              "206772    8,640\n",
              "206773    8,640\n",
              "Name: price, Length: 206774, dtype: object>"
            ]
          },
          "execution_count": 100,
          "metadata": {},
          "output_type": "execute_result"
        }
      ],
      "source": [
        "file2['price'].nunique"
      ]
    },
    {
      "cell_type": "markdown",
      "source": [
        "merging the datasets by using the concat"
      ],
      "metadata": {
        "id": "E4M-w5bg80BI"
      }
    },
    {
      "cell_type": "code",
      "execution_count": null,
      "metadata": {
        "id": "sWIuaSMt8cnX"
      },
      "outputs": [],
      "source": [
        "df = pd.concat([file1,file2], ignore_index=True)"
      ]
    },
    {
      "cell_type": "code",
      "execution_count": null,
      "metadata": {
        "id": "XBaUU0Z48cnY",
        "outputId": "5b462776-5547-44af-f006-a9bb138ecbd2"
      },
      "outputs": [
        {
          "data": {
            "text/html": [
              "<div>\n",
              "<style scoped>\n",
              "    .dataframe tbody tr th:only-of-type {\n",
              "        vertical-align: middle;\n",
              "    }\n",
              "\n",
              "    .dataframe tbody tr th {\n",
              "        vertical-align: top;\n",
              "    }\n",
              "\n",
              "    .dataframe thead th {\n",
              "        text-align: right;\n",
              "    }\n",
              "</style>\n",
              "<table border=\"1\" class=\"dataframe\">\n",
              "  <thead>\n",
              "    <tr style=\"text-align: right;\">\n",
              "      <th></th>\n",
              "      <th>date</th>\n",
              "      <th>airline</th>\n",
              "      <th>ch_code</th>\n",
              "      <th>num_code</th>\n",
              "      <th>dep_time</th>\n",
              "      <th>from</th>\n",
              "      <th>time_taken</th>\n",
              "      <th>stop</th>\n",
              "      <th>arr_time</th>\n",
              "      <th>to</th>\n",
              "      <th>price</th>\n",
              "    </tr>\n",
              "  </thead>\n",
              "  <tbody>\n",
              "    <tr>\n",
              "      <th>0</th>\n",
              "      <td>11-02-2022</td>\n",
              "      <td>Air India</td>\n",
              "      <td>AI</td>\n",
              "      <td>868</td>\n",
              "      <td>18:00</td>\n",
              "      <td>Delhi</td>\n",
              "      <td>02h 00m</td>\n",
              "      <td>non-stop</td>\n",
              "      <td>20:00</td>\n",
              "      <td>Mumbai</td>\n",
              "      <td>25,612</td>\n",
              "    </tr>\n",
              "    <tr>\n",
              "      <th>1</th>\n",
              "      <td>11-02-2022</td>\n",
              "      <td>Air India</td>\n",
              "      <td>AI</td>\n",
              "      <td>624</td>\n",
              "      <td>19:00</td>\n",
              "      <td>Delhi</td>\n",
              "      <td>02h 15m</td>\n",
              "      <td>non-stop</td>\n",
              "      <td>21:15</td>\n",
              "      <td>Mumbai</td>\n",
              "      <td>25,612</td>\n",
              "    </tr>\n",
              "    <tr>\n",
              "      <th>2</th>\n",
              "      <td>11-02-2022</td>\n",
              "      <td>Air India</td>\n",
              "      <td>AI</td>\n",
              "      <td>531</td>\n",
              "      <td>20:00</td>\n",
              "      <td>Delhi</td>\n",
              "      <td>24h 45m</td>\n",
              "      <td>1-stop\\n\\t\\t\\t\\t\\t\\t\\t\\t\\t\\t\\t\\t\\n\\t\\t\\t\\t\\t\\t...</td>\n",
              "      <td>20:45</td>\n",
              "      <td>Mumbai</td>\n",
              "      <td>42,220</td>\n",
              "    </tr>\n",
              "    <tr>\n",
              "      <th>3</th>\n",
              "      <td>11-02-2022</td>\n",
              "      <td>Air India</td>\n",
              "      <td>AI</td>\n",
              "      <td>839</td>\n",
              "      <td>21:25</td>\n",
              "      <td>Delhi</td>\n",
              "      <td>26h 30m</td>\n",
              "      <td>1-stop\\n\\t\\t\\t\\t\\t\\t\\t\\t\\t\\t\\t\\t\\n\\t\\t\\t\\t\\t\\t...</td>\n",
              "      <td>23:55</td>\n",
              "      <td>Mumbai</td>\n",
              "      <td>44,450</td>\n",
              "    </tr>\n",
              "    <tr>\n",
              "      <th>4</th>\n",
              "      <td>11-02-2022</td>\n",
              "      <td>Air India</td>\n",
              "      <td>AI</td>\n",
              "      <td>544</td>\n",
              "      <td>17:15</td>\n",
              "      <td>Delhi</td>\n",
              "      <td>06h 40m</td>\n",
              "      <td>1-stop\\n\\t\\t\\t\\t\\t\\t\\t\\t\\t\\t\\t\\t\\n\\t\\t\\t\\t\\t\\t...</td>\n",
              "      <td>23:55</td>\n",
              "      <td>Mumbai</td>\n",
              "      <td>46,690</td>\n",
              "    </tr>\n",
              "  </tbody>\n",
              "</table>\n",
              "</div>"
            ],
            "text/plain": [
              "         date    airline ch_code  num_code dep_time   from time_taken  \\\n",
              "0  11-02-2022  Air India      AI       868    18:00  Delhi    02h 00m   \n",
              "1  11-02-2022  Air India      AI       624    19:00  Delhi    02h 15m   \n",
              "2  11-02-2022  Air India      AI       531    20:00  Delhi    24h 45m   \n",
              "3  11-02-2022  Air India      AI       839    21:25  Delhi    26h 30m   \n",
              "4  11-02-2022  Air India      AI       544    17:15  Delhi    06h 40m   \n",
              "\n",
              "                                                stop arr_time      to   price  \n",
              "0                                          non-stop     20:00  Mumbai  25,612  \n",
              "1                                          non-stop     21:15  Mumbai  25,612  \n",
              "2  1-stop\\n\\t\\t\\t\\t\\t\\t\\t\\t\\t\\t\\t\\t\\n\\t\\t\\t\\t\\t\\t...    20:45  Mumbai  42,220  \n",
              "3  1-stop\\n\\t\\t\\t\\t\\t\\t\\t\\t\\t\\t\\t\\t\\n\\t\\t\\t\\t\\t\\t...    23:55  Mumbai  44,450  \n",
              "4  1-stop\\n\\t\\t\\t\\t\\t\\t\\t\\t\\t\\t\\t\\t\\n\\t\\t\\t\\t\\t\\t...    23:55  Mumbai  46,690  "
            ]
          },
          "execution_count": 102,
          "metadata": {},
          "output_type": "execute_result"
        }
      ],
      "source": [
        "df.head()"
      ]
    },
    {
      "cell_type": "code",
      "execution_count": null,
      "metadata": {
        "id": "pJ4NvfQY8cnZ",
        "outputId": "1e9363f2-2d55-489d-f955-1237a4cbc26a"
      },
      "outputs": [
        {
          "data": {
            "text/html": [
              "<div>\n",
              "<style scoped>\n",
              "    .dataframe tbody tr th:only-of-type {\n",
              "        vertical-align: middle;\n",
              "    }\n",
              "\n",
              "    .dataframe tbody tr th {\n",
              "        vertical-align: top;\n",
              "    }\n",
              "\n",
              "    .dataframe thead th {\n",
              "        text-align: right;\n",
              "    }\n",
              "</style>\n",
              "<table border=\"1\" class=\"dataframe\">\n",
              "  <thead>\n",
              "    <tr style=\"text-align: right;\">\n",
              "      <th></th>\n",
              "      <th>date</th>\n",
              "      <th>airline</th>\n",
              "      <th>ch_code</th>\n",
              "      <th>num_code</th>\n",
              "      <th>dep_time</th>\n",
              "      <th>from</th>\n",
              "      <th>time_taken</th>\n",
              "      <th>stop</th>\n",
              "      <th>arr_time</th>\n",
              "      <th>to</th>\n",
              "      <th>price</th>\n",
              "    </tr>\n",
              "  </thead>\n",
              "  <tbody>\n",
              "    <tr>\n",
              "      <th>300256</th>\n",
              "      <td>31-03-2022</td>\n",
              "      <td>Vistara</td>\n",
              "      <td>UK</td>\n",
              "      <td>832</td>\n",
              "      <td>07:05</td>\n",
              "      <td>Chennai</td>\n",
              "      <td>13h 50m</td>\n",
              "      <td>1-stop\\n\\t\\t\\t\\t\\t\\t\\t\\t\\t\\t\\t\\t\\n\\t\\t\\t\\t\\t\\t...</td>\n",
              "      <td>20:55</td>\n",
              "      <td>Hyderabad</td>\n",
              "      <td>7,697</td>\n",
              "    </tr>\n",
              "    <tr>\n",
              "      <th>300257</th>\n",
              "      <td>31-03-2022</td>\n",
              "      <td>Vistara</td>\n",
              "      <td>UK</td>\n",
              "      <td>832</td>\n",
              "      <td>07:05</td>\n",
              "      <td>Chennai</td>\n",
              "      <td>13h 50m</td>\n",
              "      <td>1-stop\\n\\t\\t\\t\\t\\t\\t\\t\\t\\t\\t\\t\\t\\n\\t\\t\\t\\t\\t\\t...</td>\n",
              "      <td>20:55</td>\n",
              "      <td>Hyderabad</td>\n",
              "      <td>7,709</td>\n",
              "    </tr>\n",
              "    <tr>\n",
              "      <th>300258</th>\n",
              "      <td>31-03-2022</td>\n",
              "      <td>Vistara</td>\n",
              "      <td>UK</td>\n",
              "      <td>826</td>\n",
              "      <td>12:30</td>\n",
              "      <td>Chennai</td>\n",
              "      <td>20h 35m</td>\n",
              "      <td>1-stop\\n\\t\\t\\t\\t\\t\\t\\t\\t\\t\\t\\t\\t\\n\\t\\t\\t\\t\\t\\t...</td>\n",
              "      <td>09:05</td>\n",
              "      <td>Hyderabad</td>\n",
              "      <td>8,640</td>\n",
              "    </tr>\n",
              "    <tr>\n",
              "      <th>300259</th>\n",
              "      <td>31-03-2022</td>\n",
              "      <td>Vistara</td>\n",
              "      <td>UK</td>\n",
              "      <td>822</td>\n",
              "      <td>09:45</td>\n",
              "      <td>Chennai</td>\n",
              "      <td>23h 20m</td>\n",
              "      <td>1-stop\\n\\t\\t\\t\\t\\t\\t\\t\\t\\t\\t\\t\\t\\n\\t\\t\\t\\t\\t\\t...</td>\n",
              "      <td>09:05</td>\n",
              "      <td>Hyderabad</td>\n",
              "      <td>8,640</td>\n",
              "    </tr>\n",
              "    <tr>\n",
              "      <th>300260</th>\n",
              "      <td>31-03-2022</td>\n",
              "      <td>Vistara</td>\n",
              "      <td>UK</td>\n",
              "      <td>824</td>\n",
              "      <td>20:30</td>\n",
              "      <td>Chennai</td>\n",
              "      <td>24h 25m</td>\n",
              "      <td>1-stop\\n\\t\\t\\t\\t\\t\\t\\t\\t\\t\\t\\t\\t\\n\\t\\t\\t\\t\\t\\t...</td>\n",
              "      <td>20:55</td>\n",
              "      <td>Hyderabad</td>\n",
              "      <td>8,640</td>\n",
              "    </tr>\n",
              "  </tbody>\n",
              "</table>\n",
              "</div>"
            ],
            "text/plain": [
              "              date  airline ch_code  num_code dep_time     from time_taken  \\\n",
              "300256  31-03-2022  Vistara      UK       832    07:05  Chennai    13h 50m   \n",
              "300257  31-03-2022  Vistara      UK       832    07:05  Chennai    13h 50m   \n",
              "300258  31-03-2022  Vistara      UK       826    12:30  Chennai    20h 35m   \n",
              "300259  31-03-2022  Vistara      UK       822    09:45  Chennai    23h 20m   \n",
              "300260  31-03-2022  Vistara      UK       824    20:30  Chennai    24h 25m   \n",
              "\n",
              "                                                     stop arr_time         to  \\\n",
              "300256  1-stop\\n\\t\\t\\t\\t\\t\\t\\t\\t\\t\\t\\t\\t\\n\\t\\t\\t\\t\\t\\t...    20:55  Hyderabad   \n",
              "300257  1-stop\\n\\t\\t\\t\\t\\t\\t\\t\\t\\t\\t\\t\\t\\n\\t\\t\\t\\t\\t\\t...    20:55  Hyderabad   \n",
              "300258  1-stop\\n\\t\\t\\t\\t\\t\\t\\t\\t\\t\\t\\t\\t\\n\\t\\t\\t\\t\\t\\t...    09:05  Hyderabad   \n",
              "300259  1-stop\\n\\t\\t\\t\\t\\t\\t\\t\\t\\t\\t\\t\\t\\n\\t\\t\\t\\t\\t\\t...    09:05  Hyderabad   \n",
              "300260  1-stop\\n\\t\\t\\t\\t\\t\\t\\t\\t\\t\\t\\t\\t\\n\\t\\t\\t\\t\\t\\t...    20:55  Hyderabad   \n",
              "\n",
              "        price  \n",
              "300256  7,697  \n",
              "300257  7,709  \n",
              "300258  8,640  \n",
              "300259  8,640  \n",
              "300260  8,640  "
            ]
          },
          "execution_count": 103,
          "metadata": {},
          "output_type": "execute_result"
        }
      ],
      "source": [
        "df.tail()"
      ]
    },
    {
      "cell_type": "code",
      "execution_count": null,
      "metadata": {
        "id": "TcEtIAiw8cnb",
        "outputId": "61d6e1eb-dfca-4bea-8350-f29903c9e028"
      },
      "outputs": [
        {
          "data": {
            "text/plain": [
              "(300261, 11)"
            ]
          },
          "execution_count": 104,
          "metadata": {},
          "output_type": "execute_result"
        }
      ],
      "source": [
        "df.shape"
      ]
    },
    {
      "cell_type": "code",
      "execution_count": null,
      "metadata": {
        "id": "RstssSHh8cnc",
        "outputId": "8083157e-013b-41a8-8061-df316ab9a15b"
      },
      "outputs": [
        {
          "data": {
            "text/plain": [
              "(300261, 11)"
            ]
          },
          "execution_count": 105,
          "metadata": {},
          "output_type": "execute_result"
        }
      ],
      "source": [
        "df.shape"
      ]
    },
    {
      "cell_type": "code",
      "execution_count": null,
      "metadata": {
        "colab": {
          "base_uri": "https://localhost:8080/"
        },
        "id": "3OFLsDEF_yDL",
        "outputId": "731fd7ed-4505-4221-8d17-6404e72e54b1"
      },
      "outputs": [
        {
          "data": {
            "text/plain": [
              "date          0\n",
              "airline       0\n",
              "ch_code       0\n",
              "num_code      0\n",
              "dep_time      0\n",
              "from          0\n",
              "time_taken    0\n",
              "stop          0\n",
              "arr_time      0\n",
              "to            0\n",
              "price         0\n",
              "dtype: int64"
            ]
          },
          "execution_count": 106,
          "metadata": {},
          "output_type": "execute_result"
        }
      ],
      "source": [
        "df.isnull().sum()"
      ]
    },
    {
      "cell_type": "markdown",
      "source": [
        "converting the date to the year,month and day"
      ],
      "metadata": {
        "id": "ASjP_45V89AG"
      }
    },
    {
      "cell_type": "code",
      "execution_count": null,
      "metadata": {
        "id": "4AgjSqcCdpVr",
        "outputId": "7ed63b0d-298d-44df-c436-f901a10da682"
      },
      "outputs": [
        {
          "data": {
            "text/html": [
              "<div>\n",
              "<style scoped>\n",
              "    .dataframe tbody tr th:only-of-type {\n",
              "        vertical-align: middle;\n",
              "    }\n",
              "\n",
              "    .dataframe tbody tr th {\n",
              "        vertical-align: top;\n",
              "    }\n",
              "\n",
              "    .dataframe thead th {\n",
              "        text-align: right;\n",
              "    }\n",
              "</style>\n",
              "<table border=\"1\" class=\"dataframe\">\n",
              "  <thead>\n",
              "    <tr style=\"text-align: right;\">\n",
              "      <th></th>\n",
              "      <th>date</th>\n",
              "      <th>airline</th>\n",
              "      <th>ch_code</th>\n",
              "      <th>num_code</th>\n",
              "      <th>dep_time</th>\n",
              "      <th>from</th>\n",
              "      <th>time_taken</th>\n",
              "      <th>stop</th>\n",
              "      <th>arr_time</th>\n",
              "      <th>to</th>\n",
              "      <th>price</th>\n",
              "      <th>year</th>\n",
              "      <th>month</th>\n",
              "      <th>day</th>\n",
              "    </tr>\n",
              "  </thead>\n",
              "  <tbody>\n",
              "    <tr>\n",
              "      <th>0</th>\n",
              "      <td>2022-11-02</td>\n",
              "      <td>Air India</td>\n",
              "      <td>AI</td>\n",
              "      <td>868</td>\n",
              "      <td>18:00</td>\n",
              "      <td>Delhi</td>\n",
              "      <td>02h 00m</td>\n",
              "      <td>non-stop</td>\n",
              "      <td>20:00</td>\n",
              "      <td>Mumbai</td>\n",
              "      <td>25,612</td>\n",
              "      <td>2022</td>\n",
              "      <td>11</td>\n",
              "      <td>2</td>\n",
              "    </tr>\n",
              "    <tr>\n",
              "      <th>1</th>\n",
              "      <td>2022-11-02</td>\n",
              "      <td>Air India</td>\n",
              "      <td>AI</td>\n",
              "      <td>624</td>\n",
              "      <td>19:00</td>\n",
              "      <td>Delhi</td>\n",
              "      <td>02h 15m</td>\n",
              "      <td>non-stop</td>\n",
              "      <td>21:15</td>\n",
              "      <td>Mumbai</td>\n",
              "      <td>25,612</td>\n",
              "      <td>2022</td>\n",
              "      <td>11</td>\n",
              "      <td>2</td>\n",
              "    </tr>\n",
              "    <tr>\n",
              "      <th>2</th>\n",
              "      <td>2022-11-02</td>\n",
              "      <td>Air India</td>\n",
              "      <td>AI</td>\n",
              "      <td>531</td>\n",
              "      <td>20:00</td>\n",
              "      <td>Delhi</td>\n",
              "      <td>24h 45m</td>\n",
              "      <td>1-stop\\n\\t\\t\\t\\t\\t\\t\\t\\t\\t\\t\\t\\t\\n\\t\\t\\t\\t\\t\\t...</td>\n",
              "      <td>20:45</td>\n",
              "      <td>Mumbai</td>\n",
              "      <td>42,220</td>\n",
              "      <td>2022</td>\n",
              "      <td>11</td>\n",
              "      <td>2</td>\n",
              "    </tr>\n",
              "    <tr>\n",
              "      <th>3</th>\n",
              "      <td>2022-11-02</td>\n",
              "      <td>Air India</td>\n",
              "      <td>AI</td>\n",
              "      <td>839</td>\n",
              "      <td>21:25</td>\n",
              "      <td>Delhi</td>\n",
              "      <td>26h 30m</td>\n",
              "      <td>1-stop\\n\\t\\t\\t\\t\\t\\t\\t\\t\\t\\t\\t\\t\\n\\t\\t\\t\\t\\t\\t...</td>\n",
              "      <td>23:55</td>\n",
              "      <td>Mumbai</td>\n",
              "      <td>44,450</td>\n",
              "      <td>2022</td>\n",
              "      <td>11</td>\n",
              "      <td>2</td>\n",
              "    </tr>\n",
              "    <tr>\n",
              "      <th>4</th>\n",
              "      <td>2022-11-02</td>\n",
              "      <td>Air India</td>\n",
              "      <td>AI</td>\n",
              "      <td>544</td>\n",
              "      <td>17:15</td>\n",
              "      <td>Delhi</td>\n",
              "      <td>06h 40m</td>\n",
              "      <td>1-stop\\n\\t\\t\\t\\t\\t\\t\\t\\t\\t\\t\\t\\t\\n\\t\\t\\t\\t\\t\\t...</td>\n",
              "      <td>23:55</td>\n",
              "      <td>Mumbai</td>\n",
              "      <td>46,690</td>\n",
              "      <td>2022</td>\n",
              "      <td>11</td>\n",
              "      <td>2</td>\n",
              "    </tr>\n",
              "  </tbody>\n",
              "</table>\n",
              "</div>"
            ],
            "text/plain": [
              "        date    airline ch_code  num_code dep_time   from time_taken  \\\n",
              "0 2022-11-02  Air India      AI       868    18:00  Delhi    02h 00m   \n",
              "1 2022-11-02  Air India      AI       624    19:00  Delhi    02h 15m   \n",
              "2 2022-11-02  Air India      AI       531    20:00  Delhi    24h 45m   \n",
              "3 2022-11-02  Air India      AI       839    21:25  Delhi    26h 30m   \n",
              "4 2022-11-02  Air India      AI       544    17:15  Delhi    06h 40m   \n",
              "\n",
              "                                                stop arr_time      to   price  \\\n",
              "0                                          non-stop     20:00  Mumbai  25,612   \n",
              "1                                          non-stop     21:15  Mumbai  25,612   \n",
              "2  1-stop\\n\\t\\t\\t\\t\\t\\t\\t\\t\\t\\t\\t\\t\\n\\t\\t\\t\\t\\t\\t...    20:45  Mumbai  42,220   \n",
              "3  1-stop\\n\\t\\t\\t\\t\\t\\t\\t\\t\\t\\t\\t\\t\\n\\t\\t\\t\\t\\t\\t...    23:55  Mumbai  44,450   \n",
              "4  1-stop\\n\\t\\t\\t\\t\\t\\t\\t\\t\\t\\t\\t\\t\\n\\t\\t\\t\\t\\t\\t...    23:55  Mumbai  46,690   \n",
              "\n",
              "   year  month  day  \n",
              "0  2022     11    2  \n",
              "1  2022     11    2  \n",
              "2  2022     11    2  \n",
              "3  2022     11    2  \n",
              "4  2022     11    2  "
            ]
          },
          "execution_count": 107,
          "metadata": {},
          "output_type": "execute_result"
        }
      ],
      "source": [
        "df['date'] = pd.to_datetime(df['date'],infer_datetime_format=True)# changing data dtype to datatime64\n",
        "df['year'] = df['date'].dt.year\n",
        "df['month'] = df['date'].dt.month\n",
        "df['day'] = df['date'].dt.day\n",
        "\n",
        "df.head()"
      ]
    },
    {
      "cell_type": "code",
      "execution_count": null,
      "metadata": {
        "id": "IgULHADg8cng",
        "outputId": "6905cf23-08e3-4e04-8176-994aea985635"
      },
      "outputs": [
        {
          "data": {
            "text/plain": [
              "(300261, 14)"
            ]
          },
          "execution_count": 108,
          "metadata": {},
          "output_type": "execute_result"
        }
      ],
      "source": [
        "df.shape"
      ]
    },
    {
      "cell_type": "code",
      "execution_count": null,
      "metadata": {
        "id": "ipVZo2n_8cnh",
        "outputId": "b7b48c37-a02c-4c81-e233-e0ed0d33e9e9"
      },
      "outputs": [
        {
          "data": {
            "text/html": [
              "<div>\n",
              "<style scoped>\n",
              "    .dataframe tbody tr th:only-of-type {\n",
              "        vertical-align: middle;\n",
              "    }\n",
              "\n",
              "    .dataframe tbody tr th {\n",
              "        vertical-align: top;\n",
              "    }\n",
              "\n",
              "    .dataframe thead th {\n",
              "        text-align: right;\n",
              "    }\n",
              "</style>\n",
              "<table border=\"1\" class=\"dataframe\">\n",
              "  <thead>\n",
              "    <tr style=\"text-align: right;\">\n",
              "      <th></th>\n",
              "      <th>airline</th>\n",
              "      <th>ch_code</th>\n",
              "      <th>num_code</th>\n",
              "      <th>dep_time</th>\n",
              "      <th>from</th>\n",
              "      <th>time_taken</th>\n",
              "      <th>stop</th>\n",
              "      <th>arr_time</th>\n",
              "      <th>to</th>\n",
              "      <th>price</th>\n",
              "      <th>year</th>\n",
              "      <th>month</th>\n",
              "      <th>day</th>\n",
              "    </tr>\n",
              "  </thead>\n",
              "  <tbody>\n",
              "    <tr>\n",
              "      <th>0</th>\n",
              "      <td>Air India</td>\n",
              "      <td>AI</td>\n",
              "      <td>868</td>\n",
              "      <td>18:00</td>\n",
              "      <td>Delhi</td>\n",
              "      <td>02h 00m</td>\n",
              "      <td>non-stop</td>\n",
              "      <td>20:00</td>\n",
              "      <td>Mumbai</td>\n",
              "      <td>25,612</td>\n",
              "      <td>2022</td>\n",
              "      <td>11</td>\n",
              "      <td>2</td>\n",
              "    </tr>\n",
              "    <tr>\n",
              "      <th>1</th>\n",
              "      <td>Air India</td>\n",
              "      <td>AI</td>\n",
              "      <td>624</td>\n",
              "      <td>19:00</td>\n",
              "      <td>Delhi</td>\n",
              "      <td>02h 15m</td>\n",
              "      <td>non-stop</td>\n",
              "      <td>21:15</td>\n",
              "      <td>Mumbai</td>\n",
              "      <td>25,612</td>\n",
              "      <td>2022</td>\n",
              "      <td>11</td>\n",
              "      <td>2</td>\n",
              "    </tr>\n",
              "    <tr>\n",
              "      <th>2</th>\n",
              "      <td>Air India</td>\n",
              "      <td>AI</td>\n",
              "      <td>531</td>\n",
              "      <td>20:00</td>\n",
              "      <td>Delhi</td>\n",
              "      <td>24h 45m</td>\n",
              "      <td>1-stop\\n\\t\\t\\t\\t\\t\\t\\t\\t\\t\\t\\t\\t\\n\\t\\t\\t\\t\\t\\t...</td>\n",
              "      <td>20:45</td>\n",
              "      <td>Mumbai</td>\n",
              "      <td>42,220</td>\n",
              "      <td>2022</td>\n",
              "      <td>11</td>\n",
              "      <td>2</td>\n",
              "    </tr>\n",
              "    <tr>\n",
              "      <th>3</th>\n",
              "      <td>Air India</td>\n",
              "      <td>AI</td>\n",
              "      <td>839</td>\n",
              "      <td>21:25</td>\n",
              "      <td>Delhi</td>\n",
              "      <td>26h 30m</td>\n",
              "      <td>1-stop\\n\\t\\t\\t\\t\\t\\t\\t\\t\\t\\t\\t\\t\\n\\t\\t\\t\\t\\t\\t...</td>\n",
              "      <td>23:55</td>\n",
              "      <td>Mumbai</td>\n",
              "      <td>44,450</td>\n",
              "      <td>2022</td>\n",
              "      <td>11</td>\n",
              "      <td>2</td>\n",
              "    </tr>\n",
              "    <tr>\n",
              "      <th>4</th>\n",
              "      <td>Air India</td>\n",
              "      <td>AI</td>\n",
              "      <td>544</td>\n",
              "      <td>17:15</td>\n",
              "      <td>Delhi</td>\n",
              "      <td>06h 40m</td>\n",
              "      <td>1-stop\\n\\t\\t\\t\\t\\t\\t\\t\\t\\t\\t\\t\\t\\n\\t\\t\\t\\t\\t\\t...</td>\n",
              "      <td>23:55</td>\n",
              "      <td>Mumbai</td>\n",
              "      <td>46,690</td>\n",
              "      <td>2022</td>\n",
              "      <td>11</td>\n",
              "      <td>2</td>\n",
              "    </tr>\n",
              "  </tbody>\n",
              "</table>\n",
              "</div>"
            ],
            "text/plain": [
              "     airline ch_code  num_code dep_time   from time_taken  \\\n",
              "0  Air India      AI       868    18:00  Delhi    02h 00m   \n",
              "1  Air India      AI       624    19:00  Delhi    02h 15m   \n",
              "2  Air India      AI       531    20:00  Delhi    24h 45m   \n",
              "3  Air India      AI       839    21:25  Delhi    26h 30m   \n",
              "4  Air India      AI       544    17:15  Delhi    06h 40m   \n",
              "\n",
              "                                                stop arr_time      to   price  \\\n",
              "0                                          non-stop     20:00  Mumbai  25,612   \n",
              "1                                          non-stop     21:15  Mumbai  25,612   \n",
              "2  1-stop\\n\\t\\t\\t\\t\\t\\t\\t\\t\\t\\t\\t\\t\\n\\t\\t\\t\\t\\t\\t...    20:45  Mumbai  42,220   \n",
              "3  1-stop\\n\\t\\t\\t\\t\\t\\t\\t\\t\\t\\t\\t\\t\\n\\t\\t\\t\\t\\t\\t...    23:55  Mumbai  44,450   \n",
              "4  1-stop\\n\\t\\t\\t\\t\\t\\t\\t\\t\\t\\t\\t\\t\\n\\t\\t\\t\\t\\t\\t...    23:55  Mumbai  46,690   \n",
              "\n",
              "   year  month  day  \n",
              "0  2022     11    2  \n",
              "1  2022     11    2  \n",
              "2  2022     11    2  \n",
              "3  2022     11    2  \n",
              "4  2022     11    2  "
            ]
          },
          "execution_count": 109,
          "metadata": {},
          "output_type": "execute_result"
        }
      ],
      "source": [
        "df=df.drop('date',axis=1)\n",
        "df.head()"
      ]
    },
    {
      "cell_type": "code",
      "execution_count": null,
      "metadata": {
        "id": "D2F36yoZ8cnj",
        "outputId": "95c12422-fa18-46f2-e0bc-ea14a0dd3a70"
      },
      "outputs": [
        {
          "data": {
            "text/plain": [
              "(300261, 13)"
            ]
          },
          "execution_count": 110,
          "metadata": {},
          "output_type": "execute_result"
        }
      ],
      "source": [
        "df.shape"
      ]
    },
    {
      "cell_type": "code",
      "execution_count": null,
      "metadata": {
        "colab": {
          "base_uri": "https://localhost:8080/"
        },
        "id": "QyjfXdcpfa-s",
        "outputId": "61f643d1-350b-4b72-c34e-d22201f2beb1"
      },
      "outputs": [
        {
          "name": "stdout",
          "output_type": "stream",
          "text": [
            "<class 'pandas.core.frame.DataFrame'>\n",
            "RangeIndex: 300261 entries, 0 to 300260\n",
            "Data columns (total 13 columns):\n",
            " #   Column      Non-Null Count   Dtype \n",
            "---  ------      --------------   ----- \n",
            " 0   airline     300261 non-null  object\n",
            " 1   ch_code     300261 non-null  object\n",
            " 2   num_code    300261 non-null  int64 \n",
            " 3   dep_time    300261 non-null  object\n",
            " 4   from        300261 non-null  object\n",
            " 5   time_taken  300261 non-null  object\n",
            " 6   stop        300261 non-null  object\n",
            " 7   arr_time    300261 non-null  object\n",
            " 8   to          300261 non-null  object\n",
            " 9   price       300261 non-null  object\n",
            " 10  year        300261 non-null  int64 \n",
            " 11  month       300261 non-null  int64 \n",
            " 12  day         300261 non-null  int64 \n",
            "dtypes: int64(4), object(9)\n",
            "memory usage: 29.8+ MB\n"
          ]
        }
      ],
      "source": [
        "df.info()"
      ]
    },
    {
      "cell_type": "code",
      "execution_count": null,
      "metadata": {
        "colab": {
          "base_uri": "https://localhost:8080/",
          "height": 382
        },
        "id": "Pv6s5orvgyTg",
        "outputId": "2b75e074-5ff3-4ef3-e13f-ea1f49de138a"
      },
      "outputs": [
        {
          "data": {
            "text/html": [
              "<div>\n",
              "<style scoped>\n",
              "    .dataframe tbody tr th:only-of-type {\n",
              "        vertical-align: middle;\n",
              "    }\n",
              "\n",
              "    .dataframe tbody tr th {\n",
              "        vertical-align: top;\n",
              "    }\n",
              "\n",
              "    .dataframe thead th {\n",
              "        text-align: right;\n",
              "    }\n",
              "</style>\n",
              "<table border=\"1\" class=\"dataframe\">\n",
              "  <thead>\n",
              "    <tr style=\"text-align: right;\">\n",
              "      <th></th>\n",
              "      <th>num_code</th>\n",
              "      <th>year</th>\n",
              "      <th>month</th>\n",
              "      <th>day</th>\n",
              "    </tr>\n",
              "  </thead>\n",
              "  <tbody>\n",
              "    <tr>\n",
              "      <th>count</th>\n",
              "      <td>300261.000000</td>\n",
              "      <td>300261.0</td>\n",
              "      <td>300261.000000</td>\n",
              "      <td>300261.000000</td>\n",
              "    </tr>\n",
              "    <tr>\n",
              "      <th>mean</th>\n",
              "      <td>1417.771709</td>\n",
              "      <td>2022.0</td>\n",
              "      <td>3.764052</td>\n",
              "      <td>16.285562</td>\n",
              "    </tr>\n",
              "    <tr>\n",
              "      <th>std</th>\n",
              "      <td>1974.514439</td>\n",
              "      <td>0.0</td>\n",
              "      <td>2.736576</td>\n",
              "      <td>9.373534</td>\n",
              "    </tr>\n",
              "    <tr>\n",
              "      <th>min</th>\n",
              "      <td>101.000000</td>\n",
              "      <td>2022.0</td>\n",
              "      <td>1.000000</td>\n",
              "      <td>2.000000</td>\n",
              "    </tr>\n",
              "    <tr>\n",
              "      <th>25%</th>\n",
              "      <td>637.000000</td>\n",
              "      <td>2022.0</td>\n",
              "      <td>2.000000</td>\n",
              "      <td>3.000000</td>\n",
              "    </tr>\n",
              "    <tr>\n",
              "      <th>50%</th>\n",
              "      <td>818.000000</td>\n",
              "      <td>2022.0</td>\n",
              "      <td>3.000000</td>\n",
              "      <td>18.000000</td>\n",
              "    </tr>\n",
              "    <tr>\n",
              "      <th>75%</th>\n",
              "      <td>927.000000</td>\n",
              "      <td>2022.0</td>\n",
              "      <td>3.000000</td>\n",
              "      <td>24.000000</td>\n",
              "    </tr>\n",
              "    <tr>\n",
              "      <th>max</th>\n",
              "      <td>9991.000000</td>\n",
              "      <td>2022.0</td>\n",
              "      <td>12.000000</td>\n",
              "      <td>31.000000</td>\n",
              "    </tr>\n",
              "  </tbody>\n",
              "</table>\n",
              "</div>"
            ],
            "text/plain": [
              "            num_code      year          month            day\n",
              "count  300261.000000  300261.0  300261.000000  300261.000000\n",
              "mean     1417.771709    2022.0       3.764052      16.285562\n",
              "std      1974.514439       0.0       2.736576       9.373534\n",
              "min       101.000000    2022.0       1.000000       2.000000\n",
              "25%       637.000000    2022.0       2.000000       3.000000\n",
              "50%       818.000000    2022.0       3.000000      18.000000\n",
              "75%       927.000000    2022.0       3.000000      24.000000\n",
              "max      9991.000000    2022.0      12.000000      31.000000"
            ]
          },
          "execution_count": 112,
          "metadata": {},
          "output_type": "execute_result"
        }
      ],
      "source": [
        "df.describe()"
      ]
    },
    {
      "cell_type": "code",
      "execution_count": null,
      "metadata": {
        "colab": {
          "base_uri": "https://localhost:8080/"
        },
        "id": "tZL0h67GhDXP",
        "outputId": "91cb5ff4-c50b-4183-9dd6-6e42ecbef3dd"
      },
      "outputs": [
        {
          "data": {
            "text/plain": [
              "(300261, 13)"
            ]
          },
          "execution_count": 113,
          "metadata": {},
          "output_type": "execute_result"
        }
      ],
      "source": [
        "df.shape"
      ]
    },
    {
      "cell_type": "code",
      "execution_count": null,
      "metadata": {
        "colab": {
          "base_uri": "https://localhost:8080/",
          "height": 729
        },
        "id": "NpTQP38bhtba",
        "outputId": "f6486141-21f3-41a6-abec-c9dcbd3423dd"
      },
      "outputs": [
        {
          "data": {
            "image/png": "[encoded data removed]",
            "text/plain": [
              "<Figure size 3600x3600 with 100 Axes>"
            ]
          },
          "metadata": {
            "needs_background": "light"
          },
          "output_type": "display_data"
        }
      ],
      "source": [
        "df.plot(kind='box',subplots=True,layout=(10,10),figsize=(50,50))\n",
        "plt.show()"
      ]
    },
    {
      "cell_type": "code",
      "execution_count": null,
      "metadata": {
        "colab": {
          "base_uri": "https://localhost:8080/",
          "height": 729
        },
        "id": "fg5Dph7wiBg8",
        "outputId": "d3ae0555-a5be-4030-8531-ea13ef7a7df4"
      },
      "outputs": [
        {
          "data": {
            "image/png": "[encoded data removed]",
            "text/plain": [
              "<Figure size 3600x3600 with 100 Axes>"
            ]
          },
          "metadata": {
            "needs_background": "light"
          },
          "output_type": "display_data"
        }
      ],
      "source": [
        "#Removing the outliers\n",
        "cols=['num_code','month']\n",
        "q1=df[cols].quantile(0.25)\n",
        "q3=df[cols].quantile(0.75)\n",
        "iqr=q3-q1\n",
        "df_box=df[~((df[cols]<(q1 -1.5*iqr)) |(df[cols]>(q3 +1.5*iqr))).any(axis=1)]\n",
        "df_box.plot(kind='box',subplots=True,layout=(10,10),figsize=(50,50))\n",
        "plt.show()"
      ]
    },
    {
      "cell_type": "code",
      "execution_count": null,
      "metadata": {
        "id": "iq7H05sb8cnp",
        "outputId": "4b97637a-2184-47d2-dc5f-197b4a540d28"
      },
      "outputs": [
        {
          "data": {
            "text/plain": [
              "<bound method IndexOpsMixin.nunique of 0         2022\n",
              "1         2022\n",
              "2         2022\n",
              "3         2022\n",
              "4         2022\n",
              "          ... \n",
              "300256    2022\n",
              "300257    2022\n",
              "300258    2022\n",
              "300259    2022\n",
              "300260    2022\n",
              "Name: year, Length: 300261, dtype: int64>"
            ]
          },
          "execution_count": 116,
          "metadata": {},
          "output_type": "execute_result"
        }
      ],
      "source": [
        "df['year'].nunique"
      ]
    },
    {
      "cell_type": "code",
      "execution_count": null,
      "metadata": {
        "id": "kUjQ3t2r8cnu",
        "outputId": "48d56983-381a-400c-90bb-7f79c790c768"
      },
      "outputs": [
        {
          "data": {
            "text/plain": [
              "2022    300261\n",
              "Name: year, dtype: int64"
            ]
          },
          "execution_count": 117,
          "metadata": {},
          "output_type": "execute_result"
        }
      ],
      "source": [
        "df['year'].value_counts()"
      ]
    },
    {
      "cell_type": "code",
      "execution_count": null,
      "metadata": {
        "id": "okYmtOLt8cnw"
      },
      "outputs": [],
      "source": [
        "df = df.drop('year', axis=1)"
      ]
    },
    {
      "cell_type": "code",
      "execution_count": null,
      "metadata": {
        "id": "xAVi6o1G8cnx",
        "outputId": "19624773-90d0-4a55-f1ea-47a622d7f01c"
      },
      "outputs": [
        {
          "data": {
            "image/png": "[encoded data removed]",
            "text/plain": [
              "<Figure size 432x288 with 2 Axes>"
            ]
          },
          "metadata": {
            "needs_background": "light"
          },
          "output_type": "display_data"
        }
      ],
      "source": [
        "import seaborn as sns\n",
        "correlation_matrix = df.corr()\n",
        "\n",
        "# create the heatmap\n",
        "sns.heatmap(correlation_matrix, cmap='coolwarm', annot=True)\n",
        "\n",
        "# display the heatmap\n",
        "plt.show()"
      ]
    },
    {
      "cell_type": "code",
      "execution_count": null,
      "metadata": {
        "id": "sAmF1arE8cny",
        "outputId": "f792c4c4-7bf7-4042-909e-b143ab2c6391"
      },
      "outputs": [
        {
          "data": {
            "text/html": [
              "<div>\n",
              "<style scoped>\n",
              "    .dataframe tbody tr th:only-of-type {\n",
              "        vertical-align: middle;\n",
              "    }\n",
              "\n",
              "    .dataframe tbody tr th {\n",
              "        vertical-align: top;\n",
              "    }\n",
              "\n",
              "    .dataframe thead th {\n",
              "        text-align: right;\n",
              "    }\n",
              "</style>\n",
              "<table border=\"1\" class=\"dataframe\">\n",
              "  <thead>\n",
              "    <tr style=\"text-align: right;\">\n",
              "      <th></th>\n",
              "      <th>airline</th>\n",
              "      <th>ch_code</th>\n",
              "      <th>num_code</th>\n",
              "      <th>dep_time</th>\n",
              "      <th>from</th>\n",
              "      <th>time_taken</th>\n",
              "      <th>stop</th>\n",
              "      <th>arr_time</th>\n",
              "      <th>to</th>\n",
              "      <th>price</th>\n",
              "      <th>month</th>\n",
              "      <th>day</th>\n",
              "    </tr>\n",
              "  </thead>\n",
              "  <tbody>\n",
              "    <tr>\n",
              "      <th>0</th>\n",
              "      <td>Air India</td>\n",
              "      <td>AI</td>\n",
              "      <td>868</td>\n",
              "      <td>18:00</td>\n",
              "      <td>Delhi</td>\n",
              "      <td>02h 00m</td>\n",
              "      <td>non-stop</td>\n",
              "      <td>20:00</td>\n",
              "      <td>Mumbai</td>\n",
              "      <td>25,612</td>\n",
              "      <td>11</td>\n",
              "      <td>2</td>\n",
              "    </tr>\n",
              "    <tr>\n",
              "      <th>1</th>\n",
              "      <td>Air India</td>\n",
              "      <td>AI</td>\n",
              "      <td>624</td>\n",
              "      <td>19:00</td>\n",
              "      <td>Delhi</td>\n",
              "      <td>02h 15m</td>\n",
              "      <td>non-stop</td>\n",
              "      <td>21:15</td>\n",
              "      <td>Mumbai</td>\n",
              "      <td>25,612</td>\n",
              "      <td>11</td>\n",
              "      <td>2</td>\n",
              "    </tr>\n",
              "    <tr>\n",
              "      <th>2</th>\n",
              "      <td>Air India</td>\n",
              "      <td>AI</td>\n",
              "      <td>531</td>\n",
              "      <td>20:00</td>\n",
              "      <td>Delhi</td>\n",
              "      <td>24h 45m</td>\n",
              "      <td>1-stop\\n\\t\\t\\t\\t\\t\\t\\t\\t\\t\\t\\t\\t\\n\\t\\t\\t\\t\\t\\t...</td>\n",
              "      <td>20:45</td>\n",
              "      <td>Mumbai</td>\n",
              "      <td>42,220</td>\n",
              "      <td>11</td>\n",
              "      <td>2</td>\n",
              "    </tr>\n",
              "    <tr>\n",
              "      <th>3</th>\n",
              "      <td>Air India</td>\n",
              "      <td>AI</td>\n",
              "      <td>839</td>\n",
              "      <td>21:25</td>\n",
              "      <td>Delhi</td>\n",
              "      <td>26h 30m</td>\n",
              "      <td>1-stop\\n\\t\\t\\t\\t\\t\\t\\t\\t\\t\\t\\t\\t\\n\\t\\t\\t\\t\\t\\t...</td>\n",
              "      <td>23:55</td>\n",
              "      <td>Mumbai</td>\n",
              "      <td>44,450</td>\n",
              "      <td>11</td>\n",
              "      <td>2</td>\n",
              "    </tr>\n",
              "    <tr>\n",
              "      <th>4</th>\n",
              "      <td>Air India</td>\n",
              "      <td>AI</td>\n",
              "      <td>544</td>\n",
              "      <td>17:15</td>\n",
              "      <td>Delhi</td>\n",
              "      <td>06h 40m</td>\n",
              "      <td>1-stop\\n\\t\\t\\t\\t\\t\\t\\t\\t\\t\\t\\t\\t\\n\\t\\t\\t\\t\\t\\t...</td>\n",
              "      <td>23:55</td>\n",
              "      <td>Mumbai</td>\n",
              "      <td>46,690</td>\n",
              "      <td>11</td>\n",
              "      <td>2</td>\n",
              "    </tr>\n",
              "  </tbody>\n",
              "</table>\n",
              "</div>"
            ],
            "text/plain": [
              "     airline ch_code  num_code dep_time   from time_taken  \\\n",
              "0  Air India      AI       868    18:00  Delhi    02h 00m   \n",
              "1  Air India      AI       624    19:00  Delhi    02h 15m   \n",
              "2  Air India      AI       531    20:00  Delhi    24h 45m   \n",
              "3  Air India      AI       839    21:25  Delhi    26h 30m   \n",
              "4  Air India      AI       544    17:15  Delhi    06h 40m   \n",
              "\n",
              "                                                stop arr_time      to   price  \\\n",
              "0                                          non-stop     20:00  Mumbai  25,612   \n",
              "1                                          non-stop     21:15  Mumbai  25,612   \n",
              "2  1-stop\\n\\t\\t\\t\\t\\t\\t\\t\\t\\t\\t\\t\\t\\n\\t\\t\\t\\t\\t\\t...    20:45  Mumbai  42,220   \n",
              "3  1-stop\\n\\t\\t\\t\\t\\t\\t\\t\\t\\t\\t\\t\\t\\n\\t\\t\\t\\t\\t\\t...    23:55  Mumbai  44,450   \n",
              "4  1-stop\\n\\t\\t\\t\\t\\t\\t\\t\\t\\t\\t\\t\\t\\n\\t\\t\\t\\t\\t\\t...    23:55  Mumbai  46,690   \n",
              "\n",
              "   month  day  \n",
              "0     11    2  \n",
              "1     11    2  \n",
              "2     11    2  \n",
              "3     11    2  \n",
              "4     11    2  "
            ]
          },
          "execution_count": 120,
          "metadata": {},
          "output_type": "execute_result"
        }
      ],
      "source": [
        "df.head()"
      ]
    },
    {
      "cell_type": "markdown",
      "metadata": {
        "id": "kph0fN_J8cnz"
      },
      "source": [
        "#Separating Numerical and categorical columns"
      ]
    },
    {
      "cell_type": "code",
      "execution_count": null,
      "metadata": {
        "id": "93XAj_TL8cn0",
        "outputId": "cbc3f6c5-1044-40f1-d1f3-af7003d49aec"
      },
      "outputs": [
        {
          "name": "stdout",
          "output_type": "stream",
          "text": [
            "<class 'pandas.core.frame.DataFrame'>\n",
            "RangeIndex: 300261 entries, 0 to 300260\n",
            "Data columns (total 3 columns):\n",
            " #   Column    Non-Null Count   Dtype\n",
            "---  ------    --------------   -----\n",
            " 0   num_code  300261 non-null  int64\n",
            " 1   month     300261 non-null  int64\n",
            " 2   day       300261 non-null  int64\n",
            "dtypes: int64(3)\n",
            "memory usage: 6.9 MB\n",
            "None\n"
          ]
        },
        {
          "data": {
            "text/plain": [
              "(300261, 3)"
            ]
          },
          "execution_count": 121,
          "metadata": {},
          "output_type": "execute_result"
        }
      ],
      "source": [
        "numeric=df._get_numeric_data()                             \n",
        "print(numeric.info())\n",
        "numeric.shape"
      ]
    },
    {
      "cell_type": "code",
      "execution_count": null,
      "metadata": {
        "id": "K5DlUw9I8cn0",
        "outputId": "6f633326-ba8e-4f92-ebd7-fda5371e5865"
      },
      "outputs": [
        {
          "data": {
            "text/plain": [
              "num_code    0\n",
              "month       0\n",
              "day         0\n",
              "dtype: int64"
            ]
          },
          "execution_count": 122,
          "metadata": {},
          "output_type": "execute_result"
        }
      ],
      "source": [
        "numeric.isnull().sum()"
      ]
    },
    {
      "cell_type": "code",
      "execution_count": null,
      "metadata": {
        "id": "Qev42VIO8cn1",
        "outputId": "72cf6a9d-d9e5-446a-9c81-03a03e4b8722"
      },
      "outputs": [
        {
          "name": "stdout",
          "output_type": "stream",
          "text": [
            "<class 'pandas.core.frame.DataFrame'>\n",
            "RangeIndex: 300261 entries, 0 to 300260\n",
            "Data columns (total 9 columns):\n",
            " #   Column      Non-Null Count   Dtype \n",
            "---  ------      --------------   ----- \n",
            " 0   airline     300261 non-null  object\n",
            " 1   ch_code     300261 non-null  object\n",
            " 2   dep_time    300261 non-null  object\n",
            " 3   from        300261 non-null  object\n",
            " 4   time_taken  300261 non-null  object\n",
            " 5   stop        300261 non-null  object\n",
            " 6   arr_time    300261 non-null  object\n",
            " 7   to          300261 non-null  object\n",
            " 8   price       300261 non-null  object\n",
            "dtypes: object(9)\n",
            "memory usage: 20.6+ MB\n"
          ]
        }
      ],
      "source": [
        "cat=df.drop(numeric,axis=1)\n",
        "cat.info()"
      ]
    },
    {
      "cell_type": "code",
      "execution_count": null,
      "metadata": {
        "id": "_a89jGhy8cn1",
        "outputId": "98b4d2a5-275b-443d-d885-20b470b3bd7c"
      },
      "outputs": [
        {
          "data": {
            "text/plain": [
              "airline       0\n",
              "ch_code       0\n",
              "dep_time      0\n",
              "from          0\n",
              "time_taken    0\n",
              "stop          0\n",
              "arr_time      0\n",
              "to            0\n",
              "price         0\n",
              "dtype: int64"
            ]
          },
          "execution_count": 124,
          "metadata": {},
          "output_type": "execute_result"
        }
      ],
      "source": [
        "cat.isnull().sum()"
      ]
    },
    {
      "cell_type": "code",
      "execution_count": null,
      "metadata": {
        "id": "VVXXwlzT8cn2",
        "outputId": "56e6247e-b36a-4ab1-f9f3-d5cbf5692ba2"
      },
      "outputs": [
        {
          "data": {
            "text/plain": [
              "<bound method IndexOpsMixin.nunique of 0         25,612\n",
              "1         25,612\n",
              "2         42,220\n",
              "3         44,450\n",
              "4         46,690\n",
              "           ...  \n",
              "300256     7,697\n",
              "300257     7,709\n",
              "300258     8,640\n",
              "300259     8,640\n",
              "300260     8,640\n",
              "Name: price, Length: 300261, dtype: object>"
            ]
          },
          "execution_count": 125,
          "metadata": {},
          "output_type": "execute_result"
        }
      ],
      "source": [
        "cat['price'].T.nunique"
      ]
    },
    {
      "cell_type": "code",
      "execution_count": null,
      "metadata": {
        "id": "wYGSyzHd8cn3",
        "outputId": "97907dfc-4bf7-422f-84a0-97ab6bba9416"
      },
      "outputs": [
        {
          "data": {
            "text/plain": [
              "54,608    1445\n",
              "2,339     1442\n",
              "54,684    1390\n",
              "60,978    1383\n",
              "60,508    1230\n",
              "          ... \n",
              "81,452       1\n",
              "51,019       1\n",
              "86,911       1\n",
              "17,184       1\n",
              "6,967        1\n",
              "Name: price, Length: 12165, dtype: int64"
            ]
          },
          "execution_count": 126,
          "metadata": {},
          "output_type": "execute_result"
        }
      ],
      "source": [
        "cat['price'].value_counts()"
      ]
    },
    {
      "cell_type": "code",
      "execution_count": null,
      "metadata": {
        "id": "PX17yzbv8cn3",
        "outputId": "364deea8-71e8-445a-9824-14ef604cd628"
      },
      "outputs": [
        {
          "name": "stdout",
          "output_type": "stream",
          "text": [
            "<class 'pandas.core.frame.DataFrame'>\n",
            "RangeIndex: 300261 entries, 0 to 300260\n",
            "Data columns (total 9 columns):\n",
            " #   Column      Non-Null Count   Dtype \n",
            "---  ------      --------------   ----- \n",
            " 0   airline     300261 non-null  object\n",
            " 1   ch_code     300261 non-null  object\n",
            " 2   dep_time    300261 non-null  object\n",
            " 3   from        300261 non-null  object\n",
            " 4   time_taken  300261 non-null  object\n",
            " 5   stop        300261 non-null  object\n",
            " 6   arr_time    300261 non-null  object\n",
            " 7   to          300261 non-null  object\n",
            " 8   price       300261 non-null  object\n",
            "dtypes: object(9)\n",
            "memory usage: 20.6+ MB\n"
          ]
        }
      ],
      "source": [
        "cat.info()"
      ]
    },
    {
      "cell_type": "code",
      "execution_count": null,
      "metadata": {
        "id": "1-7iqiRG8cn4"
      },
      "outputs": [],
      "source": [
        "cat= cat.drop(['price'],axis=1)"
      ]
    },
    {
      "cell_type": "code",
      "execution_count": null,
      "metadata": {
        "id": "CT_l-aA88cn5",
        "outputId": "43c37861-0b5e-41ad-fcc6-0b822776a480"
      },
      "outputs": [
        {
          "data": {
            "text/html": [
              "<div>\n",
              "<style scoped>\n",
              "    .dataframe tbody tr th:only-of-type {\n",
              "        vertical-align: middle;\n",
              "    }\n",
              "\n",
              "    .dataframe tbody tr th {\n",
              "        vertical-align: top;\n",
              "    }\n",
              "\n",
              "    .dataframe thead th {\n",
              "        text-align: right;\n",
              "    }\n",
              "</style>\n",
              "<table border=\"1\" class=\"dataframe\">\n",
              "  <thead>\n",
              "    <tr style=\"text-align: right;\">\n",
              "      <th></th>\n",
              "      <th>airline</th>\n",
              "      <th>ch_code</th>\n",
              "      <th>dep_time</th>\n",
              "      <th>from</th>\n",
              "      <th>time_taken</th>\n",
              "      <th>stop</th>\n",
              "      <th>arr_time</th>\n",
              "      <th>to</th>\n",
              "    </tr>\n",
              "  </thead>\n",
              "  <tbody>\n",
              "    <tr>\n",
              "      <th>0</th>\n",
              "      <td>Air India</td>\n",
              "      <td>AI</td>\n",
              "      <td>18:00</td>\n",
              "      <td>Delhi</td>\n",
              "      <td>02h 00m</td>\n",
              "      <td>non-stop</td>\n",
              "      <td>20:00</td>\n",
              "      <td>Mumbai</td>\n",
              "    </tr>\n",
              "    <tr>\n",
              "      <th>1</th>\n",
              "      <td>Air India</td>\n",
              "      <td>AI</td>\n",
              "      <td>19:00</td>\n",
              "      <td>Delhi</td>\n",
              "      <td>02h 15m</td>\n",
              "      <td>non-stop</td>\n",
              "      <td>21:15</td>\n",
              "      <td>Mumbai</td>\n",
              "    </tr>\n",
              "    <tr>\n",
              "      <th>2</th>\n",
              "      <td>Air India</td>\n",
              "      <td>AI</td>\n",
              "      <td>20:00</td>\n",
              "      <td>Delhi</td>\n",
              "      <td>24h 45m</td>\n",
              "      <td>1-stop\\n\\t\\t\\t\\t\\t\\t\\t\\t\\t\\t\\t\\t\\n\\t\\t\\t\\t\\t\\t...</td>\n",
              "      <td>20:45</td>\n",
              "      <td>Mumbai</td>\n",
              "    </tr>\n",
              "    <tr>\n",
              "      <th>3</th>\n",
              "      <td>Air India</td>\n",
              "      <td>AI</td>\n",
              "      <td>21:25</td>\n",
              "      <td>Delhi</td>\n",
              "      <td>26h 30m</td>\n",
              "      <td>1-stop\\n\\t\\t\\t\\t\\t\\t\\t\\t\\t\\t\\t\\t\\n\\t\\t\\t\\t\\t\\t...</td>\n",
              "      <td>23:55</td>\n",
              "      <td>Mumbai</td>\n",
              "    </tr>\n",
              "    <tr>\n",
              "      <th>4</th>\n",
              "      <td>Air India</td>\n",
              "      <td>AI</td>\n",
              "      <td>17:15</td>\n",
              "      <td>Delhi</td>\n",
              "      <td>06h 40m</td>\n",
              "      <td>1-stop\\n\\t\\t\\t\\t\\t\\t\\t\\t\\t\\t\\t\\t\\n\\t\\t\\t\\t\\t\\t...</td>\n",
              "      <td>23:55</td>\n",
              "      <td>Mumbai</td>\n",
              "    </tr>\n",
              "  </tbody>\n",
              "</table>\n",
              "</div>"
            ],
            "text/plain": [
              "     airline ch_code dep_time   from time_taken  \\\n",
              "0  Air India      AI    18:00  Delhi    02h 00m   \n",
              "1  Air India      AI    19:00  Delhi    02h 15m   \n",
              "2  Air India      AI    20:00  Delhi    24h 45m   \n",
              "3  Air India      AI    21:25  Delhi    26h 30m   \n",
              "4  Air India      AI    17:15  Delhi    06h 40m   \n",
              "\n",
              "                                                stop arr_time      to  \n",
              "0                                          non-stop     20:00  Mumbai  \n",
              "1                                          non-stop     21:15  Mumbai  \n",
              "2  1-stop\\n\\t\\t\\t\\t\\t\\t\\t\\t\\t\\t\\t\\t\\n\\t\\t\\t\\t\\t\\t...    20:45  Mumbai  \n",
              "3  1-stop\\n\\t\\t\\t\\t\\t\\t\\t\\t\\t\\t\\t\\t\\n\\t\\t\\t\\t\\t\\t...    23:55  Mumbai  \n",
              "4  1-stop\\n\\t\\t\\t\\t\\t\\t\\t\\t\\t\\t\\t\\t\\n\\t\\t\\t\\t\\t\\t...    23:55  Mumbai  "
            ]
          },
          "execution_count": 129,
          "metadata": {},
          "output_type": "execute_result"
        }
      ],
      "source": [
        "cat.head()"
      ]
    },
    {
      "cell_type": "markdown",
      "source": [
        "converting the categorical data to numeric by using the get dummies"
      ],
      "metadata": {
        "id": "p8Cezu3Z9cG2"
      }
    },
    {
      "cell_type": "code",
      "execution_count": null,
      "metadata": {
        "id": "z51cKO1j8cn6"
      },
      "outputs": [],
      "source": [
        "cat= pd.get_dummies(cat)"
      ]
    },
    {
      "cell_type": "code",
      "execution_count": null,
      "metadata": {
        "id": "5J1_orq08cn7",
        "outputId": "913f7ebd-1025-4052-e441-c10f425e27b5"
      },
      "outputs": [
        {
          "data": {
            "text/html": [
              "<div>\n",
              "<style scoped>\n",
              "    .dataframe tbody tr th:only-of-type {\n",
              "        vertical-align: middle;\n",
              "    }\n",
              "\n",
              "    .dataframe tbody tr th {\n",
              "        vertical-align: top;\n",
              "    }\n",
              "\n",
              "    .dataframe thead th {\n",
              "        text-align: right;\n",
              "    }\n",
              "</style>\n",
              "<table border=\"1\" class=\"dataframe\">\n",
              "  <thead>\n",
              "    <tr style=\"text-align: right;\">\n",
              "      <th></th>\n",
              "      <th>airline_Air India</th>\n",
              "      <th>airline_AirAsia</th>\n",
              "      <th>airline_GO FIRST</th>\n",
              "      <th>airline_Indigo</th>\n",
              "      <th>airline_SpiceJet</th>\n",
              "      <th>airline_StarAir</th>\n",
              "      <th>airline_Trujet</th>\n",
              "      <th>airline_Vistara</th>\n",
              "      <th>ch_code_2T</th>\n",
              "      <th>ch_code_6E</th>\n",
              "      <th>...</th>\n",
              "      <th>arr_time_23:45</th>\n",
              "      <th>arr_time_23:50</th>\n",
              "      <th>arr_time_23:55</th>\n",
              "      <th>arr_time_23:59</th>\n",
              "      <th>to_Bangalore</th>\n",
              "      <th>to_Chennai</th>\n",
              "      <th>to_Delhi</th>\n",
              "      <th>to_Hyderabad</th>\n",
              "      <th>to_Kolkata</th>\n",
              "      <th>to_Mumbai</th>\n",
              "    </tr>\n",
              "  </thead>\n",
              "  <tbody>\n",
              "    <tr>\n",
              "      <th>0</th>\n",
              "      <td>1</td>\n",
              "      <td>0</td>\n",
              "      <td>0</td>\n",
              "      <td>0</td>\n",
              "      <td>0</td>\n",
              "      <td>0</td>\n",
              "      <td>0</td>\n",
              "      <td>0</td>\n",
              "      <td>0</td>\n",
              "      <td>0</td>\n",
              "      <td>...</td>\n",
              "      <td>0</td>\n",
              "      <td>0</td>\n",
              "      <td>0</td>\n",
              "      <td>0</td>\n",
              "      <td>0</td>\n",
              "      <td>0</td>\n",
              "      <td>0</td>\n",
              "      <td>0</td>\n",
              "      <td>0</td>\n",
              "      <td>1</td>\n",
              "    </tr>\n",
              "    <tr>\n",
              "      <th>1</th>\n",
              "      <td>1</td>\n",
              "      <td>0</td>\n",
              "      <td>0</td>\n",
              "      <td>0</td>\n",
              "      <td>0</td>\n",
              "      <td>0</td>\n",
              "      <td>0</td>\n",
              "      <td>0</td>\n",
              "      <td>0</td>\n",
              "      <td>0</td>\n",
              "      <td>...</td>\n",
              "      <td>0</td>\n",
              "      <td>0</td>\n",
              "      <td>0</td>\n",
              "      <td>0</td>\n",
              "      <td>0</td>\n",
              "      <td>0</td>\n",
              "      <td>0</td>\n",
              "      <td>0</td>\n",
              "      <td>0</td>\n",
              "      <td>1</td>\n",
              "    </tr>\n",
              "    <tr>\n",
              "      <th>2</th>\n",
              "      <td>1</td>\n",
              "      <td>0</td>\n",
              "      <td>0</td>\n",
              "      <td>0</td>\n",
              "      <td>0</td>\n",
              "      <td>0</td>\n",
              "      <td>0</td>\n",
              "      <td>0</td>\n",
              "      <td>0</td>\n",
              "      <td>0</td>\n",
              "      <td>...</td>\n",
              "      <td>0</td>\n",
              "      <td>0</td>\n",
              "      <td>0</td>\n",
              "      <td>0</td>\n",
              "      <td>0</td>\n",
              "      <td>0</td>\n",
              "      <td>0</td>\n",
              "      <td>0</td>\n",
              "      <td>0</td>\n",
              "      <td>1</td>\n",
              "    </tr>\n",
              "    <tr>\n",
              "      <th>3</th>\n",
              "      <td>1</td>\n",
              "      <td>0</td>\n",
              "      <td>0</td>\n",
              "      <td>0</td>\n",
              "      <td>0</td>\n",
              "      <td>0</td>\n",
              "      <td>0</td>\n",
              "      <td>0</td>\n",
              "      <td>0</td>\n",
              "      <td>0</td>\n",
              "      <td>...</td>\n",
              "      <td>0</td>\n",
              "      <td>0</td>\n",
              "      <td>1</td>\n",
              "      <td>0</td>\n",
              "      <td>0</td>\n",
              "      <td>0</td>\n",
              "      <td>0</td>\n",
              "      <td>0</td>\n",
              "      <td>0</td>\n",
              "      <td>1</td>\n",
              "    </tr>\n",
              "    <tr>\n",
              "      <th>4</th>\n",
              "      <td>1</td>\n",
              "      <td>0</td>\n",
              "      <td>0</td>\n",
              "      <td>0</td>\n",
              "      <td>0</td>\n",
              "      <td>0</td>\n",
              "      <td>0</td>\n",
              "      <td>0</td>\n",
              "      <td>0</td>\n",
              "      <td>0</td>\n",
              "      <td>...</td>\n",
              "      <td>0</td>\n",
              "      <td>0</td>\n",
              "      <td>1</td>\n",
              "      <td>0</td>\n",
              "      <td>0</td>\n",
              "      <td>0</td>\n",
              "      <td>0</td>\n",
              "      <td>0</td>\n",
              "      <td>0</td>\n",
              "      <td>1</td>\n",
              "    </tr>\n",
              "  </tbody>\n",
              "</table>\n",
              "<p>5 rows × 1068 columns</p>\n",
              "</div>"
            ],
            "text/plain": [
              "   airline_Air India  airline_AirAsia  airline_GO FIRST  airline_Indigo  \\\n",
              "0                  1                0                 0               0   \n",
              "1                  1                0                 0               0   \n",
              "2                  1                0                 0               0   \n",
              "3                  1                0                 0               0   \n",
              "4                  1                0                 0               0   \n",
              "\n",
              "   airline_SpiceJet  airline_StarAir  airline_Trujet  airline_Vistara  \\\n",
              "0                 0                0               0                0   \n",
              "1                 0                0               0                0   \n",
              "2                 0                0               0                0   \n",
              "3                 0                0               0                0   \n",
              "4                 0                0               0                0   \n",
              "\n",
              "   ch_code_2T  ch_code_6E  ...  arr_time_23:45  arr_time_23:50  \\\n",
              "0           0           0  ...               0               0   \n",
              "1           0           0  ...               0               0   \n",
              "2           0           0  ...               0               0   \n",
              "3           0           0  ...               0               0   \n",
              "4           0           0  ...               0               0   \n",
              "\n",
              "   arr_time_23:55  arr_time_23:59  to_Bangalore  to_Chennai  to_Delhi  \\\n",
              "0               0               0             0           0         0   \n",
              "1               0               0             0           0         0   \n",
              "2               0               0             0           0         0   \n",
              "3               1               0             0           0         0   \n",
              "4               1               0             0           0         0   \n",
              "\n",
              "   to_Hyderabad  to_Kolkata  to_Mumbai  \n",
              "0             0           0          1  \n",
              "1             0           0          1  \n",
              "2             0           0          1  \n",
              "3             0           0          1  \n",
              "4             0           0          1  \n",
              "\n",
              "[5 rows x 1068 columns]"
            ]
          },
          "execution_count": 131,
          "metadata": {},
          "output_type": "execute_result"
        }
      ],
      "source": [
        "cat.head()"
      ]
    },
    {
      "cell_type": "code",
      "execution_count": null,
      "metadata": {
        "id": "6p6hHnGJ8cn7",
        "outputId": "e6c56023-cb5a-4301-82b2-36ef825cb219"
      },
      "outputs": [
        {
          "data": {
            "text/plain": [
              "(300261, 1068)"
            ]
          },
          "execution_count": 132,
          "metadata": {},
          "output_type": "execute_result"
        }
      ],
      "source": [
        "cat.shape"
      ]
    },
    {
      "cell_type": "code",
      "execution_count": null,
      "metadata": {
        "id": "3glTx7Dy8cn8"
      },
      "outputs": [],
      "source": [
        "df1=pd.concat([cat,numeric],join='inner',axis=1)\n"
      ]
    },
    {
      "cell_type": "code",
      "execution_count": null,
      "metadata": {
        "id": "iRe5l6lc8cn8",
        "outputId": "70c3d68a-75ce-4f18-bf9c-3026298a5ca9"
      },
      "outputs": [
        {
          "data": {
            "text/plain": [
              "(300261, 1071)"
            ]
          },
          "execution_count": 134,
          "metadata": {},
          "output_type": "execute_result"
        }
      ],
      "source": [
        "df1.shape"
      ]
    },
    {
      "cell_type": "code",
      "execution_count": null,
      "metadata": {
        "id": "olkr2YrQ8cn9",
        "outputId": "e684fa3d-084c-4e7b-bfcd-42380f57aecd"
      },
      "outputs": [
        {
          "data": {
            "text/html": [
              "<div>\n",
              "<style scoped>\n",
              "    .dataframe tbody tr th:only-of-type {\n",
              "        vertical-align: middle;\n",
              "    }\n",
              "\n",
              "    .dataframe tbody tr th {\n",
              "        vertical-align: top;\n",
              "    }\n",
              "\n",
              "    .dataframe thead th {\n",
              "        text-align: right;\n",
              "    }\n",
              "</style>\n",
              "<table border=\"1\" class=\"dataframe\">\n",
              "  <thead>\n",
              "    <tr style=\"text-align: right;\">\n",
              "      <th></th>\n",
              "      <th>airline_Air India</th>\n",
              "      <th>airline_AirAsia</th>\n",
              "      <th>airline_GO FIRST</th>\n",
              "      <th>airline_Indigo</th>\n",
              "      <th>airline_SpiceJet</th>\n",
              "      <th>airline_StarAir</th>\n",
              "      <th>airline_Trujet</th>\n",
              "      <th>airline_Vistara</th>\n",
              "      <th>ch_code_2T</th>\n",
              "      <th>ch_code_6E</th>\n",
              "      <th>...</th>\n",
              "      <th>arr_time_23:59</th>\n",
              "      <th>to_Bangalore</th>\n",
              "      <th>to_Chennai</th>\n",
              "      <th>to_Delhi</th>\n",
              "      <th>to_Hyderabad</th>\n",
              "      <th>to_Kolkata</th>\n",
              "      <th>to_Mumbai</th>\n",
              "      <th>num_code</th>\n",
              "      <th>month</th>\n",
              "      <th>day</th>\n",
              "    </tr>\n",
              "  </thead>\n",
              "  <tbody>\n",
              "    <tr>\n",
              "      <th>0</th>\n",
              "      <td>1</td>\n",
              "      <td>0</td>\n",
              "      <td>0</td>\n",
              "      <td>0</td>\n",
              "      <td>0</td>\n",
              "      <td>0</td>\n",
              "      <td>0</td>\n",
              "      <td>0</td>\n",
              "      <td>0</td>\n",
              "      <td>0</td>\n",
              "      <td>...</td>\n",
              "      <td>0</td>\n",
              "      <td>0</td>\n",
              "      <td>0</td>\n",
              "      <td>0</td>\n",
              "      <td>0</td>\n",
              "      <td>0</td>\n",
              "      <td>1</td>\n",
              "      <td>868</td>\n",
              "      <td>11</td>\n",
              "      <td>2</td>\n",
              "    </tr>\n",
              "    <tr>\n",
              "      <th>1</th>\n",
              "      <td>1</td>\n",
              "      <td>0</td>\n",
              "      <td>0</td>\n",
              "      <td>0</td>\n",
              "      <td>0</td>\n",
              "      <td>0</td>\n",
              "      <td>0</td>\n",
              "      <td>0</td>\n",
              "      <td>0</td>\n",
              "      <td>0</td>\n",
              "      <td>...</td>\n",
              "      <td>0</td>\n",
              "      <td>0</td>\n",
              "      <td>0</td>\n",
              "      <td>0</td>\n",
              "      <td>0</td>\n",
              "      <td>0</td>\n",
              "      <td>1</td>\n",
              "      <td>624</td>\n",
              "      <td>11</td>\n",
              "      <td>2</td>\n",
              "    </tr>\n",
              "    <tr>\n",
              "      <th>2</th>\n",
              "      <td>1</td>\n",
              "      <td>0</td>\n",
              "      <td>0</td>\n",
              "      <td>0</td>\n",
              "      <td>0</td>\n",
              "      <td>0</td>\n",
              "      <td>0</td>\n",
              "      <td>0</td>\n",
              "      <td>0</td>\n",
              "      <td>0</td>\n",
              "      <td>...</td>\n",
              "      <td>0</td>\n",
              "      <td>0</td>\n",
              "      <td>0</td>\n",
              "      <td>0</td>\n",
              "      <td>0</td>\n",
              "      <td>0</td>\n",
              "      <td>1</td>\n",
              "      <td>531</td>\n",
              "      <td>11</td>\n",
              "      <td>2</td>\n",
              "    </tr>\n",
              "    <tr>\n",
              "      <th>3</th>\n",
              "      <td>1</td>\n",
              "      <td>0</td>\n",
              "      <td>0</td>\n",
              "      <td>0</td>\n",
              "      <td>0</td>\n",
              "      <td>0</td>\n",
              "      <td>0</td>\n",
              "      <td>0</td>\n",
              "      <td>0</td>\n",
              "      <td>0</td>\n",
              "      <td>...</td>\n",
              "      <td>0</td>\n",
              "      <td>0</td>\n",
              "      <td>0</td>\n",
              "      <td>0</td>\n",
              "      <td>0</td>\n",
              "      <td>0</td>\n",
              "      <td>1</td>\n",
              "      <td>839</td>\n",
              "      <td>11</td>\n",
              "      <td>2</td>\n",
              "    </tr>\n",
              "    <tr>\n",
              "      <th>4</th>\n",
              "      <td>1</td>\n",
              "      <td>0</td>\n",
              "      <td>0</td>\n",
              "      <td>0</td>\n",
              "      <td>0</td>\n",
              "      <td>0</td>\n",
              "      <td>0</td>\n",
              "      <td>0</td>\n",
              "      <td>0</td>\n",
              "      <td>0</td>\n",
              "      <td>...</td>\n",
              "      <td>0</td>\n",
              "      <td>0</td>\n",
              "      <td>0</td>\n",
              "      <td>0</td>\n",
              "      <td>0</td>\n",
              "      <td>0</td>\n",
              "      <td>1</td>\n",
              "      <td>544</td>\n",
              "      <td>11</td>\n",
              "      <td>2</td>\n",
              "    </tr>\n",
              "  </tbody>\n",
              "</table>\n",
              "<p>5 rows × 1071 columns</p>\n",
              "</div>"
            ],
            "text/plain": [
              "   airline_Air India  airline_AirAsia  airline_GO FIRST  airline_Indigo  \\\n",
              "0                  1                0                 0               0   \n",
              "1                  1                0                 0               0   \n",
              "2                  1                0                 0               0   \n",
              "3                  1                0                 0               0   \n",
              "4                  1                0                 0               0   \n",
              "\n",
              "   airline_SpiceJet  airline_StarAir  airline_Trujet  airline_Vistara  \\\n",
              "0                 0                0               0                0   \n",
              "1                 0                0               0                0   \n",
              "2                 0                0               0                0   \n",
              "3                 0                0               0                0   \n",
              "4                 0                0               0                0   \n",
              "\n",
              "   ch_code_2T  ch_code_6E  ...  arr_time_23:59  to_Bangalore  to_Chennai  \\\n",
              "0           0           0  ...               0             0           0   \n",
              "1           0           0  ...               0             0           0   \n",
              "2           0           0  ...               0             0           0   \n",
              "3           0           0  ...               0             0           0   \n",
              "4           0           0  ...               0             0           0   \n",
              "\n",
              "   to_Delhi  to_Hyderabad  to_Kolkata  to_Mumbai  num_code  month  day  \n",
              "0         0             0           0          1       868     11    2  \n",
              "1         0             0           0          1       624     11    2  \n",
              "2         0             0           0          1       531     11    2  \n",
              "3         0             0           0          1       839     11    2  \n",
              "4         0             0           0          1       544     11    2  \n",
              "\n",
              "[5 rows x 1071 columns]"
            ]
          },
          "execution_count": 135,
          "metadata": {},
          "output_type": "execute_result"
        }
      ],
      "source": [
        "df1.head()"
      ]
    },
    {
      "cell_type": "markdown",
      "metadata": {
        "id": "trWaa6POqpbV"
      },
      "source": [
        "## 1 Here we split the data into train data, test data "
      ]
    },
    {
      "cell_type": "code",
      "execution_count": null,
      "metadata": {
        "id": "KquWOENmp9q9"
      },
      "outputs": [],
      "source": [
        "# importing neccessary libraries\n",
        "from sklearn.model_selection import train_test_split\n",
        "\n",
        "# splitting of data\n",
        "X = df1\n",
        "y = df['price']"
      ]
    },
    {
      "cell_type": "code",
      "execution_count": null,
      "metadata": {
        "id": "2aszD6BqrO2T"
      },
      "outputs": [],
      "source": [
        "X_train, X_test, y_train, y_test = train_test_split(X,y, test_size=0.3, random_state=42)"
      ]
    },
    {
      "cell_type": "code",
      "execution_count": null,
      "metadata": {
        "colab": {
          "base_uri": "https://localhost:8080/"
        },
        "id": "ZWsfrDbcrvE9",
        "outputId": "6aa46336-9b12-496d-9bc7-d55bb3a6b16d"
      },
      "outputs": [
        {
          "name": "stdout",
          "output_type": "stream",
          "text": [
            "(210182, 1071)\n",
            "(90079, 1071)\n",
            "(210182,)\n",
            "(90079,)\n"
          ]
        }
      ],
      "source": [
        "print(X_train.shape)\n",
        "print(X_test.shape)\n",
        "print(y_train.shape)\n",
        "print(y_test.shape)"
      ]
    },
    {
      "cell_type": "code",
      "execution_count": null,
      "metadata": {
        "id": "Ac7ZgMZh8coC",
        "outputId": "c3a9a6c2-f9b1-4a2c-b8e0-435864bd333c"
      },
      "outputs": [
        {
          "data": {
            "text/html": [
              "<div>\n",
              "<style scoped>\n",
              "    .dataframe tbody tr th:only-of-type {\n",
              "        vertical-align: middle;\n",
              "    }\n",
              "\n",
              "    .dataframe tbody tr th {\n",
              "        vertical-align: top;\n",
              "    }\n",
              "\n",
              "    .dataframe thead th {\n",
              "        text-align: right;\n",
              "    }\n",
              "</style>\n",
              "<table border=\"1\" class=\"dataframe\">\n",
              "  <thead>\n",
              "    <tr style=\"text-align: right;\">\n",
              "      <th></th>\n",
              "      <th>airline_Air India</th>\n",
              "      <th>airline_AirAsia</th>\n",
              "      <th>airline_GO FIRST</th>\n",
              "      <th>airline_Indigo</th>\n",
              "      <th>airline_SpiceJet</th>\n",
              "      <th>airline_StarAir</th>\n",
              "      <th>airline_Trujet</th>\n",
              "      <th>airline_Vistara</th>\n",
              "      <th>ch_code_2T</th>\n",
              "      <th>ch_code_6E</th>\n",
              "      <th>...</th>\n",
              "      <th>arr_time_23:59</th>\n",
              "      <th>to_Bangalore</th>\n",
              "      <th>to_Chennai</th>\n",
              "      <th>to_Delhi</th>\n",
              "      <th>to_Hyderabad</th>\n",
              "      <th>to_Kolkata</th>\n",
              "      <th>to_Mumbai</th>\n",
              "      <th>num_code</th>\n",
              "      <th>month</th>\n",
              "      <th>day</th>\n",
              "    </tr>\n",
              "  </thead>\n",
              "  <tbody>\n",
              "    <tr>\n",
              "      <th>145268</th>\n",
              "      <td>0</td>\n",
              "      <td>0</td>\n",
              "      <td>1</td>\n",
              "      <td>0</td>\n",
              "      <td>0</td>\n",
              "      <td>0</td>\n",
              "      <td>0</td>\n",
              "      <td>0</td>\n",
              "      <td>0</td>\n",
              "      <td>0</td>\n",
              "      <td>...</td>\n",
              "      <td>0</td>\n",
              "      <td>0</td>\n",
              "      <td>0</td>\n",
              "      <td>1</td>\n",
              "      <td>0</td>\n",
              "      <td>0</td>\n",
              "      <td>0</td>\n",
              "      <td>287</td>\n",
              "      <td>3</td>\n",
              "      <td>26</td>\n",
              "    </tr>\n",
              "    <tr>\n",
              "      <th>83946</th>\n",
              "      <td>0</td>\n",
              "      <td>0</td>\n",
              "      <td>0</td>\n",
              "      <td>0</td>\n",
              "      <td>0</td>\n",
              "      <td>0</td>\n",
              "      <td>0</td>\n",
              "      <td>1</td>\n",
              "      <td>0</td>\n",
              "      <td>0</td>\n",
              "      <td>...</td>\n",
              "      <td>0</td>\n",
              "      <td>0</td>\n",
              "      <td>0</td>\n",
              "      <td>0</td>\n",
              "      <td>0</td>\n",
              "      <td>0</td>\n",
              "      <td>1</td>\n",
              "      <td>838</td>\n",
              "      <td>2</td>\n",
              "      <td>16</td>\n",
              "    </tr>\n",
              "    <tr>\n",
              "      <th>192766</th>\n",
              "      <td>0</td>\n",
              "      <td>0</td>\n",
              "      <td>0</td>\n",
              "      <td>0</td>\n",
              "      <td>0</td>\n",
              "      <td>0</td>\n",
              "      <td>0</td>\n",
              "      <td>1</td>\n",
              "      <td>0</td>\n",
              "      <td>0</td>\n",
              "      <td>...</td>\n",
              "      <td>0</td>\n",
              "      <td>0</td>\n",
              "      <td>0</td>\n",
              "      <td>0</td>\n",
              "      <td>0</td>\n",
              "      <td>0</td>\n",
              "      <td>1</td>\n",
              "      <td>812</td>\n",
              "      <td>12</td>\n",
              "      <td>3</td>\n",
              "    </tr>\n",
              "    <tr>\n",
              "      <th>95922</th>\n",
              "      <td>0</td>\n",
              "      <td>0</td>\n",
              "      <td>0</td>\n",
              "      <td>0</td>\n",
              "      <td>0</td>\n",
              "      <td>0</td>\n",
              "      <td>0</td>\n",
              "      <td>1</td>\n",
              "      <td>0</td>\n",
              "      <td>0</td>\n",
              "      <td>...</td>\n",
              "      <td>0</td>\n",
              "      <td>0</td>\n",
              "      <td>0</td>\n",
              "      <td>0</td>\n",
              "      <td>0</td>\n",
              "      <td>0</td>\n",
              "      <td>1</td>\n",
              "      <td>859</td>\n",
              "      <td>2</td>\n",
              "      <td>24</td>\n",
              "    </tr>\n",
              "    <tr>\n",
              "      <th>230429</th>\n",
              "      <td>0</td>\n",
              "      <td>1</td>\n",
              "      <td>0</td>\n",
              "      <td>0</td>\n",
              "      <td>0</td>\n",
              "      <td>0</td>\n",
              "      <td>0</td>\n",
              "      <td>0</td>\n",
              "      <td>0</td>\n",
              "      <td>0</td>\n",
              "      <td>...</td>\n",
              "      <td>0</td>\n",
              "      <td>1</td>\n",
              "      <td>0</td>\n",
              "      <td>0</td>\n",
              "      <td>0</td>\n",
              "      <td>0</td>\n",
              "      <td>0</td>\n",
              "      <td>552</td>\n",
              "      <td>2</td>\n",
              "      <td>22</td>\n",
              "    </tr>\n",
              "    <tr>\n",
              "      <th>...</th>\n",
              "      <td>...</td>\n",
              "      <td>...</td>\n",
              "      <td>...</td>\n",
              "      <td>...</td>\n",
              "      <td>...</td>\n",
              "      <td>...</td>\n",
              "      <td>...</td>\n",
              "      <td>...</td>\n",
              "      <td>...</td>\n",
              "      <td>...</td>\n",
              "      <td>...</td>\n",
              "      <td>...</td>\n",
              "      <td>...</td>\n",
              "      <td>...</td>\n",
              "      <td>...</td>\n",
              "      <td>...</td>\n",
              "      <td>...</td>\n",
              "      <td>...</td>\n",
              "      <td>...</td>\n",
              "      <td>...</td>\n",
              "      <td>...</td>\n",
              "    </tr>\n",
              "    <tr>\n",
              "      <th>119879</th>\n",
              "      <td>0</td>\n",
              "      <td>0</td>\n",
              "      <td>1</td>\n",
              "      <td>0</td>\n",
              "      <td>0</td>\n",
              "      <td>0</td>\n",
              "      <td>0</td>\n",
              "      <td>0</td>\n",
              "      <td>0</td>\n",
              "      <td>0</td>\n",
              "      <td>...</td>\n",
              "      <td>0</td>\n",
              "      <td>0</td>\n",
              "      <td>0</td>\n",
              "      <td>0</td>\n",
              "      <td>0</td>\n",
              "      <td>1</td>\n",
              "      <td>0</td>\n",
              "      <td>113</td>\n",
              "      <td>3</td>\n",
              "      <td>18</td>\n",
              "    </tr>\n",
              "    <tr>\n",
              "      <th>259178</th>\n",
              "      <td>1</td>\n",
              "      <td>0</td>\n",
              "      <td>0</td>\n",
              "      <td>0</td>\n",
              "      <td>0</td>\n",
              "      <td>0</td>\n",
              "      <td>0</td>\n",
              "      <td>0</td>\n",
              "      <td>0</td>\n",
              "      <td>0</td>\n",
              "      <td>...</td>\n",
              "      <td>0</td>\n",
              "      <td>1</td>\n",
              "      <td>0</td>\n",
              "      <td>0</td>\n",
              "      <td>0</td>\n",
              "      <td>0</td>\n",
              "      <td>0</td>\n",
              "      <td>840</td>\n",
              "      <td>12</td>\n",
              "      <td>2</td>\n",
              "    </tr>\n",
              "    <tr>\n",
              "      <th>131932</th>\n",
              "      <td>0</td>\n",
              "      <td>0</td>\n",
              "      <td>0</td>\n",
              "      <td>1</td>\n",
              "      <td>0</td>\n",
              "      <td>0</td>\n",
              "      <td>0</td>\n",
              "      <td>0</td>\n",
              "      <td>0</td>\n",
              "      <td>1</td>\n",
              "      <td>...</td>\n",
              "      <td>0</td>\n",
              "      <td>0</td>\n",
              "      <td>1</td>\n",
              "      <td>0</td>\n",
              "      <td>0</td>\n",
              "      <td>0</td>\n",
              "      <td>0</td>\n",
              "      <td>2193</td>\n",
              "      <td>4</td>\n",
              "      <td>3</td>\n",
              "    </tr>\n",
              "    <tr>\n",
              "      <th>146867</th>\n",
              "      <td>1</td>\n",
              "      <td>0</td>\n",
              "      <td>0</td>\n",
              "      <td>0</td>\n",
              "      <td>0</td>\n",
              "      <td>0</td>\n",
              "      <td>0</td>\n",
              "      <td>0</td>\n",
              "      <td>0</td>\n",
              "      <td>0</td>\n",
              "      <td>...</td>\n",
              "      <td>0</td>\n",
              "      <td>1</td>\n",
              "      <td>0</td>\n",
              "      <td>0</td>\n",
              "      <td>0</td>\n",
              "      <td>0</td>\n",
              "      <td>0</td>\n",
              "      <td>619</td>\n",
              "      <td>2</td>\n",
              "      <td>15</td>\n",
              "    </tr>\n",
              "    <tr>\n",
              "      <th>121958</th>\n",
              "      <td>0</td>\n",
              "      <td>0</td>\n",
              "      <td>0</td>\n",
              "      <td>1</td>\n",
              "      <td>0</td>\n",
              "      <td>0</td>\n",
              "      <td>0</td>\n",
              "      <td>0</td>\n",
              "      <td>0</td>\n",
              "      <td>1</td>\n",
              "      <td>...</td>\n",
              "      <td>0</td>\n",
              "      <td>0</td>\n",
              "      <td>0</td>\n",
              "      <td>0</td>\n",
              "      <td>0</td>\n",
              "      <td>1</td>\n",
              "      <td>0</td>\n",
              "      <td>5026</td>\n",
              "      <td>3</td>\n",
              "      <td>30</td>\n",
              "    </tr>\n",
              "  </tbody>\n",
              "</table>\n",
              "<p>210182 rows × 1071 columns</p>\n",
              "</div>"
            ],
            "text/plain": [
              "        airline_Air India  airline_AirAsia  airline_GO FIRST  airline_Indigo  \\\n",
              "145268                  0                0                 1               0   \n",
              "83946                   0                0                 0               0   \n",
              "192766                  0                0                 0               0   \n",
              "95922                   0                0                 0               0   \n",
              "230429                  0                1                 0               0   \n",
              "...                   ...              ...               ...             ...   \n",
              "119879                  0                0                 1               0   \n",
              "259178                  1                0                 0               0   \n",
              "131932                  0                0                 0               1   \n",
              "146867                  1                0                 0               0   \n",
              "121958                  0                0                 0               1   \n",
              "\n",
              "        airline_SpiceJet  airline_StarAir  airline_Trujet  airline_Vistara  \\\n",
              "145268                 0                0               0                0   \n",
              "83946                  0                0               0                1   \n",
              "192766                 0                0               0                1   \n",
              "95922                  0                0               0                1   \n",
              "230429                 0                0               0                0   \n",
              "...                  ...              ...             ...              ...   \n",
              "119879                 0                0               0                0   \n",
              "259178                 0                0               0                0   \n",
              "131932                 0                0               0                0   \n",
              "146867                 0                0               0                0   \n",
              "121958                 0                0               0                0   \n",
              "\n",
              "        ch_code_2T  ch_code_6E  ...  arr_time_23:59  to_Bangalore  to_Chennai  \\\n",
              "145268           0           0  ...               0             0           0   \n",
              "83946            0           0  ...               0             0           0   \n",
              "192766           0           0  ...               0             0           0   \n",
              "95922            0           0  ...               0             0           0   \n",
              "230429           0           0  ...               0             1           0   \n",
              "...            ...         ...  ...             ...           ...         ...   \n",
              "119879           0           0  ...               0             0           0   \n",
              "259178           0           0  ...               0             1           0   \n",
              "131932           0           1  ...               0             0           1   \n",
              "146867           0           0  ...               0             1           0   \n",
              "121958           0           1  ...               0             0           0   \n",
              "\n",
              "        to_Delhi  to_Hyderabad  to_Kolkata  to_Mumbai  num_code  month  day  \n",
              "145268         1             0           0          0       287      3   26  \n",
              "83946          0             0           0          1       838      2   16  \n",
              "192766         0             0           0          1       812     12    3  \n",
              "95922          0             0           0          1       859      2   24  \n",
              "230429         0             0           0          0       552      2   22  \n",
              "...          ...           ...         ...        ...       ...    ...  ...  \n",
              "119879         0             0           1          0       113      3   18  \n",
              "259178         0             0           0          0       840     12    2  \n",
              "131932         0             0           0          0      2193      4    3  \n",
              "146867         0             0           0          0       619      2   15  \n",
              "121958         0             0           1          0      5026      3   30  \n",
              "\n",
              "[210182 rows x 1071 columns]"
            ]
          },
          "execution_count": 140,
          "metadata": {},
          "output_type": "execute_result"
        }
      ],
      "source": [
        "X_train"
      ]
    },
    {
      "cell_type": "markdown",
      "source": [
        "#min max scaling "
      ],
      "metadata": {
        "id": "Ao2-ndpM9naB"
      }
    },
    {
      "cell_type": "code",
      "execution_count": null,
      "metadata": {
        "id": "1Mtd5UjXrSyb"
      },
      "outputs": [],
      "source": [
        "def min_max_scaler(X_train):\n",
        "   \n",
        "    # Compute the minimum and maximum values for each column of x\n",
        "    train_min = np.min(X_train, axis=0)\n",
        "    train_max = np.max(X_train, axis=0)\n",
        "    \n",
        "    # Scale each column of x to the range [0, 1]\n",
        "    train_scaled = (X_train - train_min) / (train_max - train_min)\n",
        "    \n",
        "    return train_scaled\n",
        "train_scaled = min_max_scaler(X_train)"
      ]
    },
    {
      "cell_type": "code",
      "execution_count": null,
      "metadata": {
        "colab": {
          "base_uri": "https://localhost:8080/",
          "height": 522
        },
        "id": "htMybk63szqC",
        "outputId": "504f1d58-106b-40eb-823e-26e9e1a41cf2"
      },
      "outputs": [
        {
          "data": {
            "text/html": [
              "<div>\n",
              "<style scoped>\n",
              "    .dataframe tbody tr th:only-of-type {\n",
              "        vertical-align: middle;\n",
              "    }\n",
              "\n",
              "    .dataframe tbody tr th {\n",
              "        vertical-align: top;\n",
              "    }\n",
              "\n",
              "    .dataframe thead th {\n",
              "        text-align: right;\n",
              "    }\n",
              "</style>\n",
              "<table border=\"1\" class=\"dataframe\">\n",
              "  <thead>\n",
              "    <tr style=\"text-align: right;\">\n",
              "      <th></th>\n",
              "      <th>airline_Air India</th>\n",
              "      <th>airline_AirAsia</th>\n",
              "      <th>airline_GO FIRST</th>\n",
              "      <th>airline_Indigo</th>\n",
              "      <th>airline_SpiceJet</th>\n",
              "      <th>airline_StarAir</th>\n",
              "      <th>airline_Trujet</th>\n",
              "      <th>airline_Vistara</th>\n",
              "      <th>ch_code_2T</th>\n",
              "      <th>ch_code_6E</th>\n",
              "      <th>...</th>\n",
              "      <th>arr_time_23:59</th>\n",
              "      <th>to_Bangalore</th>\n",
              "      <th>to_Chennai</th>\n",
              "      <th>to_Delhi</th>\n",
              "      <th>to_Hyderabad</th>\n",
              "      <th>to_Kolkata</th>\n",
              "      <th>to_Mumbai</th>\n",
              "      <th>num_code</th>\n",
              "      <th>month</th>\n",
              "      <th>day</th>\n",
              "    </tr>\n",
              "  </thead>\n",
              "  <tbody>\n",
              "    <tr>\n",
              "      <th>145268</th>\n",
              "      <td>0.0</td>\n",
              "      <td>0.0</td>\n",
              "      <td>1.0</td>\n",
              "      <td>0.0</td>\n",
              "      <td>0.0</td>\n",
              "      <td>0.0</td>\n",
              "      <td>0.0</td>\n",
              "      <td>0.0</td>\n",
              "      <td>0.0</td>\n",
              "      <td>0.0</td>\n",
              "      <td>...</td>\n",
              "      <td>0.0</td>\n",
              "      <td>0.0</td>\n",
              "      <td>0.0</td>\n",
              "      <td>1.0</td>\n",
              "      <td>0.0</td>\n",
              "      <td>0.0</td>\n",
              "      <td>0.0</td>\n",
              "      <td>0.018839</td>\n",
              "      <td>0.181818</td>\n",
              "      <td>0.827586</td>\n",
              "    </tr>\n",
              "    <tr>\n",
              "      <th>83946</th>\n",
              "      <td>0.0</td>\n",
              "      <td>0.0</td>\n",
              "      <td>0.0</td>\n",
              "      <td>0.0</td>\n",
              "      <td>0.0</td>\n",
              "      <td>0.0</td>\n",
              "      <td>0.0</td>\n",
              "      <td>1.0</td>\n",
              "      <td>0.0</td>\n",
              "      <td>0.0</td>\n",
              "      <td>...</td>\n",
              "      <td>0.0</td>\n",
              "      <td>0.0</td>\n",
              "      <td>0.0</td>\n",
              "      <td>0.0</td>\n",
              "      <td>0.0</td>\n",
              "      <td>0.0</td>\n",
              "      <td>1.0</td>\n",
              "      <td>0.074648</td>\n",
              "      <td>0.090909</td>\n",
              "      <td>0.482759</td>\n",
              "    </tr>\n",
              "    <tr>\n",
              "      <th>192766</th>\n",
              "      <td>0.0</td>\n",
              "      <td>0.0</td>\n",
              "      <td>0.0</td>\n",
              "      <td>0.0</td>\n",
              "      <td>0.0</td>\n",
              "      <td>0.0</td>\n",
              "      <td>0.0</td>\n",
              "      <td>1.0</td>\n",
              "      <td>0.0</td>\n",
              "      <td>0.0</td>\n",
              "      <td>...</td>\n",
              "      <td>0.0</td>\n",
              "      <td>0.0</td>\n",
              "      <td>0.0</td>\n",
              "      <td>0.0</td>\n",
              "      <td>0.0</td>\n",
              "      <td>0.0</td>\n",
              "      <td>1.0</td>\n",
              "      <td>0.072015</td>\n",
              "      <td>1.000000</td>\n",
              "      <td>0.034483</td>\n",
              "    </tr>\n",
              "    <tr>\n",
              "      <th>95922</th>\n",
              "      <td>0.0</td>\n",
              "      <td>0.0</td>\n",
              "      <td>0.0</td>\n",
              "      <td>0.0</td>\n",
              "      <td>0.0</td>\n",
              "      <td>0.0</td>\n",
              "      <td>0.0</td>\n",
              "      <td>1.0</td>\n",
              "      <td>0.0</td>\n",
              "      <td>0.0</td>\n",
              "      <td>...</td>\n",
              "      <td>0.0</td>\n",
              "      <td>0.0</td>\n",
              "      <td>0.0</td>\n",
              "      <td>0.0</td>\n",
              "      <td>0.0</td>\n",
              "      <td>0.0</td>\n",
              "      <td>1.0</td>\n",
              "      <td>0.076775</td>\n",
              "      <td>0.090909</td>\n",
              "      <td>0.758621</td>\n",
              "    </tr>\n",
              "    <tr>\n",
              "      <th>230429</th>\n",
              "      <td>0.0</td>\n",
              "      <td>1.0</td>\n",
              "      <td>0.0</td>\n",
              "      <td>0.0</td>\n",
              "      <td>0.0</td>\n",
              "      <td>0.0</td>\n",
              "      <td>0.0</td>\n",
              "      <td>0.0</td>\n",
              "      <td>0.0</td>\n",
              "      <td>0.0</td>\n",
              "      <td>...</td>\n",
              "      <td>0.0</td>\n",
              "      <td>1.0</td>\n",
              "      <td>0.0</td>\n",
              "      <td>0.0</td>\n",
              "      <td>0.0</td>\n",
              "      <td>0.0</td>\n",
              "      <td>0.0</td>\n",
              "      <td>0.045680</td>\n",
              "      <td>0.090909</td>\n",
              "      <td>0.689655</td>\n",
              "    </tr>\n",
              "    <tr>\n",
              "      <th>...</th>\n",
              "      <td>...</td>\n",
              "      <td>...</td>\n",
              "      <td>...</td>\n",
              "      <td>...</td>\n",
              "      <td>...</td>\n",
              "      <td>...</td>\n",
              "      <td>...</td>\n",
              "      <td>...</td>\n",
              "      <td>...</td>\n",
              "      <td>...</td>\n",
              "      <td>...</td>\n",
              "      <td>...</td>\n",
              "      <td>...</td>\n",
              "      <td>...</td>\n",
              "      <td>...</td>\n",
              "      <td>...</td>\n",
              "      <td>...</td>\n",
              "      <td>...</td>\n",
              "      <td>...</td>\n",
              "      <td>...</td>\n",
              "      <td>...</td>\n",
              "    </tr>\n",
              "    <tr>\n",
              "      <th>119879</th>\n",
              "      <td>0.0</td>\n",
              "      <td>0.0</td>\n",
              "      <td>1.0</td>\n",
              "      <td>0.0</td>\n",
              "      <td>0.0</td>\n",
              "      <td>0.0</td>\n",
              "      <td>0.0</td>\n",
              "      <td>0.0</td>\n",
              "      <td>0.0</td>\n",
              "      <td>0.0</td>\n",
              "      <td>...</td>\n",
              "      <td>0.0</td>\n",
              "      <td>0.0</td>\n",
              "      <td>0.0</td>\n",
              "      <td>0.0</td>\n",
              "      <td>0.0</td>\n",
              "      <td>1.0</td>\n",
              "      <td>0.0</td>\n",
              "      <td>0.001215</td>\n",
              "      <td>0.181818</td>\n",
              "      <td>0.551724</td>\n",
              "    </tr>\n",
              "    <tr>\n",
              "      <th>259178</th>\n",
              "      <td>1.0</td>\n",
              "      <td>0.0</td>\n",
              "      <td>0.0</td>\n",
              "      <td>0.0</td>\n",
              "      <td>0.0</td>\n",
              "      <td>0.0</td>\n",
              "      <td>0.0</td>\n",
              "      <td>0.0</td>\n",
              "      <td>0.0</td>\n",
              "      <td>0.0</td>\n",
              "      <td>...</td>\n",
              "      <td>0.0</td>\n",
              "      <td>1.0</td>\n",
              "      <td>0.0</td>\n",
              "      <td>0.0</td>\n",
              "      <td>0.0</td>\n",
              "      <td>0.0</td>\n",
              "      <td>0.0</td>\n",
              "      <td>0.074851</td>\n",
              "      <td>1.000000</td>\n",
              "      <td>0.000000</td>\n",
              "    </tr>\n",
              "    <tr>\n",
              "      <th>131932</th>\n",
              "      <td>0.0</td>\n",
              "      <td>0.0</td>\n",
              "      <td>0.0</td>\n",
              "      <td>1.0</td>\n",
              "      <td>0.0</td>\n",
              "      <td>0.0</td>\n",
              "      <td>0.0</td>\n",
              "      <td>0.0</td>\n",
              "      <td>0.0</td>\n",
              "      <td>1.0</td>\n",
              "      <td>...</td>\n",
              "      <td>0.0</td>\n",
              "      <td>0.0</td>\n",
              "      <td>1.0</td>\n",
              "      <td>0.0</td>\n",
              "      <td>0.0</td>\n",
              "      <td>0.0</td>\n",
              "      <td>0.0</td>\n",
              "      <td>0.211891</td>\n",
              "      <td>0.272727</td>\n",
              "      <td>0.034483</td>\n",
              "    </tr>\n",
              "    <tr>\n",
              "      <th>146867</th>\n",
              "      <td>1.0</td>\n",
              "      <td>0.0</td>\n",
              "      <td>0.0</td>\n",
              "      <td>0.0</td>\n",
              "      <td>0.0</td>\n",
              "      <td>0.0</td>\n",
              "      <td>0.0</td>\n",
              "      <td>0.0</td>\n",
              "      <td>0.0</td>\n",
              "      <td>0.0</td>\n",
              "      <td>...</td>\n",
              "      <td>0.0</td>\n",
              "      <td>1.0</td>\n",
              "      <td>0.0</td>\n",
              "      <td>0.0</td>\n",
              "      <td>0.0</td>\n",
              "      <td>0.0</td>\n",
              "      <td>0.0</td>\n",
              "      <td>0.052466</td>\n",
              "      <td>0.090909</td>\n",
              "      <td>0.448276</td>\n",
              "    </tr>\n",
              "    <tr>\n",
              "      <th>121958</th>\n",
              "      <td>0.0</td>\n",
              "      <td>0.0</td>\n",
              "      <td>0.0</td>\n",
              "      <td>1.0</td>\n",
              "      <td>0.0</td>\n",
              "      <td>0.0</td>\n",
              "      <td>0.0</td>\n",
              "      <td>0.0</td>\n",
              "      <td>0.0</td>\n",
              "      <td>1.0</td>\n",
              "      <td>...</td>\n",
              "      <td>0.0</td>\n",
              "      <td>0.0</td>\n",
              "      <td>0.0</td>\n",
              "      <td>0.0</td>\n",
              "      <td>0.0</td>\n",
              "      <td>1.0</td>\n",
              "      <td>0.0</td>\n",
              "      <td>0.498835</td>\n",
              "      <td>0.181818</td>\n",
              "      <td>0.965517</td>\n",
              "    </tr>\n",
              "  </tbody>\n",
              "</table>\n",
              "<p>210182 rows × 1071 columns</p>\n",
              "</div>"
            ],
            "text/plain": [
              "        airline_Air India  airline_AirAsia  airline_GO FIRST  airline_Indigo  \\\n",
              "145268                0.0              0.0               1.0             0.0   \n",
              "83946                 0.0              0.0               0.0             0.0   \n",
              "192766                0.0              0.0               0.0             0.0   \n",
              "95922                 0.0              0.0               0.0             0.0   \n",
              "230429                0.0              1.0               0.0             0.0   \n",
              "...                   ...              ...               ...             ...   \n",
              "119879                0.0              0.0               1.0             0.0   \n",
              "259178                1.0              0.0               0.0             0.0   \n",
              "131932                0.0              0.0               0.0             1.0   \n",
              "146867                1.0              0.0               0.0             0.0   \n",
              "121958                0.0              0.0               0.0             1.0   \n",
              "\n",
              "        airline_SpiceJet  airline_StarAir  airline_Trujet  airline_Vistara  \\\n",
              "145268               0.0              0.0             0.0              0.0   \n",
              "83946                0.0              0.0             0.0              1.0   \n",
              "192766               0.0              0.0             0.0              1.0   \n",
              "95922                0.0              0.0             0.0              1.0   \n",
              "230429               0.0              0.0             0.0              0.0   \n",
              "...                  ...              ...             ...              ...   \n",
              "119879               0.0              0.0             0.0              0.0   \n",
              "259178               0.0              0.0             0.0              0.0   \n",
              "131932               0.0              0.0             0.0              0.0   \n",
              "146867               0.0              0.0             0.0              0.0   \n",
              "121958               0.0              0.0             0.0              0.0   \n",
              "\n",
              "        ch_code_2T  ch_code_6E  ...  arr_time_23:59  to_Bangalore  to_Chennai  \\\n",
              "145268         0.0         0.0  ...             0.0           0.0         0.0   \n",
              "83946          0.0         0.0  ...             0.0           0.0         0.0   \n",
              "192766         0.0         0.0  ...             0.0           0.0         0.0   \n",
              "95922          0.0         0.0  ...             0.0           0.0         0.0   \n",
              "230429         0.0         0.0  ...             0.0           1.0         0.0   \n",
              "...            ...         ...  ...             ...           ...         ...   \n",
              "119879         0.0         0.0  ...             0.0           0.0         0.0   \n",
              "259178         0.0         0.0  ...             0.0           1.0         0.0   \n",
              "131932         0.0         1.0  ...             0.0           0.0         1.0   \n",
              "146867         0.0         0.0  ...             0.0           1.0         0.0   \n",
              "121958         0.0         1.0  ...             0.0           0.0         0.0   \n",
              "\n",
              "        to_Delhi  to_Hyderabad  to_Kolkata  to_Mumbai  num_code     month  \\\n",
              "145268       1.0           0.0         0.0        0.0  0.018839  0.181818   \n",
              "83946        0.0           0.0         0.0        1.0  0.074648  0.090909   \n",
              "192766       0.0           0.0         0.0        1.0  0.072015  1.000000   \n",
              "95922        0.0           0.0         0.0        1.0  0.076775  0.090909   \n",
              "230429       0.0           0.0         0.0        0.0  0.045680  0.090909   \n",
              "...          ...           ...         ...        ...       ...       ...   \n",
              "119879       0.0           0.0         1.0        0.0  0.001215  0.181818   \n",
              "259178       0.0           0.0         0.0        0.0  0.074851  1.000000   \n",
              "131932       0.0           0.0         0.0        0.0  0.211891  0.272727   \n",
              "146867       0.0           0.0         0.0        0.0  0.052466  0.090909   \n",
              "121958       0.0           0.0         1.0        0.0  0.498835  0.181818   \n",
              "\n",
              "             day  \n",
              "145268  0.827586  \n",
              "83946   0.482759  \n",
              "192766  0.034483  \n",
              "95922   0.758621  \n",
              "230429  0.689655  \n",
              "...          ...  \n",
              "119879  0.551724  \n",
              "259178  0.000000  \n",
              "131932  0.034483  \n",
              "146867  0.448276  \n",
              "121958  0.965517  \n",
              "\n",
              "[210182 rows x 1071 columns]"
            ]
          },
          "execution_count": 142,
          "metadata": {},
          "output_type": "execute_result"
        }
      ],
      "source": [
        "train_scaled"
      ]
    },
    {
      "cell_type": "markdown",
      "source": [
        "converting the dataframe to the array format"
      ],
      "metadata": {
        "id": "J3HGW8ho9r61"
      }
    },
    {
      "cell_type": "code",
      "execution_count": null,
      "metadata": {
        "colab": {
          "base_uri": "https://localhost:8080/"
        },
        "id": "gDNnVqUNtWoI",
        "outputId": "d6d71855-122a-416a-c7e9-c5afe63ad678"
      },
      "outputs": [
        {
          "data": {
            "text/plain": [
              "array([[0.        , 0.        , 1.        , ..., 0.01883926, 0.18181818,\n",
              "        0.82758621],\n",
              "       [0.        , 0.        , 0.        , ..., 0.07464803, 0.09090909,\n",
              "        0.48275862],\n",
              "       [0.        , 0.        , 0.        , ..., 0.07201459, 1.        ,\n",
              "        0.03448276],\n",
              "       ...,\n",
              "       [0.        , 0.        , 0.        , ..., 0.21189102, 0.27272727,\n",
              "        0.03448276],\n",
              "       [1.        , 0.        , 0.        , ..., 0.05246632, 0.09090909,\n",
              "        0.44827586],\n",
              "       [0.        , 0.        , 0.        , ..., 0.49883521, 0.18181818,\n",
              "        0.96551724]])"
            ]
          },
          "execution_count": 143,
          "metadata": {},
          "output_type": "execute_result"
        }
      ],
      "source": [
        "train_scaled.values\n"
      ]
    },
    {
      "cell_type": "code",
      "execution_count": null,
      "metadata": {
        "colab": {
          "base_uri": "https://localhost:8080/"
        },
        "id": "KQENYxfetteF",
        "outputId": "9483ed1c-81c0-4d74-8301-2769c3ca8a9a"
      },
      "outputs": [
        {
          "data": {
            "text/plain": [
              "array(['8,717', '71,729', '11,039', ..., '8,003', '8,148', '3,754'],\n",
              "      dtype=object)"
            ]
          },
          "execution_count": 144,
          "metadata": {},
          "output_type": "execute_result"
        }
      ],
      "source": [
        "y_train.values"
      ]
    },
    {
      "cell_type": "code",
      "execution_count": null,
      "metadata": {
        "id": "6DWEnEusuawt"
      },
      "outputs": [],
      "source": [
        "X=X_train\n",
        "Y=y_train"
      ]
    },
    {
      "cell_type": "code",
      "execution_count": null,
      "metadata": {
        "colab": {
          "base_uri": "https://localhost:8080/"
        },
        "id": "T5nHvr8NxH-z",
        "outputId": "b7e25088-7116-483b-f8d2-7394f643f771"
      },
      "outputs": [
        {
          "data": {
            "text/plain": [
              "array([[   0,    0,    1, ...,  287,    3,   26],\n",
              "       [   0,    0,    0, ...,  838,    2,   16],\n",
              "       [   0,    0,    0, ...,  812,   12,    3],\n",
              "       ...,\n",
              "       [   0,    0,    0, ..., 2193,    4,    3],\n",
              "       [   1,    0,    0, ...,  619,    2,   15],\n",
              "       [   0,    0,    0, ..., 5026,    3,   30]])"
            ]
          },
          "execution_count": 146,
          "metadata": {},
          "output_type": "execute_result"
        }
      ],
      "source": [
        "X=X.values\n",
        "X"
      ]
    },
    {
      "cell_type": "code",
      "execution_count": null,
      "metadata": {
        "colab": {
          "base_uri": "https://localhost:8080/"
        },
        "id": "EOAXvx8CxKfq",
        "outputId": "c8151f2e-6c8d-43fb-ba03-7ee082084cec"
      },
      "outputs": [
        {
          "data": {
            "text/plain": [
              "1071"
            ]
          },
          "execution_count": 147,
          "metadata": {},
          "output_type": "execute_result"
        }
      ],
      "source": [
        "X.shape[1]"
      ]
    },
    {
      "cell_type": "code",
      "execution_count": null,
      "metadata": {
        "colab": {
          "base_uri": "https://localhost:8080/"
        },
        "id": "SJaTV4kGyBK6",
        "outputId": "471fa587-5314-444e-9196-c6a8f03b465a"
      },
      "outputs": [
        {
          "data": {
            "text/plain": [
              "210182"
            ]
          },
          "execution_count": 148,
          "metadata": {},
          "output_type": "execute_result"
        }
      ],
      "source": [
        "Y.shape[0]"
      ]
    },
    {
      "cell_type": "code",
      "execution_count": null,
      "metadata": {
        "id": "KPcwLi9QyGxA"
      },
      "outputs": [],
      "source": [
        "x_train=X_train.values"
      ]
    },
    {
      "cell_type": "code",
      "execution_count": null,
      "metadata": {
        "colab": {
          "base_uri": "https://localhost:8080/"
        },
        "id": "kv-EFi8HyVfR",
        "outputId": "6337457e-cbb1-4a3d-f105-2f08196fb917"
      },
      "outputs": [
        {
          "data": {
            "text/plain": [
              "array([[   0,    0,    1, ...,  287,    3,   26],\n",
              "       [   0,    0,    0, ...,  838,    2,   16],\n",
              "       [   0,    0,    0, ...,  812,   12,    3],\n",
              "       ...,\n",
              "       [   0,    0,    0, ..., 2193,    4,    3],\n",
              "       [   1,    0,    0, ...,  619,    2,   15],\n",
              "       [   0,    0,    0, ..., 5026,    3,   30]])"
            ]
          },
          "execution_count": 150,
          "metadata": {},
          "output_type": "execute_result"
        }
      ],
      "source": [
        "x_train"
      ]
    },
    {
      "cell_type": "code",
      "execution_count": null,
      "metadata": {
        "colab": {
          "base_uri": "https://localhost:8080/"
        },
        "id": "JHLG6s1R0SX2",
        "outputId": "55218ed5-14b4-4b98-f38c-6bb2d902d44c"
      },
      "outputs": [
        {
          "data": {
            "text/plain": [
              "array([[  0,   1,   0, ..., 423,   9,   3],\n",
              "       [  1,   0,   0, ..., 469,   2,  21],\n",
              "       [  1,   0,   0, ..., 415,  11,   3],\n",
              "       ...,\n",
              "       [  0,   0,   0, ..., 878,   2,  24],\n",
              "       [  0,   0,   0, ..., 894,   3,  21],\n",
              "       [  0,   0,   1, ..., 320,   3,  16]])"
            ]
          },
          "execution_count": 151,
          "metadata": {},
          "output_type": "execute_result"
        }
      ],
      "source": [
        "x_test=X_test.values\n",
        "x_test"
      ]
    },
    {
      "cell_type": "code",
      "execution_count": null,
      "metadata": {
        "id": "RTxBduDc0aa8"
      },
      "outputs": [],
      "source": [
        "y_test=y_test.values\n",
        "y_train = y_train.values\n"
      ]
    },
    {
      "cell_type": "code",
      "execution_count": null,
      "metadata": {
        "colab": {
          "base_uri": "https://localhost:8080/"
        },
        "id": "Bq1uc-Ef3OzN",
        "outputId": "a3b9e55e-96fa-4a21-b981-bda68fc0989a"
      },
      "outputs": [
        {
          "data": {
            "text/plain": [
              "1071"
            ]
          },
          "execution_count": 154,
          "metadata": {},
          "output_type": "execute_result"
        }
      ],
      "source": [
        "X.shape[1]"
      ]
    },
    {
      "cell_type": "code",
      "execution_count": null,
      "metadata": {
        "colab": {
          "base_uri": "https://localhost:8080/"
        },
        "id": "G3m5-zzb3TMp",
        "outputId": "badc379f-b5a3-4a8f-a81a-9c8110ae5bba"
      },
      "outputs": [
        {
          "data": {
            "text/plain": [
              "210182"
            ]
          },
          "execution_count": 155,
          "metadata": {},
          "output_type": "execute_result"
        }
      ],
      "source": [
        "Y.shape[0]"
      ]
    },
    {
      "cell_type": "code",
      "execution_count": null,
      "metadata": {
        "id": "QY9M-uUs0mwV"
      },
      "outputs": [],
      "source": [
        "import tensorflow.keras\n",
        "from tensorflow.keras.models import Sequential\n",
        "from tensorflow.keras.layers import Dense"
      ]
    },
    {
      "cell_type": "code",
      "execution_count": null,
      "metadata": {
        "id": "cFf_hX7J3Ifx"
      },
      "outputs": [],
      "source": [
        "model=Sequential()\n",
        "model.add(Dense(1071,activation='relu',input_dim=1071))\n",
        "model.add(Dense(1071,activation='relu'))\n",
        "model.add(Dense(1,activation='linear'))"
      ]
    },
    {
      "cell_type": "code",
      "execution_count": null,
      "metadata": {
        "colab": {
          "base_uri": "https://localhost:8080/"
        },
        "id": "XIjXJCp63erK",
        "outputId": "68b93777-89b3-4811-d6b6-e77276db6543"
      },
      "outputs": [
        {
          "name": "stdout",
          "output_type": "stream",
          "text": [
            "Model: \"sequential_2\"\n",
            "_________________________________________________________________\n",
            "Layer (type)                 Output Shape              Param #   \n",
            "=================================================================\n",
            "dense_12 (Dense)             (None, 1071)              1148112   \n",
            "_________________________________________________________________\n",
            "dense_13 (Dense)             (None, 1071)              1148112   \n",
            "_________________________________________________________________\n",
            "dense_14 (Dense)             (None, 1)                 1072      \n",
            "=================================================================\n",
            "Total params: 2,297,296\n",
            "Trainable params: 2,297,296\n",
            "Non-trainable params: 0\n",
            "_________________________________________________________________\n"
          ]
        }
      ],
      "source": [
        "model.summary()"
      ]
    },
    {
      "cell_type": "code",
      "execution_count": null,
      "metadata": {
        "id": "1-XniFJH3em6"
      },
      "outputs": [],
      "source": [
        "model.compile(optimizer='adam',loss='mean_squared_error')"
      ]
    },
    {
      "cell_type": "code",
      "execution_count": null,
      "metadata": {
        "id": "fQ5SHKe13egT"
      },
      "outputs": [],
      "source": [
        " history=model.fit(x_train,y_train,epochs=50,validation_split=0.3)"
      ]
    },
    {
      "cell_type": "code",
      "execution_count": null,
      "metadata": {
        "id": "WZp_b3_V4M-x"
      },
      "outputs": [],
      "source": [
        "train_pred = model.predict(x_train)\n",
        "test_pred = model.predict(x_test)"
      ]
    },
    {
      "cell_type": "code",
      "execution_count": null,
      "metadata": {
        "id": "ZBxfntua3rEE"
      },
      "outputs": [],
      "source": [
        "from sklearn import metrics\n",
        "from sklearn.metrics import mean_squared_error\n",
        "from sklearn.metrics import mean_absolute_error\n",
        "from sklearn.metrics import r2_score\n",
        "\n",
        "mse = mean_squared_error(y_train, train_pred)\n",
        "mae = mean_absolute_error(y_train, train_pred)\n",
        "rmse=np.sqrt(mean_squared_error(y_train, train_pred))\n",
        "r2_score=r2_score(y_train, train_pred)\n",
        "print(\"Train MSE: \", mse)\n",
        "print(\"Train MAE: \", mae)\n",
        "print(\"Train RMSE: \", rmse)\n",
        "print(\"Train R2_score: \", r2_score)"
      ]
    },
    {
      "cell_type": "code",
      "execution_count": null,
      "metadata": {
        "id": "xIdlv3W_3q_L"
      },
      "outputs": [],
      "source": [
        "from sklearn.metrics import mean_squared_error, mean_absolute_error, r2_score\n",
        "\n",
        "\n",
        "# Assuming `y_test` and `test_pred` are defined\n",
        "mse = mean_squared_error(y_test, test_pred)\n",
        "mae = mean_absolute_error(y_test, test_pred)\n",
        "rmse = np.sqrt(mean_squared_error(y_test, test_pred))\n",
        "r2 = r2_score(y_test, test_pred)\n",
        "\n",
        "print(\"MSE: \", mse)\n",
        "print(\"MAE: \", mae)\n",
        "print(\"RMSE: \", rmse)\n",
        "print(\"R2 Score: \", r2)"
      ]
    },
    {
      "cell_type": "code",
      "execution_count": null,
      "metadata": {
        "id": "seEAA7fm8coo"
      },
      "outputs": [],
      "source": [
        "from sklearn.neighbors import KNeighborsRegressor\n",
        "knn=KNeighborsRegressor(n_neighbors=4)\n",
        "knn.fit(X_test,y_test)"
      ]
    },
    {
      "cell_type": "code",
      "execution_count": null,
      "metadata": {
        "id": "MRJm40m_8coo"
      },
      "outputs": [],
      "source": [
        "testpreds_knn=knn.predict(X_test)"
      ]
    },
    {
      "cell_type": "code",
      "execution_count": null,
      "metadata": {
        "id": "muZzGDFn8coo"
      },
      "outputs": [],
      "source": [
        "# Error Metrics\n",
        "from sklearn.metrics import mean_squared_error,mean_absolute_error,r2_score\n",
        "mae = mean_absolute_error(y_test, testpreds_knn)\n",
        "mse = mean_squared_error(y_test, testpreds_knn)\n",
        "rmse = np.sqrt(mse)\n",
        "r2 = r2_score(y_test, testpreds_knn)\n",
        "print(\"Mean Absolute Error:\",mae)\n",
        "print(\"Mean Squared Error:\", mse)\n",
        "print(\"Root Mean Squared Error:\", rmse)\n",
        "print(\"R-squared:\", r2)"
      ]
    },
    {
      "cell_type": "markdown",
      "source": [
        "hyperparameter tunning by using the grid search"
      ],
      "metadata": {
        "id": "dN6z7as096zm"
      }
    },
    {
      "cell_type": "code",
      "execution_count": null,
      "metadata": {
        "id": "NhLeIqOepr1y"
      },
      "outputs": [],
      "source": [
        "import itertools\n",
        "import random\n",
        "\n",
        "def grid_search(param_grid, X_train, y_train, X_test, y_test):\n",
        "    \"\"\"\n",
        "    Performs a grid search over a specified hyperparameter grid.\n",
        "    \n",
        "    Parameters:\n",
        "        param_grid (dict): A dictionary of hyperparameters to search over. The keys should be \n",
        "            strings indicating the hyperparameter names, and the values should be lists \n",
        "            of possible values for each hyperparameter.\n",
        "        X_train (ndarray): An array of training data.\n",
        "        y_train (ndarray): An array of training labels.\n",
        "        X_val (ndarray): An array of validation data.\n",
        "        y_val (ndarray): An array of validation labels.\n",
        "    \n",
        "    Returns:\n",
        "        best_params (dict): A dictionary of the hyperparameters that achieved the highest validation accuracy.\n",
        "        best_acc (float): The validation accuracy achieved by the best set of hyperparameters.\n",
        "    \"\"\"\n",
        "    param_grid = {'hidden_layer_sizes': [(64,),(128)],\n",
        "                  'activation': ['relu', 'tanh'],\n",
        "                  'learning_rate_init': [0.001, 0.01, 0.1],\n",
        "                  'max_iter': [100, 300, 500]}\n",
        "         \n",
        "    # Generate all possible combinations of hyperparameters\n",
        "    hyperparam_values = list(itertools.product(*param_grid.values()))\n",
        "    hyperparam_keys = list(param_grid.keys())\n",
        "\n",
        "    # Initialize variables to keep track of best hyperparameters and validation accuracy\n",
        "    best_params = None\n",
        "    best_acc = 0.0\n",
        "    best_r2_score = 0.70\n",
        "\n",
        "    # Iterate over all hyperparameter combinations\n",
        "    for hyperparams in hyperparam_values:\n",
        "        # Create a dictionary of hyperparameters\n",
        "        hyperparam_dict = dict(zip(hyperparam_keys, hyperparams))\n",
        "\n",
        "        # Train a model with the current hyperparameters\n",
        "        # (this is where you would train your model, e.g. by calling a function)\n",
        "        # Here, we just print the hyperparameters being tested\n",
        "        print('Testing hyperparameters:', hyperparam_dict)\n",
        "\n",
        "        # Compute the validation accuracy\n",
        "        # (this is where you would compute the accuracy of your model on the validation set)\n",
        "        # Here, we just set the accuracy to a random value between 0 and 1\n",
        "        r2_score = random.uniform(0, 1)\n",
        "\n",
        "        # Update best hyperparameters and validation accuracy\n",
        "        if r2_score > best_r2_score:\n",
        "          best_r2_score = r2_score\n",
        "          best_params = hyperparam_dict\n",
        "\n",
        "    return best_params, best_r2_score\n"
      ]
    },
    {
      "cell_type": "code",
      "execution_count": null,
      "metadata": {
        "id": "jgIc5OKMYTsw"
      },
      "outputs": [],
      "source": [
        "param_grid = {'hidden_layer_sizes': [(64,),(128)],\n",
        "                  'activation': ['relu', 'tanh'],\n",
        "                  'learning_rate_init': [0.001, 0.01, 0.1],\n",
        "                  'max_iter': [100, 300, 500]}"
      ]
    },
    {
      "cell_type": "code",
      "execution_count": null,
      "metadata": {
        "colab": {
          "base_uri": "https://localhost:8080/"
        },
        "id": "zVUbPRpU1R1m",
        "outputId": "934a1d09-68eb-4e34-d218-51cd846760bb"
      },
      "outputs": [
        {
          "name": "stdout",
          "output_type": "stream",
          "text": [
            "Testing hyperparameters: {'hidden_layer_sizes': (64,), 'activation': 'relu', 'learning_rate_init': 0.001, 'max_iter': 100}\n",
            "Testing hyperparameters: {'hidden_layer_sizes': (64,), 'activation': 'relu', 'learning_rate_init': 0.001, 'max_iter': 300}\n",
            "Testing hyperparameters: {'hidden_layer_sizes': (64,), 'activation': 'relu', 'learning_rate_init': 0.001, 'max_iter': 500}\n",
            "Testing hyperparameters: {'hidden_layer_sizes': (64,), 'activation': 'relu', 'learning_rate_init': 0.01, 'max_iter': 100}\n",
            "Testing hyperparameters: {'hidden_layer_sizes': (64,), 'activation': 'relu', 'learning_rate_init': 0.01, 'max_iter': 300}\n",
            "Testing hyperparameters: {'hidden_layer_sizes': (64,), 'activation': 'relu', 'learning_rate_init': 0.01, 'max_iter': 500}\n",
            "Testing hyperparameters: {'hidden_layer_sizes': (64,), 'activation': 'relu', 'learning_rate_init': 0.1, 'max_iter': 100}\n",
            "Testing hyperparameters: {'hidden_layer_sizes': (64,), 'activation': 'relu', 'learning_rate_init': 0.1, 'max_iter': 300}\n",
            "Testing hyperparameters: {'hidden_layer_sizes': (64,), 'activation': 'relu', 'learning_rate_init': 0.1, 'max_iter': 500}\n",
            "Testing hyperparameters: {'hidden_layer_sizes': (64,), 'activation': 'tanh', 'learning_rate_init': 0.001, 'max_iter': 100}\n",
            "Testing hyperparameters: {'hidden_layer_sizes': (64,), 'activation': 'tanh', 'learning_rate_init': 0.001, 'max_iter': 300}\n",
            "Testing hyperparameters: {'hidden_layer_sizes': (64,), 'activation': 'tanh', 'learning_rate_init': 0.001, 'max_iter': 500}\n",
            "Testing hyperparameters: {'hidden_layer_sizes': (64,), 'activation': 'tanh', 'learning_rate_init': 0.01, 'max_iter': 100}\n",
            "Testing hyperparameters: {'hidden_layer_sizes': (64,), 'activation': 'tanh', 'learning_rate_init': 0.01, 'max_iter': 300}\n",
            "Testing hyperparameters: {'hidden_layer_sizes': (64,), 'activation': 'tanh', 'learning_rate_init': 0.01, 'max_iter': 500}\n",
            "Testing hyperparameters: {'hidden_layer_sizes': (64,), 'activation': 'tanh', 'learning_rate_init': 0.1, 'max_iter': 100}\n",
            "Testing hyperparameters: {'hidden_layer_sizes': (64,), 'activation': 'tanh', 'learning_rate_init': 0.1, 'max_iter': 300}\n",
            "Testing hyperparameters: {'hidden_layer_sizes': (64,), 'activation': 'tanh', 'learning_rate_init': 0.1, 'max_iter': 500}\n",
            "Testing hyperparameters: {'hidden_layer_sizes': 128, 'activation': 'relu', 'learning_rate_init': 0.001, 'max_iter': 100}\n",
            "Testing hyperparameters: {'hidden_layer_sizes': 128, 'activation': 'relu', 'learning_rate_init': 0.001, 'max_iter': 300}\n",
            "Testing hyperparameters: {'hidden_layer_sizes': 128, 'activation': 'relu', 'learning_rate_init': 0.001, 'max_iter': 500}\n",
            "Testing hyperparameters: {'hidden_layer_sizes': 128, 'activation': 'relu', 'learning_rate_init': 0.01, 'max_iter': 100}\n",
            "Testing hyperparameters: {'hidden_layer_sizes': 128, 'activation': 'relu', 'learning_rate_init': 0.01, 'max_iter': 300}\n",
            "Testing hyperparameters: {'hidden_layer_sizes': 128, 'activation': 'relu', 'learning_rate_init': 0.01, 'max_iter': 500}\n",
            "Testing hyperparameters: {'hidden_layer_sizes': 128, 'activation': 'relu', 'learning_rate_init': 0.1, 'max_iter': 100}\n",
            "Testing hyperparameters: {'hidden_layer_sizes': 128, 'activation': 'relu', 'learning_rate_init': 0.1, 'max_iter': 300}\n",
            "Testing hyperparameters: {'hidden_layer_sizes': 128, 'activation': 'relu', 'learning_rate_init': 0.1, 'max_iter': 500}\n",
            "Testing hyperparameters: {'hidden_layer_sizes': 128, 'activation': 'tanh', 'learning_rate_init': 0.001, 'max_iter': 100}\n",
            "Testing hyperparameters: {'hidden_layer_sizes': 128, 'activation': 'tanh', 'learning_rate_init': 0.001, 'max_iter': 300}\n",
            "Testing hyperparameters: {'hidden_layer_sizes': 128, 'activation': 'tanh', 'learning_rate_init': 0.001, 'max_iter': 500}\n",
            "Testing hyperparameters: {'hidden_layer_sizes': 128, 'activation': 'tanh', 'learning_rate_init': 0.01, 'max_iter': 100}\n",
            "Testing hyperparameters: {'hidden_layer_sizes': 128, 'activation': 'tanh', 'learning_rate_init': 0.01, 'max_iter': 300}\n",
            "Testing hyperparameters: {'hidden_layer_sizes': 128, 'activation': 'tanh', 'learning_rate_init': 0.01, 'max_iter': 500}\n",
            "Testing hyperparameters: {'hidden_layer_sizes': 128, 'activation': 'tanh', 'learning_rate_init': 0.1, 'max_iter': 100}\n",
            "Testing hyperparameters: {'hidden_layer_sizes': 128, 'activation': 'tanh', 'learning_rate_init': 0.1, 'max_iter': 300}\n",
            "Testing hyperparameters: {'hidden_layer_sizes': 128, 'activation': 'tanh', 'learning_rate_init': 0.1, 'max_iter': 500}\n"
          ]
        },
        {
          "data": {
            "text/plain": [
              "({'hidden_layer_sizes': 128,\n",
              "  'activation': 'relu',\n",
              "  'learning_rate_init': 0.1,\n",
              "  'max_iter': 500},\n",
              " 0.9332193154150036)"
            ]
          },
          "execution_count": 171,
          "metadata": {},
          "output_type": "execute_result"
        }
      ],
      "source": [
        "grid_search(param_grid, x_train, y_train, x_test, y_test)"
      ]
    },
    {
      "cell_type": "code",
      "execution_count": null,
      "metadata": {
        "id": "o9WmBtK65eba"
      },
      "outputs": [],
      "source": [
        "from sklearn.model_selection import GridSearchCV\n",
        "from sklearn.neural_network import MLPRegressor\n",
        "from sklearn.datasets import make_regression"
      ]
    },
    {
      "cell_type": "code",
      "execution_count": null,
      "metadata": {
        "id": "CvgD5OTc5Ay4"
      },
      "outputs": [],
      "source": [
        "besthp=MLPRegressor(hidden_layer_sizes=(128,), activation='relu', learning_rate_init=0.001, max_iter=500, random_state=2341)"
      ]
    },
    {
      "cell_type": "code",
      "execution_count": null,
      "metadata": {
        "id": "efL6rw7A5Ap6"
      },
      "outputs": [],
      "source": [
        "besthp.fit(x_train,y_train.ravel())"
      ]
    },
    {
      "cell_type": "code",
      "execution_count": null,
      "metadata": {
        "id": "dGPuynIK5AlL"
      },
      "outputs": [],
      "source": [
        "train_pred_bhp = besthp.predict(x_train)\n",
        "test_pred_bhp = besthp.predict(x_test)"
      ]
    },
    {
      "cell_type": "code",
      "execution_count": null,
      "metadata": {
        "id": "jgmu25kr5Agq"
      },
      "outputs": [],
      "source": [
        "from sklearn import metrics\n",
        "from sklearn.metrics import mean_squared_error\n",
        "from sklearn.metrics import mean_absolute_error\n",
        "from sklearn.metrics import r2_score"
      ]
    },
    {
      "cell_type": "code",
      "execution_count": null,
      "metadata": {
        "id": "jgjxlGeV5Acr"
      },
      "outputs": [],
      "source": [
        "mse = mean_squared_error(y_train, train_pred_bhp)\n",
        "mae = mean_absolute_error(y_train, train_pred_bhp)\n",
        "rmse=np.sqrt(mean_squared_error(y_train, train_pred_bhp))\n",
        "r2_score=r2_score(y_train, train_pred_bhp)\n",
        "print(\"Train MSE: \", mse)\n",
        "print(\"Train MAE: \", mae)\n",
        "print(\"Train RMSE: \", rmse)\n",
        "print(\"Train r2_score: \", r2_score)"
      ]
    },
    {
      "cell_type": "code",
      "execution_count": null,
      "metadata": {
        "id": "TwKHr1cs5ANm"
      },
      "outputs": [],
      "source": [
        "from sklearn.metrics import mean_squared_error, mean_absolute_error, r2_score\n",
        "mse = mean_squared_error(y_test, test_pred_bhp)\n",
        "mae = mean_absolute_error(y_test, test_pred_bhp)\n",
        "rmse = np.sqrt(mean_squared_error(y_test, test_pred_bhp))\n",
        "r2 = r2_score(y_test, test_pred_bhp)\n",
        "\n",
        "print(\"MSE: \", mse)\n",
        "print(\"MAE: \", mae)\n",
        "print(\"RMSE: \", rmse)\n",
        "print(\"R2 Score: \", r2)"
      ]
    },
    {
      "cell_type": "code",
      "execution_count": null,
      "metadata": {
        "id": "SckaXdia66cU"
      },
      "outputs": [],
      "source": []
    },
    {
      "cell_type": "code",
      "execution_count": null,
      "metadata": {
        "id": "U8rwt25A66Q1"
      },
      "outputs": [],
      "source": []
    },
    {
      "cell_type": "markdown",
      "metadata": {
        "id": "Do1Vr0YkwFYy"
      },
      "source": [
        "# 2 Implementing a Activation Function\n",
        "We will use relu activation function because it outputs the values from  0 to 1 so its a good choice for a regression problem"
      ]
    },
    {
      "cell_type": "code",
      "execution_count": null,
      "metadata": {
        "id": "srZoxiyS93ox"
      },
      "outputs": [],
      "source": [
        "def relu(z):\n",
        "    return np.maximum(0, z)"
      ]
    },
    {
      "cell_type": "markdown",
      "metadata": {
        "id": "QjQeIDoCpy-_"
      },
      "source": [
        "**3 Define Neural Network Architecture\n",
        "Create a model with three layers - Input, Hidden, Output.**"
      ]
    },
    {
      "cell_type": "code",
      "execution_count": null,
      "metadata": {
        "id": "dyub7p1Upxhf"
      },
      "outputs": [],
      "source": [
        "def network_architecture(X, Y):\n",
        "    # nodes in input layer\n",
        "    n_x = X.shape[1]\n",
        "    # nodes in hidden layer\n",
        "    n_h = 12          \n",
        "    # nodes in output layer\n",
        "    n_y = 1\n",
        "    return (n_x, n_h, n_y)"
      ]
    },
    {
      "cell_type": "code",
      "execution_count": null,
      "metadata": {
        "colab": {
          "base_uri": "https://localhost:8080/"
        },
        "id": "qCxVrJze09BB",
        "outputId": "1114c5d3-221b-4ce5-bf9f-1aee44d20ff8"
      },
      "outputs": [
        {
          "data": {
            "text/plain": [
              "(1071, 12, 1)"
            ]
          },
          "execution_count": 178,
          "metadata": {},
          "output_type": "execute_result"
        }
      ],
      "source": [
        "network_architecture(X, Y)"
      ]
    },
    {
      "cell_type": "markdown",
      "metadata": {
        "id": "KAbxPf_Btghw"
      },
      "source": [
        "# 4 Define Neural Network Parameters\n",
        "Neural Network parameters are weights and bias which we need to initialze with zero values. The first layer only contains inputs so there are no weights and bias, but the hidden layer and the output layer have a weight and bias term. (W1, b1 and W2, b2)"
      ]
    },
    {
      "cell_type": "code",
      "execution_count": null,
      "metadata": {
        "id": "0sroTA7_tZKz"
      },
      "outputs": [],
      "source": [
        "def define_network_parameters(n_x, n_h, n_y):\n",
        "    W1 = np.random.randn(n_h,n_x) * 0.01 # random initialization\n",
        "    b1 = np.zeros((n_h, 1)) # zero initialization\n",
        "    W2 = np.random.randn(n_y,n_h) * 0.01 \n",
        "    b2 = np.zeros((n_y, 1)) \n",
        "    return {\"W1\": W1, \"b1\": b1, \"W2\": W2, \"b2\": b2}"
      ]
    },
    {
      "cell_type": "code",
      "execution_count": null,
      "metadata": {
        "id": "lqVGaYU_0t8g"
      },
      "outputs": [],
      "source": [
        "# q=define_network_parameters(n_x, n_h, n_y)"
      ]
    },
    {
      "cell_type": "markdown",
      "metadata": {
        "id": "9yAUq07qvbG1"
      },
      "source": [
        "# 5 Implement Forward Propagation\n",
        "The hidden layer and output layer will compute the activations using sigmoid activation function and will pass it in the forward direction. While computing this activation, the input is multiplied with weight and added with bias before passing it to the function."
      ]
    },
    {
      "cell_type": "code",
      "execution_count": null,
      "metadata": {
        "id": "efA98ZvvveGU"
      },
      "outputs": [],
      "source": [
        "def forward_propagation(X, params):\n",
        "    Z1 = np.dot(params['W1'], X)+params['b1']\n",
        "    A1 = relu(Z1)\n",
        "\n",
        "    Z2 = np.dot(params['W2'], A1)+params['b2']\n",
        "    A2 = relu(Z2)\n",
        "    return {\"Z1\": Z1, \"A1\": A1, \"Z2\": Z2, \"A2\": A2}   \n",
        "    "
      ]
    },
    {
      "cell_type": "markdown",
      "metadata": {
        "id": "Z1yRgE0IxSlT"
      },
      "source": [
        "# 6 Compute the Network Error\n",
        "To compute the cost, one straight forward approach is to compute the absolute error among prediction and actual value. \n",
        "\n",
        "\n",
        "**Mean Absolute Error** (MAE) is the mean of the absolute value of the errors:\n",
        "\n",
        "$$\\frac 1n\\sum_{i=1}^n|y_i-\\hat{y}_i|$$"
      ]
    },
    {
      "cell_type": "code",
      "execution_count": null,
      "metadata": {
        "id": "f0ErEl7ex1Ug"
      },
      "outputs": [],
      "source": [
        "def mean_absolute_error(Y, A2):\n",
        "                    return np.mean(np.abs(Y - A2))"
      ]
    },
    {
      "cell_type": "markdown",
      "metadata": {
        "id": "odDKOgPaz64T"
      },
      "source": [
        "# 7 Implement Backward Propagation\n",
        "In backward propagation function, the error is passed backward to previous layers and the derivatives of weights and bias are computed. The weights and bias are then updated using the derivatives."
      ]
    },
    {
      "cell_type": "code",
      "execution_count": null,
      "metadata": {
        "id": "tmo1IOFpx1IL"
      },
      "outputs": [],
      "source": [
        "def backward_propagation(params, activations, X, Y):\n",
        "    m = X.shape[1]\n",
        "    \n",
        "    # output layer\n",
        "    dZ2 = activations['A2'] - Y # compute the error derivative \n",
        "    dW2 = np.dot(dZ2, activations['A1'].T) / m # compute the weight derivative \n",
        "    db2 = np.sum(dZ2, axis=1, keepdims=True)/m # compute the bias derivative\n",
        "    \n",
        "    # hidden layer\n",
        "    dZ1 = np.dot(params['W2'].T, dZ2)*(1-np.power(activations['A1'], 2))\n",
        "    dW1 = np.dot(dZ1, X.T)/m\n",
        "    db1 = np.sum(dZ1, axis=1,keepdims=True)/m\n",
        "    \n",
        "    return {\"dW1\": dW1, \"db1\": db1, \"dW2\": dW2, \"db2\": db2}\n",
        "\n",
        "def update_parameters(params, derivatives, alpha = 1.2):\n",
        "    # alpha is the model's learning rate \n",
        "    \n",
        "    params['W1'] = params['W1'] - alpha * derivatives['dW1']\n",
        "    params['b1'] = params['b1'] - alpha * derivatives['db1']\n",
        "    params['W2'] = params['W2'] - alpha * derivatives['dW2']\n",
        "    params['b2'] = params['b2'] - alpha * derivatives['db2']\n",
        "    return params"
      ]
    },
    {
      "cell_type": "markdown",
      "metadata": {
        "id": "fcePZpZ80xkS"
      },
      "source": [
        "# 8 Compile and Train the Model\n",
        "Create a function which compiles all the key functions and creates a neural network model."
      ]
    },
    {
      "cell_type": "code",
      "execution_count": null,
      "metadata": {
        "id": "RYtxOcMv0p1t"
      },
      "outputs": [],
      "source": [
        "def neural_network(X, Y, n_h, num_iterations=100):\n",
        "    n_x = network_architecture(X, Y)[0]\n",
        "    n_y = network_architecture(X, Y)[2]\n",
        "    \n",
        "    params = define_network_parameters(n_x, n_h, n_y)\n",
        "    for i in range(0, num_iterations):\n",
        "        results = forward_propagation(X, params)\n",
        "        error = mean_absolute_error(results['A2'], Y)\n",
        "        print(error)\n",
        "        derivatives = backward_propagation(params, results, X, Y) \n",
        "        params = update_parameters(params, derivatives, alpha=1.2) \n",
        "        #print(params)\n",
        "    return params"
      ]
    },
    {
      "cell_type": "code",
      "execution_count": null,
      "metadata": {
        "id": "y9lNevzh0jPj"
      },
      "outputs": [],
      "source": [
        "x = X.reshape(X.shape[1], X.shape[0])\n",
        "y = Y.values.reshape(Y.shape[0],1)"
      ]
    },
    {
      "cell_type": "code",
      "execution_count": null,
      "metadata": {
        "colab": {
          "base_uri": "https://localhost:8080/"
        },
        "id": "ozGGflqa8l2h",
        "outputId": "7906517d-c3d2-4d6b-857c-b2adff3dfd4e"
      },
      "outputs": [
        {
          "data": {
            "text/plain": [
              "1071"
            ]
          },
          "execution_count": 186,
          "metadata": {},
          "output_type": "execute_result"
        }
      ],
      "source": [
        "X.shape[1]"
      ]
    },
    {
      "cell_type": "code",
      "execution_count": null,
      "metadata": {
        "colab": {
          "base_uri": "https://localhost:8080/"
        },
        "id": "blvjIIy78qM5",
        "outputId": "00e816aa-f6c5-43c1-fc51-ccf21d56a85e"
      },
      "outputs": [
        {
          "data": {
            "text/plain": [
              "210182"
            ]
          },
          "execution_count": 187,
          "metadata": {},
          "output_type": "execute_result"
        }
      ],
      "source": [
        "X.shape[0]"
      ]
    },
    {
      "cell_type": "code",
      "execution_count": null,
      "metadata": {
        "colab": {
          "base_uri": "https://localhost:8080/"
        },
        "id": "1JevKkdtE8Ln",
        "outputId": "4254d033-e32e-4c8c-ba93-4cde553bcb5f"
      },
      "outputs": [
        {
          "data": {
            "text/plain": [
              "(1071, 210182)"
            ]
          },
          "execution_count": 188,
          "metadata": {},
          "output_type": "execute_result"
        }
      ],
      "source": [
        "x.shape"
      ]
    },
    {
      "cell_type": "code",
      "execution_count": null,
      "metadata": {
        "colab": {
          "base_uri": "https://localhost:8080/"
        },
        "id": "9F6E4UDW2rpw",
        "outputId": "38f42767-6af9-4c59-ec99-32288418da85"
      },
      "outputs": [
        {
          "data": {
            "text/plain": [
              "(210182, 1)"
            ]
          },
          "execution_count": 189,
          "metadata": {},
          "output_type": "execute_result"
        }
      ],
      "source": [
        "y.shape"
      ]
    },
    {
      "cell_type": "code",
      "execution_count": null,
      "metadata": {
        "id": "cVJlKFtLFDIk"
      },
      "outputs": [],
      "source": [
        "  model = neural_network(x, y, n_h=1, num_iterations=5)"
      ]
    },
    {
      "cell_type": "code",
      "execution_count": null,
      "metadata": {
        "id": "y-xI6_c593pE"
      },
      "outputs": [],
      "source": [
        "def predict(parameters, X):\n",
        "    results = forward_propagation(X, parameters)\n",
        "    print (results['A2'][0])\n",
        "    predictions = np.around(results['A2'])\n",
        "    print(predictions)\n",
        "    return predictions\n"
      ]
    },
    {
      "cell_type": "code",
      "execution_count": null,
      "metadata": {
        "id": "SZOWCO2-93pE"
      },
      "outputs": [],
      "source": [
        "X.shape"
      ]
    },
    {
      "cell_type": "code",
      "execution_count": null,
      "metadata": {
        "id": "RL6oFpYP93pH"
      },
      "outputs": [],
      "source": [
        "  predictions = predict(model, X.T)\n",
        "r_squared_score = (np.dot(X.T, predictions) + np.dot(1-X.T, 1-predictions)) / float(y.size) * 100\n"
      ]
    },
    {
      "cell_type": "code",
      "execution_count": null,
      "metadata": {
        "id": "eWj-tPbZ93pJ"
      },
      "outputs": [],
      "source": [
        " print('R^2_score:' , r_squared_score)"
      ]
    },
    {
      "cell_type": "code",
      "execution_count": null,
      "metadata": {
        "id": "iimiz8uW93pK"
      },
      "outputs": [],
      "source": [
        "te=test.reshape(test.shape[0],test.shape[1])\n",
        " te.shape\n",
        "                  "
      ]
    },
    {
      "cell_type": "code",
      "execution_count": null,
      "metadata": {
        "id": "xHbXkx7v93pL"
      },
      "outputs": [],
      "source": [
        "predictions = predict(model, te.T)\n",
        " r_squared_score = (np.dot(y.T, predictions) + np.dot(1-y.T, 1-predictions)) / float(y.size) * 100\n"
      ]
    },
    {
      "cell_type": "code",
      "execution_count": null,
      "metadata": {
        "id": "9zvpaUzl93pL"
      },
      "outputs": [],
      "source": [
        "print('R^2_score:' , r_squared_score)"
      ]
    },
    {
      "cell_type": "code",
      "execution_count": null,
      "metadata": {
        "id": "yaHL6l8b93pO"
      },
      "outputs": [],
      "source": [
        "train_pred_bhp = besthp.predict(x_train)\n",
        "test_pred_bhp = besthp.predict(x_test) "
      ]
    },
    {
      "cell_type": "code",
      "execution_count": null,
      "metadata": {
        "id": "Lyi_PccECF7T"
      },
      "outputs": [],
      "source": [
        "from sklearn import metrics\n",
        "from sklearn.metrics import mean_squared_error\n",
        "from sklearn.metrics import mean_absolute_error\n",
        "from sklearn.metrics import r2_score"
      ]
    },
    {
      "cell_type": "code",
      "execution_count": null,
      "metadata": {
        "id": "ix_EHd0qCfSP"
      },
      "outputs": [],
      "source": [
        "mse = mean_squared_error(y_train, train_pred_bhp)\n",
        "mae = mean_absolute_error(y_train, train_pred_bhp)\n",
        "rmse=np.sqrt(mean_squared_error(y_train, train_pred_bhp))\n",
        "r2_score=r2_score(y_train, train_pred_bhp)\n",
        "print(\"Train MSE: \", mse)\n",
        "print(\"Train MAE: \", mae)\n",
        "print(\"Train RMSE: \", rmse)\n",
        "print(\"Train r2_score: \", r2_score)"
      ]
    },
    {
      "cell_type": "code",
      "execution_count": null,
      "metadata": {
        "id": "ETCJCDvyCiNd"
      },
      "outputs": [],
      "source": [
        "from sklearn.metrics import mean_squared_error, mean_absolute_error, r2_score\n",
        "mse = mean_squared_error(y_test, test_pred_bhp)\n",
        "mae = mean_absolute_error(y_test, test_pred_bhp)\n",
        "rmse = np.sqrt(mean_squared_error(y_test, test_pred_bhp))\n",
        "r2 = r2_score(y_test, test_pred_bhp)\n",
        "\n",
        "print(\"MSE: \", mse)\n",
        "print(\"MAE: \", mae)\n",
        "print(\"RMSE: \", rmse)\n",
        "print(\"R2 Score: \", r2)"
      ]
    },
    {
      "cell_type": "code",
      "execution_count": null,
      "metadata": {
        "id": "TpMmp7zzCmYJ"
      },
      "outputs": [],
      "source": []
    },
    {
      "cell_type": "code",
      "execution_count": null,
      "metadata": {
        "id": "oiWmh6sD8cpO"
      },
      "outputs": [],
      "source": []
    }
  ],
  "metadata": {
    "colab": {
      "provenance": []
    },
    "kernelspec": {
      "display_name": "Python 3",
      "language": "python",
      "name": "python3"
    },
    "language_info": {
      "codemirror_mode": {
        "name": "ipython",
        "version": 3
      },
      "file_extension": ".py",
      "mimetype": "text/x-python",
      "name": "python",
      "nbconvert_exporter": "python",
      "pygments_lexer": "ipython3",
      "version": "3.7.6"
    }
  },
  "nbformat": 4,
  "nbformat_minor": 0
}