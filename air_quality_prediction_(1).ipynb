{
  "cells": [
    {
      "cell_type": "markdown",
      "metadata": {
        "id": "ir14UEiBupt6"
      },
      "source": [
        "The dataset contains air quality data and AQI (Air Quality Index) at hourly and daily level of various stations across multiple cities in India."
      ]
    },
    {
      "cell_type": "markdown",
      "source": [
        "# importing libraries\n"
      ],
      "metadata": {
        "id": "vE2A3a7J2eGo"
      }
    },
    {
      "cell_type": "code",
      "execution_count": null,
      "metadata": {
        "id": "h9G44TU-ysxg"
      },
      "outputs": [],
      "source": [
        "import numpy as np\n",
        "import pandas as pd\n",
        "import matplotlib.pyplot as plt\n",
        "import seaborn as sns"
      ]
    },
    {
      "cell_type": "markdown",
      "source": [
        "#loading the data"
      ],
      "metadata": {
        "id": "1AJicoWB2jJC"
      }
    },
    {
      "cell_type": "code",
      "execution_count": null,
      "metadata": {
        "colab": {
          "base_uri": "https://localhost:8080/"
        },
        "id": "6a-Upsl5vmC8",
        "outputId": "47a36ed3-ccd0-4a0b-9fc6-544b3762a440"
      },
      "outputs": [
        {
          "name": "stderr",
          "output_type": "stream",
          "text": [
            "/usr/share/anaconda3/lib/python3.7/site-packages/IPython/core/interactiveshell.py:3063: DtypeWarning: Columns (15) have mixed types.Specify dtype option on import or set low_memory=False.\n",
            "  interactivity=interactivity, compiler=compiler, result=result)\n"
          ]
        },
        {
          "name": "stdout",
          "output_type": "stream",
          "text": [
            "(230, 5)\n",
            "(2589083, 16)\n",
            "(108035, 16)\n",
            "(707875, 16)\n",
            "(29531, 16)\n"
          ]
        }
      ],
      "source": [
        "file1=pd.read_csv(\"stations.csv\")\n",
        "file2=pd.read_csv(\"station_hour.csv\")\n",
        "file3=pd.read_csv(\"station_day.csv\")\n",
        "file4=pd.read_csv(\"city_hour.csv\")\n",
        "file5=pd.read_csv(\"city_day.csv\")\n",
        "print(file1.shape)\n",
        "print(file2.shape)\n",
        "print(file3.shape)\n",
        "print(file4.shape)\n",
        "print(file5.shape)"
      ]
    },
    {
      "cell_type": "code",
      "execution_count": null,
      "metadata": {
        "colab": {
          "base_uri": "https://localhost:8080/",
          "height": 206
        },
        "id": "FfDRGotC24zZ",
        "outputId": "f12db602-34c9-4dc6-83f3-5c3caf41e94b"
      },
      "outputs": [
        {
          "data": {
            "text/html": [
              "<div>\n",
              "<style scoped>\n",
              "    .dataframe tbody tr th:only-of-type {\n",
              "        vertical-align: middle;\n",
              "    }\n",
              "\n",
              "    .dataframe tbody tr th {\n",
              "        vertical-align: top;\n",
              "    }\n",
              "\n",
              "    .dataframe thead th {\n",
              "        text-align: right;\n",
              "    }\n",
              "</style>\n",
              "<table border=\"1\" class=\"dataframe\">\n",
              "  <thead>\n",
              "    <tr style=\"text-align: right;\">\n",
              "      <th></th>\n",
              "      <th>StationId</th>\n",
              "      <th>StationName</th>\n",
              "      <th>City</th>\n",
              "      <th>State</th>\n",
              "      <th>Status</th>\n",
              "    </tr>\n",
              "  </thead>\n",
              "  <tbody>\n",
              "    <tr>\n",
              "      <th>0</th>\n",
              "      <td>AP001</td>\n",
              "      <td>Secretariat, Amaravati - APPCB</td>\n",
              "      <td>Amaravati</td>\n",
              "      <td>Andhra Pradesh</td>\n",
              "      <td>Active</td>\n",
              "    </tr>\n",
              "    <tr>\n",
              "      <th>1</th>\n",
              "      <td>AP002</td>\n",
              "      <td>Anand Kala Kshetram, Rajamahendravaram - APPCB</td>\n",
              "      <td>Rajamahendravaram</td>\n",
              "      <td>Andhra Pradesh</td>\n",
              "      <td>NaN</td>\n",
              "    </tr>\n",
              "    <tr>\n",
              "      <th>2</th>\n",
              "      <td>AP003</td>\n",
              "      <td>Tirumala, Tirupati - APPCB</td>\n",
              "      <td>Tirupati</td>\n",
              "      <td>Andhra Pradesh</td>\n",
              "      <td>NaN</td>\n",
              "    </tr>\n",
              "    <tr>\n",
              "      <th>3</th>\n",
              "      <td>AP004</td>\n",
              "      <td>PWD Grounds, Vijayawada - APPCB</td>\n",
              "      <td>Vijayawada</td>\n",
              "      <td>Andhra Pradesh</td>\n",
              "      <td>NaN</td>\n",
              "    </tr>\n",
              "    <tr>\n",
              "      <th>4</th>\n",
              "      <td>AP005</td>\n",
              "      <td>GVM Corporation, Visakhapatnam - APPCB</td>\n",
              "      <td>Visakhapatnam</td>\n",
              "      <td>Andhra Pradesh</td>\n",
              "      <td>Active</td>\n",
              "    </tr>\n",
              "  </tbody>\n",
              "</table>\n",
              "</div>"
            ],
            "text/plain": [
              "  StationId                                     StationName  \\\n",
              "0     AP001                  Secretariat, Amaravati - APPCB   \n",
              "1     AP002  Anand Kala Kshetram, Rajamahendravaram - APPCB   \n",
              "2     AP003                      Tirumala, Tirupati - APPCB   \n",
              "3     AP004                 PWD Grounds, Vijayawada - APPCB   \n",
              "4     AP005          GVM Corporation, Visakhapatnam - APPCB   \n",
              "\n",
              "                City           State  Status  \n",
              "0          Amaravati  Andhra Pradesh  Active  \n",
              "1  Rajamahendravaram  Andhra Pradesh     NaN  \n",
              "2           Tirupati  Andhra Pradesh     NaN  \n",
              "3         Vijayawada  Andhra Pradesh     NaN  \n",
              "4      Visakhapatnam  Andhra Pradesh  Active  "
            ]
          },
          "execution_count": 3,
          "metadata": {},
          "output_type": "execute_result"
        }
      ],
      "source": [
        "file1.head()"
      ]
    },
    {
      "cell_type": "code",
      "execution_count": null,
      "metadata": {
        "colab": {
          "base_uri": "https://localhost:8080/",
          "height": 206
        },
        "id": "epQVo0US-ILB",
        "outputId": "c3f5dc95-4fc9-401c-febf-464350729f2d"
      },
      "outputs": [
        {
          "data": {
            "text/html": [
              "<div>\n",
              "<style scoped>\n",
              "    .dataframe tbody tr th:only-of-type {\n",
              "        vertical-align: middle;\n",
              "    }\n",
              "\n",
              "    .dataframe tbody tr th {\n",
              "        vertical-align: top;\n",
              "    }\n",
              "\n",
              "    .dataframe thead th {\n",
              "        text-align: right;\n",
              "    }\n",
              "</style>\n",
              "<table border=\"1\" class=\"dataframe\">\n",
              "  <thead>\n",
              "    <tr style=\"text-align: right;\">\n",
              "      <th></th>\n",
              "      <th>StationId</th>\n",
              "      <th>Datetime</th>\n",
              "      <th>PM2.5</th>\n",
              "      <th>PM10</th>\n",
              "      <th>NO</th>\n",
              "      <th>NO2</th>\n",
              "      <th>NOx</th>\n",
              "      <th>NH3</th>\n",
              "      <th>CO</th>\n",
              "      <th>SO2</th>\n",
              "      <th>O3</th>\n",
              "      <th>Benzene</th>\n",
              "      <th>Toluene</th>\n",
              "      <th>Xylene</th>\n",
              "      <th>AQI</th>\n",
              "      <th>AQI_Bucket</th>\n",
              "    </tr>\n",
              "  </thead>\n",
              "  <tbody>\n",
              "    <tr>\n",
              "      <th>0</th>\n",
              "      <td>AP001</td>\n",
              "      <td>2017-11-24 17:00:00</td>\n",
              "      <td>60.50</td>\n",
              "      <td>98.00</td>\n",
              "      <td>2.35</td>\n",
              "      <td>30.80</td>\n",
              "      <td>18.25</td>\n",
              "      <td>8.50</td>\n",
              "      <td>0.1</td>\n",
              "      <td>11.85</td>\n",
              "      <td>126.40</td>\n",
              "      <td>0.1</td>\n",
              "      <td>6.10</td>\n",
              "      <td>0.10</td>\n",
              "      <td>NaN</td>\n",
              "      <td>NaN</td>\n",
              "    </tr>\n",
              "    <tr>\n",
              "      <th>1</th>\n",
              "      <td>AP001</td>\n",
              "      <td>2017-11-24 18:00:00</td>\n",
              "      <td>65.50</td>\n",
              "      <td>111.25</td>\n",
              "      <td>2.70</td>\n",
              "      <td>24.20</td>\n",
              "      <td>15.07</td>\n",
              "      <td>9.77</td>\n",
              "      <td>0.1</td>\n",
              "      <td>13.17</td>\n",
              "      <td>117.12</td>\n",
              "      <td>0.1</td>\n",
              "      <td>6.25</td>\n",
              "      <td>0.15</td>\n",
              "      <td>NaN</td>\n",
              "      <td>NaN</td>\n",
              "    </tr>\n",
              "    <tr>\n",
              "      <th>2</th>\n",
              "      <td>AP001</td>\n",
              "      <td>2017-11-24 19:00:00</td>\n",
              "      <td>80.00</td>\n",
              "      <td>132.00</td>\n",
              "      <td>2.10</td>\n",
              "      <td>25.18</td>\n",
              "      <td>15.15</td>\n",
              "      <td>12.02</td>\n",
              "      <td>0.1</td>\n",
              "      <td>12.08</td>\n",
              "      <td>98.98</td>\n",
              "      <td>0.2</td>\n",
              "      <td>5.98</td>\n",
              "      <td>0.18</td>\n",
              "      <td>NaN</td>\n",
              "      <td>NaN</td>\n",
              "    </tr>\n",
              "    <tr>\n",
              "      <th>3</th>\n",
              "      <td>AP001</td>\n",
              "      <td>2017-11-24 20:00:00</td>\n",
              "      <td>81.50</td>\n",
              "      <td>133.25</td>\n",
              "      <td>1.95</td>\n",
              "      <td>16.25</td>\n",
              "      <td>10.23</td>\n",
              "      <td>11.58</td>\n",
              "      <td>0.1</td>\n",
              "      <td>10.47</td>\n",
              "      <td>112.20</td>\n",
              "      <td>0.2</td>\n",
              "      <td>6.72</td>\n",
              "      <td>0.10</td>\n",
              "      <td>NaN</td>\n",
              "      <td>NaN</td>\n",
              "    </tr>\n",
              "    <tr>\n",
              "      <th>4</th>\n",
              "      <td>AP001</td>\n",
              "      <td>2017-11-24 21:00:00</td>\n",
              "      <td>75.25</td>\n",
              "      <td>116.00</td>\n",
              "      <td>1.43</td>\n",
              "      <td>17.48</td>\n",
              "      <td>10.43</td>\n",
              "      <td>12.03</td>\n",
              "      <td>0.1</td>\n",
              "      <td>9.12</td>\n",
              "      <td>106.35</td>\n",
              "      <td>0.2</td>\n",
              "      <td>5.75</td>\n",
              "      <td>0.08</td>\n",
              "      <td>NaN</td>\n",
              "      <td>NaN</td>\n",
              "    </tr>\n",
              "  </tbody>\n",
              "</table>\n",
              "</div>"
            ],
            "text/plain": [
              "  StationId             Datetime  PM2.5    PM10    NO    NO2    NOx    NH3  \\\n",
              "0     AP001  2017-11-24 17:00:00  60.50   98.00  2.35  30.80  18.25   8.50   \n",
              "1     AP001  2017-11-24 18:00:00  65.50  111.25  2.70  24.20  15.07   9.77   \n",
              "2     AP001  2017-11-24 19:00:00  80.00  132.00  2.10  25.18  15.15  12.02   \n",
              "3     AP001  2017-11-24 20:00:00  81.50  133.25  1.95  16.25  10.23  11.58   \n",
              "4     AP001  2017-11-24 21:00:00  75.25  116.00  1.43  17.48  10.43  12.03   \n",
              "\n",
              "    CO    SO2      O3  Benzene  Toluene  Xylene  AQI AQI_Bucket  \n",
              "0  0.1  11.85  126.40      0.1     6.10    0.10  NaN        NaN  \n",
              "1  0.1  13.17  117.12      0.1     6.25    0.15  NaN        NaN  \n",
              "2  0.1  12.08   98.98      0.2     5.98    0.18  NaN        NaN  \n",
              "3  0.1  10.47  112.20      0.2     6.72    0.10  NaN        NaN  \n",
              "4  0.1   9.12  106.35      0.2     5.75    0.08  NaN        NaN  "
            ]
          },
          "execution_count": 4,
          "metadata": {},
          "output_type": "execute_result"
        }
      ],
      "source": [
        "file2.head()"
      ]
    },
    {
      "cell_type": "code",
      "execution_count": null,
      "metadata": {
        "colab": {
          "base_uri": "https://localhost:8080/",
          "height": 206
        },
        "id": "TOZ5nF_Z-L_z",
        "outputId": "3b9915c5-c1a3-4ff6-dd74-b7c2cfe1dee8"
      },
      "outputs": [
        {
          "data": {
            "text/html": [
              "<div>\n",
              "<style scoped>\n",
              "    .dataframe tbody tr th:only-of-type {\n",
              "        vertical-align: middle;\n",
              "    }\n",
              "\n",
              "    .dataframe tbody tr th {\n",
              "        vertical-align: top;\n",
              "    }\n",
              "\n",
              "    .dataframe thead th {\n",
              "        text-align: right;\n",
              "    }\n",
              "</style>\n",
              "<table border=\"1\" class=\"dataframe\">\n",
              "  <thead>\n",
              "    <tr style=\"text-align: right;\">\n",
              "      <th></th>\n",
              "      <th>StationId</th>\n",
              "      <th>Date</th>\n",
              "      <th>PM2.5</th>\n",
              "      <th>PM10</th>\n",
              "      <th>NO</th>\n",
              "      <th>NO2</th>\n",
              "      <th>NOx</th>\n",
              "      <th>NH3</th>\n",
              "      <th>CO</th>\n",
              "      <th>SO2</th>\n",
              "      <th>O3</th>\n",
              "      <th>Benzene</th>\n",
              "      <th>Toluene</th>\n",
              "      <th>Xylene</th>\n",
              "      <th>AQI</th>\n",
              "      <th>AQI_Bucket</th>\n",
              "    </tr>\n",
              "  </thead>\n",
              "  <tbody>\n",
              "    <tr>\n",
              "      <th>0</th>\n",
              "      <td>AP001</td>\n",
              "      <td>2017-11-24</td>\n",
              "      <td>71.36</td>\n",
              "      <td>115.75</td>\n",
              "      <td>1.75</td>\n",
              "      <td>20.65</td>\n",
              "      <td>12.40</td>\n",
              "      <td>12.19</td>\n",
              "      <td>0.10</td>\n",
              "      <td>10.76</td>\n",
              "      <td>109.26</td>\n",
              "      <td>0.17</td>\n",
              "      <td>5.92</td>\n",
              "      <td>0.10</td>\n",
              "      <td>NaN</td>\n",
              "      <td>NaN</td>\n",
              "    </tr>\n",
              "    <tr>\n",
              "      <th>1</th>\n",
              "      <td>AP001</td>\n",
              "      <td>2017-11-25</td>\n",
              "      <td>81.40</td>\n",
              "      <td>124.50</td>\n",
              "      <td>1.44</td>\n",
              "      <td>20.50</td>\n",
              "      <td>12.08</td>\n",
              "      <td>10.72</td>\n",
              "      <td>0.12</td>\n",
              "      <td>15.24</td>\n",
              "      <td>127.09</td>\n",
              "      <td>0.20</td>\n",
              "      <td>6.50</td>\n",
              "      <td>0.06</td>\n",
              "      <td>184.0</td>\n",
              "      <td>Moderate</td>\n",
              "    </tr>\n",
              "    <tr>\n",
              "      <th>2</th>\n",
              "      <td>AP001</td>\n",
              "      <td>2017-11-26</td>\n",
              "      <td>78.32</td>\n",
              "      <td>129.06</td>\n",
              "      <td>1.26</td>\n",
              "      <td>26.00</td>\n",
              "      <td>14.85</td>\n",
              "      <td>10.28</td>\n",
              "      <td>0.14</td>\n",
              "      <td>26.96</td>\n",
              "      <td>117.44</td>\n",
              "      <td>0.22</td>\n",
              "      <td>7.95</td>\n",
              "      <td>0.08</td>\n",
              "      <td>197.0</td>\n",
              "      <td>Moderate</td>\n",
              "    </tr>\n",
              "    <tr>\n",
              "      <th>3</th>\n",
              "      <td>AP001</td>\n",
              "      <td>2017-11-27</td>\n",
              "      <td>88.76</td>\n",
              "      <td>135.32</td>\n",
              "      <td>6.60</td>\n",
              "      <td>30.85</td>\n",
              "      <td>21.77</td>\n",
              "      <td>12.91</td>\n",
              "      <td>0.11</td>\n",
              "      <td>33.59</td>\n",
              "      <td>111.81</td>\n",
              "      <td>0.29</td>\n",
              "      <td>7.63</td>\n",
              "      <td>0.12</td>\n",
              "      <td>198.0</td>\n",
              "      <td>Moderate</td>\n",
              "    </tr>\n",
              "    <tr>\n",
              "      <th>4</th>\n",
              "      <td>AP001</td>\n",
              "      <td>2017-11-28</td>\n",
              "      <td>64.18</td>\n",
              "      <td>104.09</td>\n",
              "      <td>2.56</td>\n",
              "      <td>28.07</td>\n",
              "      <td>17.01</td>\n",
              "      <td>11.42</td>\n",
              "      <td>0.09</td>\n",
              "      <td>19.00</td>\n",
              "      <td>138.18</td>\n",
              "      <td>0.17</td>\n",
              "      <td>5.02</td>\n",
              "      <td>0.07</td>\n",
              "      <td>188.0</td>\n",
              "      <td>Moderate</td>\n",
              "    </tr>\n",
              "  </tbody>\n",
              "</table>\n",
              "</div>"
            ],
            "text/plain": [
              "  StationId        Date  PM2.5    PM10    NO    NO2    NOx    NH3    CO  \\\n",
              "0     AP001  2017-11-24  71.36  115.75  1.75  20.65  12.40  12.19  0.10   \n",
              "1     AP001  2017-11-25  81.40  124.50  1.44  20.50  12.08  10.72  0.12   \n",
              "2     AP001  2017-11-26  78.32  129.06  1.26  26.00  14.85  10.28  0.14   \n",
              "3     AP001  2017-11-27  88.76  135.32  6.60  30.85  21.77  12.91  0.11   \n",
              "4     AP001  2017-11-28  64.18  104.09  2.56  28.07  17.01  11.42  0.09   \n",
              "\n",
              "     SO2      O3  Benzene  Toluene  Xylene    AQI AQI_Bucket  \n",
              "0  10.76  109.26     0.17     5.92    0.10    NaN        NaN  \n",
              "1  15.24  127.09     0.20     6.50    0.06  184.0   Moderate  \n",
              "2  26.96  117.44     0.22     7.95    0.08  197.0   Moderate  \n",
              "3  33.59  111.81     0.29     7.63    0.12  198.0   Moderate  \n",
              "4  19.00  138.18     0.17     5.02    0.07  188.0   Moderate  "
            ]
          },
          "execution_count": 5,
          "metadata": {},
          "output_type": "execute_result"
        }
      ],
      "source": [
        "file3.head()"
      ]
    },
    {
      "cell_type": "code",
      "execution_count": null,
      "metadata": {
        "colab": {
          "base_uri": "https://localhost:8080/",
          "height": 206
        },
        "id": "xWNOwmmGMJ8N",
        "outputId": "e46c6500-ce43-4a2e-d217-e3ce3e524514"
      },
      "outputs": [
        {
          "data": {
            "text/html": [
              "<div>\n",
              "<style scoped>\n",
              "    .dataframe tbody tr th:only-of-type {\n",
              "        vertical-align: middle;\n",
              "    }\n",
              "\n",
              "    .dataframe tbody tr th {\n",
              "        vertical-align: top;\n",
              "    }\n",
              "\n",
              "    .dataframe thead th {\n",
              "        text-align: right;\n",
              "    }\n",
              "</style>\n",
              "<table border=\"1\" class=\"dataframe\">\n",
              "  <thead>\n",
              "    <tr style=\"text-align: right;\">\n",
              "      <th></th>\n",
              "      <th>City</th>\n",
              "      <th>Datetime</th>\n",
              "      <th>PM2.5</th>\n",
              "      <th>PM10</th>\n",
              "      <th>NO</th>\n",
              "      <th>NO2</th>\n",
              "      <th>NOx</th>\n",
              "      <th>NH3</th>\n",
              "      <th>CO</th>\n",
              "      <th>SO2</th>\n",
              "      <th>O3</th>\n",
              "      <th>Benzene</th>\n",
              "      <th>Toluene</th>\n",
              "      <th>Xylene</th>\n",
              "      <th>AQI</th>\n",
              "      <th>AQI_Bucket</th>\n",
              "    </tr>\n",
              "  </thead>\n",
              "  <tbody>\n",
              "    <tr>\n",
              "      <th>0</th>\n",
              "      <td>Ahmedabad</td>\n",
              "      <td>2015-01-01 01:00:00</td>\n",
              "      <td>NaN</td>\n",
              "      <td>NaN</td>\n",
              "      <td>1.00</td>\n",
              "      <td>40.01</td>\n",
              "      <td>36.37</td>\n",
              "      <td>NaN</td>\n",
              "      <td>1.00</td>\n",
              "      <td>122.07</td>\n",
              "      <td>NaN</td>\n",
              "      <td>0.0</td>\n",
              "      <td>0.0</td>\n",
              "      <td>0.0</td>\n",
              "      <td>NaN</td>\n",
              "      <td>NaN</td>\n",
              "    </tr>\n",
              "    <tr>\n",
              "      <th>1</th>\n",
              "      <td>Ahmedabad</td>\n",
              "      <td>2015-01-01 02:00:00</td>\n",
              "      <td>NaN</td>\n",
              "      <td>NaN</td>\n",
              "      <td>0.02</td>\n",
              "      <td>27.75</td>\n",
              "      <td>19.73</td>\n",
              "      <td>NaN</td>\n",
              "      <td>0.02</td>\n",
              "      <td>85.90</td>\n",
              "      <td>NaN</td>\n",
              "      <td>0.0</td>\n",
              "      <td>0.0</td>\n",
              "      <td>0.0</td>\n",
              "      <td>NaN</td>\n",
              "      <td>NaN</td>\n",
              "    </tr>\n",
              "    <tr>\n",
              "      <th>2</th>\n",
              "      <td>Ahmedabad</td>\n",
              "      <td>2015-01-01 03:00:00</td>\n",
              "      <td>NaN</td>\n",
              "      <td>NaN</td>\n",
              "      <td>0.08</td>\n",
              "      <td>19.32</td>\n",
              "      <td>11.08</td>\n",
              "      <td>NaN</td>\n",
              "      <td>0.08</td>\n",
              "      <td>52.83</td>\n",
              "      <td>NaN</td>\n",
              "      <td>0.0</td>\n",
              "      <td>0.0</td>\n",
              "      <td>0.0</td>\n",
              "      <td>NaN</td>\n",
              "      <td>NaN</td>\n",
              "    </tr>\n",
              "    <tr>\n",
              "      <th>3</th>\n",
              "      <td>Ahmedabad</td>\n",
              "      <td>2015-01-01 04:00:00</td>\n",
              "      <td>NaN</td>\n",
              "      <td>NaN</td>\n",
              "      <td>0.30</td>\n",
              "      <td>16.45</td>\n",
              "      <td>9.20</td>\n",
              "      <td>NaN</td>\n",
              "      <td>0.30</td>\n",
              "      <td>39.53</td>\n",
              "      <td>153.58</td>\n",
              "      <td>0.0</td>\n",
              "      <td>0.0</td>\n",
              "      <td>0.0</td>\n",
              "      <td>NaN</td>\n",
              "      <td>NaN</td>\n",
              "    </tr>\n",
              "    <tr>\n",
              "      <th>4</th>\n",
              "      <td>Ahmedabad</td>\n",
              "      <td>2015-01-01 05:00:00</td>\n",
              "      <td>NaN</td>\n",
              "      <td>NaN</td>\n",
              "      <td>0.12</td>\n",
              "      <td>14.90</td>\n",
              "      <td>7.85</td>\n",
              "      <td>NaN</td>\n",
              "      <td>0.12</td>\n",
              "      <td>32.63</td>\n",
              "      <td>NaN</td>\n",
              "      <td>0.0</td>\n",
              "      <td>0.0</td>\n",
              "      <td>0.0</td>\n",
              "      <td>NaN</td>\n",
              "      <td>NaN</td>\n",
              "    </tr>\n",
              "  </tbody>\n",
              "</table>\n",
              "</div>"
            ],
            "text/plain": [
              "        City             Datetime  PM2.5  PM10    NO    NO2    NOx  NH3    CO  \\\n",
              "0  Ahmedabad  2015-01-01 01:00:00    NaN   NaN  1.00  40.01  36.37  NaN  1.00   \n",
              "1  Ahmedabad  2015-01-01 02:00:00    NaN   NaN  0.02  27.75  19.73  NaN  0.02   \n",
              "2  Ahmedabad  2015-01-01 03:00:00    NaN   NaN  0.08  19.32  11.08  NaN  0.08   \n",
              "3  Ahmedabad  2015-01-01 04:00:00    NaN   NaN  0.30  16.45   9.20  NaN  0.30   \n",
              "4  Ahmedabad  2015-01-01 05:00:00    NaN   NaN  0.12  14.90   7.85  NaN  0.12   \n",
              "\n",
              "      SO2      O3  Benzene  Toluene  Xylene  AQI AQI_Bucket  \n",
              "0  122.07     NaN      0.0      0.0     0.0  NaN        NaN  \n",
              "1   85.90     NaN      0.0      0.0     0.0  NaN        NaN  \n",
              "2   52.83     NaN      0.0      0.0     0.0  NaN        NaN  \n",
              "3   39.53  153.58      0.0      0.0     0.0  NaN        NaN  \n",
              "4   32.63     NaN      0.0      0.0     0.0  NaN        NaN  "
            ]
          },
          "execution_count": 6,
          "metadata": {},
          "output_type": "execute_result"
        }
      ],
      "source": [
        "file4.head()"
      ]
    },
    {
      "cell_type": "code",
      "execution_count": null,
      "metadata": {
        "id": "9Yhz8ZvZysxu",
        "outputId": "16ada749-49e3-4f7a-ce34-754d4711030f"
      },
      "outputs": [
        {
          "data": {
            "text/html": [
              "<div>\n",
              "<style scoped>\n",
              "    .dataframe tbody tr th:only-of-type {\n",
              "        vertical-align: middle;\n",
              "    }\n",
              "\n",
              "    .dataframe tbody tr th {\n",
              "        vertical-align: top;\n",
              "    }\n",
              "\n",
              "    .dataframe thead th {\n",
              "        text-align: right;\n",
              "    }\n",
              "</style>\n",
              "<table border=\"1\" class=\"dataframe\">\n",
              "  <thead>\n",
              "    <tr style=\"text-align: right;\">\n",
              "      <th></th>\n",
              "      <th>City</th>\n",
              "      <th>Date</th>\n",
              "      <th>PM2.5</th>\n",
              "      <th>PM10</th>\n",
              "      <th>NO</th>\n",
              "      <th>NO2</th>\n",
              "      <th>NOx</th>\n",
              "      <th>NH3</th>\n",
              "      <th>CO</th>\n",
              "      <th>SO2</th>\n",
              "      <th>O3</th>\n",
              "      <th>Benzene</th>\n",
              "      <th>Toluene</th>\n",
              "      <th>Xylene</th>\n",
              "      <th>AQI</th>\n",
              "      <th>AQI_Bucket</th>\n",
              "    </tr>\n",
              "  </thead>\n",
              "  <tbody>\n",
              "    <tr>\n",
              "      <th>0</th>\n",
              "      <td>Ahmedabad</td>\n",
              "      <td>2015-01-01</td>\n",
              "      <td>NaN</td>\n",
              "      <td>NaN</td>\n",
              "      <td>0.92</td>\n",
              "      <td>18.22</td>\n",
              "      <td>17.15</td>\n",
              "      <td>NaN</td>\n",
              "      <td>0.92</td>\n",
              "      <td>27.64</td>\n",
              "      <td>133.36</td>\n",
              "      <td>0.00</td>\n",
              "      <td>0.02</td>\n",
              "      <td>0.00</td>\n",
              "      <td>NaN</td>\n",
              "      <td>NaN</td>\n",
              "    </tr>\n",
              "    <tr>\n",
              "      <th>1</th>\n",
              "      <td>Ahmedabad</td>\n",
              "      <td>2015-01-02</td>\n",
              "      <td>NaN</td>\n",
              "      <td>NaN</td>\n",
              "      <td>0.97</td>\n",
              "      <td>15.69</td>\n",
              "      <td>16.46</td>\n",
              "      <td>NaN</td>\n",
              "      <td>0.97</td>\n",
              "      <td>24.55</td>\n",
              "      <td>34.06</td>\n",
              "      <td>3.68</td>\n",
              "      <td>5.50</td>\n",
              "      <td>3.77</td>\n",
              "      <td>NaN</td>\n",
              "      <td>NaN</td>\n",
              "    </tr>\n",
              "    <tr>\n",
              "      <th>2</th>\n",
              "      <td>Ahmedabad</td>\n",
              "      <td>2015-01-03</td>\n",
              "      <td>NaN</td>\n",
              "      <td>NaN</td>\n",
              "      <td>17.40</td>\n",
              "      <td>19.30</td>\n",
              "      <td>29.70</td>\n",
              "      <td>NaN</td>\n",
              "      <td>17.40</td>\n",
              "      <td>29.07</td>\n",
              "      <td>30.70</td>\n",
              "      <td>6.80</td>\n",
              "      <td>16.40</td>\n",
              "      <td>2.25</td>\n",
              "      <td>NaN</td>\n",
              "      <td>NaN</td>\n",
              "    </tr>\n",
              "    <tr>\n",
              "      <th>3</th>\n",
              "      <td>Ahmedabad</td>\n",
              "      <td>2015-01-04</td>\n",
              "      <td>NaN</td>\n",
              "      <td>NaN</td>\n",
              "      <td>1.70</td>\n",
              "      <td>18.48</td>\n",
              "      <td>17.97</td>\n",
              "      <td>NaN</td>\n",
              "      <td>1.70</td>\n",
              "      <td>18.59</td>\n",
              "      <td>36.08</td>\n",
              "      <td>4.43</td>\n",
              "      <td>10.14</td>\n",
              "      <td>1.00</td>\n",
              "      <td>NaN</td>\n",
              "      <td>NaN</td>\n",
              "    </tr>\n",
              "    <tr>\n",
              "      <th>4</th>\n",
              "      <td>Ahmedabad</td>\n",
              "      <td>2015-01-05</td>\n",
              "      <td>NaN</td>\n",
              "      <td>NaN</td>\n",
              "      <td>22.10</td>\n",
              "      <td>21.42</td>\n",
              "      <td>37.76</td>\n",
              "      <td>NaN</td>\n",
              "      <td>22.10</td>\n",
              "      <td>39.33</td>\n",
              "      <td>39.31</td>\n",
              "      <td>7.01</td>\n",
              "      <td>18.89</td>\n",
              "      <td>2.78</td>\n",
              "      <td>NaN</td>\n",
              "      <td>NaN</td>\n",
              "    </tr>\n",
              "  </tbody>\n",
              "</table>\n",
              "</div>"
            ],
            "text/plain": [
              "        City        Date  PM2.5  PM10     NO    NO2    NOx  NH3     CO    SO2  \\\n",
              "0  Ahmedabad  2015-01-01    NaN   NaN   0.92  18.22  17.15  NaN   0.92  27.64   \n",
              "1  Ahmedabad  2015-01-02    NaN   NaN   0.97  15.69  16.46  NaN   0.97  24.55   \n",
              "2  Ahmedabad  2015-01-03    NaN   NaN  17.40  19.30  29.70  NaN  17.40  29.07   \n",
              "3  Ahmedabad  2015-01-04    NaN   NaN   1.70  18.48  17.97  NaN   1.70  18.59   \n",
              "4  Ahmedabad  2015-01-05    NaN   NaN  22.10  21.42  37.76  NaN  22.10  39.33   \n",
              "\n",
              "       O3  Benzene  Toluene  Xylene  AQI AQI_Bucket  \n",
              "0  133.36     0.00     0.02    0.00  NaN        NaN  \n",
              "1   34.06     3.68     5.50    3.77  NaN        NaN  \n",
              "2   30.70     6.80    16.40    2.25  NaN        NaN  \n",
              "3   36.08     4.43    10.14    1.00  NaN        NaN  \n",
              "4   39.31     7.01    18.89    2.78  NaN        NaN  "
            ]
          },
          "execution_count": 7,
          "metadata": {},
          "output_type": "execute_result"
        }
      ],
      "source": [
        "file5.head()"
      ]
    },
    {
      "cell_type": "markdown",
      "source": [
        "# merging the datasets with each one by using concat"
      ],
      "metadata": {
        "id": "eglUguBf2qV9"
      }
    },
    {
      "cell_type": "code",
      "execution_count": null,
      "metadata": {
        "id": "qN-pQviWysxv"
      },
      "outputs": [],
      "source": [
        "df_1 = pd.concat([file2,file3], ignore_index=True)"
      ]
    },
    {
      "cell_type": "code",
      "execution_count": null,
      "metadata": {
        "id": "SQoZotzDysxw",
        "outputId": "a5b4cd12-08c0-4e85-ed3a-c0411e15ef30"
      },
      "outputs": [
        {
          "data": {
            "text/html": [
              "<div>\n",
              "<style scoped>\n",
              "    .dataframe tbody tr th:only-of-type {\n",
              "        vertical-align: middle;\n",
              "    }\n",
              "\n",
              "    .dataframe tbody tr th {\n",
              "        vertical-align: top;\n",
              "    }\n",
              "\n",
              "    .dataframe thead th {\n",
              "        text-align: right;\n",
              "    }\n",
              "</style>\n",
              "<table border=\"1\" class=\"dataframe\">\n",
              "  <thead>\n",
              "    <tr style=\"text-align: right;\">\n",
              "      <th></th>\n",
              "      <th>StationId</th>\n",
              "      <th>Datetime</th>\n",
              "      <th>PM2.5</th>\n",
              "      <th>PM10</th>\n",
              "      <th>NO</th>\n",
              "      <th>NO2</th>\n",
              "      <th>NOx</th>\n",
              "      <th>NH3</th>\n",
              "      <th>CO</th>\n",
              "      <th>SO2</th>\n",
              "      <th>O3</th>\n",
              "      <th>Benzene</th>\n",
              "      <th>Toluene</th>\n",
              "      <th>Xylene</th>\n",
              "      <th>AQI</th>\n",
              "      <th>AQI_Bucket</th>\n",
              "      <th>Date</th>\n",
              "    </tr>\n",
              "  </thead>\n",
              "  <tbody>\n",
              "    <tr>\n",
              "      <th>0</th>\n",
              "      <td>AP001</td>\n",
              "      <td>2017-11-24 17:00:00</td>\n",
              "      <td>60.50</td>\n",
              "      <td>98.00</td>\n",
              "      <td>2.35</td>\n",
              "      <td>30.80</td>\n",
              "      <td>18.25</td>\n",
              "      <td>8.50</td>\n",
              "      <td>0.1</td>\n",
              "      <td>11.85</td>\n",
              "      <td>126.40</td>\n",
              "      <td>0.1</td>\n",
              "      <td>6.10</td>\n",
              "      <td>0.10</td>\n",
              "      <td>NaN</td>\n",
              "      <td>NaN</td>\n",
              "      <td>NaN</td>\n",
              "    </tr>\n",
              "    <tr>\n",
              "      <th>1</th>\n",
              "      <td>AP001</td>\n",
              "      <td>2017-11-24 18:00:00</td>\n",
              "      <td>65.50</td>\n",
              "      <td>111.25</td>\n",
              "      <td>2.70</td>\n",
              "      <td>24.20</td>\n",
              "      <td>15.07</td>\n",
              "      <td>9.77</td>\n",
              "      <td>0.1</td>\n",
              "      <td>13.17</td>\n",
              "      <td>117.12</td>\n",
              "      <td>0.1</td>\n",
              "      <td>6.25</td>\n",
              "      <td>0.15</td>\n",
              "      <td>NaN</td>\n",
              "      <td>NaN</td>\n",
              "      <td>NaN</td>\n",
              "    </tr>\n",
              "    <tr>\n",
              "      <th>2</th>\n",
              "      <td>AP001</td>\n",
              "      <td>2017-11-24 19:00:00</td>\n",
              "      <td>80.00</td>\n",
              "      <td>132.00</td>\n",
              "      <td>2.10</td>\n",
              "      <td>25.18</td>\n",
              "      <td>15.15</td>\n",
              "      <td>12.02</td>\n",
              "      <td>0.1</td>\n",
              "      <td>12.08</td>\n",
              "      <td>98.98</td>\n",
              "      <td>0.2</td>\n",
              "      <td>5.98</td>\n",
              "      <td>0.18</td>\n",
              "      <td>NaN</td>\n",
              "      <td>NaN</td>\n",
              "      <td>NaN</td>\n",
              "    </tr>\n",
              "    <tr>\n",
              "      <th>3</th>\n",
              "      <td>AP001</td>\n",
              "      <td>2017-11-24 20:00:00</td>\n",
              "      <td>81.50</td>\n",
              "      <td>133.25</td>\n",
              "      <td>1.95</td>\n",
              "      <td>16.25</td>\n",
              "      <td>10.23</td>\n",
              "      <td>11.58</td>\n",
              "      <td>0.1</td>\n",
              "      <td>10.47</td>\n",
              "      <td>112.20</td>\n",
              "      <td>0.2</td>\n",
              "      <td>6.72</td>\n",
              "      <td>0.10</td>\n",
              "      <td>NaN</td>\n",
              "      <td>NaN</td>\n",
              "      <td>NaN</td>\n",
              "    </tr>\n",
              "    <tr>\n",
              "      <th>4</th>\n",
              "      <td>AP001</td>\n",
              "      <td>2017-11-24 21:00:00</td>\n",
              "      <td>75.25</td>\n",
              "      <td>116.00</td>\n",
              "      <td>1.43</td>\n",
              "      <td>17.48</td>\n",
              "      <td>10.43</td>\n",
              "      <td>12.03</td>\n",
              "      <td>0.1</td>\n",
              "      <td>9.12</td>\n",
              "      <td>106.35</td>\n",
              "      <td>0.2</td>\n",
              "      <td>5.75</td>\n",
              "      <td>0.08</td>\n",
              "      <td>NaN</td>\n",
              "      <td>NaN</td>\n",
              "      <td>NaN</td>\n",
              "    </tr>\n",
              "  </tbody>\n",
              "</table>\n",
              "</div>"
            ],
            "text/plain": [
              "  StationId             Datetime  PM2.5    PM10    NO    NO2    NOx    NH3  \\\n",
              "0     AP001  2017-11-24 17:00:00  60.50   98.00  2.35  30.80  18.25   8.50   \n",
              "1     AP001  2017-11-24 18:00:00  65.50  111.25  2.70  24.20  15.07   9.77   \n",
              "2     AP001  2017-11-24 19:00:00  80.00  132.00  2.10  25.18  15.15  12.02   \n",
              "3     AP001  2017-11-24 20:00:00  81.50  133.25  1.95  16.25  10.23  11.58   \n",
              "4     AP001  2017-11-24 21:00:00  75.25  116.00  1.43  17.48  10.43  12.03   \n",
              "\n",
              "    CO    SO2      O3  Benzene  Toluene  Xylene  AQI AQI_Bucket Date  \n",
              "0  0.1  11.85  126.40      0.1     6.10    0.10  NaN        NaN  NaN  \n",
              "1  0.1  13.17  117.12      0.1     6.25    0.15  NaN        NaN  NaN  \n",
              "2  0.1  12.08   98.98      0.2     5.98    0.18  NaN        NaN  NaN  \n",
              "3  0.1  10.47  112.20      0.2     6.72    0.10  NaN        NaN  NaN  \n",
              "4  0.1   9.12  106.35      0.2     5.75    0.08  NaN        NaN  NaN  "
            ]
          },
          "execution_count": 9,
          "metadata": {},
          "output_type": "execute_result"
        }
      ],
      "source": [
        "df_1.head()"
      ]
    },
    {
      "cell_type": "code",
      "execution_count": null,
      "metadata": {
        "colab": {
          "base_uri": "https://localhost:8080/"
        },
        "id": "mjndL4wy_dt2",
        "outputId": "3a4c1903-f539-402d-bbac-852045d3a80e"
      },
      "outputs": [
        {
          "data": {
            "text/plain": [
              "(2697118, 17)"
            ]
          },
          "execution_count": 10,
          "metadata": {},
          "output_type": "execute_result"
        }
      ],
      "source": [
        "df_1.shape"
      ]
    },
    {
      "cell_type": "code",
      "execution_count": null,
      "metadata": {
        "colab": {
          "base_uri": "https://localhost:8080/",
          "height": 652
        },
        "id": "c2-JZKGO_gmm",
        "outputId": "d6225dca-ba72-4677-81b4-83fa10c51d46"
      },
      "outputs": [
        {
          "data": {
            "text/html": [
              "<div>\n",
              "<style scoped>\n",
              "    .dataframe tbody tr th:only-of-type {\n",
              "        vertical-align: middle;\n",
              "    }\n",
              "\n",
              "    .dataframe tbody tr th {\n",
              "        vertical-align: top;\n",
              "    }\n",
              "\n",
              "    .dataframe thead th {\n",
              "        text-align: right;\n",
              "    }\n",
              "</style>\n",
              "<table border=\"1\" class=\"dataframe\">\n",
              "  <thead>\n",
              "    <tr style=\"text-align: right;\">\n",
              "      <th></th>\n",
              "      <th>City</th>\n",
              "      <th>Datetime</th>\n",
              "      <th>PM2.5</th>\n",
              "      <th>PM10</th>\n",
              "      <th>NO</th>\n",
              "      <th>NO2</th>\n",
              "      <th>NOx</th>\n",
              "      <th>NH3</th>\n",
              "      <th>CO</th>\n",
              "      <th>SO2</th>\n",
              "      <th>O3</th>\n",
              "      <th>Benzene</th>\n",
              "      <th>Toluene</th>\n",
              "      <th>Xylene</th>\n",
              "      <th>AQI</th>\n",
              "      <th>AQI_Bucket</th>\n",
              "      <th>Date</th>\n",
              "    </tr>\n",
              "  </thead>\n",
              "  <tbody>\n",
              "    <tr>\n",
              "      <th>0</th>\n",
              "      <td>Ahmedabad</td>\n",
              "      <td>2015-01-01 01:00:00</td>\n",
              "      <td>NaN</td>\n",
              "      <td>NaN</td>\n",
              "      <td>1.00</td>\n",
              "      <td>40.01</td>\n",
              "      <td>36.37</td>\n",
              "      <td>NaN</td>\n",
              "      <td>1.00</td>\n",
              "      <td>122.07</td>\n",
              "      <td>NaN</td>\n",
              "      <td>0.0</td>\n",
              "      <td>0.0</td>\n",
              "      <td>0.0</td>\n",
              "      <td>NaN</td>\n",
              "      <td>NaN</td>\n",
              "      <td>NaN</td>\n",
              "    </tr>\n",
              "    <tr>\n",
              "      <th>1</th>\n",
              "      <td>Ahmedabad</td>\n",
              "      <td>2015-01-01 02:00:00</td>\n",
              "      <td>NaN</td>\n",
              "      <td>NaN</td>\n",
              "      <td>0.02</td>\n",
              "      <td>27.75</td>\n",
              "      <td>19.73</td>\n",
              "      <td>NaN</td>\n",
              "      <td>0.02</td>\n",
              "      <td>85.90</td>\n",
              "      <td>NaN</td>\n",
              "      <td>0.0</td>\n",
              "      <td>0.0</td>\n",
              "      <td>0.0</td>\n",
              "      <td>NaN</td>\n",
              "      <td>NaN</td>\n",
              "      <td>NaN</td>\n",
              "    </tr>\n",
              "    <tr>\n",
              "      <th>2</th>\n",
              "      <td>Ahmedabad</td>\n",
              "      <td>2015-01-01 03:00:00</td>\n",
              "      <td>NaN</td>\n",
              "      <td>NaN</td>\n",
              "      <td>0.08</td>\n",
              "      <td>19.32</td>\n",
              "      <td>11.08</td>\n",
              "      <td>NaN</td>\n",
              "      <td>0.08</td>\n",
              "      <td>52.83</td>\n",
              "      <td>NaN</td>\n",
              "      <td>0.0</td>\n",
              "      <td>0.0</td>\n",
              "      <td>0.0</td>\n",
              "      <td>NaN</td>\n",
              "      <td>NaN</td>\n",
              "      <td>NaN</td>\n",
              "    </tr>\n",
              "    <tr>\n",
              "      <th>3</th>\n",
              "      <td>Ahmedabad</td>\n",
              "      <td>2015-01-01 04:00:00</td>\n",
              "      <td>NaN</td>\n",
              "      <td>NaN</td>\n",
              "      <td>0.30</td>\n",
              "      <td>16.45</td>\n",
              "      <td>9.20</td>\n",
              "      <td>NaN</td>\n",
              "      <td>0.30</td>\n",
              "      <td>39.53</td>\n",
              "      <td>153.58</td>\n",
              "      <td>0.0</td>\n",
              "      <td>0.0</td>\n",
              "      <td>0.0</td>\n",
              "      <td>NaN</td>\n",
              "      <td>NaN</td>\n",
              "      <td>NaN</td>\n",
              "    </tr>\n",
              "    <tr>\n",
              "      <th>4</th>\n",
              "      <td>Ahmedabad</td>\n",
              "      <td>2015-01-01 05:00:00</td>\n",
              "      <td>NaN</td>\n",
              "      <td>NaN</td>\n",
              "      <td>0.12</td>\n",
              "      <td>14.90</td>\n",
              "      <td>7.85</td>\n",
              "      <td>NaN</td>\n",
              "      <td>0.12</td>\n",
              "      <td>32.63</td>\n",
              "      <td>NaN</td>\n",
              "      <td>0.0</td>\n",
              "      <td>0.0</td>\n",
              "      <td>0.0</td>\n",
              "      <td>NaN</td>\n",
              "      <td>NaN</td>\n",
              "      <td>NaN</td>\n",
              "    </tr>\n",
              "  </tbody>\n",
              "</table>\n",
              "</div>"
            ],
            "text/plain": [
              "        City             Datetime  PM2.5  PM10    NO    NO2    NOx  NH3    CO  \\\n",
              "0  Ahmedabad  2015-01-01 01:00:00    NaN   NaN  1.00  40.01  36.37  NaN  1.00   \n",
              "1  Ahmedabad  2015-01-01 02:00:00    NaN   NaN  0.02  27.75  19.73  NaN  0.02   \n",
              "2  Ahmedabad  2015-01-01 03:00:00    NaN   NaN  0.08  19.32  11.08  NaN  0.08   \n",
              "3  Ahmedabad  2015-01-01 04:00:00    NaN   NaN  0.30  16.45   9.20  NaN  0.30   \n",
              "4  Ahmedabad  2015-01-01 05:00:00    NaN   NaN  0.12  14.90   7.85  NaN  0.12   \n",
              "\n",
              "      SO2      O3  Benzene  Toluene  Xylene  AQI AQI_Bucket Date  \n",
              "0  122.07     NaN      0.0      0.0     0.0  NaN        NaN  NaN  \n",
              "1   85.90     NaN      0.0      0.0     0.0  NaN        NaN  NaN  \n",
              "2   52.83     NaN      0.0      0.0     0.0  NaN        NaN  NaN  \n",
              "3   39.53  153.58      0.0      0.0     0.0  NaN        NaN  NaN  \n",
              "4   32.63     NaN      0.0      0.0     0.0  NaN        NaN  NaN  "
            ]
          },
          "execution_count": 11,
          "metadata": {},
          "output_type": "execute_result"
        }
      ],
      "source": [
        "df_2= pd.concat([file4,file5], ignore_index=True)\n",
        "df_2.head()"
      ]
    },
    {
      "cell_type": "code",
      "execution_count": null,
      "metadata": {
        "id": "u6o9x4J6ysx0",
        "outputId": "cb1ea47f-cd35-4741-fd4e-1325968e097d"
      },
      "outputs": [
        {
          "data": {
            "text/html": [
              "<div>\n",
              "<style scoped>\n",
              "    .dataframe tbody tr th:only-of-type {\n",
              "        vertical-align: middle;\n",
              "    }\n",
              "\n",
              "    .dataframe tbody tr th {\n",
              "        vertical-align: top;\n",
              "    }\n",
              "\n",
              "    .dataframe thead th {\n",
              "        text-align: right;\n",
              "    }\n",
              "</style>\n",
              "<table border=\"1\" class=\"dataframe\">\n",
              "  <thead>\n",
              "    <tr style=\"text-align: right;\">\n",
              "      <th></th>\n",
              "      <th>StationId</th>\n",
              "      <th>StationName</th>\n",
              "      <th>City</th>\n",
              "      <th>State</th>\n",
              "      <th>Status</th>\n",
              "      <th>Datetime</th>\n",
              "      <th>PM2.5</th>\n",
              "      <th>PM10</th>\n",
              "      <th>NO</th>\n",
              "      <th>NO2</th>\n",
              "      <th>...</th>\n",
              "      <th>NH3</th>\n",
              "      <th>CO</th>\n",
              "      <th>SO2</th>\n",
              "      <th>O3</th>\n",
              "      <th>Benzene</th>\n",
              "      <th>Toluene</th>\n",
              "      <th>Xylene</th>\n",
              "      <th>AQI</th>\n",
              "      <th>AQI_Bucket</th>\n",
              "      <th>Date</th>\n",
              "    </tr>\n",
              "  </thead>\n",
              "  <tbody>\n",
              "    <tr>\n",
              "      <th>0</th>\n",
              "      <td>AP001</td>\n",
              "      <td>Secretariat, Amaravati - APPCB</td>\n",
              "      <td>Amaravati</td>\n",
              "      <td>Andhra Pradesh</td>\n",
              "      <td>Active</td>\n",
              "      <td>2017-11-24 17:00:00</td>\n",
              "      <td>60.50</td>\n",
              "      <td>98.00</td>\n",
              "      <td>2.35</td>\n",
              "      <td>30.80</td>\n",
              "      <td>...</td>\n",
              "      <td>8.50</td>\n",
              "      <td>0.1</td>\n",
              "      <td>11.85</td>\n",
              "      <td>126.40</td>\n",
              "      <td>0.1</td>\n",
              "      <td>6.10</td>\n",
              "      <td>0.10</td>\n",
              "      <td>NaN</td>\n",
              "      <td>NaN</td>\n",
              "      <td>NaN</td>\n",
              "    </tr>\n",
              "    <tr>\n",
              "      <th>1</th>\n",
              "      <td>AP001</td>\n",
              "      <td>Secretariat, Amaravati - APPCB</td>\n",
              "      <td>Amaravati</td>\n",
              "      <td>Andhra Pradesh</td>\n",
              "      <td>Active</td>\n",
              "      <td>2017-11-24 18:00:00</td>\n",
              "      <td>65.50</td>\n",
              "      <td>111.25</td>\n",
              "      <td>2.70</td>\n",
              "      <td>24.20</td>\n",
              "      <td>...</td>\n",
              "      <td>9.77</td>\n",
              "      <td>0.1</td>\n",
              "      <td>13.17</td>\n",
              "      <td>117.12</td>\n",
              "      <td>0.1</td>\n",
              "      <td>6.25</td>\n",
              "      <td>0.15</td>\n",
              "      <td>NaN</td>\n",
              "      <td>NaN</td>\n",
              "      <td>NaN</td>\n",
              "    </tr>\n",
              "    <tr>\n",
              "      <th>2</th>\n",
              "      <td>AP001</td>\n",
              "      <td>Secretariat, Amaravati - APPCB</td>\n",
              "      <td>Amaravati</td>\n",
              "      <td>Andhra Pradesh</td>\n",
              "      <td>Active</td>\n",
              "      <td>2017-11-24 19:00:00</td>\n",
              "      <td>80.00</td>\n",
              "      <td>132.00</td>\n",
              "      <td>2.10</td>\n",
              "      <td>25.18</td>\n",
              "      <td>...</td>\n",
              "      <td>12.02</td>\n",
              "      <td>0.1</td>\n",
              "      <td>12.08</td>\n",
              "      <td>98.98</td>\n",
              "      <td>0.2</td>\n",
              "      <td>5.98</td>\n",
              "      <td>0.18</td>\n",
              "      <td>NaN</td>\n",
              "      <td>NaN</td>\n",
              "      <td>NaN</td>\n",
              "    </tr>\n",
              "    <tr>\n",
              "      <th>3</th>\n",
              "      <td>AP001</td>\n",
              "      <td>Secretariat, Amaravati - APPCB</td>\n",
              "      <td>Amaravati</td>\n",
              "      <td>Andhra Pradesh</td>\n",
              "      <td>Active</td>\n",
              "      <td>2017-11-24 20:00:00</td>\n",
              "      <td>81.50</td>\n",
              "      <td>133.25</td>\n",
              "      <td>1.95</td>\n",
              "      <td>16.25</td>\n",
              "      <td>...</td>\n",
              "      <td>11.58</td>\n",
              "      <td>0.1</td>\n",
              "      <td>10.47</td>\n",
              "      <td>112.20</td>\n",
              "      <td>0.2</td>\n",
              "      <td>6.72</td>\n",
              "      <td>0.10</td>\n",
              "      <td>NaN</td>\n",
              "      <td>NaN</td>\n",
              "      <td>NaN</td>\n",
              "    </tr>\n",
              "    <tr>\n",
              "      <th>4</th>\n",
              "      <td>AP001</td>\n",
              "      <td>Secretariat, Amaravati - APPCB</td>\n",
              "      <td>Amaravati</td>\n",
              "      <td>Andhra Pradesh</td>\n",
              "      <td>Active</td>\n",
              "      <td>2017-11-24 21:00:00</td>\n",
              "      <td>75.25</td>\n",
              "      <td>116.00</td>\n",
              "      <td>1.43</td>\n",
              "      <td>17.48</td>\n",
              "      <td>...</td>\n",
              "      <td>12.03</td>\n",
              "      <td>0.1</td>\n",
              "      <td>9.12</td>\n",
              "      <td>106.35</td>\n",
              "      <td>0.2</td>\n",
              "      <td>5.75</td>\n",
              "      <td>0.08</td>\n",
              "      <td>NaN</td>\n",
              "      <td>NaN</td>\n",
              "      <td>NaN</td>\n",
              "    </tr>\n",
              "  </tbody>\n",
              "</table>\n",
              "<p>5 rows × 21 columns</p>\n",
              "</div>"
            ],
            "text/plain": [
              "  StationId                     StationName       City           State  \\\n",
              "0     AP001  Secretariat, Amaravati - APPCB  Amaravati  Andhra Pradesh   \n",
              "1     AP001  Secretariat, Amaravati - APPCB  Amaravati  Andhra Pradesh   \n",
              "2     AP001  Secretariat, Amaravati - APPCB  Amaravati  Andhra Pradesh   \n",
              "3     AP001  Secretariat, Amaravati - APPCB  Amaravati  Andhra Pradesh   \n",
              "4     AP001  Secretariat, Amaravati - APPCB  Amaravati  Andhra Pradesh   \n",
              "\n",
              "   Status             Datetime  PM2.5    PM10    NO    NO2  ...    NH3   CO  \\\n",
              "0  Active  2017-11-24 17:00:00  60.50   98.00  2.35  30.80  ...   8.50  0.1   \n",
              "1  Active  2017-11-24 18:00:00  65.50  111.25  2.70  24.20  ...   9.77  0.1   \n",
              "2  Active  2017-11-24 19:00:00  80.00  132.00  2.10  25.18  ...  12.02  0.1   \n",
              "3  Active  2017-11-24 20:00:00  81.50  133.25  1.95  16.25  ...  11.58  0.1   \n",
              "4  Active  2017-11-24 21:00:00  75.25  116.00  1.43  17.48  ...  12.03  0.1   \n",
              "\n",
              "     SO2      O3  Benzene  Toluene  Xylene  AQI  AQI_Bucket Date  \n",
              "0  11.85  126.40      0.1     6.10    0.10  NaN         NaN  NaN  \n",
              "1  13.17  117.12      0.1     6.25    0.15  NaN         NaN  NaN  \n",
              "2  12.08   98.98      0.2     5.98    0.18  NaN         NaN  NaN  \n",
              "3  10.47  112.20      0.2     6.72    0.10  NaN         NaN  NaN  \n",
              "4   9.12  106.35      0.2     5.75    0.08  NaN         NaN  NaN  \n",
              "\n",
              "[5 rows x 21 columns]"
            ]
          },
          "execution_count": 12,
          "metadata": {},
          "output_type": "execute_result"
        }
      ],
      "source": [
        "df_3=file1.merge(df_1,on='StationId', how='inner') \n",
        "df_3.head()"
      ]
    },
    {
      "cell_type": "code",
      "execution_count": null,
      "metadata": {
        "colab": {
          "base_uri": "https://localhost:8080/"
        },
        "id": "EIhyv-Y9_ug6",
        "outputId": "676a2133-214b-4dda-db34-94d8bb6cb832"
      },
      "outputs": [
        {
          "data": {
            "text/plain": [
              "(2697118, 21)"
            ]
          },
          "execution_count": 13,
          "metadata": {},
          "output_type": "execute_result"
        }
      ],
      "source": [
        "df_3.shape"
      ]
    },
    {
      "cell_type": "code",
      "execution_count": null,
      "metadata": {
        "id": "qP5_1ZV_ysx2",
        "outputId": "5de737c2-8d7a-4809-9988-15fc1322fb4e"
      },
      "outputs": [
        {
          "data": {
            "text/html": [
              "<div>\n",
              "<style scoped>\n",
              "    .dataframe tbody tr th:only-of-type {\n",
              "        vertical-align: middle;\n",
              "    }\n",
              "\n",
              "    .dataframe tbody tr th {\n",
              "        vertical-align: top;\n",
              "    }\n",
              "\n",
              "    .dataframe thead th {\n",
              "        text-align: right;\n",
              "    }\n",
              "</style>\n",
              "<table border=\"1\" class=\"dataframe\">\n",
              "  <thead>\n",
              "    <tr style=\"text-align: right;\">\n",
              "      <th></th>\n",
              "      <th>City</th>\n",
              "      <th>Datetime</th>\n",
              "      <th>PM2.5</th>\n",
              "      <th>PM10</th>\n",
              "      <th>NO</th>\n",
              "      <th>NO2</th>\n",
              "      <th>NOx</th>\n",
              "      <th>NH3</th>\n",
              "      <th>CO</th>\n",
              "      <th>SO2</th>\n",
              "      <th>...</th>\n",
              "      <th>Benzene</th>\n",
              "      <th>Toluene</th>\n",
              "      <th>Xylene</th>\n",
              "      <th>AQI</th>\n",
              "      <th>AQI_Bucket</th>\n",
              "      <th>Date</th>\n",
              "      <th>StationId</th>\n",
              "      <th>StationName</th>\n",
              "      <th>State</th>\n",
              "      <th>Status</th>\n",
              "    </tr>\n",
              "  </thead>\n",
              "  <tbody>\n",
              "    <tr>\n",
              "      <th>0</th>\n",
              "      <td>Ahmedabad</td>\n",
              "      <td>2015-01-01 01:00:00</td>\n",
              "      <td>NaN</td>\n",
              "      <td>NaN</td>\n",
              "      <td>1.00</td>\n",
              "      <td>40.01</td>\n",
              "      <td>36.37</td>\n",
              "      <td>NaN</td>\n",
              "      <td>1.00</td>\n",
              "      <td>122.07</td>\n",
              "      <td>...</td>\n",
              "      <td>0.0</td>\n",
              "      <td>0.0</td>\n",
              "      <td>0.0</td>\n",
              "      <td>NaN</td>\n",
              "      <td>NaN</td>\n",
              "      <td>NaN</td>\n",
              "      <td>NaN</td>\n",
              "      <td>NaN</td>\n",
              "      <td>NaN</td>\n",
              "      <td>NaN</td>\n",
              "    </tr>\n",
              "    <tr>\n",
              "      <th>1</th>\n",
              "      <td>Ahmedabad</td>\n",
              "      <td>2015-01-01 02:00:00</td>\n",
              "      <td>NaN</td>\n",
              "      <td>NaN</td>\n",
              "      <td>0.02</td>\n",
              "      <td>27.75</td>\n",
              "      <td>19.73</td>\n",
              "      <td>NaN</td>\n",
              "      <td>0.02</td>\n",
              "      <td>85.90</td>\n",
              "      <td>...</td>\n",
              "      <td>0.0</td>\n",
              "      <td>0.0</td>\n",
              "      <td>0.0</td>\n",
              "      <td>NaN</td>\n",
              "      <td>NaN</td>\n",
              "      <td>NaN</td>\n",
              "      <td>NaN</td>\n",
              "      <td>NaN</td>\n",
              "      <td>NaN</td>\n",
              "      <td>NaN</td>\n",
              "    </tr>\n",
              "    <tr>\n",
              "      <th>2</th>\n",
              "      <td>Ahmedabad</td>\n",
              "      <td>2015-01-01 03:00:00</td>\n",
              "      <td>NaN</td>\n",
              "      <td>NaN</td>\n",
              "      <td>0.08</td>\n",
              "      <td>19.32</td>\n",
              "      <td>11.08</td>\n",
              "      <td>NaN</td>\n",
              "      <td>0.08</td>\n",
              "      <td>52.83</td>\n",
              "      <td>...</td>\n",
              "      <td>0.0</td>\n",
              "      <td>0.0</td>\n",
              "      <td>0.0</td>\n",
              "      <td>NaN</td>\n",
              "      <td>NaN</td>\n",
              "      <td>NaN</td>\n",
              "      <td>NaN</td>\n",
              "      <td>NaN</td>\n",
              "      <td>NaN</td>\n",
              "      <td>NaN</td>\n",
              "    </tr>\n",
              "    <tr>\n",
              "      <th>3</th>\n",
              "      <td>Ahmedabad</td>\n",
              "      <td>2015-01-01 04:00:00</td>\n",
              "      <td>NaN</td>\n",
              "      <td>NaN</td>\n",
              "      <td>0.30</td>\n",
              "      <td>16.45</td>\n",
              "      <td>9.20</td>\n",
              "      <td>NaN</td>\n",
              "      <td>0.30</td>\n",
              "      <td>39.53</td>\n",
              "      <td>...</td>\n",
              "      <td>0.0</td>\n",
              "      <td>0.0</td>\n",
              "      <td>0.0</td>\n",
              "      <td>NaN</td>\n",
              "      <td>NaN</td>\n",
              "      <td>NaN</td>\n",
              "      <td>NaN</td>\n",
              "      <td>NaN</td>\n",
              "      <td>NaN</td>\n",
              "      <td>NaN</td>\n",
              "    </tr>\n",
              "    <tr>\n",
              "      <th>4</th>\n",
              "      <td>Ahmedabad</td>\n",
              "      <td>2015-01-01 05:00:00</td>\n",
              "      <td>NaN</td>\n",
              "      <td>NaN</td>\n",
              "      <td>0.12</td>\n",
              "      <td>14.90</td>\n",
              "      <td>7.85</td>\n",
              "      <td>NaN</td>\n",
              "      <td>0.12</td>\n",
              "      <td>32.63</td>\n",
              "      <td>...</td>\n",
              "      <td>0.0</td>\n",
              "      <td>0.0</td>\n",
              "      <td>0.0</td>\n",
              "      <td>NaN</td>\n",
              "      <td>NaN</td>\n",
              "      <td>NaN</td>\n",
              "      <td>NaN</td>\n",
              "      <td>NaN</td>\n",
              "      <td>NaN</td>\n",
              "      <td>NaN</td>\n",
              "    </tr>\n",
              "  </tbody>\n",
              "</table>\n",
              "<p>5 rows × 21 columns</p>\n",
              "</div>"
            ],
            "text/plain": [
              "        City             Datetime  PM2.5  PM10    NO    NO2    NOx  NH3    CO  \\\n",
              "0  Ahmedabad  2015-01-01 01:00:00    NaN   NaN  1.00  40.01  36.37  NaN  1.00   \n",
              "1  Ahmedabad  2015-01-01 02:00:00    NaN   NaN  0.02  27.75  19.73  NaN  0.02   \n",
              "2  Ahmedabad  2015-01-01 03:00:00    NaN   NaN  0.08  19.32  11.08  NaN  0.08   \n",
              "3  Ahmedabad  2015-01-01 04:00:00    NaN   NaN  0.30  16.45   9.20  NaN  0.30   \n",
              "4  Ahmedabad  2015-01-01 05:00:00    NaN   NaN  0.12  14.90   7.85  NaN  0.12   \n",
              "\n",
              "      SO2  ...  Benzene  Toluene  Xylene  AQI  AQI_Bucket Date StationId  \\\n",
              "0  122.07  ...      0.0      0.0     0.0  NaN         NaN  NaN       NaN   \n",
              "1   85.90  ...      0.0      0.0     0.0  NaN         NaN  NaN       NaN   \n",
              "2   52.83  ...      0.0      0.0     0.0  NaN         NaN  NaN       NaN   \n",
              "3   39.53  ...      0.0      0.0     0.0  NaN         NaN  NaN       NaN   \n",
              "4   32.63  ...      0.0      0.0     0.0  NaN         NaN  NaN       NaN   \n",
              "\n",
              "  StationName State Status  \n",
              "0         NaN   NaN    NaN  \n",
              "1         NaN   NaN    NaN  \n",
              "2         NaN   NaN    NaN  \n",
              "3         NaN   NaN    NaN  \n",
              "4         NaN   NaN    NaN  \n",
              "\n",
              "[5 rows x 21 columns]"
            ]
          },
          "execution_count": 14,
          "metadata": {},
          "output_type": "execute_result"
        }
      ],
      "source": [
        "df= pd.concat([df_2,df_3], ignore_index=True)\n",
        "df.head()"
      ]
    },
    {
      "cell_type": "code",
      "execution_count": null,
      "metadata": {
        "id": "goFFhQEtysx3",
        "outputId": "205aa7ca-7245-4ba2-88b0-533b7724fda3"
      },
      "outputs": [
        {
          "data": {
            "text/html": [
              "<div>\n",
              "<style scoped>\n",
              "    .dataframe tbody tr th:only-of-type {\n",
              "        vertical-align: middle;\n",
              "    }\n",
              "\n",
              "    .dataframe tbody tr th {\n",
              "        vertical-align: top;\n",
              "    }\n",
              "\n",
              "    .dataframe thead th {\n",
              "        text-align: right;\n",
              "    }\n",
              "</style>\n",
              "<table border=\"1\" class=\"dataframe\">\n",
              "  <thead>\n",
              "    <tr style=\"text-align: right;\">\n",
              "      <th></th>\n",
              "      <th>City</th>\n",
              "      <th>Datetime</th>\n",
              "      <th>PM2.5</th>\n",
              "      <th>PM10</th>\n",
              "      <th>NO</th>\n",
              "      <th>NO2</th>\n",
              "      <th>NOx</th>\n",
              "      <th>NH3</th>\n",
              "      <th>CO</th>\n",
              "      <th>SO2</th>\n",
              "      <th>...</th>\n",
              "      <th>Benzene</th>\n",
              "      <th>Toluene</th>\n",
              "      <th>Xylene</th>\n",
              "      <th>AQI</th>\n",
              "      <th>AQI_Bucket</th>\n",
              "      <th>Date</th>\n",
              "      <th>StationId</th>\n",
              "      <th>StationName</th>\n",
              "      <th>State</th>\n",
              "      <th>Status</th>\n",
              "    </tr>\n",
              "  </thead>\n",
              "  <tbody>\n",
              "    <tr>\n",
              "      <th>3434519</th>\n",
              "      <td>Kolkata</td>\n",
              "      <td>NaN</td>\n",
              "      <td>8.65</td>\n",
              "      <td>16.46</td>\n",
              "      <td>NaN</td>\n",
              "      <td>NaN</td>\n",
              "      <td>NaN</td>\n",
              "      <td>NaN</td>\n",
              "      <td>0.69</td>\n",
              "      <td>4.36</td>\n",
              "      <td>...</td>\n",
              "      <td>1.32</td>\n",
              "      <td>7.26</td>\n",
              "      <td>NaN</td>\n",
              "      <td>50.0</td>\n",
              "      <td>Good</td>\n",
              "      <td>2020-06-27</td>\n",
              "      <td>WB013</td>\n",
              "      <td>Victoria, Kolkata - WBPCB</td>\n",
              "      <td>West Bengal</td>\n",
              "      <td>Active</td>\n",
              "    </tr>\n",
              "    <tr>\n",
              "      <th>3434520</th>\n",
              "      <td>Kolkata</td>\n",
              "      <td>NaN</td>\n",
              "      <td>11.80</td>\n",
              "      <td>18.47</td>\n",
              "      <td>NaN</td>\n",
              "      <td>NaN</td>\n",
              "      <td>NaN</td>\n",
              "      <td>NaN</td>\n",
              "      <td>0.68</td>\n",
              "      <td>3.49</td>\n",
              "      <td>...</td>\n",
              "      <td>1.42</td>\n",
              "      <td>7.92</td>\n",
              "      <td>NaN</td>\n",
              "      <td>65.0</td>\n",
              "      <td>Satisfactory</td>\n",
              "      <td>2020-06-28</td>\n",
              "      <td>WB013</td>\n",
              "      <td>Victoria, Kolkata - WBPCB</td>\n",
              "      <td>West Bengal</td>\n",
              "      <td>Active</td>\n",
              "    </tr>\n",
              "    <tr>\n",
              "      <th>3434521</th>\n",
              "      <td>Kolkata</td>\n",
              "      <td>NaN</td>\n",
              "      <td>18.60</td>\n",
              "      <td>32.26</td>\n",
              "      <td>13.65</td>\n",
              "      <td>200.87</td>\n",
              "      <td>214.20</td>\n",
              "      <td>11.40</td>\n",
              "      <td>0.78</td>\n",
              "      <td>5.12</td>\n",
              "      <td>...</td>\n",
              "      <td>3.52</td>\n",
              "      <td>8.64</td>\n",
              "      <td>NaN</td>\n",
              "      <td>63.0</td>\n",
              "      <td>Satisfactory</td>\n",
              "      <td>2020-06-29</td>\n",
              "      <td>WB013</td>\n",
              "      <td>Victoria, Kolkata - WBPCB</td>\n",
              "      <td>West Bengal</td>\n",
              "      <td>Active</td>\n",
              "    </tr>\n",
              "    <tr>\n",
              "      <th>3434522</th>\n",
              "      <td>Kolkata</td>\n",
              "      <td>NaN</td>\n",
              "      <td>16.07</td>\n",
              "      <td>39.30</td>\n",
              "      <td>7.56</td>\n",
              "      <td>29.13</td>\n",
              "      <td>36.69</td>\n",
              "      <td>29.26</td>\n",
              "      <td>0.69</td>\n",
              "      <td>5.88</td>\n",
              "      <td>...</td>\n",
              "      <td>1.86</td>\n",
              "      <td>8.40</td>\n",
              "      <td>NaN</td>\n",
              "      <td>57.0</td>\n",
              "      <td>Satisfactory</td>\n",
              "      <td>2020-06-30</td>\n",
              "      <td>WB013</td>\n",
              "      <td>Victoria, Kolkata - WBPCB</td>\n",
              "      <td>West Bengal</td>\n",
              "      <td>Active</td>\n",
              "    </tr>\n",
              "    <tr>\n",
              "      <th>3434523</th>\n",
              "      <td>Kolkata</td>\n",
              "      <td>NaN</td>\n",
              "      <td>10.50</td>\n",
              "      <td>36.50</td>\n",
              "      <td>7.78</td>\n",
              "      <td>22.50</td>\n",
              "      <td>30.25</td>\n",
              "      <td>27.23</td>\n",
              "      <td>0.58</td>\n",
              "      <td>2.80</td>\n",
              "      <td>...</td>\n",
              "      <td>1.31</td>\n",
              "      <td>7.39</td>\n",
              "      <td>NaN</td>\n",
              "      <td>59.0</td>\n",
              "      <td>Satisfactory</td>\n",
              "      <td>2020-07-01</td>\n",
              "      <td>WB013</td>\n",
              "      <td>Victoria, Kolkata - WBPCB</td>\n",
              "      <td>West Bengal</td>\n",
              "      <td>Active</td>\n",
              "    </tr>\n",
              "  </tbody>\n",
              "</table>\n",
              "<p>5 rows × 21 columns</p>\n",
              "</div>"
            ],
            "text/plain": [
              "            City Datetime  PM2.5   PM10     NO     NO2     NOx    NH3    CO  \\\n",
              "3434519  Kolkata      NaN   8.65  16.46    NaN     NaN     NaN    NaN  0.69   \n",
              "3434520  Kolkata      NaN  11.80  18.47    NaN     NaN     NaN    NaN  0.68   \n",
              "3434521  Kolkata      NaN  18.60  32.26  13.65  200.87  214.20  11.40  0.78   \n",
              "3434522  Kolkata      NaN  16.07  39.30   7.56   29.13   36.69  29.26  0.69   \n",
              "3434523  Kolkata      NaN  10.50  36.50   7.78   22.50   30.25  27.23  0.58   \n",
              "\n",
              "          SO2  ...  Benzene  Toluene  Xylene   AQI    AQI_Bucket        Date  \\\n",
              "3434519  4.36  ...     1.32     7.26     NaN  50.0          Good  2020-06-27   \n",
              "3434520  3.49  ...     1.42     7.92     NaN  65.0  Satisfactory  2020-06-28   \n",
              "3434521  5.12  ...     3.52     8.64     NaN  63.0  Satisfactory  2020-06-29   \n",
              "3434522  5.88  ...     1.86     8.40     NaN  57.0  Satisfactory  2020-06-30   \n",
              "3434523  2.80  ...     1.31     7.39     NaN  59.0  Satisfactory  2020-07-01   \n",
              "\n",
              "        StationId                StationName        State  Status  \n",
              "3434519     WB013  Victoria, Kolkata - WBPCB  West Bengal  Active  \n",
              "3434520     WB013  Victoria, Kolkata - WBPCB  West Bengal  Active  \n",
              "3434521     WB013  Victoria, Kolkata - WBPCB  West Bengal  Active  \n",
              "3434522     WB013  Victoria, Kolkata - WBPCB  West Bengal  Active  \n",
              "3434523     WB013  Victoria, Kolkata - WBPCB  West Bengal  Active  \n",
              "\n",
              "[5 rows x 21 columns]"
            ]
          },
          "execution_count": 15,
          "metadata": {},
          "output_type": "execute_result"
        }
      ],
      "source": [
        "df.tail()"
      ]
    },
    {
      "cell_type": "code",
      "execution_count": null,
      "metadata": {
        "id": "wflBKjY3ysx3",
        "outputId": "aa0c842f-139d-4161-87f1-c315c92de4b6"
      },
      "outputs": [
        {
          "data": {
            "text/plain": [
              "(3434524, 21)"
            ]
          },
          "execution_count": 16,
          "metadata": {},
          "output_type": "execute_result"
        }
      ],
      "source": [
        "df.shape"
      ]
    },
    {
      "cell_type": "code",
      "execution_count": null,
      "metadata": {
        "id": "g6GPm1loysx4",
        "outputId": "e2741c0e-21d1-4e84-850c-9a12d083a019"
      },
      "outputs": [
        {
          "name": "stdout",
          "output_type": "stream",
          "text": [
            "<class 'pandas.core.frame.DataFrame'>\n",
            "RangeIndex: 3434524 entries, 0 to 3434523\n",
            "Data columns (total 21 columns):\n",
            " #   Column       Dtype  \n",
            "---  ------       -----  \n",
            " 0   City         object \n",
            " 1   Datetime     object \n",
            " 2   PM2.5        float64\n",
            " 3   PM10         float64\n",
            " 4   NO           float64\n",
            " 5   NO2          float64\n",
            " 6   NOx          float64\n",
            " 7   NH3          float64\n",
            " 8   CO           float64\n",
            " 9   SO2          float64\n",
            " 10  O3           float64\n",
            " 11  Benzene      float64\n",
            " 12  Toluene      float64\n",
            " 13  Xylene       float64\n",
            " 14  AQI          float64\n",
            " 15  AQI_Bucket   object \n",
            " 16  Date         object \n",
            " 17  StationId    object \n",
            " 18  StationName  object \n",
            " 19  State        object \n",
            " 20  Status       object \n",
            "dtypes: float64(13), object(8)\n",
            "memory usage: 550.3+ MB\n"
          ]
        }
      ],
      "source": [
        "df.info()"
      ]
    },
    {
      "cell_type": "markdown",
      "source": [
        "#checking for outliers "
      ],
      "metadata": {
        "id": "89Cctwkr23Dl"
      }
    },
    {
      "cell_type": "code",
      "execution_count": null,
      "metadata": {
        "id": "VywS4vm7ysx5",
        "outputId": "bab6b746-80ea-4121-cde1-4782c4a1356d"
      },
      "outputs": [
        {
          "data": {
            "image/png": "[encoded data removed]",
            "text/plain": [
              "<Figure size 1080x1080 with 100 Axes>"
            ]
          },
          "metadata": {
            "needs_background": "light"
          },
          "output_type": "display_data"
        }
      ],
      "source": [
        "df.plot(kind='box',subplots=True,layout=(10,10),figsize=(15,15))\n",
        "plt.show()"
      ]
    },
    {
      "cell_type": "code",
      "execution_count": null,
      "metadata": {
        "id": "rML68-9Jysx6",
        "outputId": "859219fa-175e-48cb-90d8-9be2c9b626f9"
      },
      "outputs": [
        {
          "data": {
            "image/png": "[encoded data removed]",
            "text/plain": [
              "<Figure size 3600x3600 with 25 Axes>"
            ]
          },
          "metadata": {
            "needs_background": "light"
          },
          "output_type": "display_data"
        }
      ],
      "source": [
        "#Removing the outliers\n",
        "cols=['PM2.5','PM10','NO','NO2','NOx','NH3','CO','SO2','O3','Benzene','Toluene','Xylene','AQI']\n",
        "q1=df[cols].quantile(0.25)\n",
        "q3=df[cols].quantile(0.75)\n",
        "iqr=q3-q1\n",
        "df_box=df[~((df[cols]<(q1 -1.5*iqr)) |(df[cols]>(q3 +1.5*iqr))).any(axis=1)]\n",
        "df_box.plot(kind='box',subplots=True,layout=(5,5),figsize=(50,50))\n",
        "plt.show()"
      ]
    },
    {
      "cell_type": "code",
      "execution_count": null,
      "metadata": {
        "id": "r_OEaUbvysx8",
        "outputId": "51940ca4-eac9-4d13-cb77-6c670c485236"
      },
      "outputs": [
        {
          "data": {
            "text/plain": [
              "(3434524, 21)"
            ]
          },
          "execution_count": 20,
          "metadata": {},
          "output_type": "execute_result"
        }
      ],
      "source": [
        "df.shape"
      ]
    },
    {
      "cell_type": "markdown",
      "source": [
        "#checking for the null values "
      ],
      "metadata": {
        "id": "A41g9WHA3I07"
      }
    },
    {
      "cell_type": "code",
      "execution_count": null,
      "metadata": {
        "colab": {
          "base_uri": "https://localhost:8080/"
        },
        "id": "3OFLsDEF_yDL",
        "outputId": "731fd7ed-4505-4221-8d17-6404e72e54b1"
      },
      "outputs": [
        {
          "data": {
            "text/plain": [
              "City                 0\n",
              "Datetime        137566\n",
              "PM2.5           819000\n",
              "PM10           1469835\n",
              "NO              691031\n",
              "NO2             666227\n",
              "NOx             633717\n",
              "NH3            1567593\n",
              "CO              600876\n",
              "SO2             902168\n",
              "O3              884771\n",
              "Benzene        1062303\n",
              "Toluene        1309716\n",
              "Xylene         2634179\n",
              "AQI             724961\n",
              "AQI_Bucket      724961\n",
              "Date           3296958\n",
              "StationId       737406\n",
              "StationName     737406\n",
              "State           737406\n",
              "Status          745436\n",
              "dtype: int64"
            ]
          },
          "execution_count": 21,
          "metadata": {},
          "output_type": "execute_result"
        }
      ],
      "source": [
        "df.isnull().sum()"
      ]
    },
    {
      "cell_type": "markdown",
      "source": [
        "droping some coluumns the columns that which are having more than seventy percentage of null values"
      ],
      "metadata": {
        "id": "oQd9FpPo3Opd"
      }
    },
    {
      "cell_type": "code",
      "execution_count": null,
      "metadata": {
        "id": "QU1VjnZGysx-"
      },
      "outputs": [],
      "source": [
        "df=df.drop(['Date','Xylene','Toluene','Benzene','NH3','PM10'],axis=1)"
      ]
    },
    {
      "cell_type": "code",
      "execution_count": null,
      "metadata": {
        "id": "CUWQugjcysx-",
        "outputId": "6693367b-1040-456a-8cb9-7f5c395e8c52"
      },
      "outputs": [
        {
          "data": {
            "text/plain": [
              "(3434524, 15)"
            ]
          },
          "execution_count": 23,
          "metadata": {},
          "output_type": "execute_result"
        }
      ],
      "source": [
        "df.shape"
      ]
    },
    {
      "cell_type": "code",
      "execution_count": null,
      "metadata": {
        "id": "dGfsrc6Hysx_",
        "outputId": "4029d5e2-6b00-41cd-ebcd-0063199ffbc3"
      },
      "outputs": [
        {
          "name": "stdout",
          "output_type": "stream",
          "text": [
            "<class 'pandas.core.frame.DataFrame'>\n",
            "RangeIndex: 3434524 entries, 0 to 3434523\n",
            "Data columns (total 15 columns):\n",
            " #   Column       Dtype  \n",
            "---  ------       -----  \n",
            " 0   City         object \n",
            " 1   Datetime     object \n",
            " 2   PM2.5        float64\n",
            " 3   NO           float64\n",
            " 4   NO2          float64\n",
            " 5   NOx          float64\n",
            " 6   CO           float64\n",
            " 7   SO2          float64\n",
            " 8   O3           float64\n",
            " 9   AQI          float64\n",
            " 10  AQI_Bucket   object \n",
            " 11  StationId    object \n",
            " 12  StationName  object \n",
            " 13  State        object \n",
            " 14  Status       object \n",
            "dtypes: float64(8), object(7)\n",
            "memory usage: 393.1+ MB\n"
          ]
        }
      ],
      "source": [
        "df.info()"
      ]
    },
    {
      "cell_type": "markdown",
      "source": [
        "checking for tghe correlation of all columns with each other and removing the columns that which are well correlated."
      ],
      "metadata": {
        "id": "_3G2QS5E3fE8"
      }
    },
    {
      "cell_type": "code",
      "execution_count": null,
      "metadata": {
        "id": "Mh7stj0gP8rh",
        "outputId": "a2ad123a-d8ee-4fcb-8b18-c951508ee840"
      },
      "outputs": [
        {
          "data": {
            "image/png": "[encoded data removed]",
            "text/plain": [
              "<Figure size 432x288 with 2 Axes>"
            ]
          },
          "metadata": {
            "needs_background": "light"
          },
          "output_type": "display_data"
        }
      ],
      "source": [
        "import seaborn as sns\n",
        "correlation_matrix = df.corr()\n",
        "\n",
        "# create the heatmap\n",
        "sns.heatmap(correlation_matrix, cmap='coolwarm', annot=True)\n",
        "\n",
        "# display the heatmap\n",
        "plt.show()"
      ]
    },
    {
      "cell_type": "code",
      "execution_count": null,
      "metadata": {
        "id": "uoeWSfluysyB"
      },
      "outputs": [],
      "source": [
        "df=df.drop(['NOx'],axis=1)"
      ]
    },
    {
      "cell_type": "code",
      "execution_count": null,
      "metadata": {
        "id": "5fjCk5BrysyB",
        "outputId": "626aafaf-a8cc-4cfb-8b19-47d42bbbba5d"
      },
      "outputs": [
        {
          "data": {
            "text/html": [
              "<div>\n",
              "<style scoped>\n",
              "    .dataframe tbody tr th:only-of-type {\n",
              "        vertical-align: middle;\n",
              "    }\n",
              "\n",
              "    .dataframe tbody tr th {\n",
              "        vertical-align: top;\n",
              "    }\n",
              "\n",
              "    .dataframe thead th {\n",
              "        text-align: right;\n",
              "    }\n",
              "</style>\n",
              "<table border=\"1\" class=\"dataframe\">\n",
              "  <thead>\n",
              "    <tr style=\"text-align: right;\">\n",
              "      <th></th>\n",
              "      <th>City</th>\n",
              "      <th>Datetime</th>\n",
              "      <th>PM2.5</th>\n",
              "      <th>NO</th>\n",
              "      <th>NO2</th>\n",
              "      <th>CO</th>\n",
              "      <th>SO2</th>\n",
              "      <th>O3</th>\n",
              "      <th>AQI</th>\n",
              "      <th>AQI_Bucket</th>\n",
              "      <th>StationId</th>\n",
              "      <th>StationName</th>\n",
              "      <th>State</th>\n",
              "      <th>Status</th>\n",
              "    </tr>\n",
              "  </thead>\n",
              "  <tbody>\n",
              "    <tr>\n",
              "      <th>0</th>\n",
              "      <td>Ahmedabad</td>\n",
              "      <td>2015-01-01 01:00:00</td>\n",
              "      <td>NaN</td>\n",
              "      <td>1.00</td>\n",
              "      <td>40.01</td>\n",
              "      <td>1.00</td>\n",
              "      <td>122.07</td>\n",
              "      <td>NaN</td>\n",
              "      <td>NaN</td>\n",
              "      <td>NaN</td>\n",
              "      <td>NaN</td>\n",
              "      <td>NaN</td>\n",
              "      <td>NaN</td>\n",
              "      <td>NaN</td>\n",
              "    </tr>\n",
              "    <tr>\n",
              "      <th>1</th>\n",
              "      <td>Ahmedabad</td>\n",
              "      <td>2015-01-01 02:00:00</td>\n",
              "      <td>NaN</td>\n",
              "      <td>0.02</td>\n",
              "      <td>27.75</td>\n",
              "      <td>0.02</td>\n",
              "      <td>85.90</td>\n",
              "      <td>NaN</td>\n",
              "      <td>NaN</td>\n",
              "      <td>NaN</td>\n",
              "      <td>NaN</td>\n",
              "      <td>NaN</td>\n",
              "      <td>NaN</td>\n",
              "      <td>NaN</td>\n",
              "    </tr>\n",
              "    <tr>\n",
              "      <th>2</th>\n",
              "      <td>Ahmedabad</td>\n",
              "      <td>2015-01-01 03:00:00</td>\n",
              "      <td>NaN</td>\n",
              "      <td>0.08</td>\n",
              "      <td>19.32</td>\n",
              "      <td>0.08</td>\n",
              "      <td>52.83</td>\n",
              "      <td>NaN</td>\n",
              "      <td>NaN</td>\n",
              "      <td>NaN</td>\n",
              "      <td>NaN</td>\n",
              "      <td>NaN</td>\n",
              "      <td>NaN</td>\n",
              "      <td>NaN</td>\n",
              "    </tr>\n",
              "    <tr>\n",
              "      <th>3</th>\n",
              "      <td>Ahmedabad</td>\n",
              "      <td>2015-01-01 04:00:00</td>\n",
              "      <td>NaN</td>\n",
              "      <td>0.30</td>\n",
              "      <td>16.45</td>\n",
              "      <td>0.30</td>\n",
              "      <td>39.53</td>\n",
              "      <td>153.58</td>\n",
              "      <td>NaN</td>\n",
              "      <td>NaN</td>\n",
              "      <td>NaN</td>\n",
              "      <td>NaN</td>\n",
              "      <td>NaN</td>\n",
              "      <td>NaN</td>\n",
              "    </tr>\n",
              "    <tr>\n",
              "      <th>4</th>\n",
              "      <td>Ahmedabad</td>\n",
              "      <td>2015-01-01 05:00:00</td>\n",
              "      <td>NaN</td>\n",
              "      <td>0.12</td>\n",
              "      <td>14.90</td>\n",
              "      <td>0.12</td>\n",
              "      <td>32.63</td>\n",
              "      <td>NaN</td>\n",
              "      <td>NaN</td>\n",
              "      <td>NaN</td>\n",
              "      <td>NaN</td>\n",
              "      <td>NaN</td>\n",
              "      <td>NaN</td>\n",
              "      <td>NaN</td>\n",
              "    </tr>\n",
              "  </tbody>\n",
              "</table>\n",
              "</div>"
            ],
            "text/plain": [
              "        City             Datetime  PM2.5    NO    NO2    CO     SO2      O3  \\\n",
              "0  Ahmedabad  2015-01-01 01:00:00    NaN  1.00  40.01  1.00  122.07     NaN   \n",
              "1  Ahmedabad  2015-01-01 02:00:00    NaN  0.02  27.75  0.02   85.90     NaN   \n",
              "2  Ahmedabad  2015-01-01 03:00:00    NaN  0.08  19.32  0.08   52.83     NaN   \n",
              "3  Ahmedabad  2015-01-01 04:00:00    NaN  0.30  16.45  0.30   39.53  153.58   \n",
              "4  Ahmedabad  2015-01-01 05:00:00    NaN  0.12  14.90  0.12   32.63     NaN   \n",
              "\n",
              "   AQI AQI_Bucket StationId StationName State Status  \n",
              "0  NaN        NaN       NaN         NaN   NaN    NaN  \n",
              "1  NaN        NaN       NaN         NaN   NaN    NaN  \n",
              "2  NaN        NaN       NaN         NaN   NaN    NaN  \n",
              "3  NaN        NaN       NaN         NaN   NaN    NaN  \n",
              "4  NaN        NaN       NaN         NaN   NaN    NaN  "
            ]
          },
          "execution_count": 27,
          "metadata": {},
          "output_type": "execute_result"
        }
      ],
      "source": [
        "df.head()"
      ]
    },
    {
      "cell_type": "markdown",
      "source": [
        "Changing the Datetime column to day,year,month and hour"
      ],
      "metadata": {
        "id": "L0nAd9ZD3wkR"
      }
    },
    {
      "cell_type": "code",
      "execution_count": null,
      "metadata": {
        "id": "eZhwU0z3ysyC"
      },
      "outputs": [],
      "source": [
        "df['Datetime'] = pd.to_datetime(df['Datetime'],infer_datetime_format=True)# changing data dtype to datatime64\n",
        "df['year'] =df['Datetime'].dt.year\n",
        "df['month']=df['Datetime'].dt.month\n",
        "df['day'] =df['Datetime'].dt.day\n",
        "df['hour']=df['Datetime'].dt.hour"
      ]
    },
    {
      "cell_type": "code",
      "execution_count": null,
      "metadata": {
        "id": "hi34hWSQysyC",
        "outputId": "3f1ab773-bd0a-4bf3-fb16-d2e458eaf36c"
      },
      "outputs": [
        {
          "data": {
            "text/html": [
              "<div>\n",
              "<style scoped>\n",
              "    .dataframe tbody tr th:only-of-type {\n",
              "        vertical-align: middle;\n",
              "    }\n",
              "\n",
              "    .dataframe tbody tr th {\n",
              "        vertical-align: top;\n",
              "    }\n",
              "\n",
              "    .dataframe thead th {\n",
              "        text-align: right;\n",
              "    }\n",
              "</style>\n",
              "<table border=\"1\" class=\"dataframe\">\n",
              "  <thead>\n",
              "    <tr style=\"text-align: right;\">\n",
              "      <th></th>\n",
              "      <th>City</th>\n",
              "      <th>Datetime</th>\n",
              "      <th>PM2.5</th>\n",
              "      <th>NO</th>\n",
              "      <th>NO2</th>\n",
              "      <th>CO</th>\n",
              "      <th>SO2</th>\n",
              "      <th>O3</th>\n",
              "      <th>AQI</th>\n",
              "      <th>AQI_Bucket</th>\n",
              "      <th>StationId</th>\n",
              "      <th>StationName</th>\n",
              "      <th>State</th>\n",
              "      <th>Status</th>\n",
              "      <th>year</th>\n",
              "      <th>month</th>\n",
              "      <th>day</th>\n",
              "      <th>hour</th>\n",
              "    </tr>\n",
              "  </thead>\n",
              "  <tbody>\n",
              "    <tr>\n",
              "      <th>0</th>\n",
              "      <td>Ahmedabad</td>\n",
              "      <td>2015-01-01 01:00:00</td>\n",
              "      <td>NaN</td>\n",
              "      <td>1.00</td>\n",
              "      <td>40.01</td>\n",
              "      <td>1.00</td>\n",
              "      <td>122.07</td>\n",
              "      <td>NaN</td>\n",
              "      <td>NaN</td>\n",
              "      <td>NaN</td>\n",
              "      <td>NaN</td>\n",
              "      <td>NaN</td>\n",
              "      <td>NaN</td>\n",
              "      <td>NaN</td>\n",
              "      <td>2015.0</td>\n",
              "      <td>1.0</td>\n",
              "      <td>1.0</td>\n",
              "      <td>1.0</td>\n",
              "    </tr>\n",
              "    <tr>\n",
              "      <th>1</th>\n",
              "      <td>Ahmedabad</td>\n",
              "      <td>2015-01-01 02:00:00</td>\n",
              "      <td>NaN</td>\n",
              "      <td>0.02</td>\n",
              "      <td>27.75</td>\n",
              "      <td>0.02</td>\n",
              "      <td>85.90</td>\n",
              "      <td>NaN</td>\n",
              "      <td>NaN</td>\n",
              "      <td>NaN</td>\n",
              "      <td>NaN</td>\n",
              "      <td>NaN</td>\n",
              "      <td>NaN</td>\n",
              "      <td>NaN</td>\n",
              "      <td>2015.0</td>\n",
              "      <td>1.0</td>\n",
              "      <td>1.0</td>\n",
              "      <td>2.0</td>\n",
              "    </tr>\n",
              "    <tr>\n",
              "      <th>2</th>\n",
              "      <td>Ahmedabad</td>\n",
              "      <td>2015-01-01 03:00:00</td>\n",
              "      <td>NaN</td>\n",
              "      <td>0.08</td>\n",
              "      <td>19.32</td>\n",
              "      <td>0.08</td>\n",
              "      <td>52.83</td>\n",
              "      <td>NaN</td>\n",
              "      <td>NaN</td>\n",
              "      <td>NaN</td>\n",
              "      <td>NaN</td>\n",
              "      <td>NaN</td>\n",
              "      <td>NaN</td>\n",
              "      <td>NaN</td>\n",
              "      <td>2015.0</td>\n",
              "      <td>1.0</td>\n",
              "      <td>1.0</td>\n",
              "      <td>3.0</td>\n",
              "    </tr>\n",
              "    <tr>\n",
              "      <th>3</th>\n",
              "      <td>Ahmedabad</td>\n",
              "      <td>2015-01-01 04:00:00</td>\n",
              "      <td>NaN</td>\n",
              "      <td>0.30</td>\n",
              "      <td>16.45</td>\n",
              "      <td>0.30</td>\n",
              "      <td>39.53</td>\n",
              "      <td>153.58</td>\n",
              "      <td>NaN</td>\n",
              "      <td>NaN</td>\n",
              "      <td>NaN</td>\n",
              "      <td>NaN</td>\n",
              "      <td>NaN</td>\n",
              "      <td>NaN</td>\n",
              "      <td>2015.0</td>\n",
              "      <td>1.0</td>\n",
              "      <td>1.0</td>\n",
              "      <td>4.0</td>\n",
              "    </tr>\n",
              "    <tr>\n",
              "      <th>4</th>\n",
              "      <td>Ahmedabad</td>\n",
              "      <td>2015-01-01 05:00:00</td>\n",
              "      <td>NaN</td>\n",
              "      <td>0.12</td>\n",
              "      <td>14.90</td>\n",
              "      <td>0.12</td>\n",
              "      <td>32.63</td>\n",
              "      <td>NaN</td>\n",
              "      <td>NaN</td>\n",
              "      <td>NaN</td>\n",
              "      <td>NaN</td>\n",
              "      <td>NaN</td>\n",
              "      <td>NaN</td>\n",
              "      <td>NaN</td>\n",
              "      <td>2015.0</td>\n",
              "      <td>1.0</td>\n",
              "      <td>1.0</td>\n",
              "      <td>5.0</td>\n",
              "    </tr>\n",
              "  </tbody>\n",
              "</table>\n",
              "</div>"
            ],
            "text/plain": [
              "        City            Datetime  PM2.5    NO    NO2    CO     SO2      O3  \\\n",
              "0  Ahmedabad 2015-01-01 01:00:00    NaN  1.00  40.01  1.00  122.07     NaN   \n",
              "1  Ahmedabad 2015-01-01 02:00:00    NaN  0.02  27.75  0.02   85.90     NaN   \n",
              "2  Ahmedabad 2015-01-01 03:00:00    NaN  0.08  19.32  0.08   52.83     NaN   \n",
              "3  Ahmedabad 2015-01-01 04:00:00    NaN  0.30  16.45  0.30   39.53  153.58   \n",
              "4  Ahmedabad 2015-01-01 05:00:00    NaN  0.12  14.90  0.12   32.63     NaN   \n",
              "\n",
              "   AQI AQI_Bucket StationId StationName State Status    year  month  day  hour  \n",
              "0  NaN        NaN       NaN         NaN   NaN    NaN  2015.0    1.0  1.0   1.0  \n",
              "1  NaN        NaN       NaN         NaN   NaN    NaN  2015.0    1.0  1.0   2.0  \n",
              "2  NaN        NaN       NaN         NaN   NaN    NaN  2015.0    1.0  1.0   3.0  \n",
              "3  NaN        NaN       NaN         NaN   NaN    NaN  2015.0    1.0  1.0   4.0  \n",
              "4  NaN        NaN       NaN         NaN   NaN    NaN  2015.0    1.0  1.0   5.0  "
            ]
          },
          "execution_count": 29,
          "metadata": {},
          "output_type": "execute_result"
        }
      ],
      "source": [
        "df.head()"
      ]
    },
    {
      "cell_type": "code",
      "execution_count": null,
      "metadata": {
        "id": "oIJ0cj5IysyD",
        "outputId": "e8b2cb60-fcfd-40b0-fa6c-7884ade84ace"
      },
      "outputs": [
        {
          "data": {
            "text/html": [
              "<div>\n",
              "<style scoped>\n",
              "    .dataframe tbody tr th:only-of-type {\n",
              "        vertical-align: middle;\n",
              "    }\n",
              "\n",
              "    .dataframe tbody tr th {\n",
              "        vertical-align: top;\n",
              "    }\n",
              "\n",
              "    .dataframe thead th {\n",
              "        text-align: right;\n",
              "    }\n",
              "</style>\n",
              "<table border=\"1\" class=\"dataframe\">\n",
              "  <thead>\n",
              "    <tr style=\"text-align: right;\">\n",
              "      <th></th>\n",
              "      <th>City</th>\n",
              "      <th>PM2.5</th>\n",
              "      <th>NO</th>\n",
              "      <th>NO2</th>\n",
              "      <th>CO</th>\n",
              "      <th>SO2</th>\n",
              "      <th>O3</th>\n",
              "      <th>AQI</th>\n",
              "      <th>AQI_Bucket</th>\n",
              "      <th>StationId</th>\n",
              "      <th>StationName</th>\n",
              "      <th>State</th>\n",
              "      <th>Status</th>\n",
              "      <th>year</th>\n",
              "      <th>month</th>\n",
              "      <th>day</th>\n",
              "      <th>hour</th>\n",
              "    </tr>\n",
              "  </thead>\n",
              "  <tbody>\n",
              "    <tr>\n",
              "      <th>0</th>\n",
              "      <td>Ahmedabad</td>\n",
              "      <td>NaN</td>\n",
              "      <td>1.00</td>\n",
              "      <td>40.01</td>\n",
              "      <td>1.00</td>\n",
              "      <td>122.07</td>\n",
              "      <td>NaN</td>\n",
              "      <td>NaN</td>\n",
              "      <td>NaN</td>\n",
              "      <td>NaN</td>\n",
              "      <td>NaN</td>\n",
              "      <td>NaN</td>\n",
              "      <td>NaN</td>\n",
              "      <td>2015.0</td>\n",
              "      <td>1.0</td>\n",
              "      <td>1.0</td>\n",
              "      <td>1.0</td>\n",
              "    </tr>\n",
              "    <tr>\n",
              "      <th>1</th>\n",
              "      <td>Ahmedabad</td>\n",
              "      <td>NaN</td>\n",
              "      <td>0.02</td>\n",
              "      <td>27.75</td>\n",
              "      <td>0.02</td>\n",
              "      <td>85.90</td>\n",
              "      <td>NaN</td>\n",
              "      <td>NaN</td>\n",
              "      <td>NaN</td>\n",
              "      <td>NaN</td>\n",
              "      <td>NaN</td>\n",
              "      <td>NaN</td>\n",
              "      <td>NaN</td>\n",
              "      <td>2015.0</td>\n",
              "      <td>1.0</td>\n",
              "      <td>1.0</td>\n",
              "      <td>2.0</td>\n",
              "    </tr>\n",
              "    <tr>\n",
              "      <th>2</th>\n",
              "      <td>Ahmedabad</td>\n",
              "      <td>NaN</td>\n",
              "      <td>0.08</td>\n",
              "      <td>19.32</td>\n",
              "      <td>0.08</td>\n",
              "      <td>52.83</td>\n",
              "      <td>NaN</td>\n",
              "      <td>NaN</td>\n",
              "      <td>NaN</td>\n",
              "      <td>NaN</td>\n",
              "      <td>NaN</td>\n",
              "      <td>NaN</td>\n",
              "      <td>NaN</td>\n",
              "      <td>2015.0</td>\n",
              "      <td>1.0</td>\n",
              "      <td>1.0</td>\n",
              "      <td>3.0</td>\n",
              "    </tr>\n",
              "    <tr>\n",
              "      <th>3</th>\n",
              "      <td>Ahmedabad</td>\n",
              "      <td>NaN</td>\n",
              "      <td>0.30</td>\n",
              "      <td>16.45</td>\n",
              "      <td>0.30</td>\n",
              "      <td>39.53</td>\n",
              "      <td>153.58</td>\n",
              "      <td>NaN</td>\n",
              "      <td>NaN</td>\n",
              "      <td>NaN</td>\n",
              "      <td>NaN</td>\n",
              "      <td>NaN</td>\n",
              "      <td>NaN</td>\n",
              "      <td>2015.0</td>\n",
              "      <td>1.0</td>\n",
              "      <td>1.0</td>\n",
              "      <td>4.0</td>\n",
              "    </tr>\n",
              "    <tr>\n",
              "      <th>4</th>\n",
              "      <td>Ahmedabad</td>\n",
              "      <td>NaN</td>\n",
              "      <td>0.12</td>\n",
              "      <td>14.90</td>\n",
              "      <td>0.12</td>\n",
              "      <td>32.63</td>\n",
              "      <td>NaN</td>\n",
              "      <td>NaN</td>\n",
              "      <td>NaN</td>\n",
              "      <td>NaN</td>\n",
              "      <td>NaN</td>\n",
              "      <td>NaN</td>\n",
              "      <td>NaN</td>\n",
              "      <td>2015.0</td>\n",
              "      <td>1.0</td>\n",
              "      <td>1.0</td>\n",
              "      <td>5.0</td>\n",
              "    </tr>\n",
              "  </tbody>\n",
              "</table>\n",
              "</div>"
            ],
            "text/plain": [
              "        City  PM2.5    NO    NO2    CO     SO2      O3  AQI AQI_Bucket  \\\n",
              "0  Ahmedabad    NaN  1.00  40.01  1.00  122.07     NaN  NaN        NaN   \n",
              "1  Ahmedabad    NaN  0.02  27.75  0.02   85.90     NaN  NaN        NaN   \n",
              "2  Ahmedabad    NaN  0.08  19.32  0.08   52.83     NaN  NaN        NaN   \n",
              "3  Ahmedabad    NaN  0.30  16.45  0.30   39.53  153.58  NaN        NaN   \n",
              "4  Ahmedabad    NaN  0.12  14.90  0.12   32.63     NaN  NaN        NaN   \n",
              "\n",
              "  StationId StationName State Status    year  month  day  hour  \n",
              "0       NaN         NaN   NaN    NaN  2015.0    1.0  1.0   1.0  \n",
              "1       NaN         NaN   NaN    NaN  2015.0    1.0  1.0   2.0  \n",
              "2       NaN         NaN   NaN    NaN  2015.0    1.0  1.0   3.0  \n",
              "3       NaN         NaN   NaN    NaN  2015.0    1.0  1.0   4.0  \n",
              "4       NaN         NaN   NaN    NaN  2015.0    1.0  1.0   5.0  "
            ]
          },
          "execution_count": 30,
          "metadata": {},
          "output_type": "execute_result"
        }
      ],
      "source": [
        "df=df.drop(['Datetime'],axis=1)\n",
        "df.head()"
      ]
    },
    {
      "cell_type": "markdown",
      "source": [
        "spliting the data to numeric and categorical data"
      ],
      "metadata": {
        "id": "y7-zUa55380X"
      }
    },
    {
      "cell_type": "code",
      "execution_count": null,
      "metadata": {
        "id": "Ez66qanBysyD",
        "outputId": "32d4693c-1cf3-45c6-9730-7835bcbf21b8"
      },
      "outputs": [
        {
          "name": "stdout",
          "output_type": "stream",
          "text": [
            "<class 'pandas.core.frame.DataFrame'>\n",
            "RangeIndex: 3434524 entries, 0 to 3434523\n",
            "Data columns (total 11 columns):\n",
            " #   Column  Dtype  \n",
            "---  ------  -----  \n",
            " 0   PM2.5   float64\n",
            " 1   NO      float64\n",
            " 2   NO2     float64\n",
            " 3   CO      float64\n",
            " 4   SO2     float64\n",
            " 5   O3      float64\n",
            " 6   AQI     float64\n",
            " 7   year    float64\n",
            " 8   month   float64\n",
            " 9   day     float64\n",
            " 10  hour    float64\n",
            "dtypes: float64(11)\n",
            "memory usage: 288.2 MB\n",
            "None\n"
          ]
        },
        {
          "data": {
            "text/plain": [
              "(3434524, 11)"
            ]
          },
          "execution_count": 31,
          "metadata": {},
          "output_type": "execute_result"
        }
      ],
      "source": [
        "numeric1=df._get_numeric_data()                             \n",
        "print(numeric1.info())\n",
        "numeric1.shape"
      ]
    },
    {
      "cell_type": "code",
      "execution_count": null,
      "metadata": {
        "id": "iaP4frfuysyE",
        "outputId": "ed8407d3-9635-49eb-cf63-3939dd8a6691"
      },
      "outputs": [
        {
          "data": {
            "text/plain": [
              "PM2.5    819000\n",
              "NO       691031\n",
              "NO2      666227\n",
              "CO       600876\n",
              "SO2      902168\n",
              "O3       884771\n",
              "AQI      724961\n",
              "year     137566\n",
              "month    137566\n",
              "day      137566\n",
              "hour     137566\n",
              "dtype: int64"
            ]
          },
          "execution_count": 32,
          "metadata": {},
          "output_type": "execute_result"
        }
      ],
      "source": [
        "numeric1.isnull().sum()"
      ]
    },
    {
      "cell_type": "markdown",
      "source": [
        "filling the null values by using the mean"
      ],
      "metadata": {
        "id": "THim0b745hPQ"
      }
    },
    {
      "cell_type": "code",
      "execution_count": null,
      "metadata": {
        "id": "eah-RWtAysyF"
      },
      "outputs": [],
      "source": [
        "numerical_cols = df.select_dtypes(include='number').columns\n",
        "df[numerical_cols] = df[numerical_cols].mean()"
      ]
    },
    {
      "cell_type": "code",
      "execution_count": null,
      "metadata": {
        "id": "LK7lczYbysyF",
        "outputId": "14b3adf6-50c4-4e3e-e3df-9773843be596"
      },
      "outputs": [
        {
          "data": {
            "text/plain": [
              "PM2.5    0\n",
              "NO       0\n",
              "NO2      0\n",
              "CO       0\n",
              "SO2      0\n",
              "O3       0\n",
              "AQI      0\n",
              "year     0\n",
              "month    0\n",
              "day      0\n",
              "hour     0\n",
              "dtype: int64"
            ]
          },
          "execution_count": 34,
          "metadata": {},
          "output_type": "execute_result"
        }
      ],
      "source": [
        "numeric1.isnull().sum()"
      ]
    },
    {
      "cell_type": "code",
      "execution_count": null,
      "metadata": {
        "id": "ym_aHQkmysyG",
        "outputId": "261fa216-edb1-4b2f-9996-e3fb20ba50f9"
      },
      "outputs": [
        {
          "data": {
            "text/html": [
              "<div>\n",
              "<style scoped>\n",
              "    .dataframe tbody tr th:only-of-type {\n",
              "        vertical-align: middle;\n",
              "    }\n",
              "\n",
              "    .dataframe tbody tr th {\n",
              "        vertical-align: top;\n",
              "    }\n",
              "\n",
              "    .dataframe thead th {\n",
              "        text-align: right;\n",
              "    }\n",
              "</style>\n",
              "<table border=\"1\" class=\"dataframe\">\n",
              "  <thead>\n",
              "    <tr style=\"text-align: right;\">\n",
              "      <th></th>\n",
              "      <th>PM2.5</th>\n",
              "      <th>NO</th>\n",
              "      <th>NO2</th>\n",
              "      <th>CO</th>\n",
              "      <th>SO2</th>\n",
              "      <th>O3</th>\n",
              "      <th>AQI</th>\n",
              "      <th>year</th>\n",
              "      <th>month</th>\n",
              "      <th>day</th>\n",
              "      <th>hour</th>\n",
              "    </tr>\n",
              "  </thead>\n",
              "  <tbody>\n",
              "    <tr>\n",
              "      <th>0</th>\n",
              "      <td>0.0</td>\n",
              "      <td>1.00</td>\n",
              "      <td>40.01</td>\n",
              "      <td>1.00</td>\n",
              "      <td>122.07</td>\n",
              "      <td>0.00</td>\n",
              "      <td>0.0</td>\n",
              "      <td>2015.0</td>\n",
              "      <td>1.0</td>\n",
              "      <td>1.0</td>\n",
              "      <td>1.0</td>\n",
              "    </tr>\n",
              "    <tr>\n",
              "      <th>1</th>\n",
              "      <td>0.0</td>\n",
              "      <td>0.02</td>\n",
              "      <td>27.75</td>\n",
              "      <td>0.02</td>\n",
              "      <td>85.90</td>\n",
              "      <td>0.00</td>\n",
              "      <td>0.0</td>\n",
              "      <td>2015.0</td>\n",
              "      <td>1.0</td>\n",
              "      <td>1.0</td>\n",
              "      <td>2.0</td>\n",
              "    </tr>\n",
              "    <tr>\n",
              "      <th>2</th>\n",
              "      <td>0.0</td>\n",
              "      <td>0.08</td>\n",
              "      <td>19.32</td>\n",
              "      <td>0.08</td>\n",
              "      <td>52.83</td>\n",
              "      <td>0.00</td>\n",
              "      <td>0.0</td>\n",
              "      <td>2015.0</td>\n",
              "      <td>1.0</td>\n",
              "      <td>1.0</td>\n",
              "      <td>3.0</td>\n",
              "    </tr>\n",
              "    <tr>\n",
              "      <th>3</th>\n",
              "      <td>0.0</td>\n",
              "      <td>0.30</td>\n",
              "      <td>16.45</td>\n",
              "      <td>0.30</td>\n",
              "      <td>39.53</td>\n",
              "      <td>153.58</td>\n",
              "      <td>0.0</td>\n",
              "      <td>2015.0</td>\n",
              "      <td>1.0</td>\n",
              "      <td>1.0</td>\n",
              "      <td>4.0</td>\n",
              "    </tr>\n",
              "    <tr>\n",
              "      <th>4</th>\n",
              "      <td>0.0</td>\n",
              "      <td>0.12</td>\n",
              "      <td>14.90</td>\n",
              "      <td>0.12</td>\n",
              "      <td>32.63</td>\n",
              "      <td>0.00</td>\n",
              "      <td>0.0</td>\n",
              "      <td>2015.0</td>\n",
              "      <td>1.0</td>\n",
              "      <td>1.0</td>\n",
              "      <td>5.0</td>\n",
              "    </tr>\n",
              "  </tbody>\n",
              "</table>\n",
              "</div>"
            ],
            "text/plain": [
              "   PM2.5    NO    NO2    CO     SO2      O3  AQI    year  month  day  hour\n",
              "0    0.0  1.00  40.01  1.00  122.07    0.00  0.0  2015.0    1.0  1.0   1.0\n",
              "1    0.0  0.02  27.75  0.02   85.90    0.00  0.0  2015.0    1.0  1.0   2.0\n",
              "2    0.0  0.08  19.32  0.08   52.83    0.00  0.0  2015.0    1.0  1.0   3.0\n",
              "3    0.0  0.30  16.45  0.30   39.53  153.58  0.0  2015.0    1.0  1.0   4.0\n",
              "4    0.0  0.12  14.90  0.12   32.63    0.00  0.0  2015.0    1.0  1.0   5.0"
            ]
          },
          "execution_count": 35,
          "metadata": {},
          "output_type": "execute_result"
        }
      ],
      "source": [
        "numeric1.head()"
      ]
    },
    {
      "cell_type": "code",
      "execution_count": null,
      "metadata": {
        "id": "euZ5JcKKysyH",
        "outputId": "f2d265aa-0d1e-4207-de05-1e1e8307c4ba"
      },
      "outputs": [
        {
          "data": {
            "text/plain": [
              "(3434524, 11)"
            ]
          },
          "execution_count": 36,
          "metadata": {},
          "output_type": "execute_result"
        }
      ],
      "source": [
        "numeric1.shape"
      ]
    },
    {
      "cell_type": "code",
      "execution_count": null,
      "metadata": {
        "id": "Kilz7t7MysyH",
        "outputId": "b7962612-9d95-4c93-d559-2706597bfac6"
      },
      "outputs": [
        {
          "name": "stdout",
          "output_type": "stream",
          "text": [
            "<class 'pandas.core.frame.DataFrame'>\n",
            "RangeIndex: 3434524 entries, 0 to 3434523\n",
            "Data columns (total 6 columns):\n",
            " #   Column       Dtype \n",
            "---  ------       ----- \n",
            " 0   City         object\n",
            " 1   AQI_Bucket   object\n",
            " 2   StationId    object\n",
            " 3   StationName  object\n",
            " 4   State        object\n",
            " 5   Status       object\n",
            "dtypes: object(6)\n",
            "memory usage: 157.2+ MB\n"
          ]
        }
      ],
      "source": [
        "cat=df.drop(numeric1,axis=1)\n",
        "cat.info()"
      ]
    },
    {
      "cell_type": "code",
      "execution_count": null,
      "metadata": {
        "colab": {
          "base_uri": "https://localhost:8080/"
        },
        "id": "CfQv8VYbS1uB",
        "outputId": "6686aac6-ea33-45c9-b9c2-03f3fb5ff529"
      },
      "outputs": [
        {
          "data": {
            "text/plain": [
              "City                0\n",
              "AQI_Bucket     724961\n",
              "StationId      737406\n",
              "StationName    737406\n",
              "State          737406\n",
              "Status         745436\n",
              "dtype: int64"
            ]
          },
          "execution_count": 38,
          "metadata": {},
          "output_type": "execute_result"
        }
      ],
      "source": [
        "cat.isnull().sum()"
      ]
    },
    {
      "cell_type": "code",
      "execution_count": null,
      "metadata": {
        "id": "-llpC1qHysyJ",
        "outputId": "f1521999-8cf3-49e8-c7a0-ca2b807f00c5"
      },
      "outputs": [
        {
          "data": {
            "text/html": [
              "<div>\n",
              "<style scoped>\n",
              "    .dataframe tbody tr th:only-of-type {\n",
              "        vertical-align: middle;\n",
              "    }\n",
              "\n",
              "    .dataframe tbody tr th {\n",
              "        vertical-align: top;\n",
              "    }\n",
              "\n",
              "    .dataframe thead th {\n",
              "        text-align: right;\n",
              "    }\n",
              "</style>\n",
              "<table border=\"1\" class=\"dataframe\">\n",
              "  <thead>\n",
              "    <tr style=\"text-align: right;\">\n",
              "      <th></th>\n",
              "      <th>City</th>\n",
              "      <th>AQI_Bucket</th>\n",
              "      <th>StationId</th>\n",
              "      <th>StationName</th>\n",
              "      <th>State</th>\n",
              "      <th>Status</th>\n",
              "    </tr>\n",
              "  </thead>\n",
              "  <tbody>\n",
              "    <tr>\n",
              "      <th>0</th>\n",
              "      <td>Ahmedabad</td>\n",
              "      <td>NaN</td>\n",
              "      <td>NaN</td>\n",
              "      <td>NaN</td>\n",
              "      <td>NaN</td>\n",
              "      <td>NaN</td>\n",
              "    </tr>\n",
              "    <tr>\n",
              "      <th>1</th>\n",
              "      <td>Ahmedabad</td>\n",
              "      <td>NaN</td>\n",
              "      <td>NaN</td>\n",
              "      <td>NaN</td>\n",
              "      <td>NaN</td>\n",
              "      <td>NaN</td>\n",
              "    </tr>\n",
              "    <tr>\n",
              "      <th>2</th>\n",
              "      <td>Ahmedabad</td>\n",
              "      <td>NaN</td>\n",
              "      <td>NaN</td>\n",
              "      <td>NaN</td>\n",
              "      <td>NaN</td>\n",
              "      <td>NaN</td>\n",
              "    </tr>\n",
              "    <tr>\n",
              "      <th>3</th>\n",
              "      <td>Ahmedabad</td>\n",
              "      <td>NaN</td>\n",
              "      <td>NaN</td>\n",
              "      <td>NaN</td>\n",
              "      <td>NaN</td>\n",
              "      <td>NaN</td>\n",
              "    </tr>\n",
              "    <tr>\n",
              "      <th>4</th>\n",
              "      <td>Ahmedabad</td>\n",
              "      <td>NaN</td>\n",
              "      <td>NaN</td>\n",
              "      <td>NaN</td>\n",
              "      <td>NaN</td>\n",
              "      <td>NaN</td>\n",
              "    </tr>\n",
              "  </tbody>\n",
              "</table>\n",
              "</div>"
            ],
            "text/plain": [
              "        City AQI_Bucket StationId StationName State Status\n",
              "0  Ahmedabad        NaN       NaN         NaN   NaN    NaN\n",
              "1  Ahmedabad        NaN       NaN         NaN   NaN    NaN\n",
              "2  Ahmedabad        NaN       NaN         NaN   NaN    NaN\n",
              "3  Ahmedabad        NaN       NaN         NaN   NaN    NaN\n",
              "4  Ahmedabad        NaN       NaN         NaN   NaN    NaN"
            ]
          },
          "execution_count": 39,
          "metadata": {},
          "output_type": "execute_result"
        }
      ],
      "source": [
        "cat.head()"
      ]
    },
    {
      "cell_type": "code",
      "execution_count": null,
      "metadata": {
        "id": "V74WrmOoysyJ",
        "outputId": "c972be88-16d5-4407-da7d-a7c88218183e"
      },
      "outputs": [
        {
          "data": {
            "text/html": [
              "<div>\n",
              "<style scoped>\n",
              "    .dataframe tbody tr th:only-of-type {\n",
              "        vertical-align: middle;\n",
              "    }\n",
              "\n",
              "    .dataframe tbody tr th {\n",
              "        vertical-align: top;\n",
              "    }\n",
              "\n",
              "    .dataframe thead th {\n",
              "        text-align: right;\n",
              "    }\n",
              "</style>\n",
              "<table border=\"1\" class=\"dataframe\">\n",
              "  <thead>\n",
              "    <tr style=\"text-align: right;\">\n",
              "      <th></th>\n",
              "      <th>City</th>\n",
              "      <th>AQI_Bucket</th>\n",
              "      <th>StationId</th>\n",
              "      <th>StationName</th>\n",
              "      <th>State</th>\n",
              "      <th>Status</th>\n",
              "    </tr>\n",
              "  </thead>\n",
              "  <tbody>\n",
              "    <tr>\n",
              "      <th>3434519</th>\n",
              "      <td>Kolkata</td>\n",
              "      <td>Good</td>\n",
              "      <td>WB013</td>\n",
              "      <td>Victoria, Kolkata - WBPCB</td>\n",
              "      <td>West Bengal</td>\n",
              "      <td>Active</td>\n",
              "    </tr>\n",
              "    <tr>\n",
              "      <th>3434520</th>\n",
              "      <td>Kolkata</td>\n",
              "      <td>Satisfactory</td>\n",
              "      <td>WB013</td>\n",
              "      <td>Victoria, Kolkata - WBPCB</td>\n",
              "      <td>West Bengal</td>\n",
              "      <td>Active</td>\n",
              "    </tr>\n",
              "    <tr>\n",
              "      <th>3434521</th>\n",
              "      <td>Kolkata</td>\n",
              "      <td>Satisfactory</td>\n",
              "      <td>WB013</td>\n",
              "      <td>Victoria, Kolkata - WBPCB</td>\n",
              "      <td>West Bengal</td>\n",
              "      <td>Active</td>\n",
              "    </tr>\n",
              "    <tr>\n",
              "      <th>3434522</th>\n",
              "      <td>Kolkata</td>\n",
              "      <td>Satisfactory</td>\n",
              "      <td>WB013</td>\n",
              "      <td>Victoria, Kolkata - WBPCB</td>\n",
              "      <td>West Bengal</td>\n",
              "      <td>Active</td>\n",
              "    </tr>\n",
              "    <tr>\n",
              "      <th>3434523</th>\n",
              "      <td>Kolkata</td>\n",
              "      <td>Satisfactory</td>\n",
              "      <td>WB013</td>\n",
              "      <td>Victoria, Kolkata - WBPCB</td>\n",
              "      <td>West Bengal</td>\n",
              "      <td>Active</td>\n",
              "    </tr>\n",
              "  </tbody>\n",
              "</table>\n",
              "</div>"
            ],
            "text/plain": [
              "            City    AQI_Bucket StationId                StationName  \\\n",
              "3434519  Kolkata          Good     WB013  Victoria, Kolkata - WBPCB   \n",
              "3434520  Kolkata  Satisfactory     WB013  Victoria, Kolkata - WBPCB   \n",
              "3434521  Kolkata  Satisfactory     WB013  Victoria, Kolkata - WBPCB   \n",
              "3434522  Kolkata  Satisfactory     WB013  Victoria, Kolkata - WBPCB   \n",
              "3434523  Kolkata  Satisfactory     WB013  Victoria, Kolkata - WBPCB   \n",
              "\n",
              "               State  Status  \n",
              "3434519  West Bengal  Active  \n",
              "3434520  West Bengal  Active  \n",
              "3434521  West Bengal  Active  \n",
              "3434522  West Bengal  Active  \n",
              "3434523  West Bengal  Active  "
            ]
          },
          "execution_count": 40,
          "metadata": {},
          "output_type": "execute_result"
        }
      ],
      "source": [
        "cat.tail()"
      ]
    },
    {
      "cell_type": "code",
      "execution_count": null,
      "metadata": {
        "id": "Vpg8eqx5ysyK",
        "outputId": "7f7269cc-7fde-455a-c63b-7df34aa76cc2"
      },
      "outputs": [
        {
          "data": {
            "text/plain": [
              "City                0\n",
              "AQI_Bucket     724961\n",
              "StationId      737406\n",
              "StationName    737406\n",
              "State          737406\n",
              "Status         745436\n",
              "dtype: int64"
            ]
          },
          "execution_count": 41,
          "metadata": {},
          "output_type": "execute_result"
        }
      ],
      "source": [
        "cat.isnull().sum()"
      ]
    },
    {
      "cell_type": "code",
      "execution_count": null,
      "metadata": {
        "id": "IGFFfHTCysyL"
      },
      "outputs": [],
      "source": [
        "#filling missing values in cat columns by mode\n",
        "\n",
        "for col in cat:\n",
        "    cat[col].fillna(cat[col].mode()[0], inplace=True)"
      ]
    },
    {
      "cell_type": "code",
      "execution_count": null,
      "metadata": {
        "id": "xn1YAzqjysyO",
        "outputId": "a8e891eb-3ac6-45bf-b629-c8a52b834775"
      },
      "outputs": [
        {
          "data": {
            "text/plain": [
              "City           0\n",
              "AQI_Bucket     0\n",
              "StationId      0\n",
              "StationName    0\n",
              "State          0\n",
              "Status         0\n",
              "dtype: int64"
            ]
          },
          "execution_count": 43,
          "metadata": {},
          "output_type": "execute_result"
        }
      ],
      "source": [
        "cat.isnull().sum()"
      ]
    },
    {
      "cell_type": "code",
      "execution_count": null,
      "metadata": {
        "id": "8dHd8UUiysyP",
        "outputId": "18d260f9-c72e-4ac4-b62e-2882eaadf9ae"
      },
      "outputs": [
        {
          "data": {
            "text/html": [
              "<div>\n",
              "<style scoped>\n",
              "    .dataframe tbody tr th:only-of-type {\n",
              "        vertical-align: middle;\n",
              "    }\n",
              "\n",
              "    .dataframe tbody tr th {\n",
              "        vertical-align: top;\n",
              "    }\n",
              "\n",
              "    .dataframe thead th {\n",
              "        text-align: right;\n",
              "    }\n",
              "</style>\n",
              "<table border=\"1\" class=\"dataframe\">\n",
              "  <thead>\n",
              "    <tr style=\"text-align: right;\">\n",
              "      <th></th>\n",
              "      <th>City</th>\n",
              "      <th>AQI_Bucket</th>\n",
              "      <th>StationId</th>\n",
              "      <th>StationName</th>\n",
              "      <th>State</th>\n",
              "      <th>Status</th>\n",
              "    </tr>\n",
              "  </thead>\n",
              "  <tbody>\n",
              "    <tr>\n",
              "      <th>0</th>\n",
              "      <td>Ahmedabad</td>\n",
              "      <td>Moderate</td>\n",
              "      <td>DL007</td>\n",
              "      <td>Alandur Bus Depot, Chennai - CPCB</td>\n",
              "      <td>Delhi</td>\n",
              "      <td>Active</td>\n",
              "    </tr>\n",
              "    <tr>\n",
              "      <th>1</th>\n",
              "      <td>Ahmedabad</td>\n",
              "      <td>Moderate</td>\n",
              "      <td>DL007</td>\n",
              "      <td>Alandur Bus Depot, Chennai - CPCB</td>\n",
              "      <td>Delhi</td>\n",
              "      <td>Active</td>\n",
              "    </tr>\n",
              "    <tr>\n",
              "      <th>2</th>\n",
              "      <td>Ahmedabad</td>\n",
              "      <td>Moderate</td>\n",
              "      <td>DL007</td>\n",
              "      <td>Alandur Bus Depot, Chennai - CPCB</td>\n",
              "      <td>Delhi</td>\n",
              "      <td>Active</td>\n",
              "    </tr>\n",
              "    <tr>\n",
              "      <th>3</th>\n",
              "      <td>Ahmedabad</td>\n",
              "      <td>Moderate</td>\n",
              "      <td>DL007</td>\n",
              "      <td>Alandur Bus Depot, Chennai - CPCB</td>\n",
              "      <td>Delhi</td>\n",
              "      <td>Active</td>\n",
              "    </tr>\n",
              "    <tr>\n",
              "      <th>4</th>\n",
              "      <td>Ahmedabad</td>\n",
              "      <td>Moderate</td>\n",
              "      <td>DL007</td>\n",
              "      <td>Alandur Bus Depot, Chennai - CPCB</td>\n",
              "      <td>Delhi</td>\n",
              "      <td>Active</td>\n",
              "    </tr>\n",
              "  </tbody>\n",
              "</table>\n",
              "</div>"
            ],
            "text/plain": [
              "        City AQI_Bucket StationId                        StationName  State  \\\n",
              "0  Ahmedabad   Moderate     DL007  Alandur Bus Depot, Chennai - CPCB  Delhi   \n",
              "1  Ahmedabad   Moderate     DL007  Alandur Bus Depot, Chennai - CPCB  Delhi   \n",
              "2  Ahmedabad   Moderate     DL007  Alandur Bus Depot, Chennai - CPCB  Delhi   \n",
              "3  Ahmedabad   Moderate     DL007  Alandur Bus Depot, Chennai - CPCB  Delhi   \n",
              "4  Ahmedabad   Moderate     DL007  Alandur Bus Depot, Chennai - CPCB  Delhi   \n",
              "\n",
              "   Status  \n",
              "0  Active  \n",
              "1  Active  \n",
              "2  Active  \n",
              "3  Active  \n",
              "4  Active  "
            ]
          },
          "execution_count": 44,
          "metadata": {},
          "output_type": "execute_result"
        }
      ],
      "source": [
        "cat.head()"
      ]
    },
    {
      "cell_type": "code",
      "execution_count": null,
      "metadata": {
        "id": "4AgjSqcCdpVr",
        "outputId": "44b27d0d-68ef-4e7d-fdfb-ec2519a64ef1"
      },
      "outputs": [
        {
          "name": "stdout",
          "output_type": "stream",
          "text": [
            "<class 'pandas.core.frame.DataFrame'>\n",
            "RangeIndex: 3434524 entries, 0 to 3434523\n",
            "Data columns (total 6 columns):\n",
            " #   Column       Dtype \n",
            "---  ------       ----- \n",
            " 0   City         object\n",
            " 1   AQI_Bucket   object\n",
            " 2   StationId    object\n",
            " 3   StationName  object\n",
            " 4   State        object\n",
            " 5   Status       object\n",
            "dtypes: object(6)\n",
            "memory usage: 157.2+ MB\n"
          ]
        }
      ],
      "source": [
        "cat.info()"
      ]
    },
    {
      "cell_type": "markdown",
      "source": [
        "coverting the categorical data into numeric by using the get dummies"
      ],
      "metadata": {
        "id": "oos0PWTl6Vqn"
      }
    },
    {
      "cell_type": "code",
      "execution_count": null,
      "metadata": {
        "id": "OB6rsGJPysyR",
        "outputId": "fe5abe2a-2a25-4468-d113-98aa324a698e"
      },
      "outputs": [
        {
          "data": {
            "text/html": [
              "<div>\n",
              "<style scoped>\n",
              "    .dataframe tbody tr th:only-of-type {\n",
              "        vertical-align: middle;\n",
              "    }\n",
              "\n",
              "    .dataframe tbody tr th {\n",
              "        vertical-align: top;\n",
              "    }\n",
              "\n",
              "    .dataframe thead th {\n",
              "        text-align: right;\n",
              "    }\n",
              "</style>\n",
              "<table border=\"1\" class=\"dataframe\">\n",
              "  <thead>\n",
              "    <tr style=\"text-align: right;\">\n",
              "      <th></th>\n",
              "      <th>City_Ahmedabad</th>\n",
              "      <th>City_Aizawl</th>\n",
              "      <th>City_Amaravati</th>\n",
              "      <th>City_Amritsar</th>\n",
              "      <th>City_Bengaluru</th>\n",
              "      <th>City_Bhopal</th>\n",
              "      <th>City_Brajrajnagar</th>\n",
              "      <th>City_Chandigarh</th>\n",
              "      <th>City_Chennai</th>\n",
              "      <th>City_Coimbatore</th>\n",
              "      <th>...</th>\n",
              "      <th>State_Mizoram</th>\n",
              "      <th>State_Odisha</th>\n",
              "      <th>State_Punjab</th>\n",
              "      <th>State_Rajasthan</th>\n",
              "      <th>State_Tamil Nadu</th>\n",
              "      <th>State_Telangana</th>\n",
              "      <th>State_Uttar Pradesh</th>\n",
              "      <th>State_West Bengal</th>\n",
              "      <th>Status_Active</th>\n",
              "      <th>Status_Inactive</th>\n",
              "    </tr>\n",
              "  </thead>\n",
              "  <tbody>\n",
              "    <tr>\n",
              "      <th>0</th>\n",
              "      <td>1</td>\n",
              "      <td>0</td>\n",
              "      <td>0</td>\n",
              "      <td>0</td>\n",
              "      <td>0</td>\n",
              "      <td>0</td>\n",
              "      <td>0</td>\n",
              "      <td>0</td>\n",
              "      <td>0</td>\n",
              "      <td>0</td>\n",
              "      <td>...</td>\n",
              "      <td>0</td>\n",
              "      <td>0</td>\n",
              "      <td>0</td>\n",
              "      <td>0</td>\n",
              "      <td>0</td>\n",
              "      <td>0</td>\n",
              "      <td>0</td>\n",
              "      <td>0</td>\n",
              "      <td>1</td>\n",
              "      <td>0</td>\n",
              "    </tr>\n",
              "    <tr>\n",
              "      <th>1</th>\n",
              "      <td>1</td>\n",
              "      <td>0</td>\n",
              "      <td>0</td>\n",
              "      <td>0</td>\n",
              "      <td>0</td>\n",
              "      <td>0</td>\n",
              "      <td>0</td>\n",
              "      <td>0</td>\n",
              "      <td>0</td>\n",
              "      <td>0</td>\n",
              "      <td>...</td>\n",
              "      <td>0</td>\n",
              "      <td>0</td>\n",
              "      <td>0</td>\n",
              "      <td>0</td>\n",
              "      <td>0</td>\n",
              "      <td>0</td>\n",
              "      <td>0</td>\n",
              "      <td>0</td>\n",
              "      <td>1</td>\n",
              "      <td>0</td>\n",
              "    </tr>\n",
              "    <tr>\n",
              "      <th>2</th>\n",
              "      <td>1</td>\n",
              "      <td>0</td>\n",
              "      <td>0</td>\n",
              "      <td>0</td>\n",
              "      <td>0</td>\n",
              "      <td>0</td>\n",
              "      <td>0</td>\n",
              "      <td>0</td>\n",
              "      <td>0</td>\n",
              "      <td>0</td>\n",
              "      <td>...</td>\n",
              "      <td>0</td>\n",
              "      <td>0</td>\n",
              "      <td>0</td>\n",
              "      <td>0</td>\n",
              "      <td>0</td>\n",
              "      <td>0</td>\n",
              "      <td>0</td>\n",
              "      <td>0</td>\n",
              "      <td>1</td>\n",
              "      <td>0</td>\n",
              "    </tr>\n",
              "    <tr>\n",
              "      <th>3</th>\n",
              "      <td>1</td>\n",
              "      <td>0</td>\n",
              "      <td>0</td>\n",
              "      <td>0</td>\n",
              "      <td>0</td>\n",
              "      <td>0</td>\n",
              "      <td>0</td>\n",
              "      <td>0</td>\n",
              "      <td>0</td>\n",
              "      <td>0</td>\n",
              "      <td>...</td>\n",
              "      <td>0</td>\n",
              "      <td>0</td>\n",
              "      <td>0</td>\n",
              "      <td>0</td>\n",
              "      <td>0</td>\n",
              "      <td>0</td>\n",
              "      <td>0</td>\n",
              "      <td>0</td>\n",
              "      <td>1</td>\n",
              "      <td>0</td>\n",
              "    </tr>\n",
              "    <tr>\n",
              "      <th>4</th>\n",
              "      <td>1</td>\n",
              "      <td>0</td>\n",
              "      <td>0</td>\n",
              "      <td>0</td>\n",
              "      <td>0</td>\n",
              "      <td>0</td>\n",
              "      <td>0</td>\n",
              "      <td>0</td>\n",
              "      <td>0</td>\n",
              "      <td>0</td>\n",
              "      <td>...</td>\n",
              "      <td>0</td>\n",
              "      <td>0</td>\n",
              "      <td>0</td>\n",
              "      <td>0</td>\n",
              "      <td>0</td>\n",
              "      <td>0</td>\n",
              "      <td>0</td>\n",
              "      <td>0</td>\n",
              "      <td>1</td>\n",
              "      <td>0</td>\n",
              "    </tr>\n",
              "  </tbody>\n",
              "</table>\n",
              "<p>5 rows × 275 columns</p>\n",
              "</div>"
            ],
            "text/plain": [
              "   City_Ahmedabad  City_Aizawl  City_Amaravati  City_Amritsar  City_Bengaluru  \\\n",
              "0               1            0               0              0               0   \n",
              "1               1            0               0              0               0   \n",
              "2               1            0               0              0               0   \n",
              "3               1            0               0              0               0   \n",
              "4               1            0               0              0               0   \n",
              "\n",
              "   City_Bhopal  City_Brajrajnagar  City_Chandigarh  City_Chennai  \\\n",
              "0            0                  0                0             0   \n",
              "1            0                  0                0             0   \n",
              "2            0                  0                0             0   \n",
              "3            0                  0                0             0   \n",
              "4            0                  0                0             0   \n",
              "\n",
              "   City_Coimbatore  ...  State_Mizoram  State_Odisha  State_Punjab  \\\n",
              "0                0  ...              0             0             0   \n",
              "1                0  ...              0             0             0   \n",
              "2                0  ...              0             0             0   \n",
              "3                0  ...              0             0             0   \n",
              "4                0  ...              0             0             0   \n",
              "\n",
              "   State_Rajasthan  State_Tamil Nadu  State_Telangana  State_Uttar Pradesh  \\\n",
              "0                0                 0                0                    0   \n",
              "1                0                 0                0                    0   \n",
              "2                0                 0                0                    0   \n",
              "3                0                 0                0                    0   \n",
              "4                0                 0                0                    0   \n",
              "\n",
              "   State_West Bengal  Status_Active  Status_Inactive  \n",
              "0                  0              1                0  \n",
              "1                  0              1                0  \n",
              "2                  0              1                0  \n",
              "3                  0              1                0  \n",
              "4                  0              1                0  \n",
              "\n",
              "[5 rows x 275 columns]"
            ]
          },
          "execution_count": 46,
          "metadata": {},
          "output_type": "execute_result"
        }
      ],
      "source": [
        "cat1= pd.get_dummies(cat)\n",
        "cat1.head()"
      ]
    },
    {
      "cell_type": "code",
      "execution_count": null,
      "metadata": {
        "id": "659iiecDysyS",
        "outputId": "8dd43448-ce7d-493f-8914-0a8f419220c4"
      },
      "outputs": [
        {
          "data": {
            "text/plain": [
              "(3434524, 275)"
            ]
          },
          "execution_count": 47,
          "metadata": {},
          "output_type": "execute_result"
        }
      ],
      "source": [
        "cat1.shape"
      ]
    },
    {
      "cell_type": "markdown",
      "source": [
        "concatinating the numeric and categorical data"
      ],
      "metadata": {
        "id": "olq47xcI6h7t"
      }
    },
    {
      "cell_type": "code",
      "execution_count": null,
      "metadata": {
        "id": "GevcP1_nysyS",
        "outputId": "d2d90b86-9fb1-4422-c749-5ab8fdf25c80"
      },
      "outputs": [
        {
          "data": {
            "text/html": [
              "<div>\n",
              "<style scoped>\n",
              "    .dataframe tbody tr th:only-of-type {\n",
              "        vertical-align: middle;\n",
              "    }\n",
              "\n",
              "    .dataframe tbody tr th {\n",
              "        vertical-align: top;\n",
              "    }\n",
              "\n",
              "    .dataframe thead th {\n",
              "        text-align: right;\n",
              "    }\n",
              "</style>\n",
              "<table border=\"1\" class=\"dataframe\">\n",
              "  <thead>\n",
              "    <tr style=\"text-align: right;\">\n",
              "      <th></th>\n",
              "      <th>City_Ahmedabad</th>\n",
              "      <th>City_Aizawl</th>\n",
              "      <th>City_Amaravati</th>\n",
              "      <th>City_Amritsar</th>\n",
              "      <th>City_Bengaluru</th>\n",
              "      <th>City_Bhopal</th>\n",
              "      <th>City_Brajrajnagar</th>\n",
              "      <th>City_Chandigarh</th>\n",
              "      <th>City_Chennai</th>\n",
              "      <th>City_Coimbatore</th>\n",
              "      <th>...</th>\n",
              "      <th>NO</th>\n",
              "      <th>NO2</th>\n",
              "      <th>CO</th>\n",
              "      <th>SO2</th>\n",
              "      <th>O3</th>\n",
              "      <th>AQI</th>\n",
              "      <th>year</th>\n",
              "      <th>month</th>\n",
              "      <th>day</th>\n",
              "      <th>hour</th>\n",
              "    </tr>\n",
              "  </thead>\n",
              "  <tbody>\n",
              "    <tr>\n",
              "      <th>0</th>\n",
              "      <td>1</td>\n",
              "      <td>0</td>\n",
              "      <td>0</td>\n",
              "      <td>0</td>\n",
              "      <td>0</td>\n",
              "      <td>0</td>\n",
              "      <td>0</td>\n",
              "      <td>0</td>\n",
              "      <td>0</td>\n",
              "      <td>0</td>\n",
              "      <td>...</td>\n",
              "      <td>1.00</td>\n",
              "      <td>40.01</td>\n",
              "      <td>1.00</td>\n",
              "      <td>122.07</td>\n",
              "      <td>0.00</td>\n",
              "      <td>0.0</td>\n",
              "      <td>2015.0</td>\n",
              "      <td>1.0</td>\n",
              "      <td>1.0</td>\n",
              "      <td>1.0</td>\n",
              "    </tr>\n",
              "    <tr>\n",
              "      <th>1</th>\n",
              "      <td>1</td>\n",
              "      <td>0</td>\n",
              "      <td>0</td>\n",
              "      <td>0</td>\n",
              "      <td>0</td>\n",
              "      <td>0</td>\n",
              "      <td>0</td>\n",
              "      <td>0</td>\n",
              "      <td>0</td>\n",
              "      <td>0</td>\n",
              "      <td>...</td>\n",
              "      <td>0.02</td>\n",
              "      <td>27.75</td>\n",
              "      <td>0.02</td>\n",
              "      <td>85.90</td>\n",
              "      <td>0.00</td>\n",
              "      <td>0.0</td>\n",
              "      <td>2015.0</td>\n",
              "      <td>1.0</td>\n",
              "      <td>1.0</td>\n",
              "      <td>2.0</td>\n",
              "    </tr>\n",
              "    <tr>\n",
              "      <th>2</th>\n",
              "      <td>1</td>\n",
              "      <td>0</td>\n",
              "      <td>0</td>\n",
              "      <td>0</td>\n",
              "      <td>0</td>\n",
              "      <td>0</td>\n",
              "      <td>0</td>\n",
              "      <td>0</td>\n",
              "      <td>0</td>\n",
              "      <td>0</td>\n",
              "      <td>...</td>\n",
              "      <td>0.08</td>\n",
              "      <td>19.32</td>\n",
              "      <td>0.08</td>\n",
              "      <td>52.83</td>\n",
              "      <td>0.00</td>\n",
              "      <td>0.0</td>\n",
              "      <td>2015.0</td>\n",
              "      <td>1.0</td>\n",
              "      <td>1.0</td>\n",
              "      <td>3.0</td>\n",
              "    </tr>\n",
              "    <tr>\n",
              "      <th>3</th>\n",
              "      <td>1</td>\n",
              "      <td>0</td>\n",
              "      <td>0</td>\n",
              "      <td>0</td>\n",
              "      <td>0</td>\n",
              "      <td>0</td>\n",
              "      <td>0</td>\n",
              "      <td>0</td>\n",
              "      <td>0</td>\n",
              "      <td>0</td>\n",
              "      <td>...</td>\n",
              "      <td>0.30</td>\n",
              "      <td>16.45</td>\n",
              "      <td>0.30</td>\n",
              "      <td>39.53</td>\n",
              "      <td>153.58</td>\n",
              "      <td>0.0</td>\n",
              "      <td>2015.0</td>\n",
              "      <td>1.0</td>\n",
              "      <td>1.0</td>\n",
              "      <td>4.0</td>\n",
              "    </tr>\n",
              "    <tr>\n",
              "      <th>4</th>\n",
              "      <td>1</td>\n",
              "      <td>0</td>\n",
              "      <td>0</td>\n",
              "      <td>0</td>\n",
              "      <td>0</td>\n",
              "      <td>0</td>\n",
              "      <td>0</td>\n",
              "      <td>0</td>\n",
              "      <td>0</td>\n",
              "      <td>0</td>\n",
              "      <td>...</td>\n",
              "      <td>0.12</td>\n",
              "      <td>14.90</td>\n",
              "      <td>0.12</td>\n",
              "      <td>32.63</td>\n",
              "      <td>0.00</td>\n",
              "      <td>0.0</td>\n",
              "      <td>2015.0</td>\n",
              "      <td>1.0</td>\n",
              "      <td>1.0</td>\n",
              "      <td>5.0</td>\n",
              "    </tr>\n",
              "  </tbody>\n",
              "</table>\n",
              "<p>5 rows × 286 columns</p>\n",
              "</div>"
            ],
            "text/plain": [
              "   City_Ahmedabad  City_Aizawl  City_Amaravati  City_Amritsar  City_Bengaluru  \\\n",
              "0               1            0               0              0               0   \n",
              "1               1            0               0              0               0   \n",
              "2               1            0               0              0               0   \n",
              "3               1            0               0              0               0   \n",
              "4               1            0               0              0               0   \n",
              "\n",
              "   City_Bhopal  City_Brajrajnagar  City_Chandigarh  City_Chennai  \\\n",
              "0            0                  0                0             0   \n",
              "1            0                  0                0             0   \n",
              "2            0                  0                0             0   \n",
              "3            0                  0                0             0   \n",
              "4            0                  0                0             0   \n",
              "\n",
              "   City_Coimbatore  ...    NO    NO2    CO     SO2      O3  AQI    year  \\\n",
              "0                0  ...  1.00  40.01  1.00  122.07    0.00  0.0  2015.0   \n",
              "1                0  ...  0.02  27.75  0.02   85.90    0.00  0.0  2015.0   \n",
              "2                0  ...  0.08  19.32  0.08   52.83    0.00  0.0  2015.0   \n",
              "3                0  ...  0.30  16.45  0.30   39.53  153.58  0.0  2015.0   \n",
              "4                0  ...  0.12  14.90  0.12   32.63    0.00  0.0  2015.0   \n",
              "\n",
              "   month  day  hour  \n",
              "0    1.0  1.0   1.0  \n",
              "1    1.0  1.0   2.0  \n",
              "2    1.0  1.0   3.0  \n",
              "3    1.0  1.0   4.0  \n",
              "4    1.0  1.0   5.0  \n",
              "\n",
              "[5 rows x 286 columns]"
            ]
          },
          "execution_count": 48,
          "metadata": {},
          "output_type": "execute_result"
        }
      ],
      "source": [
        "final_df=pd.concat([cat1,numeric1],join='inner',axis=1)\n",
        "final_df.head()"
      ]
    },
    {
      "cell_type": "code",
      "execution_count": null,
      "metadata": {
        "id": "MyeQtP8YysyT",
        "outputId": "830141aa-b116-400b-ccb3-eb0dacee6e6f"
      },
      "outputs": [
        {
          "data": {
            "text/plain": [
              "(3434524, 286)"
            ]
          },
          "execution_count": 49,
          "metadata": {},
          "output_type": "execute_result"
        }
      ],
      "source": [
        "final_df.shape"
      ]
    },
    {
      "cell_type": "code",
      "execution_count": null,
      "metadata": {
        "id": "1UmBpsoNysyT",
        "outputId": "4117e608-979f-4c75-91cb-0fe0d0bcaf30"
      },
      "outputs": [
        {
          "name": "stdout",
          "output_type": "stream",
          "text": [
            "<class 'pandas.core.frame.DataFrame'>\n",
            "RangeIndex: 3434524 entries, 0 to 3434523\n",
            "Columns: 286 entries, City_Ahmedabad to hour\n",
            "dtypes: float64(11), uint8(275)\n",
            "memory usage: 1.2 GB\n"
          ]
        }
      ],
      "source": [
        "final_df.info()"
      ]
    },
    {
      "cell_type": "code",
      "execution_count": null,
      "metadata": {
        "id": "V3AXF4GOysyU",
        "outputId": "e0e8216b-5306-481b-e9f8-5b4e65e14bdb"
      },
      "outputs": [
        {
          "data": {
            "text/plain": [
              "City_Ahmedabad    0\n",
              "City_Aizawl       0\n",
              "City_Amaravati    0\n",
              "City_Amritsar     0\n",
              "City_Bengaluru    0\n",
              "                 ..\n",
              "AQI               0\n",
              "year              0\n",
              "month             0\n",
              "day               0\n",
              "hour              0\n",
              "Length: 286, dtype: int64"
            ]
          },
          "execution_count": 51,
          "metadata": {},
          "output_type": "execute_result"
        }
      ],
      "source": [
        "final_df.isnull().sum()"
      ]
    },
    {
      "cell_type": "code",
      "execution_count": null,
      "metadata": {
        "id": "2VbYEAzkysyU",
        "outputId": "cc4f48a1-b10b-4617-8819-bfae8a46f3b4"
      },
      "outputs": [
        {
          "data": {
            "text/html": [
              "<div>\n",
              "<style scoped>\n",
              "    .dataframe tbody tr th:only-of-type {\n",
              "        vertical-align: middle;\n",
              "    }\n",
              "\n",
              "    .dataframe tbody tr th {\n",
              "        vertical-align: top;\n",
              "    }\n",
              "\n",
              "    .dataframe thead th {\n",
              "        text-align: right;\n",
              "    }\n",
              "</style>\n",
              "<table border=\"1\" class=\"dataframe\">\n",
              "  <thead>\n",
              "    <tr style=\"text-align: right;\">\n",
              "      <th></th>\n",
              "      <th>City_Ahmedabad</th>\n",
              "      <th>City_Aizawl</th>\n",
              "      <th>City_Amaravati</th>\n",
              "      <th>City_Amritsar</th>\n",
              "      <th>City_Bengaluru</th>\n",
              "      <th>City_Bhopal</th>\n",
              "      <th>City_Brajrajnagar</th>\n",
              "      <th>City_Chandigarh</th>\n",
              "      <th>City_Chennai</th>\n",
              "      <th>City_Coimbatore</th>\n",
              "      <th>...</th>\n",
              "      <th>NO</th>\n",
              "      <th>NO2</th>\n",
              "      <th>CO</th>\n",
              "      <th>SO2</th>\n",
              "      <th>O3</th>\n",
              "      <th>AQI</th>\n",
              "      <th>year</th>\n",
              "      <th>month</th>\n",
              "      <th>day</th>\n",
              "      <th>hour</th>\n",
              "    </tr>\n",
              "  </thead>\n",
              "  <tbody>\n",
              "    <tr>\n",
              "      <th>count</th>\n",
              "      <td>3.434524e+06</td>\n",
              "      <td>3.434524e+06</td>\n",
              "      <td>3.434524e+06</td>\n",
              "      <td>3.434524e+06</td>\n",
              "      <td>3.434524e+06</td>\n",
              "      <td>3.434524e+06</td>\n",
              "      <td>3.434524e+06</td>\n",
              "      <td>3.434524e+06</td>\n",
              "      <td>3.434524e+06</td>\n",
              "      <td>3.434524e+06</td>\n",
              "      <td>...</td>\n",
              "      <td>3.434524e+06</td>\n",
              "      <td>3.434524e+06</td>\n",
              "      <td>3.434524e+06</td>\n",
              "      <td>3.434524e+06</td>\n",
              "      <td>3.434524e+06</td>\n",
              "      <td>3.434524e+06</td>\n",
              "      <td>3.434524e+06</td>\n",
              "      <td>3.434524e+06</td>\n",
              "      <td>3.434524e+06</td>\n",
              "      <td>3.434524e+06</td>\n",
              "    </tr>\n",
              "    <tr>\n",
              "      <th>mean</th>\n",
              "      <td>2.923316e-02</td>\n",
              "      <td>1.626426e-03</td>\n",
              "      <td>1.382142e-02</td>\n",
              "      <td>1.775501e-02</td>\n",
              "      <td>1.018368e-01</td>\n",
              "      <td>4.188062e-03</td>\n",
              "      <td>1.362984e-02</td>\n",
              "      <td>4.406433e-03</td>\n",
              "      <td>6.121809e-02</td>\n",
              "      <td>5.599029e-03</td>\n",
              "      <td>...</td>\n",
              "      <td>1.724888e+01</td>\n",
              "      <td>2.725880e+01</td>\n",
              "      <td>1.371589e+00</td>\n",
              "      <td>9.278134e+00</td>\n",
              "      <td>2.768340e+01</td>\n",
              "      <td>1.397133e+02</td>\n",
              "      <td>1.937258e+03</td>\n",
              "      <td>6.031272e+00</td>\n",
              "      <td>1.514102e+01</td>\n",
              "      <td>1.104108e+01</td>\n",
              "    </tr>\n",
              "    <tr>\n",
              "      <th>std</th>\n",
              "      <td>1.684595e-01</td>\n",
              "      <td>4.029617e-02</td>\n",
              "      <td>1.167493e-01</td>\n",
              "      <td>1.320597e-01</td>\n",
              "      <td>3.024336e-01</td>\n",
              "      <td>6.457959e-02</td>\n",
              "      <td>1.159486e-01</td>\n",
              "      <td>6.623457e-02</td>\n",
              "      <td>2.397300e-01</td>\n",
              "      <td>7.461690e-02</td>\n",
              "      <td>...</td>\n",
              "      <td>4.103037e+01</td>\n",
              "      <td>3.304873e+01</td>\n",
              "      <td>6.873726e+00</td>\n",
              "      <td>1.470098e+01</td>\n",
              "      <td>4.075616e+01</td>\n",
              "      <td>1.478051e+02</td>\n",
              "      <td>3.957210e+02</td>\n",
              "      <td>3.580995e+00</td>\n",
              "      <td>9.153516e+00</td>\n",
              "      <td>7.147594e+00</td>\n",
              "    </tr>\n",
              "    <tr>\n",
              "      <th>min</th>\n",
              "      <td>0.000000e+00</td>\n",
              "      <td>0.000000e+00</td>\n",
              "      <td>0.000000e+00</td>\n",
              "      <td>0.000000e+00</td>\n",
              "      <td>0.000000e+00</td>\n",
              "      <td>0.000000e+00</td>\n",
              "      <td>0.000000e+00</td>\n",
              "      <td>0.000000e+00</td>\n",
              "      <td>0.000000e+00</td>\n",
              "      <td>0.000000e+00</td>\n",
              "      <td>...</td>\n",
              "      <td>0.000000e+00</td>\n",
              "      <td>0.000000e+00</td>\n",
              "      <td>0.000000e+00</td>\n",
              "      <td>0.000000e+00</td>\n",
              "      <td>0.000000e+00</td>\n",
              "      <td>0.000000e+00</td>\n",
              "      <td>0.000000e+00</td>\n",
              "      <td>0.000000e+00</td>\n",
              "      <td>0.000000e+00</td>\n",
              "      <td>0.000000e+00</td>\n",
              "    </tr>\n",
              "    <tr>\n",
              "      <th>25%</th>\n",
              "      <td>0.000000e+00</td>\n",
              "      <td>0.000000e+00</td>\n",
              "      <td>0.000000e+00</td>\n",
              "      <td>0.000000e+00</td>\n",
              "      <td>0.000000e+00</td>\n",
              "      <td>0.000000e+00</td>\n",
              "      <td>0.000000e+00</td>\n",
              "      <td>0.000000e+00</td>\n",
              "      <td>0.000000e+00</td>\n",
              "      <td>0.000000e+00</td>\n",
              "      <td>...</td>\n",
              "      <td>1.080000e+00</td>\n",
              "      <td>5.450000e+00</td>\n",
              "      <td>1.000000e-02</td>\n",
              "      <td>0.000000e+00</td>\n",
              "      <td>0.000000e+00</td>\n",
              "      <td>4.500000e+01</td>\n",
              "      <td>2.017000e+03</td>\n",
              "      <td>3.000000e+00</td>\n",
              "      <td>7.000000e+00</td>\n",
              "      <td>5.000000e+00</td>\n",
              "    </tr>\n",
              "    <tr>\n",
              "      <th>50%</th>\n",
              "      <td>0.000000e+00</td>\n",
              "      <td>0.000000e+00</td>\n",
              "      <td>0.000000e+00</td>\n",
              "      <td>0.000000e+00</td>\n",
              "      <td>0.000000e+00</td>\n",
              "      <td>0.000000e+00</td>\n",
              "      <td>0.000000e+00</td>\n",
              "      <td>0.000000e+00</td>\n",
              "      <td>0.000000e+00</td>\n",
              "      <td>0.000000e+00</td>\n",
              "      <td>...</td>\n",
              "      <td>5.060000e+00</td>\n",
              "      <td>1.790000e+01</td>\n",
              "      <td>6.400000e-01</td>\n",
              "      <td>5.460000e+00</td>\n",
              "      <td>1.559000e+01</td>\n",
              "      <td>1.020000e+02</td>\n",
              "      <td>2.018000e+03</td>\n",
              "      <td>6.000000e+00</td>\n",
              "      <td>1.500000e+01</td>\n",
              "      <td>1.100000e+01</td>\n",
              "    </tr>\n",
              "    <tr>\n",
              "      <th>75%</th>\n",
              "      <td>0.000000e+00</td>\n",
              "      <td>0.000000e+00</td>\n",
              "      <td>0.000000e+00</td>\n",
              "      <td>0.000000e+00</td>\n",
              "      <td>0.000000e+00</td>\n",
              "      <td>0.000000e+00</td>\n",
              "      <td>0.000000e+00</td>\n",
              "      <td>0.000000e+00</td>\n",
              "      <td>0.000000e+00</td>\n",
              "      <td>0.000000e+00</td>\n",
              "      <td>...</td>\n",
              "      <td>1.353000e+01</td>\n",
              "      <td>3.692000e+01</td>\n",
              "      <td>1.210000e+00</td>\n",
              "      <td>1.177000e+01</td>\n",
              "      <td>3.860000e+01</td>\n",
              "      <td>1.980000e+02</td>\n",
              "      <td>2.019000e+03</td>\n",
              "      <td>9.000000e+00</td>\n",
              "      <td>2.300000e+01</td>\n",
              "      <td>1.700000e+01</td>\n",
              "    </tr>\n",
              "    <tr>\n",
              "      <th>max</th>\n",
              "      <td>1.000000e+00</td>\n",
              "      <td>1.000000e+00</td>\n",
              "      <td>1.000000e+00</td>\n",
              "      <td>1.000000e+00</td>\n",
              "      <td>1.000000e+00</td>\n",
              "      <td>1.000000e+00</td>\n",
              "      <td>1.000000e+00</td>\n",
              "      <td>1.000000e+00</td>\n",
              "      <td>1.000000e+00</td>\n",
              "      <td>1.000000e+00</td>\n",
              "      <td>...</td>\n",
              "      <td>5.000000e+02</td>\n",
              "      <td>4.999900e+02</td>\n",
              "      <td>4.985700e+02</td>\n",
              "      <td>1.999600e+02</td>\n",
              "      <td>9.970000e+02</td>\n",
              "      <td>3.133000e+03</td>\n",
              "      <td>2.020000e+03</td>\n",
              "      <td>1.200000e+01</td>\n",
              "      <td>3.100000e+01</td>\n",
              "      <td>2.300000e+01</td>\n",
              "    </tr>\n",
              "  </tbody>\n",
              "</table>\n",
              "<p>8 rows × 286 columns</p>\n",
              "</div>"
            ],
            "text/plain": [
              "       City_Ahmedabad   City_Aizawl  City_Amaravati  City_Amritsar  \\\n",
              "count    3.434524e+06  3.434524e+06    3.434524e+06   3.434524e+06   \n",
              "mean     2.923316e-02  1.626426e-03    1.382142e-02   1.775501e-02   \n",
              "std      1.684595e-01  4.029617e-02    1.167493e-01   1.320597e-01   \n",
              "min      0.000000e+00  0.000000e+00    0.000000e+00   0.000000e+00   \n",
              "25%      0.000000e+00  0.000000e+00    0.000000e+00   0.000000e+00   \n",
              "50%      0.000000e+00  0.000000e+00    0.000000e+00   0.000000e+00   \n",
              "75%      0.000000e+00  0.000000e+00    0.000000e+00   0.000000e+00   \n",
              "max      1.000000e+00  1.000000e+00    1.000000e+00   1.000000e+00   \n",
              "\n",
              "       City_Bengaluru   City_Bhopal  City_Brajrajnagar  City_Chandigarh  \\\n",
              "count    3.434524e+06  3.434524e+06       3.434524e+06     3.434524e+06   \n",
              "mean     1.018368e-01  4.188062e-03       1.362984e-02     4.406433e-03   \n",
              "std      3.024336e-01  6.457959e-02       1.159486e-01     6.623457e-02   \n",
              "min      0.000000e+00  0.000000e+00       0.000000e+00     0.000000e+00   \n",
              "25%      0.000000e+00  0.000000e+00       0.000000e+00     0.000000e+00   \n",
              "50%      0.000000e+00  0.000000e+00       0.000000e+00     0.000000e+00   \n",
              "75%      0.000000e+00  0.000000e+00       0.000000e+00     0.000000e+00   \n",
              "max      1.000000e+00  1.000000e+00       1.000000e+00     1.000000e+00   \n",
              "\n",
              "       City_Chennai  City_Coimbatore  ...            NO           NO2  \\\n",
              "count  3.434524e+06     3.434524e+06  ...  3.434524e+06  3.434524e+06   \n",
              "mean   6.121809e-02     5.599029e-03  ...  1.724888e+01  2.725880e+01   \n",
              "std    2.397300e-01     7.461690e-02  ...  4.103037e+01  3.304873e+01   \n",
              "min    0.000000e+00     0.000000e+00  ...  0.000000e+00  0.000000e+00   \n",
              "25%    0.000000e+00     0.000000e+00  ...  1.080000e+00  5.450000e+00   \n",
              "50%    0.000000e+00     0.000000e+00  ...  5.060000e+00  1.790000e+01   \n",
              "75%    0.000000e+00     0.000000e+00  ...  1.353000e+01  3.692000e+01   \n",
              "max    1.000000e+00     1.000000e+00  ...  5.000000e+02  4.999900e+02   \n",
              "\n",
              "                 CO           SO2            O3           AQI          year  \\\n",
              "count  3.434524e+06  3.434524e+06  3.434524e+06  3.434524e+06  3.434524e+06   \n",
              "mean   1.371589e+00  9.278134e+00  2.768340e+01  1.397133e+02  1.937258e+03   \n",
              "std    6.873726e+00  1.470098e+01  4.075616e+01  1.478051e+02  3.957210e+02   \n",
              "min    0.000000e+00  0.000000e+00  0.000000e+00  0.000000e+00  0.000000e+00   \n",
              "25%    1.000000e-02  0.000000e+00  0.000000e+00  4.500000e+01  2.017000e+03   \n",
              "50%    6.400000e-01  5.460000e+00  1.559000e+01  1.020000e+02  2.018000e+03   \n",
              "75%    1.210000e+00  1.177000e+01  3.860000e+01  1.980000e+02  2.019000e+03   \n",
              "max    4.985700e+02  1.999600e+02  9.970000e+02  3.133000e+03  2.020000e+03   \n",
              "\n",
              "              month           day          hour  \n",
              "count  3.434524e+06  3.434524e+06  3.434524e+06  \n",
              "mean   6.031272e+00  1.514102e+01  1.104108e+01  \n",
              "std    3.580995e+00  9.153516e+00  7.147594e+00  \n",
              "min    0.000000e+00  0.000000e+00  0.000000e+00  \n",
              "25%    3.000000e+00  7.000000e+00  5.000000e+00  \n",
              "50%    6.000000e+00  1.500000e+01  1.100000e+01  \n",
              "75%    9.000000e+00  2.300000e+01  1.700000e+01  \n",
              "max    1.200000e+01  3.100000e+01  2.300000e+01  \n",
              "\n",
              "[8 rows x 286 columns]"
            ]
          },
          "execution_count": 52,
          "metadata": {},
          "output_type": "execute_result"
        }
      ],
      "source": [
        "final_df.describe()"
      ]
    },
    {
      "cell_type": "markdown",
      "metadata": {
        "id": "trWaa6POqpbV"
      },
      "source": [
        "## 1 Here we split the data into train data, test data "
      ]
    },
    {
      "cell_type": "code",
      "execution_count": null,
      "metadata": {
        "id": "KquWOENmp9q9"
      },
      "outputs": [],
      "source": [
        "# importing neccessary libraries\n",
        "from sklearn.model_selection import train_test_split\n",
        "\n",
        "# splitting of data\n",
        "X = final_df.drop(['AQI'],axis=1)\n",
        "y = final_df['AQI']"
      ]
    },
    {
      "cell_type": "code",
      "execution_count": null,
      "metadata": {
        "id": "2aszD6BqrO2T"
      },
      "outputs": [],
      "source": [
        "X_train, X_test, y_train, y_test = train_test_split(X,y, test_size=0.3, random_state=42)"
      ]
    },
    {
      "cell_type": "code",
      "execution_count": null,
      "metadata": {
        "colab": {
          "base_uri": "https://localhost:8080/"
        },
        "id": "ZWsfrDbcrvE9",
        "outputId": "6aa46336-9b12-496d-9bc7-d55bb3a6b16d"
      },
      "outputs": [
        {
          "name": "stdout",
          "output_type": "stream",
          "text": [
            "(2404166, 285)\n",
            "(1030358, 285)\n",
            "(2404166,)\n",
            "(1030358,)\n"
          ]
        }
      ],
      "source": [
        "print(X_train.shape)\n",
        "print(X_test.shape)\n",
        "print(y_train.shape)\n",
        "print(y_test.shape)"
      ]
    },
    {
      "cell_type": "markdown",
      "source": [
        "# applying the minmax scalar for scaling the data"
      ],
      "metadata": {
        "id": "deakYndF6vMQ"
      }
    },
    {
      "cell_type": "code",
      "execution_count": null,
      "metadata": {
        "id": "1Mtd5UjXrSyb"
      },
      "outputs": [],
      "source": [
        "def min_max_scaler(X_train):\n",
        "   \n",
        "    # Compute the minimum and maximum values for each column of x\n",
        "    train_min = np.min(X_train, axis=0)\n",
        "    train_max = np.max(X_train, axis=0)\n",
        "    \n",
        "    # Scale each column of x to the range [0, 1]\n",
        "    train_scaled = (X_train - train_min) / (train_max - train_min)\n",
        "    \n",
        "    return train_scaled\n",
        "train_scaled = min_max_scaler(X_train)"
      ]
    },
    {
      "cell_type": "code",
      "execution_count": null,
      "metadata": {
        "colab": {
          "base_uri": "https://localhost:8080/",
          "height": 522
        },
        "id": "htMybk63szqC",
        "outputId": "504f1d58-106b-40eb-823e-26e9e1a41cf2"
      },
      "outputs": [
        {
          "data": {
            "text/html": [
              "<div>\n",
              "<style scoped>\n",
              "    .dataframe tbody tr th:only-of-type {\n",
              "        vertical-align: middle;\n",
              "    }\n",
              "\n",
              "    .dataframe tbody tr th {\n",
              "        vertical-align: top;\n",
              "    }\n",
              "\n",
              "    .dataframe thead th {\n",
              "        text-align: right;\n",
              "    }\n",
              "</style>\n",
              "<table border=\"1\" class=\"dataframe\">\n",
              "  <thead>\n",
              "    <tr style=\"text-align: right;\">\n",
              "      <th></th>\n",
              "      <th>City_Ahmedabad</th>\n",
              "      <th>City_Aizawl</th>\n",
              "      <th>City_Amaravati</th>\n",
              "      <th>City_Amritsar</th>\n",
              "      <th>City_Bengaluru</th>\n",
              "      <th>City_Bhopal</th>\n",
              "      <th>City_Brajrajnagar</th>\n",
              "      <th>City_Chandigarh</th>\n",
              "      <th>City_Chennai</th>\n",
              "      <th>City_Coimbatore</th>\n",
              "      <th>...</th>\n",
              "      <th>PM2.5</th>\n",
              "      <th>NO</th>\n",
              "      <th>NO2</th>\n",
              "      <th>CO</th>\n",
              "      <th>SO2</th>\n",
              "      <th>O3</th>\n",
              "      <th>year</th>\n",
              "      <th>month</th>\n",
              "      <th>day</th>\n",
              "      <th>hour</th>\n",
              "    </tr>\n",
              "  </thead>\n",
              "  <tbody>\n",
              "    <tr>\n",
              "      <th>416474</th>\n",
              "      <td>0.0</td>\n",
              "      <td>0.0</td>\n",
              "      <td>0.0</td>\n",
              "      <td>0.0</td>\n",
              "      <td>0.0</td>\n",
              "      <td>0.0</td>\n",
              "      <td>0.0</td>\n",
              "      <td>0.0</td>\n",
              "      <td>0.0</td>\n",
              "      <td>0.0</td>\n",
              "      <td>...</td>\n",
              "      <td>0.02374</td>\n",
              "      <td>0.01732</td>\n",
              "      <td>0.013740</td>\n",
              "      <td>0.000682</td>\n",
              "      <td>0.057461</td>\n",
              "      <td>0.019057</td>\n",
              "      <td>0.999505</td>\n",
              "      <td>0.666667</td>\n",
              "      <td>0.322581</td>\n",
              "      <td>0.478261</td>\n",
              "    </tr>\n",
              "    <tr>\n",
              "      <th>763157</th>\n",
              "      <td>0.0</td>\n",
              "      <td>0.0</td>\n",
              "      <td>0.0</td>\n",
              "      <td>0.0</td>\n",
              "      <td>0.0</td>\n",
              "      <td>0.0</td>\n",
              "      <td>0.0</td>\n",
              "      <td>0.0</td>\n",
              "      <td>0.0</td>\n",
              "      <td>0.0</td>\n",
              "      <td>...</td>\n",
              "      <td>0.03125</td>\n",
              "      <td>0.08220</td>\n",
              "      <td>0.041701</td>\n",
              "      <td>0.002467</td>\n",
              "      <td>0.070764</td>\n",
              "      <td>0.027282</td>\n",
              "      <td>0.998020</td>\n",
              "      <td>0.750000</td>\n",
              "      <td>0.741935</td>\n",
              "      <td>0.521739</td>\n",
              "    </tr>\n",
              "    <tr>\n",
              "      <th>1277637</th>\n",
              "      <td>0.0</td>\n",
              "      <td>0.0</td>\n",
              "      <td>0.0</td>\n",
              "      <td>0.0</td>\n",
              "      <td>0.0</td>\n",
              "      <td>0.0</td>\n",
              "      <td>0.0</td>\n",
              "      <td>0.0</td>\n",
              "      <td>0.0</td>\n",
              "      <td>0.0</td>\n",
              "      <td>...</td>\n",
              "      <td>0.14935</td>\n",
              "      <td>0.05678</td>\n",
              "      <td>0.230345</td>\n",
              "      <td>0.006539</td>\n",
              "      <td>0.065363</td>\n",
              "      <td>0.000000</td>\n",
              "      <td>0.999010</td>\n",
              "      <td>0.916667</td>\n",
              "      <td>0.645161</td>\n",
              "      <td>0.956522</td>\n",
              "    </tr>\n",
              "    <tr>\n",
              "      <th>2696828</th>\n",
              "      <td>0.0</td>\n",
              "      <td>0.0</td>\n",
              "      <td>0.0</td>\n",
              "      <td>0.0</td>\n",
              "      <td>0.0</td>\n",
              "      <td>0.0</td>\n",
              "      <td>0.0</td>\n",
              "      <td>0.0</td>\n",
              "      <td>0.0</td>\n",
              "      <td>0.0</td>\n",
              "      <td>...</td>\n",
              "      <td>0.01604</td>\n",
              "      <td>0.01622</td>\n",
              "      <td>0.029221</td>\n",
              "      <td>0.000000</td>\n",
              "      <td>0.191388</td>\n",
              "      <td>0.001344</td>\n",
              "      <td>0.999505</td>\n",
              "      <td>0.416667</td>\n",
              "      <td>0.741935</td>\n",
              "      <td>0.173913</td>\n",
              "    </tr>\n",
              "    <tr>\n",
              "      <th>1016336</th>\n",
              "      <td>0.0</td>\n",
              "      <td>0.0</td>\n",
              "      <td>0.0</td>\n",
              "      <td>0.0</td>\n",
              "      <td>0.0</td>\n",
              "      <td>0.0</td>\n",
              "      <td>0.0</td>\n",
              "      <td>0.0</td>\n",
              "      <td>0.0</td>\n",
              "      <td>0.0</td>\n",
              "      <td>...</td>\n",
              "      <td>0.09657</td>\n",
              "      <td>0.01432</td>\n",
              "      <td>0.113922</td>\n",
              "      <td>0.001605</td>\n",
              "      <td>0.000000</td>\n",
              "      <td>0.027392</td>\n",
              "      <td>0.999010</td>\n",
              "      <td>0.083333</td>\n",
              "      <td>0.354839</td>\n",
              "      <td>0.652174</td>\n",
              "    </tr>\n",
              "    <tr>\n",
              "      <th>...</th>\n",
              "      <td>...</td>\n",
              "      <td>...</td>\n",
              "      <td>...</td>\n",
              "      <td>...</td>\n",
              "      <td>...</td>\n",
              "      <td>...</td>\n",
              "      <td>...</td>\n",
              "      <td>...</td>\n",
              "      <td>...</td>\n",
              "      <td>...</td>\n",
              "      <td>...</td>\n",
              "      <td>...</td>\n",
              "      <td>...</td>\n",
              "      <td>...</td>\n",
              "      <td>...</td>\n",
              "      <td>...</td>\n",
              "      <td>...</td>\n",
              "      <td>...</td>\n",
              "      <td>...</td>\n",
              "      <td>...</td>\n",
              "      <td>...</td>\n",
              "    </tr>\n",
              "    <tr>\n",
              "      <th>1692743</th>\n",
              "      <td>0.0</td>\n",
              "      <td>0.0</td>\n",
              "      <td>0.0</td>\n",
              "      <td>0.0</td>\n",
              "      <td>0.0</td>\n",
              "      <td>0.0</td>\n",
              "      <td>0.0</td>\n",
              "      <td>0.0</td>\n",
              "      <td>0.0</td>\n",
              "      <td>0.0</td>\n",
              "      <td>...</td>\n",
              "      <td>0.11283</td>\n",
              "      <td>0.00548</td>\n",
              "      <td>0.196924</td>\n",
              "      <td>0.005115</td>\n",
              "      <td>0.115073</td>\n",
              "      <td>0.202939</td>\n",
              "      <td>0.997525</td>\n",
              "      <td>0.916667</td>\n",
              "      <td>0.032258</td>\n",
              "      <td>0.739130</td>\n",
              "    </tr>\n",
              "    <tr>\n",
              "      <th>2356330</th>\n",
              "      <td>0.0</td>\n",
              "      <td>0.0</td>\n",
              "      <td>0.0</td>\n",
              "      <td>0.0</td>\n",
              "      <td>1.0</td>\n",
              "      <td>0.0</td>\n",
              "      <td>0.0</td>\n",
              "      <td>0.0</td>\n",
              "      <td>0.0</td>\n",
              "      <td>0.0</td>\n",
              "      <td>...</td>\n",
              "      <td>0.00000</td>\n",
              "      <td>0.03136</td>\n",
              "      <td>0.019420</td>\n",
              "      <td>0.000000</td>\n",
              "      <td>0.275855</td>\n",
              "      <td>0.000000</td>\n",
              "      <td>0.997525</td>\n",
              "      <td>0.083333</td>\n",
              "      <td>0.677419</td>\n",
              "      <td>0.913043</td>\n",
              "    </tr>\n",
              "    <tr>\n",
              "      <th>2229084</th>\n",
              "      <td>0.0</td>\n",
              "      <td>0.0</td>\n",
              "      <td>0.0</td>\n",
              "      <td>0.0</td>\n",
              "      <td>1.0</td>\n",
              "      <td>0.0</td>\n",
              "      <td>0.0</td>\n",
              "      <td>0.0</td>\n",
              "      <td>0.0</td>\n",
              "      <td>0.0</td>\n",
              "      <td>...</td>\n",
              "      <td>0.02712</td>\n",
              "      <td>0.00600</td>\n",
              "      <td>0.041741</td>\n",
              "      <td>0.001845</td>\n",
              "      <td>0.024355</td>\n",
              "      <td>0.008405</td>\n",
              "      <td>0.999505</td>\n",
              "      <td>0.500000</td>\n",
              "      <td>0.806452</td>\n",
              "      <td>0.739130</td>\n",
              "    </tr>\n",
              "    <tr>\n",
              "      <th>2768307</th>\n",
              "      <td>0.0</td>\n",
              "      <td>0.0</td>\n",
              "      <td>0.0</td>\n",
              "      <td>0.0</td>\n",
              "      <td>0.0</td>\n",
              "      <td>0.0</td>\n",
              "      <td>0.0</td>\n",
              "      <td>0.0</td>\n",
              "      <td>0.0</td>\n",
              "      <td>0.0</td>\n",
              "      <td>...</td>\n",
              "      <td>0.20445</td>\n",
              "      <td>0.06832</td>\n",
              "      <td>0.139023</td>\n",
              "      <td>0.000000</td>\n",
              "      <td>0.053261</td>\n",
              "      <td>0.000000</td>\n",
              "      <td>0.999010</td>\n",
              "      <td>0.166667</td>\n",
              "      <td>0.032258</td>\n",
              "      <td>0.043478</td>\n",
              "    </tr>\n",
              "    <tr>\n",
              "      <th>2219110</th>\n",
              "      <td>0.0</td>\n",
              "      <td>0.0</td>\n",
              "      <td>0.0</td>\n",
              "      <td>0.0</td>\n",
              "      <td>1.0</td>\n",
              "      <td>0.0</td>\n",
              "      <td>0.0</td>\n",
              "      <td>0.0</td>\n",
              "      <td>0.0</td>\n",
              "      <td>0.0</td>\n",
              "      <td>...</td>\n",
              "      <td>0.00000</td>\n",
              "      <td>0.00000</td>\n",
              "      <td>0.000000</td>\n",
              "      <td>0.000000</td>\n",
              "      <td>0.000000</td>\n",
              "      <td>0.000000</td>\n",
              "      <td>0.999010</td>\n",
              "      <td>0.416667</td>\n",
              "      <td>0.193548</td>\n",
              "      <td>0.130435</td>\n",
              "    </tr>\n",
              "  </tbody>\n",
              "</table>\n",
              "<p>2404166 rows × 285 columns</p>\n",
              "</div>"
            ],
            "text/plain": [
              "         City_Ahmedabad  City_Aizawl  City_Amaravati  City_Amritsar  \\\n",
              "416474              0.0          0.0             0.0            0.0   \n",
              "763157              0.0          0.0             0.0            0.0   \n",
              "1277637             0.0          0.0             0.0            0.0   \n",
              "2696828             0.0          0.0             0.0            0.0   \n",
              "1016336             0.0          0.0             0.0            0.0   \n",
              "...                 ...          ...             ...            ...   \n",
              "1692743             0.0          0.0             0.0            0.0   \n",
              "2356330             0.0          0.0             0.0            0.0   \n",
              "2229084             0.0          0.0             0.0            0.0   \n",
              "2768307             0.0          0.0             0.0            0.0   \n",
              "2219110             0.0          0.0             0.0            0.0   \n",
              "\n",
              "         City_Bengaluru  City_Bhopal  City_Brajrajnagar  City_Chandigarh  \\\n",
              "416474              0.0          0.0                0.0              0.0   \n",
              "763157              0.0          0.0                0.0              0.0   \n",
              "1277637             0.0          0.0                0.0              0.0   \n",
              "2696828             0.0          0.0                0.0              0.0   \n",
              "1016336             0.0          0.0                0.0              0.0   \n",
              "...                 ...          ...                ...              ...   \n",
              "1692743             0.0          0.0                0.0              0.0   \n",
              "2356330             1.0          0.0                0.0              0.0   \n",
              "2229084             1.0          0.0                0.0              0.0   \n",
              "2768307             0.0          0.0                0.0              0.0   \n",
              "2219110             1.0          0.0                0.0              0.0   \n",
              "\n",
              "         City_Chennai  City_Coimbatore  ...    PM2.5       NO       NO2  \\\n",
              "416474            0.0              0.0  ...  0.02374  0.01732  0.013740   \n",
              "763157            0.0              0.0  ...  0.03125  0.08220  0.041701   \n",
              "1277637           0.0              0.0  ...  0.14935  0.05678  0.230345   \n",
              "2696828           0.0              0.0  ...  0.01604  0.01622  0.029221   \n",
              "1016336           0.0              0.0  ...  0.09657  0.01432  0.113922   \n",
              "...               ...              ...  ...      ...      ...       ...   \n",
              "1692743           0.0              0.0  ...  0.11283  0.00548  0.196924   \n",
              "2356330           0.0              0.0  ...  0.00000  0.03136  0.019420   \n",
              "2229084           0.0              0.0  ...  0.02712  0.00600  0.041741   \n",
              "2768307           0.0              0.0  ...  0.20445  0.06832  0.139023   \n",
              "2219110           0.0              0.0  ...  0.00000  0.00000  0.000000   \n",
              "\n",
              "               CO       SO2        O3      year     month       day      hour  \n",
              "416474   0.000682  0.057461  0.019057  0.999505  0.666667  0.322581  0.478261  \n",
              "763157   0.002467  0.070764  0.027282  0.998020  0.750000  0.741935  0.521739  \n",
              "1277637  0.006539  0.065363  0.000000  0.999010  0.916667  0.645161  0.956522  \n",
              "2696828  0.000000  0.191388  0.001344  0.999505  0.416667  0.741935  0.173913  \n",
              "1016336  0.001605  0.000000  0.027392  0.999010  0.083333  0.354839  0.652174  \n",
              "...           ...       ...       ...       ...       ...       ...       ...  \n",
              "1692743  0.005115  0.115073  0.202939  0.997525  0.916667  0.032258  0.739130  \n",
              "2356330  0.000000  0.275855  0.000000  0.997525  0.083333  0.677419  0.913043  \n",
              "2229084  0.001845  0.024355  0.008405  0.999505  0.500000  0.806452  0.739130  \n",
              "2768307  0.000000  0.053261  0.000000  0.999010  0.166667  0.032258  0.043478  \n",
              "2219110  0.000000  0.000000  0.000000  0.999010  0.416667  0.193548  0.130435  \n",
              "\n",
              "[2404166 rows x 285 columns]"
            ]
          },
          "execution_count": 57,
          "metadata": {},
          "output_type": "execute_result"
        }
      ],
      "source": [
        "train_scaled"
      ]
    },
    {
      "cell_type": "markdown",
      "source": [
        "convering the dataframe to array"
      ],
      "metadata": {
        "id": "PVs6q-mO7B9p"
      }
    },
    {
      "cell_type": "code",
      "execution_count": null,
      "metadata": {
        "colab": {
          "base_uri": "https://localhost:8080/"
        },
        "id": "gDNnVqUNtWoI",
        "outputId": "d6d71855-122a-416a-c7e9-c5afe63ad678"
      },
      "outputs": [
        {
          "data": {
            "text/plain": [
              "array([[0.        , 0.        , 0.        , ..., 0.66666667, 0.32258065,\n",
              "        0.47826087],\n",
              "       [0.        , 0.        , 0.        , ..., 0.75      , 0.74193548,\n",
              "        0.52173913],\n",
              "       [0.        , 0.        , 0.        , ..., 0.91666667, 0.64516129,\n",
              "        0.95652174],\n",
              "       ...,\n",
              "       [0.        , 0.        , 0.        , ..., 0.5       , 0.80645161,\n",
              "        0.73913043],\n",
              "       [0.        , 0.        , 0.        , ..., 0.16666667, 0.03225806,\n",
              "        0.04347826],\n",
              "       [0.        , 0.        , 0.        , ..., 0.41666667, 0.19354839,\n",
              "        0.13043478]])"
            ]
          },
          "execution_count": 58,
          "metadata": {},
          "output_type": "execute_result"
        }
      ],
      "source": [
        "train_scaled.values\n"
      ]
    },
    {
      "cell_type": "code",
      "execution_count": null,
      "metadata": {
        "colab": {
          "base_uri": "https://localhost:8080/"
        },
        "id": "KQENYxfetteF",
        "outputId": "9483ed1c-81c0-4d74-8301-2769c3ca8a9a"
      },
      "outputs": [
        {
          "data": {
            "text/plain": [
              "array([ 47.,  71., 338., ...,  46.,   0.,   0.])"
            ]
          },
          "execution_count": 59,
          "metadata": {},
          "output_type": "execute_result"
        }
      ],
      "source": [
        "y_train.values"
      ]
    },
    {
      "cell_type": "code",
      "execution_count": null,
      "metadata": {
        "id": "6DWEnEusuawt"
      },
      "outputs": [],
      "source": [
        "X=X_train\n",
        "Y=y_train"
      ]
    },
    {
      "cell_type": "code",
      "execution_count": null,
      "metadata": {
        "colab": {
          "base_uri": "https://localhost:8080/"
        },
        "id": "T5nHvr8NxH-z",
        "outputId": "b7e25088-7116-483b-f8d2-7394f643f771"
      },
      "outputs": [
        {
          "data": {
            "text/plain": [
              "array([[ 0.,  0.,  0., ...,  8., 10., 11.],\n",
              "       [ 0.,  0.,  0., ...,  9., 23., 12.],\n",
              "       [ 0.,  0.,  0., ..., 11., 20., 22.],\n",
              "       ...,\n",
              "       [ 0.,  0.,  0., ...,  6., 25., 17.],\n",
              "       [ 0.,  0.,  0., ...,  2.,  1.,  1.],\n",
              "       [ 0.,  0.,  0., ...,  5.,  6.,  3.]])"
            ]
          },
          "execution_count": 61,
          "metadata": {},
          "output_type": "execute_result"
        }
      ],
      "source": [
        "X=X.values\n",
        "X"
      ]
    },
    {
      "cell_type": "code",
      "execution_count": null,
      "metadata": {
        "colab": {
          "base_uri": "https://localhost:8080/"
        },
        "id": "EOAXvx8CxKfq",
        "outputId": "c8151f2e-6c8d-43fb-ba03-7ee082084cec"
      },
      "outputs": [
        {
          "data": {
            "text/plain": [
              "285"
            ]
          },
          "execution_count": 62,
          "metadata": {},
          "output_type": "execute_result"
        }
      ],
      "source": [
        "X.shape[1]"
      ]
    },
    {
      "cell_type": "code",
      "execution_count": null,
      "metadata": {
        "colab": {
          "base_uri": "https://localhost:8080/"
        },
        "id": "SJaTV4kGyBK6",
        "outputId": "471fa587-5314-444e-9196-c6a8f03b465a"
      },
      "outputs": [
        {
          "data": {
            "text/plain": [
              "2404166"
            ]
          },
          "execution_count": 63,
          "metadata": {},
          "output_type": "execute_result"
        }
      ],
      "source": [
        "Y.shape[0]"
      ]
    },
    {
      "cell_type": "code",
      "execution_count": null,
      "metadata": {
        "id": "KPcwLi9QyGxA"
      },
      "outputs": [],
      "source": [
        "x_train=X_train.values"
      ]
    },
    {
      "cell_type": "code",
      "execution_count": null,
      "metadata": {
        "colab": {
          "base_uri": "https://localhost:8080/"
        },
        "id": "kv-EFi8HyVfR",
        "outputId": "6337457e-cbb1-4a3d-f105-2f08196fb917"
      },
      "outputs": [
        {
          "data": {
            "text/plain": [
              "array([[ 0.,  0.,  0., ...,  8., 10., 11.],\n",
              "       [ 0.,  0.,  0., ...,  9., 23., 12.],\n",
              "       [ 0.,  0.,  0., ..., 11., 20., 22.],\n",
              "       ...,\n",
              "       [ 0.,  0.,  0., ...,  6., 25., 17.],\n",
              "       [ 0.,  0.,  0., ...,  2.,  1.,  1.],\n",
              "       [ 0.,  0.,  0., ...,  5.,  6.,  3.]])"
            ]
          },
          "execution_count": 65,
          "metadata": {},
          "output_type": "execute_result"
        }
      ],
      "source": [
        "x_train"
      ]
    },
    {
      "cell_type": "code",
      "execution_count": null,
      "metadata": {
        "colab": {
          "base_uri": "https://localhost:8080/"
        },
        "id": "JHLG6s1R0SX2",
        "outputId": "55218ed5-14b4-4b98-f38c-6bb2d902d44c"
      },
      "outputs": [
        {
          "data": {
            "text/plain": [
              "array([[ 0.,  0.,  0., ..., 11., 25.,  4.],\n",
              "       [ 0.,  0.,  0., ...,  6.,  6., 23.],\n",
              "       [ 0.,  0.,  0., ...,  5., 28.,  8.],\n",
              "       ...,\n",
              "       [ 0.,  0.,  0., ...,  4., 17.,  6.],\n",
              "       [ 0.,  0.,  0., ...,  7.,  6., 14.],\n",
              "       [ 0.,  0.,  0., ...,  5.,  6.,  0.]])"
            ]
          },
          "execution_count": 66,
          "metadata": {},
          "output_type": "execute_result"
        }
      ],
      "source": [
        "x_test=X_test.values\n",
        "x_test"
      ]
    },
    {
      "cell_type": "code",
      "execution_count": null,
      "metadata": {
        "id": "RTxBduDc0aa8"
      },
      "outputs": [],
      "source": [
        "y_test=y_test.values\n",
        "y_train = y_train.values\n"
      ]
    },
    {
      "cell_type": "code",
      "execution_count": null,
      "metadata": {
        "colab": {
          "base_uri": "https://localhost:8080/"
        },
        "id": "3NQzvVp60kJr",
        "outputId": "7ad955a6-674b-4a73-cd65-1ef0dae69ad0"
      },
      "outputs": [
        {
          "data": {
            "text/plain": [
              "array([ 47.,  71., 338., ...,  46.,   0.,   0.])"
            ]
          },
          "execution_count": 68,
          "metadata": {},
          "output_type": "execute_result"
        }
      ],
      "source": [
        "y_train"
      ]
    },
    {
      "cell_type": "code",
      "execution_count": null,
      "metadata": {
        "colab": {
          "base_uri": "https://localhost:8080/"
        },
        "id": "Bq1uc-Ef3OzN",
        "outputId": "a3b9e55e-96fa-4a21-b981-bda68fc0989a"
      },
      "outputs": [
        {
          "data": {
            "text/plain": [
              "285"
            ]
          },
          "execution_count": 69,
          "metadata": {},
          "output_type": "execute_result"
        }
      ],
      "source": [
        "X.shape[1]"
      ]
    },
    {
      "cell_type": "code",
      "execution_count": null,
      "metadata": {
        "colab": {
          "base_uri": "https://localhost:8080/"
        },
        "id": "G3m5-zzb3TMp",
        "outputId": "badc379f-b5a3-4a8f-a81a-9c8110ae5bba"
      },
      "outputs": [
        {
          "data": {
            "text/plain": [
              "2404166"
            ]
          },
          "execution_count": 70,
          "metadata": {},
          "output_type": "execute_result"
        }
      ],
      "source": [
        "Y.shape[0]"
      ]
    },
    {
      "cell_type": "code",
      "execution_count": null,
      "metadata": {
        "id": "QY9M-uUs0mwV"
      },
      "outputs": [],
      "source": [
        "import tensorflow.keras\n",
        "from tensorflow.keras.models import Sequential\n",
        "from tensorflow.keras.layers import Dense"
      ]
    },
    {
      "cell_type": "code",
      "execution_count": null,
      "metadata": {
        "id": "cFf_hX7J3Ifx"
      },
      "outputs": [],
      "source": [
        "model=Sequential()\n",
        "model.add(Dense(285,activation='relu',input_dim=285))\n",
        "model.add(Dense(285,activation='relu'))\n",
        "model.add(Dense(1,activation='linear'))"
      ]
    },
    {
      "cell_type": "code",
      "execution_count": null,
      "metadata": {
        "colab": {
          "base_uri": "https://localhost:8080/"
        },
        "id": "XIjXJCp63erK",
        "outputId": "68b93777-89b3-4811-d6b6-e77276db6543"
      },
      "outputs": [
        {
          "name": "stdout",
          "output_type": "stream",
          "text": [
            "Model: \"sequential\"\n",
            "_________________________________________________________________\n",
            "Layer (type)                 Output Shape              Param #   \n",
            "=================================================================\n",
            "dense (Dense)                (None, 285)               81510     \n",
            "_________________________________________________________________\n",
            "dense_1 (Dense)              (None, 285)               81510     \n",
            "_________________________________________________________________\n",
            "dense_2 (Dense)              (None, 1)                 286       \n",
            "=================================================================\n",
            "Total params: 163,306\n",
            "Trainable params: 163,306\n",
            "Non-trainable params: 0\n",
            "_________________________________________________________________\n"
          ]
        }
      ],
      "source": [
        "model.summary()"
      ]
    },
    {
      "cell_type": "code",
      "execution_count": null,
      "metadata": {
        "id": "1-XniFJH3em6"
      },
      "outputs": [],
      "source": [
        "model.compile(optimizer='adam',loss='mean_squared_error')"
      ]
    },
    {
      "cell_type": "code",
      "execution_count": null,
      "metadata": {
        "colab": {
          "base_uri": "https://localhost:8080/"
        },
        "id": "fQ5SHKe13egT",
        "outputId": "16482424-7cc9-4178-a288-38c8e050eafb"
      },
      "outputs": [
        {
          "name": "stdout",
          "output_type": "stream",
          "text": [
            "Epoch 1/25\n",
            "52592/52592 [==============================] - 114s 2ms/step - loss: 3664.1204 - val_loss: 2866.4880\n",
            "Epoch 2/25\n",
            "52592/52592 [==============================] - 120s 2ms/step - loss: 2865.7207 - val_loss: 3101.5139\n",
            "Epoch 3/25\n",
            "52592/52592 [==============================] - 113s 2ms/step - loss: 2700.6711 - val_loss: 2497.6262\n",
            "Epoch 4/25\n",
            "52592/52592 [==============================] - 114s 2ms/step - loss: 2598.9136 - val_loss: 2826.1292\n",
            "Epoch 5/25\n",
            "52592/52592 [==============================] - 134s 3ms/step - loss: 2534.0820 - val_loss: 2458.4724\n",
            "Epoch 6/25\n",
            "52592/52592 [==============================] - 112s 2ms/step - loss: 2484.1125 - val_loss: 2462.6865\n",
            "Epoch 7/25\n",
            "52592/52592 [==============================] - 110s 2ms/step - loss: 2452.8787 - val_loss: 2391.3269\n",
            "Epoch 8/25\n",
            "52592/52592 [==============================] - 115s 2ms/step - loss: 2418.0044 - val_loss: 2557.6492\n",
            "Epoch 9/25\n",
            "52592/52592 [==============================] - 109s 2ms/step - loss: 2401.0728 - val_loss: 2305.5732\n",
            "Epoch 10/25\n",
            "52592/52592 [==============================] - 110s 2ms/step - loss: 2395.1191 - val_loss: 2313.8621\n",
            "Epoch 11/25\n",
            "52592/52592 [==============================] - 106s 2ms/step - loss: 2363.5940 - val_loss: 2392.3206\n",
            "Epoch 12/25\n",
            "52592/52592 [==============================] - 110s 2ms/step - loss: 2348.4604 - val_loss: 2404.6553\n",
            "Epoch 13/25\n",
            "52592/52592 [==============================] - 110s 2ms/step - loss: 2332.9456 - val_loss: 2351.0049\n",
            "Epoch 14/25\n",
            "52592/52592 [==============================] - 113s 2ms/step - loss: 2332.7302 - val_loss: 2563.0996\n",
            "Epoch 15/25\n",
            "52592/52592 [==============================] - 108s 2ms/step - loss: 2311.3511 - val_loss: 2510.4028\n",
            "Epoch 16/25\n",
            "52592/52592 [==============================] - 111s 2ms/step - loss: 2304.2385 - val_loss: 2227.7368\n",
            "Epoch 17/25\n",
            "52592/52592 [==============================] - 111s 2ms/step - loss: 2303.0659 - val_loss: 2253.7104\n",
            "Epoch 18/25\n",
            "52592/52592 [==============================] - 130s 2ms/step - loss: 2287.2708 - val_loss: 2219.4163\n",
            "Epoch 19/25\n",
            "52592/52592 [==============================] - 111s 2ms/step - loss: 2269.9402 - val_loss: 2364.0017\n",
            "Epoch 20/25\n",
            "52592/52592 [==============================] - 111s 2ms/step - loss: 2259.7278 - val_loss: 2278.0054\n",
            "Epoch 21/25\n",
            "52592/52592 [==============================] - 107s 2ms/step - loss: 2252.7688 - val_loss: 2248.1992\n",
            "Epoch 22/25\n",
            "52592/52592 [==============================] - 110s 2ms/step - loss: 2252.4075 - val_loss: 2199.5288\n",
            "Epoch 23/25\n",
            "19839/52592 [==========>...................] - ETA: 52s - loss: 2277.9448"
          ]
        },
        {
          "name": "stderr",
          "output_type": "stream",
          "text": [
            "IOPub message rate exceeded.\n",
            "The notebook server will temporarily stop sending output\n",
            "to the client in order to avoid crashing it.\n",
            "To change this limit, set the config variable\n",
            "`--NotebookApp.iopub_msg_rate_limit`.\n",
            "\n",
            "Current values:\n",
            "NotebookApp.iopub_msg_rate_limit=1000.0 (msgs/sec)\n",
            "NotebookApp.rate_limit_window=3.0 (secs)\n",
            "\n"
          ]
        },
        {
          "name": "stdout",
          "output_type": "stream",
          "text": [
            "52592/52592 [==============================] - 108s 2ms/step - loss: 2234.3022 - val_loss: 2275.8999\n",
            "Epoch 25/25\n",
            "52592/52592 [==============================] - 105s 2ms/step - loss: 2234.5886 - val_loss: 2229.9727\n"
          ]
        }
      ],
      "source": [
        "history=model.fit(x_train,y_train,epochs=25,validation_split=0.3)"
      ]
    },
    {
      "cell_type": "code",
      "execution_count": null,
      "metadata": {
        "id": "WZp_b3_V4M-x"
      },
      "outputs": [],
      "source": [
        "train_pred = model.predict(x_train)\n",
        "test_pred = model.predict(x_test)"
      ]
    },
    {
      "cell_type": "code",
      "execution_count": null,
      "metadata": {
        "colab": {
          "base_uri": "https://localhost:8080/"
        },
        "id": "ZBxfntua3rEE",
        "outputId": "084e8b3f-3b55-4afc-f497-34174eba6d8a"
      },
      "outputs": [
        {
          "name": "stdout",
          "output_type": "stream",
          "text": [
            "Train MSE:  2198.026974334248\n",
            "Train MAE:  21.76747497728294\n",
            "Train RMSE:  46.883120356203335\n",
            "Train R2_score:  0.8993357380873006\n"
          ]
        }
      ],
      "source": [
        "from sklearn import metrics\n",
        "from sklearn.metrics import mean_squared_error\n",
        "from sklearn.metrics import mean_absolute_error\n",
        "from sklearn.metrics import r2_score\n",
        "\n",
        "mse = mean_squared_error(y_train, train_pred)\n",
        "mae = mean_absolute_error(y_train, train_pred)\n",
        "rmse=np.sqrt(mean_squared_error(y_train, train_pred))\n",
        "r2_score=r2_score(y_train, train_pred)\n",
        "print(\"Train MSE: \", mse)\n",
        "print(\"Train MAE: \", mae)\n",
        "print(\"Train RMSE: \", rmse)\n",
        "print(\"Train R2_score: \", r2_score)"
      ]
    },
    {
      "cell_type": "code",
      "execution_count": null,
      "metadata": {
        "colab": {
          "base_uri": "https://localhost:8080/"
        },
        "id": "xIdlv3W_3q_L",
        "outputId": "840f4921-ce9e-4b05-fbd6-71c137eeeb77"
      },
      "outputs": [
        {
          "name": "stdout",
          "output_type": "stream",
          "text": [
            "MSE:  2210.6196995416617\n",
            "MAE:  21.777530950511323\n",
            "RMSE:  47.01722768881277\n",
            "R2 Score:  0.8989302609387788\n"
          ]
        }
      ],
      "source": [
        "from sklearn.metrics import mean_squared_error, mean_absolute_error, r2_score\n",
        "\n",
        "\n",
        "# Assuming `y_test` and `test_pred` are defined\n",
        "mse = mean_squared_error(y_test, test_pred)\n",
        "mae = mean_absolute_error(y_test, test_pred)\n",
        "rmse = np.sqrt(mean_squared_error(y_test, test_pred))\n",
        "r2 = r2_score(y_test, test_pred)\n",
        "\n",
        "print(\"MSE: \", mse)\n",
        "print(\"MAE: \", mae)\n",
        "print(\"RMSE: \", rmse)\n",
        "print(\"R2 Score: \", r2)"
      ]
    },
    {
      "cell_type": "markdown",
      "source": [
        "#hyperparameter tunning by using the grid search"
      ],
      "metadata": {
        "id": "HnuUn_kj7W4X"
      }
    },
    {
      "cell_type": "code",
      "execution_count": null,
      "metadata": {
        "id": "NhLeIqOepr1y"
      },
      "outputs": [],
      "source": [
        "import itertools\n",
        "import random\n",
        "\n",
        "def grid_search(param_grid, X_train, y_train, X_test, y_test):\n",
        "    \"\"\"\n",
        "    Performs a grid search over a specified hyperparameter grid.\n",
        "    \n",
        "    Parameters:\n",
        "        param_grid (dict): A dictionary of hyperparameters to search over. The keys should be \n",
        "            strings indicating the hyperparameter names, and the values should be lists \n",
        "            of possible values for each hyperparameter.\n",
        "        X_train (ndarray): An array of training data.\n",
        "        y_train (ndarray): An array of training labels.\n",
        "        X_val (ndarray): An array of validation data.\n",
        "        y_val (ndarray): An array of validation labels.\n",
        "    \n",
        "    Returns:\n",
        "        best_params (dict): A dictionary of the hyperparameters that achieved the highest validation accuracy.\n",
        "        best_acc (float): The validation accuracy achieved by the best set of hyperparameters.\n",
        "    \"\"\"\n",
        "    param_grid = {'hidden_layer_sizes': [(64,),(128)],\n",
        "                  'activation': ['relu', 'tanh'],\n",
        "                  'learning_rate_init': [0.001, 0.01, 0.1],\n",
        "                  'max_iter': [100, 300, 500]}\n",
        "         \n",
        "    # Generate all possible combinations of hyperparameters\n",
        "    hyperparam_values = list(itertools.product(*param_grid.values()))\n",
        "    hyperparam_keys = list(param_grid.keys())\n",
        "\n",
        "    # Initialize variables to keep track of best hyperparameters and validation accuracy\n",
        "    best_params = None\n",
        "    best_acc = 0.0\n",
        "    best_r2_score = 0.70\n",
        "\n",
        "    # Iterate over all hyperparameter combinations\n",
        "    for hyperparams in hyperparam_values:\n",
        "        # Create a dictionary of hyperparameters\n",
        "        hyperparam_dict = dict(zip(hyperparam_keys, hyperparams))\n",
        "\n",
        "        # Train a model with the current hyperparameters\n",
        "        # (this is where you would train your model, e.g. by calling a function)\n",
        "        # Here, we just print the hyperparameters being tested\n",
        "        print('Testing hyperparameters:', hyperparam_dict)\n",
        "\n",
        "        # Compute the validation accuracy\n",
        "        # (this is where you would compute the accuracy of your model on the validation set)\n",
        "        # Here, we just set the accuracy to a random value between 0 and 1\n",
        "        r2_score = random.uniform(0, 1)\n",
        "\n",
        "        # Update best hyperparameters and validation accuracy\n",
        "        if r2_score > best_r2_score:\n",
        "          best_r2_score = r2_score\n",
        "          best_params = hyperparam_dict\n",
        "\n",
        "    return best_params, best_r2_score\n"
      ]
    },
    {
      "cell_type": "code",
      "execution_count": null,
      "metadata": {
        "id": "jgIc5OKMYTsw"
      },
      "outputs": [],
      "source": [
        "param_grid = {'hidden_layer_sizes': [(64,),(128)],\n",
        "                  'activation': ['relu', 'tanh'],\n",
        "                  'learning_rate_init': [0.001, 0.01, 0.1],\n",
        "                  'max_iter': [100, 300, 500]}"
      ]
    },
    {
      "cell_type": "code",
      "execution_count": null,
      "metadata": {
        "colab": {
          "base_uri": "https://localhost:8080/"
        },
        "id": "zVUbPRpU1R1m",
        "outputId": "934a1d09-68eb-4e34-d218-51cd846760bb"
      },
      "outputs": [
        {
          "name": "stdout",
          "output_type": "stream",
          "text": [
            "Testing hyperparameters: {'hidden_layer_sizes': (64,), 'activation': 'relu', 'learning_rate_init': 0.001, 'max_iter': 100}\n",
            "Testing hyperparameters: {'hidden_layer_sizes': (64,), 'activation': 'relu', 'learning_rate_init': 0.001, 'max_iter': 300}\n",
            "Testing hyperparameters: {'hidden_layer_sizes': (64,), 'activation': 'relu', 'learning_rate_init': 0.001, 'max_iter': 500}\n",
            "Testing hyperparameters: {'hidden_layer_sizes': (64,), 'activation': 'relu', 'learning_rate_init': 0.01, 'max_iter': 100}\n",
            "Testing hyperparameters: {'hidden_layer_sizes': (64,), 'activation': 'relu', 'learning_rate_init': 0.01, 'max_iter': 300}\n",
            "Testing hyperparameters: {'hidden_layer_sizes': (64,), 'activation': 'relu', 'learning_rate_init': 0.01, 'max_iter': 500}\n",
            "Testing hyperparameters: {'hidden_layer_sizes': (64,), 'activation': 'relu', 'learning_rate_init': 0.1, 'max_iter': 100}\n",
            "Testing hyperparameters: {'hidden_layer_sizes': (64,), 'activation': 'relu', 'learning_rate_init': 0.1, 'max_iter': 300}\n",
            "Testing hyperparameters: {'hidden_layer_sizes': (64,), 'activation': 'relu', 'learning_rate_init': 0.1, 'max_iter': 500}\n",
            "Testing hyperparameters: {'hidden_layer_sizes': (64,), 'activation': 'tanh', 'learning_rate_init': 0.001, 'max_iter': 100}\n",
            "Testing hyperparameters: {'hidden_layer_sizes': (64,), 'activation': 'tanh', 'learning_rate_init': 0.001, 'max_iter': 300}\n",
            "Testing hyperparameters: {'hidden_layer_sizes': (64,), 'activation': 'tanh', 'learning_rate_init': 0.001, 'max_iter': 500}\n",
            "Testing hyperparameters: {'hidden_layer_sizes': (64,), 'activation': 'tanh', 'learning_rate_init': 0.01, 'max_iter': 100}\n",
            "Testing hyperparameters: {'hidden_layer_sizes': (64,), 'activation': 'tanh', 'learning_rate_init': 0.01, 'max_iter': 300}\n",
            "Testing hyperparameters: {'hidden_layer_sizes': (64,), 'activation': 'tanh', 'learning_rate_init': 0.01, 'max_iter': 500}\n",
            "Testing hyperparameters: {'hidden_layer_sizes': (64,), 'activation': 'tanh', 'learning_rate_init': 0.1, 'max_iter': 100}\n",
            "Testing hyperparameters: {'hidden_layer_sizes': (64,), 'activation': 'tanh', 'learning_rate_init': 0.1, 'max_iter': 300}\n",
            "Testing hyperparameters: {'hidden_layer_sizes': (64,), 'activation': 'tanh', 'learning_rate_init': 0.1, 'max_iter': 500}\n",
            "Testing hyperparameters: {'hidden_layer_sizes': 128, 'activation': 'relu', 'learning_rate_init': 0.001, 'max_iter': 100}\n",
            "Testing hyperparameters: {'hidden_layer_sizes': 128, 'activation': 'relu', 'learning_rate_init': 0.001, 'max_iter': 300}\n",
            "Testing hyperparameters: {'hidden_layer_sizes': 128, 'activation': 'relu', 'learning_rate_init': 0.001, 'max_iter': 500}\n",
            "Testing hyperparameters: {'hidden_layer_sizes': 128, 'activation': 'relu', 'learning_rate_init': 0.01, 'max_iter': 100}\n",
            "Testing hyperparameters: {'hidden_layer_sizes': 128, 'activation': 'relu', 'learning_rate_init': 0.01, 'max_iter': 300}\n",
            "Testing hyperparameters: {'hidden_layer_sizes': 128, 'activation': 'relu', 'learning_rate_init': 0.01, 'max_iter': 500}\n",
            "Testing hyperparameters: {'hidden_layer_sizes': 128, 'activation': 'relu', 'learning_rate_init': 0.1, 'max_iter': 100}\n",
            "Testing hyperparameters: {'hidden_layer_sizes': 128, 'activation': 'relu', 'learning_rate_init': 0.1, 'max_iter': 300}\n",
            "Testing hyperparameters: {'hidden_layer_sizes': 128, 'activation': 'relu', 'learning_rate_init': 0.1, 'max_iter': 500}\n",
            "Testing hyperparameters: {'hidden_layer_sizes': 128, 'activation': 'tanh', 'learning_rate_init': 0.001, 'max_iter': 100}\n",
            "Testing hyperparameters: {'hidden_layer_sizes': 128, 'activation': 'tanh', 'learning_rate_init': 0.001, 'max_iter': 300}\n",
            "Testing hyperparameters: {'hidden_layer_sizes': 128, 'activation': 'tanh', 'learning_rate_init': 0.001, 'max_iter': 500}\n",
            "Testing hyperparameters: {'hidden_layer_sizes': 128, 'activation': 'tanh', 'learning_rate_init': 0.01, 'max_iter': 100}\n",
            "Testing hyperparameters: {'hidden_layer_sizes': 128, 'activation': 'tanh', 'learning_rate_init': 0.01, 'max_iter': 300}\n",
            "Testing hyperparameters: {'hidden_layer_sizes': 128, 'activation': 'tanh', 'learning_rate_init': 0.01, 'max_iter': 500}\n",
            "Testing hyperparameters: {'hidden_layer_sizes': 128, 'activation': 'tanh', 'learning_rate_init': 0.1, 'max_iter': 100}\n",
            "Testing hyperparameters: {'hidden_layer_sizes': 128, 'activation': 'tanh', 'learning_rate_init': 0.1, 'max_iter': 300}\n",
            "Testing hyperparameters: {'hidden_layer_sizes': 128, 'activation': 'tanh', 'learning_rate_init': 0.1, 'max_iter': 500}\n"
          ]
        },
        {
          "data": {
            "text/plain": [
              "({'hidden_layer_sizes': (64,),\n",
              "  'activation': 'tanh',\n",
              "  'learning_rate_init': 0.1,\n",
              "  'max_iter': 500},\n",
              " 0.9980905461013941)"
            ]
          },
          "execution_count": 82,
          "metadata": {},
          "output_type": "execute_result"
        }
      ],
      "source": [
        "grid_search(param_grid, x_train, y_train, x_test, y_test)"
      ]
    },
    {
      "cell_type": "code",
      "execution_count": null,
      "metadata": {
        "id": "o9WmBtK65eba"
      },
      "outputs": [],
      "source": [
        "from sklearn.model_selection import GridSearchCV\n",
        "from sklearn.neural_network import MLPRegressor\n",
        "from sklearn.datasets import make_regression"
      ]
    },
    {
      "cell_type": "code",
      "execution_count": null,
      "metadata": {
        "id": "CvgD5OTc5Ay4"
      },
      "outputs": [],
      "source": [
        "besthp=MLPRegressor(hidden_layer_sizes=(64,), activation='tanh', learning_rate_init=0.1, max_iter=500, random_state=1234)"
      ]
    },
    {
      "cell_type": "code",
      "execution_count": null,
      "metadata": {
        "colab": {
          "base_uri": "https://localhost:8080/",
          "height": 147
        },
        "id": "efL6rw7A5Ap6",
        "outputId": "0698fc4a-8c74-4fe2-8b60-7a64a9ad7e70"
      },
      "outputs": [
        {
          "data": {
            "text/plain": [
              "MLPRegressor(activation='tanh', hidden_layer_sizes=(64,),\n",
              "             learning_rate_init=0.1, max_iter=500, random_state=1234)"
            ]
          },
          "execution_count": 85,
          "metadata": {},
          "output_type": "execute_result"
        }
      ],
      "source": [
        "besthp.fit(x_train,y_train.ravel())"
      ]
    },
    {
      "cell_type": "code",
      "execution_count": null,
      "metadata": {
        "id": "dGPuynIK5AlL"
      },
      "outputs": [],
      "source": [
        "train_pred_bhp = besthp.predict(x_train)\n",
        "test_pred_bhp = besthp.predict(x_test)"
      ]
    },
    {
      "cell_type": "code",
      "execution_count": null,
      "metadata": {
        "id": "jgmu25kr5Agq"
      },
      "outputs": [],
      "source": [
        "from sklearn import metrics\n",
        "from sklearn.metrics import mean_squared_error\n",
        "from sklearn.metrics import mean_absolute_error\n",
        "from sklearn.metrics import r2_score"
      ]
    },
    {
      "cell_type": "code",
      "execution_count": null,
      "metadata": {
        "colab": {
          "base_uri": "https://localhost:8080/"
        },
        "id": "jgjxlGeV5Acr",
        "outputId": "f92605b7-4272-4781-b963-95792c1137ca"
      },
      "outputs": [
        {
          "name": "stdout",
          "output_type": "stream",
          "text": [
            "Train MSE:  11872.355678116293\n",
            "Train MAE:  67.81073105539026\n",
            "Train RMSE:  108.96033993208856\n",
            "Train r2_score:  0.45627513426462474\n"
          ]
        }
      ],
      "source": [
        "mse = mean_squared_error(y_train, train_pred_bhp)\n",
        "mae = mean_absolute_error(y_train, train_pred_bhp)\n",
        "rmse=np.sqrt(mean_squared_error(y_train, train_pred_bhp))\n",
        "r2_score=r2_score(y_train, train_pred_bhp)\n",
        "print(\"Train MSE: \", mse)\n",
        "print(\"Train MAE: \", mae)\n",
        "print(\"Train RMSE: \", rmse)\n",
        "print(\"Train r2_score: \", r2_score)"
      ]
    },
    {
      "cell_type": "code",
      "execution_count": null,
      "metadata": {
        "colab": {
          "base_uri": "https://localhost:8080/"
        },
        "id": "TwKHr1cs5ANm",
        "outputId": "4393a24b-11c5-4fc7-9591-59bf0a39a1d9"
      },
      "outputs": [
        {
          "name": "stdout",
          "output_type": "stream",
          "text": [
            "MSE:  11877.022113277295\n",
            "MAE:  67.84264787121599\n",
            "RMSE:  108.9817512856042\n",
            "R2 Score:  0.4569814400630846\n"
          ]
        }
      ],
      "source": [
        "from sklearn.metrics import mean_squared_error, mean_absolute_error, r2_score\n",
        "mse = mean_squared_error(y_test, test_pred_bhp)\n",
        "mae = mean_absolute_error(y_test, test_pred_bhp)\n",
        "rmse = np.sqrt(mean_squared_error(y_test, test_pred_bhp))\n",
        "r2 = r2_score(y_test, test_pred_bhp)\n",
        "\n",
        "print(\"MSE: \", mse)\n",
        "print(\"MAE: \", mae)\n",
        "print(\"RMSE: \", rmse)\n",
        "print(\"R2 Score: \", r2)"
      ]
    },
    {
      "cell_type": "code",
      "execution_count": null,
      "metadata": {
        "colab": {
          "base_uri": "https://localhost:8080/"
        },
        "id": "SNuOCEQa7nhT",
        "outputId": "43eb0eb4-9797-45e8-ec0f-5c97ed87b166"
      },
      "outputs": [
        {
          "data": {
            "text/plain": [
              "array([[ 0.,  0.,  0., ..., 11., 25.,  4.],\n",
              "       [ 0.,  0.,  0., ...,  6.,  6., 23.],\n",
              "       [ 0.,  0.,  0., ...,  5., 28.,  8.],\n",
              "       ...,\n",
              "       [ 0.,  0.,  0., ...,  4., 17.,  6.],\n",
              "       [ 0.,  0.,  0., ...,  7.,  6., 14.],\n",
              "       [ 0.,  0.,  0., ...,  5.,  6.,  0.]])"
            ]
          },
          "execution_count": 90,
          "metadata": {},
          "output_type": "execute_result"
        }
      ],
      "source": [
        "x_test"
      ]
    },
    {
      "cell_type": "code",
      "execution_count": null,
      "metadata": {
        "id": "z3NdoZiq-lt_"
      },
      "outputs": [],
      "source": [
        "x=x_test"
      ]
    },
    {
      "cell_type": "code",
      "execution_count": null,
      "metadata": {
        "id": "v410y-se70B5"
      },
      "outputs": [],
      "source": [
        "pred_test=x"
      ]
    },
    {
      "cell_type": "markdown",
      "source": [
        "getting the predictions by using the model"
      ],
      "metadata": {
        "id": "WzzQtVfK7rJ6"
      }
    },
    {
      "cell_type": "code",
      "execution_count": null,
      "metadata": {
        "id": "yDhKxs0l66qU"
      },
      "outputs": [],
      "source": [
        "test_predictions=model.predict(pred_test)"
      ]
    },
    {
      "cell_type": "code",
      "execution_count": null,
      "metadata": {
        "colab": {
          "base_uri": "https://localhost:8080/"
        },
        "id": "ZPv3GJr_66ld",
        "outputId": "70cfebbc-b3b9-467d-c9c9-4c1b61d476ac"
      },
      "outputs": [
        {
          "data": {
            "text/plain": [
              "array([[234.32394  ],\n",
              "       [  1.1902542],\n",
              "       [340.23996  ],\n",
              "       ...,\n",
              "       [245.0674   ],\n",
              "       [ 75.80844  ],\n",
              "       [253.00764  ]], dtype=float32)"
            ]
          },
          "execution_count": 95,
          "metadata": {},
          "output_type": "execute_result"
        }
      ],
      "source": [
        "\n",
        "test_predictions"
      ]
    },
    {
      "cell_type": "code",
      "execution_count": null,
      "metadata": {
        "id": "SckaXdia66cU"
      },
      "outputs": [],
      "source": [
        "predictions= pd.DataFrame(test_predictions)"
      ]
    },
    {
      "cell_type": "markdown",
      "metadata": {
        "id": "Do1Vr0YkwFYy"
      },
      "source": [
        "# 2 Implementing a Activation Function\n",
        "We will use relu activation function because it outputs the values from  0 to 1 so its a good choice for a regression problem"
      ]
    },
    {
      "cell_type": "code",
      "execution_count": null,
      "metadata": {
        "id": "srZoxiyS93ox"
      },
      "outputs": [],
      "source": [
        "def relu(z):\n",
        "    return np.maximum(0, z)"
      ]
    },
    {
      "cell_type": "markdown",
      "metadata": {
        "id": "QjQeIDoCpy-_"
      },
      "source": [
        "**3 Define Neural Network Architecture\n",
        "Create a model with three layers - Input, Hidden, Output.**"
      ]
    },
    {
      "cell_type": "code",
      "execution_count": null,
      "metadata": {
        "id": "dyub7p1Upxhf"
      },
      "outputs": [],
      "source": [
        "def network_architecture(X, Y):\n",
        "    # nodes in input layer\n",
        "    n_x = X.shape[1]\n",
        "    # nodes in hidden layer\n",
        "    n_h = 67          \n",
        "    # nodes in output layer\n",
        "    n_y = 1\n",
        "    return (n_x, n_h, n_y)"
      ]
    },
    {
      "cell_type": "code",
      "execution_count": null,
      "metadata": {
        "id": "qCxVrJze09BB"
      },
      "outputs": [],
      "source": [
        "network_architecture(X, Y)"
      ]
    },
    {
      "cell_type": "markdown",
      "metadata": {
        "id": "KAbxPf_Btghw"
      },
      "source": [
        "# 4 Define Neural Network Parameters\n",
        "Neural Network parameters are weights and bias which we need to initialze with zero values. The first layer only contains inputs so there are no weights and bias, but the hidden layer and the output layer have a weight and bias term. (W1, b1 and W2, b2)"
      ]
    },
    {
      "cell_type": "code",
      "execution_count": null,
      "metadata": {
        "id": "0sroTA7_tZKz"
      },
      "outputs": [],
      "source": [
        "def define_network_parameters(n_x, n_h, n_y):\n",
        "    W1 = np.random.randn(n_h,n_x) * 0.01 # random initialization\n",
        "    b1 = np.zeros((n_h, 1)) # zero initialization\n",
        "    W2 = np.random.randn(n_y,n_h) * 0.01 \n",
        "    b2 = np.zeros((n_y, 1)) \n",
        "    return {\"W1\": W1, \"b1\": b1, \"W2\": W2, \"b2\": b2}"
      ]
    },
    {
      "cell_type": "code",
      "execution_count": null,
      "metadata": {
        "id": "lqVGaYU_0t8g"
      },
      "outputs": [],
      "source": [
        "# q=define_network_parameters(n_x, n_h, n_y)"
      ]
    },
    {
      "cell_type": "markdown",
      "metadata": {
        "id": "9yAUq07qvbG1"
      },
      "source": [
        "# 5 Implement Forward Propagation\n",
        "The hidden layer and output layer will compute the activations using sigmoid activation function and will pass it in the forward direction. While computing this activation, the input is multiplied with weight and added with bias before passing it to the function."
      ]
    },
    {
      "cell_type": "code",
      "execution_count": null,
      "metadata": {
        "id": "efA98ZvvveGU"
      },
      "outputs": [],
      "source": [
        "def forward_propagation(X, params):\n",
        "    Z1 = np.dot(params['W1'], X)+params['b1']\n",
        "    A1 = relu(Z1)\n",
        "\n",
        "    Z2 = np.dot(params['W2'], A1)+params['b2']\n",
        "    A2 = relu(Z2)\n",
        "    return {\"Z1\": Z1, \"A1\": A1, \"Z2\": Z2, \"A2\": A2}   \n",
        "    "
      ]
    },
    {
      "cell_type": "markdown",
      "metadata": {
        "id": "Z1yRgE0IxSlT"
      },
      "source": [
        "# 6 Compute the Network Error\n",
        "To compute the cost, one straight forward approach is to compute the absolute error among prediction and actual value. \n",
        "\n",
        "\n",
        "**Mean Absolute Error** (MAE) is the mean of the absolute value of the errors:\n",
        "\n",
        "$$\\frac 1n\\sum_{i=1}^n|y_i-\\hat{y}_i|$$"
      ]
    },
    {
      "cell_type": "code",
      "execution_count": null,
      "metadata": {
        "id": "f0ErEl7ex1Ug"
      },
      "outputs": [],
      "source": [
        "def mean_absolute_error(Y, A2):\n",
        "                    return np.mean(np.abs(Y - A2))"
      ]
    },
    {
      "cell_type": "markdown",
      "metadata": {
        "id": "odDKOgPaz64T"
      },
      "source": [
        "# 7 Implement Backward Propagation\n",
        "In backward propagation function, the error is passed backward to previous layers and the derivatives of weights and bias are computed. The weights and bias are then updated using the derivatives."
      ]
    },
    {
      "cell_type": "code",
      "execution_count": null,
      "metadata": {
        "id": "tmo1IOFpx1IL"
      },
      "outputs": [],
      "source": [
        "def backward_propagation(params, activations, X, Y):\n",
        "    m = X.shape[1]\n",
        "    \n",
        "    # output layer\n",
        "    dZ2 = activations['A2'] - Y # compute the error derivative \n",
        "    dW2 = np.dot(dZ2, activations['A1'].T) / m # compute the weight derivative \n",
        "    db2 = np.sum(dZ2, axis=1, keepdims=True)/m # compute the bias derivative\n",
        "    \n",
        "    # hidden layer\n",
        "    dZ1 = np.dot(params['W2'].T, dZ2)*(1-np.power(activations['A1'], 2))\n",
        "    dW1 = np.dot(dZ1, X.T)/m\n",
        "    db1 = np.sum(dZ1, axis=1,keepdims=True)/m\n",
        "    \n",
        "    return {\"dW1\": dW1, \"db1\": db1, \"dW2\": dW2, \"db2\": db2}\n",
        "\n",
        "def update_parameters(params, derivatives, alpha = 1.2):\n",
        "    # alpha is the model's learning rate \n",
        "    \n",
        "    params['W1'] = params['W1'] - alpha * derivatives['dW1']\n",
        "    params['b1'] = params['b1'] - alpha * derivatives['db1']\n",
        "    params['W2'] = params['W2'] - alpha * derivatives['dW2']\n",
        "    params['b2'] = params['b2'] - alpha * derivatives['db2']\n",
        "    return params"
      ]
    },
    {
      "cell_type": "markdown",
      "metadata": {
        "id": "fcePZpZ80xkS"
      },
      "source": [
        "# 8 Compile and Train the Model\n",
        "Create a function which compiles all the key functions and creates a neural network model."
      ]
    },
    {
      "cell_type": "code",
      "execution_count": null,
      "metadata": {
        "id": "RYtxOcMv0p1t"
      },
      "outputs": [],
      "source": [
        "def neural_network(X, Y, n_h, num_iterations=100):\n",
        "    n_x = network_architecture(X, Y)[0]\n",
        "    n_y = network_architecture(X, Y)[2]\n",
        "    \n",
        "    params = define_network_parameters(n_x, n_h, n_y)\n",
        "    for i in range(0, num_iterations):\n",
        "        results = forward_propagation(X, params)\n",
        "        error = mean_absolute_error(results['A2'], Y)\n",
        "        print(error)\n",
        "        derivatives = backward_propagation(params, results, X, Y) \n",
        "        params = update_parameters(params, derivatives, alpha=1.2) \n",
        "        #print(params)\n",
        "    return params"
      ]
    },
    {
      "cell_type": "code",
      "execution_count": null,
      "metadata": {
        "id": "y9lNevzh0jPj"
      },
      "outputs": [],
      "source": [
        "x = X.reshape(X.shape[1], X.shape[0])\n",
        "y = Y.values.reshape(Y.shape[0],1)"
      ]
    },
    {
      "cell_type": "code",
      "execution_count": null,
      "metadata": {
        "id": "ozGGflqa8l2h"
      },
      "outputs": [],
      "source": [
        "X.shape[1]"
      ]
    },
    {
      "cell_type": "code",
      "execution_count": null,
      "metadata": {
        "id": "blvjIIy78qM5"
      },
      "outputs": [],
      "source": [
        "X.shape[0]"
      ]
    },
    {
      "cell_type": "code",
      "execution_count": null,
      "metadata": {
        "id": "1JevKkdtE8Ln"
      },
      "outputs": [],
      "source": [
        "x.reshape"
      ]
    },
    {
      "cell_type": "code",
      "execution_count": null,
      "metadata": {
        "id": "9F6E4UDW2rpw"
      },
      "outputs": [],
      "source": [
        "y.shape"
      ]
    },
    {
      "cell_type": "code",
      "execution_count": null,
      "metadata": {
        "id": "cVJlKFtLFDIk"
      },
      "outputs": [],
      "source": [
        "model = neural_network(x, y, n_h=1, num_iterations=5)"
      ]
    },
    {
      "cell_type": "code",
      "execution_count": null,
      "metadata": {
        "id": "y-xI6_c593pE"
      },
      "outputs": [],
      "source": [
        "def predict(parameters, X):\n",
        "    results = forward_propagation(X, parameters)\n",
        "    print (results['A2'][0])\n",
        "    predictions = np.around(results['A2'])\n",
        "    print(predictions)\n",
        "    return predictions\n"
      ]
    },
    {
      "cell_type": "code",
      "execution_count": null,
      "metadata": {
        "id": "SZOWCO2-93pE"
      },
      "outputs": [],
      "source": [
        "X.shape"
      ]
    },
    {
      "cell_type": "code",
      "execution_count": null,
      "metadata": {
        "id": "RL6oFpYP93pH"
      },
      "outputs": [],
      "source": [
        "predictions = predict(model, X.T)\n",
        "r_squared_score = (np.dot(X.T, predictions) + np.dot(1-X.T, 1-predictions)) / float(y.size) * 100\n"
      ]
    },
    {
      "cell_type": "code",
      "execution_count": null,
      "metadata": {
        "id": "eWj-tPbZ93pJ"
      },
      "outputs": [],
      "source": [
        "print('R^2_score:' , r_squared_score)"
      ]
    },
    {
      "cell_type": "code",
      "execution_count": null,
      "metadata": {
        "id": "iimiz8uW93pK"
      },
      "outputs": [],
      "source": [
        "te=test.reshape(test.shape[0],test.shape[1])\n",
        "te.shape\n",
        "                  "
      ]
    },
    {
      "cell_type": "code",
      "execution_count": null,
      "metadata": {
        "id": "xHbXkx7v93pL"
      },
      "outputs": [],
      "source": [
        " predictions = predict(model, te.T)\n",
        " r_squared_score = (np.dot(y.T, predictions) + np.dot(1-y.T, 1-predictions)) / float(y.size) * 100\n"
      ]
    },
    {
      "cell_type": "code",
      "execution_count": null,
      "metadata": {
        "id": "9zvpaUzl93pL"
      },
      "outputs": [],
      "source": [
        " print('R^2_score:' , r_squared_score)"
      ]
    },
    {
      "cell_type": "code",
      "execution_count": null,
      "metadata": {
        "id": "yaHL6l8b93pO"
      },
      "outputs": [],
      "source": [
        "train_pred_bhp = besthp.predict(x_train)\n",
        "test_pred_bhp = besthp.predict(x_test) "
      ]
    },
    {
      "cell_type": "code",
      "execution_count": null,
      "metadata": {
        "id": "Lyi_PccECF7T"
      },
      "outputs": [],
      "source": [
        "from sklearn import metrics\n",
        "from sklearn.metrics import mean_squared_error\n",
        "from sklearn.metrics import mean_absolute_error\n",
        "from sklearn.metrics import r2_score"
      ]
    },
    {
      "cell_type": "code",
      "execution_count": null,
      "metadata": {
        "id": "ix_EHd0qCfSP"
      },
      "outputs": [],
      "source": [
        "mse = mean_squared_error(y_train, train_pred_bhp)\n",
        "mae = mean_absolute_error(y_train, train_pred_bhp)\n",
        "rmse=np.sqrt(mean_squared_error(y_train, train_pred_bhp))\n",
        "r2_score=r2_score(y_train, train_pred_bhp)\n",
        "print(\"Train MSE: \", mse)\n",
        "print(\"Train MAE: \", mae)\n",
        "print(\"Train RMSE: \", rmse)\n",
        "print(\"Train r2_score: \", r2_score)"
      ]
    },
    {
      "cell_type": "code",
      "execution_count": null,
      "metadata": {
        "id": "ETCJCDvyCiNd"
      },
      "outputs": [],
      "source": [
        "from sklearn.metrics import mean_squared_error, mean_absolute_error, r2_score\n",
        "mse = mean_squared_error(y_test, test_pred_bhp)\n",
        "mae = mean_absolute_error(y_test, test_pred_bhp)\n",
        "rmse = np.sqrt(mean_squared_error(y_test, test_pred_bhp))\n",
        "r2 = r2_score(y_test, test_pred_bhp)\n",
        "\n",
        "print(\"MSE: \", mse)\n",
        "print(\"MAE: \", mae)\n",
        "print(\"RMSE: \", rmse)\n",
        "print(\"R2 Score: \", r2)"
      ]
    },
    {
      "cell_type": "code",
      "execution_count": null,
      "metadata": {
        "id": "TpMmp7zzCmYJ"
      },
      "outputs": [],
      "source": []
    }
  ],
  "metadata": {
    "colab": {
      "provenance": []
    },
    "kernelspec": {
      "display_name": "Python 3",
      "language": "python",
      "name": "python3"
    },
    "language_info": {
      "codemirror_mode": {
        "name": "ipython",
        "version": 3
      },
      "file_extension": ".py",
      "mimetype": "text/x-python",
      "name": "python",
      "nbconvert_exporter": "python",
      "pygments_lexer": "ipython3",
      "version": "3.7.6"
    }
  },
  "nbformat": 4,
  "nbformat_minor": 0
}