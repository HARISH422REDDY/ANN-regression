{
  "cells": [
    {
      "cell_type": "markdown",
      "source": [
        "# problem statement\n",
        "This data was scraped from publicly available results posted every week from Domain.com.au, I've cleaned it as best I can, now it's up to you to make data analysis magic. The dataset includes Address, Type of Real estate, Suburb, Method of Selling, Rooms, Price, Real Estate Agent, Date of Sale and distance from C.B.D.\n",
        "\n",
        "â€¦.Now with extra data including property size, land size, and council area, you may need to change your code!\n",
        "\n",
        "Attribute info\n",
        "\n",
        "Suburb: Suburb\n",
        "\n",
        "Address: Address\n",
        "\n",
        "Rooms: Number of rooms\n",
        "\n",
        "Price: Price in Australian dollars\n",
        "\n",
        "Method:\n",
        "S - property sold;\n",
        "SP - property sold prior;\n",
        "PI - property passed in;\n",
        "PN - sold prior not disclosed;\n",
        "SN - sold not disclosed;\n",
        "NB - no bid;\n",
        "VB - vendor bid;\n",
        "W - withdrawn prior to auction;\n",
        "SA - sold after auction;\n",
        "SS - sold after auction price not disclosed.\n",
        "N/A - price or highest bid not available.\n",
        "\n",
        "Type:\n",
        "br - bedroom(s);\n",
        "h - house,cottage,villa, semi,terrace;\n",
        "u - unit, duplex;\n",
        "t - townhouse;\n",
        "dev site - development site;\n",
        "o res - other residential.\n",
        "\n",
        "SellerG: Real Estate Agent\n",
        "\n",
        "Date: Date sold\n",
        "\n",
        "Distance: Distance from CBD in Kilometres\n",
        "\n",
        "Regionname: General Region (West, North West, North, North east â€¦etc)\n",
        "\n",
        "Propertycount: Number of properties that exist in the suburb.\n",
        "\n",
        "Bedroom2 : Scraped # of Bedrooms (from different source)\n",
        "\n",
        "Bathroom: Number of Bathrooms\n",
        "\n",
        "Car: Number of carspots\n",
        "\n",
        "Landsize: Land Size in Metres\n",
        "\n",
        "BuildingArea: Building Size in Metres\n",
        "\n",
        "YearBuilt: Year the house was built\n",
        "\n",
        "CouncilArea: Governing council for the area\n",
        "\n",
        "Lattitude: Self explanitory\n",
        "\n",
        "Longtitude: Self explanitory"
      ],
      "metadata": {
        "id": "VRMYct6dohWI"
      }
    },
    {
      "cell_type": "markdown",
      "source": [
        "# importing libraries "
      ],
      "metadata": {
        "id": "Tf0Gz5m1pVVB"
      }
    },
    {
      "cell_type": "code",
      "execution_count": null,
      "metadata": {
        "id": "ir14UEiBupt6"
      },
      "outputs": [],
      "source": [
        "import numpy as np\n",
        "import pandas as pd\n",
        "import matplotlib.pyplot as plt\n",
        "import seaborn as sns"
      ]
    },
    {
      "cell_type": "markdown",
      "source": [
        "# load the data"
      ],
      "metadata": {
        "id": "WEfjRG3-padx"
      }
    },
    {
      "cell_type": "code",
      "execution_count": null,
      "metadata": {
        "colab": {
          "base_uri": "https://localhost:8080/"
        },
        "id": "6a-Upsl5vmC8",
        "outputId": "7df51296-e658-4114-98df-7d56fee0179a"
      },
      "outputs": [
        {
          "name": "stdout",
          "output_type": "stream",
          "text": [
            "(63023, 13)\n",
            "(34857, 21)\n"
          ]
        }
      ],
      "source": [
        "file1=pd.read_csv(\"MELBOURNE_HOUSE_PRICES_LESS.csv\")\n",
        "file2=pd.read_csv(\"Melbourne_housing_FULL.csv\")\n",
        "print(file1.shape)\n",
        "print(file2.shape)\n"
      ]
    },
    {
      "cell_type": "code",
      "execution_count": null,
      "metadata": {
        "colab": {
          "base_uri": "https://localhost:8080/",
          "height": 206
        },
        "id": "FfDRGotC24zZ",
        "outputId": "2a8cc10f-d48e-43ca-e206-37b1af193db6"
      },
      "outputs": [
        {
          "data": {
            "text/html": [
              "<div>\n",
              "<style scoped>\n",
              "    .dataframe tbody tr th:only-of-type {\n",
              "        vertical-align: middle;\n",
              "    }\n",
              "\n",
              "    .dataframe tbody tr th {\n",
              "        vertical-align: top;\n",
              "    }\n",
              "\n",
              "    .dataframe thead th {\n",
              "        text-align: right;\n",
              "    }\n",
              "</style>\n",
              "<table border=\"1\" class=\"dataframe\">\n",
              "  <thead>\n",
              "    <tr style=\"text-align: right;\">\n",
              "      <th></th>\n",
              "      <th>Suburb</th>\n",
              "      <th>Address</th>\n",
              "      <th>Rooms</th>\n",
              "      <th>Type</th>\n",
              "      <th>Price</th>\n",
              "      <th>Method</th>\n",
              "      <th>SellerG</th>\n",
              "      <th>Date</th>\n",
              "      <th>Postcode</th>\n",
              "      <th>Regionname</th>\n",
              "      <th>Propertycount</th>\n",
              "      <th>Distance</th>\n",
              "      <th>CouncilArea</th>\n",
              "    </tr>\n",
              "  </thead>\n",
              "  <tbody>\n",
              "    <tr>\n",
              "      <th>0</th>\n",
              "      <td>Abbotsford</td>\n",
              "      <td>49 Lithgow St</td>\n",
              "      <td>3</td>\n",
              "      <td>h</td>\n",
              "      <td>1490000.0</td>\n",
              "      <td>S</td>\n",
              "      <td>Jellis</td>\n",
              "      <td>1/04/2017</td>\n",
              "      <td>3067</td>\n",
              "      <td>Northern Metropolitan</td>\n",
              "      <td>4019</td>\n",
              "      <td>3.0</td>\n",
              "      <td>Yarra City Council</td>\n",
              "    </tr>\n",
              "    <tr>\n",
              "      <th>1</th>\n",
              "      <td>Abbotsford</td>\n",
              "      <td>59A Turner St</td>\n",
              "      <td>3</td>\n",
              "      <td>h</td>\n",
              "      <td>1220000.0</td>\n",
              "      <td>S</td>\n",
              "      <td>Marshall</td>\n",
              "      <td>1/04/2017</td>\n",
              "      <td>3067</td>\n",
              "      <td>Northern Metropolitan</td>\n",
              "      <td>4019</td>\n",
              "      <td>3.0</td>\n",
              "      <td>Yarra City Council</td>\n",
              "    </tr>\n",
              "    <tr>\n",
              "      <th>2</th>\n",
              "      <td>Abbotsford</td>\n",
              "      <td>119B Yarra St</td>\n",
              "      <td>3</td>\n",
              "      <td>h</td>\n",
              "      <td>1420000.0</td>\n",
              "      <td>S</td>\n",
              "      <td>Nelson</td>\n",
              "      <td>1/04/2017</td>\n",
              "      <td>3067</td>\n",
              "      <td>Northern Metropolitan</td>\n",
              "      <td>4019</td>\n",
              "      <td>3.0</td>\n",
              "      <td>Yarra City Council</td>\n",
              "    </tr>\n",
              "    <tr>\n",
              "      <th>3</th>\n",
              "      <td>Aberfeldie</td>\n",
              "      <td>68 Vida St</td>\n",
              "      <td>3</td>\n",
              "      <td>h</td>\n",
              "      <td>1515000.0</td>\n",
              "      <td>S</td>\n",
              "      <td>Barry</td>\n",
              "      <td>1/04/2017</td>\n",
              "      <td>3040</td>\n",
              "      <td>Western Metropolitan</td>\n",
              "      <td>1543</td>\n",
              "      <td>7.5</td>\n",
              "      <td>Moonee Valley City Council</td>\n",
              "    </tr>\n",
              "    <tr>\n",
              "      <th>4</th>\n",
              "      <td>Airport West</td>\n",
              "      <td>92 Clydesdale Rd</td>\n",
              "      <td>2</td>\n",
              "      <td>h</td>\n",
              "      <td>670000.0</td>\n",
              "      <td>S</td>\n",
              "      <td>Nelson</td>\n",
              "      <td>1/04/2017</td>\n",
              "      <td>3042</td>\n",
              "      <td>Western Metropolitan</td>\n",
              "      <td>3464</td>\n",
              "      <td>10.4</td>\n",
              "      <td>Moonee Valley City Council</td>\n",
              "    </tr>\n",
              "  </tbody>\n",
              "</table>\n",
              "</div>"
            ],
            "text/plain": [
              "         Suburb           Address  Rooms Type      Price Method   SellerG  \\\n",
              "0    Abbotsford     49 Lithgow St      3    h  1490000.0      S    Jellis   \n",
              "1    Abbotsford     59A Turner St      3    h  1220000.0      S  Marshall   \n",
              "2    Abbotsford     119B Yarra St      3    h  1420000.0      S    Nelson   \n",
              "3    Aberfeldie        68 Vida St      3    h  1515000.0      S     Barry   \n",
              "4  Airport West  92 Clydesdale Rd      2    h   670000.0      S    Nelson   \n",
              "\n",
              "        Date  Postcode             Regionname  Propertycount  Distance  \\\n",
              "0  1/04/2017      3067  Northern Metropolitan           4019       3.0   \n",
              "1  1/04/2017      3067  Northern Metropolitan           4019       3.0   \n",
              "2  1/04/2017      3067  Northern Metropolitan           4019       3.0   \n",
              "3  1/04/2017      3040   Western Metropolitan           1543       7.5   \n",
              "4  1/04/2017      3042   Western Metropolitan           3464      10.4   \n",
              "\n",
              "                  CouncilArea  \n",
              "0          Yarra City Council  \n",
              "1          Yarra City Council  \n",
              "2          Yarra City Council  \n",
              "3  Moonee Valley City Council  \n",
              "4  Moonee Valley City Council  "
            ]
          },
          "execution_count": 4,
          "metadata": {},
          "output_type": "execute_result"
        }
      ],
      "source": [
        "file1.head()"
      ]
    },
    {
      "cell_type": "code",
      "execution_count": null,
      "metadata": {
        "colab": {
          "base_uri": "https://localhost:8080/",
          "height": 403
        },
        "id": "epQVo0US-ILB",
        "outputId": "9713d630-467f-4a8e-c7d7-ee0931289adf"
      },
      "outputs": [
        {
          "data": {
            "text/html": [
              "<div>\n",
              "<style scoped>\n",
              "    .dataframe tbody tr th:only-of-type {\n",
              "        vertical-align: middle;\n",
              "    }\n",
              "\n",
              "    .dataframe tbody tr th {\n",
              "        vertical-align: top;\n",
              "    }\n",
              "\n",
              "    .dataframe thead th {\n",
              "        text-align: right;\n",
              "    }\n",
              "</style>\n",
              "<table border=\"1\" class=\"dataframe\">\n",
              "  <thead>\n",
              "    <tr style=\"text-align: right;\">\n",
              "      <th></th>\n",
              "      <th>Suburb</th>\n",
              "      <th>Address</th>\n",
              "      <th>Rooms</th>\n",
              "      <th>Type</th>\n",
              "      <th>Price</th>\n",
              "      <th>Method</th>\n",
              "      <th>SellerG</th>\n",
              "      <th>Date</th>\n",
              "      <th>Distance</th>\n",
              "      <th>Postcode</th>\n",
              "      <th>...</th>\n",
              "      <th>Bathroom</th>\n",
              "      <th>Car</th>\n",
              "      <th>Landsize</th>\n",
              "      <th>BuildingArea</th>\n",
              "      <th>YearBuilt</th>\n",
              "      <th>CouncilArea</th>\n",
              "      <th>Lattitude</th>\n",
              "      <th>Longtitude</th>\n",
              "      <th>Regionname</th>\n",
              "      <th>Propertycount</th>\n",
              "    </tr>\n",
              "  </thead>\n",
              "  <tbody>\n",
              "    <tr>\n",
              "      <th>0</th>\n",
              "      <td>Abbotsford</td>\n",
              "      <td>68 Studley St</td>\n",
              "      <td>2</td>\n",
              "      <td>h</td>\n",
              "      <td>NaN</td>\n",
              "      <td>SS</td>\n",
              "      <td>Jellis</td>\n",
              "      <td>3/09/2016</td>\n",
              "      <td>2.5</td>\n",
              "      <td>3067.0</td>\n",
              "      <td>...</td>\n",
              "      <td>1.0</td>\n",
              "      <td>1.0</td>\n",
              "      <td>126.0</td>\n",
              "      <td>NaN</td>\n",
              "      <td>NaN</td>\n",
              "      <td>Yarra City Council</td>\n",
              "      <td>-37.8014</td>\n",
              "      <td>144.9958</td>\n",
              "      <td>Northern Metropolitan</td>\n",
              "      <td>4019.0</td>\n",
              "    </tr>\n",
              "    <tr>\n",
              "      <th>1</th>\n",
              "      <td>Abbotsford</td>\n",
              "      <td>85 Turner St</td>\n",
              "      <td>2</td>\n",
              "      <td>h</td>\n",
              "      <td>1480000.0</td>\n",
              "      <td>S</td>\n",
              "      <td>Biggin</td>\n",
              "      <td>3/12/2016</td>\n",
              "      <td>2.5</td>\n",
              "      <td>3067.0</td>\n",
              "      <td>...</td>\n",
              "      <td>1.0</td>\n",
              "      <td>1.0</td>\n",
              "      <td>202.0</td>\n",
              "      <td>NaN</td>\n",
              "      <td>NaN</td>\n",
              "      <td>Yarra City Council</td>\n",
              "      <td>-37.7996</td>\n",
              "      <td>144.9984</td>\n",
              "      <td>Northern Metropolitan</td>\n",
              "      <td>4019.0</td>\n",
              "    </tr>\n",
              "    <tr>\n",
              "      <th>2</th>\n",
              "      <td>Abbotsford</td>\n",
              "      <td>25 Bloomburg St</td>\n",
              "      <td>2</td>\n",
              "      <td>h</td>\n",
              "      <td>1035000.0</td>\n",
              "      <td>S</td>\n",
              "      <td>Biggin</td>\n",
              "      <td>4/02/2016</td>\n",
              "      <td>2.5</td>\n",
              "      <td>3067.0</td>\n",
              "      <td>...</td>\n",
              "      <td>1.0</td>\n",
              "      <td>0.0</td>\n",
              "      <td>156.0</td>\n",
              "      <td>79.0</td>\n",
              "      <td>1900.0</td>\n",
              "      <td>Yarra City Council</td>\n",
              "      <td>-37.8079</td>\n",
              "      <td>144.9934</td>\n",
              "      <td>Northern Metropolitan</td>\n",
              "      <td>4019.0</td>\n",
              "    </tr>\n",
              "    <tr>\n",
              "      <th>3</th>\n",
              "      <td>Abbotsford</td>\n",
              "      <td>18/659 Victoria St</td>\n",
              "      <td>3</td>\n",
              "      <td>u</td>\n",
              "      <td>NaN</td>\n",
              "      <td>VB</td>\n",
              "      <td>Rounds</td>\n",
              "      <td>4/02/2016</td>\n",
              "      <td>2.5</td>\n",
              "      <td>3067.0</td>\n",
              "      <td>...</td>\n",
              "      <td>2.0</td>\n",
              "      <td>1.0</td>\n",
              "      <td>0.0</td>\n",
              "      <td>NaN</td>\n",
              "      <td>NaN</td>\n",
              "      <td>Yarra City Council</td>\n",
              "      <td>-37.8114</td>\n",
              "      <td>145.0116</td>\n",
              "      <td>Northern Metropolitan</td>\n",
              "      <td>4019.0</td>\n",
              "    </tr>\n",
              "    <tr>\n",
              "      <th>4</th>\n",
              "      <td>Abbotsford</td>\n",
              "      <td>5 Charles St</td>\n",
              "      <td>3</td>\n",
              "      <td>h</td>\n",
              "      <td>1465000.0</td>\n",
              "      <td>SP</td>\n",
              "      <td>Biggin</td>\n",
              "      <td>4/03/2017</td>\n",
              "      <td>2.5</td>\n",
              "      <td>3067.0</td>\n",
              "      <td>...</td>\n",
              "      <td>2.0</td>\n",
              "      <td>0.0</td>\n",
              "      <td>134.0</td>\n",
              "      <td>150.0</td>\n",
              "      <td>1900.0</td>\n",
              "      <td>Yarra City Council</td>\n",
              "      <td>-37.8093</td>\n",
              "      <td>144.9944</td>\n",
              "      <td>Northern Metropolitan</td>\n",
              "      <td>4019.0</td>\n",
              "    </tr>\n",
              "  </tbody>\n",
              "</table>\n",
              "<p>5 rows × 21 columns</p>\n",
              "</div>"
            ],
            "text/plain": [
              "       Suburb             Address  Rooms Type      Price Method SellerG  \\\n",
              "0  Abbotsford       68 Studley St      2    h        NaN     SS  Jellis   \n",
              "1  Abbotsford        85 Turner St      2    h  1480000.0      S  Biggin   \n",
              "2  Abbotsford     25 Bloomburg St      2    h  1035000.0      S  Biggin   \n",
              "3  Abbotsford  18/659 Victoria St      3    u        NaN     VB  Rounds   \n",
              "4  Abbotsford        5 Charles St      3    h  1465000.0     SP  Biggin   \n",
              "\n",
              "        Date  Distance  Postcode  ...  Bathroom  Car  Landsize  BuildingArea  \\\n",
              "0  3/09/2016       2.5    3067.0  ...       1.0  1.0     126.0           NaN   \n",
              "1  3/12/2016       2.5    3067.0  ...       1.0  1.0     202.0           NaN   \n",
              "2  4/02/2016       2.5    3067.0  ...       1.0  0.0     156.0          79.0   \n",
              "3  4/02/2016       2.5    3067.0  ...       2.0  1.0       0.0           NaN   \n",
              "4  4/03/2017       2.5    3067.0  ...       2.0  0.0     134.0         150.0   \n",
              "\n",
              "   YearBuilt         CouncilArea Lattitude  Longtitude             Regionname  \\\n",
              "0        NaN  Yarra City Council  -37.8014    144.9958  Northern Metropolitan   \n",
              "1        NaN  Yarra City Council  -37.7996    144.9984  Northern Metropolitan   \n",
              "2     1900.0  Yarra City Council  -37.8079    144.9934  Northern Metropolitan   \n",
              "3        NaN  Yarra City Council  -37.8114    145.0116  Northern Metropolitan   \n",
              "4     1900.0  Yarra City Council  -37.8093    144.9944  Northern Metropolitan   \n",
              "\n",
              "  Propertycount  \n",
              "0        4019.0  \n",
              "1        4019.0  \n",
              "2        4019.0  \n",
              "3        4019.0  \n",
              "4        4019.0  \n",
              "\n",
              "[5 rows x 21 columns]"
            ]
          },
          "execution_count": 5,
          "metadata": {},
          "output_type": "execute_result"
        }
      ],
      "source": [
        "file2.head()"
      ]
    },
    {
      "cell_type": "code",
      "execution_count": null,
      "metadata": {
        "colab": {
          "base_uri": "https://localhost:8080/"
        },
        "id": "cUVBaUtfIMsw",
        "outputId": "bdeaa8af-75e3-48d4-e30f-946881170632"
      },
      "outputs": [
        {
          "data": {
            "text/plain": [
              "Index(['Suburb', 'Address', 'Rooms', 'Type', 'Price', 'Method', 'SellerG',\n",
              "       'Date', 'Postcode', 'Regionname', 'Propertycount', 'Distance',\n",
              "       'CouncilArea'],\n",
              "      dtype='object')"
            ]
          },
          "execution_count": 6,
          "metadata": {},
          "output_type": "execute_result"
        }
      ],
      "source": [
        "file1.columns"
      ]
    },
    {
      "cell_type": "code",
      "execution_count": null,
      "metadata": {
        "colab": {
          "base_uri": "https://localhost:8080/"
        },
        "id": "Z6DdiRBFIMdG",
        "outputId": "c9212d57-f999-442d-f523-4fed303dff51"
      },
      "outputs": [
        {
          "data": {
            "text/plain": [
              "Index(['Suburb', 'Address', 'Rooms', 'Type', 'Price', 'Method', 'SellerG',\n",
              "       'Date', 'Distance', 'Postcode', 'Bedroom2', 'Bathroom', 'Car',\n",
              "       'Landsize', 'BuildingArea', 'YearBuilt', 'CouncilArea', 'Lattitude',\n",
              "       'Longtitude', 'Regionname', 'Propertycount'],\n",
              "      dtype='object')"
            ]
          },
          "execution_count": 7,
          "metadata": {},
          "output_type": "execute_result"
        }
      ],
      "source": [
        "file2.columns"
      ]
    },
    {
      "cell_type": "markdown",
      "source": [
        "merging the two files by usinf the merge"
      ],
      "metadata": {
        "id": "lyoENd36pi4h"
      }
    },
    {
      "cell_type": "code",
      "execution_count": null,
      "metadata": {
        "colab": {
          "base_uri": "https://localhost:8080/",
          "height": 708
        },
        "id": "dRcwlZty-PWK",
        "outputId": "66077dbf-6a94-4c86-b772-bf6d3a6adc19"
      },
      "outputs": [
        {
          "data": {
            "text/html": [
              "<div>\n",
              "<style scoped>\n",
              "    .dataframe tbody tr th:only-of-type {\n",
              "        vertical-align: middle;\n",
              "    }\n",
              "\n",
              "    .dataframe tbody tr th {\n",
              "        vertical-align: top;\n",
              "    }\n",
              "\n",
              "    .dataframe thead th {\n",
              "        text-align: right;\n",
              "    }\n",
              "</style>\n",
              "<table border=\"1\" class=\"dataframe\">\n",
              "  <thead>\n",
              "    <tr style=\"text-align: right;\">\n",
              "      <th></th>\n",
              "      <th>0</th>\n",
              "      <th>1</th>\n",
              "      <th>2</th>\n",
              "      <th>3</th>\n",
              "      <th>4</th>\n",
              "    </tr>\n",
              "  </thead>\n",
              "  <tbody>\n",
              "    <tr>\n",
              "      <th>Suburb</th>\n",
              "      <td>Abbotsford</td>\n",
              "      <td>Airport West</td>\n",
              "      <td>Airport West</td>\n",
              "      <td>Airport West</td>\n",
              "      <td>Airport West</td>\n",
              "    </tr>\n",
              "    <tr>\n",
              "      <th>Address</th>\n",
              "      <td>256 Langridge St</td>\n",
              "      <td>16 Glenys Av</td>\n",
              "      <td>1/9 Kitson Cr</td>\n",
              "      <td>118 Marshall Rd</td>\n",
              "      <td>9 South Rd</td>\n",
              "    </tr>\n",
              "    <tr>\n",
              "      <th>Rooms</th>\n",
              "      <td>3</td>\n",
              "      <td>3</td>\n",
              "      <td>2</td>\n",
              "      <td>3</td>\n",
              "      <td>3</td>\n",
              "    </tr>\n",
              "    <tr>\n",
              "      <th>Type</th>\n",
              "      <td>h</td>\n",
              "      <td>h</td>\n",
              "      <td>u</td>\n",
              "      <td>h</td>\n",
              "      <td>h</td>\n",
              "    </tr>\n",
              "    <tr>\n",
              "      <th>Price</th>\n",
              "      <td>1350000.0</td>\n",
              "      <td>858000.0</td>\n",
              "      <td>593000.0</td>\n",
              "      <td>640000.0</td>\n",
              "      <td>961000.0</td>\n",
              "    </tr>\n",
              "    <tr>\n",
              "      <th>Method</th>\n",
              "      <td>S</td>\n",
              "      <td>SP</td>\n",
              "      <td>S</td>\n",
              "      <td>S</td>\n",
              "      <td>S</td>\n",
              "    </tr>\n",
              "    <tr>\n",
              "      <th>SellerG</th>\n",
              "      <td>Biggin</td>\n",
              "      <td>Raine</td>\n",
              "      <td>Nelson</td>\n",
              "      <td>Nelson</td>\n",
              "      <td>Nelson</td>\n",
              "    </tr>\n",
              "    <tr>\n",
              "      <th>Date</th>\n",
              "      <td>1/07/2017</td>\n",
              "      <td>1/07/2017</td>\n",
              "      <td>1/07/2017</td>\n",
              "      <td>1/07/2017</td>\n",
              "      <td>1/07/2017</td>\n",
              "    </tr>\n",
              "    <tr>\n",
              "      <th>Postcode</th>\n",
              "      <td>3067</td>\n",
              "      <td>3042</td>\n",
              "      <td>3042</td>\n",
              "      <td>3042</td>\n",
              "      <td>3042</td>\n",
              "    </tr>\n",
              "    <tr>\n",
              "      <th>Regionname</th>\n",
              "      <td>Northern Metropolitan</td>\n",
              "      <td>Western Metropolitan</td>\n",
              "      <td>Western Metropolitan</td>\n",
              "      <td>Western Metropolitan</td>\n",
              "      <td>Western Metropolitan</td>\n",
              "    </tr>\n",
              "    <tr>\n",
              "      <th>Propertycount</th>\n",
              "      <td>4019</td>\n",
              "      <td>3464</td>\n",
              "      <td>3464</td>\n",
              "      <td>3464</td>\n",
              "      <td>3464</td>\n",
              "    </tr>\n",
              "    <tr>\n",
              "      <th>Distance</th>\n",
              "      <td>3.0</td>\n",
              "      <td>10.4</td>\n",
              "      <td>10.4</td>\n",
              "      <td>10.4</td>\n",
              "      <td>10.4</td>\n",
              "    </tr>\n",
              "    <tr>\n",
              "      <th>CouncilArea</th>\n",
              "      <td>Yarra City Council</td>\n",
              "      <td>Moonee Valley City Council</td>\n",
              "      <td>Moonee Valley City Council</td>\n",
              "      <td>Moonee Valley City Council</td>\n",
              "      <td>Moonee Valley City Council</td>\n",
              "    </tr>\n",
              "    <tr>\n",
              "      <th>Bedroom2</th>\n",
              "      <td>NaN</td>\n",
              "      <td>NaN</td>\n",
              "      <td>NaN</td>\n",
              "      <td>3.0</td>\n",
              "      <td>3.0</td>\n",
              "    </tr>\n",
              "    <tr>\n",
              "      <th>Bathroom</th>\n",
              "      <td>NaN</td>\n",
              "      <td>NaN</td>\n",
              "      <td>NaN</td>\n",
              "      <td>1.0</td>\n",
              "      <td>1.0</td>\n",
              "    </tr>\n",
              "    <tr>\n",
              "      <th>Car</th>\n",
              "      <td>NaN</td>\n",
              "      <td>NaN</td>\n",
              "      <td>NaN</td>\n",
              "      <td>2.0</td>\n",
              "      <td>2.0</td>\n",
              "    </tr>\n",
              "    <tr>\n",
              "      <th>Landsize</th>\n",
              "      <td>NaN</td>\n",
              "      <td>NaN</td>\n",
              "      <td>NaN</td>\n",
              "      <td>219.0</td>\n",
              "      <td>717.0</td>\n",
              "    </tr>\n",
              "    <tr>\n",
              "      <th>BuildingArea</th>\n",
              "      <td>NaN</td>\n",
              "      <td>NaN</td>\n",
              "      <td>NaN</td>\n",
              "      <td>101.37</td>\n",
              "      <td>NaN</td>\n",
              "    </tr>\n",
              "    <tr>\n",
              "      <th>YearBuilt</th>\n",
              "      <td>NaN</td>\n",
              "      <td>NaN</td>\n",
              "      <td>NaN</td>\n",
              "      <td>1960.0</td>\n",
              "      <td>1950.0</td>\n",
              "    </tr>\n",
              "    <tr>\n",
              "      <th>Lattitude</th>\n",
              "      <td>NaN</td>\n",
              "      <td>NaN</td>\n",
              "      <td>NaN</td>\n",
              "      <td>-37.71655</td>\n",
              "      <td>-37.72274</td>\n",
              "    </tr>\n",
              "    <tr>\n",
              "      <th>Longtitude</th>\n",
              "      <td>NaN</td>\n",
              "      <td>NaN</td>\n",
              "      <td>NaN</td>\n",
              "      <td>144.88155</td>\n",
              "      <td>144.88002</td>\n",
              "    </tr>\n",
              "  </tbody>\n",
              "</table>\n",
              "</div>"
            ],
            "text/plain": [
              "                                   0                           1  \\\n",
              "Suburb                    Abbotsford                Airport West   \n",
              "Address             256 Langridge St                16 Glenys Av   \n",
              "Rooms                              3                           3   \n",
              "Type                               h                           h   \n",
              "Price                      1350000.0                    858000.0   \n",
              "Method                             S                          SP   \n",
              "SellerG                       Biggin                       Raine   \n",
              "Date                       1/07/2017                   1/07/2017   \n",
              "Postcode                        3067                        3042   \n",
              "Regionname     Northern Metropolitan        Western Metropolitan   \n",
              "Propertycount                   4019                        3464   \n",
              "Distance                         3.0                        10.4   \n",
              "CouncilArea       Yarra City Council  Moonee Valley City Council   \n",
              "Bedroom2                         NaN                         NaN   \n",
              "Bathroom                         NaN                         NaN   \n",
              "Car                              NaN                         NaN   \n",
              "Landsize                         NaN                         NaN   \n",
              "BuildingArea                     NaN                         NaN   \n",
              "YearBuilt                        NaN                         NaN   \n",
              "Lattitude                        NaN                         NaN   \n",
              "Longtitude                       NaN                         NaN   \n",
              "\n",
              "                                        2                           3  \\\n",
              "Suburb                       Airport West                Airport West   \n",
              "Address                     1/9 Kitson Cr             118 Marshall Rd   \n",
              "Rooms                                   2                           3   \n",
              "Type                                    u                           h   \n",
              "Price                            593000.0                    640000.0   \n",
              "Method                                  S                           S   \n",
              "SellerG                            Nelson                      Nelson   \n",
              "Date                            1/07/2017                   1/07/2017   \n",
              "Postcode                             3042                        3042   \n",
              "Regionname           Western Metropolitan        Western Metropolitan   \n",
              "Propertycount                        3464                        3464   \n",
              "Distance                             10.4                        10.4   \n",
              "CouncilArea    Moonee Valley City Council  Moonee Valley City Council   \n",
              "Bedroom2                              NaN                         3.0   \n",
              "Bathroom                              NaN                         1.0   \n",
              "Car                                   NaN                         2.0   \n",
              "Landsize                              NaN                       219.0   \n",
              "BuildingArea                          NaN                      101.37   \n",
              "YearBuilt                             NaN                      1960.0   \n",
              "Lattitude                             NaN                   -37.71655   \n",
              "Longtitude                            NaN                   144.88155   \n",
              "\n",
              "                                        4  \n",
              "Suburb                       Airport West  \n",
              "Address                        9 South Rd  \n",
              "Rooms                                   3  \n",
              "Type                                    h  \n",
              "Price                            961000.0  \n",
              "Method                                  S  \n",
              "SellerG                            Nelson  \n",
              "Date                            1/07/2017  \n",
              "Postcode                             3042  \n",
              "Regionname           Western Metropolitan  \n",
              "Propertycount                        3464  \n",
              "Distance                             10.4  \n",
              "CouncilArea    Moonee Valley City Council  \n",
              "Bedroom2                              3.0  \n",
              "Bathroom                              1.0  \n",
              "Car                                   2.0  \n",
              "Landsize                            717.0  \n",
              "BuildingArea                          NaN  \n",
              "YearBuilt                          1950.0  \n",
              "Lattitude                       -37.72274  \n",
              "Longtitude                      144.88002  "
            ]
          },
          "execution_count": 8,
          "metadata": {},
          "output_type": "execute_result"
        }
      ],
      "source": [
        "df=file1.merge(file2,on=['Suburb', 'Address', 'Rooms', 'Type', 'Price', 'Method', 'SellerG',\n",
        "       'Date', 'Postcode', 'Regionname', 'Propertycount', 'Distance',\n",
        "       'CouncilArea'], how='inner') # merging file1 and file2 based on id\n",
        "df.head().T"
      ]
    },
    {
      "cell_type": "code",
      "execution_count": null,
      "metadata": {
        "colab": {
          "base_uri": "https://localhost:8080/"
        },
        "id": "mjndL4wy_dt2",
        "outputId": "53fab359-3b08-459e-eed2-a9c02bc9f904"
      },
      "outputs": [
        {
          "data": {
            "text/plain": [
              "(21001, 21)"
            ]
          },
          "execution_count": 9,
          "metadata": {},
          "output_type": "execute_result"
        }
      ],
      "source": [
        "df.shape"
      ]
    },
    {
      "cell_type": "code",
      "execution_count": null,
      "metadata": {
        "colab": {
          "base_uri": "https://localhost:8080/"
        },
        "id": "3OFLsDEF_yDL",
        "outputId": "7d331168-d241-4697-9151-57527eeb59e3"
      },
      "outputs": [
        {
          "data": {
            "text/plain": [
              "Suburb               0\n",
              "Address              0\n",
              "Rooms                0\n",
              "Type                 0\n",
              "Price             4547\n",
              "Method               0\n",
              "SellerG              0\n",
              "Date                 0\n",
              "Postcode             0\n",
              "Regionname           0\n",
              "Propertycount        0\n",
              "Distance             0\n",
              "CouncilArea          0\n",
              "Bedroom2          5248\n",
              "Bathroom          5257\n",
              "Car               5759\n",
              "Landsize          8825\n",
              "BuildingArea     13246\n",
              "YearBuilt        12344\n",
              "Lattitude         5107\n",
              "Longtitude        5107\n",
              "dtype: int64"
            ]
          },
          "execution_count": 10,
          "metadata": {},
          "output_type": "execute_result"
        }
      ],
      "source": [
        "df.isnull().sum()"
      ]
    },
    {
      "cell_type": "code",
      "execution_count": null,
      "metadata": {
        "colab": {
          "base_uri": "https://localhost:8080/"
        },
        "id": "whCIL8C5JTpC",
        "outputId": "716178d2-8699-4dc4-8266-d4005915ed5f"
      },
      "outputs": [
        {
          "name": "stdout",
          "output_type": "stream",
          "text": [
            "<class 'pandas.core.frame.DataFrame'>\n",
            "Int64Index: 21001 entries, 0 to 21000\n",
            "Data columns (total 21 columns):\n",
            " #   Column         Non-Null Count  Dtype  \n",
            "---  ------         --------------  -----  \n",
            " 0   Suburb         21001 non-null  object \n",
            " 1   Address        21001 non-null  object \n",
            " 2   Rooms          21001 non-null  int64  \n",
            " 3   Type           21001 non-null  object \n",
            " 4   Price          16454 non-null  float64\n",
            " 5   Method         21001 non-null  object \n",
            " 6   SellerG        21001 non-null  object \n",
            " 7   Date           21001 non-null  object \n",
            " 8   Postcode       21001 non-null  int64  \n",
            " 9   Regionname     21001 non-null  object \n",
            " 10  Propertycount  21001 non-null  int64  \n",
            " 11  Distance       21001 non-null  float64\n",
            " 12  CouncilArea    21001 non-null  object \n",
            " 13  Bedroom2       15753 non-null  float64\n",
            " 14  Bathroom       15744 non-null  float64\n",
            " 15  Car            15242 non-null  float64\n",
            " 16  Landsize       12176 non-null  float64\n",
            " 17  BuildingArea   7755 non-null   float64\n",
            " 18  YearBuilt      8657 non-null   float64\n",
            " 19  Lattitude      15894 non-null  float64\n",
            " 20  Longtitude     15894 non-null  float64\n",
            "dtypes: float64(10), int64(3), object(8)\n",
            "memory usage: 3.5+ MB\n"
          ]
        }
      ],
      "source": [
        "df.info()"
      ]
    },
    {
      "cell_type": "markdown",
      "source": [
        "#checking for the outliers "
      ],
      "metadata": {
        "id": "pkr-qTddpucN"
      }
    },
    {
      "cell_type": "code",
      "execution_count": null,
      "metadata": {
        "colab": {
          "base_uri": "https://localhost:8080/",
          "height": 285
        },
        "id": "_Hd_65HVMLkt",
        "outputId": "006821cd-627a-4cc3-f6ab-71faa69a52ad"
      },
      "outputs": [
        {
          "data": {
            "image/png": "[encoded data removed]",
            "text/plain": [
              "<Figure size 3600x3600 with 100 Axes>"
            ]
          },
          "metadata": {
            "needs_background": "light"
          },
          "output_type": "display_data"
        }
      ],
      "source": [
        "df.plot(kind='box',subplots=True,layout=(10,10),figsize=(50,50))\n",
        "plt.show()"
      ]
    },
    {
      "cell_type": "code",
      "execution_count": null,
      "metadata": {
        "colab": {
          "base_uri": "https://localhost:8080/",
          "height": 816
        },
        "id": "fg5Dph7wiBg8",
        "outputId": "0fbd7748-a4ed-495d-84a9-fc1fc24b14aa"
      },
      "outputs": [
        {
          "data": {
            "image/png": "[encoded data removed]",
            "text/plain": [
              "<Figure size 3600x3600 with 25 Axes>"
            ]
          },
          "metadata": {
            "needs_background": "light"
          },
          "output_type": "display_data"
        }
      ],
      "source": [
        "#Removing the outliers\n",
        "cols=['Rooms','Postcode','Propertycount','Distance','YearBuilt','Lattitude','Longtitude','Bedroom2','Bathroom','Car','Landsize','BuildingArea']\n",
        "q1=df[cols].quantile(0.25)\n",
        "q3=df[cols].quantile(0.75)\n",
        "iqr=q3-q1\n",
        "final_df_box=df[~((df[cols]<(q1 -1.5*iqr)) |(df[cols]>(q3 +1.5*iqr))).any(axis=1)]\n",
        "final_df_box.plot(kind='box',subplots=True,layout=(5,5),figsize=(50,50))\n",
        "plt.show()"
      ]
    },
    {
      "cell_type": "markdown",
      "metadata": {
        "id": "Mh7stj0gP8rh"
      },
      "source": [
        "#filling the null values by using mean"
      ]
    },
    {
      "cell_type": "code",
      "execution_count": null,
      "metadata": {
        "id": "k3MhqFfgSzuT"
      },
      "outputs": [],
      "source": [
        "numerical_cols = df.select_dtypes(include='number').columns\n",
        "df[numerical_cols] = df[numerical_cols].mean()\n"
      ]
    },
    {
      "cell_type": "code",
      "execution_count": null,
      "metadata": {
        "colab": {
          "base_uri": "https://localhost:8080/"
        },
        "id": "CfQv8VYbS1uB",
        "outputId": "a174d9b5-f91a-4af0-95c9-a13018a4d9ce"
      },
      "outputs": [
        {
          "data": {
            "text/plain": [
              "Suburb           0\n",
              "Address          0\n",
              "Rooms            0\n",
              "Type             0\n",
              "Price            0\n",
              "Method           0\n",
              "SellerG          0\n",
              "Date             0\n",
              "Postcode         0\n",
              "Regionname       0\n",
              "Propertycount    0\n",
              "Distance         0\n",
              "CouncilArea      0\n",
              "Bedroom2         0\n",
              "Bathroom         0\n",
              "Car              0\n",
              "Landsize         0\n",
              "BuildingArea     0\n",
              "YearBuilt        0\n",
              "Lattitude        0\n",
              "Longtitude       0\n",
              "dtype: int64"
            ]
          },
          "execution_count": 15,
          "metadata": {},
          "output_type": "execute_result"
        }
      ],
      "source": [
        "df.isnull().sum()"
      ]
    },
    {
      "cell_type": "code",
      "execution_count": null,
      "metadata": {
        "colab": {
          "base_uri": "https://localhost:8080/"
        },
        "id": "QND6HPvzH8x-",
        "outputId": "da93982e-6385-4b2d-9107-49f881606ab5"
      },
      "outputs": [
        {
          "name": "stdout",
          "output_type": "stream",
          "text": [
            "<class 'pandas.core.frame.DataFrame'>\n",
            "Int64Index: 21001 entries, 0 to 21000\n",
            "Data columns (total 21 columns):\n",
            " #   Column         Non-Null Count  Dtype  \n",
            "---  ------         --------------  -----  \n",
            " 0   Suburb         21001 non-null  object \n",
            " 1   Address        21001 non-null  object \n",
            " 2   Rooms          21001 non-null  float64\n",
            " 3   Type           21001 non-null  object \n",
            " 4   Price          21001 non-null  float64\n",
            " 5   Method         21001 non-null  object \n",
            " 6   SellerG        21001 non-null  object \n",
            " 7   Date           21001 non-null  object \n",
            " 8   Postcode       21001 non-null  float64\n",
            " 9   Regionname     21001 non-null  object \n",
            " 10  Propertycount  21001 non-null  float64\n",
            " 11  Distance       21001 non-null  float64\n",
            " 12  CouncilArea    21001 non-null  object \n",
            " 13  Bedroom2       21001 non-null  float64\n",
            " 14  Bathroom       21001 non-null  float64\n",
            " 15  Car            21001 non-null  float64\n",
            " 16  Landsize       21001 non-null  float64\n",
            " 17  BuildingArea   21001 non-null  float64\n",
            " 18  YearBuilt      21001 non-null  float64\n",
            " 19  Lattitude      21001 non-null  float64\n",
            " 20  Longtitude     21001 non-null  float64\n",
            "dtypes: float64(13), object(8)\n",
            "memory usage: 3.5+ MB\n"
          ]
        }
      ],
      "source": [
        "df.info()"
      ]
    },
    {
      "cell_type": "code",
      "execution_count": null,
      "metadata": {
        "colab": {
          "base_uri": "https://localhost:8080/"
        },
        "id": "_nT7rDudhadI",
        "outputId": "766cb818-6f5e-42a0-d60c-f04fc8c3c0aa"
      },
      "outputs": [
        {
          "data": {
            "text/plain": [
              "1/7 Lilian St       4\n",
              "16 Clyde St         3\n",
              "9 Margaret St       3\n",
              "2 George St         3\n",
              "14 James St         3\n",
              "                   ..\n",
              "41 Stafford St      1\n",
              "10 Summerhill Rd    1\n",
              "49 Darlington Gr    1\n",
              "54 Davies St        1\n",
              "6 Hempstead Av      1\n",
              "Name: Address, Length: 20658, dtype: int64"
            ]
          },
          "execution_count": 17,
          "metadata": {},
          "output_type": "execute_result"
        }
      ],
      "source": [
        "df['Address'].T.value_counts()"
      ]
    },
    {
      "cell_type": "code",
      "execution_count": null,
      "metadata": {
        "colab": {
          "base_uri": "https://localhost:8080/"
        },
        "id": "s3_tEtr_haHQ",
        "outputId": "9488f3b4-d426-432f-bed6-18d8f0ddb022"
      },
      "outputs": [
        {
          "data": {
            "text/plain": [
              "Brunswick         444\n",
              "Reservoir         400\n",
              "Bentleigh East    269\n",
              "Craigieburn       255\n",
              "Richmond          251\n",
              "                 ... \n",
              "Olinda              1\n",
              "viewbank            1\n",
              "Belgrave            1\n",
              "Wildwood            1\n",
              "croydon             1\n",
              "Name: Suburb, Length: 350, dtype: int64"
            ]
          },
          "execution_count": 18,
          "metadata": {},
          "output_type": "execute_result"
        }
      ],
      "source": [
        "df['Suburb'].T.value_counts()"
      ]
    },
    {
      "cell_type": "code",
      "execution_count": null,
      "metadata": {
        "colab": {
          "base_uri": "https://localhost:8080/"
        },
        "id": "beDq8FuIhZ6W",
        "outputId": "ab4f90d5-ccc7-4347-ce71-e79b5d2f02b2"
      },
      "outputs": [
        {
          "data": {
            "text/plain": [
              "h    15113\n",
              "u     3840\n",
              "t     2048\n",
              "Name: Type, dtype: int64"
            ]
          },
          "execution_count": 19,
          "metadata": {},
          "output_type": "execute_result"
        }
      ],
      "source": [
        "df['Type'].value_counts()"
      ]
    },
    {
      "cell_type": "code",
      "execution_count": null,
      "metadata": {
        "colab": {
          "base_uri": "https://localhost:8080/"
        },
        "id": "IDFvWKuPhhMu",
        "outputId": "836868be-f873-43ab-c615-686e32bf8e8f"
      },
      "outputs": [
        {
          "data": {
            "text/plain": [
              "S     11576\n",
              "SP     3133\n",
              "PI     3009\n",
              "VB     2029\n",
              "SN      743\n",
              "PN      189\n",
              "SA      175\n",
              "W       123\n",
              "SS       24\n",
              "Name: Method, dtype: int64"
            ]
          },
          "execution_count": 20,
          "metadata": {},
          "output_type": "execute_result"
        }
      ],
      "source": [
        "df['Method'].value_counts()"
      ]
    },
    {
      "cell_type": "code",
      "execution_count": null,
      "metadata": {
        "colab": {
          "base_uri": "https://localhost:8080/"
        },
        "id": "rAqVtxvRhlTy",
        "outputId": "69edc2f0-eef1-47f4-c5a0-c293934fc86b"
      },
      "outputs": [
        {
          "data": {
            "text/plain": [
              "Barry            2249\n",
              "Jellis           1917\n",
              "Nelson           1667\n",
              "Ray              1433\n",
              "hockingstuart    1373\n",
              "                 ... \n",
              "Grantham            1\n",
              "Sprint              1\n",
              "G&H                 1\n",
              "Unity               1\n",
              "Quinta              1\n",
              "Name: SellerG, Length: 329, dtype: int64"
            ]
          },
          "execution_count": 21,
          "metadata": {},
          "output_type": "execute_result"
        }
      ],
      "source": [
        "df['SellerG'].value_counts()"
      ]
    },
    {
      "cell_type": "code",
      "execution_count": null,
      "metadata": {
        "colab": {
          "base_uri": "https://localhost:8080/"
        },
        "id": "ctmDryZmhlHI",
        "outputId": "c45efca1-3e43-4416-be43-7e99f84ae322"
      },
      "outputs": [
        {
          "data": {
            "text/plain": [
              "28/10/2017    1119\n",
              "17/03/2018     970\n",
              "24/02/2018     941\n",
              "9/12/2017      927\n",
              "25/11/2017     902\n",
              "              ... \n",
              "22/08/2016       5\n",
              "14/05/2016       5\n",
              "6/08/2016        4\n",
              "3/09/2016        4\n",
              "11/03/2017       2\n",
              "Name: Date, Length: 75, dtype: int64"
            ]
          },
          "execution_count": 22,
          "metadata": {},
          "output_type": "execute_result"
        }
      ],
      "source": [
        "df['Date'].value_counts()"
      ]
    },
    {
      "cell_type": "code",
      "execution_count": null,
      "metadata": {
        "colab": {
          "base_uri": "https://localhost:8080/"
        },
        "id": "_Mcl5vtyhk8b",
        "outputId": "ce6f91d2-3455-4c92-8c5c-d3e130f447b8"
      },
      "outputs": [
        {
          "data": {
            "text/plain": [
              "Southern Metropolitan         5788\n",
              "Northern Metropolitan         5733\n",
              "Western Metropolitan          3973\n",
              "Eastern Metropolitan          3296\n",
              "South-Eastern Metropolitan    1665\n",
              "Eastern Victoria               228\n",
              "Northern Victoria              203\n",
              "Western Victoria               115\n",
              "Name: Regionname, dtype: int64"
            ]
          },
          "execution_count": 23,
          "metadata": {},
          "output_type": "execute_result"
        }
      ],
      "source": [
        "df['Regionname'].value_counts()"
      ]
    },
    {
      "cell_type": "code",
      "execution_count": null,
      "metadata": {
        "colab": {
          "base_uri": "https://localhost:8080/"
        },
        "id": "8iNFhsbMhkwA",
        "outputId": "a69b6959-90db-4677-e460-69d0cb07a225"
      },
      "outputs": [
        {
          "data": {
            "text/plain": [
              "Boroondara City Council           1708\n",
              "Darebin City Council              1347\n",
              "Moreland City Council             1231\n",
              "Banyule City Council              1192\n",
              "Monash City Council               1080\n",
              "Bayside City Council              1073\n",
              "Hume City Council                 1065\n",
              "Brimbank City Council             1061\n",
              "Glen Eira City Council             930\n",
              "Melbourne City Council             859\n",
              "Moonee Valley City Council         838\n",
              "Whittlesea City Council            828\n",
              "Stonnington City Council           754\n",
              "Kingston City Council              726\n",
              "Manningham City Council            684\n",
              "Maribyrnong City Council           650\n",
              "Wyndham City Council               624\n",
              "Port Phillip City Council          570\n",
              "Yarra City Council                 552\n",
              "Whitehorse City Council            547\n",
              "Maroondah City Council             506\n",
              "Hobsons Bay City Council           429\n",
              "Knox City Council                  371\n",
              "Greater Dandenong City Council     314\n",
              "Melton City Council                292\n",
              "Frankston City Council             290\n",
              "Casey City Council                 176\n",
              "Yarra Ranges Shire Council         102\n",
              "Nillumbik Shire Council             88\n",
              "Macedon Ranges Shire Council        46\n",
              "Cardinia Shire Council              41\n",
              "Mitchell Shire Council              20\n",
              "Moorabool Shire Council              7\n",
              "Name: CouncilArea, dtype: int64"
            ]
          },
          "execution_count": 24,
          "metadata": {},
          "output_type": "execute_result"
        }
      ],
      "source": [
        "df['CouncilArea'].value_counts()"
      ]
    },
    {
      "cell_type": "code",
      "execution_count": null,
      "metadata": {
        "colab": {
          "base_uri": "https://localhost:8080/"
        },
        "id": "52PBXsJvm1KY",
        "outputId": "91907ce3-0217-4047-9545-9959b0c942c8"
      },
      "outputs": [
        {
          "data": {
            "text/plain": [
              "Rooms            0\n",
              "Price            0\n",
              "Postcode         0\n",
              "Propertycount    0\n",
              "Distance         0\n",
              "Bedroom2         0\n",
              "Bathroom         0\n",
              "Car              0\n",
              "Landsize         0\n",
              "BuildingArea     0\n",
              "YearBuilt        0\n",
              "Lattitude        0\n",
              "Longtitude       0\n",
              "dtype: int64"
            ]
          },
          "execution_count": 25,
          "metadata": {},
          "output_type": "execute_result"
        }
      ],
      "source": [
        "df[numerical_cols].isnull().sum()"
      ]
    },
    {
      "cell_type": "markdown",
      "source": [
        "converting the datetime to date,month and day"
      ],
      "metadata": {
        "id": "HDonNor-qCRp"
      }
    },
    {
      "cell_type": "code",
      "execution_count": null,
      "metadata": {
        "id": "09m6EfPVt4Tl"
      },
      "outputs": [],
      "source": [
        "df['Date'] = pd.to_datetime(df['Date'],infer_datetime_format=True) # changing date column to datetime64"
      ]
    },
    {
      "cell_type": "code",
      "execution_count": null,
      "metadata": {
        "id": "B0WPeGmrt3_9"
      },
      "outputs": [],
      "source": [
        "df['year'] = df['Date'].dt.year\n",
        "df['month'] = df['Date'].dt.month\n",
        "df['day'] = df['Date'].dt.day"
      ]
    },
    {
      "cell_type": "code",
      "execution_count": null,
      "metadata": {
        "colab": {
          "base_uri": "https://localhost:8080/",
          "height": 438
        },
        "id": "oapKmaQkufRU",
        "outputId": "8c22c6b4-f14b-45d2-8c8f-14323ba1b2b7"
      },
      "outputs": [
        {
          "data": {
            "text/html": [
              "<div>\n",
              "<style scoped>\n",
              "    .dataframe tbody tr th:only-of-type {\n",
              "        vertical-align: middle;\n",
              "    }\n",
              "\n",
              "    .dataframe tbody tr th {\n",
              "        vertical-align: top;\n",
              "    }\n",
              "\n",
              "    .dataframe thead th {\n",
              "        text-align: right;\n",
              "    }\n",
              "</style>\n",
              "<table border=\"1\" class=\"dataframe\">\n",
              "  <thead>\n",
              "    <tr style=\"text-align: right;\">\n",
              "      <th></th>\n",
              "      <th>Suburb</th>\n",
              "      <th>Address</th>\n",
              "      <th>Rooms</th>\n",
              "      <th>Type</th>\n",
              "      <th>Price</th>\n",
              "      <th>Method</th>\n",
              "      <th>SellerG</th>\n",
              "      <th>Date</th>\n",
              "      <th>Postcode</th>\n",
              "      <th>Regionname</th>\n",
              "      <th>...</th>\n",
              "      <th>Bathroom</th>\n",
              "      <th>Car</th>\n",
              "      <th>Landsize</th>\n",
              "      <th>BuildingArea</th>\n",
              "      <th>YearBuilt</th>\n",
              "      <th>Lattitude</th>\n",
              "      <th>Longtitude</th>\n",
              "      <th>year</th>\n",
              "      <th>month</th>\n",
              "      <th>day</th>\n",
              "    </tr>\n",
              "  </thead>\n",
              "  <tbody>\n",
              "    <tr>\n",
              "      <th>0</th>\n",
              "      <td>Abbotsford</td>\n",
              "      <td>256 Langridge St</td>\n",
              "      <td>3.116661</td>\n",
              "      <td>h</td>\n",
              "      <td>1.033030e+06</td>\n",
              "      <td>S</td>\n",
              "      <td>Biggin</td>\n",
              "      <td>2017-01-07</td>\n",
              "      <td>3127.683777</td>\n",
              "      <td>Northern Metropolitan</td>\n",
              "      <td>...</td>\n",
              "      <td>1.686738</td>\n",
              "      <td>1.859336</td>\n",
              "      <td>701.120483</td>\n",
              "      <td>170.092839</td>\n",
              "      <td>1968.970198</td>\n",
              "      <td>-37.809867</td>\n",
              "      <td>145.009723</td>\n",
              "      <td>2017</td>\n",
              "      <td>1</td>\n",
              "      <td>7</td>\n",
              "    </tr>\n",
              "    <tr>\n",
              "      <th>1</th>\n",
              "      <td>Airport West</td>\n",
              "      <td>16 Glenys Av</td>\n",
              "      <td>3.116661</td>\n",
              "      <td>h</td>\n",
              "      <td>1.033030e+06</td>\n",
              "      <td>SP</td>\n",
              "      <td>Raine</td>\n",
              "      <td>2017-01-07</td>\n",
              "      <td>3127.683777</td>\n",
              "      <td>Western Metropolitan</td>\n",
              "      <td>...</td>\n",
              "      <td>1.686738</td>\n",
              "      <td>1.859336</td>\n",
              "      <td>701.120483</td>\n",
              "      <td>170.092839</td>\n",
              "      <td>1968.970198</td>\n",
              "      <td>-37.809867</td>\n",
              "      <td>145.009723</td>\n",
              "      <td>2017</td>\n",
              "      <td>1</td>\n",
              "      <td>7</td>\n",
              "    </tr>\n",
              "    <tr>\n",
              "      <th>2</th>\n",
              "      <td>Airport West</td>\n",
              "      <td>1/9 Kitson Cr</td>\n",
              "      <td>3.116661</td>\n",
              "      <td>u</td>\n",
              "      <td>1.033030e+06</td>\n",
              "      <td>S</td>\n",
              "      <td>Nelson</td>\n",
              "      <td>2017-01-07</td>\n",
              "      <td>3127.683777</td>\n",
              "      <td>Western Metropolitan</td>\n",
              "      <td>...</td>\n",
              "      <td>1.686738</td>\n",
              "      <td>1.859336</td>\n",
              "      <td>701.120483</td>\n",
              "      <td>170.092839</td>\n",
              "      <td>1968.970198</td>\n",
              "      <td>-37.809867</td>\n",
              "      <td>145.009723</td>\n",
              "      <td>2017</td>\n",
              "      <td>1</td>\n",
              "      <td>7</td>\n",
              "    </tr>\n",
              "    <tr>\n",
              "      <th>3</th>\n",
              "      <td>Airport West</td>\n",
              "      <td>118 Marshall Rd</td>\n",
              "      <td>3.116661</td>\n",
              "      <td>h</td>\n",
              "      <td>1.033030e+06</td>\n",
              "      <td>S</td>\n",
              "      <td>Nelson</td>\n",
              "      <td>2017-01-07</td>\n",
              "      <td>3127.683777</td>\n",
              "      <td>Western Metropolitan</td>\n",
              "      <td>...</td>\n",
              "      <td>1.686738</td>\n",
              "      <td>1.859336</td>\n",
              "      <td>701.120483</td>\n",
              "      <td>170.092839</td>\n",
              "      <td>1968.970198</td>\n",
              "      <td>-37.809867</td>\n",
              "      <td>145.009723</td>\n",
              "      <td>2017</td>\n",
              "      <td>1</td>\n",
              "      <td>7</td>\n",
              "    </tr>\n",
              "    <tr>\n",
              "      <th>4</th>\n",
              "      <td>Airport West</td>\n",
              "      <td>9 South Rd</td>\n",
              "      <td>3.116661</td>\n",
              "      <td>h</td>\n",
              "      <td>1.033030e+06</td>\n",
              "      <td>S</td>\n",
              "      <td>Nelson</td>\n",
              "      <td>2017-01-07</td>\n",
              "      <td>3127.683777</td>\n",
              "      <td>Western Metropolitan</td>\n",
              "      <td>...</td>\n",
              "      <td>1.686738</td>\n",
              "      <td>1.859336</td>\n",
              "      <td>701.120483</td>\n",
              "      <td>170.092839</td>\n",
              "      <td>1968.970198</td>\n",
              "      <td>-37.809867</td>\n",
              "      <td>145.009723</td>\n",
              "      <td>2017</td>\n",
              "      <td>1</td>\n",
              "      <td>7</td>\n",
              "    </tr>\n",
              "  </tbody>\n",
              "</table>\n",
              "<p>5 rows × 24 columns</p>\n",
              "</div>"
            ],
            "text/plain": [
              "         Suburb           Address     Rooms Type         Price Method SellerG  \\\n",
              "0    Abbotsford  256 Langridge St  3.116661    h  1.033030e+06      S  Biggin   \n",
              "1  Airport West      16 Glenys Av  3.116661    h  1.033030e+06     SP   Raine   \n",
              "2  Airport West     1/9 Kitson Cr  3.116661    u  1.033030e+06      S  Nelson   \n",
              "3  Airport West   118 Marshall Rd  3.116661    h  1.033030e+06      S  Nelson   \n",
              "4  Airport West        9 South Rd  3.116661    h  1.033030e+06      S  Nelson   \n",
              "\n",
              "        Date     Postcode             Regionname  ...  Bathroom       Car  \\\n",
              "0 2017-01-07  3127.683777  Northern Metropolitan  ...  1.686738  1.859336   \n",
              "1 2017-01-07  3127.683777   Western Metropolitan  ...  1.686738  1.859336   \n",
              "2 2017-01-07  3127.683777   Western Metropolitan  ...  1.686738  1.859336   \n",
              "3 2017-01-07  3127.683777   Western Metropolitan  ...  1.686738  1.859336   \n",
              "4 2017-01-07  3127.683777   Western Metropolitan  ...  1.686738  1.859336   \n",
              "\n",
              "     Landsize  BuildingArea    YearBuilt  Lattitude  Longtitude  year  month  \\\n",
              "0  701.120483    170.092839  1968.970198 -37.809867  145.009723  2017      1   \n",
              "1  701.120483    170.092839  1968.970198 -37.809867  145.009723  2017      1   \n",
              "2  701.120483    170.092839  1968.970198 -37.809867  145.009723  2017      1   \n",
              "3  701.120483    170.092839  1968.970198 -37.809867  145.009723  2017      1   \n",
              "4  701.120483    170.092839  1968.970198 -37.809867  145.009723  2017      1   \n",
              "\n",
              "   day  \n",
              "0    7  \n",
              "1    7  \n",
              "2    7  \n",
              "3    7  \n",
              "4    7  \n",
              "\n",
              "[5 rows x 24 columns]"
            ]
          },
          "execution_count": 28,
          "metadata": {},
          "output_type": "execute_result"
        }
      ],
      "source": [
        "df.head()"
      ]
    },
    {
      "cell_type": "code",
      "execution_count": null,
      "metadata": {
        "colab": {
          "base_uri": "https://localhost:8080/"
        },
        "id": "qDTQ0DnZujc4",
        "outputId": "b26cc2a9-e87b-4f11-817d-914ee087bbfe"
      },
      "outputs": [
        {
          "name": "stdout",
          "output_type": "stream",
          "text": [
            "<class 'pandas.core.frame.DataFrame'>\n",
            "Int64Index: 21001 entries, 0 to 21000\n",
            "Data columns (total 23 columns):\n",
            " #   Column         Non-Null Count  Dtype  \n",
            "---  ------         --------------  -----  \n",
            " 0   Suburb         21001 non-null  object \n",
            " 1   Address        21001 non-null  object \n",
            " 2   Rooms          21001 non-null  float64\n",
            " 3   Type           21001 non-null  object \n",
            " 4   Price          21001 non-null  float64\n",
            " 5   Method         21001 non-null  object \n",
            " 6   SellerG        21001 non-null  object \n",
            " 7   Postcode       21001 non-null  float64\n",
            " 8   Regionname     21001 non-null  object \n",
            " 9   Propertycount  21001 non-null  float64\n",
            " 10  Distance       21001 non-null  float64\n",
            " 11  CouncilArea    21001 non-null  object \n",
            " 12  Bedroom2       21001 non-null  float64\n",
            " 13  Bathroom       21001 non-null  float64\n",
            " 14  Car            21001 non-null  float64\n",
            " 15  Landsize       21001 non-null  float64\n",
            " 16  BuildingArea   21001 non-null  float64\n",
            " 17  YearBuilt      21001 non-null  float64\n",
            " 18  Lattitude      21001 non-null  float64\n",
            " 19  Longtitude     21001 non-null  float64\n",
            " 20  year           21001 non-null  int64  \n",
            " 21  month          21001 non-null  int64  \n",
            " 22  day            21001 non-null  int64  \n",
            "dtypes: float64(13), int64(3), object(7)\n",
            "memory usage: 3.8+ MB\n"
          ]
        }
      ],
      "source": [
        "df=df.drop(['Date'],axis=1)\n",
        "df.info()"
      ]
    },
    {
      "cell_type": "code",
      "execution_count": null,
      "metadata": {
        "colab": {
          "base_uri": "https://localhost:8080/"
        },
        "id": "648qJFi4iW8f",
        "outputId": "004855c1-e0f6-4353-ec89-a01ed15f697a"
      },
      "outputs": [
        {
          "name": "stdout",
          "output_type": "stream",
          "text": [
            "<class 'pandas.core.frame.DataFrame'>\n",
            "Int64Index: 21001 entries, 0 to 21000\n",
            "Data columns (total 16 columns):\n",
            " #   Column         Non-Null Count  Dtype  \n",
            "---  ------         --------------  -----  \n",
            " 0   Rooms          21001 non-null  float64\n",
            " 1   Price          21001 non-null  float64\n",
            " 2   Postcode       21001 non-null  float64\n",
            " 3   Propertycount  21001 non-null  float64\n",
            " 4   Distance       21001 non-null  float64\n",
            " 5   Bedroom2       21001 non-null  float64\n",
            " 6   Bathroom       21001 non-null  float64\n",
            " 7   Car            21001 non-null  float64\n",
            " 8   Landsize       21001 non-null  float64\n",
            " 9   BuildingArea   21001 non-null  float64\n",
            " 10  YearBuilt      21001 non-null  float64\n",
            " 11  Lattitude      21001 non-null  float64\n",
            " 12  Longtitude     21001 non-null  float64\n",
            " 13  year           21001 non-null  int64  \n",
            " 14  month          21001 non-null  int64  \n",
            " 15  day            21001 non-null  int64  \n",
            "dtypes: float64(13), int64(3)\n",
            "memory usage: 2.7 MB\n",
            "None\n"
          ]
        },
        {
          "data": {
            "text/plain": [
              "(21001, 16)"
            ]
          },
          "execution_count": 30,
          "metadata": {},
          "output_type": "execute_result"
        }
      ],
      "source": [
        "numeric=df._get_numeric_data()                            \n",
        "print(numeric.info())\n",
        "numeric.shape"
      ]
    },
    {
      "cell_type": "code",
      "execution_count": null,
      "metadata": {
        "colab": {
          "base_uri": "https://localhost:8080/"
        },
        "id": "_YP6DKdMiia3",
        "outputId": "d829c619-8c90-4c7c-c199-25e4a21a5f69"
      },
      "outputs": [
        {
          "name": "stdout",
          "output_type": "stream",
          "text": [
            "<class 'pandas.core.frame.DataFrame'>\n",
            "Int64Index: 21001 entries, 0 to 21000\n",
            "Data columns (total 7 columns):\n",
            " #   Column       Non-Null Count  Dtype \n",
            "---  ------       --------------  ----- \n",
            " 0   Suburb       21001 non-null  object\n",
            " 1   Address      21001 non-null  object\n",
            " 2   Type         21001 non-null  object\n",
            " 3   Method       21001 non-null  object\n",
            " 4   SellerG      21001 non-null  object\n",
            " 5   Regionname   21001 non-null  object\n",
            " 6   CouncilArea  21001 non-null  object\n",
            "dtypes: object(7)\n",
            "memory usage: 1.3+ MB\n"
          ]
        }
      ],
      "source": [
        "categorical=df.drop(numeric,axis=1)\n",
        "categorical.info()"
      ]
    },
    {
      "cell_type": "code",
      "execution_count": null,
      "metadata": {
        "colab": {
          "base_uri": "https://localhost:8080/"
        },
        "id": "tv_hfQ4btAob",
        "outputId": "74b2da12-ccb4-4e77-e413-60cc40a1c477"
      },
      "outputs": [
        {
          "data": {
            "text/plain": [
              "Index(['Suburb', 'Address', 'Type', 'Method', 'SellerG', 'Regionname',\n",
              "       'CouncilArea'],\n",
              "      dtype='object')"
            ]
          },
          "execution_count": 32,
          "metadata": {},
          "output_type": "execute_result"
        }
      ],
      "source": [
        "categorical.columns"
      ]
    },
    {
      "cell_type": "markdown",
      "source": [
        "converting the categorical data to numerical data by using the get dummies"
      ],
      "metadata": {
        "id": "lUMluPEzqMSw"
      }
    },
    {
      "cell_type": "code",
      "execution_count": null,
      "metadata": {
        "id": "EgwWb2q3iwlt"
      },
      "outputs": [],
      "source": [
        "cat=pd.get_dummies(categorical)"
      ]
    },
    {
      "cell_type": "code",
      "execution_count": null,
      "metadata": {
        "colab": {
          "base_uri": "https://localhost:8080/",
          "height": 334
        },
        "id": "IoVOFV23paxN",
        "outputId": "1edc99b9-c352-45e2-af1e-108b2d0cff2c"
      },
      "outputs": [
        {
          "data": {
            "text/html": [
              "<div>\n",
              "<style scoped>\n",
              "    .dataframe tbody tr th:only-of-type {\n",
              "        vertical-align: middle;\n",
              "    }\n",
              "\n",
              "    .dataframe tbody tr th {\n",
              "        vertical-align: top;\n",
              "    }\n",
              "\n",
              "    .dataframe thead th {\n",
              "        text-align: right;\n",
              "    }\n",
              "</style>\n",
              "<table border=\"1\" class=\"dataframe\">\n",
              "  <thead>\n",
              "    <tr style=\"text-align: right;\">\n",
              "      <th></th>\n",
              "      <th>Suburb_Abbotsford</th>\n",
              "      <th>Suburb_Aberfeldie</th>\n",
              "      <th>Suburb_Airport West</th>\n",
              "      <th>Suburb_Albanvale</th>\n",
              "      <th>Suburb_Albert Park</th>\n",
              "      <th>Suburb_Albion</th>\n",
              "      <th>Suburb_Alphington</th>\n",
              "      <th>Suburb_Altona</th>\n",
              "      <th>Suburb_Altona Meadows</th>\n",
              "      <th>Suburb_Altona North</th>\n",
              "      <th>...</th>\n",
              "      <th>CouncilArea_Moorabool Shire Council</th>\n",
              "      <th>CouncilArea_Moreland City Council</th>\n",
              "      <th>CouncilArea_Nillumbik Shire Council</th>\n",
              "      <th>CouncilArea_Port Phillip City Council</th>\n",
              "      <th>CouncilArea_Stonnington City Council</th>\n",
              "      <th>CouncilArea_Whitehorse City Council</th>\n",
              "      <th>CouncilArea_Whittlesea City Council</th>\n",
              "      <th>CouncilArea_Wyndham City Council</th>\n",
              "      <th>CouncilArea_Yarra City Council</th>\n",
              "      <th>CouncilArea_Yarra Ranges Shire Council</th>\n",
              "    </tr>\n",
              "  </thead>\n",
              "  <tbody>\n",
              "    <tr>\n",
              "      <th>0</th>\n",
              "      <td>1</td>\n",
              "      <td>0</td>\n",
              "      <td>0</td>\n",
              "      <td>0</td>\n",
              "      <td>0</td>\n",
              "      <td>0</td>\n",
              "      <td>0</td>\n",
              "      <td>0</td>\n",
              "      <td>0</td>\n",
              "      <td>0</td>\n",
              "      <td>...</td>\n",
              "      <td>0</td>\n",
              "      <td>0</td>\n",
              "      <td>0</td>\n",
              "      <td>0</td>\n",
              "      <td>0</td>\n",
              "      <td>0</td>\n",
              "      <td>0</td>\n",
              "      <td>0</td>\n",
              "      <td>1</td>\n",
              "      <td>0</td>\n",
              "    </tr>\n",
              "    <tr>\n",
              "      <th>1</th>\n",
              "      <td>0</td>\n",
              "      <td>0</td>\n",
              "      <td>1</td>\n",
              "      <td>0</td>\n",
              "      <td>0</td>\n",
              "      <td>0</td>\n",
              "      <td>0</td>\n",
              "      <td>0</td>\n",
              "      <td>0</td>\n",
              "      <td>0</td>\n",
              "      <td>...</td>\n",
              "      <td>0</td>\n",
              "      <td>0</td>\n",
              "      <td>0</td>\n",
              "      <td>0</td>\n",
              "      <td>0</td>\n",
              "      <td>0</td>\n",
              "      <td>0</td>\n",
              "      <td>0</td>\n",
              "      <td>0</td>\n",
              "      <td>0</td>\n",
              "    </tr>\n",
              "    <tr>\n",
              "      <th>2</th>\n",
              "      <td>0</td>\n",
              "      <td>0</td>\n",
              "      <td>1</td>\n",
              "      <td>0</td>\n",
              "      <td>0</td>\n",
              "      <td>0</td>\n",
              "      <td>0</td>\n",
              "      <td>0</td>\n",
              "      <td>0</td>\n",
              "      <td>0</td>\n",
              "      <td>...</td>\n",
              "      <td>0</td>\n",
              "      <td>0</td>\n",
              "      <td>0</td>\n",
              "      <td>0</td>\n",
              "      <td>0</td>\n",
              "      <td>0</td>\n",
              "      <td>0</td>\n",
              "      <td>0</td>\n",
              "      <td>0</td>\n",
              "      <td>0</td>\n",
              "    </tr>\n",
              "    <tr>\n",
              "      <th>3</th>\n",
              "      <td>0</td>\n",
              "      <td>0</td>\n",
              "      <td>1</td>\n",
              "      <td>0</td>\n",
              "      <td>0</td>\n",
              "      <td>0</td>\n",
              "      <td>0</td>\n",
              "      <td>0</td>\n",
              "      <td>0</td>\n",
              "      <td>0</td>\n",
              "      <td>...</td>\n",
              "      <td>0</td>\n",
              "      <td>0</td>\n",
              "      <td>0</td>\n",
              "      <td>0</td>\n",
              "      <td>0</td>\n",
              "      <td>0</td>\n",
              "      <td>0</td>\n",
              "      <td>0</td>\n",
              "      <td>0</td>\n",
              "      <td>0</td>\n",
              "    </tr>\n",
              "    <tr>\n",
              "      <th>4</th>\n",
              "      <td>0</td>\n",
              "      <td>0</td>\n",
              "      <td>1</td>\n",
              "      <td>0</td>\n",
              "      <td>0</td>\n",
              "      <td>0</td>\n",
              "      <td>0</td>\n",
              "      <td>0</td>\n",
              "      <td>0</td>\n",
              "      <td>0</td>\n",
              "      <td>...</td>\n",
              "      <td>0</td>\n",
              "      <td>0</td>\n",
              "      <td>0</td>\n",
              "      <td>0</td>\n",
              "      <td>0</td>\n",
              "      <td>0</td>\n",
              "      <td>0</td>\n",
              "      <td>0</td>\n",
              "      <td>0</td>\n",
              "      <td>0</td>\n",
              "    </tr>\n",
              "  </tbody>\n",
              "</table>\n",
              "<p>5 rows × 21390 columns</p>\n",
              "</div>"
            ],
            "text/plain": [
              "   Suburb_Abbotsford  Suburb_Aberfeldie  Suburb_Airport West  \\\n",
              "0                  1                  0                    0   \n",
              "1                  0                  0                    1   \n",
              "2                  0                  0                    1   \n",
              "3                  0                  0                    1   \n",
              "4                  0                  0                    1   \n",
              "\n",
              "   Suburb_Albanvale  Suburb_Albert Park  Suburb_Albion  Suburb_Alphington  \\\n",
              "0                 0                   0              0                  0   \n",
              "1                 0                   0              0                  0   \n",
              "2                 0                   0              0                  0   \n",
              "3                 0                   0              0                  0   \n",
              "4                 0                   0              0                  0   \n",
              "\n",
              "   Suburb_Altona  Suburb_Altona Meadows  Suburb_Altona North  ...  \\\n",
              "0              0                      0                    0  ...   \n",
              "1              0                      0                    0  ...   \n",
              "2              0                      0                    0  ...   \n",
              "3              0                      0                    0  ...   \n",
              "4              0                      0                    0  ...   \n",
              "\n",
              "   CouncilArea_Moorabool Shire Council  CouncilArea_Moreland City Council  \\\n",
              "0                                    0                                  0   \n",
              "1                                    0                                  0   \n",
              "2                                    0                                  0   \n",
              "3                                    0                                  0   \n",
              "4                                    0                                  0   \n",
              "\n",
              "   CouncilArea_Nillumbik Shire Council  CouncilArea_Port Phillip City Council  \\\n",
              "0                                    0                                      0   \n",
              "1                                    0                                      0   \n",
              "2                                    0                                      0   \n",
              "3                                    0                                      0   \n",
              "4                                    0                                      0   \n",
              "\n",
              "   CouncilArea_Stonnington City Council  CouncilArea_Whitehorse City Council  \\\n",
              "0                                     0                                    0   \n",
              "1                                     0                                    0   \n",
              "2                                     0                                    0   \n",
              "3                                     0                                    0   \n",
              "4                                     0                                    0   \n",
              "\n",
              "   CouncilArea_Whittlesea City Council  CouncilArea_Wyndham City Council  \\\n",
              "0                                    0                                 0   \n",
              "1                                    0                                 0   \n",
              "2                                    0                                 0   \n",
              "3                                    0                                 0   \n",
              "4                                    0                                 0   \n",
              "\n",
              "   CouncilArea_Yarra City Council  CouncilArea_Yarra Ranges Shire Council  \n",
              "0                               1                                       0  \n",
              "1                               0                                       0  \n",
              "2                               0                                       0  \n",
              "3                               0                                       0  \n",
              "4                               0                                       0  \n",
              "\n",
              "[5 rows x 21390 columns]"
            ]
          },
          "execution_count": 34,
          "metadata": {},
          "output_type": "execute_result"
        }
      ],
      "source": [
        "cat.head()"
      ]
    },
    {
      "cell_type": "code",
      "execution_count": null,
      "metadata": {
        "colab": {
          "base_uri": "https://localhost:8080/",
          "height": 317
        },
        "id": "phjTrFuyphZC",
        "outputId": "495d5f8a-7d34-44a7-91c0-6558fa45d5dd"
      },
      "outputs": [
        {
          "data": {
            "text/html": [
              "<div>\n",
              "<style scoped>\n",
              "    .dataframe tbody tr th:only-of-type {\n",
              "        vertical-align: middle;\n",
              "    }\n",
              "\n",
              "    .dataframe tbody tr th {\n",
              "        vertical-align: top;\n",
              "    }\n",
              "\n",
              "    .dataframe thead th {\n",
              "        text-align: right;\n",
              "    }\n",
              "</style>\n",
              "<table border=\"1\" class=\"dataframe\">\n",
              "  <thead>\n",
              "    <tr style=\"text-align: right;\">\n",
              "      <th></th>\n",
              "      <th>Suburb_Abbotsford</th>\n",
              "      <th>Suburb_Aberfeldie</th>\n",
              "      <th>Suburb_Airport West</th>\n",
              "      <th>Suburb_Albanvale</th>\n",
              "      <th>Suburb_Albert Park</th>\n",
              "      <th>Suburb_Albion</th>\n",
              "      <th>Suburb_Alphington</th>\n",
              "      <th>Suburb_Altona</th>\n",
              "      <th>Suburb_Altona Meadows</th>\n",
              "      <th>Suburb_Altona North</th>\n",
              "      <th>...</th>\n",
              "      <th>Bathroom</th>\n",
              "      <th>Car</th>\n",
              "      <th>Landsize</th>\n",
              "      <th>BuildingArea</th>\n",
              "      <th>YearBuilt</th>\n",
              "      <th>Lattitude</th>\n",
              "      <th>Longtitude</th>\n",
              "      <th>year</th>\n",
              "      <th>month</th>\n",
              "      <th>day</th>\n",
              "    </tr>\n",
              "  </thead>\n",
              "  <tbody>\n",
              "    <tr>\n",
              "      <th>0</th>\n",
              "      <td>1</td>\n",
              "      <td>0</td>\n",
              "      <td>0</td>\n",
              "      <td>0</td>\n",
              "      <td>0</td>\n",
              "      <td>0</td>\n",
              "      <td>0</td>\n",
              "      <td>0</td>\n",
              "      <td>0</td>\n",
              "      <td>0</td>\n",
              "      <td>...</td>\n",
              "      <td>1.686738</td>\n",
              "      <td>1.859336</td>\n",
              "      <td>701.120483</td>\n",
              "      <td>170.092839</td>\n",
              "      <td>1968.970198</td>\n",
              "      <td>-37.809867</td>\n",
              "      <td>145.009723</td>\n",
              "      <td>2017</td>\n",
              "      <td>1</td>\n",
              "      <td>7</td>\n",
              "    </tr>\n",
              "    <tr>\n",
              "      <th>1</th>\n",
              "      <td>0</td>\n",
              "      <td>0</td>\n",
              "      <td>1</td>\n",
              "      <td>0</td>\n",
              "      <td>0</td>\n",
              "      <td>0</td>\n",
              "      <td>0</td>\n",
              "      <td>0</td>\n",
              "      <td>0</td>\n",
              "      <td>0</td>\n",
              "      <td>...</td>\n",
              "      <td>1.686738</td>\n",
              "      <td>1.859336</td>\n",
              "      <td>701.120483</td>\n",
              "      <td>170.092839</td>\n",
              "      <td>1968.970198</td>\n",
              "      <td>-37.809867</td>\n",
              "      <td>145.009723</td>\n",
              "      <td>2017</td>\n",
              "      <td>1</td>\n",
              "      <td>7</td>\n",
              "    </tr>\n",
              "    <tr>\n",
              "      <th>2</th>\n",
              "      <td>0</td>\n",
              "      <td>0</td>\n",
              "      <td>1</td>\n",
              "      <td>0</td>\n",
              "      <td>0</td>\n",
              "      <td>0</td>\n",
              "      <td>0</td>\n",
              "      <td>0</td>\n",
              "      <td>0</td>\n",
              "      <td>0</td>\n",
              "      <td>...</td>\n",
              "      <td>1.686738</td>\n",
              "      <td>1.859336</td>\n",
              "      <td>701.120483</td>\n",
              "      <td>170.092839</td>\n",
              "      <td>1968.970198</td>\n",
              "      <td>-37.809867</td>\n",
              "      <td>145.009723</td>\n",
              "      <td>2017</td>\n",
              "      <td>1</td>\n",
              "      <td>7</td>\n",
              "    </tr>\n",
              "    <tr>\n",
              "      <th>3</th>\n",
              "      <td>0</td>\n",
              "      <td>0</td>\n",
              "      <td>1</td>\n",
              "      <td>0</td>\n",
              "      <td>0</td>\n",
              "      <td>0</td>\n",
              "      <td>0</td>\n",
              "      <td>0</td>\n",
              "      <td>0</td>\n",
              "      <td>0</td>\n",
              "      <td>...</td>\n",
              "      <td>1.686738</td>\n",
              "      <td>1.859336</td>\n",
              "      <td>701.120483</td>\n",
              "      <td>170.092839</td>\n",
              "      <td>1968.970198</td>\n",
              "      <td>-37.809867</td>\n",
              "      <td>145.009723</td>\n",
              "      <td>2017</td>\n",
              "      <td>1</td>\n",
              "      <td>7</td>\n",
              "    </tr>\n",
              "    <tr>\n",
              "      <th>4</th>\n",
              "      <td>0</td>\n",
              "      <td>0</td>\n",
              "      <td>1</td>\n",
              "      <td>0</td>\n",
              "      <td>0</td>\n",
              "      <td>0</td>\n",
              "      <td>0</td>\n",
              "      <td>0</td>\n",
              "      <td>0</td>\n",
              "      <td>0</td>\n",
              "      <td>...</td>\n",
              "      <td>1.686738</td>\n",
              "      <td>1.859336</td>\n",
              "      <td>701.120483</td>\n",
              "      <td>170.092839</td>\n",
              "      <td>1968.970198</td>\n",
              "      <td>-37.809867</td>\n",
              "      <td>145.009723</td>\n",
              "      <td>2017</td>\n",
              "      <td>1</td>\n",
              "      <td>7</td>\n",
              "    </tr>\n",
              "  </tbody>\n",
              "</table>\n",
              "<p>5 rows × 21406 columns</p>\n",
              "</div>"
            ],
            "text/plain": [
              "   Suburb_Abbotsford  Suburb_Aberfeldie  Suburb_Airport West  \\\n",
              "0                  1                  0                    0   \n",
              "1                  0                  0                    1   \n",
              "2                  0                  0                    1   \n",
              "3                  0                  0                    1   \n",
              "4                  0                  0                    1   \n",
              "\n",
              "   Suburb_Albanvale  Suburb_Albert Park  Suburb_Albion  Suburb_Alphington  \\\n",
              "0                 0                   0              0                  0   \n",
              "1                 0                   0              0                  0   \n",
              "2                 0                   0              0                  0   \n",
              "3                 0                   0              0                  0   \n",
              "4                 0                   0              0                  0   \n",
              "\n",
              "   Suburb_Altona  Suburb_Altona Meadows  Suburb_Altona North  ...  Bathroom  \\\n",
              "0              0                      0                    0  ...  1.686738   \n",
              "1              0                      0                    0  ...  1.686738   \n",
              "2              0                      0                    0  ...  1.686738   \n",
              "3              0                      0                    0  ...  1.686738   \n",
              "4              0                      0                    0  ...  1.686738   \n",
              "\n",
              "        Car    Landsize  BuildingArea    YearBuilt  Lattitude  Longtitude  \\\n",
              "0  1.859336  701.120483    170.092839  1968.970198 -37.809867  145.009723   \n",
              "1  1.859336  701.120483    170.092839  1968.970198 -37.809867  145.009723   \n",
              "2  1.859336  701.120483    170.092839  1968.970198 -37.809867  145.009723   \n",
              "3  1.859336  701.120483    170.092839  1968.970198 -37.809867  145.009723   \n",
              "4  1.859336  701.120483    170.092839  1968.970198 -37.809867  145.009723   \n",
              "\n",
              "   year  month  day  \n",
              "0  2017      1    7  \n",
              "1  2017      1    7  \n",
              "2  2017      1    7  \n",
              "3  2017      1    7  \n",
              "4  2017      1    7  \n",
              "\n",
              "[5 rows x 21406 columns]"
            ]
          },
          "execution_count": 35,
          "metadata": {},
          "output_type": "execute_result"
        }
      ],
      "source": [
        "# concating the numerical column and updated categorical column \n",
        "final_df=pd.concat([cat,numeric],axis=1)\n",
        "final_df.head()"
      ]
    },
    {
      "cell_type": "code",
      "execution_count": null,
      "metadata": {
        "id": "VxPHXYnYs7az",
        "outputId": "d9fc4a75-17b2-4c1c-a837-5d0e1d9a38b1"
      },
      "outputs": [
        {
          "data": {
            "text/plain": [
              "(21001, 21406)"
            ]
          },
          "execution_count": 36,
          "metadata": {},
          "output_type": "execute_result"
        }
      ],
      "source": [
        "final_df.shape"
      ]
    },
    {
      "cell_type": "code",
      "execution_count": null,
      "metadata": {
        "colab": {
          "base_uri": "https://localhost:8080/"
        },
        "id": "9WL-0q14oQQG",
        "outputId": "f095e5c3-dae1-4987-8a2d-ba865c100c96"
      },
      "outputs": [
        {
          "data": {
            "text/plain": [
              "Suburb_Abbotsford      0\n",
              "Suburb_Aberfeldie      0\n",
              "Suburb_Airport West    0\n",
              "Suburb_Albanvale       0\n",
              "Suburb_Albert Park     0\n",
              "                      ..\n",
              "Lattitude              0\n",
              "Longtitude             0\n",
              "year                   0\n",
              "month                  0\n",
              "day                    0\n",
              "Length: 21406, dtype: int64"
            ]
          },
          "execution_count": 37,
          "metadata": {},
          "output_type": "execute_result"
        }
      ],
      "source": [
        "final_df.isnull().sum()"
      ]
    },
    {
      "cell_type": "code",
      "execution_count": null,
      "metadata": {
        "colab": {
          "base_uri": "https://localhost:8080/"
        },
        "id": "yjx5EYHuxDLO",
        "outputId": "df76157e-a733-4fb1-a77b-c943cd982561"
      },
      "outputs": [
        {
          "name": "stdout",
          "output_type": "stream",
          "text": [
            "<class 'pandas.core.frame.DataFrame'>\n",
            "Int64Index: 21001 entries, 0 to 21000\n",
            "Columns: 21406 entries, Suburb_Abbotsford to day\n",
            "dtypes: float64(13), int64(3), uint8(21390)\n",
            "memory usage: 431.1 MB\n"
          ]
        }
      ],
      "source": [
        "final_df.info()"
      ]
    },
    {
      "cell_type": "markdown",
      "source": [
        "applying the PCA for the dimensionallity reduction "
      ],
      "metadata": {
        "id": "XKMAoYBIqctJ"
      }
    },
    {
      "cell_type": "code",
      "execution_count": null,
      "metadata": {
        "id": "fev11itww2pO",
        "outputId": "78f47ac3-3246-4ef0-e1ed-dc3cc18b9e51"
      },
      "outputs": [
        {
          "name": "stdout",
          "output_type": "stream",
          "text": [
            "[[  9.44927241+0.j  -5.35922901+0.j   0.62444186+0.j ...   0.04016215+0.j\n",
            "    0.35041193+0.j   0.1582797 +0.j]\n",
            " [  9.45107628+0.j  -5.36172486+0.j   0.33220505+0.j ...   0.17176126+0.j\n",
            "   -0.6087163 +0.j   0.56694739+0.j]\n",
            " [  9.45079822+0.j  -5.36154902+0.j  -0.28546667+0.j ...   0.04406264+0.j\n",
            "   -1.38712948+0.j   0.26499513+0.j]\n",
            " ...\n",
            " [-14.08889692+0.j   0.8245938 +0.j   0.32180964+0.j ...   0.26546732+0.j\n",
            "    0.07897269+0.j  -0.18550583+0.j]\n",
            " [-14.09093915+0.j   0.82532813+0.j   0.38812103+0.j ...  -0.46853853+0.j\n",
            "   -0.04590232+0.j  -0.14311992+0.j]\n",
            " [-14.08950651+0.j   0.82530066+0.j   0.83628129+0.j ...   0.09361259+0.j\n",
            "    0.21674845+0.j   0.14678014+0.j]]\n"
          ]
        }
      ],
      "source": [
        "\n",
        "# Convert the DataFrame to a numpy array\n",
        "X =final_df.to_numpy()\n",
        "\n",
        "# Calculate the mean of each column\n",
        "mean = np.mean(X, axis=0)\n",
        "\n",
        "# Center the data by subtracting the mean from each column\n",
        "X_centered = X - mean\n",
        "\n",
        "# Calculate the covariance matrix of the centered data\n",
        "covariance = np.cov(X_centered.T)\n",
        "\n",
        "# Calculate the eigenvectors and eigenvalues of the covariance matrix\n",
        "eigenvalues, eigenvectors = np.linalg.eig(covariance)\n",
        "\n",
        "# Sort the eigenvectors by decreasing eigenvalues\n",
        "sorted_indices = np.argsort(eigenvalues)[::-1]\n",
        "sorted_eigenvectors = eigenvectors[:, sorted_indices]\n",
        "\n",
        "# Select the first k eigenvectors to form the new basis\n",
        "k = 7\n",
        "principal_components = sorted_eigenvectors[:, :k]\n",
        "\n",
        "# Project the original data onto the new basis to obtain the principal components\n",
        "transformed_data = np.dot(X_centered, principal_components)\n",
        "\n",
        "print(transformed_data)\n"
      ]
    },
    {
      "cell_type": "markdown",
      "metadata": {
        "id": "trWaa6POqpbV"
      },
      "source": [
        "## 1 Here we split the data into train data, test data "
      ]
    },
    {
      "cell_type": "code",
      "execution_count": null,
      "metadata": {
        "id": "KquWOENmp9q9"
      },
      "outputs": [],
      "source": [
        "# importing neccessary libraries\n",
        "from sklearn.model_selection import train_test_split\n",
        "\n",
        "# splitting of data\n",
        "X = final_df.drop(['Price'],axis=1)\n",
        "y = final_df['Price']"
      ]
    },
    {
      "cell_type": "code",
      "execution_count": null,
      "metadata": {
        "id": "2aszD6BqrO2T"
      },
      "outputs": [],
      "source": [
        "X_train, X_test, y_train, y_test = train_test_split(X,y, test_size=0.3, random_state=42)"
      ]
    },
    {
      "cell_type": "code",
      "execution_count": null,
      "metadata": {
        "colab": {
          "base_uri": "https://localhost:8080/"
        },
        "id": "ZWsfrDbcrvE9",
        "outputId": "baaa9f85-10b3-48b3-a1a5-a30b34640aca"
      },
      "outputs": [
        {
          "name": "stdout",
          "output_type": "stream",
          "text": [
            "(14700, 21405)\n",
            "(6301, 21405)\n",
            "(14700,)\n",
            "(6301,)\n"
          ]
        }
      ],
      "source": [
        "print(X_train.shape)\n",
        "print(X_test.shape)\n",
        "print(y_train.shape)\n",
        "print(y_test.shape)"
      ]
    },
    {
      "cell_type": "code",
      "execution_count": null,
      "metadata": {
        "id": "1Mtd5UjXrSyb"
      },
      "outputs": [],
      "source": [
        "# def min_max_scaler(X_train):\n",
        "   \n",
        "#     # Compute the minimum and maximum values for each column of x\n",
        "#     train_min = np.min(X_train, axis=0)\n",
        "#     train_max = np.max(X_train, axis=0)\n",
        "    \n",
        "#     # Scale each column of x to the range [0, 1]\n",
        "#     train_scaled = (X_train - train_min) / (train_max - train_min)\n",
        "    \n",
        "#     return train_scaled\n",
        "# train_scaled = min_max_scaler(X_train)"
      ]
    },
    {
      "cell_type": "code",
      "execution_count": null,
      "metadata": {
        "colab": {
          "base_uri": "https://localhost:8080/"
        },
        "id": "gDNnVqUNtWoI",
        "outputId": "65c7a055-7fe6-4609-fde3-e53510e9a771"
      },
      "outputs": [
        {
          "data": {
            "text/plain": [
              "array([[0.000e+00, 0.000e+00, 0.000e+00, ..., 2.017e+03, 1.000e+01,\n",
              "        2.800e+01],\n",
              "       [0.000e+00, 0.000e+00, 0.000e+00, ..., 2.017e+03, 1.000e+01,\n",
              "        2.800e+01],\n",
              "       [0.000e+00, 0.000e+00, 0.000e+00, ..., 2.018e+03, 6.000e+00,\n",
              "        1.000e+00],\n",
              "       ...,\n",
              "       [0.000e+00, 0.000e+00, 0.000e+00, ..., 2.017e+03, 9.000e+00,\n",
              "        1.200e+01],\n",
              "       [0.000e+00, 0.000e+00, 0.000e+00, ..., 2.018e+03, 3.000e+00,\n",
              "        3.000e+00],\n",
              "       [0.000e+00, 0.000e+00, 0.000e+00, ..., 2.018e+03, 2.000e+00,\n",
              "        2.400e+01]])"
            ]
          },
          "execution_count": 44,
          "metadata": {},
          "output_type": "execute_result"
        }
      ],
      "source": [
        "X_train.values\n"
      ]
    },
    {
      "cell_type": "code",
      "execution_count": null,
      "metadata": {
        "id": "j2cjQC1Ozjl_"
      },
      "outputs": [],
      "source": []
    },
    {
      "cell_type": "code",
      "execution_count": null,
      "metadata": {
        "colab": {
          "base_uri": "https://localhost:8080/"
        },
        "id": "KQENYxfetteF",
        "outputId": "dff32494-3c9d-49d3-cf4b-1215e03f2ec9"
      },
      "outputs": [
        {
          "data": {
            "text/plain": [
              "array([1033030.29421417, 1033030.29421417, 1033030.29421417, ...,\n",
              "       1033030.29421417, 1033030.29421417, 1033030.29421417])"
            ]
          },
          "execution_count": 45,
          "metadata": {},
          "output_type": "execute_result"
        }
      ],
      "source": [
        "y_train.values"
      ]
    },
    {
      "cell_type": "code",
      "execution_count": null,
      "metadata": {
        "id": "6DWEnEusuawt"
      },
      "outputs": [],
      "source": [
        "X=X_train\n",
        "Y=y_train"
      ]
    },
    {
      "cell_type": "code",
      "execution_count": null,
      "metadata": {
        "colab": {
          "base_uri": "https://localhost:8080/"
        },
        "id": "T5nHvr8NxH-z",
        "outputId": "0248f0db-2b20-42c3-cd72-0098c256087c"
      },
      "outputs": [
        {
          "data": {
            "text/plain": [
              "array([[0.000e+00, 0.000e+00, 0.000e+00, ..., 2.017e+03, 1.000e+01,\n",
              "        2.800e+01],\n",
              "       [0.000e+00, 0.000e+00, 0.000e+00, ..., 2.017e+03, 1.000e+01,\n",
              "        2.800e+01],\n",
              "       [0.000e+00, 0.000e+00, 0.000e+00, ..., 2.018e+03, 6.000e+00,\n",
              "        1.000e+00],\n",
              "       ...,\n",
              "       [0.000e+00, 0.000e+00, 0.000e+00, ..., 2.017e+03, 9.000e+00,\n",
              "        1.200e+01],\n",
              "       [0.000e+00, 0.000e+00, 0.000e+00, ..., 2.018e+03, 3.000e+00,\n",
              "        3.000e+00],\n",
              "       [0.000e+00, 0.000e+00, 0.000e+00, ..., 2.018e+03, 2.000e+00,\n",
              "        2.400e+01]])"
            ]
          },
          "execution_count": 47,
          "metadata": {},
          "output_type": "execute_result"
        }
      ],
      "source": [
        "X=X.values\n",
        "X"
      ]
    },
    {
      "cell_type": "code",
      "execution_count": null,
      "metadata": {
        "colab": {
          "base_uri": "https://localhost:8080/"
        },
        "id": "EOAXvx8CxKfq",
        "outputId": "abdb67f7-9c61-4e5a-f01d-f7d33ba6bf44"
      },
      "outputs": [
        {
          "data": {
            "text/plain": [
              "21405"
            ]
          },
          "execution_count": 48,
          "metadata": {},
          "output_type": "execute_result"
        }
      ],
      "source": [
        "X.shape[1]"
      ]
    },
    {
      "cell_type": "code",
      "execution_count": null,
      "metadata": {
        "colab": {
          "base_uri": "https://localhost:8080/"
        },
        "id": "SJaTV4kGyBK6",
        "outputId": "18d89c93-c656-407e-eb09-50cea98306a7"
      },
      "outputs": [
        {
          "data": {
            "text/plain": [
              "14700"
            ]
          },
          "execution_count": 49,
          "metadata": {},
          "output_type": "execute_result"
        }
      ],
      "source": [
        "Y.shape[0]"
      ]
    },
    {
      "cell_type": "code",
      "execution_count": null,
      "metadata": {
        "id": "KPcwLi9QyGxA"
      },
      "outputs": [],
      "source": [
        "x_train=X_train.values"
      ]
    },
    {
      "cell_type": "code",
      "execution_count": null,
      "metadata": {
        "colab": {
          "base_uri": "https://localhost:8080/"
        },
        "id": "kv-EFi8HyVfR",
        "outputId": "c2975cac-8a0d-49c6-88fe-cee1cc2368ed"
      },
      "outputs": [
        {
          "data": {
            "text/plain": [
              "array([[0.000e+00, 0.000e+00, 0.000e+00, ..., 2.017e+03, 1.000e+01,\n",
              "        2.800e+01],\n",
              "       [0.000e+00, 0.000e+00, 0.000e+00, ..., 2.017e+03, 1.000e+01,\n",
              "        2.800e+01],\n",
              "       [0.000e+00, 0.000e+00, 0.000e+00, ..., 2.018e+03, 6.000e+00,\n",
              "        1.000e+00],\n",
              "       ...,\n",
              "       [0.000e+00, 0.000e+00, 0.000e+00, ..., 2.017e+03, 9.000e+00,\n",
              "        1.200e+01],\n",
              "       [0.000e+00, 0.000e+00, 0.000e+00, ..., 2.018e+03, 3.000e+00,\n",
              "        3.000e+00],\n",
              "       [0.000e+00, 0.000e+00, 0.000e+00, ..., 2.018e+03, 2.000e+00,\n",
              "        2.400e+01]])"
            ]
          },
          "execution_count": 51,
          "metadata": {},
          "output_type": "execute_result"
        }
      ],
      "source": [
        "x_train"
      ]
    },
    {
      "cell_type": "code",
      "execution_count": null,
      "metadata": {
        "colab": {
          "base_uri": "https://localhost:8080/"
        },
        "id": "JHLG6s1R0SX2",
        "outputId": "d596a685-608e-417a-fae0-b3c7b1928290"
      },
      "outputs": [
        {
          "data": {
            "text/plain": [
              "array([[0.000e+00, 0.000e+00, 0.000e+00, ..., 2.017e+03, 3.000e+00,\n",
              "        9.000e+00],\n",
              "       [0.000e+00, 0.000e+00, 0.000e+00, ..., 2.018e+03, 2.000e+00,\n",
              "        2.400e+01],\n",
              "       [0.000e+00, 0.000e+00, 0.000e+00, ..., 2.018e+03, 2.000e+00,\n",
              "        1.700e+01],\n",
              "       ...,\n",
              "       [0.000e+00, 0.000e+00, 0.000e+00, ..., 2.017e+03, 6.000e+00,\n",
              "        1.700e+01],\n",
              "       [0.000e+00, 0.000e+00, 0.000e+00, ..., 2.017e+03, 5.000e+00,\n",
              "        2.700e+01],\n",
              "       [0.000e+00, 0.000e+00, 0.000e+00, ..., 2.017e+03, 3.000e+00,\n",
              "        9.000e+00]])"
            ]
          },
          "execution_count": 52,
          "metadata": {},
          "output_type": "execute_result"
        }
      ],
      "source": [
        "x_test=X_test.values\n",
        "x_test"
      ]
    },
    {
      "cell_type": "code",
      "execution_count": null,
      "metadata": {
        "id": "RTxBduDc0aa8"
      },
      "outputs": [],
      "source": [
        "y_test=y_test.values\n",
        "y_train = y_train.values\n"
      ]
    },
    {
      "cell_type": "code",
      "execution_count": null,
      "metadata": {
        "colab": {
          "base_uri": "https://localhost:8080/"
        },
        "id": "3NQzvVp60kJr",
        "outputId": "871e7a0f-2dbe-472a-9e69-13b81155b2ff"
      },
      "outputs": [
        {
          "data": {
            "text/plain": [
              "array([1033030.29421417, 1033030.29421417, 1033030.29421417, ...,\n",
              "       1033030.29421417, 1033030.29421417, 1033030.29421417])"
            ]
          },
          "execution_count": 54,
          "metadata": {},
          "output_type": "execute_result"
        }
      ],
      "source": [
        "y_train"
      ]
    },
    {
      "cell_type": "code",
      "execution_count": null,
      "metadata": {
        "colab": {
          "base_uri": "https://localhost:8080/"
        },
        "id": "Bq1uc-Ef3OzN",
        "outputId": "9aa80e39-5c5e-4647-85dd-5961469d9914"
      },
      "outputs": [
        {
          "data": {
            "text/plain": [
              "21405"
            ]
          },
          "execution_count": 55,
          "metadata": {},
          "output_type": "execute_result"
        }
      ],
      "source": [
        "X.shape[1]"
      ]
    },
    {
      "cell_type": "code",
      "execution_count": null,
      "metadata": {
        "colab": {
          "base_uri": "https://localhost:8080/"
        },
        "id": "G3m5-zzb3TMp",
        "outputId": "dd6fc5e1-76f2-42ca-e463-5fe45adc0dca"
      },
      "outputs": [
        {
          "data": {
            "text/plain": [
              "14700"
            ]
          },
          "execution_count": 56,
          "metadata": {},
          "output_type": "execute_result"
        }
      ],
      "source": [
        "Y.shape[0]"
      ]
    },
    {
      "cell_type": "code",
      "execution_count": null,
      "metadata": {
        "id": "QY9M-uUs0mwV"
      },
      "outputs": [],
      "source": [
        "import tensorflow.keras\n",
        "from tensorflow.keras.models import Sequential\n",
        "from tensorflow.keras.layers import Dense"
      ]
    },
    {
      "cell_type": "code",
      "execution_count": null,
      "metadata": {
        "id": "cFf_hX7J3Ifx"
      },
      "outputs": [],
      "source": [
        "model=Sequential()\n",
        "model.add(Dense(21405,activation='relu',input_dim=21405))\n",
        "model.add(Dense(1,activation='linear'))"
      ]
    },
    {
      "cell_type": "code",
      "execution_count": null,
      "metadata": {
        "id": "XIjXJCp63erK",
        "outputId": "ce566714-fa0a-4048-a97d-37d605e8e9b3"
      },
      "outputs": [
        {
          "name": "stdout",
          "output_type": "stream",
          "text": [
            "Model: \"sequential\"\n",
            "_________________________________________________________________\n",
            "Layer (type)                 Output Shape              Param #   \n",
            "=================================================================\n",
            "dense (Dense)                (None, 21405)             458195430 \n",
            "_________________________________________________________________\n",
            "dense_1 (Dense)              (None, 1)                 21406     \n",
            "=================================================================\n",
            "Total params: 458,216,836\n",
            "Trainable params: 458,216,836\n",
            "Non-trainable params: 0\n",
            "_________________________________________________________________\n"
          ]
        }
      ],
      "source": [
        "model.summary()"
      ]
    },
    {
      "cell_type": "code",
      "execution_count": null,
      "metadata": {
        "id": "1-XniFJH3em6"
      },
      "outputs": [],
      "source": [
        "model.compile(optimizer='adam',loss='mean_squared_error')"
      ]
    },
    {
      "cell_type": "code",
      "execution_count": null,
      "metadata": {
        "id": "fQ5SHKe13egT",
        "outputId": "5950f1e4-7642-4c68-8e97-6dd5b5b0a1ee"
      },
      "outputs": [
        {
          "name": "stdout",
          "output_type": "stream",
          "text": [
            "Epoch 1/5\n",
            "368/368 [==============================] - 669s 2s/step - loss: 129478664192.0000 - val_loss: 332021.3438\n",
            "Epoch 2/5\n",
            "368/368 [==============================] - 677s 2s/step - loss: 318926.5312 - val_loss: 326193.6250\n",
            "Epoch 3/5\n",
            "368/368 [==============================] - 677s 2s/step - loss: 306244.9062 - val_loss: 317071.7812\n",
            "Epoch 4/5\n",
            "368/368 [==============================] - 684s 2s/step - loss: 291624.7812 - val_loss: 306662.8750\n",
            "Epoch 5/5\n",
            "368/368 [==============================] - 686s 2s/step - loss: 275320.1562 - val_loss: 294061.2188\n"
          ]
        }
      ],
      "source": [
        "history=model.fit(x_train,y_train,epochs=5,validation_split=0.2)"
      ]
    },
    {
      "cell_type": "code",
      "execution_count": null,
      "metadata": {
        "id": "WZp_b3_V4M-x"
      },
      "outputs": [],
      "source": [
        "train_pred = model.predict(x_train)\n",
        "test_pred = model.predict(x_test)"
      ]
    },
    {
      "cell_type": "code",
      "execution_count": null,
      "metadata": {
        "id": "ZBxfntua3rEE",
        "outputId": "8c000804-b134-417f-a807-626d37a1813e"
      },
      "outputs": [
        {
          "name": "stdout",
          "output_type": "stream",
          "text": [
            "Train MSE:  269184.8662831763\n",
            "Train MAE:  423.51483510512656\n",
            "Train RMSE:  518.8302865901106\n"
          ]
        }
      ],
      "source": [
        "from sklearn import metrics\n",
        "from sklearn.metrics import mean_squared_error\n",
        "from sklearn.metrics import mean_absolute_error\n",
        "from sklearn.metrics import r2_score\n",
        "\n",
        "mse = mean_squared_error(y_train, train_pred)\n",
        "mae = mean_absolute_error(y_train, train_pred)\n",
        "rmse=np.sqrt(mean_squared_error(y_train, train_pred))\n",
        "print(\"Train MSE: \", mse)\n",
        "print(\"Train MAE: \", mae)\n",
        "print(\"Train RMSE: \", rmse)\n"
      ]
    },
    {
      "cell_type": "code",
      "execution_count": null,
      "metadata": {
        "id": "xIdlv3W_3q_L",
        "outputId": "0c1fc383-2aeb-437b-f2d9-c6971ef1eafc"
      },
      "outputs": [
        {
          "name": "stdout",
          "output_type": "stream",
          "text": [
            "MSE:  287628.30117596855\n",
            "MAE:  444.2881468088284\n",
            "RMSE:  536.3098928567033\n"
          ]
        }
      ],
      "source": [
        "from sklearn.metrics import mean_squared_error, mean_absolute_error, r2_score\n",
        "\n",
        "\n",
        "# Assuming `y_test` and `test_pred` are defined\n",
        "mse = mean_squared_error(y_test, test_pred)\n",
        "mae = mean_absolute_error(y_test, test_pred)\n",
        "rmse = np.sqrt(mean_squared_error(y_test, test_pred))\n",
        "print(\"MSE: \", mse)\n",
        "print(\"MAE: \", mae)\n",
        "print(\"RMSE: \", rmse)\n"
      ]
    },
    {
      "cell_type": "markdown",
      "source": [
        "applying the hyperparameter tunning by using grid search"
      ],
      "metadata": {
        "id": "-AzfU-X7q794"
      }
    },
    {
      "cell_type": "code",
      "execution_count": null,
      "metadata": {
        "id": "NhLeIqOepr1y"
      },
      "outputs": [],
      "source": [
        "import itertools\n",
        "import random\n",
        "\n",
        "def grid_search(param_grid, X_train, y_train, X_test, y_test):\n",
        "    \"\"\"\n",
        "    Performs a grid search over a specified hyperparameter grid.\n",
        "    \n",
        "    Parameters:\n",
        "        param_grid (dict): A dictionary of hyperparameters to search over. The keys should be \n",
        "            strings indicating the hyperparameter names, and the values should be lists \n",
        "            of possible values for each hyperparameter.\n",
        "        X_train (ndarray): An array of training data.\n",
        "        y_train (ndarray): An array of training labels.\n",
        "        X_val (ndarray): An array of validation data.\n",
        "        y_val (ndarray): An array of validation labels.\n",
        "    \n",
        "    Returns:\n",
        "        best_params (dict): A dictionary of the hyperparameters that achieved the highest validation accuracy.\n",
        "        best_acc (float): The validation accuracy achieved by the best set of hyperparameters.\n",
        "    \"\"\"\n",
        "    param_grid = {'hidden_layer_sizes': [(64,),(128)],\n",
        "                  'activation': ['relu', 'tanh'],\n",
        "                  'learning_rate_init': [0.001, 0.01, 0.1],\n",
        "                  'max_iter': [100, 300, 500]}\n",
        "         \n",
        "    # Generate all possible combinations of hyperparameters\n",
        "    hyperparam_values = list(itertools.product(*param_grid.values()))\n",
        "    hyperparam_keys = list(param_grid.keys())\n",
        "\n",
        "    # Initialize variables to keep track of best hyperparameters and validation accuracy\n",
        "    best_params = None\n",
        "    best_acc = 0.0\n",
        "    best_r2_score = 0.70\n",
        "\n",
        "    # Iterate over all hyperparameter combinations\n",
        "    for hyperparams in hyperparam_values:\n",
        "        # Create a dictionary of hyperparameters\n",
        "        hyperparam_dict = dict(zip(hyperparam_keys, hyperparams))\n",
        "\n",
        "        # Train a model with the current hyperparameters\n",
        "        # (this is where you would train your model, e.g. by calling a function)\n",
        "        # Here, we just print the hyperparameters being tested\n",
        "        print('Testing hyperparameters:', hyperparam_dict)\n",
        "\n",
        "        # Compute the validation accuracy\n",
        "        # (this is where you would compute the accuracy of your model on the validation set)\n",
        "        # Here, we just set the accuracy to a random value between 0 and 1\n",
        "        r2_score = random.uniform(0, 1)\n",
        "\n",
        "        # Update best hyperparameters and validation accuracy\n",
        "        if r2_score > best_r2_score:\n",
        "          best_r2_score = r2_score\n",
        "          best_params = hyperparam_dict\n",
        "\n",
        "    return best_params, best_r2_score\n"
      ]
    },
    {
      "cell_type": "code",
      "execution_count": null,
      "metadata": {
        "id": "jgIc5OKMYTsw"
      },
      "outputs": [],
      "source": [
        "param_grid = {'hidden_layer_sizes': [(64,),(128)],\n",
        "                  'activation': ['relu', 'tanh'],\n",
        "                  'learning_rate_init': [0.001, 0.01, 0.1],\n",
        "                  'max_iter': [100, 300, 500]}"
      ]
    },
    {
      "cell_type": "code",
      "execution_count": null,
      "metadata": {
        "id": "zVUbPRpU1R1m",
        "outputId": "62faed2a-190a-48ce-bffd-12f56792721e"
      },
      "outputs": [
        {
          "name": "stdout",
          "output_type": "stream",
          "text": [
            "Testing hyperparameters: {'hidden_layer_sizes': (64,), 'activation': 'relu', 'learning_rate_init': 0.001, 'max_iter': 100}\n",
            "Testing hyperparameters: {'hidden_layer_sizes': (64,), 'activation': 'relu', 'learning_rate_init': 0.001, 'max_iter': 300}\n",
            "Testing hyperparameters: {'hidden_layer_sizes': (64,), 'activation': 'relu', 'learning_rate_init': 0.001, 'max_iter': 500}\n",
            "Testing hyperparameters: {'hidden_layer_sizes': (64,), 'activation': 'relu', 'learning_rate_init': 0.01, 'max_iter': 100}\n",
            "Testing hyperparameters: {'hidden_layer_sizes': (64,), 'activation': 'relu', 'learning_rate_init': 0.01, 'max_iter': 300}\n",
            "Testing hyperparameters: {'hidden_layer_sizes': (64,), 'activation': 'relu', 'learning_rate_init': 0.01, 'max_iter': 500}\n",
            "Testing hyperparameters: {'hidden_layer_sizes': (64,), 'activation': 'relu', 'learning_rate_init': 0.1, 'max_iter': 100}\n",
            "Testing hyperparameters: {'hidden_layer_sizes': (64,), 'activation': 'relu', 'learning_rate_init': 0.1, 'max_iter': 300}\n",
            "Testing hyperparameters: {'hidden_layer_sizes': (64,), 'activation': 'relu', 'learning_rate_init': 0.1, 'max_iter': 500}\n",
            "Testing hyperparameters: {'hidden_layer_sizes': (64,), 'activation': 'tanh', 'learning_rate_init': 0.001, 'max_iter': 100}\n",
            "Testing hyperparameters: {'hidden_layer_sizes': (64,), 'activation': 'tanh', 'learning_rate_init': 0.001, 'max_iter': 300}\n",
            "Testing hyperparameters: {'hidden_layer_sizes': (64,), 'activation': 'tanh', 'learning_rate_init': 0.001, 'max_iter': 500}\n",
            "Testing hyperparameters: {'hidden_layer_sizes': (64,), 'activation': 'tanh', 'learning_rate_init': 0.01, 'max_iter': 100}\n",
            "Testing hyperparameters: {'hidden_layer_sizes': (64,), 'activation': 'tanh', 'learning_rate_init': 0.01, 'max_iter': 300}\n",
            "Testing hyperparameters: {'hidden_layer_sizes': (64,), 'activation': 'tanh', 'learning_rate_init': 0.01, 'max_iter': 500}\n",
            "Testing hyperparameters: {'hidden_layer_sizes': (64,), 'activation': 'tanh', 'learning_rate_init': 0.1, 'max_iter': 100}\n",
            "Testing hyperparameters: {'hidden_layer_sizes': (64,), 'activation': 'tanh', 'learning_rate_init': 0.1, 'max_iter': 300}\n",
            "Testing hyperparameters: {'hidden_layer_sizes': (64,), 'activation': 'tanh', 'learning_rate_init': 0.1, 'max_iter': 500}\n",
            "Testing hyperparameters: {'hidden_layer_sizes': 128, 'activation': 'relu', 'learning_rate_init': 0.001, 'max_iter': 100}\n",
            "Testing hyperparameters: {'hidden_layer_sizes': 128, 'activation': 'relu', 'learning_rate_init': 0.001, 'max_iter': 300}\n",
            "Testing hyperparameters: {'hidden_layer_sizes': 128, 'activation': 'relu', 'learning_rate_init': 0.001, 'max_iter': 500}\n",
            "Testing hyperparameters: {'hidden_layer_sizes': 128, 'activation': 'relu', 'learning_rate_init': 0.01, 'max_iter': 100}\n",
            "Testing hyperparameters: {'hidden_layer_sizes': 128, 'activation': 'relu', 'learning_rate_init': 0.01, 'max_iter': 300}\n",
            "Testing hyperparameters: {'hidden_layer_sizes': 128, 'activation': 'relu', 'learning_rate_init': 0.01, 'max_iter': 500}\n",
            "Testing hyperparameters: {'hidden_layer_sizes': 128, 'activation': 'relu', 'learning_rate_init': 0.1, 'max_iter': 100}\n",
            "Testing hyperparameters: {'hidden_layer_sizes': 128, 'activation': 'relu', 'learning_rate_init': 0.1, 'max_iter': 300}\n",
            "Testing hyperparameters: {'hidden_layer_sizes': 128, 'activation': 'relu', 'learning_rate_init': 0.1, 'max_iter': 500}\n",
            "Testing hyperparameters: {'hidden_layer_sizes': 128, 'activation': 'tanh', 'learning_rate_init': 0.001, 'max_iter': 100}\n",
            "Testing hyperparameters: {'hidden_layer_sizes': 128, 'activation': 'tanh', 'learning_rate_init': 0.001, 'max_iter': 300}\n",
            "Testing hyperparameters: {'hidden_layer_sizes': 128, 'activation': 'tanh', 'learning_rate_init': 0.001, 'max_iter': 500}\n",
            "Testing hyperparameters: {'hidden_layer_sizes': 128, 'activation': 'tanh', 'learning_rate_init': 0.01, 'max_iter': 100}\n",
            "Testing hyperparameters: {'hidden_layer_sizes': 128, 'activation': 'tanh', 'learning_rate_init': 0.01, 'max_iter': 300}\n",
            "Testing hyperparameters: {'hidden_layer_sizes': 128, 'activation': 'tanh', 'learning_rate_init': 0.01, 'max_iter': 500}\n",
            "Testing hyperparameters: {'hidden_layer_sizes': 128, 'activation': 'tanh', 'learning_rate_init': 0.1, 'max_iter': 100}\n",
            "Testing hyperparameters: {'hidden_layer_sizes': 128, 'activation': 'tanh', 'learning_rate_init': 0.1, 'max_iter': 300}\n",
            "Testing hyperparameters: {'hidden_layer_sizes': 128, 'activation': 'tanh', 'learning_rate_init': 0.1, 'max_iter': 500}\n"
          ]
        },
        {
          "data": {
            "text/plain": [
              "({'hidden_layer_sizes': (64,),\n",
              "  'activation': 'tanh',\n",
              "  'learning_rate_init': 0.1,\n",
              "  'max_iter': 100},\n",
              " 0.9787719475024668)"
            ]
          },
          "execution_count": 67,
          "metadata": {},
          "output_type": "execute_result"
        }
      ],
      "source": [
        "grid_search(param_grid, x_train, y_train, x_test, y_test)"
      ]
    },
    {
      "cell_type": "code",
      "execution_count": null,
      "metadata": {
        "id": "o9WmBtK65eba"
      },
      "outputs": [],
      "source": [
        "from sklearn.model_selection import GridSearchCV\n",
        "from sklearn.neural_network import MLPRegressor\n",
        "from sklearn.datasets import make_regression"
      ]
    },
    {
      "cell_type": "code",
      "execution_count": null,
      "metadata": {
        "id": "CvgD5OTc5Ay4"
      },
      "outputs": [],
      "source": [
        "besthp=MLPRegressor(hidden_layer_sizes=(64,), activation='tanh', learning_rate_init=0.1, max_iter=100, random_state=1234)"
      ]
    },
    {
      "cell_type": "code",
      "execution_count": null,
      "metadata": {
        "id": "enTAM0PFoQ73",
        "outputId": "68c72c19-9881-4242-9acc-1f26cef31406"
      },
      "outputs": [
        {
          "name": "stderr",
          "output_type": "stream",
          "text": [
            "/usr/share/anaconda3/lib/python3.7/site-packages/sklearn/neural_network/_multilayer_perceptron.py:617: ConvergenceWarning: Stochastic Optimizer: Maximum iterations (100) reached and the optimization hasn't converged yet.\n",
            "  % self.max_iter, ConvergenceWarning)\n"
          ]
        },
        {
          "data": {
            "text/plain": [
              "MLPRegressor(activation='tanh', hidden_layer_sizes=(64,),\n",
              "             learning_rate_init=0.1, max_iter=100, random_state=1234)"
            ]
          },
          "execution_count": 97,
          "metadata": {},
          "output_type": "execute_result"
        }
      ],
      "source": [
        "besthp.fit(x_train,y_train.ravel())"
      ]
    },
    {
      "cell_type": "code",
      "execution_count": null,
      "metadata": {
        "id": "dGPuynIK5AlL"
      },
      "outputs": [],
      "source": [
        "train_pred_bhp = besthp.predict(x_train)\n",
        "test_pred_bhp = besthp.predict(x_test)"
      ]
    },
    {
      "cell_type": "code",
      "execution_count": null,
      "metadata": {
        "id": "jgmu25kr5Agq"
      },
      "outputs": [],
      "source": [
        "from sklearn import metrics\n",
        "from sklearn.metrics import mean_squared_error\n",
        "from sklearn.metrics import mean_absolute_error\n",
        "from sklearn.metrics import r2_score"
      ]
    },
    {
      "cell_type": "code",
      "execution_count": null,
      "metadata": {
        "id": "jgjxlGeV5Acr",
        "outputId": "e8af32f3-fc2f-444e-b249-a8e10af114ff"
      },
      "outputs": [
        {
          "name": "stdout",
          "output_type": "stream",
          "text": [
            "Train MSE:  970605865599.9062\n",
            "Train MAE:  985193.3138221686\n",
            "Train RMSE:  985193.3138221687\n"
          ]
        }
      ],
      "source": [
        "mse = mean_squared_error(y_train, train_pred_bhp)\n",
        "mae = mean_absolute_error(y_train, train_pred_bhp)\n",
        "rmse=np.sqrt(mean_squared_error(y_train, train_pred_bhp))\n",
        "print(\"Train MSE: \", mse)\n",
        "print(\"Train MAE: \", mae)\n",
        "print(\"Train RMSE: \", rmse)\n"
      ]
    },
    {
      "cell_type": "code",
      "execution_count": null,
      "metadata": {
        "id": "TwKHr1cs5ANm",
        "outputId": "0a50bf45-bbc5-428d-d87c-7492bcbd0966"
      },
      "outputs": [
        {
          "name": "stdout",
          "output_type": "stream",
          "text": [
            "MSE:  970605865599.9062\n",
            "MAE:  985193.3138221687\n",
            "RMSE:  985193.3138221687\n"
          ]
        }
      ],
      "source": [
        "from sklearn.metrics import mean_squared_error, mean_absolute_error, r2_score\n",
        "mse = mean_squared_error(y_test, test_pred_bhp)\n",
        "mae = mean_absolute_error(y_test, test_pred_bhp)\n",
        "rmse = np.sqrt(mean_squared_error(y_test, test_pred_bhp))\n",
        "print(\"MSE: \", mse)\n",
        "print(\"MAE: \", mae)\n",
        "print(\"RMSE: \", rmse)\n"
      ]
    },
    {
      "cell_type": "code",
      "execution_count": null,
      "metadata": {
        "id": "SNuOCEQa7nhT",
        "outputId": "f8a2013c-5519-4192-e646-21a001d267f5"
      },
      "outputs": [
        {
          "data": {
            "text/plain": [
              "array([[0.000e+00, 0.000e+00, 0.000e+00, ..., 2.017e+03, 3.000e+00,\n",
              "        9.000e+00],\n",
              "       [0.000e+00, 0.000e+00, 0.000e+00, ..., 2.018e+03, 2.000e+00,\n",
              "        2.400e+01],\n",
              "       [0.000e+00, 0.000e+00, 0.000e+00, ..., 2.018e+03, 2.000e+00,\n",
              "        1.700e+01],\n",
              "       ...,\n",
              "       [0.000e+00, 0.000e+00, 0.000e+00, ..., 2.017e+03, 6.000e+00,\n",
              "        1.700e+01],\n",
              "       [0.000e+00, 0.000e+00, 0.000e+00, ..., 2.017e+03, 5.000e+00,\n",
              "        2.700e+01],\n",
              "       [0.000e+00, 0.000e+00, 0.000e+00, ..., 2.017e+03, 3.000e+00,\n",
              "        9.000e+00]])"
            ]
          },
          "execution_count": 109,
          "metadata": {},
          "output_type": "execute_result"
        }
      ],
      "source": [
        "x_test"
      ]
    },
    {
      "cell_type": "code",
      "execution_count": null,
      "metadata": {
        "id": "z3NdoZiq-lt_"
      },
      "outputs": [],
      "source": [
        "x=x_test"
      ]
    },
    {
      "cell_type": "code",
      "execution_count": null,
      "metadata": {
        "id": "v410y-se70B5"
      },
      "outputs": [],
      "source": [
        "pred_test=x"
      ]
    },
    {
      "cell_type": "code",
      "execution_count": null,
      "metadata": {
        "id": "yDhKxs0l66qU"
      },
      "outputs": [],
      "source": [
        "test_predictions=besthp.predict(pred_test)"
      ]
    },
    {
      "cell_type": "code",
      "execution_count": null,
      "metadata": {
        "id": "ZPv3GJr_66ld",
        "outputId": "c30c8ed3-aeda-4e6f-c41c-b0886c336abb"
      },
      "outputs": [
        {
          "data": {
            "text/plain": [
              "array([47836.980392, 47836.980392, 47836.980392, ..., 47836.980392,\n",
              "       47836.980392, 47836.980392])"
            ]
          },
          "execution_count": 106,
          "metadata": {},
          "output_type": "execute_result"
        }
      ],
      "source": [
        "\n",
        "test_predictions"
      ]
    },
    {
      "cell_type": "code",
      "execution_count": null,
      "metadata": {
        "id": "SckaXdia66cU"
      },
      "outputs": [],
      "source": []
    },
    {
      "cell_type": "code",
      "execution_count": null,
      "metadata": {
        "id": "U8rwt25A66Q1"
      },
      "outputs": [],
      "source": []
    },
    {
      "cell_type": "markdown",
      "metadata": {
        "id": "Do1Vr0YkwFYy"
      },
      "source": [
        "# 2 Implementing a Activation Function\n",
        "We will use relu activation function because it outputs the values from  0 to 1 so its a good choice for a regression problem"
      ]
    },
    {
      "cell_type": "code",
      "execution_count": null,
      "metadata": {
        "id": "srZoxiyS93ox"
      },
      "outputs": [],
      "source": [
        "def relu(z):\n",
        "    return np.maximum(0, z)"
      ]
    },
    {
      "cell_type": "markdown",
      "metadata": {
        "id": "QjQeIDoCpy-_"
      },
      "source": [
        "**3 Define Neural Network Architecture\n",
        "Create a model with three layers - Input, Hidden, Output.**"
      ]
    },
    {
      "cell_type": "code",
      "execution_count": null,
      "metadata": {
        "id": "dyub7p1Upxhf"
      },
      "outputs": [],
      "source": [
        "def network_architecture(X, Y):\n",
        "    # nodes in input layer\n",
        "    n_x = X.shape[1]\n",
        "    # nodes in hidden layer\n",
        "    n_h = 67          \n",
        "    # nodes in output layer\n",
        "    n_y = 1\n",
        "    return (n_x, n_h, n_y)"
      ]
    },
    {
      "cell_type": "code",
      "execution_count": null,
      "metadata": {
        "id": "qCxVrJze09BB",
        "outputId": "8cba66c8-79a1-486f-91b5-2cb45c487eb5"
      },
      "outputs": [
        {
          "data": {
            "text/plain": [
              "(21405, 67, 1)"
            ]
          },
          "execution_count": 82,
          "metadata": {},
          "output_type": "execute_result"
        }
      ],
      "source": [
        "network_architecture(X, Y)"
      ]
    },
    {
      "cell_type": "markdown",
      "metadata": {
        "id": "KAbxPf_Btghw"
      },
      "source": [
        "# 4 Define Neural Network Parameters\n",
        "Neural Network parameters are weights and bias which we need to initialze with zero values. The first layer only contains inputs so there are no weights and bias, but the hidden layer and the output layer have a weight and bias term. (W1, b1 and W2, b2)"
      ]
    },
    {
      "cell_type": "code",
      "execution_count": null,
      "metadata": {
        "id": "0sroTA7_tZKz"
      },
      "outputs": [],
      "source": [
        "def define_network_parameters(n_x, n_h, n_y):\n",
        "    W1 = np.random.randn(n_h,n_x) * 0.01 # random initialization\n",
        "    b1 = np.zeros((n_h, 1)) # zero initialization\n",
        "    W2 = np.random.randn(n_y,n_h) * 0.01 \n",
        "    b2 = np.zeros((n_y, 1)) \n",
        "    return {\"W1\": W1, \"b1\": b1, \"W2\": W2, \"b2\": b2}"
      ]
    },
    {
      "cell_type": "code",
      "execution_count": null,
      "metadata": {
        "id": "lqVGaYU_0t8g"
      },
      "outputs": [],
      "source": [
        "# q=define_network_parameters(n_x, n_h, n_y)"
      ]
    },
    {
      "cell_type": "markdown",
      "metadata": {
        "id": "9yAUq07qvbG1"
      },
      "source": [
        "# 5 Implement Forward Propagation\n",
        "The hidden layer and output layer will compute the activations using sigmoid activation function and will pass it in the forward direction. While computing this activation, the input is multiplied with weight and added with bias before passing it to the function."
      ]
    },
    {
      "cell_type": "code",
      "execution_count": null,
      "metadata": {
        "id": "efA98ZvvveGU"
      },
      "outputs": [],
      "source": [
        "def forward_propagation(X, params):\n",
        "    Z1 = np.dot(params['W1'], X)+params['b1']\n",
        "    A1 = relu(Z1)\n",
        "\n",
        "    Z2 = np.dot(params['W2'], A1)+params['b2']\n",
        "    A2 = relu(Z2)\n",
        "    return {\"Z1\": Z1, \"A1\": A1, \"Z2\": Z2, \"A2\": A2}   \n",
        "    "
      ]
    },
    {
      "cell_type": "markdown",
      "metadata": {
        "id": "Z1yRgE0IxSlT"
      },
      "source": [
        "# 6 Compute the Network Error\n",
        "To compute the cost, one straight forward approach is to compute the absolute error among prediction and actual value. \n",
        "\n",
        "\n",
        "**Mean Absolute Error** (MAE) is the mean of the absolute value of the errors:\n",
        "\n",
        "$$\\frac 1n\\sum_{i=1}^n|y_i-\\hat{y}_i|$$"
      ]
    },
    {
      "cell_type": "code",
      "execution_count": null,
      "metadata": {
        "id": "f0ErEl7ex1Ug"
      },
      "outputs": [],
      "source": [
        "def mean_absolute_error(Y, A2):\n",
        "                    return np.mean(np.abs(Y - A2))"
      ]
    },
    {
      "cell_type": "markdown",
      "metadata": {
        "id": "odDKOgPaz64T"
      },
      "source": [
        "# 7 Implement Backward Propagation\n",
        "In backward propagation function, the error is passed backward to previous layers and the derivatives of weights and bias are computed. The weights and bias are then updated using the derivatives."
      ]
    },
    {
      "cell_type": "code",
      "execution_count": null,
      "metadata": {
        "id": "tmo1IOFpx1IL"
      },
      "outputs": [],
      "source": [
        "def backward_propagation(params, activations, X, Y):\n",
        "    m = X.shape[1]\n",
        "    \n",
        "    # output layer\n",
        "    dZ2 = activations['A2'] - Y # compute the error derivative \n",
        "    dW2 = np.dot(dZ2, activations['A1'].T) / m # compute the weight derivative \n",
        "    db2 = np.sum(dZ2, axis=1, keepdims=True)/m # compute the bias derivative\n",
        "    \n",
        "    # hidden layer\n",
        "    dZ1 = np.dot(params['W2'].T, dZ2)*(1-np.power(activations['A1'], 2))\n",
        "    dW1 = np.dot(dZ1, X.T)/m\n",
        "    db1 = np.sum(dZ1, axis=1,keepdims=True)/m\n",
        "    \n",
        "    return {\"dW1\": dW1, \"db1\": db1, \"dW2\": dW2, \"db2\": db2}\n",
        "\n",
        "def update_parameters(params, derivatives, alpha = 1.2):\n",
        "    # alpha is the model's learning rate \n",
        "    \n",
        "    params['W1'] = params['W1'] - alpha * derivatives['dW1']\n",
        "    params['b1'] = params['b1'] - alpha * derivatives['db1']\n",
        "    params['W2'] = params['W2'] - alpha * derivatives['dW2']\n",
        "    params['b2'] = params['b2'] - alpha * derivatives['db2']\n",
        "    return params"
      ]
    },
    {
      "cell_type": "markdown",
      "metadata": {
        "id": "fcePZpZ80xkS"
      },
      "source": [
        "# 8 Compile and Train the Model\n",
        "Create a function which compiles all the key functions and creates a neural network model."
      ]
    },
    {
      "cell_type": "code",
      "execution_count": null,
      "metadata": {
        "id": "RYtxOcMv0p1t"
      },
      "outputs": [],
      "source": [
        "def neural_network(X, Y, n_h, num_iterations=100):\n",
        "    n_x = network_architecture(X, Y)[0]\n",
        "    n_y = network_architecture(X, Y)[2]\n",
        "    \n",
        "    params = define_network_parameters(n_x, n_h, n_y)\n",
        "    for i in range(0, num_iterations):\n",
        "        results = forward_propagation(X, params)\n",
        "        error = mean_absolute_error(results['A2'], Y)\n",
        "        print(error)\n",
        "        derivatives = backward_propagation(params, results, X, Y) \n",
        "        params = update_parameters(params, derivatives, alpha=1.2) \n",
        "        #print(params)\n",
        "    return params"
      ]
    },
    {
      "cell_type": "code",
      "execution_count": null,
      "metadata": {
        "id": "y9lNevzh0jPj"
      },
      "outputs": [],
      "source": [
        "x = X.reshape(X.shape[1], X.shape[0])\n",
        "y = Y.values.reshape(Y.shape[0],1)"
      ]
    },
    {
      "cell_type": "code",
      "execution_count": null,
      "metadata": {
        "id": "ozGGflqa8l2h",
        "outputId": "d855f30b-d128-4981-f821-45292af9aa6f"
      },
      "outputs": [
        {
          "data": {
            "text/plain": [
              "21405"
            ]
          },
          "execution_count": 90,
          "metadata": {},
          "output_type": "execute_result"
        }
      ],
      "source": [
        "X.shape[1]"
      ]
    },
    {
      "cell_type": "code",
      "execution_count": null,
      "metadata": {
        "id": "blvjIIy78qM5",
        "outputId": "b262ec73-cf06-4152-e17f-9b66fa79af2f"
      },
      "outputs": [
        {
          "data": {
            "text/plain": [
              "14700"
            ]
          },
          "execution_count": 91,
          "metadata": {},
          "output_type": "execute_result"
        }
      ],
      "source": [
        "X.shape[0]"
      ]
    },
    {
      "cell_type": "code",
      "execution_count": null,
      "metadata": {
        "id": "1JevKkdtE8Ln",
        "outputId": "0e1d7e9f-bd68-4ef1-9445-aba2407a6920"
      },
      "outputs": [
        {
          "data": {
            "text/plain": [
              "<function ndarray.reshape>"
            ]
          },
          "execution_count": 92,
          "metadata": {},
          "output_type": "execute_result"
        }
      ],
      "source": [
        "x.reshape"
      ]
    },
    {
      "cell_type": "code",
      "execution_count": null,
      "metadata": {
        "id": "9F6E4UDW2rpw",
        "outputId": "29200870-ff24-4edc-c60d-8901879ae000"
      },
      "outputs": [
        {
          "data": {
            "text/plain": [
              "(14700, 1)"
            ]
          },
          "execution_count": 93,
          "metadata": {},
          "output_type": "execute_result"
        }
      ],
      "source": [
        "y.shape"
      ]
    },
    {
      "cell_type": "code",
      "execution_count": null,
      "metadata": {
        "id": "cVJlKFtLFDIk"
      },
      "outputs": [],
      "source": [
        "model = neural_network(x, y, n_h=1, num_iterations=5)"
      ]
    },
    {
      "cell_type": "code",
      "execution_count": null,
      "metadata": {
        "id": "y-xI6_c593pE"
      },
      "outputs": [],
      "source": [
        "def predict(parameters, X):\n",
        "    results = forward_propagation(X, parameters)\n",
        "    print (results['A2'][0])\n",
        "    predictions = np.around(results['A2'])\n",
        "    print(predictions)\n",
        "    return predictions\n"
      ]
    },
    {
      "cell_type": "code",
      "execution_count": null,
      "metadata": {
        "id": "SZOWCO2-93pE"
      },
      "outputs": [],
      "source": [
        "X.shape"
      ]
    },
    {
      "cell_type": "code",
      "execution_count": null,
      "metadata": {
        "id": "RL6oFpYP93pH"
      },
      "outputs": [],
      "source": [
        "  predictions = predict(model, X.T)\n",
        " r_squared_score = (np.dot(X.T, predictions) + np.dot(1-X.T, 1-predictions)) / float(y.size) * 100\n"
      ]
    },
    {
      "cell_type": "code",
      "execution_count": null,
      "metadata": {
        "id": "eWj-tPbZ93pJ"
      },
      "outputs": [],
      "source": [
        "print('R^2_score:' , r_squared_score)"
      ]
    },
    {
      "cell_type": "code",
      "execution_count": null,
      "metadata": {
        "id": "iimiz8uW93pK"
      },
      "outputs": [],
      "source": [
        "te=test.reshape(test.shape[0],test.shape[1])\n",
        "te.shape\n",
        "                  "
      ]
    },
    {
      "cell_type": "code",
      "execution_count": null,
      "metadata": {
        "id": "xHbXkx7v93pL"
      },
      "outputs": [],
      "source": [
        "predictions = predict(model, te.T)\n",
        "r_squared_score = (np.dot(y.T, predictions) + np.dot(1-y.T, 1-predictions)) / float(y.size) * 100\n"
      ]
    },
    {
      "cell_type": "code",
      "execution_count": null,
      "metadata": {
        "id": "9zvpaUzl93pL"
      },
      "outputs": [],
      "source": [
        "print('R^2_score:' , r_squared_score)"
      ]
    },
    {
      "cell_type": "code",
      "execution_count": null,
      "metadata": {
        "id": "yaHL6l8b93pO"
      },
      "outputs": [],
      "source": [
        "train_pred_bhp = besthp.predict(x_train)\n",
        "test_pred_bhp = besthp.predict(x_test) "
      ]
    },
    {
      "cell_type": "code",
      "execution_count": null,
      "metadata": {
        "id": "Lyi_PccECF7T"
      },
      "outputs": [],
      "source": [
        "from sklearn import metrics\n",
        "from sklearn.metrics import mean_squared_error\n",
        "from sklearn.metrics import mean_absolute_error\n",
        "from sklearn.metrics import r2_score"
      ]
    },
    {
      "cell_type": "code",
      "execution_count": null,
      "metadata": {
        "id": "ix_EHd0qCfSP"
      },
      "outputs": [],
      "source": [
        "mse = mean_squared_error(y_train, train_pred_bhp)\n",
        "mae = mean_absolute_error(y_train, train_pred_bhp)\n",
        "rmse=np.sqrt(mean_squared_error(y_train, train_pred_bhp))\n",
        "r2_score=r2_score(y_train, train_pred_bhp)\n",
        "print(\"Train MSE: \", mse)\n",
        "print(\"Train MAE: \", mae)\n",
        "print(\"Train RMSE: \", rmse)\n",
        "print(\"Train r2_score: \", r2_score)"
      ]
    },
    {
      "cell_type": "code",
      "execution_count": null,
      "metadata": {
        "id": "ETCJCDvyCiNd"
      },
      "outputs": [],
      "source": [
        "from sklearn.metrics import mean_squared_error, mean_absolute_error, r2_score\n",
        "mse = mean_squared_error(y_test, test_pred_bhp)\n",
        "mae = mean_absolute_error(y_test, test_pred_bhp)\n",
        "rmse = np.sqrt(mean_squared_error(y_test, test_pred_bhp))\n",
        "r2 = r2_score(y_test, test_pred_bhp)\n",
        "\n",
        "print(\"MSE: \", mse)\n",
        "print(\"MAE: \", mae)\n",
        "print(\"RMSE: \", rmse)\n",
        "print(\"R2 Score: \", r2)"
      ]
    },
    {
      "cell_type": "code",
      "execution_count": null,
      "metadata": {
        "id": "TpMmp7zzCmYJ"
      },
      "outputs": [],
      "source": []
    }
  ],
  "metadata": {
    "colab": {
      "provenance": []
    },
    "kernelspec": {
      "display_name": "Python 3",
      "language": "python",
      "name": "python3"
    },
    "language_info": {
      "codemirror_mode": {
        "name": "ipython",
        "version": 3
      },
      "file_extension": ".py",
      "mimetype": "text/x-python",
      "name": "python",
      "nbconvert_exporter": "python",
      "pygments_lexer": "ipython3",
      "version": "3.7.6"
    }
  },
  "nbformat": 4,
  "nbformat_minor": 0
}